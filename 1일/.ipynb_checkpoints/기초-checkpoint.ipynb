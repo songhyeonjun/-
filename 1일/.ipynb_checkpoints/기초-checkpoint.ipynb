{
 "cells": [
  {
   "cell_type": "markdown",
   "id": "e8fe018d",
   "metadata": {},
   "source": [
    "## 파이썬이란\n",
    "+ 간결한 코드, 코드의 재사용, 쉬운 유지보스, 객체지향 \n",
    "+ 인터프리터 방식 언어 : 코드를 한 줄씩 읽어 내려가며 실행하는 프로그램\n",
    "+ 다른 언어로 만든 프로그램과 결합하여 사용 가능\n",
    "+ 복잡한 수치와 큰 데이터를 다루는 다양한 연산 지원(Numpy, Pandas, SciPy 등)\n",
    "+ 다양한 기능을 지원하는 패키지 제공\n",
    "+ 손쉬운 다운로드방법(pip)\n",
    "+ 기계학습(scikit-learn), 딥러닝(TensolFlow, PyTorch), 얼굴인식(OpenCV), 웹 서버(Django, Flask), 데이터 시각화(matplotlib, esaborn, foliume), 웹 데이터 수집 및 처리(request, beautifulsoup, selenium)"
   ]
  },
  {
   "cell_type": "markdown",
   "id": "61d6d2eb",
   "metadata": {},
   "source": [
    "## 컨테이너 타입 : 여러 개의 값을 다루는 자료형\n",
    "+ 리스트(list) : 데이터를 연속적으로 관리, 값을 바꿀 수 있음\n",
    "+ 튜플(tuple) : 데이터를 연속적으로 관리, 값을 바꿀 수 없음\n",
    "+ 세트(set) : 집합과 같은 속성\n",
    "+ 딕셔너리 : key-value 쌍"
   ]
  },
  {
   "cell_type": "markdown",
   "id": "0b3cc857",
   "metadata": {},
   "source": [
    "## NumPy\n",
    "+ 다차원 배열의 연산 기능을 모아 놓은 꾸러미\n",
    "+ 수치 연산을 위한 다양한 기능 제공\n",
    "### NumPy의 배연연산 특징\n",
    " - 적은 머모리 : 데이터를 연속된 메모리 블록에 저장\n",
    " - 빠른 처리 : 내부 연산이 C언어로 작성되어 메모리를 직접 조작"
   ]
  },
  {
   "cell_type": "code",
   "execution_count": null,
   "id": "9b9df56c",
   "metadata": {},
   "outputs": [],
   "source": []
  }
 ],
 "metadata": {
  "kernelspec": {
   "display_name": "Python 3 (ipykernel)",
   "language": "python",
   "name": "python3"
  },
  "language_info": {
   "codemirror_mode": {
    "name": "ipython",
    "version": 3
   },
   "file_extension": ".py",
   "mimetype": "text/x-python",
   "name": "python",
   "nbconvert_exporter": "python",
   "pygments_lexer": "ipython3",
   "version": "3.9.12"
  }
 },
 "nbformat": 4,
 "nbformat_minor": 5
}
