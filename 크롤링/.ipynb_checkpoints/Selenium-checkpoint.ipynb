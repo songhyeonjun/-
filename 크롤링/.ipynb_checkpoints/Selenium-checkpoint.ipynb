{
 "cells": [
  {
   "cell_type": "markdown",
   "id": "ca0830ba",
   "metadata": {},
   "source": [
    "# 셀레니움 설치"
   ]
  },
  {
   "cell_type": "code",
   "execution_count": 2,
   "id": "7c850f08",
   "metadata": {},
   "outputs": [
    {
     "name": "stdout",
     "output_type": "stream",
     "text": [
      "Requirement already satisfied: Selenium in c:\\users\\user\\anaconda3\\lib\\site-packages (4.3.0)\n",
      "Requirement already satisfied: urllib3[secure,socks]~=1.26 in c:\\users\\user\\anaconda3\\lib\\site-packages (from Selenium) (1.26.9)\n",
      "Requirement already satisfied: trio-websocket~=0.9 in c:\\users\\user\\anaconda3\\lib\\site-packages (from Selenium) (0.9.2)\n",
      "Requirement already satisfied: trio~=0.17 in c:\\users\\user\\anaconda3\\lib\\site-packages (from Selenium) (0.21.0)\n",
      "Requirement already satisfied: sortedcontainers in c:\\users\\user\\anaconda3\\lib\\site-packages (from trio~=0.17->Selenium) (2.4.0)\n",
      "Requirement already satisfied: outcome in c:\\users\\user\\anaconda3\\lib\\site-packages (from trio~=0.17->Selenium) (1.2.0)\n",
      "Requirement already satisfied: sniffio in c:\\users\\user\\anaconda3\\lib\\site-packages (from trio~=0.17->Selenium) (1.2.0)\n",
      "Requirement already satisfied: cffi>=1.14 in c:\\users\\user\\anaconda3\\lib\\site-packages (from trio~=0.17->Selenium) (1.15.0)\n",
      "Requirement already satisfied: async-generator>=1.9 in c:\\users\\user\\anaconda3\\lib\\site-packages (from trio~=0.17->Selenium) (1.10)\n",
      "Requirement already satisfied: attrs>=19.2.0 in c:\\users\\user\\anaconda3\\lib\\site-packages (from trio~=0.17->Selenium) (21.4.0)\n",
      "Requirement already satisfied: idna in c:\\users\\user\\anaconda3\\lib\\site-packages (from trio~=0.17->Selenium) (3.3)\n",
      "Requirement already satisfied: pycparser in c:\\users\\user\\anaconda3\\lib\\site-packages (from cffi>=1.14->trio~=0.17->Selenium) (2.21)\n",
      "Requirement already satisfied: wsproto>=0.14 in c:\\users\\user\\anaconda3\\lib\\site-packages (from trio-websocket~=0.9->Selenium) (1.1.0)\n",
      "Requirement already satisfied: PySocks!=1.5.7,<2.0,>=1.5.6 in c:\\users\\user\\anaconda3\\lib\\site-packages (from urllib3[secure,socks]~=1.26->Selenium) (1.7.1)\n",
      "Requirement already satisfied: pyOpenSSL>=0.14 in c:\\users\\user\\anaconda3\\lib\\site-packages (from urllib3[secure,socks]~=1.26->Selenium) (21.0.0)\n",
      "Requirement already satisfied: cryptography>=1.3.4 in c:\\users\\user\\anaconda3\\lib\\site-packages (from urllib3[secure,socks]~=1.26->Selenium) (3.4.8)\n",
      "Requirement already satisfied: certifi in c:\\users\\user\\anaconda3\\lib\\site-packages (from urllib3[secure,socks]~=1.26->Selenium) (2021.10.8)\n",
      "Requirement already satisfied: six>=1.5.2 in c:\\users\\user\\anaconda3\\lib\\site-packages (from pyOpenSSL>=0.14->urllib3[secure,socks]~=1.26->Selenium) (1.16.0)\n",
      "Requirement already satisfied: h11<1,>=0.9.0 in c:\\users\\user\\anaconda3\\lib\\site-packages (from wsproto>=0.14->trio-websocket~=0.9->Selenium) (0.13.0)\n"
     ]
    }
   ],
   "source": [
    "!pip install Selenium"
   ]
  },
  {
   "cell_type": "markdown",
   "id": "b002cbcf",
   "metadata": {},
   "source": [
    "# Webdriver 로드 및 브라우저 기동"
   ]
  },
  {
   "cell_type": "code",
   "execution_count": 7,
   "id": "45d7c7d3",
   "metadata": {},
   "outputs": [],
   "source": [
    "from selenium.webdriver import Chrome\n",
    "import time\n",
    "import sqlite3\n",
    "from pandas.io import sql\n",
    "import os\n",
    "import pandas as pd"
   ]
  },
  {
   "cell_type": "code",
   "execution_count": 45,
   "id": "186f6586",
   "metadata": {},
   "outputs": [],
   "source": [
    "from selenium import webdriver\n",
    "\n",
    "options = webdriver.ChromeOptions()\n",
    "options.add_argument(\"--start-maximized\");\n",
    "\n",
    "browser = webdriver.Chrome('chromedriver', options=options)"
   ]
  },
  {
   "cell_type": "markdown",
   "id": "2c88bada",
   "metadata": {},
   "source": [
    "# 기동된 브라우저를 통한 URL 접속"
   ]
  },
  {
   "cell_type": "code",
   "execution_count": 9,
   "id": "ad27543d",
   "metadata": {},
   "outputs": [],
   "source": [
    "browser.get('https://www.data.go.kr/')\n",
    "browser.implicitly_wait(5)"
   ]
  },
  {
   "cell_type": "code",
   "execution_count": 12,
   "id": "c9662ef8",
   "metadata": {},
   "outputs": [],
   "source": [
    "browser.find_element(\"xpath\", '//*[@id=\"header\"]/div/div/div/div[2]/div/a[1]').click()\n",
    "browser.implicitly_wait(5)"
   ]
  },
  {
   "cell_type": "markdown",
   "id": "7565900e",
   "metadata": {},
   "source": [
    "# ID / Password 입력 및 로그인"
   ]
  },
  {
   "cell_type": "code",
   "execution_count": 17,
   "id": "c708a77c",
   "metadata": {},
   "outputs": [],
   "source": [
    "browser.find_element('xpath', '//*[@id=\"mberId\"]').send_keys('사용자 ID')"
   ]
  },
  {
   "cell_type": "code",
   "execution_count": 18,
   "id": "68bc156f",
   "metadata": {},
   "outputs": [],
   "source": [
    "browser.find_element('xpath', '//*[@id=\"pswrd\"]').send_keys('사용자 PW')"
   ]
  },
  {
   "cell_type": "code",
   "execution_count": 19,
   "id": "36d7711c",
   "metadata": {},
   "outputs": [],
   "source": [
    "browser.find_element('xpath', '//*[@id=\"loginVo\"]/div[2]/div[2]/div[2]/div/div[1]/button').click()\n",
    "browser.implicitly_wait(5)"
   ]
  },
  {
   "cell_type": "markdown",
   "id": "b6189191",
   "metadata": {},
   "source": [
    "# 정보 공유 링크 클릭"
   ]
  },
  {
   "cell_type": "code",
   "execution_count": 20,
   "id": "7e911d05",
   "metadata": {},
   "outputs": [],
   "source": [
    "browser.find_element('xpath', '//*[@id=\"M000400_pc\"]/a').click()"
   ]
  },
  {
   "cell_type": "markdown",
   "id": "f0388d10",
   "metadata": {},
   "source": [
    "# 자료실 링크 클릭"
   ]
  },
  {
   "cell_type": "code",
   "execution_count": 21,
   "id": "10659ecd",
   "metadata": {},
   "outputs": [],
   "source": [
    "browser.find_element('xpath', '//*[@id=\"M000402_pc\"]/a').click()"
   ]
  },
  {
   "cell_type": "markdown",
   "id": "feec017b",
   "metadata": {},
   "source": [
    "# 자료실 데이터 추출 및 저장"
   ]
  },
  {
   "cell_type": "code",
   "execution_count": 38,
   "id": "e3b06d16",
   "metadata": {},
   "outputs": [],
   "source": [
    "def db_save(ARTICLE_LIST):\n",
    "    with sqlite3.connect(os.path.join('.','sqliteDB')) as con: # sqlite DB 파일이 존재하지 않는 경우 파일생성\n",
    "        try:\n",
    "            ARTICLE_LIST.to_sql(name = 'ARTICLE_LIST', con = con, index = False, if_exists='append') \n",
    "            #if_exists : {'fail', 'replace', 'append'} default : fail\n",
    "        except Exception as e:\n",
    "            print(str(e))\n",
    "        print(len(ARTICLE_LIST), '건 저장완료..')"
   ]
  },
  {
   "cell_type": "code",
   "execution_count": 25,
   "id": "0094e4ef",
   "metadata": {},
   "outputs": [
    {
     "name": "stdout",
     "output_type": "stream",
     "text": [
      "10 건 저장완료..\n"
     ]
    }
   ],
   "source": [
    "trs = browser.find_elements('xpath', '//*[@id=\"searchVO\"]/div[5]/table/tbody/tr')\n",
    "df_list = []\n",
    "for tr in trs:\n",
    "    df = pd.DataFrame({\n",
    "            'NO': [tr.find_element('xpath', 'td[1]').text],\n",
    "            'TITLE': [tr.find_element('xpath', 'td[2]').text],\n",
    "            'IQRY': [tr.find_element('xpath', 'td[3]').text],\n",
    "            'REGDT': [tr.find_element('xpath', 'td[4]').text],\n",
    "            'CHGDT': [tr.find_element('xpath', 'td[5]').text],\n",
    "        })\n",
    "    df_list.append(df)\n",
    "    \n",
    "ARTICLE_LIST = pd.concat(df_list)\n",
    "db_save(ARTICLE_LIST)"
   ]
  },
  {
   "cell_type": "markdown",
   "id": "10f8c548",
   "metadata": {},
   "source": [
    "# 자료실 글목록 상세보기 클릭"
   ]
  },
  {
   "cell_type": "code",
   "execution_count": 26,
   "id": "9f2d9fa3",
   "metadata": {},
   "outputs": [],
   "source": [
    "browser.find_element('xpath', '//*[@id=\"searchVO\"]/div[5]/table/tbody/tr[1]/td[2]/a').click()\n",
    "browser.implicitly_wait(3)"
   ]
  },
  {
   "cell_type": "markdown",
   "id": "47efa8d2",
   "metadata": {},
   "source": [
    "# 상세보기 첨부파일 다운로드 및 브라우저 종료"
   ]
  },
  {
   "cell_type": "code",
   "execution_count": 27,
   "id": "314f9722",
   "metadata": {},
   "outputs": [],
   "source": [
    "browser.find_element('xpath', '//*[@id=\"recsroomDetail\"]/div[2]/div[4]/div/a').click()\n",
    "time.sleep(10)"
   ]
  },
  {
   "cell_type": "code",
   "execution_count": 28,
   "id": "91a97e7c",
   "metadata": {},
   "outputs": [],
   "source": [
    "browser.quit()"
   ]
  },
  {
   "cell_type": "code",
   "execution_count": null,
   "id": "9b142e4b",
   "metadata": {},
   "outputs": [],
   "source": []
  },
  {
   "cell_type": "code",
   "execution_count": null,
   "id": "10edf9bf",
   "metadata": {},
   "outputs": [],
   "source": []
  },
  {
   "cell_type": "code",
   "execution_count": null,
   "id": "dfdfeab5",
   "metadata": {},
   "outputs": [],
   "source": []
  },
  {
   "cell_type": "markdown",
   "id": "6662129a",
   "metadata": {},
   "source": [
    "# 브라우저를 기동하지 않고 background 작업 수행\n",
    "## headless 기능 이용"
   ]
  },
  {
   "cell_type": "code",
   "execution_count": 56,
   "id": "21c385b3",
   "metadata": {},
   "outputs": [],
   "source": [
    "from selenium import webdriver\n",
    "\n",
    "options = webdriver.ChromeOptions()\n",
    "options.add_argument('--headless')\n",
    "options.add_argument('--disable-gpu')\n",
    "options.add_argument('--window-size=1280x1024')\n",
    "\n",
    "browser = webdriver.Chrome('chromedriver', options=options)"
   ]
  },
  {
   "cell_type": "code",
   "execution_count": 57,
   "id": "4b8c061e",
   "metadata": {},
   "outputs": [],
   "source": [
    "browser.get('https://www.data.go.kr/')\n",
    "browser.implicitly_wait(5)"
   ]
  },
  {
   "cell_type": "code",
   "execution_count": 58,
   "id": "38154c1d",
   "metadata": {},
   "outputs": [],
   "source": [
    "browser.find_element('xpath', '//*[@id=\"header\"]/div/div/div/div[2]/div/a[1]').click()\n",
    "browser.implicitly_wait(5)"
   ]
  },
  {
   "cell_type": "code",
   "execution_count": 59,
   "id": "6477cb80",
   "metadata": {},
   "outputs": [],
   "source": [
    "browser.find_element('xpath', '//*[@id=\"mberId\"]').send_keys('사용자 ID')"
   ]
  },
  {
   "cell_type": "code",
   "execution_count": 60,
   "id": "a664796d",
   "metadata": {},
   "outputs": [],
   "source": [
    "browser.find_element('xpath', '//*[@id=\"pswrd\"]').send_keys('사용자 PW')"
   ]
  },
  {
   "cell_type": "code",
   "execution_count": 61,
   "id": "fec574d1",
   "metadata": {},
   "outputs": [],
   "source": [
    "browser.find_element('xpath', '//*[@id=\"loginVo\"]/div[2]/div[2]/div[2]/div/div[1]/button').click()\n",
    "browser.implicitly_wait(5)"
   ]
  },
  {
   "cell_type": "code",
   "execution_count": 62,
   "id": "a8bf510e",
   "metadata": {},
   "outputs": [],
   "source": [
    "browser.find_element('xpath', '//*[@id=\"M000400_pc\"]/a').click()"
   ]
  },
  {
   "cell_type": "code",
   "execution_count": 63,
   "id": "811e9b60",
   "metadata": {},
   "outputs": [],
   "source": [
    "browser.find_element('xpath', '//*[@id=\"M000402_pc\"]/a').click()"
   ]
  },
  {
   "cell_type": "code",
   "execution_count": 64,
   "id": "7ba02f61",
   "metadata": {},
   "outputs": [],
   "source": [
    "def db_save(ARTICLE_LIST):\n",
    "    with sqlite3.connect(os.path.join('.','sqliteDB')) as con: # sqlite DB 파일이 존재하지 않는 경우 파일생성\n",
    "        try:\n",
    "            ARTICLE_LIST.to_sql(name = 'ARTICLE_LIST', con = con, index = False, if_exists='append') \n",
    "            #if_exists : {'fail', 'replace', 'append'} default : fail\n",
    "        except Exception as e:\n",
    "            print(str(e))\n",
    "        print(len(ARTICLE_LIST), '건 저장완료..')"
   ]
  },
  {
   "cell_type": "code",
   "execution_count": 65,
   "id": "f50a1faf",
   "metadata": {},
   "outputs": [
    {
     "name": "stdout",
     "output_type": "stream",
     "text": [
      "10 건 저장완료..\n"
     ]
    }
   ],
   "source": [
    "trs = browser.find_elements('xpath', '//*[@id=\"searchVO\"]/div[5]/table/tbody/tr')\n",
    "df_list = []\n",
    "for tr in trs:\n",
    "    df = pd.DataFrame({\n",
    "            'NO': [tr.find_element('xpath', 'td[1]').text],\n",
    "            'TITLE': [tr.find_element('xpath', 'td[2]').text],\n",
    "            'IQRY': [tr.find_element('xpath', 'td[3]').text],\n",
    "            'REGDT': [tr.find_element('xpath', 'td[4]').text],\n",
    "            'CHGDT': [tr.find_element('xpath', 'td[5]').text],\n",
    "        })\n",
    "    df_list.append(df)\n",
    "    \n",
    "ARTICLE_LIST = pd.concat(df_list)\n",
    "db_save(ARTICLE_LIST)"
   ]
  },
  {
   "cell_type": "code",
   "execution_count": 66,
   "id": "619cb59c",
   "metadata": {},
   "outputs": [],
   "source": [
    "browser.find_element('xpath', '//*[@id=\"searchVO\"]/div[5]/table/tbody/tr[1]/td[2]/a').click()\n",
    "browser.implicitly_wait(3)"
   ]
  },
  {
   "cell_type": "code",
   "execution_count": 67,
   "id": "ba36793b",
   "metadata": {},
   "outputs": [],
   "source": [
    "browser.find_element('xpath', '//*[@id=\"recsroomDetail\"]/div[2]/div[4]/div/a').click()\n",
    "time.sleep(10)"
   ]
  },
  {
   "cell_type": "code",
   "execution_count": 68,
   "id": "22d0a9cb",
   "metadata": {},
   "outputs": [],
   "source": [
    "# 상세보기 화면에서 데이터 크롤링 로직 추가"
   ]
  },
  {
   "cell_type": "code",
   "execution_count": 69,
   "id": "9b67be7d",
   "metadata": {},
   "outputs": [],
   "source": [
    "browser.quit()"
   ]
  },
  {
   "cell_type": "code",
   "execution_count": null,
   "id": "e42d91f0",
   "metadata": {},
   "outputs": [],
   "source": []
  }
 ],
 "metadata": {
  "kernelspec": {
   "display_name": "Python 3 (ipykernel)",
   "language": "python",
   "name": "python3"
  },
  "language_info": {
   "codemirror_mode": {
    "name": "ipython",
    "version": 3
   },
   "file_extension": ".py",
   "mimetype": "text/x-python",
   "name": "python",
   "nbconvert_exporter": "python",
   "pygments_lexer": "ipython3",
   "version": "3.9.12"
  }
 },
 "nbformat": 4,
 "nbformat_minor": 5
}
