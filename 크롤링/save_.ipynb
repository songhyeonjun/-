{
 "cells": [
  {
   "cell_type": "markdown",
   "id": "1b3a674b",
   "metadata": {},
   "source": [
    "# save_csv"
   ]
  },
  {
   "cell_type": "code",
   "execution_count": 1,
   "id": "5a7ca615",
   "metadata": {},
   "outputs": [],
   "source": [
    "import csv"
   ]
  },
  {
   "cell_type": "code",
   "execution_count": 2,
   "id": "dd4380ad",
   "metadata": {},
   "outputs": [],
   "source": [
    "# file open, newline=''으로 개행문자 지정\n",
    "with open('top_cities.csv', 'w', newline='') as f:\n",
    "    # csv.writer는 파일 객체를 매개변수로 지정\n",
    "    writer = csv.writer(f)  \n",
    "    # 첫 번째 줄에는 헤더를 작성합니다.\n",
    "    writer.writerow(['rank', 'city', 'population'])  \n",
    "    # writerows()에 리스트를 전달하면 여러 개의 값을 출력\n",
    "    writer.writerows([\n",
    "        [1, '상하이', 24150000],\n",
    "        [2, '카라치', 23500000],\n",
    "        [3, '베이징', 21516000],\n",
    "        [4, '텐진', 14722100],\n",
    "        [5, '이스탄불', 14160467],\n",
    "    ])"
   ]
  },
  {
   "cell_type": "markdown",
   "id": "4542a029",
   "metadata": {},
   "source": [
    "# save_csv_dict"
   ]
  },
  {
   "cell_type": "code",
   "execution_count": 3,
   "id": "4362ce2c",
   "metadata": {},
   "outputs": [],
   "source": [
    "with open('top_cities.csv', 'w', newline='') as f:\n",
    "    # 첫 번째 매개변수에 파일 객체\n",
    "    # 두 번째 매개변수에 필드명 리스트를 지정\n",
    "    writer = csv.DictWriter(f, ['rank', 'city', 'population'])\n",
    "      # 첫 번째 줄에 헤더를 입력\n",
    "    writer.writeheader()\n",
    "    # writerows()로 여러 개의 데이터를 딕셔너리 형태로 작성\n",
    "    writer.writerows([\n",
    "        {'rank': 1, 'city': '상하이', 'population': 24150000},\n",
    "        {'rank': 2, 'city': '카라치', 'population': 23500000},\n",
    "        {'rank': 3, 'city': '베이징', 'population': 21516000},\n",
    "        {'rank': 4, 'city': '텐진', 'population': 14722100},\n",
    "        {'rank': 5, 'city': '이스탄불', 'population': 14160467},\n",
    "    ])"
   ]
  },
  {
   "cell_type": "markdown",
   "id": "9406d821",
   "metadata": {},
   "source": [
    "# encoding_check"
   ]
  },
  {
   "cell_type": "code",
   "execution_count": 7,
   "id": "a270fd7d",
   "metadata": {},
   "outputs": [],
   "source": [
    "with open('top_cities.csv', 'w', newline='', encoding='utf-8') as f:\n",
    "    # 첫 번째 매개변수에 파일 객체\n",
    "    # 두 번째 매개변수에 필드명 리스트를 지정\n",
    "    writer = csv.DictWriter(f, ['rank', 'city', 'population'])\n",
    "      # 첫 번째 줄에 헤더를 입력\n",
    "    writer.writeheader()\n",
    "    # writerows()로 여러 개의 데이터를 딕셔너리 형태로 작성\n",
    "    writer.writerows([\n",
    "        {'rank': 1, 'city': '상하이', 'population': 24150000},\n",
    "        {'rank': 2, 'city': '카라치', 'population': 23500000},\n",
    "        {'rank': 3, 'city': '베이징', 'population': 21516000},\n",
    "        {'rank': 4, 'city': '텐진', 'population': 14722100},\n",
    "        {'rank': 5, 'city': '이스탄불', 'population': 14160467},\n",
    "    ])"
   ]
  },
  {
   "cell_type": "code",
   "execution_count": 8,
   "id": "cd246088",
   "metadata": {},
   "outputs": [],
   "source": [
    "import chardet"
   ]
  },
  {
   "cell_type": "code",
   "execution_count": 9,
   "id": "67fd12d9",
   "metadata": {},
   "outputs": [],
   "source": [
    "char_dic = chardet.detect(open('top_cities.csv', 'rb').read())"
   ]
  },
  {
   "cell_type": "code",
   "execution_count": 10,
   "id": "c9198b62",
   "metadata": {},
   "outputs": [
    {
     "data": {
      "text/plain": [
       "'utf-8'"
      ]
     },
     "execution_count": 10,
     "metadata": {},
     "output_type": "execute_result"
    }
   ],
   "source": [
    "char_dic['encoding']"
   ]
  },
  {
   "cell_type": "markdown",
   "id": "4cbe808b",
   "metadata": {},
   "source": [
    "# save_json\n"
   ]
  },
  {
   "cell_type": "code",
   "execution_count": 11,
   "id": "984c130c",
   "metadata": {},
   "outputs": [],
   "source": [
    "import json"
   ]
  },
  {
   "cell_type": "code",
   "execution_count": 12,
   "id": "dbad9795",
   "metadata": {},
   "outputs": [],
   "source": [
    "cities = [ \n",
    "{'rank': 1, 'city':'상하이', 'population': 24150000},\n",
    "{'rank': 2, 'city':'카라치', 'population': 23500000},\n",
    "{'rank': 3, 'city':'베이징', 'population': 21516000},\n",
    "{'rank': 4, 'city':'텐진', 'population': 14722100}, \n",
    "{'rank': 5, 'city':'이스탄불', 'population':14160467},\n",
    "]"
   ]
  },
  {
   "cell_type": "code",
   "execution_count": 13,
   "id": "5d0fcfa6",
   "metadata": {},
   "outputs": [],
   "source": [
    "with open('top_cities.json', 'w') as fw:\n",
    "    json.dump(cities, fw)"
   ]
  },
  {
   "cell_type": "code",
   "execution_count": 14,
   "id": "37bf1ebf",
   "metadata": {},
   "outputs": [
    {
     "name": "stdout",
     "output_type": "stream",
     "text": [
      "[{'rank': 1, 'city': '상하이', 'population': 24150000}, {'rank': 2, 'city': '카라치', 'population': 23500000}, {'rank': 3, 'city': '베이징', 'population': 21516000}, {'rank': 4, 'city': '텐진', 'population': 14722100}, {'rank': 5, 'city': '이스탄불', 'population': 14160467}]\n"
     ]
    }
   ],
   "source": [
    "with open('top_cities.json', 'r') as fr:\n",
    "    json_file = json.load(fr)\n",
    "    print(json_file)"
   ]
  },
  {
   "cell_type": "markdown",
   "id": "17e95e14",
   "metadata": {},
   "source": [
    "# save_sqlite3\n"
   ]
  },
  {
   "cell_type": "code",
   "execution_count": 15,
   "id": "e6890efe",
   "metadata": {},
   "outputs": [],
   "source": [
    "import pandas as pd\n",
    "import sqlite3\n",
    "from pandas.io import sql\n",
    "import os"
   ]
  },
  {
   "cell_type": "code",
   "execution_count": 16,
   "id": "b9abba21",
   "metadata": {},
   "outputs": [],
   "source": [
    "DB_NAME = 'top_cities.db'\n",
    "TABLE_NAME = 'TOP_CITIES'"
   ]
  },
  {
   "cell_type": "code",
   "execution_count": 17,
   "id": "27d6fb1d",
   "metadata": {},
   "outputs": [],
   "source": [
    "def db_save(df, db_name, table_name):\n",
    "    with sqlite3.connect(db_name) as con:\n",
    "        try:\n",
    "            df.to_sql(name = table_name, con = con, index = False, if_exists='append') \n",
    "            #if_exists : {'fail', 'replace', 'append'} default : fail\n",
    "        except Exception as e:\n",
    "            print(str(e))\n",
    "        print(len(df), '건 저장완료..')"
   ]
  },
  {
   "cell_type": "code",
   "execution_count": 18,
   "id": "c330f2c6",
   "metadata": {},
   "outputs": [],
   "source": [
    "def db_select(db_name, table_name):\n",
    "    with sqlite3.connect(db_name) as con: \n",
    "        try:\n",
    "            query = 'SELECT * FROM {}'.format(table_name)\n",
    "            df = pd.read_sql(query, con = con)\n",
    "        except Exception as e:\n",
    "            print(str(e)) \n",
    "        return df  "
   ]
  },
  {
   "cell_type": "code",
   "execution_count": 19,
   "id": "ff1a66b9",
   "metadata": {},
   "outputs": [],
   "source": [
    "def db_delete(db_name, table_name):\n",
    "    with sqlite3.connect(db_name) as con: \n",
    "        try:\n",
    "            cur = con.cursor()\n",
    "            sql = 'DELETE FROM {}'.format(table_name)\n",
    "            cur.execute(sql)\n",
    "        except Exception as e:\n",
    "            print(str(e)) "
   ]
  },
  {
   "cell_type": "code",
   "execution_count": 20,
   "id": "8639df5e",
   "metadata": {},
   "outputs": [],
   "source": [
    "# db_delete(DB_NAME, TABLE_NAME)"
   ]
  },
  {
   "cell_type": "code",
   "execution_count": 21,
   "id": "4773fe8a",
   "metadata": {},
   "outputs": [
    {
     "name": "stdout",
     "output_type": "stream",
     "text": [
      "5 건 저장완료..\n"
     ]
    }
   ],
   "source": [
    "top_cites = pd.read_csv('top_cities.csv')\n",
    "db_save(top_cites, DB_NAME, TABLE_NAME)"
   ]
  },
  {
   "cell_type": "code",
   "execution_count": 22,
   "id": "92522753",
   "metadata": {},
   "outputs": [
    {
     "data": {
      "text/html": [
       "<div>\n",
       "<style scoped>\n",
       "    .dataframe tbody tr th:only-of-type {\n",
       "        vertical-align: middle;\n",
       "    }\n",
       "\n",
       "    .dataframe tbody tr th {\n",
       "        vertical-align: top;\n",
       "    }\n",
       "\n",
       "    .dataframe thead th {\n",
       "        text-align: right;\n",
       "    }\n",
       "</style>\n",
       "<table border=\"1\" class=\"dataframe\">\n",
       "  <thead>\n",
       "    <tr style=\"text-align: right;\">\n",
       "      <th></th>\n",
       "      <th>rank</th>\n",
       "      <th>city</th>\n",
       "      <th>population</th>\n",
       "    </tr>\n",
       "  </thead>\n",
       "  <tbody>\n",
       "    <tr>\n",
       "      <th>0</th>\n",
       "      <td>1</td>\n",
       "      <td>상하이</td>\n",
       "      <td>24150000</td>\n",
       "    </tr>\n",
       "    <tr>\n",
       "      <th>1</th>\n",
       "      <td>2</td>\n",
       "      <td>카라치</td>\n",
       "      <td>23500000</td>\n",
       "    </tr>\n",
       "    <tr>\n",
       "      <th>2</th>\n",
       "      <td>3</td>\n",
       "      <td>베이징</td>\n",
       "      <td>21516000</td>\n",
       "    </tr>\n",
       "    <tr>\n",
       "      <th>3</th>\n",
       "      <td>4</td>\n",
       "      <td>텐진</td>\n",
       "      <td>14722100</td>\n",
       "    </tr>\n",
       "    <tr>\n",
       "      <th>4</th>\n",
       "      <td>5</td>\n",
       "      <td>이스탄불</td>\n",
       "      <td>14160467</td>\n",
       "    </tr>\n",
       "  </tbody>\n",
       "</table>\n",
       "</div>"
      ],
      "text/plain": [
       "   rank  city  population\n",
       "0     1   상하이    24150000\n",
       "1     2   카라치    23500000\n",
       "2     3   베이징    21516000\n",
       "3     4    텐진    14722100\n",
       "4     5  이스탄불    14160467"
      ]
     },
     "execution_count": 22,
     "metadata": {},
     "output_type": "execute_result"
    }
   ],
   "source": [
    "df = db_select(DB_NAME, TABLE_NAME)\n",
    "df"
   ]
  },
  {
   "cell_type": "code",
   "execution_count": null,
   "id": "8cf3af57",
   "metadata": {},
   "outputs": [],
   "source": []
  }
 ],
 "metadata": {
  "kernelspec": {
   "display_name": "Python 3 (ipykernel)",
   "language": "python",
   "name": "python3"
  },
  "language_info": {
   "codemirror_mode": {
    "name": "ipython",
    "version": 3
   },
   "file_extension": ".py",
   "mimetype": "text/x-python",
   "name": "python",
   "nbconvert_exporter": "python",
   "pygments_lexer": "ipython3",
   "version": "3.9.12"
  }
 },
 "nbformat": 4,
 "nbformat_minor": 5
}
