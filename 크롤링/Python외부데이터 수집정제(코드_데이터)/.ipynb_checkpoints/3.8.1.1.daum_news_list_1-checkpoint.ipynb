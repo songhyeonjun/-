{
 "cells": [
  {
   "cell_type": "code",
   "execution_count": 48,
   "metadata": {},
   "outputs": [],
   "source": [
    "import requests\n",
    "import lxml.html\n",
    "import pandas as pd\n",
    "import sqlite3\n",
    "from pandas.io import sql\n",
    "import os"
   ]
  },
  {
   "cell_type": "code",
   "execution_count": null,
   "metadata": {},
   "outputs": [],
   "source": [
    "REG_DATE = '2020819'"
   ]
  },
  {
   "cell_type": "code",
   "execution_count": 50,
   "metadata": {
    "scrolled": true
   },
   "outputs": [],
   "source": [
    "import re\n",
    "import string\n",
    "\n",
    "\n",
    "def get_detail(url):\n",
    "    body = []\n",
    "    punc = '[!\"#$%&\\'()*+,-./:;<=>?[\\]^_`{|}~“”·]'\n",
    "    response = requests.get(url)\n",
    "    root = lxml.html.fromstring(response.content)\n",
    "    for p in root.xpath('//*[@id=\"harmonyContainer\"]/section/p'):\n",
    "        if p.text: # 체크\n",
    "            body.append(re.sub(punc, '', p.text)) #변환 후 저장\n",
    "    full_body = ' '.join(body)\n",
    "    \n",
    "    return full_body\n",
    "\n",
    "# get_detail('https://news.v.daum.net/v/20200505000102404')"
   ]
  },
  {
   "cell_type": "code",
   "execution_count": 51,
   "metadata": {},
   "outputs": [],
   "source": [
    "def db_save(NEWS_LIST):\n",
    "    with sqlite3.connect(os.path.join('.','sqliteDB')) as con: \n",
    "        try:\n",
    "            NEWS_LIST.to_sql(name = 'NEWS_LIST', con = con, index = False, if_exists='append') \n",
    "            #if_exists : {'fail', 'replace', 'append'} default : fail\n",
    "        except Exception as e:\n",
    "            print(str(e))\n",
    "        print(len(NEWS_LIST), '건 저장완료..')"
   ]
  },
  {
   "cell_type": "code",
   "execution_count": 52,
   "metadata": {},
   "outputs": [],
   "source": [
    "def db_delete():\n",
    "    with sqlite3.connect(os.path.join('.','sqliteDB')) as con:\n",
    "        try:\n",
    "            cur = con.cursor()\n",
    "            sql = 'DELETE FROM NEWS_LIST'\n",
    "            cur.execute(sql)\n",
    "        except Exception as e:\n",
    "            print(str(e)) "
   ]
  },
  {
   "cell_type": "code",
   "execution_count": 53,
   "metadata": {},
   "outputs": [],
   "source": [
    "def db_select():\n",
    "    with sqlite3.connect(os.path.join('.','sqliteDB')) as con: \n",
    "        try:\n",
    "            query = 'SELECT * FROM NEWS_LIST'\n",
    "            NEWS_LIST = pd.read_sql(query, con = con)\n",
    "        except Exception as e:\n",
    "            print(str(e)) \n",
    "        return NEWS_LIST   \n"
   ]
  },
  {
   "cell_type": "code",
   "execution_count": 49,
   "metadata": {},
   "outputs": [],
   "source": [
    "# db_delete()"
   ]
  },
  {
   "cell_type": "code",
   "execution_count": 54,
   "metadata": {
    "scrolled": true
   },
   "outputs": [
    {
     "name": "stdout",
     "output_type": "stream",
     "text": [
      "https://v.daum.net/v/20200505193817247 [포스트 코로나] 어제와 달라진 韓, 국제사회 '뉴노멀'된다\n",
      "https://v.daum.net/v/20200505190832982 LGU+, 상용망서 '5G 단독모드' 테스트 마쳐\n",
      "https://v.daum.net/v/20200505190517969 타다금지법 헌재로 간다 \"행복추구권·평등권 침해\"\n",
      "https://v.daum.net/v/20200505184607746 엘지 벨벳폰, \"2년뒤 반납조건 반값\" 소비자 묶을까\n",
      "https://v.daum.net/v/20200505184606744 LG유플러스, 서울서 '5G 단독모드' 테스트 완료\n",
      "https://v.daum.net/v/20200505184603743 \"초유의 온라인개학 가능했던 건 클라우드 덕분이죠\"\n",
      "https://v.daum.net/v/20200505183602568 코로나 사태로 확 뜬 K바이오..해외진출지원사업 대거 선정\n",
      "https://v.daum.net/v/20200505183601566 [IR52 장영실상] 현대차 / 카파 1.0 T-GDI FFV 엔진\n",
      "https://v.daum.net/v/20200505183306530 \"이 노래 추천해요\"..음악플랫폼, AI 기술전쟁\n",
      "https://v.daum.net/v/20200505183305528 LG유플, 20배 빠른 '5G 단독모드' 서울에서 서비스 테스트 마쳤다\n",
      "https://v.daum.net/v/20200505183301524 게임 최강국 대한민국, 낯뜨거운 '유저'의식\n",
      "https://v.daum.net/v/20200505183300521 \"2년 뒤 반납하세요\" LG 벨벳 40만원대\n",
      "https://v.daum.net/v/20200505181416222 논란에도 국회 넘은 타다금지법, 헌법재판소로 간다\n",
      "https://v.daum.net/v/20200505181218189 바닷물 담아두면 식수 되는 물병\n",
      "https://v.daum.net/v/20200505181216188 플라즈마 붕괴 전 탐지..핵융합에너지 상용화 앞당긴다\n"
     ]
    }
   ],
   "source": [
    "response = requests.get('http://news.daum.net/breakingnews/digital?regDate=2020819')\n",
    "root = lxml.html.fromstring(response.content)\n",
    "for li in root.xpath('//*[@id=\"mArticle\"]/div[3]/ul/li'):\n",
    "    a = li.xpath('div/strong/a')[0]\n",
    "    url = a.get('href')\n",
    "    print(url, a.text)"
   ]
  },
  {
   "cell_type": "code",
   "execution_count": 55,
   "metadata": {},
   "outputs": [
    {
     "name": "stdout",
     "output_type": "stream",
     "text": [
      "15 건 저장완료..\n",
      "15 건 저장완료..\n",
      "15 건 저장완료..\n",
      "15 건 저장완료..\n",
      "15 건 저장완료..\n",
      "15 건 저장완료..\n",
      "15 건 저장완료..\n",
      "15 건 저장완료..\n",
      "15 건 저장완료..\n",
      "15 건 저장완료..\n",
      "15 건 저장완료..\n",
      "15 건 저장완료..\n",
      "15 건 저장완료..\n",
      "15 건 저장완료..\n",
      "15 건 저장완료..\n",
      "15 건 저장완료..\n",
      "15 건 저장완료..\n",
      "15 건 저장완료..\n",
      "15 건 저장완료..\n",
      "15 건 저장완료..\n",
      "15 건 저장완료..\n",
      "15 건 저장완료..\n",
      "15 건 저장완료..\n",
      "15 건 저장완료..\n",
      "15 건 저장완료..\n",
      "15 건 저장완료..\n",
      "15 건 저장완료..\n",
      "15 건 저장완료..\n",
      "15 건 저장완료..\n",
      "15 건 저장완료..\n",
      "15 건 저장완료..\n",
      "15 건 저장완료..\n",
      "15 건 저장완료..\n",
      "15 건 저장완료..\n",
      "15 건 저장완료..\n",
      "15 건 저장완료..\n",
      "15 건 저장완료..\n",
      "15 건 저장완료..\n",
      "15 건 저장완료..\n",
      "15 건 저장완료..\n",
      "15 건 저장완료..\n",
      "15 건 저장완료..\n",
      "15 건 저장완료..\n",
      "15 건 저장완료..\n",
      "15 건 저장완료..\n",
      "15 건 저장완료..\n",
      "15 건 저장완료..\n",
      "15 건 저장완료..\n",
      "15 건 저장완료..\n",
      "15 건 저장완료..\n",
      "15 건 저장완료..\n",
      "15 건 저장완료..\n",
      "15 건 저장완료..\n",
      "15 건 저장완료..\n",
      "15 건 저장완료..\n",
      "15 건 저장완료..\n",
      "15 건 저장완료..\n",
      "15 건 저장완료..\n",
      "15 건 저장완료..\n",
      "15 건 저장완료..\n",
      "15 건 저장완료..\n",
      "15 건 저장완료..\n",
      "15 건 저장완료..\n",
      "15 건 저장완료..\n",
      "15 건 저장완료..\n",
      "15 건 저장완료..\n",
      "15 건 저장완료..\n",
      "15 건 저장완료..\n",
      "15 건 저장완료..\n",
      "15 건 저장완료..\n",
      "15 건 저장완료..\n",
      "15 건 저장완료..\n",
      "15 건 저장완료..\n",
      "15 건 저장완료..\n",
      "15 건 저장완료..\n",
      "15 건 저장완료..\n",
      "15 건 저장완료..\n",
      "2 건 저장완료..\n"
     ]
    }
   ],
   "source": [
    "page = 1\n",
    "max_page = 0\n",
    "dt = '20200630'\n",
    "response = requests.get(url)\n",
    "while(True):\n",
    "    df_list = []\n",
    "    response = requests.get('http://news.daum.net/breakingnews/digital?page={}&regDate={}'\\\n",
    "                            .format(page, dt))\n",
    "    root = lxml.html.fromstring(response.content)\n",
    "    for li in root.xpath('//*[@id=\"mArticle\"]/div[3]/ul/li'):\n",
    "        a = li.xpath('div/strong/a')[0]\n",
    "        url = a.get('href')\n",
    "        df = pd.DataFrame({'URL' : [url],'TITLE':[a.text],'ARTICLE' : [get_detail(url)]})\n",
    "        df_list.append(df)   \n",
    "        \n",
    "    if df_list:   \n",
    "        df_10 = pd.concat(df_list)\n",
    "        db_save(df_10)\n",
    "\n",
    "    for a in root.xpath('//*[@id=\"mArticle\"]/div[3]/div/span/a'):\n",
    "        try:\n",
    "            num = int(a.text)\n",
    "            if max_page < num:\n",
    "                max_page = num       \n",
    "        except:\n",
    "            pass\n",
    "\n",
    "    span = root.xpath('//*[@id=\"mArticle\"]/div[3]/div/span/a[@class=\"btn_page btn_next\"]')\n",
    "\n",
    "    if (len(span) <= 0) & (page > max_page):\n",
    "        break\n",
    "    else:\n",
    "        page = page + 1\n"
   ]
  },
  {
   "cell_type": "code",
   "execution_count": 57,
   "metadata": {},
   "outputs": [],
   "source": [
    "NEWS_LIST = db_select()"
   ]
  },
  {
   "cell_type": "code",
   "execution_count": 58,
   "metadata": {},
   "outputs": [],
   "source": [
    "def save_excel(NEWS_LIST):\n",
    "    excel = pd.ExcelWriter('뉴스_IT_20200630.xlsx')\n",
    "    NEWS_LIST.to_excel(excel, '.', index=False )\n",
    "    excel.save()"
   ]
  },
  {
   "cell_type": "code",
   "execution_count": 59,
   "metadata": {},
   "outputs": [],
   "source": [
    "save_excel(NEWS_LIST)"
   ]
  },
  {
   "cell_type": "code",
   "execution_count": 2,
   "metadata": {},
   "outputs": [
    {
     "name": "stdout",
     "output_type": "stream",
     "text": [
      "----------\n"
     ]
    }
   ],
   "source": [
    "print('-' * 10)"
   ]
  },
  {
   "cell_type": "code",
   "execution_count": null,
   "metadata": {},
   "outputs": [],
   "source": []
  }
 ],
 "metadata": {
  "kernelspec": {
   "display_name": "Python 3",
   "language": "python",
   "name": "python3"
  },
  "language_info": {
   "codemirror_mode": {
    "name": "ipython",
    "version": 3
   },
   "file_extension": ".py",
   "mimetype": "text/x-python",
   "name": "python",
   "nbconvert_exporter": "python",
   "pygments_lexer": "ipython3",
   "version": "3.7.3"
  }
 },
 "nbformat": 4,
 "nbformat_minor": 4
}
