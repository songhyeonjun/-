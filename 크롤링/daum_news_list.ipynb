{
 "cells": [
  {
   "cell_type": "markdown",
   "id": "10b65674",
   "metadata": {},
   "source": [
    "# 다음 뉴스 목록 첫 페이지"
   ]
  },
  {
   "cell_type": "code",
   "execution_count": 1,
   "id": "0d9ebeb0",
   "metadata": {},
   "outputs": [],
   "source": [
    "import requests\n",
    "import lxml.html\n",
    "import pandas as pd\n",
    "import sqlite3\n",
    "from pandas.io import sql\n",
    "import os"
   ]
  },
  {
   "cell_type": "code",
   "execution_count": 2,
   "id": "393190ae",
   "metadata": {},
   "outputs": [],
   "source": [
    "REG_DATE = '20200819'"
   ]
  },
  {
   "cell_type": "code",
   "execution_count": 3,
   "id": "ff3907db",
   "metadata": {},
   "outputs": [
    {
     "name": "stdout",
     "output_type": "stream",
     "text": [
      "https://v.daum.net/v/20200819230943259 RUSSIA SPACE DOGS BELKA AND STRELKA\n",
      "https://v.daum.net/v/20200819230922257 트럼프 \"오라클은 대단한 회사\"..틱톡 인수 지지\n",
      "https://v.daum.net/v/20200819230858252 RUSSIA SPACE DOGS BELKA AND STRELKA\n",
      "https://v.daum.net/v/20200819230757249 RUSSIA SPACE DOGS BELKA AND STRELKA\n",
      "https://v.daum.net/v/20200819230752248 RUSSIA SPACE DOGS BELKA AND STRELKA\n",
      "https://v.daum.net/v/20200819230732247 RUSSIA SPACE DOGS BELKA AND STRELKA\n",
      "https://v.daum.net/v/20200819230639242 한국심리학회 연차학술대회 20~22일 열려\n",
      "https://v.daum.net/v/20200819230626241 RUSSIA SPACE DOGS BELKA AND STRELKA\n",
      "https://v.daum.net/v/20200819230623240 RUSSIA SPACE DOGS BELKA AND STRELKA\n",
      "https://v.daum.net/v/20200819230557231 RUSSIA SPACE DOGS BELKA AND STRELKA\n",
      "https://v.daum.net/v/20200819230516226 RUSSIA SPACE DOGS BELKA AND STRELKA\n",
      "https://v.daum.net/v/20200819230512224 RUSSIA SPACE DOGS BELKA AND STRELKA\n",
      "https://v.daum.net/v/20200819230448221 RUSSIA SPACE DOGS BELKA AND STRELKA\n",
      "https://v.daum.net/v/20200819225027087 글로벌창업사관학교 개교..글로벌 AI기업 육성 주력\n",
      "https://v.daum.net/v/20200819225004085 배틀그라운드, 신규 무기 'MG3'·'교란 수류탄' 추가\n"
     ]
    }
   ],
   "source": [
    "response = requests.get('https://news.daum.net/breakingnews/digital?regDate={}'.format(REG_DATE))                   \n",
    "root = lxml.html.fromstring(response.content)\n",
    "for li in root.xpath('//*[@id=\"mArticle\"]/div[3]/ul/li'):\n",
    "    a = li.xpath('div/strong/a')[0]\n",
    "    url = a.get('href')\n",
    "    print(url, a.text)"
   ]
  },
  {
   "cell_type": "markdown",
   "id": "68305b01",
   "metadata": {},
   "source": [
    "# 상세 페이지"
   ]
  },
  {
   "cell_type": "code",
   "execution_count": 7,
   "id": "1e360695",
   "metadata": {},
   "outputs": [
    {
     "data": {
      "text/plain": [
       "'LG전자 스마트TV 리모컨 클릭 한 번에 왓챠플레이가 연결된다 왓챠와 LG전자는 LG 2019년형 스마트TV부터 스마트TV 리모컨에서 영화 버튼을 클릭하면 왓챠플레이 서비스가 바로 연동되도록 지원한다 왓챠플레이를 구독하는 고객 편의성을 강화했다 LG 신형 스마트TV를 보유한 왓챠플레이 고객은 편리하게 서비스를 이용할 수 있게 됐다 기존에도 삼성전자LG전자 스마트TV 메뉴와 유료방송 셋톱박스 등을 통해 왓챠플레이를 시청할 수 있었다 왓챠플레이 애플리케이션앱을 찾아야 하는 번거로움이 있었다 박태훈 왓챠 대표는 국내외 제조사는 물론 통신사 방송사와 서비스 협업을 논의 중이라며 왓챠플레이를 더 쉽게 접할 수 있도록 계속 협력해나갈 것이라고 말했다 왓챠플레이뿐만 아니라 웨이브 넷플릭스 디즈니플러스디즈니 등 대다수 온라인동영상서비스OTT가 스마트TV유료방송과 고객 접점을 확대하는 추세다 스마트폰태블릿PC 등 모바일은 물론 TV와 PC 등 다양한 디바이스에서 클릭 한 번에 서비스를 이용하도록 지원 접근성을 강화했다 고객 접점을 확대해 가입 유인을 늘리기 위한 전략이다 넷플릭스는 LG유플러스와 LG헬로비전 딜라이브 등 IPTV케이블TV와 서비스를 연동 쉽게 볼 수 있도록 지원한다 삼성LG 스마트TV 앱 또는 리모컨에서 넷플릭스NETFLIX 버튼 클릭 한 번에 서비스를 이용할 수 있도록 지원한다 웨이브와 CJ ENM 티빙TVING 등 국산 OTT는 물론 미국유럽 등 해외에서 서비스를 제공 중인 디즈니 역시 삼성LG전자 스마트TV에서 서비스를 제공한다 유료방송 플랫폼 차원에서 OTT와 제휴도 적극적이다 KT스카이라이프는 통합 OTT 서비스 토핑 출시 1주년을 맞아 국내 최대 애니메이션 스트리밍 플랫폼 라프텔 서비스를 추가했다 이달 초부터 라프텔을 통해 진격의 거인 소드 아트 온라인 도쿄 구울 나루토 원피스 등 인기 애니메이션을 회차별 결제 없이 월 9900원에 볼 수 있다 제공 OTT를 지속 확대할 계획이다 왓챠플레이와 웨이브는 토핑에서 유료 가입시청할 수 있다 유튜브는 무료로 서비스한다 토핑에서 고객은 원하는 OTT를 직접 선택 이용 가능하다 SK텔레콤과 KT 등 국내 통신사와 유료방송 플랫폼은 내년 국내 서비스를 준비 중인 것으로 알려진 디즈니와 서비스 제휴를 타진하고 있다 유료방송 관계자는 플랫폼 경쟁력은 콘텐츠가 좌우하고 OTT는 더 많은 고객과 접점을 필요로 한다며 현재로선 유료방송 플랫폼과 OTT가 대체재가 아닌 보완재 성격이 짙은 만큼 더 많은 협업이 이뤄질 것이라고 전망했다 박종진기자 truth@etnewscom'"
      ]
     },
     "execution_count": 7,
     "metadata": {},
     "output_type": "execute_result"
    }
   ],
   "source": [
    "import re\n",
    "import string\n",
    "\n",
    "def get_detail(url):\n",
    "    body = []\n",
    "    punc = '[!\"#$%&\\'()*+,-./:;<=>?[\\]^_`{|}~“”·]'\n",
    "    response = requests.get(url)\n",
    "    root = lxml.html.fromstring(response.content)\n",
    "    for p in root.xpath('//*[@id=\"harmonyContainer\"]/section/p'):\n",
    "        if p.text: # 체크\n",
    "            body.append(re.sub(punc, '', p.text)) # 특수문자 제거\n",
    "    full_body = ' '.join(body)\n",
    "    \n",
    "    return full_body\n",
    "\n",
    "get_detail('https://news.v.daum.net/v/20200505000102404')"
   ]
  },
  {
   "cell_type": "markdown",
   "id": "4db088cc",
   "metadata": {},
   "source": [
    "# 다음뉴스 첫 페이지 목록과 상세 페이지"
   ]
  },
  {
   "cell_type": "code",
   "execution_count": 8,
   "id": "017b6660",
   "metadata": {},
   "outputs": [],
   "source": [
    "def get_detail2(url):\n",
    "    body = []\n",
    "    punc = '[!\"#$%&\\'()*+,-./:;<=>?[\\]^_`{|}~“”·]'\n",
    "    response = requests.get(url)\n",
    "    root = lxml.html.fromstring(response.content)\n",
    "    for p in root.xpath('//*[@id=\"harmonyContainer\"]/section/p'):\n",
    "        if p.text: # 체크\n",
    "            body.append(re.sub(punc, '', p.text)) # 특수문자 제거\n",
    "    full_body = ' '.join(body)\n",
    "    \n",
    "    return full_body"
   ]
  },
  {
   "cell_type": "code",
   "execution_count": 9,
   "id": "babe1c89",
   "metadata": {},
   "outputs": [],
   "source": [
    "page = 1\n",
    "max_page = 0\n",
    "REG_DATE = '20200819'"
   ]
  },
  {
   "cell_type": "code",
   "execution_count": 10,
   "id": "e5d1be5f",
   "metadata": {},
   "outputs": [
    {
     "name": "stdout",
     "output_type": "stream",
     "text": [
      "URL : https://v.daum.net/v/20200819230943259\n",
      "TITLE : RUSSIA SPACE DOGS BELKA AND STRELKA\n",
      "ARTICLE : epa08612780 Visitors look at stuffed dogs Belka L and Strelka R at the Museum of Cosmonautics in Moscow Russia 19 August 2020 Russia celebrates the 60th anniversary of KorablSputnik 2 on 19 August The two female dogs Strelka and Belka among other animals the first creatures to return alive from space EPAYURI KOCHETKOV\n",
      "----------------------------------------------------------------------------------------------------\n",
      "URL : https://v.daum.net/v/20200819230922257\n",
      "TITLE : 트럼프 \"오라클은 대단한 회사\"..틱톡 인수 지지\n",
      "ARTICLE : 지디넷코리아김익현 미디어연구소장 도널드 트럼프 미국 대통령이 오라클의 틱톡 인수에 강한 지지 의사를 드러냈다 CNBC를 비롯한 주요 외신들에 따르면 트럼프는 19일현지시간 미국 애리조나주 유마 유세 현장에서 오라클이 틱톡을 인수하기에 좋은 기업이냐는 질문을 받고 오라클은 대단한 회사라고 답변했다 트럼프는 오라클이 틱톡 인수에 관심을 갖고 있다는 보도가 나온 직후  이 같은 발언을 했다 트럼프의 예사롭지 않은 발언에 관심이 쏠리는 건 엘리슨의 이런 정치적 성향 때문이다 보도에 따르면 트럼프는 오라클은 대단한 회사이며 오라클 소유주는 엄청난tremendous 사람이라고 생각한다면서 오라클은 틱톡을 잘 다룰 수 있을 것이다고 말했다 트럼프 대통령은 바이트댄스 측에 90일 이내에 틱톡 미국 사업을 떼어내라고 통보했다 이 통보에 따라 중국 기업 바이트댄스는 틱톡 미국 사업부문 등에 대한 매각 작업에 공식 착수했다 그 동안 틱톡 인수 경쟁에선 마이크로소프트MS가 한 발 앞서 있다는 전망이 지배적이었다 하지만 오라클이 틱톡 지분을 갖고 있는 미국 벤처캐피털업체들과 공동으로 인수 경쟁에 뛰어들었다는 보도가 나오면서 새로운 국면에 접어들었다 CNBC는 오라클이 틱톡 인수를 위해 얼마나 준비하고 있는지는 알려지지 않았다고 전했다 바이트댄스 투자자들은 틱톡의 전체 가치를 500억 달러 수준으로 평가하고 있다 김익현 미디어연구소장sini@zdnetcokr\n",
      "----------------------------------------------------------------------------------------------------\n",
      "URL : https://v.daum.net/v/20200819230858252\n",
      "TITLE : RUSSIA SPACE DOGS BELKA AND STRELKA\n",
      "ARTICLE : epa08612779 Belka L and Strelka R at the Museum of Cosmonautics in Moscow Russia 19 August 2020 Russia celebrates the 60th anniversary of KorablSputnik 2 on 19 August The two female dogs Strelka and Belka among other animals the first creatures to return alive from space EPAYURI KOCHETKOV\n",
      "----------------------------------------------------------------------------------------------------\n",
      "URL : https://v.daum.net/v/20200819230757249\n",
      "TITLE : RUSSIA SPACE DOGS BELKA AND STRELKA\n",
      "ARTICLE : epa08612776 Visitor looks at stuffed dogs Belka L and Strelka R at the Museum of Cosmonautics in Moscow Russia 19 August 2020 Russia celebrates the 60th anniversary of KorablSputnik 2 on 19 August The two female dogs Strelka and Belka among other animals the first creatures to return alive from space EPAYURI KOCHETKOV\n",
      "----------------------------------------------------------------------------------------------------\n",
      "URL : https://v.daum.net/v/20200819230752248\n",
      "TITLE : RUSSIA SPACE DOGS BELKA AND STRELKA\n",
      "ARTICLE : epa08612777 A boy looks at stuffed dog Strelka at the Museum of Cosmonautics in Moscow Russia 19 August 2020 Russia celebrates the 60th anniversary of KorablSputnik 2 on 19 August The two female dogs Strelka and Belka among other animals the first creatures to return alive from space EPAYURI KOCHETKOV\n",
      "----------------------------------------------------------------------------------------------------\n",
      "URL : https://v.daum.net/v/20200819230732247\n",
      "TITLE : RUSSIA SPACE DOGS BELKA AND STRELKA\n",
      "ARTICLE : epa08612775 A visitor looks at stuffed dog Belka at the Museum of Cosmonautics in Moscow Russia 19 August 2020 Russia celebrates the 60th anniversary of KorablSputnik 2 on 19 August The two female dogs Strelka and Belka among other animals the first creatures to return alive from space EPAYURI KOCHETKOV\n",
      "----------------------------------------------------------------------------------------------------\n",
      "URL : https://v.daum.net/v/20200819230639242\n",
      "TITLE : 한국심리학회 연차학술대회 20~22일 열려\n",
      "ARTICLE : 지디넷코리아방은주 기자한국심리학회회장 조현섭 총신대학교 교수는 2020 제74차 한국심리학회 연차학술대회를 2022일 사흘간 온라인으로 개최한다고 19일 밝혔다 이번 학술대회는 1개 프리세션과 대외 심포지엄 6개 세션 특별 심포지엄 11개 세션 분과 심포지엄 6개 세션 분과 워크숍 청소년 심리학교실 한중일 심포지엄 등 총 111편의 포스터 발표가 온라인으로 열린다 1500명 이상이 참가할 예정이다 주최 측은 참가 인원수 제한에도 200명이 넘는 중고등학생이 청소년심리학교실에 참가 신청을 했다고 밝혔다 1일차20일에 개최할 프리세션은 ‘국민을 위한 심리서비스 법제화의 현실적 필요성과 실현 방안’이라는 주제로 국내 심리서비스 운영의 문제점을 진단하고 개선 방향을 제안한다 이후 대외심포지엄에서 ‘위기의 지구 재난 심리학에서 길을 찾다’는 주제로 최근 발생한 코로나19 대유행을 중심으로 재난이 우리의 삶과 심리에 미치는 부정적 영향을 이해하고 이에 대한 대응 방안을 모색하는 자리를 마련했다 특히 심리학을 기반으로 의학 보건학 의료사회학 등 다양한 인접 학문 관점에서 재난의 피해를 해결하는데 도움이 되는 연구 성과를 논의할 예정이다 또한 미국심리학회를 대표해 산드라 L 슐먼Sandra L Shullman 회장이 발표자로 참여한다 2일차21일에는 심포지엄과 워크숍을 통해 우리 사회의 다양한 문제를 다룬다 한국형 심리방역체계 구축 중독 자살 심리적 외상 디지털 성범죄 재범 방지 등과 같은 우리 사회가 직면한 현안들을 심리학적으로 진단하고 그 해결책을 모색한다 특히 정서장애의 근거 기반치료 게슈탈트 치료 코칭 프로그램 등과 같이 우리가 현대사회를 살아가면서 다양한 맥락에서 직면하는 심리적 문제들을 이해하고 치료하는데 실용적인 도움을 주는 프로그램들도 다수 준비되었다 마지막 3일차22일에는 청소년심리학교실과 한중일 심포지엄이 진행된다 특히 청소년심리학교실에서는 청소년들에게 심리학이 응용될 수 있는 다양한 영역중독 행복 AI 등을 소개하는 특강이 열린다 방은주 기자ejbang@zdnetcokr\n",
      "----------------------------------------------------------------------------------------------------\n",
      "URL : https://v.daum.net/v/20200819230626241\n",
      "TITLE : RUSSIA SPACE DOGS BELKA AND STRELKA\n",
      "ARTICLE : epa08612774 A boy looks at stuffed dog Strelka at the Museum of Cosmonautics in Moscow Russia 19 August 2020 Russia celebrates the 60th anniversary of KorablSputnik 2 on 19 August The two female dogs Strelka and Belka among other animals the first creatures to return alive from space EPAYURI KOCHETKOV\n",
      "----------------------------------------------------------------------------------------------------\n",
      "URL : https://v.daum.net/v/20200819230623240\n",
      "TITLE : RUSSIA SPACE DOGS BELKA AND STRELKA\n",
      "ARTICLE : epa08612771 The dog Strelka at the Museum of Cosmonautics in Moscow Russia 19 August 2020 Russia celebrates the 60th anniversary of KorablSputnik 2 on 19 August The two female dogs Strelka and Belka among other animals the first creatures to return alive from space EPAYURI KOCHETKOV\n",
      "----------------------------------------------------------------------------------------------------\n",
      "URL : https://v.daum.net/v/20200819230557231\n",
      "TITLE : RUSSIA SPACE DOGS BELKA AND STRELKA\n",
      "ARTICLE : epa08612770 The dogs Belka R and Strelka L at the Museum of Cosmonautics in Moscow Russia 19 August 2020 Russia celebrates the 60th anniversary of KorablSputnik 2 on 19 August on 19 August The two female dogs Strelka and Belka among other animals the first creatures to return alive from space EPAYURI KOCHETKOV\n",
      "----------------------------------------------------------------------------------------------------\n",
      "URL : https://v.daum.net/v/20200819230516226\n",
      "TITLE : RUSSIA SPACE DOGS BELKA AND STRELKA\n",
      "ARTICLE : epa08612773 A visitor looks at stuffed dog Belka at the Museum of Cosmonautics in Moscow Russia 19 August 2020 Russia celebrates the 60th anniversary of KorablSputnik 2 on 19 August The two female dogs Strelka and Belka among other animals the first creatures to return alive from space EPAYURI KOCHETKOV\n",
      "----------------------------------------------------------------------------------------------------\n",
      "URL : https://v.daum.net/v/20200819230512224\n",
      "TITLE : RUSSIA SPACE DOGS BELKA AND STRELKA\n",
      "ARTICLE : epa08612769 Visitors look at stuffed dogs Belka R and Strelka L at the Museum of Cosmonautics in Moscow Russia 19 August 2020 Russia celebrates the 60th anniversary of KorablSputnik 2 on 19 August The two female dogs Strelka and Belka among other animals the first creatures to return alive from space EPAYURI KOCHETKOV\n",
      "----------------------------------------------------------------------------------------------------\n",
      "URL : https://v.daum.net/v/20200819230448221\n",
      "TITLE : RUSSIA SPACE DOGS BELKA AND STRELKA\n",
      "ARTICLE : epa08612772 Visitor looks at stuffed dogs Belka L and Strelka R at the Museum of Cosmonautics in Moscow Russia 19 August 2020 Russia celebrates the 60th anniversary of KorablSputnik 2 on 19 August The two female dogs Strelka and Belka among other animals the first creatures to return alive from space EPAYURI KOCHETKOV\n",
      "----------------------------------------------------------------------------------------------------\n",
      "URL : https://v.daum.net/v/20200819225027087\n",
      "TITLE : 글로벌창업사관학교 개교..글로벌 AI기업 육성 주력\n",
      "ARTICLE : 지디넷코리아방은주 기자글로벌 기업과 글로벌 액셀러레이터가 국내에 상주하며 글로벌 수준의 인공지능AI 교육과 보육 서비스를 제공하는 글로벌창업사관학교’가 19일 강남 본교스파크플러스 강남 2호점 20층에서 개교식을 갖고 본격 운영에 들어갔다 글로벌창업사관학교는 내년 2월까지 이 곳에 있다가 내년초 구로 G스퀘어가 완공이 되면 구로로 이전할 예정이다  중소벤처기업부중기부는 이날 박영선 장관이 참석한 가운데 글로벌창업사관학교 시작을 알리는 개교식을 열었다 글로벌창업사관학교는 올해 신설된 글로벌 인공지능AI 스타트업 집중 육성 프로그램이다 특히 엔비디아 MS AWS 인텔 등 글로벌 기업 4곳과 글로벌 액셀러레이터500Startups 플러그플레이 SOSV Startupbootcamp 4곳이 교육과 보육에 참여한다 중기부는 서면 및 발표 평가를 거쳐 지난 7월 16일 글로벌 창업사관학교에 입교할 60개팀을 최종 선정한 바 있다 글로벌창업사관학교가 운영하는 프로그램은 크게 교육 보육 네트워킹 사업화 지원이다 교육은 글로벌 기업이 자사의 내부 교육과정을 활용하는 등 기업별 특색을 살린 기술 교육과정을 운영한다 4개 글로벌 기업이 8월부터 11월까지 기간을 나눠 교육과정을 순차로 운영한다 교육과정 운영 시점은 MS 8월을 비롯해 9월 AWS 10월 인텔 11월 엔비디아 순이다 글로벌 빅데이터 솔루션 플랫폼인 캐글Kaggle 등을 활용한 프로젝트도 중점 추진해 입교팀의 실전 사업화 역량도 강화한다 또 글로벌 일류 액셀러레이터 보육 전문가 각 2인이 글로벌창업사관학교에 상주하며 창업팀을 밀착 보육한다 창업팀은 여러 글로벌 창업기획자액셀러레이터를 경험하며 최적의 해외진출 국가를 정하고 그에 맞는 진출 전략을 세운다 국제기구 등을 통한 해외 스타트업과의 교류 등을 통해 창업팀의 글로벌 네트워크도 형성한다 해외 네트워킹 프로그램은 코로나 19 상황에 따라 변동 여부가 있다 입교팀에게는 최대 5000만원의 사업화 자금을 지원하고 글로벌창업사관학교 내에 사업장 공간도 제공한다 이날 개교식은 코로나19 상황을 감안해 비대면 형식으로 진행됐다 현장에는 글로벌 기업 및 글로벌 액셀러레이터 한국지사 대표와 정송 KAIST 인공지능AI 대학원장 등이 참석했다 박영선 중기부 장관은 올해 코로나19를 극복해 가면서 세계적으로 인공지능AI를 포함한 비대면 분야 시장의 잠재력이 커지고 있다며 앞으로 스마트 대한민국을 이끌어갈 디지털 경제 시대의 글로벌 인공지능AI 기업을 글로벌창업사관학교에서 육성해 나가겠다고 말했다  이어 K유니콘 프로젝트 스마트대한민국 펀드 등을 통해 추가적으로 인공지능AI 등 비대면 스타트업의 글로벌화를 적극 지원해 나가겠다고 덧붙였다 방은주 기자ejbang@zdnetcokr\n",
      "----------------------------------------------------------------------------------------------------\n"
     ]
    },
    {
     "name": "stdout",
     "output_type": "stream",
     "text": [
      "URL : https://v.daum.net/v/20200819225004085\n",
      "TITLE : 배틀그라운드, 신규 무기 'MG3'·'교란 수류탄' 추가\n",
      "ARTICLE : ‘배틀그라운드’가 업데이트를 통해 다양한 신규 무기를 선보인다 두 가지 연사 모드가 가능한 최신 경기관총 ‘MG3’와 신규 투척 무기 ‘교란 수류탄’이 추가됐다 펍지주식회사가 플레이어언노운스 배틀그라운드 82 업데이트를 19일 진행한다 올해 세 번째 배틀그라운드 글로벌 이스포츠 대회인 펍지 콘티넨털 시리즈PUBG Continental Series PCS 2 개막을 앞두고 이스포츠 탭을 업데이트해 다양한 소식과 이벤트를 선보인다 PCS2의 승자를 예측하는 Pick’Em 챌린지 이벤트는 업데이트 이후부터 9월 23일까지 진행된다 Pick’Em 챌린지는 경기 시청 또는 인게임 아이템 구매로 투표권을 획득해 우승팀을 예측하고 성공 시 보상을 받는 이벤트다 PCS2 특별 아이템 구매 및 우승팀 투표는 9월 8일 오후 5시까지 가능하다 예측 성공 시 보상은 이스포츠 탭이 비활성화되는 9월 23일까지 획득할 수 있다 해당 아이템 판매 수익의 25는 4개 권역에 동일하게 배분해 참가팀과 공유된다 이스포츠 탭을 통해 PCS2에 출전한 권역별 최고의 선수 3인 팀별 순위 등도 확인할 수 있다 한편 이번 업데이트로 배틀그라운드에서 다양한 신규 무기를 만나볼 수 있다 보급상자를 통해서만 얻을 수 있는 최신 경기관총 ‘MG3’는 다른 총기와 달리 660rpm분당 발사 수 및 990rpm의 두 가지 연사 모드가 가능하다 MG3에는 양각대가 부착돼 엎드릴 경우 보다 안정적인 사격이 가능하다 또한 다섯 번째 탄환과 총알을 다 소진하기 직전 10발은 예광탄으로 발사되고 차량 사격 시 125배의 대미지를 입힐 수 있는 특징을 갖는다 총기 격발 사운드를 모방하는 신규 투척 무기 ‘교란 수류탄’도 추가됐다 다양한 전술적 도구로 활용이 가능한 교란 수류탄은 사녹에만 소량 스폰된다 투척 후 10초간 가짜 사격음을 만들어 유저의 위치를 숨기거나 적을 혼란에 빠뜨리며 전술적 활용이 가능하다 이 밖에도 M416 SKS Kar98k에는 총기 모델링 및 사운드 퀄리티 개선 등이 이루어진다 뿐만 아니라 에란겔에 새로운 선착장 지역 두 곳이 추가되고 기존 선착장의 구조물은 확장된다\n",
      "----------------------------------------------------------------------------------------------------\n"
     ]
    }
   ],
   "source": [
    "response = requests.get('http://news.daum.net/breakingnews/digital?page={}&regDate={}'\\\n",
    "                        .format(page, REG_DATE))\n",
    "root = lxml.html.fromstring(response.content)\n",
    "for li in root.xpath('//*[@id=\"mArticle\"]/div[3]/ul/li'):\n",
    "    a = li.xpath('div/strong/a')[0]\n",
    "    url = a.get('href')\n",
    "    article = get_detail2(url)\n",
    "    print(f'URL : {url}')\n",
    "    print(f'TITLE : {a.text}')\n",
    "    print(f'ARTICLE : {article}')\n",
    "    print('-' * 100)"
   ]
  },
  {
   "cell_type": "markdown",
   "id": "5c5ee19f",
   "metadata": {},
   "source": [
    "# 크롤링 정보 저장 및 조회"
   ]
  },
  {
   "cell_type": "code",
   "execution_count": 11,
   "id": "3c0977c5",
   "metadata": {},
   "outputs": [],
   "source": [
    "import time"
   ]
  },
  {
   "cell_type": "code",
   "execution_count": 12,
   "id": "5d8d83d5",
   "metadata": {},
   "outputs": [],
   "source": [
    "def db_save(NEWS_LIST):\n",
    "    with sqlite3.connect(os.path.join('.','sqliteDB')) as con:\n",
    "        try:\n",
    "            NEWS_LIST.to_sql(name = 'NEWS_LIST', con = con, index = False, if_exists='append') \n",
    "            #if_exists : {'fail', 'replace', 'append'} default : fail\n",
    "        except Exception as e:\n",
    "            print(str(e))\n",
    "        print(len(NEWS_LIST), '건 저장완료..')"
   ]
  },
  {
   "cell_type": "code",
   "execution_count": 13,
   "id": "a410ac55",
   "metadata": {},
   "outputs": [],
   "source": [
    "def db_delete():\n",
    "    with sqlite3.connect(os.path.join('.','sqliteDB')) as con: \n",
    "        try:\n",
    "            cur = con.cursor()\n",
    "            sql = 'DELETE FROM NEWS_LIST'\n",
    "            cur.execute(sql)\n",
    "        except Exception as e:\n",
    "            print(str(e)) "
   ]
  },
  {
   "cell_type": "code",
   "execution_count": 14,
   "id": "51e0b27b",
   "metadata": {},
   "outputs": [],
   "source": [
    "def db_select():\n",
    "    with sqlite3.connect(os.path.join('.','sqliteDB')) as con: \n",
    "        try:\n",
    "            query = 'SELECT * FROM NEWS_LIST'\n",
    "            NEWS_LIST = pd.read_sql(query, con = con)\n",
    "        except Exception as e:\n",
    "            print(str(e)) \n",
    "        return NEWS_LIST   \n"
   ]
  },
  {
   "cell_type": "code",
   "execution_count": 15,
   "id": "2d34eb34",
   "metadata": {},
   "outputs": [],
   "source": [
    "def get_detail3(url):\n",
    "    body = []\n",
    "    punc = '[!\"#$%&\\'()*+,-./:;<=>?[\\]^_`{|}~“”·]'\n",
    "    response = requests.get(url)\n",
    "    root = lxml.html.fromstring(response.content)\n",
    "    for p in root.xpath('//*[@id=\"harmonyContainer\"]/section/p'):\n",
    "        if p.text: # 체크\n",
    "            body.append(re.sub(punc, '', p.text)) # 특수문자 제거\n",
    "    full_body = ' '.join(body)\n",
    "    \n",
    "    return full_body"
   ]
  },
  {
   "cell_type": "code",
   "execution_count": 16,
   "id": "e033bfd8",
   "metadata": {},
   "outputs": [],
   "source": [
    "page = 58\n",
    "max_page = 0\n",
    "REG_DATE = '20200819'"
   ]
  },
  {
   "cell_type": "code",
   "execution_count": 17,
   "id": "a058303a",
   "metadata": {},
   "outputs": [
    {
     "name": "stdout",
     "output_type": "stream",
     "text": [
      "15 건 저장완료..\n",
      "15 건 저장완료..\n",
      "15 건 저장완료..\n",
      "13 건 저장완료..\n"
     ]
    }
   ],
   "source": [
    "while(True):\n",
    "    df_list = []\n",
    "    response = requests.get('http://news.daum.net/breakingnews/digital?page={}&regDate={}'\\\n",
    "                            .format(page, REG_DATE))\n",
    "    root = lxml.html.fromstring(response.content)\n",
    "    for li in root.xpath('//*[@id=\"mArticle\"]/div[3]/ul/li'):\n",
    "        a = li.xpath('div/strong/a')[0]\n",
    "        url = a.get('href')\n",
    "        article = get_detail3(url)\n",
    "        df = pd.DataFrame({'URL' : [url],'TITLE':[a.text],'ARTICLE' : [article]})\n",
    "        df_list.append(df)   \n",
    "        \n",
    "    if df_list:   \n",
    "        df_10 = pd.concat(df_list)\n",
    "        db_save(df_10)\n",
    "\n",
    "    # 페이지 번호 중에서 max 페이지 가져오기    \n",
    "    for a in root.xpath('//*[@id=\"mArticle\"]/div[3]/div/span/a'):\n",
    "        try:\n",
    "            num = int(a.text)\n",
    "            if max_page < num:\n",
    "                max_page = num       \n",
    "        except:\n",
    "            pass\n",
    "\n",
    "    # 마지막 페이지 여부 확인     \n",
    "    span = root.xpath('//*[@id=\"mArticle\"]/div[3]/div/span/a[@class=\"btn_page btn_next\"]')\n",
    "\n",
    "    if (len(span) <= 0) & (page > max_page):\n",
    "        break\n",
    "    else:\n",
    "        page = page + 1\n",
    "        \n",
    "    time.sleep(1)      "
   ]
  },
  {
   "cell_type": "code",
   "execution_count": 18,
   "id": "f32270b4",
   "metadata": {},
   "outputs": [
    {
     "name": "stdout",
     "output_type": "stream",
     "text": [
      "                                       URL  \\\n",
      "0   https://v.daum.net/v/20200819084702255   \n",
      "1   https://v.daum.net/v/20200819084617234   \n",
      "2   https://v.daum.net/v/20200819084529215   \n",
      "3   https://v.daum.net/v/20200819084517208   \n",
      "4   https://v.daum.net/v/20200819084251134   \n",
      "5   https://v.daum.net/v/20200819083702982   \n",
      "6   https://v.daum.net/v/20200819083528956   \n",
      "7   https://v.daum.net/v/20200819083303903   \n",
      "8   https://v.daum.net/v/20200819083135880   \n",
      "9   https://v.daum.net/v/20200819082825812   \n",
      "10  https://v.daum.net/v/20200819082814806   \n",
      "11  https://v.daum.net/v/20200819082703784   \n",
      "12  https://v.daum.net/v/20200819082610764   \n",
      "13  https://v.daum.net/v/20200819082557759   \n",
      "14  https://v.daum.net/v/20200819082503742   \n",
      "15  https://v.daum.net/v/20200819082501741   \n",
      "16  https://v.daum.net/v/20200819082324702   \n",
      "17  https://v.daum.net/v/20200819081608550   \n",
      "18  https://v.daum.net/v/20200819080415266   \n",
      "19  https://v.daum.net/v/20200819080203202   \n",
      "20  https://v.daum.net/v/20200819080010140   \n",
      "21  https://v.daum.net/v/20200819080004130   \n",
      "22  https://v.daum.net/v/20200819075759074   \n",
      "23  https://v.daum.net/v/20200819075750071   \n",
      "24  https://v.daum.net/v/20200819075508014   \n",
      "25  https://v.daum.net/v/20200819073309665   \n",
      "26  https://v.daum.net/v/20200819071523473   \n",
      "27  https://v.daum.net/v/20200819071013428   \n",
      "28  https://v.daum.net/v/20200819070104296   \n",
      "29  https://v.daum.net/v/20200819070056287   \n",
      "30  https://v.daum.net/v/20200819070020266   \n",
      "31  https://v.daum.net/v/20200819070020265   \n",
      "32  https://v.daum.net/v/20200819070016259   \n",
      "33  https://v.daum.net/v/20200819070002227   \n",
      "34  https://v.daum.net/v/20200819063012943   \n",
      "35  https://v.daum.net/v/20200819062952928   \n",
      "36  https://v.daum.net/v/20200819062503895   \n",
      "37  https://v.daum.net/v/20200819060332620   \n",
      "38  https://v.daum.net/v/20200819060315614   \n",
      "39  https://v.daum.net/v/20200819060305605   \n",
      "40  https://v.daum.net/v/20200819060247590   \n",
      "41  https://v.daum.net/v/20200819060245589   \n",
      "42  https://v.daum.net/v/20200819060102528   \n",
      "43  https://v.daum.net/v/20200819060000426   \n",
      "44  https://v.daum.net/v/20200819054113224   \n",
      "45  https://v.daum.net/v/20200819053006071   \n",
      "46  https://v.daum.net/v/20200819052402971   \n",
      "47  https://v.daum.net/v/20200819050632662   \n",
      "48  https://v.daum.net/v/20200819050618638   \n",
      "49  https://v.daum.net/v/20200819050602624   \n",
      "50  https://v.daum.net/v/20200819042015362   \n",
      "51  https://v.daum.net/v/20200819030956010   \n",
      "52  https://v.daum.net/v/20200819030950009   \n",
      "53  https://v.daum.net/v/20200819030053787   \n",
      "54  https://v.daum.net/v/20200819021530691   \n",
      "55  https://v.daum.net/v/20200819010010384   \n",
      "56  https://v.daum.net/v/20200819004221292   \n",
      "57  https://v.daum.net/v/20200819000017909   \n",
      "\n",
      "                                                TITLE  \\\n",
      "0                        에기평, 코로나19 확산 방지 투명칸막이 무상 제공   \n",
      "1                    중국 선전시, 전지역 커버하는 '5G SA' 네트워크 구축   \n",
      "2                   상반기 전세계 모바일게임 지출 42조 돌파..반기 기준 최고   \n",
      "3               5분 충전에 600km 주행 가능..전기車 리튬금속전지 개발 본격화   \n",
      "4                       배달의민족, 비 피해 소상공인에 10만원 포인트 지원   \n",
      "5                    美 애질런트, 올리고 제조 시설 증설 결정..현재의 2배↑   \n",
      "6                             디지털뉴딜에 소상공인 온라인 도전 거세진다   \n",
      "7        [엔터테인&] '포스트 코로나' 공연 문화..피할 수 없으면 '온택트'로 즐겨라   \n",
      "8                       \"5분 충전 600km 주행\" 리튬금속전지 개발 착수   \n",
      "9                         전세계 게이머, 모바일게임에 상반기 42조원 썼다   \n",
      "10                       펄어비스, 코로나19 재확산 우려에 임직원 재택근무   \n",
      "11                        유튜브 뒷광고, MCN 향한 철퇴인가? 백신인가?   \n",
      "12                    \"앱마켓 인앱결제 강제 조사해야\"..코스포, 진정서 제출   \n",
      "13                       트렌비, 새 로고 선보여..누적 180억 투자 유치   \n",
      "14                      \"민폐 목사 전광훈 교도소로\"..댓글 불태운 40대男   \n",
      "15                    첫날부터 \"청언유착\" \"생떼 마라\"..8월 국회 첩천산중   \n",
      "16                    \"카메라에 습기 찬다\"..갤노트20, 결로현상 논란 시끌   \n",
      "17                            콘텐츠 감상 편하게.. 확 바뀌는 헬로TV   \n",
      "18                            애플뮤직,  新라디오 서비스로 재도약 추진   \n",
      "19                 \"우시바이오로직스, 상반기 호실적..내년 40%대 성장 회복\"   \n",
      "20                        中 HKC OLED 투자 보류..코로나19에 발목   \n",
      "21               '리모컨으로 채널돌리기 그만'..LG헬로, 넷플릭스처럼 UI 개편   \n",
      "22          '최불암 시리즈'가 광고로?..게임광고에 분 '뉴트로' 바람 [Oh!덕후]   \n",
      "23              트렌드마이크로, IT환경 보안위협 탐지·대응 'XDR 플랫폼' 출시   \n",
      "24                 6가지 색 '갤럭시S20 팬에디션' 이미지 유출..10월 출시   \n",
      "25                      오리온, '초코파이情 바나나' 4년 만에 리뉴얼 출시   \n",
      "26                            이웃집 확진자에 '도로 재택' 들어간 판교   \n",
      "27               \"토종 OTT '역차별' 없도록\"..OTT정책협의체 내주 실무회의   \n",
      "28                         태양계 밖 외계에서 온 '오우무아무아' 정체는?   \n",
      "29              \"술 취해 휘청거리는 당신, 스마트폰은 안다\"..개인 음주경고 성큼   \n",
      "30                    SKT, 코로나19로 채용난 겪는 협력사 50개사 돕는다   \n",
      "31        [사이테크 플러스] 음주사고로 절친잃은 슬픔에..스마트폰으로 걸음분석 과음파악   \n",
      "32             퍼스널 트레이닝을 비대면으로? - 스포투 [혁신, 스타트업을 만나다]   \n",
      "33                         쉽게 못 풀걸?..삼성, 그림으로 휴대폰 잠근다   \n",
      "34         [과학게시판] 정병선 과기차관, 연구장비산업 경쟁력 강화방안 간담회 가져 外   \n",
      "35       '전광훈 코로나 확진' 일파만파에 설훈 \"통합당이 집회 독려..대국민 사과해야\"   \n",
      "36                          \"내가 샀다\"는 삼성 모니터 리뷰도 '뒷광고'   \n",
      "37          네이버웹툰, 북미 1위 '로어 올림푸스' 한국어 버전 19일 국내 첫 공개   \n",
      "38              韓 제약사, 코로나19 악재에도 다양한 채널 통한 R&D 투자 확대   \n",
      "39                    기로에 선 화웨이 스마트폰 사업.. 11월에 운명 갈린다   \n",
      "40               페이스북 vs 방통위 '망 품질 책임론' 2심 결과 이번주 나온다   \n",
      "41              움츠리는 메모리 시장.. 하반기 삼성⋅하이닉스 실적 우려 현실화되나   \n",
      "42                        \"통행세 더 내라\" 구글·애플 횡포에 앱시장 전운   \n",
      "43                      고개드는 토종 OTT 통합론..넷플릭스 대항마 나올까   \n",
      "44                  카카오페이지, 글로벌 역량 갖춘 제작사 '크로스픽쳐스' 인수   \n",
      "45                 \"이태원때처럼\"..기지국 정보로 광화문집회 참석자 알 수 있나   \n",
      "46                     계속되는 코로나19 돌연변이..'칵테일 항체'로 잡는다   \n",
      "47                              투명한 공원 공중화장실, 왜 만들었을까   \n",
      "48                            부산 특구는 암호화폐를 비켜가지 않습니데이   \n",
      "49                   DAXPO 2020, 코로나19 이후 새로운 금융 토론한다   \n",
      "50                   코로나19 재확산 위험 커졌다.. 여름잠 준비하는 IT업계   \n",
      "51                               LG 벨벳, 최적의 메모리 용량 제안   \n",
      "52                      5G 보급과 함께 쑥쑥.. VR게임 대중화시대 열린다   \n",
      "53                \"게임에 빠진 아이와 소통하려면..'게임의 룰'부터 파악하세요\"   \n",
      "54  \"재택근무부터 온라인 콘서트까지..코로나19로 모바일이 삶에 뿌리내렸다\"[신무경의 ...   \n",
      "55               보름 앞으로 다가온 반쪽 행사 'IFA 2020'..강행 배경은?   \n",
      "56                    방심위, 진공 청소기 흡입력 오인케한 공영쇼핑에 '주의'   \n",
      "57            [TF초점] 기대 높아진 갤노트20, 상반기 갤S20 부진까지 씻어낼까   \n",
      "\n",
      "                                              ARTICLE  \n",
      "0   한국에너지기술평가원은 생활방역 정착과 지역경제 활성화에 기여하기 위해 999 비말을...  \n",
      "1   지디넷코리아유효정 중국 전문기자중국 정부 주도로 다음달에서 전국 단위에서 5G 단독...  \n",
      "2   아시아경제 이진규 기자 신종 코로나바이러스감염증코로나19 확산 여파로 실내 활동이 ...  \n",
      "3   헤럴드경제구본혁 기자 약 5분 충전에 600km를 주행할 수 있는 전기차 배터리를 ...  \n",
      "4   지디넷코리아백봉삼 기자배달의민족이하 배민을 운영하는 우아한형제들은 집중호우 피해로 ...  \n",
      "5   미국 애질런트 테크놀로지스Agilent Technologies가 리보핵산 간섭RNA...  \n",
      "6   지디넷코리아안희정 기자최근 정부가 한국판 뉴딜 정책으로 디지털 뉴딜을 내세워 디지털...  \n",
      "7   코로나19 장기화에 따라 비대면 환경도 발전 중이다 오프라인 배경의 직접 소통으로 ...  \n",
      "8   아시아경제 황준호 기자 5분 충전해 600km를 주행할 수 있는 리튬금속 배터리 개...  \n",
      "9   19일 모바일 데이터 분석 플랫폼 앱애니가 발표한 ‘2020년 상반기 전세계 모바일...  \n",
      "10  지디넷코리아김한준 기자코로나19 재확산 우려에 재택근무를 시행하는 기업이 늘어나는 ...  \n",
      "11  최근 유튜브 뒷광고 논란과 함께 다수 연예인의 사과에 이어 크리에이터의 은퇴가 이어...  \n",
      "12  지디넷코리아백봉삼 기자앱 마켓의 높은 수수료도 문제지만 구글이나 애플 같은 시장 지...  \n",
      "13  지디넷코리아방은주 기자인공지능AI 기반 명품구매 플랫폼 트렌비대표 박경훈는 브랜드를...  \n",
      "14  19일 네이버 댓글 통계를 볼 수 있는 네이버 데이터랩에 따르면 지난 17일 네이버...  \n",
      "15  통합당 과방위원들은 이날 국회 과방위 전체회의실에서 단독으로 긴급현안질의를 개최 검...  \n",
      "16  서울뉴스1 이창규 기자  삼성전자의 하반기 전략 스마트폰인 갤럭시노트20이 공식 출...  \n",
      "17  LG헬로비전이 자사 케이블TV 서비스인 헬로tv의 UIUX사용자 환경경험를 전면 개...  \n",
      "18  아이뉴스24 안희권 기자 애플이 음악 스트리밍 서비스 애플뮤직의 라디오 부분을 보강...  \n",
      "19  한국투자증권은 19일 중국의 의약품 위탁생산기업CMO 우시바이오로직스의 실적이 내년...  \n",
      "20  지디넷코리아양태훈 기자중국 디스플레이 업체 HKC가 대형 유기발광다이오드 투자계획을...  \n",
      "21  서울뉴스1 강은성 기자  1번부터 시작해 보고싶은 채널을 찾기 위해 리모컨을 돌리던...  \n",
      "22  OSEN고용준 기자 뉴트로란 새로움new과 복고retro를 합친 신조어로 직접 겪어...  \n",
      "23  아이뉴스24 최은정 기자 트렌드마이크로는 전자메일과 단말서버 클라우드 및 네트워크 ...  \n",
      "24  아시아경제 한진주 기자 삼성전자의 갤럭시S20 팬 에디션이 기존에 출시되지 않았던 ...  \n",
      "25  디지털타임스 심화영 기자 오리온은 초코파이情 바나나를 겉과 속을 모두 개선해 리뉴얼...  \n",
      "26  네이버는 8월 말까지 주 5일 원격근무 체제를 유지하며 추이를 지켜보기로 했다 당초...  \n",
      "27  서울뉴스1 강은성 기자  웨이브나 티빙 등 토종 온라인동영상스트리밍서비스OTT에 들...  \n",
      "28  지금까지 관측된 천체들과는 매우 다른 특징을 가졌는데 태양계 밖 다른 행성계에서 만...  \n",
      "29  서울뉴스1 김승준 기자  술 마신 다음 날 스마트폰을 보니 기억에 없는 전화 기록이...  \n",
      "30  서울연합뉴스 채새롬 기자  SK텔레콤이 신종 코로나바이러스 감염증코로나19 여파로 ...  \n",
      "31  서울연합뉴스 이주영 기자  미국 연구팀이 스마트폰에 내장된 센서로 걸음걸이 데이터를...  \n",
      "32  스포츠경향  비대면의 시대가 열렸다 회의도 비대면으로 하고 회식도 비대면으로 하는 ...  \n",
      "33  삼성전자는 코로나19로 인해 18일 온라인으로 진행한 제4회 삼성보안기술포럼SSTF...  \n",
      "34  ■ 정병선 과학기술정보통신부 1차관은 이달 18일 대전 유성구 한국표준과학연구원과 ...  \n",
      "35  설 최고위원은 18일 전파를 탄 BBS라디오 ‘박경수의 아침저널’에 나와 통합당은 ...  \n",
      "36  미디어오늘  뒷광고 논란을 계기로 디지털 미디어 업계가 자정에 나섰지만 여전히 광고...  \n",
      "37  네이버웹툰은 ‘로어 올림푸스Lore Olympus’를 19일부터 국내에서 정식 연재...  \n",
      "38                                                     \n",
      "39  최근 화웨이는 스마트폰에 탑재할 자체 통신칩 ‘기린’ 생산까지 포기한다고 밝혔다 미...  \n",
      "40  글로벌 기업과 정부 간 법정 다툼으로 주목을 받은 페이스북과 방송통신위원회의 행정소...  \n",
      "41                                                     \n",
      "42  18일 업계에 따르면 구글 플레이스토어는 국내에서도 앱스토어 수수료를 고객 결제금액...  \n",
      "43                         데일리안 김은경 기자 ek@dailiancokr  \n",
      "44  크로스픽쳐스는 2003년 미국 법인 설립을 시작으로 국내에서는 드라마 ‘마음의 소리...  \n",
      "45  전광훈 목사가 있는 서울 성북구 사랑제일교회 관련 확진자가 5일 만에 457명대로 ...  \n",
      "46  앵커  전 세계가 코로나19 치료제와 백신 개발에 속도를 내고 있습니다  하지만 바...  \n",
      "47  공원에 설치된 공중화장실은 누구나 이용할 수 있는 개방 시설이지만 불특정 다수가 사...  \n",
      "48  부산광역시는 지난해 7월 국내 첫 ‘블록체인 규제자유특구’에 지정됐다 지금까지 추가...  \n",
      "49   코인데스크코리아와 한국블록체인협회가 공동주최하고 부산광역시가 후원하는 디지털자산박...  \n",
      "50  19일 업계에 따르면 코로나19가 수도권을 중심으로 확산되면서 국내 주요 IT업체가...  \n",
      "51  고용량 메모리는 No 수년 전만 해도 보고 싶은 영화를 스마트폰에 내려받아 저장하던...  \n",
      "52  18일 게임업계와 외신 보도 등에 따르면 올해 3월 판매를 시작한 미 게임사 밸브의...  \n",
      "53  방승호 서울시교육청 교육연구관59은 게임에 대한 오해가 크다고 말했다 서울 중구 충...  \n",
      "54  글로벌 앱 분석업체 앱애니는 17일미국 현지시간 ‘신종 코로나바이러스 감염증코로나1...  \n",
      "55  유럽 최대 가전ㆍ정보기술IT 전시회인 ‘IFA 2020’가 신종 코로나바이러스 감염...  \n",
      "56  지디넷코리아안희정 기자방송통신심의위원회는 19일 광고심의소위원회 회의를 열고 가정용...  \n",
      "57  더팩트│최수진 기자 신종 코로나바이러스 감염증코로나19 사태 이후 굳게 닫힌 소비자...  \n"
     ]
    }
   ],
   "source": [
    "print(db_select())"
   ]
  },
  {
   "cell_type": "code",
   "execution_count": null,
   "id": "4c288d98",
   "metadata": {},
   "outputs": [],
   "source": []
  }
 ],
 "metadata": {
  "kernelspec": {
   "display_name": "Python 3 (ipykernel)",
   "language": "python",
   "name": "python3"
  },
  "language_info": {
   "codemirror_mode": {
    "name": "ipython",
    "version": 3
   },
   "file_extension": ".py",
   "mimetype": "text/x-python",
   "name": "python",
   "nbconvert_exporter": "python",
   "pygments_lexer": "ipython3",
   "version": "3.9.12"
  }
 },
 "nbformat": 4,
 "nbformat_minor": 5
}
