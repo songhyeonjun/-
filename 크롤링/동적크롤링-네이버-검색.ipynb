{
 "cells": [
  {
   "cell_type": "code",
   "execution_count": 1,
   "id": "1f8c7107",
   "metadata": {},
   "outputs": [],
   "source": [
    "import warnings # 경고무시\n",
    "warnings.filterwarnings(action='ignore')\n",
    "from selenium.webdriver.common.by import By\n",
    "from selenium.webdriver.support.ui import WebDriverWait \n",
    "from selenium.webdriver.support import expected_conditions as EC\n",
    "#step1.selenium 패키지와 time 모듈 import\n",
    "from selenium import webdriver\n",
    "from selenium.webdriver.common.keys import Keys\n",
    "import time"
   ]
  },
  {
   "cell_type": "code",
   "execution_count": 3,
   "id": "bab3555f",
   "metadata": {},
   "outputs": [
    {
     "name": "stdout",
     "output_type": "stream",
     "text": [
      "검색할 키워드를 입력 : 전동킥보드\n"
     ]
    }
   ],
   "source": [
    "# 검색할 키워드 입력\n",
    "query = input('검색할 키워드를 입력 : ')"
   ]
  },
  {
   "cell_type": "code",
   "execution_count": 26,
   "id": "8446f8ad",
   "metadata": {},
   "outputs": [],
   "source": [
    "# 크롬 드라이버로 원하는 url접속\n",
    "# 1. 크롬 브라우저 실행\n",
    "driver = webdriver.Chrome('./chromedriver.exe')"
   ]
  },
  {
   "cell_type": "code",
   "execution_count": 27,
   "id": "e6ce2aec",
   "metadata": {},
   "outputs": [],
   "source": [
    "# 2. 특정 url : http://www.naver.com페이지로 연결\n",
    "url = 'http://www.naver.com'\n",
    "driver.get(url) # hppt요청을 보낸다. <---- http응답을 보낼 것임"
   ]
  },
  {
   "cell_type": "code",
   "execution_count": 28,
   "id": "3e662c28",
   "metadata": {},
   "outputs": [],
   "source": [
    "# 연결하여 페이지를 받아오는 동안 기다리기 설정\n",
    "time.sleep(2)"
   ]
  },
  {
   "cell_type": "code",
   "execution_count": 29,
   "id": "ce43f966",
   "metadata": {},
   "outputs": [],
   "source": [
    "# 3. 네이버 검색 input태그의 위치를 찾아서\n",
    "# #query\n",
    "search_box = driver.find_element(By.CSS_SELECTOR, 'input#query')\n",
    "\n",
    "\n",
    "# 4. 3번에서 찾은 input태그에 검색어를 넣는다.\n",
    "search_box.send_keys(query)\n",
    "\n",
    "# 5. 4번에서 입력한 값 서버로 전송\n",
    "search_box.send_keys(Keys.ENTER)\n",
    "\n",
    "# 기다리기 설정\n",
    "time.sleep(2)"
   ]
  },
  {
   "cell_type": "code",
   "execution_count": 30,
   "id": "c2af3cfa",
   "metadata": {},
   "outputs": [],
   "source": [
    "# #lnb > div.lnb_group > div > ul > li:nth-child(8)  > a\n",
    "# 6. news tab을 찾아라!\n",
    "news_tab = driver.find_element(By.CSS_SELECTOR, '#lnb > div.lnb_group > div > ul > li:nth-child(3) > a')\n",
    "\n",
    "# 7. news_tab을 클릭!\n",
    "news_tab.click()\n",
    "time.sleep(1)\n",
    "\n"
   ]
  },
  {
   "cell_type": "code",
   "execution_count": 31,
   "id": "14a125c0",
   "metadata": {},
   "outputs": [
    {
     "name": "stdout",
     "output_type": "stream",
     "text": [
      " C 드라이브의 볼륨에는 이름이 없습니다.\n",
      " 볼륨 일련 번호: 12BB-23DC\n",
      "\n",
      " C:\\Users\\user\\Python\\크롤링 디렉터리\n",
      "\n",
      "2022-06-15  오전 03:54        11,771,904 chromedriver.exe\n",
      "\n",
      " C:\\Users\\user\\Python\\크롤링 디렉터리\n",
      "\n",
      "\n",
      " C:\\Users\\user\\Python\\크롤링 디렉터리\n",
      "\n",
      "\n",
      " C:\\Users\\user\\Python\\크롤링 디렉터리\n",
      "\n",
      "\n",
      " C:\\Users\\user\\Python\\크롤링 디렉터리\n",
      "\n",
      "               1개 파일          11,771,904 바이트\n",
      "               0개 디렉터리  164,591,058,944 바이트 남음\n"
     ]
    }
   ],
   "source": [
    "!dir C* #현재 위치 파일 목록"
   ]
  },
  {
   "cell_type": "code",
   "execution_count": 32,
   "id": "70886332",
   "metadata": {},
   "outputs": [
    {
     "data": {
      "text/plain": [
       "[<selenium.webdriver.remote.webelement.WebElement (session=\"4b9e5af4efa57833d949bab5be14bde8\", element=\"261dc859-2a2a-42fe-8689-757f15bce4e6\")>,\n",
       " <selenium.webdriver.remote.webelement.WebElement (session=\"4b9e5af4efa57833d949bab5be14bde8\", element=\"38cd71b5-946b-4087-b217-046811c0dd5a\")>,\n",
       " <selenium.webdriver.remote.webelement.WebElement (session=\"4b9e5af4efa57833d949bab5be14bde8\", element=\"45f56751-5a2b-4304-b9c6-32844d9f8d28\")>,\n",
       " <selenium.webdriver.remote.webelement.WebElement (session=\"4b9e5af4efa57833d949bab5be14bde8\", element=\"14f2f842-94bb-4728-acfb-36d00cce5290\")>,\n",
       " <selenium.webdriver.remote.webelement.WebElement (session=\"4b9e5af4efa57833d949bab5be14bde8\", element=\"045cd816-873b-44a0-b312-da5ce11e7ef4\")>,\n",
       " <selenium.webdriver.remote.webelement.WebElement (session=\"4b9e5af4efa57833d949bab5be14bde8\", element=\"d3f1b114-42d9-4dcd-91aa-c5483a99353d\")>,\n",
       " <selenium.webdriver.remote.webelement.WebElement (session=\"4b9e5af4efa57833d949bab5be14bde8\", element=\"175ae00f-fa41-4f70-992f-5db89bea74c9\")>,\n",
       " <selenium.webdriver.remote.webelement.WebElement (session=\"4b9e5af4efa57833d949bab5be14bde8\", element=\"b1e7fc5d-0b34-444b-a61a-9ce2980647c1\")>,\n",
       " <selenium.webdriver.remote.webelement.WebElement (session=\"4b9e5af4efa57833d949bab5be14bde8\", element=\"a4331769-58b4-4440-b4cf-3b5a54f40b6d\")>,\n",
       " <selenium.webdriver.remote.webelement.WebElement (session=\"4b9e5af4efa57833d949bab5be14bde8\", element=\"b1b9f3a7-7831-4d19-bddb-cb01ae9bdef7\")>]"
      ]
     },
     "execution_count": 32,
     "metadata": {},
     "output_type": "execute_result"
    }
   ],
   "source": [
    "# 뉴스 제목 가지고 와보자 => #sp_nws1 > div.news_wrap.api_ani_send > div > a\n",
    "news_title = driver.find_elements(By.CSS_SELECTOR, 'a.news_tit')\n",
    "news_title"
   ]
  },
  {
   "cell_type": "code",
   "execution_count": 33,
   "id": "0d8a08eb",
   "metadata": {},
   "outputs": [
    {
     "data": {
      "text/plain": [
       "list"
      ]
     },
     "execution_count": 33,
     "metadata": {},
     "output_type": "execute_result"
    }
   ],
   "source": [
    "type(news_title)"
   ]
  },
  {
   "cell_type": "code",
   "execution_count": 34,
   "id": "3dd1cced",
   "metadata": {},
   "outputs": [
    {
     "name": "stdout",
     "output_type": "stream",
     "text": [
      "무면허 2인 킥보드, 달려오던 차에 ‘쾅’… 공중 2회전\n",
      "공중 두 바퀴 아찔…킥보드 탄 10대 2명 마주오던 차와 '쾅'\n",
      "\"전동킥보드 음주운전해도 운전면허 취소 정당\"\n",
      "원주시, 불법 주정차 전동킥보드 신고시스템 운영\n",
      "안전모 없이 킥보드 같이 탄 고교생 2명... 차에 치여 공중 두 바퀴\n",
      "청주서 킥보드 타고 출근하던 40대…굴착기와 충돌해 사망\n",
      "전동킥보드 타고 올림픽대로 질주…안전모도 안 써\n",
      "다가구주택서 전동킥보드 발화 추정 화재…인명피해 없어\n",
      "도로 냅다 가로지른 2인 킥보드 차에 치였다…사고 영상\n",
      "[영상] '아찔한 공중제비'…안전모 없이 킥보드 탄 고교생 2명 교통사고\n"
     ]
    }
   ],
   "source": [
    "for title in news_title:\n",
    "    print(title.text)"
   ]
  },
  {
   "cell_type": "code",
   "execution_count": 40,
   "id": "a6beb524",
   "metadata": {},
   "outputs": [],
   "source": [
    "news_tab =  driver.find_element(By.CSS_SELECTOR, '#sp_nws1 > div.news_wrap.api_ani_send > div > a')\n",
    "news_tab.click()\n",
    "time.sleep(1)\n",
    "#sp_nws6 > div.news_wrap.api_ani_send > div > a\n",
    "#sp_nws8 > div.news_wrap.api_ani_send > div > a\n"
   ]
  },
  {
   "cell_type": "code",
   "execution_count": 41,
   "id": "a7541f2e",
   "metadata": {},
   "outputs": [],
   "source": [
    "last_tab = driver.window_handles[-1]\n",
    "driver.switch_to.window(window_name=last_tab)"
   ]
  },
  {
   "cell_type": "code",
   "execution_count": 43,
   "id": "ce949594",
   "metadata": {},
   "outputs": [
    {
     "data": {
      "text/plain": [
       "[<selenium.webdriver.remote.webelement.WebElement (session=\"4b9e5af4efa57833d949bab5be14bde8\", element=\"b910d5ee-7f8a-4a56-ac29-2c94f71bb70c\")>]"
      ]
     },
     "execution_count": 43,
     "metadata": {},
     "output_type": "execute_result"
    }
   ],
   "source": [
    "news_maintext = driver.find_elements(By.CSS_SELECTOR, \"#fusion-app > div.article.\\| > div:nth-child(2) > div > section > article > section\")\n",
    "news_maintext"
   ]
  },
  {
   "cell_type": "code",
   "execution_count": 44,
   "id": "100e0614",
   "metadata": {},
   "outputs": [
    {
     "name": "stdout",
     "output_type": "stream",
     "text": [
      "지난 26일 오후5시쯤 경남 창원시 의창구 팔용동 사거리에서 킥보드를 탄 10대 2명이 맞은편에서 달려오던 차량에 치였다. /유튜브\n",
      "경남 창원에서 안전모를 쓰지 않은 10대 2명이 킥보드를 함께 타고 가다 승용차에 치이는 사고가 발생했다.\n",
      "28일 창원 서부경찰서에 따르면, 지난 26일 오후 5시 20분쯤 경남 창원시 의창구 팔용동 교차로에서 A(18)군이 친구를 뒤에 태우고 전동 킥보드를 몰다가 마주오던 차량과 충돌했다. 킥보드 탑승자 2명은 이 충격으로 공중에서 두바퀴가량 회전하며 날아간 뒤 땅에 떨어졌다.\n",
      "지난 26일 경남 창원시 의창구 팔용동 사거리에서 좌회전하던 전동킥보드와 직진하던 차량이 충돌했다. /유튜브\n",
      "유튜브에는 사고 목격자의 블랙박스 영상이 올라왔다. 영상을 보면 황색 점멸등이 켜진 교차로에서 전동 킥보드가 맨 앞차를 가로질러 좌회전한다. 다른 차량들은 대기하고 있는 모습이 보인다. 사고 차량은 맞은편에서 직진 주행을 하다 이들을 발견하지 못하고 그대로 들이받았다. 사고 시점에 맞은편 신호가 정상 신호였는지 여부에 대해선 알려지지 않았다.\n",
      "사고 직후 A군과 동승자는 인근 병원으로 이송됐다. 생명에 지장은 없는 것으로 알려졌다. 당시 킥보드 탑승자 2명은 안전모를 쓰지 않았다. A군은 원동기장치자전거 면허가 없는 것으로 조사됐다.\n",
      "경찰 관계자는 “신호주기표와 인근 CCTV 등을 확보해 정확한 사고 경위를 조사하고 있다”고 전했다.\n",
      "전동 킥보드는 ‘제2종 원동기장치 자전거면허’ 이상을 소지해야 탈 수 있다. 1종·2종 운전면허가 있어도 탈 수 있다. 주행 시에는 안전모를 반드시 착용해야 한다. 2명 이상이 동시에 탑승하거나 인도 주행, 음주 주행은 불법이다.\n"
     ]
    }
   ],
   "source": [
    "for maintext in news_maintext:\n",
    "    print(maintext.text)"
   ]
  },
  {
   "cell_type": "code",
   "execution_count": null,
   "id": "138985bc",
   "metadata": {},
   "outputs": [],
   "source": []
  }
 ],
 "metadata": {
  "kernelspec": {
   "display_name": "Python 3 (ipykernel)",
   "language": "python",
   "name": "python3"
  },
  "language_info": {
   "codemirror_mode": {
    "name": "ipython",
    "version": 3
   },
   "file_extension": ".py",
   "mimetype": "text/x-python",
   "name": "python",
   "nbconvert_exporter": "python",
   "pygments_lexer": "ipython3",
   "version": "3.9.12"
  }
 },
 "nbformat": 4,
 "nbformat_minor": 5
}
