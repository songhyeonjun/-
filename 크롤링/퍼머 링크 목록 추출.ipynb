{
 "cells": [
  {
   "cell_type": "markdown",
   "id": "185c576f",
   "metadata": {},
   "source": [
    "# 목록 페이지에서 퍼머 링크 목록 추출\n",
    " - 목록 페이지에서 상세 페이지로의 링크 목록을 추출"
   ]
  },
  {
   "cell_type": "code",
   "execution_count": 1,
   "id": "97a00221",
   "metadata": {},
   "outputs": [],
   "source": [
    "import requests\n",
    "import lxml.html"
   ]
  },
  {
   "cell_type": "code",
   "execution_count": 2,
   "id": "b8815c43",
   "metadata": {},
   "outputs": [
    {
     "name": "stdout",
     "output_type": "stream",
     "text": [
      "/store/books/look.php?p_code=B3178834938\n",
      "javascript:;\n",
      "/store/books/look.php?p_code=B3178834938\n",
      "/store/books/look.php?p_code=B6084607806\n",
      "javascript:;\n",
      "/store/books/look.php?p_code=B6084607806\n",
      "/store/books/look.php?p_code=B8948111854\n",
      "javascript:;\n",
      "/store/books/look.php?p_code=B8948111854\n",
      "/store/books/look.php?p_code=B8661740335\n",
      "javascript:;\n",
      "/store/books/look.php?p_code=B8661740335\n",
      "/store/books/look.php?p_code=B1382037871\n",
      "javascript:;\n",
      "/store/books/look.php?p_code=B1382037871\n",
      "/store/books/look.php?p_code=B2847674054\n",
      "javascript:;\n",
      "/store/books/look.php?p_code=B2847674054\n",
      "/store/books/look.php?p_code=B4162156367\n",
      "/store/books/look.php?p_code=B4162156367\n",
      "/store/books/look.php?p_code=B5156679966\n",
      "/store/books/look.php?p_code=B5156679966\n",
      "/store/books/look.php?p_code=B6189263297\n",
      "/store/books/look.php?p_code=B6189263297\n",
      "/store/books/look.php?p_code=B4813114979\n",
      "javascript:;\n",
      "/store/books/look.php?p_code=B4813114979\n",
      "/store/books/look.php?p_code=B8806843023\n",
      "javascript:;\n",
      "/store/books/look.php?p_code=B8806843023\n",
      "/store/books/look.php?p_code=B2859439220\n",
      "/store/books/look.php?p_code=B2859439220\n",
      "/store/books/look.php?p_code=B1996635146\n",
      "javascript:;\n",
      "/store/books/look.php?p_code=B1996635146\n",
      "/store/books/look.php?p_code=B9063949643\n",
      "/store/books/look.php?p_code=B9063949643\n",
      "/store/books/look.php?p_code=B7400451696\n",
      "/store/books/look.php?p_code=B7400451696\n",
      "/store/books/look.php?p_code=B6129400746\n",
      "/store/books/look.php?p_code=B6129400746\n",
      "/store/books/look.php?p_code=B7738896383\n",
      "/store/books/look.php?p_code=B7738896383\n",
      "/store/books/look.php?p_code=B4354575770\n",
      "javascript:;\n",
      "/store/books/look.php?p_code=B4354575770\n",
      "/store/books/look.php?p_code=B1959656080\n",
      "/store/books/look.php?p_code=B1959656080\n",
      "/store/books/look.php?p_code=B5171715268\n",
      "/store/books/look.php?p_code=B5171715268\n"
     ]
    }
   ],
   "source": [
    "response = requests.get('http://www.hanbit.co.kr/store/books/new_book_list.html')\n",
    "root = lxml.html.fromstring(response.content)\n",
    "for a in root.cssselect('.view_box a'):\n",
    "    url = a.get('href')\n",
    "    print(url)"
   ]
  },
  {
   "cell_type": "markdown",
   "id": "7072df58",
   "metadata": {},
   "source": [
    "## javascript로 시작하는 목록 제거 필요\n"
   ]
  },
  {
   "cell_type": "markdown",
   "id": "f395eb1e",
   "metadata": {},
   "source": [
    "## 상대 URL을 절대 URL로 변환 필요"
   ]
  },
  {
   "cell_type": "code",
   "execution_count": 3,
   "id": "089d76f1",
   "metadata": {},
   "outputs": [],
   "source": [
    "response = requests.get('http://www.hanbit.co.kr/store/books/new_book_list.html')\n",
    "root = lxml.html.fromstring(response.content)"
   ]
  },
  {
   "cell_type": "code",
   "execution_count": 4,
   "id": "eb30db10",
   "metadata": {},
   "outputs": [
    {
     "name": "stdout",
     "output_type": "stream",
     "text": [
      "https://www.hanbit.co.kr/store/books/look.php?p_code=B3178834938\n",
      "https://www.hanbit.co.kr/store/books/look.php?p_code=B6084607806\n",
      "https://www.hanbit.co.kr/store/books/look.php?p_code=B8948111854\n",
      "https://www.hanbit.co.kr/store/books/look.php?p_code=B8661740335\n",
      "https://www.hanbit.co.kr/store/books/look.php?p_code=B1382037871\n",
      "https://www.hanbit.co.kr/store/books/look.php?p_code=B2847674054\n",
      "https://www.hanbit.co.kr/store/books/look.php?p_code=B4162156367\n",
      "https://www.hanbit.co.kr/store/books/look.php?p_code=B5156679966\n",
      "https://www.hanbit.co.kr/store/books/look.php?p_code=B6189263297\n",
      "https://www.hanbit.co.kr/store/books/look.php?p_code=B4813114979\n",
      "https://www.hanbit.co.kr/store/books/look.php?p_code=B8806843023\n",
      "https://www.hanbit.co.kr/store/books/look.php?p_code=B2859439220\n",
      "https://www.hanbit.co.kr/store/books/look.php?p_code=B1996635146\n",
      "https://www.hanbit.co.kr/store/books/look.php?p_code=B9063949643\n",
      "https://www.hanbit.co.kr/store/books/look.php?p_code=B7400451696\n",
      "https://www.hanbit.co.kr/store/books/look.php?p_code=B6129400746\n",
      "https://www.hanbit.co.kr/store/books/look.php?p_code=B7738896383\n",
      "https://www.hanbit.co.kr/store/books/look.php?p_code=B4354575770\n",
      "https://www.hanbit.co.kr/store/books/look.php?p_code=B1959656080\n",
      "https://www.hanbit.co.kr/store/books/look.php?p_code=B5171715268\n"
     ]
    }
   ],
   "source": [
    "# 모든 링크를 절대 URL로 변환\n",
    "root.make_links_absolute(response.url)\n",
    "\n",
    "# 목록에서 javascript 제거\n",
    "for a in root.cssselect('.view_box .book_tit a'):\n",
    "    url = a.get('href')\n",
    "    print(url)"
   ]
  },
  {
   "cell_type": "markdown",
   "id": "38e21448",
   "metadata": {},
   "source": [
    "## URL 목록추출을 위한 scrape_list_page()함수 정의\n",
    "## scrape_list_page()함수의 반환값은 list처럼 반복 가능한 제너레이터로 구현"
   ]
  },
  {
   "cell_type": "code",
   "execution_count": 5,
   "id": "c4d731c2",
   "metadata": {},
   "outputs": [],
   "source": [
    "def main():\n",
    "    \"\"\"\n",
    "    크롤러의 메인 처리\n",
    "    \"\"\"\n",
    "    # 여러 페이지에서 크롤링을 위해 Session 사용\n",
    "    session = requests.Session()  \n",
    "    # scrape_list_page() 함수를 호출해서 제너레이터를 추출\n",
    "    response = session.get('http://www.hanbit.co.kr/store/books/new_book_list.html')\n",
    "    urls = scrape_list_page(response)\n",
    "    # 제너레이터는 list처럼 사용 가능\n",
    "    for url in urls:\n",
    "        print(url)\n",
    "        print('-'*70)"
   ]
  },
  {
   "cell_type": "code",
   "execution_count": 6,
   "id": "757ee12c",
   "metadata": {},
   "outputs": [],
   "source": [
    "def scrape_list_page(response):\n",
    "    root = lxml.html.fromstring(response.content)\n",
    "    root.make_links_absolute(response.url)\n",
    "    for a in root.cssselect('.view_box .book_tit a'):\n",
    "        url = a.get('href')\n",
    "        # yield 구문으로 제너레이터의 요소 반환\n",
    "        yield url"
   ]
  },
  {
   "cell_type": "code",
   "execution_count": 7,
   "id": "633cadac",
   "metadata": {},
   "outputs": [
    {
     "name": "stdout",
     "output_type": "stream",
     "text": [
      "https://www.hanbit.co.kr/store/books/look.php?p_code=B3178834938\n",
      "----------------------------------------------------------------------\n",
      "https://www.hanbit.co.kr/store/books/look.php?p_code=B6084607806\n",
      "----------------------------------------------------------------------\n",
      "https://www.hanbit.co.kr/store/books/look.php?p_code=B8948111854\n",
      "----------------------------------------------------------------------\n",
      "https://www.hanbit.co.kr/store/books/look.php?p_code=B8661740335\n",
      "----------------------------------------------------------------------\n",
      "https://www.hanbit.co.kr/store/books/look.php?p_code=B1382037871\n",
      "----------------------------------------------------------------------\n",
      "https://www.hanbit.co.kr/store/books/look.php?p_code=B2847674054\n",
      "----------------------------------------------------------------------\n",
      "https://www.hanbit.co.kr/store/books/look.php?p_code=B4162156367\n",
      "----------------------------------------------------------------------\n",
      "https://www.hanbit.co.kr/store/books/look.php?p_code=B5156679966\n",
      "----------------------------------------------------------------------\n",
      "https://www.hanbit.co.kr/store/books/look.php?p_code=B6189263297\n",
      "----------------------------------------------------------------------\n",
      "https://www.hanbit.co.kr/store/books/look.php?p_code=B4813114979\n",
      "----------------------------------------------------------------------\n",
      "https://www.hanbit.co.kr/store/books/look.php?p_code=B8806843023\n",
      "----------------------------------------------------------------------\n",
      "https://www.hanbit.co.kr/store/books/look.php?p_code=B2859439220\n",
      "----------------------------------------------------------------------\n",
      "https://www.hanbit.co.kr/store/books/look.php?p_code=B1996635146\n",
      "----------------------------------------------------------------------\n",
      "https://www.hanbit.co.kr/store/books/look.php?p_code=B9063949643\n",
      "----------------------------------------------------------------------\n",
      "https://www.hanbit.co.kr/store/books/look.php?p_code=B7400451696\n",
      "----------------------------------------------------------------------\n",
      "https://www.hanbit.co.kr/store/books/look.php?p_code=B6129400746\n",
      "----------------------------------------------------------------------\n",
      "https://www.hanbit.co.kr/store/books/look.php?p_code=B7738896383\n",
      "----------------------------------------------------------------------\n",
      "https://www.hanbit.co.kr/store/books/look.php?p_code=B4354575770\n",
      "----------------------------------------------------------------------\n",
      "https://www.hanbit.co.kr/store/books/look.php?p_code=B1959656080\n",
      "----------------------------------------------------------------------\n",
      "https://www.hanbit.co.kr/store/books/look.php?p_code=B5171715268\n",
      "----------------------------------------------------------------------\n"
     ]
    }
   ],
   "source": [
    "if __name__ == '__main__':\n",
    "    main()"
   ]
  },
  {
   "cell_type": "code",
   "execution_count": null,
   "id": "3ca48a22",
   "metadata": {},
   "outputs": [],
   "source": []
  },
  {
   "cell_type": "code",
   "execution_count": 8,
   "id": "dd1f4482",
   "metadata": {},
   "outputs": [],
   "source": [
    "def main2():\n",
    "    # 여러 페이지에서 크롤링을 위해 Session 사용\n",
    "    session = requests.Session()  \n",
    "    # scrape_list_page() 함수를 호출해서 제너레이터를 추출\n",
    "    response = session.get('http://www.hanbit.co.kr/store/books/new_book_list.html')\n",
    "    urls = scrape_list_page2(response)\n",
    "    for url in urls:\n",
    "        response = session.get(url)  # Session을 사용해 상세 페이지를 추출\n",
    "        ebook = scrape_detail_page2(response)  # 상세 페이지에서 상세 정보를 추출\n",
    "        print(ebook)  # 상세 정보 출력\n",
    "        break  "
   ]
  },
  {
   "cell_type": "code",
   "execution_count": 9,
   "id": "4687feed",
   "metadata": {},
   "outputs": [],
   "source": [
    "def scrape_list_page2(response):\n",
    "    root = lxml.html.fromstring(response.content)\n",
    "    root.make_links_absolute(response.url)\n",
    "    for a in root.cssselect('.view_box .book_tit a'):\n",
    "        url = a.get('href')\n",
    "        yield url"
   ]
  },
  {
   "cell_type": "code",
   "execution_count": 10,
   "id": "5a99746f",
   "metadata": {},
   "outputs": [],
   "source": [
    "def scrape_detail_page2(response):\n",
    "    \"\"\"f\n",
    "    상세 페이지의 Response에서 책 정보를 dict로 추출\n",
    "    \"\"\"\n",
    "    root = lxml.html.fromstring(response.content)\n",
    "    ebook = {\n",
    "        'url': response.url,\n",
    "        'title': root.cssselect('.store_product_info_box h3')[0].text_content(),\n",
    "        'price': root.cssselect('.pbr strong')[0].text_content(),\n",
    "        'content': [p.text_content()\\\n",
    "            for p in root.cssselect('#tabs_3 .hanbit_edit_view p')]\n",
    "    }\n",
    "    return ebook"
   ]
  },
  {
   "cell_type": "code",
   "execution_count": 11,
   "id": "8f9ca0ab",
   "metadata": {},
   "outputs": [
    {
     "name": "stdout",
     "output_type": "stream",
     "text": [
      "{'url': 'https://www.hanbit.co.kr/store/books/look.php?p_code=B3178834938', 'title': '받침 없는 한글 동화 : 4권 세트', 'price': '49,680', 'content': ['', '\\r\\n\\t\\t<1편>\\r\\n', '이렇게 읽어요', '1. 무시무시 마녀가 이사 와!', '2. 아기 고래 뿌우의 노래', '\\xa0', '\\r\\n\\t\\t<2편>\\r\\n', '이렇게 읽어요', '1. 도, 도, 도깨비다!', '2. 느티나무 아파트', '\\xa0', '\\r\\n\\t\\t<3편>\\r\\n', '이렇게 읽어요', '1. 바쁘다 바빠 너구리 바빠', '2. 꼬마 지우개 마구마구', '\\xa0', '\\r\\n\\t\\t<4편>\\r\\n', '이렇게 읽어요', '1. 도깨비 파자마 파티', '2. 꼬마 두루미 뚜루']}\n"
     ]
    }
   ],
   "source": [
    "if __name__ == '__main__':\n",
    "    main2()"
   ]
  },
  {
   "cell_type": "code",
   "execution_count": null,
   "id": "107cd1c4",
   "metadata": {},
   "outputs": [],
   "source": []
  },
  {
   "cell_type": "code",
   "execution_count": null,
   "id": "0467750b",
   "metadata": {},
   "outputs": [],
   "source": []
  },
  {
   "cell_type": "code",
   "execution_count": 12,
   "id": "eadab87b",
   "metadata": {},
   "outputs": [],
   "source": [
    "import re"
   ]
  },
  {
   "cell_type": "code",
   "execution_count": 13,
   "id": "ec71a27f",
   "metadata": {},
   "outputs": [],
   "source": [
    "def main3():\n",
    "    # 여러 페이지에서 크롤링을 위해 Session 사용\n",
    "    session = requests.Session()  \n",
    "    # scrape_list_page() 함수를 호출해서 제너레이터를 추출\n",
    "    response = session.get('http://www.hanbit.co.kr/store/books/new_book_list.html')\n",
    "    urls = scrape_list_page3(response)\n",
    "    for url in urls:\n",
    "        response = session.get(url)  # Session을 사용해 상세 페이지를 추출\n",
    "        ebook = scrape_detail_page3(response)  # 상세 페이지에서 상세 정보를 추출\n",
    "        print(ebook)  # 상세 정보 출력\n",
    "        break  "
   ]
  },
  {
   "cell_type": "code",
   "execution_count": 14,
   "id": "92dbdbfe",
   "metadata": {},
   "outputs": [],
   "source": [
    "def scrape_list_page3(response):\n",
    "    root = lxml.html.fromstring(response.content)\n",
    "    root.make_links_absolute(response.url)\n",
    "    for a in root.cssselect('.view_box .book_tit a'):\n",
    "        url = a.get('href')\n",
    "        yield url"
   ]
  },
  {
   "cell_type": "code",
   "execution_count": 15,
   "id": "3325501f",
   "metadata": {},
   "outputs": [],
   "source": [
    "def scrape_detail_page3(response):\n",
    "    \"\"\"\n",
    "    상세 페이지의 Response에서 책 정보를 dict로 추출\n",
    "    \"\"\"\n",
    "    root = lxml.html.fromstring(response.content)\n",
    "    ebook = {\n",
    "        'url': response.url,\n",
    "        'title': root.cssselect('.store_product_info_box h3')[0].text_content(),\n",
    "        'price': root.cssselect('.pbr strong')[0].text_content(),\n",
    "        'content': [normalize_spaces(p.text_content())\n",
    "            for p in root.cssselect('#tabs_3 .hanbit_edit_view p')\n",
    "            if normalize_spaces(p.text_content()) != '']\n",
    "    }\n",
    "    return ebook"
   ]
  },
  {
   "cell_type": "code",
   "execution_count": 16,
   "id": "12cba59b",
   "metadata": {},
   "outputs": [],
   "source": [
    "def normalize_spaces(s):\n",
    "    \"\"\"\n",
    "    연결된 공백을 하나의 공백으로 변경\n",
    "    \"\"\"\n",
    "    return re.sub(r'\\s+', ' ', s).strip()"
   ]
  },
  {
   "cell_type": "code",
   "execution_count": 17,
   "id": "afbe33f0",
   "metadata": {},
   "outputs": [
    {
     "name": "stdout",
     "output_type": "stream",
     "text": [
      "{'url': 'https://www.hanbit.co.kr/store/books/look.php?p_code=B3178834938', 'title': '받침 없는 한글 동화 : 4권 세트', 'price': '49,680', 'content': ['<1편>', '이렇게 읽어요', '1. 무시무시 마녀가 이사 와!', '2. 아기 고래 뿌우의 노래', '<2편>', '이렇게 읽어요', '1. 도, 도, 도깨비다!', '2. 느티나무 아파트', '<3편>', '이렇게 읽어요', '1. 바쁘다 바빠 너구리 바빠', '2. 꼬마 지우개 마구마구', '<4편>', '이렇게 읽어요', '1. 도깨비 파자마 파티', '2. 꼬마 두루미 뚜루']}\n"
     ]
    }
   ],
   "source": [
    "if __name__ == '__main__':\n",
    "    main3()"
   ]
  },
  {
   "cell_type": "code",
   "execution_count": null,
   "id": "282c38a9",
   "metadata": {},
   "outputs": [],
   "source": []
  },
  {
   "cell_type": "code",
   "execution_count": null,
   "id": "435f9acf",
   "metadata": {},
   "outputs": [],
   "source": []
  },
  {
   "cell_type": "code",
   "execution_count": 18,
   "id": "556e0c5f",
   "metadata": {},
   "outputs": [],
   "source": [
    "import time"
   ]
  },
  {
   "cell_type": "code",
   "execution_count": 19,
   "id": "dda1f6a0",
   "metadata": {},
   "outputs": [],
   "source": [
    "def main4():\n",
    "    # 여러 페이지에서 크롤링을 위해 Session 사용\n",
    "    session = requests.Session()  \n",
    "    # scrape_list_page() 함수를 호출해서 제너레이터를 추출\n",
    "    response = session.get('http://www.hanbit.co.kr/store/books/new_book_list.html')\n",
    "    urls = scrape_list_page4(response)\n",
    "    for url in urls:\n",
    "        time.sleep(1) # 1초간 대기\n",
    "        response = session.get(url)  # Session을 사용해 상세 페이지를 추출\n",
    "        ebook = scrape_detail_page4(response)  # 상세 페이지에서 상세 정보를 추출\n",
    "        print(ebook)  # 상세 정보 출력\n",
    "        break  "
   ]
  },
  {
   "cell_type": "code",
   "execution_count": 21,
   "id": "e26f0545",
   "metadata": {},
   "outputs": [],
   "source": [
    "def scrape_list_page4(response):\n",
    "    root = lxml.html.fromstring(response.content)\n",
    "    root.make_links_absolute(response.url)\n",
    "    for a in root.cssselect('.view_box .book_tit a'):\n",
    "        url = a.get('href')\n",
    "        yield url"
   ]
  },
  {
   "cell_type": "code",
   "execution_count": 22,
   "id": "da8bcc88",
   "metadata": {},
   "outputs": [],
   "source": [
    "def scrape_detail_page4(response):\n",
    "    \"\"\"\n",
    "    상세 페이지의 Response에서 책 정보를 dict로 추출\n",
    "    \"\"\"\n",
    "    root = lxml.html.fromstring(response.content)\n",
    "    ebook = {\n",
    "        'url': response.url,\n",
    "        'title': root.cssselect('.store_product_info_box h3')[0].text_content(),\n",
    "        'price': root.cssselect('.pbr strong')[0].text_content(),\n",
    "        'content': [normalize_spaces(p.text_content())\n",
    "            for p in root.cssselect('#tabs_3 .hanbit_edit_view p')\n",
    "            if normalize_spaces(p.text_content()) != '']\n",
    "    }\n",
    "    return ebook"
   ]
  },
  {
   "cell_type": "code",
   "execution_count": 24,
   "id": "5a42d18f",
   "metadata": {},
   "outputs": [
    {
     "name": "stdout",
     "output_type": "stream",
     "text": [
      "{'url': 'https://www.hanbit.co.kr/store/books/look.php?p_code=B3178834938', 'title': '받침 없는 한글 동화 : 4권 세트', 'price': '49,680', 'content': ['<1편>', '이렇게 읽어요', '1. 무시무시 마녀가 이사 와!', '2. 아기 고래 뿌우의 노래', '<2편>', '이렇게 읽어요', '1. 도, 도, 도깨비다!', '2. 느티나무 아파트', '<3편>', '이렇게 읽어요', '1. 바쁘다 바빠 너구리 바빠', '2. 꼬마 지우개 마구마구', '<4편>', '이렇게 읽어요', '1. 도깨비 파자마 파티', '2. 꼬마 두루미 뚜루']}\n"
     ]
    }
   ],
   "source": [
    "if __name__ == '__main__':\n",
    "    main4()"
   ]
  },
  {
   "cell_type": "code",
   "execution_count": null,
   "id": "c50fe271",
   "metadata": {},
   "outputs": [],
   "source": []
  }
 ],
 "metadata": {
  "kernelspec": {
   "display_name": "Python 3 (ipykernel)",
   "language": "python",
   "name": "python3"
  },
  "language_info": {
   "codemirror_mode": {
    "name": "ipython",
    "version": 3
   },
   "file_extension": ".py",
   "mimetype": "text/x-python",
   "name": "python",
   "nbconvert_exporter": "python",
   "pygments_lexer": "ipython3",
   "version": "3.9.12"
  }
 },
 "nbformat": 4,
 "nbformat_minor": 5
}
