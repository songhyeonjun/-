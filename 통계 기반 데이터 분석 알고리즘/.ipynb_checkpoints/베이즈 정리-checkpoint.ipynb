{
 "cells": [
  {
   "cell_type": "markdown",
   "id": "c81a1ba8",
   "metadata": {},
   "source": [
    "# 베이즈 정리(Bayesian Theorem)\n",
    " - 알고자 하는 것 :  흡연자 중 30대일 확률? ==> P(30대|흡연)\n",
    " - 원인 : 나이, 결과 : 흡연자\n",
    " - 조건부 확률 P(흡연자 | 나이그룹)"
   ]
  },
  {
   "cell_type": "code",
   "execution_count": 6,
   "id": "8dcade5a",
   "metadata": {},
   "outputs": [],
   "source": [
    "import pandas as pd\n",
    "\n",
    "# 데이터 셋 생성\n",
    "smoke_data = pd.DataFrame(\n",
    "    {\n",
    "        \"나이그룹\" : [\n",
    "            '10', '10', '10', '10', '10', '10', '10', '10', '10', '10', \n",
    "            '20', '20', '20', '20', '20', '20', '20', '20', '20', '20', \n",
    "            '30', '30', '30', '30', '30', '30', '30', '30', '30', '30'\n",
    "        ],\n",
    "        \n",
    "        \"흡연여부\" : [\n",
    "            '유', '유', '무', '무', '무', '무', '무', '무', '무', '무', \n",
    "            '유', '유', '유', '유', '유', '무', '무', '무', '무', '무',\n",
    "            '유', '유', '유', '유', '유', '유', '유', '무', '무', '무'\n",
    "        ]\n",
    "    }\n",
    ")"
   ]
  },
  {
   "cell_type": "code",
   "execution_count": 7,
   "id": "6556f73e",
   "metadata": {},
   "outputs": [],
   "source": [
    "# 계산하기 위한 교차표\n",
    "data_crosstab = pd.crosstab(smoke_data['나이그룹'],\n",
    "                           smoke_data['흡연여부'], margins=False)"
   ]
  },
  {
   "cell_type": "code",
   "execution_count": 8,
   "id": "aa22e433",
   "metadata": {},
   "outputs": [
    {
     "data": {
      "text/html": [
       "<div>\n",
       "<style scoped>\n",
       "    .dataframe tbody tr th:only-of-type {\n",
       "        vertical-align: middle;\n",
       "    }\n",
       "\n",
       "    .dataframe tbody tr th {\n",
       "        vertical-align: top;\n",
       "    }\n",
       "\n",
       "    .dataframe thead th {\n",
       "        text-align: right;\n",
       "    }\n",
       "</style>\n",
       "<table border=\"1\" class=\"dataframe\">\n",
       "  <thead>\n",
       "    <tr style=\"text-align: right;\">\n",
       "      <th>흡연여부</th>\n",
       "      <th>무</th>\n",
       "      <th>유</th>\n",
       "    </tr>\n",
       "    <tr>\n",
       "      <th>나이그룹</th>\n",
       "      <th></th>\n",
       "      <th></th>\n",
       "    </tr>\n",
       "  </thead>\n",
       "  <tbody>\n",
       "    <tr>\n",
       "      <th>10</th>\n",
       "      <td>8</td>\n",
       "      <td>2</td>\n",
       "    </tr>\n",
       "    <tr>\n",
       "      <th>20</th>\n",
       "      <td>5</td>\n",
       "      <td>5</td>\n",
       "    </tr>\n",
       "    <tr>\n",
       "      <th>30</th>\n",
       "      <td>3</td>\n",
       "      <td>7</td>\n",
       "    </tr>\n",
       "  </tbody>\n",
       "</table>\n",
       "</div>"
      ],
      "text/plain": [
       "흡연여부  무  유\n",
       "나이그룹      \n",
       "10    8  2\n",
       "20    5  5\n",
       "30    3  7"
      ]
     },
     "execution_count": 8,
     "metadata": {},
     "output_type": "execute_result"
    }
   ],
   "source": [
    "data_crosstab"
   ]
  },
  {
   "cell_type": "code",
   "execution_count": 10,
   "id": "f69ed6b6",
   "metadata": {},
   "outputs": [
    {
     "name": "stdout",
     "output_type": "stream",
     "text": [
      "10대 확률 : 0.3333333333333333\n",
      "20대 확률 : 0.3333333333333333\n",
      "30대 확률 : 0.3333333333333333\n",
      "전체 흡연 확률 : 0.4666666666666667\n",
      "전체 비흡연 확률 : 0.5333333333333333\n"
     ]
    }
   ],
   "source": [
    "# 확률 계산\n",
    "\n",
    "p_10 = data_crosstab.loc['10'].sum() / data_crosstab.values.sum()\n",
    "print('10대 확률 :', p_10)\n",
    "p_20 = data_crosstab.loc['20'].sum() / data_crosstab.values.sum()\n",
    "print('20대 확률 :', p_10)\n",
    "p_30 = data_crosstab.loc['30'].sum() / data_crosstab.values.sum()\n",
    "print('30대 확률 :', p_10)\n",
    "\n",
    "p_smok = data_crosstab['유'].sum() / data_crosstab.values.sum()\n",
    "print('전체 흡연 확률 :', p_smok)\n",
    "p_smok_non = data_crosstab['무'].sum() / data_crosstab.values.sum()\n",
    "print('전체 비흡연 확률 :', p_smok_non)"
   ]
  },
  {
   "cell_type": "code",
   "execution_count": 13,
   "id": "85e4edd9",
   "metadata": {},
   "outputs": [
    {
     "name": "stdout",
     "output_type": "stream",
     "text": [
      "P(흡연:10) : 0.2\n",
      "P(흡연:20) : 0.5\n",
      "P(흡연:30) : 0.7\n"
     ]
    }
   ],
   "source": [
    "# 조건부 확률\n",
    "\n",
    "p_smok_given_10 = data_crosstab.loc['10']['유'] / data_crosstab.loc['10'].sum()\n",
    "print('P(흡연:10) :', p_smok_given_10)\n",
    "\n",
    "p_smok_given_20 = data_crosstab.loc['20']['유'] / data_crosstab.loc['20'].sum()\n",
    "print('P(흡연:20) :', p_smok_given_20)\n",
    "\n",
    "p_smok_given_30 = data_crosstab.loc['30']['유'] / data_crosstab.loc['30'].sum()\n",
    "print('P(흡연:30) :', p_smok_given_30)"
   ]
  },
  {
   "cell_type": "code",
   "execution_count": 16,
   "id": "fdd709e1",
   "metadata": {},
   "outputs": [
    {
     "name": "stdout",
     "output_type": "stream",
     "text": [
      "전확률 : 0.4666666666666667\n"
     ]
    },
    {
     "ename": "NameError",
     "evalue": "name 'p_mok_given_30' is not defined",
     "output_type": "error",
     "traceback": [
      "\u001b[1;31m---------------------------------------------------------------------------\u001b[0m",
      "\u001b[1;31mNameError\u001b[0m                                 Traceback (most recent call last)",
      "Input \u001b[1;32mIn [16]\u001b[0m, in \u001b[0;36m<cell line: 6>\u001b[1;34m()\u001b[0m\n\u001b[0;32m      3\u001b[0m \u001b[38;5;28mprint\u001b[39m(\u001b[38;5;124m\"\u001b[39m\u001b[38;5;124m전확률 :\u001b[39m\u001b[38;5;124m\"\u001b[39m, total_p)\n\u001b[0;32m      5\u001b[0m \u001b[38;5;66;03m# P(30대) * P(흡연 : 30)\u001b[39;00m\n\u001b[1;32m----> 6\u001b[0m p_30_smok_given_30 \u001b[38;5;241m=\u001b[39m (p_30 \u001b[38;5;241m*\u001b[39m \u001b[43mp_mok_given_30\u001b[49m)\n",
      "\u001b[1;31mNameError\u001b[0m: name 'p_mok_given_30' is not defined"
     ]
    }
   ],
   "source": [
    "# 전확률\n",
    "total_p = (p_10 * p_smok_given_10) + (p_20 * p_smok_given_20) + (p_30 * p_smok_given_30)\n",
    "print(\"전확률 :\", total_p)\n",
    "\n",
    "# P(30대) * P(흡연 : 30)\n",
    "p_30_smok_given_30 = (p_30 * p_mok_given_30)"
   ]
  },
  {
   "cell_type": "code",
   "execution_count": null,
   "id": "51b23042",
   "metadata": {},
   "outputs": [],
   "source": []
  }
 ],
 "metadata": {
  "kernelspec": {
   "display_name": "Python 3 (ipykernel)",
   "language": "python",
   "name": "python3"
  },
  "language_info": {
   "codemirror_mode": {
    "name": "ipython",
    "version": 3
   },
   "file_extension": ".py",
   "mimetype": "text/x-python",
   "name": "python",
   "nbconvert_exporter": "python",
   "pygments_lexer": "ipython3",
   "version": "3.9.12"
  }
 },
 "nbformat": 4,
 "nbformat_minor": 5
}
