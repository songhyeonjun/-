{
 "cells": [
  {
   "cell_type": "markdown",
   "id": "48c8e176",
   "metadata": {},
   "source": [
    "# 2. 분선분석(ANOVA)\n",
    "## 1) 일원분산분석(One-wqy ANOVA)\n",
    " - 3개 이상의 범주를 갖는 하나의 실험 요인(독립변수)에 대한 하나의 종속변수의 평균 차이를 검정하는 분석\n",
    " - stats.f_oneway() : scipy f 통계량\n",
    " - statsmodels.stats.anova() : stats 모델 anova\n",
    "\n",
    "### 증명하고자 하는 가설\n",
    " - 4개의 각기 다른 신입사원 교육훈련 기법의 효과성을 평가하고자 한다. 새로 입사한 32명의 신입사원에게 4개 교육 기관에서 다른 학습 방법을 적용 시켰다. 한 달 간의 훈련기간이 끝난 후 시험을 쳤는데 그 점수는 아래와 같다. 4개의 교육훈련 기법 간 차이가 있는가? 만약있다면 어떻게 다른가?\n",
    " \n",
    " -> 4개 이상의 대응표본을 비교해야 하므로 일원배치 분산분석 기법을 사용해야 한다.\n",
    " \n",
    " 귀무가설 : 4개의 교육훈련 기법 간의 차이가 없다.\n",
    " 대립가설 : 4개의 교육훈련 기법 간의 차이가 있다."
   ]
  },
  {
   "cell_type": "code",
   "execution_count": 3,
   "id": "2de9df70",
   "metadata": {},
   "outputs": [],
   "source": [
    "import os\n",
    "import warnings\n",
    "\n",
    "warnings.simplefilter(action='ignore', category=FutureWarning)\n",
    "\n",
    "import pandas as pd\n",
    "import numpy as np\n",
    "from scipy import stats\n",
    "import math\n",
    "import matplotlib.pyplot as plt\n",
    "import seaborn as sns\n",
    "%matplotlib inline\n",
    "\n",
    "import os\n",
    "if os.name == 'nt' :\n",
    "    font_family = \"Malgun Gothic\"\n",
    "else:\n",
    "    font_family = \"AppleGothic\"\n",
    "    \n",
    "sns.set(font=font_family, rc ={\"axes.unicode_minus\" : False})"
   ]
  },
  {
   "cell_type": "code",
   "execution_count": 4,
   "id": "671d739f",
   "metadata": {},
   "outputs": [
    {
     "name": "stdout",
     "output_type": "stream",
     "text": [
      "a 평균 : 79.125\n",
      "b 평균 : 65.375\n",
      "c 평균 : 68.25\n",
      "d 평균 : 69.5\n"
     ]
    }
   ],
   "source": [
    "# 데이터셋\n",
    "a = [66,74,82,75,74,97,87,78]\n",
    "b = [72,51,59,62,74,64,78,63]\n",
    "c = [61,60,57,69,81,77,70,71]\n",
    "d = [63,61,76,84,58,65,69,80]\n",
    "print(\"a 평균 :\", np.mean(a))\n",
    "print(\"b 평균 :\", np.mean(b))\n",
    "print(\"c 평균 :\", np.mean(c))\n",
    "print(\"d 평균 :\", np.mean(d))"
   ]
  },
  {
   "cell_type": "code",
   "execution_count": 5,
   "id": "d6e80e7a",
   "metadata": {},
   "outputs": [
    {
     "data": {
      "image/png": "[encoded data removed]",
      "text/plain": [
       "<Figure size 432x288 with 1 Axes>"
      ]
     },
     "metadata": {},
     "output_type": "display_data"
    }
   ],
   "source": [
    "# 이상값 확인\n",
    "plot_data = [a, b, c, d]\n",
    "plt.boxplot(plot_data)\n",
    "plt.xticks([1,2,3,4], ['a', 'b', 'c', 'd'])\n",
    "plt.grid(True)\n",
    "plt.show()"
   ]
  },
  {
   "cell_type": "code",
   "execution_count": 6,
   "id": "ec1a694b",
   "metadata": {},
   "outputs": [
    {
     "data": {
      "text/html": [
       "<div>\n",
       "<style scoped>\n",
       "    .dataframe tbody tr th:only-of-type {\n",
       "        vertical-align: middle;\n",
       "    }\n",
       "\n",
       "    .dataframe tbody tr th {\n",
       "        vertical-align: top;\n",
       "    }\n",
       "\n",
       "    .dataframe thead th {\n",
       "        text-align: right;\n",
       "    }\n",
       "</style>\n",
       "<table border=\"1\" class=\"dataframe\">\n",
       "  <thead>\n",
       "    <tr style=\"text-align: right;\">\n",
       "      <th></th>\n",
       "      <th>점수</th>\n",
       "      <th>교육기관</th>\n",
       "    </tr>\n",
       "  </thead>\n",
       "  <tbody>\n",
       "    <tr>\n",
       "      <th>0</th>\n",
       "      <td>66</td>\n",
       "      <td>a</td>\n",
       "    </tr>\n",
       "    <tr>\n",
       "      <th>1</th>\n",
       "      <td>74</td>\n",
       "      <td>a</td>\n",
       "    </tr>\n",
       "    <tr>\n",
       "      <th>2</th>\n",
       "      <td>82</td>\n",
       "      <td>a</td>\n",
       "    </tr>\n",
       "    <tr>\n",
       "      <th>3</th>\n",
       "      <td>75</td>\n",
       "      <td>a</td>\n",
       "    </tr>\n",
       "  </tbody>\n",
       "</table>\n",
       "</div>"
      ],
      "text/plain": [
       "   점수 교육기관\n",
       "0  66    a\n",
       "1  74    a\n",
       "2  82    a\n",
       "3  75    a"
      ]
     },
     "execution_count": 6,
     "metadata": {},
     "output_type": "execute_result"
    }
   ],
   "source": [
    "# 데이터프레임 변환\n",
    "check = ['a', 'b', 'c', 'd']\n",
    "check = [check[j] for j in range(4) for i in range(8)]\n",
    "data = pd.DataFrame({'점수' : a+b+c+d, '교육기관' : check})\n",
    "data.head(4)"
   ]
  },
  {
   "cell_type": "code",
   "execution_count": 12,
   "id": "d1478a8a",
   "metadata": {},
   "outputs": [
    {
     "name": "stdout",
     "output_type": "stream",
     "text": [
      "정규성을 검정\n",
      "KstestResult(statistic=0.625, pvalue=0.08702408702408701)\n",
      "KstestResult(statistic=0.625, pvalue=0.08702408702408701)\n",
      "KstestResult(statistic=0.5, pvalue=0.2826728826728826)\n",
      "KstestResult(statistic=0.25, pvalue=0.98010878010878)\n",
      "KstestResult(statistic=0.25, pvalue=0.98010878010878)\n",
      "KstestResult(statistic=0.125, pvalue=1.0)\n",
      "등분산성 검정\n",
      "LeveneResult(statistic=0.07887688186940058, pvalue=0.9709255403551396)\n",
      "BartlettResult(statistic=0.1358141238632442, pvalue=0.9872176703361318)\n"
     ]
    }
   ],
   "source": [
    "# 정규성 검정 : 자료의 모집단 분포는 정규분포를 따름\n",
    "\n",
    "print('정규성을 검정')\n",
    "# normal_a = shapiro(a)\n",
    "# normal_a = shapiro(b)\n",
    "# normal_a = shapiro(c)\n",
    "# normal_a = shapiro(d)\n",
    "\n",
    "# print(nomal_a)\n",
    "# print(nomal_b)\n",
    "# print(nomal_c)\n",
    "# print(nomal_d)\n",
    "\n",
    "print(stats.ks_2samp(a, b), stats.ks_2samp(a, c), stats.ks_2samp(a, d), \n",
    "     stats.ks_2samp(b, c), stats.ks_2samp(b, d), stats.ks_2samp(c, d), sep=\"\\n\")\n",
    "\n",
    "# 등분산성 검정 : 모든 집단의 모분산은 동일함\n",
    "\n",
    "print('등분산성 검정')\n",
    "# levene 등분산성 검정\n",
    "from scipy.stats import levene\n",
    "print(levene(a,b,c,d))\n",
    "\n",
    "# barlett 등분산성 검정\n",
    "from scipy.stats import bartlett\n",
    "print(bartlett(a, b, c, d))\n",
    "\n",
    "# 결과 : p-value > 0.05, 등분산성 만족"
   ]
  },
  {
   "cell_type": "markdown",
   "id": "ed3520cc",
   "metadata": {},
   "source": [
    "### 통계량을 이용한 가설 검정"
   ]
  },
  {
   "cell_type": "code",
   "execution_count": 14,
   "id": "60c140db",
   "metadata": {},
   "outputs": [
    {
     "name": "stdout",
     "output_type": "stream",
     "text": [
      "F = 3.5, p=0.030\n",
      "귀무가설 기각, 4개의 교육훈련 기법간이 차이가 있다.\n"
     ]
    }
   ],
   "source": [
    "# F통계량을 이용한 가설 검정\n",
    "f_statistic, pval = stats.f_oneway(a, b, c, d)\n",
    "\n",
    "print('F = {0:.1f}, p={1:.3f}'.format(f_statistic, pval))\n",
    "\n",
    "if pval < 0.05 :\n",
    "    print(\"귀무가설 기각, 4개의 교육훈련 기법간이 차이가 있다.\")\n",
    "else :\n",
    "    print(\"귀무가설 채택, 4개의 교육훈련 기법간의 차이가 없다.\")"
   ]
  },
  {
   "cell_type": "markdown",
   "id": "c7fb0a2f",
   "metadata": {},
   "source": [
    "### Statsmodel을 이용한 가설 검정\n",
    " - model = ols('종속변수 ~ 독립변수', data).fit() : model\n",
    " - sm.stats.anova_lm(model, type=2) : # Type 2 Anova DataFrame"
   ]
  },
  {
   "cell_type": "code",
   "execution_count": 15,
   "id": "4f9418e5",
   "metadata": {},
   "outputs": [
    {
     "data": {
      "text/html": [
       "<div>\n",
       "<style scoped>\n",
       "    .dataframe tbody tr th:only-of-type {\n",
       "        vertical-align: middle;\n",
       "    }\n",
       "\n",
       "    .dataframe tbody tr th {\n",
       "        vertical-align: top;\n",
       "    }\n",
       "\n",
       "    .dataframe thead th {\n",
       "        text-align: right;\n",
       "    }\n",
       "</style>\n",
       "<table border=\"1\" class=\"dataframe\">\n",
       "  <thead>\n",
       "    <tr style=\"text-align: right;\">\n",
       "      <th></th>\n",
       "      <th>df</th>\n",
       "      <th>sum_sq</th>\n",
       "      <th>mean_sq</th>\n",
       "      <th>F</th>\n",
       "      <th>PR(&gt;F)</th>\n",
       "    </tr>\n",
       "  </thead>\n",
       "  <tbody>\n",
       "    <tr>\n",
       "      <th>C(교육기관)</th>\n",
       "      <td>3.0</td>\n",
       "      <td>853.625</td>\n",
       "      <td>284.541667</td>\n",
       "      <td>3.457596</td>\n",
       "      <td>0.029623</td>\n",
       "    </tr>\n",
       "    <tr>\n",
       "      <th>Residual</th>\n",
       "      <td>28.0</td>\n",
       "      <td>2304.250</td>\n",
       "      <td>82.294643</td>\n",
       "      <td>NaN</td>\n",
       "      <td>NaN</td>\n",
       "    </tr>\n",
       "  </tbody>\n",
       "</table>\n",
       "</div>"
      ],
      "text/plain": [
       "            df    sum_sq     mean_sq         F    PR(>F)\n",
       "C(교육기관)    3.0   853.625  284.541667  3.457596  0.029623\n",
       "Residual  28.0  2304.250   82.294643       NaN       NaN"
      ]
     },
     "execution_count": 15,
     "metadata": {},
     "output_type": "execute_result"
    }
   ],
   "source": [
    "# Statsmodel을 사용한 일원분산분석\n",
    "\n",
    "from statsmodels.formula.api import ols\n",
    "from statsmodels.stats.anova import anova_lm\n",
    "\n",
    "model_1A = ols('점수 ~ C(교육기관)', data).fit()\n",
    "anova_lm_result = anova_lm(model_1A)\n",
    "anova_lm_result\n",
    "\n",
    "# data.shape(32, 2)\n",
    "# SSA k-1 = 4 - 1 = 3\n",
    "# SSE N-k = 32-4 = 28\n",
    "# SST N-1 = 32-1 = 31\n",
    "# MSA / MSW = 295.083333 / 84.741071 = 3.482176"
   ]
  },
  {
   "cell_type": "code",
   "execution_count": 17,
   "id": "ffdbfef9",
   "metadata": {},
   "outputs": [
    {
     "name": "stdout",
     "output_type": "stream",
     "text": [
      "귀무가설 기각, 4개의 교육훈련 기법간의 차이가 있다.\n"
     ]
    }
   ],
   "source": [
    "pval = anova_lm_result['PR(>F)'][0]\n",
    "\n",
    "if pval < 0.05 :\n",
    "    print(\"귀무가설 기각, 4개의 교육훈련 기법간의 차이가 있다.\")\n",
    "else :\n",
    "    print(\"귀무가설 채택, 4개의 교육훈련 기법간의 차이가 없다.\")"
   ]
  },
  {
   "cell_type": "code",
   "execution_count": 18,
   "id": "9d7d63ed",
   "metadata": {},
   "outputs": [
    {
     "data": {
      "text/html": [
       "<table class=\"simpletable\">\n",
       "<caption>Multiple Comparison of Means - Tukey HSD, FWER=0.05</caption>\n",
       "<tr>\n",
       "  <th>group1</th> <th>group2</th> <th>meandiff</th>  <th>p-adj</th>   <th>lower</th>   <th>upper</th>  <th>reject</th>\n",
       "</tr>\n",
       "<tr>\n",
       "     <td>a</td>      <td>b</td>    <td>-13.75</td>  <td>0.0252</td> <td>-26.1342</td> <td>-1.3658</td>  <td>True</td> \n",
       "</tr>\n",
       "<tr>\n",
       "     <td>a</td>      <td>c</td>    <td>-10.875</td> <td>0.1008</td> <td>-23.2592</td> <td>1.5092</td>   <td>False</td>\n",
       "</tr>\n",
       "<tr>\n",
       "     <td>a</td>      <td>d</td>    <td>-9.625</td>  <td>0.1709</td> <td>-22.0092</td> <td>2.7592</td>   <td>False</td>\n",
       "</tr>\n",
       "<tr>\n",
       "     <td>b</td>      <td>c</td>     <td>2.875</td>  <td>0.9202</td>  <td>-9.5092</td> <td>15.2592</td>  <td>False</td>\n",
       "</tr>\n",
       "<tr>\n",
       "     <td>b</td>      <td>d</td>     <td>4.125</td>    <td>0.8</td>   <td>-8.2592</td> <td>16.5092</td>  <td>False</td>\n",
       "</tr>\n",
       "<tr>\n",
       "     <td>c</td>      <td>d</td>     <td>1.25</td>   <td>0.9925</td> <td>-11.1342</td> <td>13.6342</td>  <td>False</td>\n",
       "</tr>\n",
       "</table>"
      ],
      "text/plain": [
       "<class 'statsmodels.iolib.table.SimpleTable'>"
      ]
     },
     "execution_count": 18,
     "metadata": {},
     "output_type": "execute_result"
    }
   ],
   "source": [
    "# 사후 분석 : ANOVA 검증 결과 유의미하다는 결론을 얻었을 때,\n",
    "#             구체적으로 어떤 수준(들)에서 평균 차이가 나는지를 검증\n",
    "from statsmodels.stats.multicomp import pairwise_tukeyhsd\n",
    "\n",
    "HSD = pairwise_tukeyhsd(data['점수'], data['교육기관'], alpha=0.05)\n",
    "HSD.summary()\n",
    "\n",
    "# a, b 차이, a, c 차이만 유의함"
   ]
  },
  {
   "cell_type": "markdown",
   "id": "202aba63",
   "metadata": {},
   "source": [
    "### 결론\n",
    " - 교육기관에 따른 weight의 평균 차이는\n",
    "    유의미하였다(F(3, 28) = 4.221093, p < 0.05)\n",
    " - Tukey의 HSD를 이용하여 사후 분석을 실시한 결과, a 조건과 b 조건에서 유의미한 평균 차이가 있었다.(p < 0.05)"
   ]
  },
  {
   "cell_type": "markdown",
   "id": "a0064a3b",
   "metadata": {},
   "source": [
    "## 2) 이원분산분석(Tow-way ANOVA)\n",
    " - 종속변수가 1개, 독립변수가 2개이면서 독립변수 각각이 factor(요인)로서 factor내에 level(수준)을 가지고 있을 때, 각 집단의 평균의 유의미한 차이가 있는지 유무를 확인\n",
    "\n",
    "### 증명하고자 하는 가설\n",
    " - 귀무가설 : 강도에 대한 각 판유리와 온도 간에는 상호작용 효과가 없다.\n",
    " - 대립가설 : 강도에 대한 각 판유리와 온도 간에는 상호작용 효과가 있다."
   ]
  },
  {
   "cell_type": "code",
   "execution_count": 20,
   "id": "0adde95e",
   "metadata": {},
   "outputs": [],
   "source": [
    "dat=pd.DataFrame({'판유리':['유리1', '유리1', '유리1', '유리2', '유리2', '유리2', '유리3', '유리3', '유리3',\n",
    "                        '유리1','유리1','유리1', '유리2', '유리2', '유리2', '유리3', '유리3', '유리3',\n",
    "                        '유리1','유리1','유리1', '유리2', '유리2', '유리2', '유리3', '유리3', '유리3'],\n",
    "                  '온도':[100, 100, 100, 100, 100, 100, 100, 100, 100, 125, 125, 125, 125, 125, 125, 125, 125, 125,\n",
    "                       150, 150, 150, 150, 150, 150, 150, 150, 150],\n",
    "                  '강도':[580, 568, 570, 550, 530, 579, 546, 575, 599, 1090, 1087, 1085, 1070,\n",
    "                       1035, 1000, 1045, 1053, 1066, 1392, 1380, 1386, 1328, 1312, 1299, 867, 904, 889]\n",
    "                 })"
   ]
  },
  {
   "cell_type": "code",
   "execution_count": 21,
   "id": "34fbf59f",
   "metadata": {},
   "outputs": [
    {
     "data": {
      "text/html": [
       "<div>\n",
       "<style scoped>\n",
       "    .dataframe tbody tr th:only-of-type {\n",
       "        vertical-align: middle;\n",
       "    }\n",
       "\n",
       "    .dataframe tbody tr th {\n",
       "        vertical-align: top;\n",
       "    }\n",
       "\n",
       "    .dataframe thead th {\n",
       "        text-align: right;\n",
       "    }\n",
       "</style>\n",
       "<table border=\"1\" class=\"dataframe\">\n",
       "  <thead>\n",
       "    <tr style=\"text-align: right;\">\n",
       "      <th></th>\n",
       "      <th>판유리</th>\n",
       "      <th>온도</th>\n",
       "      <th>강도</th>\n",
       "    </tr>\n",
       "  </thead>\n",
       "  <tbody>\n",
       "    <tr>\n",
       "      <th>0</th>\n",
       "      <td>유리1</td>\n",
       "      <td>100</td>\n",
       "      <td>580</td>\n",
       "    </tr>\n",
       "    <tr>\n",
       "      <th>1</th>\n",
       "      <td>유리1</td>\n",
       "      <td>100</td>\n",
       "      <td>568</td>\n",
       "    </tr>\n",
       "    <tr>\n",
       "      <th>2</th>\n",
       "      <td>유리1</td>\n",
       "      <td>100</td>\n",
       "      <td>570</td>\n",
       "    </tr>\n",
       "    <tr>\n",
       "      <th>3</th>\n",
       "      <td>유리2</td>\n",
       "      <td>100</td>\n",
       "      <td>550</td>\n",
       "    </tr>\n",
       "    <tr>\n",
       "      <th>4</th>\n",
       "      <td>유리2</td>\n",
       "      <td>100</td>\n",
       "      <td>530</td>\n",
       "    </tr>\n",
       "  </tbody>\n",
       "</table>\n",
       "</div>"
      ],
      "text/plain": [
       "   판유리   온도   강도\n",
       "0  유리1  100  580\n",
       "1  유리1  100  568\n",
       "2  유리1  100  570\n",
       "3  유리2  100  550\n",
       "4  유리2  100  530"
      ]
     },
     "execution_count": 21,
     "metadata": {},
     "output_type": "execute_result"
    }
   ],
   "source": [
    "dat.head()"
   ]
  },
  {
   "cell_type": "code",
   "execution_count": 23,
   "id": "2fa934e8",
   "metadata": {},
   "outputs": [
    {
     "data": {
      "text/html": [
       "<div>\n",
       "<style scoped>\n",
       "    .dataframe tbody tr th:only-of-type {\n",
       "        vertical-align: middle;\n",
       "    }\n",
       "\n",
       "    .dataframe tbody tr th {\n",
       "        vertical-align: top;\n",
       "    }\n",
       "\n",
       "    .dataframe thead th {\n",
       "        text-align: right;\n",
       "    }\n",
       "</style>\n",
       "<table border=\"1\" class=\"dataframe\">\n",
       "  <thead>\n",
       "    <tr style=\"text-align: right;\">\n",
       "      <th></th>\n",
       "      <th></th>\n",
       "      <th>강도</th>\n",
       "    </tr>\n",
       "    <tr>\n",
       "      <th>판유리</th>\n",
       "      <th>온도</th>\n",
       "      <th></th>\n",
       "    </tr>\n",
       "  </thead>\n",
       "  <tbody>\n",
       "    <tr>\n",
       "      <th rowspan=\"3\" valign=\"top\">유리1</th>\n",
       "      <th>100</th>\n",
       "      <td>3</td>\n",
       "    </tr>\n",
       "    <tr>\n",
       "      <th>125</th>\n",
       "      <td>3</td>\n",
       "    </tr>\n",
       "    <tr>\n",
       "      <th>150</th>\n",
       "      <td>3</td>\n",
       "    </tr>\n",
       "    <tr>\n",
       "      <th rowspan=\"3\" valign=\"top\">유리2</th>\n",
       "      <th>100</th>\n",
       "      <td>3</td>\n",
       "    </tr>\n",
       "    <tr>\n",
       "      <th>125</th>\n",
       "      <td>3</td>\n",
       "    </tr>\n",
       "    <tr>\n",
       "      <th>150</th>\n",
       "      <td>3</td>\n",
       "    </tr>\n",
       "    <tr>\n",
       "      <th rowspan=\"3\" valign=\"top\">유리3</th>\n",
       "      <th>100</th>\n",
       "      <td>3</td>\n",
       "    </tr>\n",
       "    <tr>\n",
       "      <th>125</th>\n",
       "      <td>3</td>\n",
       "    </tr>\n",
       "    <tr>\n",
       "      <th>150</th>\n",
       "      <td>3</td>\n",
       "    </tr>\n",
       "  </tbody>\n",
       "</table>\n",
       "</div>"
      ],
      "text/plain": [
       "         강도\n",
       "판유리 온도     \n",
       "유리1 100   3\n",
       "    125   3\n",
       "    150   3\n",
       "유리2 100   3\n",
       "    125   3\n",
       "    150   3\n",
       "유리3 100   3\n",
       "    125   3\n",
       "    150   3"
      ]
     },
     "execution_count": 23,
     "metadata": {},
     "output_type": "execute_result"
    }
   ],
   "source": [
    "dat.groupby(['판유리', '온도']).agg(len)\n",
    "# 판유리 온도 요인으로 구분한 각 집단별 표본 수는 모두 3으로 통일"
   ]
  },
  {
   "cell_type": "code",
   "execution_count": 24,
   "id": "ee8ec85b",
   "metadata": {},
   "outputs": [],
   "source": [
    "# 이원분산분석\n",
    "\n",
    "from statsmodels.formula.api import ols\n",
    "from statsmodels.stats.anova import anova_lm\n",
    "\n",
    "model = ols('강도 ~ C(판유리) * C(온도)', dat).fit()\n",
    "anova_result = pd.DataFrame(anova_lm(model))"
   ]
  },
  {
   "cell_type": "code",
   "execution_count": 25,
   "id": "ead44f59",
   "metadata": {},
   "outputs": [
    {
     "data": {
      "text/html": [
       "<div>\n",
       "<style scoped>\n",
       "    .dataframe tbody tr th:only-of-type {\n",
       "        vertical-align: middle;\n",
       "    }\n",
       "\n",
       "    .dataframe tbody tr th {\n",
       "        vertical-align: top;\n",
       "    }\n",
       "\n",
       "    .dataframe thead th {\n",
       "        text-align: right;\n",
       "    }\n",
       "</style>\n",
       "<table border=\"1\" class=\"dataframe\">\n",
       "  <thead>\n",
       "    <tr style=\"text-align: right;\">\n",
       "      <th></th>\n",
       "      <th>df</th>\n",
       "      <th>sum_sq</th>\n",
       "      <th>mean_sq</th>\n",
       "      <th>F</th>\n",
       "      <th>PR(&gt;F)</th>\n",
       "    </tr>\n",
       "  </thead>\n",
       "  <tbody>\n",
       "    <tr>\n",
       "      <th>C(판유리)</th>\n",
       "      <td>2.0</td>\n",
       "      <td>1.508645e+05</td>\n",
       "      <td>75432.259259</td>\n",
       "      <td>206.370554</td>\n",
       "      <td>3.886026e-13</td>\n",
       "    </tr>\n",
       "    <tr>\n",
       "      <th>C(온도)</th>\n",
       "      <td>2.0</td>\n",
       "      <td>1.970335e+06</td>\n",
       "      <td>985167.259259</td>\n",
       "      <td>2695.259499</td>\n",
       "      <td>5.008957e-23</td>\n",
       "    </tr>\n",
       "    <tr>\n",
       "      <th>C(판유리):C(온도)</th>\n",
       "      <td>4.0</td>\n",
       "      <td>2.905517e+05</td>\n",
       "      <td>72637.925926</td>\n",
       "      <td>198.725707</td>\n",
       "      <td>1.254188e-14</td>\n",
       "    </tr>\n",
       "    <tr>\n",
       "      <th>Residual</th>\n",
       "      <td>18.0</td>\n",
       "      <td>6.579333e+03</td>\n",
       "      <td>365.518519</td>\n",
       "      <td>NaN</td>\n",
       "      <td>NaN</td>\n",
       "    </tr>\n",
       "  </tbody>\n",
       "</table>\n",
       "</div>"
      ],
      "text/plain": [
       "                df        sum_sq        mean_sq            F        PR(>F)\n",
       "C(판유리)         2.0  1.508645e+05   75432.259259   206.370554  3.886026e-13\n",
       "C(온도)          2.0  1.970335e+06  985167.259259  2695.259499  5.008957e-23\n",
       "C(판유리):C(온도)   4.0  2.905517e+05   72637.925926   198.725707  1.254188e-14\n",
       "Residual      18.0  6.579333e+03     365.518519          NaN           NaN"
      ]
     },
     "execution_count": 25,
     "metadata": {},
     "output_type": "execute_result"
    }
   ],
   "source": [
    "anova_result"
   ]
  },
  {
   "cell_type": "markdown",
   "id": "3d39e6cf",
   "metadata": {},
   "source": [
    "### 결과 해석\n",
    " - 판유리 : F(2, 18) = 206.370554m p < 0.05로 유의미. 판유리의 수준에 따라 평균에 차이가 난다고 볼 수 있음\n",
    " - 온도 : F(2, 18) = 2695.259499, p < 0.05로 유의미. 즉 온도의 수준에 따라 평균에 차이가 난다고 볼 수 있음\n",
    " - 판유리:온도 : F(4, 18) = 198.725707 p < 0.05로 유의미. 상호작용 효과는 발견"
   ]
  },
  {
   "cell_type": "code",
   "execution_count": 27,
   "id": "67bfec36",
   "metadata": {},
   "outputs": [
    {
     "name": "stdout",
     "output_type": "stream",
     "text": [
      "      Multiple Comparison of Means - Tukey HSD, FWER=0.05      \n",
      "===============================================================\n",
      "  group1    group2   meandiff p-adj    lower     upper   reject\n",
      "---------------------------------------------------------------\n",
      "유리1 / 100 유리1 / 125  514.6667    0.0  459.9706  569.3627   True\n",
      "유리1 / 100 유리1 / 150  813.3333    0.0  758.6373  868.0294   True\n",
      "유리1 / 100 유리2 / 100  -19.6667 0.9307  -74.3627   35.0294  False\n",
      "유리1 / 100 유리2 / 125  462.3333    0.0  407.6373  517.0294   True\n",
      "유리1 / 100 유리2 / 150  740.3333    0.0  685.6373  795.0294   True\n",
      "유리1 / 100 유리3 / 100    0.6667    1.0  -54.0294   55.3627  False\n",
      "유리1 / 100 유리3 / 125     482.0    0.0  427.3039  536.6961   True\n",
      "유리1 / 100 유리3 / 150     314.0    0.0  259.3039  368.6961   True\n",
      "유리1 / 125 유리1 / 150  298.6667    0.0  243.9706  353.3627   True\n",
      "유리1 / 125 유리2 / 100 -534.3333    0.0 -589.0294 -479.6373   True\n",
      "유리1 / 125 유리2 / 125  -52.3333  0.067 -107.0294    2.3627  False\n",
      "유리1 / 125 유리2 / 150  225.6667    0.0  170.9706  280.3627   True\n",
      "유리1 / 125 유리3 / 100    -514.0    0.0 -568.6961 -459.3039   True\n",
      "유리1 / 125 유리3 / 125  -32.6667 0.5066  -87.3627   22.0294  False\n",
      "유리1 / 125 유리3 / 150 -200.6667    0.0 -255.3627 -145.9706   True\n",
      "유리1 / 150 유리2 / 100    -833.0    0.0 -887.6961 -778.3039   True\n",
      "유리1 / 150 유리2 / 125    -351.0    0.0 -405.6961 -296.3039   True\n",
      "유리1 / 150 유리2 / 150     -73.0 0.0046 -127.6961  -18.3039   True\n",
      "유리1 / 150 유리3 / 100 -812.6667    0.0 -867.3627 -757.9706   True\n",
      "유리1 / 150 유리3 / 125 -331.3333    0.0 -386.0294 -276.6373   True\n",
      "유리1 / 150 유리3 / 150 -499.3333    0.0 -554.0294 -444.6373   True\n",
      "유리2 / 100 유리2 / 125     482.0    0.0  427.3039  536.6961   True\n",
      "유리2 / 100 유리2 / 150     760.0    0.0  705.3039  814.6961   True\n",
      "유리2 / 100 유리3 / 100   20.3333  0.918  -34.3627   75.0294  False\n",
      "유리2 / 100 유리3 / 125  501.6667    0.0  446.9706  556.3627   True\n",
      "유리2 / 100 유리3 / 150  333.6667    0.0  278.9706  388.3627   True\n",
      "유리2 / 125 유리2 / 150     278.0    0.0  223.3039  332.6961   True\n",
      "유리2 / 125 유리3 / 100 -461.6667    0.0 -516.3627 -406.9706   True\n",
      "유리2 / 125 유리3 / 125   19.6667 0.9307  -35.0294   74.3627  False\n",
      "유리2 / 125 유리3 / 150 -148.3333    0.0 -203.0294  -93.6373   True\n",
      "유리2 / 150 유리3 / 100 -739.6667    0.0 -794.3627 -684.9706   True\n",
      "유리2 / 150 유리3 / 125 -258.3333    0.0 -313.0294 -203.6373   True\n",
      "유리2 / 150 유리3 / 150 -426.3333    0.0 -481.0294 -371.6373   True\n",
      "유리3 / 100 유리3 / 125  481.3333    0.0  426.6373  536.0294   True\n",
      "유리3 / 100 유리3 / 150  313.3333    0.0  258.6373  368.0294   True\n",
      "유리3 / 125 유리3 / 150    -168.0    0.0 -222.6961 -113.3039   True\n",
      "---------------------------------------------------------------\n"
     ]
    }
   ],
   "source": [
    "# 사후 분석\n",
    "dat['온도'] = dat['온도'].astype('str')\n",
    "dat['combi'] = dat.판유리 + \" / \" + dat.온도\n",
    "print(pairwise_tukeyhsd(dat['강도'], dat['combi']))"
   ]
  },
  {
   "cell_type": "code",
   "execution_count": null,
   "id": "90f1daa3",
   "metadata": {},
   "outputs": [],
   "source": []
  }
 ],
 "metadata": {
  "kernelspec": {
   "display_name": "Python 3 (ipykernel)",
   "language": "python",
   "name": "python3"
  },
  "language_info": {
   "codemirror_mode": {
    "name": "ipython",
    "version": 3
   },
   "file_extension": ".py",
   "mimetype": "text/x-python",
   "name": "python",
   "nbconvert_exporter": "python",
   "pygments_lexer": "ipython3",
   "version": "3.9.12"
  }
 },
 "nbformat": 4,
 "nbformat_minor": 5
}
