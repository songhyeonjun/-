{
 "cells": [
  {
   "cell_type": "markdown",
   "id": "a09a80ea",
   "metadata": {},
   "source": [
    "# 통계적 검정"
   ]
  },
  {
   "cell_type": "code",
   "execution_count": 1,
   "id": "b18f54af",
   "metadata": {},
   "outputs": [],
   "source": [
    "import os\n",
    "import warnings\n",
    "\n",
    "warnings.simplefilter(action='ignore', category=FutureWarning)\n",
    "\n",
    "import pandas as pd\n",
    "import numpy as np\n",
    "from scipy import stats\n",
    "import math\n",
    "import matplotlib.pyplot as plt\n",
    "import seaborn as sns\n",
    "%matplotlib inline\n",
    "\n",
    "import os\n",
    "if os.name == 'nt' :\n",
    "    font_family = \"Malgun Gothic\"\n",
    "else:\n",
    "    font_family = \"AppleGothic\"\n",
    "    \n",
    "sns.set(font=font_family, rc ={\"axes.unicode_minus\" : False})"
   ]
  },
  {
   "cell_type": "markdown",
   "id": "49869255",
   "metadata": {},
   "source": [
    "## 1. t검정\n",
    "### 1) 일표본 t-검정(one sample t-test)\n",
    " - stats.ttest_1samp() 이용(alternative : {'two-sided', 'less', 'greater'})\n",
    " - stats.shapiro 정규성 검정\n",
    " - numpy의 std는 모표준편차(ddof = 0)이 기본값\n",
    " - pandas의 std는 표본표준편차(ddof=1)이 기본값\n",
    "\n",
    "### 증명하고자 하는 가설\n",
    " - 아이리포 중학교 1학년의 평균 키는 175cm로 알려져 있다. 실제로도 그러한지 알아보기 위해 학생 14명을 임의로 뽑아서 키를 측정하였다. 해당 데이터를 가지고 아이리포 중학교 1학년 학생의 평균 키는 175cm와 같다고 할 수 있는지 검정해보자(유의수준 : 0.05)\n",
    " \n",
    " - 귀무가설 : 아이리포 중학교 1학년 평균 키는 175cm이다.\n",
    " - 대립가설 : 아이리포 중학교 1학년의 평균 키는 175cm가 아니다.\n"
   ]
  },
  {
   "cell_type": "code",
   "execution_count": 2,
   "id": "56a1e78e",
   "metadata": {},
   "outputs": [],
   "source": [
    "# 모집단 데이터\n",
    "data = [177.3, 182.7, 169.6, 160, 180.3, 179.4, 178.5, 177.2, 181.8, 176.5, 190, 185, 167, 171]"
   ]
  },
  {
   "cell_type": "code",
   "execution_count": 3,
   "id": "24b1f9dd",
   "metadata": {},
   "outputs": [
    {
     "data": {
      "text/plain": [
       "ShapiroResult(statistic=0.9641273021697998, pvalue=0.7900116443634033)"
      ]
     },
     "execution_count": 3,
     "metadata": {},
     "output_type": "execute_result"
    }
   ],
   "source": [
    "# 데이터의 정규성 검정 : pvalue > 0.05이면 정규성을 따름\n",
    "stats.shapiro(data)"
   ]
  },
  {
   "cell_type": "markdown",
   "id": "17b31a76",
   "metadata": {},
   "source": [
    "### stats.ttest_1samp로 검정 통계량 계산"
   ]
  },
  {
   "cell_type": "code",
   "execution_count": 4,
   "id": "84b5dbb4",
   "metadata": {},
   "outputs": [
    {
     "name": "stdout",
     "output_type": "stream",
     "text": [
      "t검정 통계량 = 0.903, pvalue = 0.383\n"
     ]
    }
   ],
   "source": [
    "# 유의수준 0.05\n",
    "m_a = 0.05\n",
    "\n",
    "# 알려진 평균 확인\n",
    "s_mu = 175\n",
    "one_sample_result = stats.ttest_1samp(data, popmean = s_mu)\n",
    "\n",
    "print('t검정 통계량 = %.3f, pvalue = %.3f'%(one_sample_result))"
   ]
  },
  {
   "cell_type": "markdown",
   "id": "61a1dc88",
   "metadata": {},
   "source": [
    "### 검정통계량 직접 계산"
   ]
  },
  {
   "cell_type": "code",
   "execution_count": 5,
   "id": "2731ef0b",
   "metadata": {},
   "outputs": [
    {
     "name": "stdout",
     "output_type": "stream",
     "text": [
      "14\n",
      "176.87857142857143\n",
      "7.782443611837389\n",
      "t검정 통계량 : 0.903\n",
      "p_value(유의확률) : 0.383\n"
     ]
    }
   ],
   "source": [
    "# 표본 수\n",
    "n = len(data)\n",
    "print(len(data))\n",
    "hysis_mu = np.mean(data)\n",
    "print(np.mean(data))\n",
    "\n",
    "# 알려진 평균\n",
    "s_mu = 175\n",
    "\n",
    "# 표본표준편차\n",
    "s_sigma = np.std(data, ddof=1)\n",
    "print(np.std(data, ddof=1))\n",
    "\n",
    "# 통계량 t값 계산\n",
    "t_value = (hysis_mu - s_mu)  / (s_sigma / np.sqrt(n))\n",
    "\n",
    "print('t검정 통계량 :', round(t_value, 3))\n",
    "\n",
    "# p_value(유의확률) 계산\n",
    "print('p_value(유의확률) :', round((1 - stats.t(df=13).cdf(t_value) ) * 2, 3))"
   ]
  },
  {
   "cell_type": "code",
   "execution_count": 6,
   "id": "e1f4118a",
   "metadata": {},
   "outputs": [
    {
     "name": "stdout",
     "output_type": "stream",
     "text": [
      "유의수준 : 0.05\n",
      "기각값 : 2.1603686564610127\n"
     ]
    }
   ],
   "source": [
    "# 기각값\n",
    "# 유의수준 0.05\n",
    "print('유의수준 :', m_a)\n",
    "\n",
    "# 기각값\n",
    "t_95 = stats.t.ppf(1 - (1 - 0.95) / 2, df=n-1)\n",
    "\n",
    "print('기각값 :', t_95)"
   ]
  },
  {
   "cell_type": "markdown",
   "id": "f1293804",
   "metadata": {},
   "source": [
    "### 결론\n",
    " - 검정 통계량 검정 : 0.903은 채택역에 속함(기각역 2.16)\n",
    " - P-value 검정 : 0.05(유의수준) < 0.383(p-value), 귀무가설 채택\n",
    " - 아이리포 중학교 1학년의 평균 키는 175cm이다."
   ]
  },
  {
   "cell_type": "markdown",
   "id": "cdc4b826",
   "metadata": {},
   "source": [
    "###  2) 대응표본 t-검정(paired sample t-test)\n",
    " - stats.ttest_rel(before_data, after_data)\n",
    "    \n",
    "### 증명하고자 하는 가설\n",
    " - 10명의 환자를 대상으로 비타민을 복용하기 전과 후의 수면시간을 측정하여 비타민의 효과가 있는지를 판단하고자 한다. 표본이 정규성을 만족한다는 가정하에 수면시간의 차이가 줄어 들었는지 검정(유의수준 : 0.05)\n",
    " - 귀무가설 : 수면영양제를 복용하기 전과 후의 평균 수면시간에는 차이가 없다.(D=0)\n",
    " - 대립가설 : 수면영양재를 복용하기 전과 후의 평균 수면시간 차이는 0보다 작다.(D<0)"
   ]
  },
  {
   "cell_type": "code",
   "execution_count": 10,
   "id": "fbcf9fa4",
   "metadata": {},
   "outputs": [],
   "source": [
    "# 검정 데이터 관측\n",
    "before_data = [7,3,4,5,2,1,6,6,5,4]\n",
    "after_data = [8,4,5,6,2,3,6,8,6,5]\n",
    "\n",
    "check = ['before', 'after']\n",
    "# 데이터프레임 merge\n",
    "check = [check[j] for j in range(2) for i in range(10)]\n",
    "data = pd.DataFrame({'when' : check, 'score' : before_data + after_data})"
   ]
  },
  {
   "cell_type": "code",
   "execution_count": 11,
   "id": "0743b99d",
   "metadata": {},
   "outputs": [
    {
     "data": {
      "text/html": [
       "<div>\n",
       "<style scoped>\n",
       "    .dataframe tbody tr th:only-of-type {\n",
       "        vertical-align: middle;\n",
       "    }\n",
       "\n",
       "    .dataframe tbody tr th {\n",
       "        vertical-align: top;\n",
       "    }\n",
       "\n",
       "    .dataframe thead th {\n",
       "        text-align: right;\n",
       "    }\n",
       "</style>\n",
       "<table border=\"1\" class=\"dataframe\">\n",
       "  <thead>\n",
       "    <tr style=\"text-align: right;\">\n",
       "      <th></th>\n",
       "      <th>when</th>\n",
       "      <th>score</th>\n",
       "    </tr>\n",
       "  </thead>\n",
       "  <tbody>\n",
       "    <tr>\n",
       "      <th>0</th>\n",
       "      <td>before</td>\n",
       "      <td>7</td>\n",
       "    </tr>\n",
       "    <tr>\n",
       "      <th>1</th>\n",
       "      <td>before</td>\n",
       "      <td>3</td>\n",
       "    </tr>\n",
       "    <tr>\n",
       "      <th>2</th>\n",
       "      <td>before</td>\n",
       "      <td>4</td>\n",
       "    </tr>\n",
       "    <tr>\n",
       "      <th>3</th>\n",
       "      <td>before</td>\n",
       "      <td>5</td>\n",
       "    </tr>\n",
       "    <tr>\n",
       "      <th>4</th>\n",
       "      <td>before</td>\n",
       "      <td>2</td>\n",
       "    </tr>\n",
       "  </tbody>\n",
       "</table>\n",
       "</div>"
      ],
      "text/plain": [
       "     when  score\n",
       "0  before      7\n",
       "1  before      3\n",
       "2  before      4\n",
       "3  before      5\n",
       "4  before      2"
      ]
     },
     "execution_count": 11,
     "metadata": {},
     "output_type": "execute_result"
    }
   ],
   "source": [
    "data.head()"
   ]
  },
  {
   "cell_type": "code",
   "execution_count": 12,
   "id": "bc2577f4",
   "metadata": {},
   "outputs": [
    {
     "name": "stdout",
     "output_type": "stream",
     "text": [
      "ShapiroResult(statistic=0.9644594192504883, pvalue=0.8352694511413574)\n",
      "ShapiroResult(statistic=0.9456835985183716, pvalue=0.6177982091903687)\n"
     ]
    }
   ],
   "source": [
    "# 정규성 검정 : 자료의 모집단 분포는 정규분포를 따름\n",
    "from scipy.stats import shapiro\n",
    "\n",
    "nomal_before = shapiro(before_data)\n",
    "nomal_after = shapiro(after_data)\n",
    "\n",
    "print(nomal_before)\n",
    "print(nomal_after)\n",
    "\n",
    "# p-value모두 0.05보다 크기 때문에 정규성 만족"
   ]
  },
  {
   "cell_type": "code",
   "execution_count": 13,
   "id": "b1d859d6",
   "metadata": {},
   "outputs": [
    {
     "name": "stdout",
     "output_type": "stream",
     "text": [
      "LeveneResult(statistic=0.0, pvalue=1.0)\n",
      "BartlettResult(statistic=0.007785808167159078, pvalue=0.9296881301038368)\n"
     ]
    }
   ],
   "source": [
    "# 등분산성 검정 : 모든 집단의 모분산은 동일함\n",
    "from scipy.stats import levene\n",
    "print(levene(before_data, after_data))\n",
    "\n",
    "from scipy.stats import bartlett\n",
    "print(bartlett(before_data, after_data))\n",
    "\n",
    "# p-value가 0.05보다 커서 등분산성 만족"
   ]
  },
  {
   "cell_type": "code",
   "execution_count": 14,
   "id": "1179c388",
   "metadata": {},
   "outputs": [],
   "source": [
    "# 대응표본 t검정 수행\n",
    "paired_result = stats.ttest_rel(before_data, after_data)"
   ]
  },
  {
   "cell_type": "code",
   "execution_count": 15,
   "id": "d044b9a3",
   "metadata": {},
   "outputs": [
    {
     "name": "stdout",
     "output_type": "stream",
     "text": [
      "t검정 통계량 = -4.743, pvalue = 0.001\n"
     ]
    }
   ],
   "source": [
    "print('t검정 통계량 = %.3f, pvalue = %.3f'%paired_result)"
   ]
  },
  {
   "cell_type": "markdown",
   "id": "3a1b81d0",
   "metadata": {},
   "source": [
    "### 결론\n",
    " - 대응표본 t검정 수행 결과, 검정 통계량 t값은 -4.7434, 유의확률(P-value)은 0.001\n",
    " - P-value검정 : 0.05(유의수준) > 0.001(p-value), 귀무가설 기각\n",
    " - 수면영양제를 복용하기 전과 후의 평균 수면시간 차이는 통계적으로 유의하며, 영양제를 복용한 후 수면시간이 줄었다는 결론을 내릴 수 있음"
   ]
  },
  {
   "cell_type": "markdown",
   "id": "8d9414c3",
   "metadata": {},
   "source": [
    "### 3) 독립표본 t-검정 (independent sample t-Test)\n",
    " - 등분산성 만족 : stats.ttest_ind(x, y, equal_var = True)\n",
    " - 등분산성 불만족 : stats.ttest_ind(x, y, equaul_var = False)"
   ]
  },
  {
   "cell_type": "markdown",
   "id": "ba43bcd6",
   "metadata": {},
   "source": [
    "### 증명하고자 하는 가설\n",
    " - 서울과 대구, 두 지역의 겨울 낮 최고 기온에 차이가 있는지를 알아보기 위해 12일동안 두 지역의 낮 최고기온을 측정한 데이터로 독립표본 t검정을 수행해보자(표본이 정규성을 만족한다는 가정, 양측검정 수행)\n",
    " - 귀무가설 : a, b 두 지역에 따른 겨울 낮 최고기온은 차이가 없다.\n",
    " - 대립가설 : a, b 두 지역에 따른 겨울 낮 최고기온은 차이가 있다."
   ]
  },
  {
   "cell_type": "code",
   "execution_count": 17,
   "id": "ab156016",
   "metadata": {},
   "outputs": [],
   "source": [
    "# 데이터프레임\n",
    "seoul = [-1,0,3,4,1,3,3,1,1,3,2,4]\n",
    "daegu = [6,6,8,8,11,11,10,8,8,8,7,10]\n",
    "region = ['suoul'] * 12 + ['daegu'] * 12\n",
    "data = pd.DataFrame({'region' : region, 'temp' : seoul + daegu})"
   ]
  },
  {
   "cell_type": "code",
   "execution_count": 19,
   "id": "d7316225",
   "metadata": {},
   "outputs": [
    {
     "data": {
      "text/html": [
       "<div>\n",
       "<style scoped>\n",
       "    .dataframe tbody tr th:only-of-type {\n",
       "        vertical-align: middle;\n",
       "    }\n",
       "\n",
       "    .dataframe tbody tr th {\n",
       "        vertical-align: top;\n",
       "    }\n",
       "\n",
       "    .dataframe thead th {\n",
       "        text-align: right;\n",
       "    }\n",
       "</style>\n",
       "<table border=\"1\" class=\"dataframe\">\n",
       "  <thead>\n",
       "    <tr style=\"text-align: right;\">\n",
       "      <th></th>\n",
       "      <th>region</th>\n",
       "      <th>temp</th>\n",
       "    </tr>\n",
       "  </thead>\n",
       "  <tbody>\n",
       "    <tr>\n",
       "      <th>0</th>\n",
       "      <td>suoul</td>\n",
       "      <td>-1</td>\n",
       "    </tr>\n",
       "    <tr>\n",
       "      <th>1</th>\n",
       "      <td>suoul</td>\n",
       "      <td>0</td>\n",
       "    </tr>\n",
       "    <tr>\n",
       "      <th>2</th>\n",
       "      <td>suoul</td>\n",
       "      <td>3</td>\n",
       "    </tr>\n",
       "  </tbody>\n",
       "</table>\n",
       "</div>"
      ],
      "text/plain": [
       "  region  temp\n",
       "0  suoul    -1\n",
       "1  suoul     0\n",
       "2  suoul     3"
      ]
     },
     "execution_count": 19,
     "metadata": {},
     "output_type": "execute_result"
    }
   ],
   "source": [
    "data.head(3)"
   ]
  },
  {
   "cell_type": "code",
   "execution_count": 20,
   "id": "f45590f8",
   "metadata": {},
   "outputs": [
    {
     "name": "stdout",
     "output_type": "stream",
     "text": [
      "ShapiroResult(statistic=0.9178412556648254, pvalue=0.2685365378856659)\n",
      "ShapiroResult(statistic=0.8929089903831482, pvalue=0.12847401201725006)\n"
     ]
    }
   ],
   "source": [
    "# 정규성 검정 : 자료의 모집단 분포는 정규분포를 따름\n",
    "\n",
    "normal_seoul = shapiro(seoul)\n",
    "nomal_daegu = shapiro(daegu)\n",
    "print(normal_seoul)\n",
    "print(nomal_daegu)\n",
    "\n",
    "# 결과 : p-value > 0.05, 정규성을 만족"
   ]
  },
  {
   "cell_type": "code",
   "execution_count": 21,
   "id": "893254d6",
   "metadata": {},
   "outputs": [
    {
     "name": "stdout",
     "output_type": "stream",
     "text": [
      "LeveneResult(statistic=0.03536977491961408, pvalue=0.852546837572036)\n",
      "BartlettResult(statistic=0.06876623090053459, pvalue=0.7931416886460287)\n"
     ]
    }
   ],
   "source": [
    "# 등분산성 검정 : 모든 집단의 모분산은 동일함\n",
    "\n",
    "# levene 등분산성 검정\n",
    "print(levene(seoul, daegu))\n",
    "\n",
    "# bartlett 등분산성 검정\n",
    "print(bartlett(seoul, daegu))\n",
    "\n",
    "# 결과 : p-value > 0.05, 등분산성 만족"
   ]
  },
  {
   "cell_type": "code",
   "execution_count": 22,
   "id": "65e2a91a",
   "metadata": {},
   "outputs": [
    {
     "name": "stdout",
     "output_type": "stream",
     "text": [
      "t검정 통계량 : -9.446, pvalue=0.000000003372716\n"
     ]
    }
   ],
   "source": [
    "# 독랍표본 t검정\n",
    "ttests_result = stats.ttest_ind(seoul, daegu, equal_var=True) # 등분산성 만족\n",
    "# ttest_ind(a, b, equal_var=False) # 등분산성 불만족\n",
    "\n",
    "print('t검정 통계량 : %.3f, pvalue=%.15f'%(ttests_result))"
   ]
  },
  {
   "cell_type": "markdown",
   "id": "cf88c7f1",
   "metadata": {},
   "source": [
    "### 결론\n",
    " - 독립표본 t검정 수행결과, 검정 통계량 t값은 -9.446, 유의확률(P-value)은 0.000000003372716\n",
    " - P-value 검정 : 0.05(유의수준) > 0.000000003372716(p-value), 귀무가설 기각\n",
    " - 서울과 대구, 두 지경의 겨울 낮 최고 기온에는 통계적으로 유의한 차이가 존재한다는 결론을 내릴수 있다."
   ]
  },
  {
   "cell_type": "code",
   "execution_count": null,
   "id": "d8201c3c",
   "metadata": {},
   "outputs": [],
   "source": []
  }
 ],
 "metadata": {
  "kernelspec": {
   "display_name": "Python 3 (ipykernel)",
   "language": "python",
   "name": "python3"
  },
  "language_info": {
   "codemirror_mode": {
    "name": "ipython",
    "version": 3
   },
   "file_extension": ".py",
   "mimetype": "text/x-python",
   "name": "python",
   "nbconvert_exporter": "python",
   "pygments_lexer": "ipython3",
   "version": "3.9.12"
  }
 },
 "nbformat": 4,
 "nbformat_minor": 5
}
