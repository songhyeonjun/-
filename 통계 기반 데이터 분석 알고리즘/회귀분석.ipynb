{
 "cells": [
  {
   "cell_type": "markdown",
   "id": "7dee6a91",
   "metadata": {},
   "source": [
    "# 회귀 분석\n",
    "## 패키지 Import"
   ]
  },
  {
   "cell_type": "code",
   "execution_count": 1,
   "id": "4a2f8217",
   "metadata": {},
   "outputs": [],
   "source": [
    "import os\n",
    "import warnings\n",
    "\n",
    "warnings.simplefilter(action='ignore', category=FutureWarning)\n",
    "\n",
    "import pandas as pd\n",
    "import numpy as np\n",
    "import math\n",
    "from scipy import stats\n",
    "\n",
    "import matplotlib.pyplot as plt\n",
    "import seaborn as sns\n",
    "%matplotlib inline\n",
    "\n",
    "import os\n",
    "if os.name == 'nt' :\n",
    "    font_family = \"Malgun Gothic\"\n",
    "else:\n",
    "    font_family = \"AppleGothic\"\n",
    "    \n",
    "sns.set(font=font_family, rc ={\"axes.unicode_minus\" : False})"
   ]
  },
  {
   "cell_type": "markdown",
   "id": "7e402409",
   "metadata": {},
   "source": [
    "## 1. 데이터 셋\n",
    "### sklern-load_diabetes\n",
    " - 당뇨병 진행도 예측용 데이터는 442명의 당뇨병 환자를 대상으로 한 검사 결과를 나타내는 데이터\n",
    " - 10 종류의 독립변수, 독립변수의 값들은 모두 스키일링(scaling)\n",
    "\n",
    "### 종속변수\n",
    " - target : 1년 뒤 측정한 당뇨병의 진행률\n",
    "        \n",
    "### 독립변수\n",
    " - age : 나이\n",
    " - sex : 성별\n",
    " - bmi : BMI 지수\n",
    " - bp : 평균 혈압\n",
    " - s1 ~ s6 6종류의 혈액 검사 수치"
   ]
  },
  {
   "cell_type": "code",
   "execution_count": 2,
   "id": "6b4fd1f5",
   "metadata": {},
   "outputs": [
    {
     "data": {
      "text/html": [
       "<div>\n",
       "<style scoped>\n",
       "    .dataframe tbody tr th:only-of-type {\n",
       "        vertical-align: middle;\n",
       "    }\n",
       "\n",
       "    .dataframe tbody tr th {\n",
       "        vertical-align: top;\n",
       "    }\n",
       "\n",
       "    .dataframe thead th {\n",
       "        text-align: right;\n",
       "    }\n",
       "</style>\n",
       "<table border=\"1\" class=\"dataframe\">\n",
       "  <thead>\n",
       "    <tr style=\"text-align: right;\">\n",
       "      <th></th>\n",
       "      <th>age</th>\n",
       "      <th>sex</th>\n",
       "      <th>bmi</th>\n",
       "      <th>bp</th>\n",
       "      <th>s1</th>\n",
       "      <th>s2</th>\n",
       "      <th>s3</th>\n",
       "      <th>s4</th>\n",
       "      <th>s5</th>\n",
       "      <th>s6</th>\n",
       "      <th>target</th>\n",
       "    </tr>\n",
       "  </thead>\n",
       "  <tbody>\n",
       "    <tr>\n",
       "      <th>age</th>\n",
       "      <td>1.000000</td>\n",
       "      <td>0.173737</td>\n",
       "      <td>0.185085</td>\n",
       "      <td>0.335428</td>\n",
       "      <td>0.260061</td>\n",
       "      <td>0.219243</td>\n",
       "      <td>-0.075181</td>\n",
       "      <td>0.203841</td>\n",
       "      <td>0.270774</td>\n",
       "      <td>0.301731</td>\n",
       "      <td>0.187889</td>\n",
       "    </tr>\n",
       "    <tr>\n",
       "      <th>sex</th>\n",
       "      <td>0.173737</td>\n",
       "      <td>1.000000</td>\n",
       "      <td>0.088161</td>\n",
       "      <td>0.241010</td>\n",
       "      <td>0.035277</td>\n",
       "      <td>0.142637</td>\n",
       "      <td>-0.379090</td>\n",
       "      <td>0.332115</td>\n",
       "      <td>0.149916</td>\n",
       "      <td>0.208133</td>\n",
       "      <td>0.043062</td>\n",
       "    </tr>\n",
       "    <tr>\n",
       "      <th>bmi</th>\n",
       "      <td>0.185085</td>\n",
       "      <td>0.088161</td>\n",
       "      <td>1.000000</td>\n",
       "      <td>0.395411</td>\n",
       "      <td>0.249777</td>\n",
       "      <td>0.261170</td>\n",
       "      <td>-0.366811</td>\n",
       "      <td>0.413807</td>\n",
       "      <td>0.446157</td>\n",
       "      <td>0.388680</td>\n",
       "      <td>0.586450</td>\n",
       "    </tr>\n",
       "    <tr>\n",
       "      <th>bp</th>\n",
       "      <td>0.335428</td>\n",
       "      <td>0.241010</td>\n",
       "      <td>0.395411</td>\n",
       "      <td>1.000000</td>\n",
       "      <td>0.242464</td>\n",
       "      <td>0.185548</td>\n",
       "      <td>-0.178762</td>\n",
       "      <td>0.257650</td>\n",
       "      <td>0.393480</td>\n",
       "      <td>0.390430</td>\n",
       "      <td>0.441482</td>\n",
       "    </tr>\n",
       "    <tr>\n",
       "      <th>s1</th>\n",
       "      <td>0.260061</td>\n",
       "      <td>0.035277</td>\n",
       "      <td>0.249777</td>\n",
       "      <td>0.242464</td>\n",
       "      <td>1.000000</td>\n",
       "      <td>0.896663</td>\n",
       "      <td>0.051519</td>\n",
       "      <td>0.542207</td>\n",
       "      <td>0.515503</td>\n",
       "      <td>0.325717</td>\n",
       "      <td>0.212022</td>\n",
       "    </tr>\n",
       "    <tr>\n",
       "      <th>s2</th>\n",
       "      <td>0.219243</td>\n",
       "      <td>0.142637</td>\n",
       "      <td>0.261170</td>\n",
       "      <td>0.185548</td>\n",
       "      <td>0.896663</td>\n",
       "      <td>1.000000</td>\n",
       "      <td>-0.196455</td>\n",
       "      <td>0.659817</td>\n",
       "      <td>0.318357</td>\n",
       "      <td>0.290600</td>\n",
       "      <td>0.174054</td>\n",
       "    </tr>\n",
       "    <tr>\n",
       "      <th>s3</th>\n",
       "      <td>-0.075181</td>\n",
       "      <td>-0.379090</td>\n",
       "      <td>-0.366811</td>\n",
       "      <td>-0.178762</td>\n",
       "      <td>0.051519</td>\n",
       "      <td>-0.196455</td>\n",
       "      <td>1.000000</td>\n",
       "      <td>-0.738493</td>\n",
       "      <td>-0.398577</td>\n",
       "      <td>-0.273697</td>\n",
       "      <td>-0.394789</td>\n",
       "    </tr>\n",
       "    <tr>\n",
       "      <th>s4</th>\n",
       "      <td>0.203841</td>\n",
       "      <td>0.332115</td>\n",
       "      <td>0.413807</td>\n",
       "      <td>0.257650</td>\n",
       "      <td>0.542207</td>\n",
       "      <td>0.659817</td>\n",
       "      <td>-0.738493</td>\n",
       "      <td>1.000000</td>\n",
       "      <td>0.617859</td>\n",
       "      <td>0.417212</td>\n",
       "      <td>0.430453</td>\n",
       "    </tr>\n",
       "    <tr>\n",
       "      <th>s5</th>\n",
       "      <td>0.270774</td>\n",
       "      <td>0.149916</td>\n",
       "      <td>0.446157</td>\n",
       "      <td>0.393480</td>\n",
       "      <td>0.515503</td>\n",
       "      <td>0.318357</td>\n",
       "      <td>-0.398577</td>\n",
       "      <td>0.617859</td>\n",
       "      <td>1.000000</td>\n",
       "      <td>0.464669</td>\n",
       "      <td>0.565883</td>\n",
       "    </tr>\n",
       "    <tr>\n",
       "      <th>s6</th>\n",
       "      <td>0.301731</td>\n",
       "      <td>0.208133</td>\n",
       "      <td>0.388680</td>\n",
       "      <td>0.390430</td>\n",
       "      <td>0.325717</td>\n",
       "      <td>0.290600</td>\n",
       "      <td>-0.273697</td>\n",
       "      <td>0.417212</td>\n",
       "      <td>0.464669</td>\n",
       "      <td>1.000000</td>\n",
       "      <td>0.382483</td>\n",
       "    </tr>\n",
       "    <tr>\n",
       "      <th>target</th>\n",
       "      <td>0.187889</td>\n",
       "      <td>0.043062</td>\n",
       "      <td>0.586450</td>\n",
       "      <td>0.441482</td>\n",
       "      <td>0.212022</td>\n",
       "      <td>0.174054</td>\n",
       "      <td>-0.394789</td>\n",
       "      <td>0.430453</td>\n",
       "      <td>0.565883</td>\n",
       "      <td>0.382483</td>\n",
       "      <td>1.000000</td>\n",
       "    </tr>\n",
       "  </tbody>\n",
       "</table>\n",
       "</div>"
      ],
      "text/plain": [
       "             age       sex       bmi        bp        s1        s2        s3  \\\n",
       "age     1.000000  0.173737  0.185085  0.335428  0.260061  0.219243 -0.075181   \n",
       "sex     0.173737  1.000000  0.088161  0.241010  0.035277  0.142637 -0.379090   \n",
       "bmi     0.185085  0.088161  1.000000  0.395411  0.249777  0.261170 -0.366811   \n",
       "bp      0.335428  0.241010  0.395411  1.000000  0.242464  0.185548 -0.178762   \n",
       "s1      0.260061  0.035277  0.249777  0.242464  1.000000  0.896663  0.051519   \n",
       "s2      0.219243  0.142637  0.261170  0.185548  0.896663  1.000000 -0.196455   \n",
       "s3     -0.075181 -0.379090 -0.366811 -0.178762  0.051519 -0.196455  1.000000   \n",
       "s4      0.203841  0.332115  0.413807  0.257650  0.542207  0.659817 -0.738493   \n",
       "s5      0.270774  0.149916  0.446157  0.393480  0.515503  0.318357 -0.398577   \n",
       "s6      0.301731  0.208133  0.388680  0.390430  0.325717  0.290600 -0.273697   \n",
       "target  0.187889  0.043062  0.586450  0.441482  0.212022  0.174054 -0.394789   \n",
       "\n",
       "              s4        s5        s6    target  \n",
       "age     0.203841  0.270774  0.301731  0.187889  \n",
       "sex     0.332115  0.149916  0.208133  0.043062  \n",
       "bmi     0.413807  0.446157  0.388680  0.586450  \n",
       "bp      0.257650  0.393480  0.390430  0.441482  \n",
       "s1      0.542207  0.515503  0.325717  0.212022  \n",
       "s2      0.659817  0.318357  0.290600  0.174054  \n",
       "s3     -0.738493 -0.398577 -0.273697 -0.394789  \n",
       "s4      1.000000  0.617859  0.417212  0.430453  \n",
       "s5      0.617859  1.000000  0.464669  0.565883  \n",
       "s6      0.417212  0.464669  1.000000  0.382483  \n",
       "target  0.430453  0.565883  0.382483  1.000000  "
      ]
     },
     "execution_count": 2,
     "metadata": {},
     "output_type": "execute_result"
    }
   ],
   "source": [
    "# 데이터셋 로드\n",
    "from sklearn.datasets import load_diabetes\n",
    "\n",
    "data = load_diabetes()\n",
    "df = pd.DataFrame(data.data, columns=data.feature_names)\n",
    "df[\"target\"] = data.target\n",
    "# df.head()\n",
    "\n",
    "# 상관관계 확인\n",
    "df.corr()"
   ]
  },
  {
   "cell_type": "markdown",
   "id": "1f9c7246",
   "metadata": {},
   "source": [
    "## 2. 단순선형회귀분석\n",
    "### 1) 데이터 탐색"
   ]
  },
  {
   "cell_type": "code",
   "execution_count": 3,
   "id": "989f871f",
   "metadata": {},
   "outputs": [
    {
     "name": "stdout",
     "output_type": "stream",
     "text": [
      "<class 'pandas.core.frame.DataFrame'>\n",
      "RangeIndex: 442 entries, 0 to 441\n",
      "Data columns (total 11 columns):\n",
      " #   Column  Non-Null Count  Dtype  \n",
      "---  ------  --------------  -----  \n",
      " 0   age     442 non-null    float64\n",
      " 1   sex     442 non-null    float64\n",
      " 2   bmi     442 non-null    float64\n",
      " 3   bp      442 non-null    float64\n",
      " 4   s1      442 non-null    float64\n",
      " 5   s2      442 non-null    float64\n",
      " 6   s3      442 non-null    float64\n",
      " 7   s4      442 non-null    float64\n",
      " 8   s5      442 non-null    float64\n",
      " 9   s6      442 non-null    float64\n",
      " 10  target  442 non-null    float64\n",
      "dtypes: float64(11)\n",
      "memory usage: 38.1 KB\n"
     ]
    }
   ],
   "source": [
    "df.info()"
   ]
  },
  {
   "cell_type": "code",
   "execution_count": 4,
   "id": "daefafb4",
   "metadata": {},
   "outputs": [
    {
     "data": {
      "text/plain": [
       "<AxesSubplot:xlabel='bmi', ylabel='target'>"
      ]
     },
     "execution_count": 4,
     "metadata": {},
     "output_type": "execute_result"
    },
    {
     "data": {
      "image/png": "[encoded data removed]",
      "text/plain": [
       "<Figure size 432x288 with 1 Axes>"
      ]
     },
     "metadata": {},
     "output_type": "display_data"
    }
   ],
   "source": [
    "# 산점도 확인\n",
    "sns.regplot('bmi', 'target', lowess=True, line_kws={'color' : 'red'}, data=df)"
   ]
  },
  {
   "cell_type": "code",
   "execution_count": 6,
   "id": "37667933",
   "metadata": {},
   "outputs": [
    {
     "data": {
      "text/plain": [
       "Text(0.5, 1.0, 'rate')"
      ]
     },
     "execution_count": 6,
     "metadata": {},
     "output_type": "execute_result"
    },
    {
     "data": {
      "image/png": "[encoded data removed]",
      "text/plain": [
       "<Figure size 432x288 with 2 Axes>"
      ]
     },
     "metadata": {},
     "output_type": "display_data"
    }
   ],
   "source": [
    "# 이상값 확인\n",
    "fig, (ax1, ax2) = plt.subplots(1, 2)\n",
    "\n",
    "sns.boxplot('bmi', data=df, ax=ax1)\n",
    "ax1.set_title('bmi')\n",
    "\n",
    "# dist의 상자그림을 두 번째(ax2)로 그린다.\n",
    "sns.boxplot('target', data=df, ax=ax2)\n",
    "ax2.set_title('rate')"
   ]
  },
  {
   "cell_type": "code",
   "execution_count": 7,
   "id": "38871548",
   "metadata": {},
   "outputs": [
    {
     "data": {
      "text/plain": [
       "Text(0.5, 1.0, 'rate')"
      ]
     },
     "execution_count": 7,
     "metadata": {},
     "output_type": "execute_result"
    },
    {
     "data": {
      "image/png": "[encoded data removed]",
      "text/plain": [
       "<Figure size 720x288 with 2 Axes>"
      ]
     },
     "metadata": {},
     "output_type": "display_data"
    }
   ],
   "source": [
    "# 분포 시각화\n",
    "fig, (ax1, ax2) = plt.subplots(1, 2, figsize=(10, 4))\n",
    "\n",
    "sns.kdeplot('bmi', data=df, ax=ax1)\n",
    "ax1.set_title('bmi')\n",
    "\n",
    "# dist의 상자그림을 두 번째(ax2)로 그린다.\n",
    "sns.kdeplot('target', data=df, ax=ax2)\n",
    "ax2.set_title('rate')"
   ]
  },
  {
   "cell_type": "code",
   "execution_count": 8,
   "id": "fde44678",
   "metadata": {},
   "outputs": [
    {
     "name": "stdout",
     "output_type": "stream",
     "text": [
      "0.5961166556214368\n",
      "0.43906639932477265\n"
     ]
    }
   ],
   "source": [
    "# 비대칭 확인(왜도)\n",
    "import scipy.stats\n",
    "print(scipy.stats.skew(df['bmi']))\n",
    "print(scipy.stats.skew(df['target']))"
   ]
  },
  {
   "cell_type": "markdown",
   "id": "2caee138",
   "metadata": {},
   "source": [
    "### 2) 단순선형회귀-sklearn\n",
    "\n",
    "#### from sklearn.linear_model import LinearRegression"
   ]
  },
  {
   "cell_type": "code",
   "execution_count": 10,
   "id": "7dcfcadf",
   "metadata": {},
   "outputs": [
    {
     "name": "stdout",
     "output_type": "stream",
     "text": [
      "(442,)\n",
      "(442, 1)\n"
     ]
    }
   ],
   "source": [
    "# 데이터셋 생성\n",
    "x = df.bmi.values\n",
    "y = df.target.values\n",
    "\n",
    "l_train_x1 = x.reshape(-1, 1)\n",
    "l_test_y1 = y.reshape(-1, 1)\n",
    "\n",
    "print(x.shape)\n",
    "print(l_train_x1.shape)"
   ]
  },
  {
   "cell_type": "code",
   "execution_count": 11,
   "id": "4bccdf1b",
   "metadata": {},
   "outputs": [
    {
     "data": {
      "text/html": [
       "<style>#sk-container-id-1 {color: black;background-color: white;}#sk-container-id-1 pre{padding: 0;}#sk-container-id-1 div.sk-toggleable {background-color: white;}#sk-container-id-1 label.sk-toggleable__label {cursor: pointer;display: block;width: 100%;margin-bottom: 0;padding: 0.3em;box-sizing: border-box;text-align: center;}#sk-container-id-1 label.sk-toggleable__label-arrow:before {content: \"▸\";float: left;margin-right: 0.25em;color: #696969;}#sk-container-id-1 label.sk-toggleable__label-arrow:hover:before {color: black;}#sk-container-id-1 div.sk-estimator:hover label.sk-toggleable__label-arrow:before {color: black;}#sk-container-id-1 div.sk-toggleable__content {max-height: 0;max-width: 0;overflow: hidden;text-align: left;background-color: #f0f8ff;}#sk-container-id-1 div.sk-toggleable__content pre {margin: 0.2em;color: black;border-radius: 0.25em;background-color: #f0f8ff;}#sk-container-id-1 input.sk-toggleable__control:checked~div.sk-toggleable__content {max-height: 200px;max-width: 100%;overflow: auto;}#sk-container-id-1 input.sk-toggleable__control:checked~label.sk-toggleable__label-arrow:before {content: \"▾\";}#sk-container-id-1 div.sk-estimator input.sk-toggleable__control:checked~label.sk-toggleable__label {background-color: #d4ebff;}#sk-container-id-1 div.sk-label input.sk-toggleable__control:checked~label.sk-toggleable__label {background-color: #d4ebff;}#sk-container-id-1 input.sk-hidden--visually {border: 0;clip: rect(1px 1px 1px 1px);clip: rect(1px, 1px, 1px, 1px);height: 1px;margin: -1px;overflow: hidden;padding: 0;position: absolute;width: 1px;}#sk-container-id-1 div.sk-estimator {font-family: monospace;background-color: #f0f8ff;border: 1px dotted black;border-radius: 0.25em;box-sizing: border-box;margin-bottom: 0.5em;}#sk-container-id-1 div.sk-estimator:hover {background-color: #d4ebff;}#sk-container-id-1 div.sk-parallel-item::after {content: \"\";width: 100%;border-bottom: 1px solid gray;flex-grow: 1;}#sk-container-id-1 div.sk-label:hover label.sk-toggleable__label {background-color: #d4ebff;}#sk-container-id-1 div.sk-serial::before {content: \"\";position: absolute;border-left: 1px solid gray;box-sizing: border-box;top: 0;bottom: 0;left: 50%;z-index: 0;}#sk-container-id-1 div.sk-serial {display: flex;flex-direction: column;align-items: center;background-color: white;padding-right: 0.2em;padding-left: 0.2em;position: relative;}#sk-container-id-1 div.sk-item {position: relative;z-index: 1;}#sk-container-id-1 div.sk-parallel {display: flex;align-items: stretch;justify-content: center;background-color: white;position: relative;}#sk-container-id-1 div.sk-item::before, #sk-container-id-1 div.sk-parallel-item::before {content: \"\";position: absolute;border-left: 1px solid gray;box-sizing: border-box;top: 0;bottom: 0;left: 50%;z-index: -1;}#sk-container-id-1 div.sk-parallel-item {display: flex;flex-direction: column;z-index: 1;position: relative;background-color: white;}#sk-container-id-1 div.sk-parallel-item:first-child::after {align-self: flex-end;width: 50%;}#sk-container-id-1 div.sk-parallel-item:last-child::after {align-self: flex-start;width: 50%;}#sk-container-id-1 div.sk-parallel-item:only-child::after {width: 0;}#sk-container-id-1 div.sk-dashed-wrapped {border: 1px dashed gray;margin: 0 0.4em 0.5em 0.4em;box-sizing: border-box;padding-bottom: 0.4em;background-color: white;}#sk-container-id-1 div.sk-label label {font-family: monospace;font-weight: bold;display: inline-block;line-height: 1.2em;}#sk-container-id-1 div.sk-label-container {text-align: center;}#sk-container-id-1 div.sk-container {/* jupyter's `normalize.less` sets `[hidden] { display: none; }` but bootstrap.min.css set `[hidden] { display: none !important; }` so we also need the `!important` here to be able to override the default hidden behavior on the sphinx rendered scikit-learn.org. See: https://github.com/scikit-learn/scikit-learn/issues/21755 */display: inline-block !important;position: relative;}#sk-container-id-1 div.sk-text-repr-fallback {display: none;}</style><div id=\"sk-container-id-1\" class=\"sk-top-container\"><div class=\"sk-text-repr-fallback\"><pre>LinearRegression()</pre><b>In a Jupyter environment, please rerun this cell to show the HTML representation or trust the notebook. <br />On GitHub, the HTML representation is unable to render, please try loading this page with nbviewer.org.</b></div><div class=\"sk-container\" hidden><div class=\"sk-item\"><div class=\"sk-estimator sk-toggleable\"><input class=\"sk-toggleable__control sk-hidden--visually\" id=\"sk-estimator-id-1\" type=\"checkbox\" checked><label for=\"sk-estimator-id-1\" class=\"sk-toggleable__label sk-toggleable__label-arrow\">LinearRegression</label><div class=\"sk-toggleable__content\"><pre>LinearRegression()</pre></div></div></div></div></div>"
      ],
      "text/plain": [
       "LinearRegression()"
      ]
     },
     "execution_count": 11,
     "metadata": {},
     "output_type": "execute_result"
    }
   ],
   "source": [
    "# 모델 학습\n",
    "from sklearn.linear_model import LinearRegression\n",
    "lr_model = LinearRegression()\n",
    "lr_model.fit(l_train_x1, l_test_y1)"
   ]
  },
  {
   "cell_type": "code",
   "execution_count": 12,
   "id": "210b8114",
   "metadata": {},
   "outputs": [
    {
     "name": "stdout",
     "output_type": "stream",
     "text": [
      "[949.43526038]\n",
      "[152.13348416]\n"
     ]
    }
   ],
   "source": [
    "# 회귀계수 확인\n",
    "print(lr_model.coef_[0])\n",
    "print(lr_model.intercept_)"
   ]
  },
  {
   "cell_type": "code",
   "execution_count": 13,
   "id": "c6d4e89d",
   "metadata": {},
   "outputs": [
    {
     "data": {
      "text/plain": [
       "array([[2051.00400493],\n",
       "       [-797.30177622],\n",
       "       [ 152.13348416],\n",
       "       [1101.56874455],\n",
       "       [2051.00400493]])"
      ]
     },
     "execution_count": 13,
     "metadata": {},
     "output_type": "execute_result"
    }
   ],
   "source": [
    "# 선형회귀 모델로 값 예측\n",
    "lr_model.predict([[2], [-1], [0], [1], [2]])"
   ]
  },
  {
   "cell_type": "code",
   "execution_count": 14,
   "id": "7f207878",
   "metadata": {},
   "outputs": [],
   "source": [
    "# 잔차 계산\n",
    "lr_prediction = lr_model.predict(l_train_x1)\n",
    "lr_residuals = l_test_y1 - lr_prediction"
   ]
  },
  {
   "cell_type": "code",
   "execution_count": 16,
   "id": "3b93d00f",
   "metadata": {},
   "outputs": [
    {
     "name": "stdout",
     "output_type": "stream",
     "text": [
      "R_squared : 0.3439237602253802\n"
     ]
    }
   ],
   "source": [
    "# R_squared 계산\n",
    "SSE = (lr_residuals**2).sum()\n",
    "SST = ((l_test_y1 - l_test_y1.mean())**2).sum()\n",
    "R_squared = 1 - (SSE / SST)\n",
    "print('R_squared :', R_squared)"
   ]
  },
  {
   "cell_type": "code",
   "execution_count": 17,
   "id": "105008a9",
   "metadata": {},
   "outputs": [
    {
     "data": {
      "image/png": "[encoded data removed]",
      "text/plain": [
       "<Figure size 432x288 with 1 Axes>"
      ]
     },
     "metadata": {},
     "output_type": "display_data"
    }
   ],
   "source": [
    "# 단순회귀 모델 시각화\n",
    "sns.regplot(l_train_x1, l_test_y1, lowess=True, line_kws={'color' : 'red'}, data = df)\n",
    "plt.title('y = {}*x + {}'.format(lr_model.coef_[0], lr_model.intercept_))\n",
    "plt.show()"
   ]
  },
  {
   "cell_type": "markdown",
   "id": "feac8061",
   "metadata": {},
   "source": [
    "### 3) 단순선형회귀 통계적 분석\n",
    "\n",
    "#### from statsmodels.formula.api import ols"
   ]
  },
  {
   "cell_type": "code",
   "execution_count": 18,
   "id": "9fe498ab",
   "metadata": {},
   "outputs": [],
   "source": [
    "from statsmodels.formula.api import ols\n",
    "\n",
    "res_sr = ols('target ~ bmi', data=df).fit() # 종속변수 : traget, 독립변수 : bmi"
   ]
  },
  {
   "cell_type": "code",
   "execution_count": 19,
   "id": "f8768bde",
   "metadata": {},
   "outputs": [
    {
     "data": {
      "text/html": [
       "<table class=\"simpletable\">\n",
       "<caption>OLS Regression Results</caption>\n",
       "<tr>\n",
       "  <th>Dep. Variable:</th>         <td>target</td>      <th>  R-squared:         </th> <td>   0.344</td>\n",
       "</tr>\n",
       "<tr>\n",
       "  <th>Model:</th>                   <td>OLS</td>       <th>  Adj. R-squared:    </th> <td>   0.342</td>\n",
       "</tr>\n",
       "<tr>\n",
       "  <th>Method:</th>             <td>Least Squares</td>  <th>  F-statistic:       </th> <td>   230.7</td>\n",
       "</tr>\n",
       "<tr>\n",
       "  <th>Date:</th>             <td>Wed, 20 Jul 2022</td> <th>  Prob (F-statistic):</th> <td>3.47e-42</td>\n",
       "</tr>\n",
       "<tr>\n",
       "  <th>Time:</th>                 <td>10:43:41</td>     <th>  Log-Likelihood:    </th> <td> -2454.0</td>\n",
       "</tr>\n",
       "<tr>\n",
       "  <th>No. Observations:</th>      <td>   442</td>      <th>  AIC:               </th> <td>   4912.</td>\n",
       "</tr>\n",
       "<tr>\n",
       "  <th>Df Residuals:</th>          <td>   440</td>      <th>  BIC:               </th> <td>   4920.</td>\n",
       "</tr>\n",
       "<tr>\n",
       "  <th>Df Model:</th>              <td>     1</td>      <th>                     </th>     <td> </td>   \n",
       "</tr>\n",
       "<tr>\n",
       "  <th>Covariance Type:</th>      <td>nonrobust</td>    <th>                     </th>     <td> </td>   \n",
       "</tr>\n",
       "</table>\n",
       "<table class=\"simpletable\">\n",
       "<tr>\n",
       "      <td></td>         <th>coef</th>     <th>std err</th>      <th>t</th>      <th>P>|t|</th>  <th>[0.025</th>    <th>0.975]</th>  \n",
       "</tr>\n",
       "<tr>\n",
       "  <th>Intercept</th> <td>  152.1335</td> <td>    2.974</td> <td>   51.162</td> <td> 0.000</td> <td>  146.289</td> <td>  157.978</td>\n",
       "</tr>\n",
       "<tr>\n",
       "  <th>bmi</th>       <td>  949.4353</td> <td>   62.515</td> <td>   15.187</td> <td> 0.000</td> <td>  826.570</td> <td> 1072.301</td>\n",
       "</tr>\n",
       "</table>\n",
       "<table class=\"simpletable\">\n",
       "<tr>\n",
       "  <th>Omnibus:</th>       <td>11.674</td> <th>  Durbin-Watson:     </th> <td>   1.848</td>\n",
       "</tr>\n",
       "<tr>\n",
       "  <th>Prob(Omnibus):</th> <td> 0.003</td> <th>  Jarque-Bera (JB):  </th> <td>   7.310</td>\n",
       "</tr>\n",
       "<tr>\n",
       "  <th>Skew:</th>          <td> 0.156</td> <th>  Prob(JB):          </th> <td>  0.0259</td>\n",
       "</tr>\n",
       "<tr>\n",
       "  <th>Kurtosis:</th>      <td> 2.453</td> <th>  Cond. No.          </th> <td>    21.0</td>\n",
       "</tr>\n",
       "</table><br/><br/>Notes:<br/>[1] Standard Errors assume that the covariance matrix of the errors is correctly specified."
      ],
      "text/plain": [
       "<class 'statsmodels.iolib.summary.Summary'>\n",
       "\"\"\"\n",
       "                            OLS Regression Results                            \n",
       "==============================================================================\n",
       "Dep. Variable:                 target   R-squared:                       0.344\n",
       "Model:                            OLS   Adj. R-squared:                  0.342\n",
       "Method:                 Least Squares   F-statistic:                     230.7\n",
       "Date:                Wed, 20 Jul 2022   Prob (F-statistic):           3.47e-42\n",
       "Time:                        10:43:41   Log-Likelihood:                -2454.0\n",
       "No. Observations:                 442   AIC:                             4912.\n",
       "Df Residuals:                     440   BIC:                             4920.\n",
       "Df Model:                           1                                         \n",
       "Covariance Type:            nonrobust                                         \n",
       "==============================================================================\n",
       "                 coef    std err          t      P>|t|      [0.025      0.975]\n",
       "------------------------------------------------------------------------------\n",
       "Intercept    152.1335      2.974     51.162      0.000     146.289     157.978\n",
       "bmi          949.4353     62.515     15.187      0.000     826.570    1072.301\n",
       "==============================================================================\n",
       "Omnibus:                       11.674   Durbin-Watson:                   1.848\n",
       "Prob(Omnibus):                  0.003   Jarque-Bera (JB):                7.310\n",
       "Skew:                           0.156   Prob(JB):                       0.0259\n",
       "Kurtosis:                       2.453   Cond. No.                         21.0\n",
       "==============================================================================\n",
       "\n",
       "Notes:\n",
       "[1] Standard Errors assume that the covariance matrix of the errors is correctly specified.\n",
       "\"\"\""
      ]
     },
     "execution_count": 19,
     "metadata": {},
     "output_type": "execute_result"
    }
   ],
   "source": [
    "# 결과 확인\n",
    "res_sr.summary()"
   ]
  },
  {
   "cell_type": "markdown",
   "id": "4970cd6b",
   "metadata": {},
   "source": [
    "### 4) 회귀분석 결과\n",
    "#### 첫 번째 표\n",
    " - DF.Model(독립변수 개수) : 1\n",
    " - No.Observations(표본 수) : 442\n",
    " - DF Residuals(잔차의 자유도 : 표본 수 - 종속변수 개수 - 독립변수 개수) : 440\n",
    " - R-Squared(결정계수) : 0.344(1에 가까울 수록 좋음)\n",
    " - Adj.R-Squared(조정된 결정계수) : 0.342\n",
    " - F-statistic : 230.7(0에 가까울수록 적절)\n",
    " - Preb(F-statistic) : 3.47e-42(0.5 이하일수록 회귀계수는 0이 아니다) <= 유의미함\n",
    " \n",
    "#### 두번째표\n",
    " - Coef(데이터로부터 얻은 회귀계수의 추정치) : target=bmi X 949.4353+152.1335\n",
    " - std err(계수 추정치의 표준오차, 작을 수록 좋음0\n",
    " - t(t-test, 독립변수와 종속변수 사이의 상관관계)\n",
    " - P > |t| (독립변수들의 유의 확률 : 현재와 같은 크기의 표본에서 이러한 계수가 추정될 확률인 p값, 0.05보다 작을수록 좋음) P > |t| < 0.05 <= 유의미함"
   ]
  },
  {
   "cell_type": "markdown",
   "id": "91d04485",
   "metadata": {},
   "source": [
    "#### 결과 요약\n",
    "\n",
    "#### 모델 적합도\n",
    " - target 대하여 bmi로 예측하는 회귀분석을 실시한 결과, 이 회귀 모델은 통계적으로 유믜미하였다\n",
    " (F(1, 440) = 230.7, p < 0.05)\n",
    "#### 독립변수\n",
    " - bmi의 회귀계수는 949.4353로, target에 대하여 유의미한 예측 변인인 것으로 나타났다.\n",
    "    (t(440) = 15.187, p < 0.05)"
   ]
  },
  {
   "cell_type": "markdown",
   "id": "061c2be1",
   "metadata": {},
   "source": [
    "## 2. 다중선형회귀 모델\n",
    "### 1) 데이터 탐색"
   ]
  },
  {
   "cell_type": "code",
   "execution_count": 20,
   "id": "95ad5017",
   "metadata": {},
   "outputs": [
    {
     "name": "stdout",
     "output_type": "stream",
     "text": [
      "(442, 11)\n"
     ]
    },
    {
     "data": {
      "text/html": [
       "<div>\n",
       "<style scoped>\n",
       "    .dataframe tbody tr th:only-of-type {\n",
       "        vertical-align: middle;\n",
       "    }\n",
       "\n",
       "    .dataframe tbody tr th {\n",
       "        vertical-align: top;\n",
       "    }\n",
       "\n",
       "    .dataframe thead th {\n",
       "        text-align: right;\n",
       "    }\n",
       "</style>\n",
       "<table border=\"1\" class=\"dataframe\">\n",
       "  <thead>\n",
       "    <tr style=\"text-align: right;\">\n",
       "      <th></th>\n",
       "      <th>age</th>\n",
       "      <th>sex</th>\n",
       "      <th>bmi</th>\n",
       "      <th>bp</th>\n",
       "      <th>s1</th>\n",
       "      <th>s2</th>\n",
       "      <th>s3</th>\n",
       "      <th>s4</th>\n",
       "      <th>s5</th>\n",
       "      <th>s6</th>\n",
       "      <th>target</th>\n",
       "    </tr>\n",
       "  </thead>\n",
       "  <tbody>\n",
       "    <tr>\n",
       "      <th>0</th>\n",
       "      <td>0.038076</td>\n",
       "      <td>0.050680</td>\n",
       "      <td>0.061696</td>\n",
       "      <td>0.021872</td>\n",
       "      <td>-0.044223</td>\n",
       "      <td>-0.034821</td>\n",
       "      <td>-0.043401</td>\n",
       "      <td>-0.002592</td>\n",
       "      <td>0.019907</td>\n",
       "      <td>-0.017646</td>\n",
       "      <td>151.0</td>\n",
       "    </tr>\n",
       "    <tr>\n",
       "      <th>1</th>\n",
       "      <td>-0.001882</td>\n",
       "      <td>-0.044642</td>\n",
       "      <td>-0.051474</td>\n",
       "      <td>-0.026328</td>\n",
       "      <td>-0.008449</td>\n",
       "      <td>-0.019163</td>\n",
       "      <td>0.074412</td>\n",
       "      <td>-0.039493</td>\n",
       "      <td>-0.068332</td>\n",
       "      <td>-0.092204</td>\n",
       "      <td>75.0</td>\n",
       "    </tr>\n",
       "    <tr>\n",
       "      <th>2</th>\n",
       "      <td>0.085299</td>\n",
       "      <td>0.050680</td>\n",
       "      <td>0.044451</td>\n",
       "      <td>-0.005670</td>\n",
       "      <td>-0.045599</td>\n",
       "      <td>-0.034194</td>\n",
       "      <td>-0.032356</td>\n",
       "      <td>-0.002592</td>\n",
       "      <td>0.002861</td>\n",
       "      <td>-0.025930</td>\n",
       "      <td>141.0</td>\n",
       "    </tr>\n",
       "  </tbody>\n",
       "</table>\n",
       "</div>"
      ],
      "text/plain": [
       "        age       sex       bmi        bp        s1        s2        s3  \\\n",
       "0  0.038076  0.050680  0.061696  0.021872 -0.044223 -0.034821 -0.043401   \n",
       "1 -0.001882 -0.044642 -0.051474 -0.026328 -0.008449 -0.019163  0.074412   \n",
       "2  0.085299  0.050680  0.044451 -0.005670 -0.045599 -0.034194 -0.032356   \n",
       "\n",
       "         s4        s5        s6  target  \n",
       "0 -0.002592  0.019907 -0.017646   151.0  \n",
       "1 -0.039493 -0.068332 -0.092204    75.0  \n",
       "2 -0.002592  0.002861 -0.025930   141.0  "
      ]
     },
     "execution_count": 20,
     "metadata": {},
     "output_type": "execute_result"
    }
   ],
   "source": [
    "print(df.shape)\n",
    "df.head(3)"
   ]
  },
  {
   "cell_type": "code",
   "execution_count": 21,
   "id": "bc3a4aa0",
   "metadata": {},
   "outputs": [
    {
     "data": {
      "image/png": "[encoded data removed]",
      "text/plain": [
       "<Figure size 432x288 with 2 Axes>"
      ]
     },
     "metadata": {},
     "output_type": "display_data"
    }
   ],
   "source": [
    "cmap = sns.light_palette(\"darkgray\", as_cmap=True)\n",
    "sns.heatmap(df.corr(), annot=True, cmap=cmap)\n",
    "plt.show()"
   ]
  },
  {
   "cell_type": "markdown",
   "id": "e8c62e42",
   "metadata": {},
   "source": [
    "### 2) 다중선형회귀분석 - sklearn\n",
    "\n",
    "#### from sklearn.linear_model import LinearRegression"
   ]
  },
  {
   "cell_type": "code",
   "execution_count": 22,
   "id": "7a8b0d23",
   "metadata": {},
   "outputs": [],
   "source": [
    "# 데이터셋 준비\n",
    "dlr_train_x_df = df.copy()\n",
    "dlr_train_x_df = dlr_train_x_df.drop('target', 1)\n",
    "\n",
    "dlr_test_y = df.target.values\n",
    "dlr_test_y = dlr_test_y.reshape(-1, 1)"
   ]
  },
  {
   "cell_type": "code",
   "execution_count": 24,
   "id": "2111b21e",
   "metadata": {},
   "outputs": [
    {
     "name": "stdout",
     "output_type": "stream",
     "text": [
      "절편 : [152.13348416]\n",
      "회귀분석 : [[ -10.0098663  -239.81564367  519.84592005  324.3846455  -792.17563855\n",
      "   476.73902101  101.04326794  177.06323767  751.27369956   67.62669218]]\n"
     ]
    }
   ],
   "source": [
    "# LinearRegression\n",
    "dlr_model = LinearRegression()\n",
    "\n",
    "dlr_model.fit(X = dlr_train_x_df, y = dlr_test_y)\n",
    "# linear_regression.fit(x = pd.DataFrame(x), y=y)\n",
    "\n",
    "print('절편 :', dlr_model.intercept_)\n",
    "print('회귀분석 :', dlr_model.coef_)"
   ]
  },
  {
   "cell_type": "code",
   "execution_count": 25,
   "id": "6a25556f",
   "metadata": {},
   "outputs": [],
   "source": [
    "# 잔차\n",
    "prediction = dlr_model.predict(dlr_train_x_df)\n",
    "residuals = dlr_test_y - prediction\n",
    "\n",
    "# residuals.describe()"
   ]
  },
  {
   "cell_type": "code",
   "execution_count": 27,
   "id": "f06a4970",
   "metadata": {},
   "outputs": [
    {
     "name": "stdout",
     "output_type": "stream",
     "text": [
      "R_squared : 0.5177484222203499\n"
     ]
    }
   ],
   "source": [
    "# R_suared 계산\n",
    "\n",
    "SSE = (residuals**2).sum()\n",
    "SST = ((dlr_test_y - dlr_test_y.mean())**2).sum()\n",
    "R_squared = 1 - (SSE / SST)\n",
    "print('R_squared :', R_squared)"
   ]
  },
  {
   "cell_type": "code",
   "execution_count": 28,
   "id": "5bc74111",
   "metadata": {},
   "outputs": [
    {
     "name": "stdout",
     "output_type": "stream",
     "text": [
      "2859.6963475867497\n",
      "53.47612876402657\n",
      "score = 0.5177484222203499\n",
      "mean_squared_error = 2859.6963475867497\n",
      "RMSE = 53.47612876402657\n"
     ]
    }
   ],
   "source": [
    "# 모델 평가 MSE & RMSE\n",
    "\n",
    "from sklearn.metrics import mean_squared_error\n",
    "from math import sqrt\n",
    "\n",
    "mse = mean_squared_error(dlr_test_y, prediction)\n",
    "print(mse)\n",
    "rmse = sqrt(mse)\n",
    "print(rmse)\n",
    "\n",
    "print('score =', dlr_model.score(X=dlr_train_x_df, y=dlr_test_y))\n",
    "print('mean_squared_error =', mse)\n",
    "print('RMSE =', rmse)"
   ]
  },
  {
   "cell_type": "markdown",
   "id": "be6387d4",
   "metadata": {},
   "source": [
    "### 3) 다중선형회귀분석-통계적 데이터 분석"
   ]
  },
  {
   "cell_type": "code",
   "execution_count": 29,
   "id": "a9fe7dab",
   "metadata": {},
   "outputs": [
    {
     "name": "stdout",
     "output_type": "stream",
     "text": [
      "(442, 11)\n"
     ]
    },
    {
     "data": {
      "text/html": [
       "<div>\n",
       "<style scoped>\n",
       "    .dataframe tbody tr th:only-of-type {\n",
       "        vertical-align: middle;\n",
       "    }\n",
       "\n",
       "    .dataframe tbody tr th {\n",
       "        vertical-align: top;\n",
       "    }\n",
       "\n",
       "    .dataframe thead th {\n",
       "        text-align: right;\n",
       "    }\n",
       "</style>\n",
       "<table border=\"1\" class=\"dataframe\">\n",
       "  <thead>\n",
       "    <tr style=\"text-align: right;\">\n",
       "      <th></th>\n",
       "      <th>age</th>\n",
       "      <th>sex</th>\n",
       "      <th>bmi</th>\n",
       "      <th>bp</th>\n",
       "      <th>s1</th>\n",
       "      <th>s2</th>\n",
       "      <th>s3</th>\n",
       "      <th>s4</th>\n",
       "      <th>s5</th>\n",
       "      <th>s6</th>\n",
       "      <th>target</th>\n",
       "    </tr>\n",
       "  </thead>\n",
       "  <tbody>\n",
       "    <tr>\n",
       "      <th>0</th>\n",
       "      <td>0.038076</td>\n",
       "      <td>0.050680</td>\n",
       "      <td>0.061696</td>\n",
       "      <td>0.021872</td>\n",
       "      <td>-0.044223</td>\n",
       "      <td>-0.034821</td>\n",
       "      <td>-0.043401</td>\n",
       "      <td>-0.002592</td>\n",
       "      <td>0.019907</td>\n",
       "      <td>-0.017646</td>\n",
       "      <td>151.0</td>\n",
       "    </tr>\n",
       "    <tr>\n",
       "      <th>1</th>\n",
       "      <td>-0.001882</td>\n",
       "      <td>-0.044642</td>\n",
       "      <td>-0.051474</td>\n",
       "      <td>-0.026328</td>\n",
       "      <td>-0.008449</td>\n",
       "      <td>-0.019163</td>\n",
       "      <td>0.074412</td>\n",
       "      <td>-0.039493</td>\n",
       "      <td>-0.068332</td>\n",
       "      <td>-0.092204</td>\n",
       "      <td>75.0</td>\n",
       "    </tr>\n",
       "    <tr>\n",
       "      <th>2</th>\n",
       "      <td>0.085299</td>\n",
       "      <td>0.050680</td>\n",
       "      <td>0.044451</td>\n",
       "      <td>-0.005670</td>\n",
       "      <td>-0.045599</td>\n",
       "      <td>-0.034194</td>\n",
       "      <td>-0.032356</td>\n",
       "      <td>-0.002592</td>\n",
       "      <td>0.002861</td>\n",
       "      <td>-0.025930</td>\n",
       "      <td>141.0</td>\n",
       "    </tr>\n",
       "  </tbody>\n",
       "</table>\n",
       "</div>"
      ],
      "text/plain": [
       "        age       sex       bmi        bp        s1        s2        s3  \\\n",
       "0  0.038076  0.050680  0.061696  0.021872 -0.044223 -0.034821 -0.043401   \n",
       "1 -0.001882 -0.044642 -0.051474 -0.026328 -0.008449 -0.019163  0.074412   \n",
       "2  0.085299  0.050680  0.044451 -0.005670 -0.045599 -0.034194 -0.032356   \n",
       "\n",
       "         s4        s5        s6  target  \n",
       "0 -0.002592  0.019907 -0.017646   151.0  \n",
       "1 -0.039493 -0.068332 -0.092204    75.0  \n",
       "2 -0.002592  0.002861 -0.025930   141.0  "
      ]
     },
     "execution_count": 29,
     "metadata": {},
     "output_type": "execute_result"
    }
   ],
   "source": [
    "print(df.shape)\n",
    "df.head(3)"
   ]
  },
  {
   "cell_type": "code",
   "execution_count": 31,
   "id": "8c0bd1ce",
   "metadata": {},
   "outputs": [],
   "source": [
    "from statsmodels.formula.api import ols\n",
    "s_d_model = ols('target ~ age + sex + bmi + bp + s1 + s2 + s3 + s4 + s5 + s6', df)"
   ]
  },
  {
   "cell_type": "code",
   "execution_count": 32,
   "id": "0a120099",
   "metadata": {},
   "outputs": [],
   "source": [
    "m_result = s_d_model.fit()"
   ]
  },
  {
   "cell_type": "code",
   "execution_count": 33,
   "id": "c963746d",
   "metadata": {},
   "outputs": [
    {
     "data": {
      "text/html": [
       "<table class=\"simpletable\">\n",
       "<caption>OLS Regression Results</caption>\n",
       "<tr>\n",
       "  <th>Dep. Variable:</th>         <td>target</td>      <th>  R-squared:         </th> <td>   0.518</td>\n",
       "</tr>\n",
       "<tr>\n",
       "  <th>Model:</th>                   <td>OLS</td>       <th>  Adj. R-squared:    </th> <td>   0.507</td>\n",
       "</tr>\n",
       "<tr>\n",
       "  <th>Method:</th>             <td>Least Squares</td>  <th>  F-statistic:       </th> <td>   46.27</td>\n",
       "</tr>\n",
       "<tr>\n",
       "  <th>Date:</th>             <td>Wed, 20 Jul 2022</td> <th>  Prob (F-statistic):</th> <td>3.83e-62</td>\n",
       "</tr>\n",
       "<tr>\n",
       "  <th>Time:</th>                 <td>11:06:16</td>     <th>  Log-Likelihood:    </th> <td> -2386.0</td>\n",
       "</tr>\n",
       "<tr>\n",
       "  <th>No. Observations:</th>      <td>   442</td>      <th>  AIC:               </th> <td>   4794.</td>\n",
       "</tr>\n",
       "<tr>\n",
       "  <th>Df Residuals:</th>          <td>   431</td>      <th>  BIC:               </th> <td>   4839.</td>\n",
       "</tr>\n",
       "<tr>\n",
       "  <th>Df Model:</th>              <td>    10</td>      <th>                     </th>     <td> </td>   \n",
       "</tr>\n",
       "<tr>\n",
       "  <th>Covariance Type:</th>      <td>nonrobust</td>    <th>                     </th>     <td> </td>   \n",
       "</tr>\n",
       "</table>\n",
       "<table class=\"simpletable\">\n",
       "<tr>\n",
       "      <td></td>         <th>coef</th>     <th>std err</th>      <th>t</th>      <th>P>|t|</th>  <th>[0.025</th>    <th>0.975]</th>  \n",
       "</tr>\n",
       "<tr>\n",
       "  <th>Intercept</th> <td>  152.1335</td> <td>    2.576</td> <td>   59.061</td> <td> 0.000</td> <td>  147.071</td> <td>  157.196</td>\n",
       "</tr>\n",
       "<tr>\n",
       "  <th>age</th>       <td>  -10.0099</td> <td>   59.749</td> <td>   -0.168</td> <td> 0.867</td> <td> -127.446</td> <td>  107.426</td>\n",
       "</tr>\n",
       "<tr>\n",
       "  <th>sex</th>       <td> -239.8156</td> <td>   61.222</td> <td>   -3.917</td> <td> 0.000</td> <td> -360.147</td> <td> -119.484</td>\n",
       "</tr>\n",
       "<tr>\n",
       "  <th>bmi</th>       <td>  519.8459</td> <td>   66.533</td> <td>    7.813</td> <td> 0.000</td> <td>  389.076</td> <td>  650.616</td>\n",
       "</tr>\n",
       "<tr>\n",
       "  <th>bp</th>        <td>  324.3846</td> <td>   65.422</td> <td>    4.958</td> <td> 0.000</td> <td>  195.799</td> <td>  452.970</td>\n",
       "</tr>\n",
       "<tr>\n",
       "  <th>s1</th>        <td> -792.1756</td> <td>  416.680</td> <td>   -1.901</td> <td> 0.058</td> <td>-1611.153</td> <td>   26.802</td>\n",
       "</tr>\n",
       "<tr>\n",
       "  <th>s2</th>        <td>  476.7390</td> <td>  339.030</td> <td>    1.406</td> <td> 0.160</td> <td> -189.620</td> <td> 1143.098</td>\n",
       "</tr>\n",
       "<tr>\n",
       "  <th>s3</th>        <td>  101.0433</td> <td>  212.531</td> <td>    0.475</td> <td> 0.635</td> <td> -316.684</td> <td>  518.770</td>\n",
       "</tr>\n",
       "<tr>\n",
       "  <th>s4</th>        <td>  177.0632</td> <td>  161.476</td> <td>    1.097</td> <td> 0.273</td> <td> -140.315</td> <td>  494.441</td>\n",
       "</tr>\n",
       "<tr>\n",
       "  <th>s5</th>        <td>  751.2737</td> <td>  171.900</td> <td>    4.370</td> <td> 0.000</td> <td>  413.407</td> <td> 1089.140</td>\n",
       "</tr>\n",
       "<tr>\n",
       "  <th>s6</th>        <td>   67.6267</td> <td>   65.984</td> <td>    1.025</td> <td> 0.306</td> <td>  -62.064</td> <td>  197.318</td>\n",
       "</tr>\n",
       "</table>\n",
       "<table class=\"simpletable\">\n",
       "<tr>\n",
       "  <th>Omnibus:</th>       <td> 1.506</td> <th>  Durbin-Watson:     </th> <td>   2.029</td>\n",
       "</tr>\n",
       "<tr>\n",
       "  <th>Prob(Omnibus):</th> <td> 0.471</td> <th>  Jarque-Bera (JB):  </th> <td>   1.404</td>\n",
       "</tr>\n",
       "<tr>\n",
       "  <th>Skew:</th>          <td> 0.017</td> <th>  Prob(JB):          </th> <td>   0.496</td>\n",
       "</tr>\n",
       "<tr>\n",
       "  <th>Kurtosis:</th>      <td> 2.726</td> <th>  Cond. No.          </th> <td>    227.</td>\n",
       "</tr>\n",
       "</table><br/><br/>Notes:<br/>[1] Standard Errors assume that the covariance matrix of the errors is correctly specified."
      ],
      "text/plain": [
       "<class 'statsmodels.iolib.summary.Summary'>\n",
       "\"\"\"\n",
       "                            OLS Regression Results                            \n",
       "==============================================================================\n",
       "Dep. Variable:                 target   R-squared:                       0.518\n",
       "Model:                            OLS   Adj. R-squared:                  0.507\n",
       "Method:                 Least Squares   F-statistic:                     46.27\n",
       "Date:                Wed, 20 Jul 2022   Prob (F-statistic):           3.83e-62\n",
       "Time:                        11:06:16   Log-Likelihood:                -2386.0\n",
       "No. Observations:                 442   AIC:                             4794.\n",
       "Df Residuals:                     431   BIC:                             4839.\n",
       "Df Model:                          10                                         \n",
       "Covariance Type:            nonrobust                                         \n",
       "==============================================================================\n",
       "                 coef    std err          t      P>|t|      [0.025      0.975]\n",
       "------------------------------------------------------------------------------\n",
       "Intercept    152.1335      2.576     59.061      0.000     147.071     157.196\n",
       "age          -10.0099     59.749     -0.168      0.867    -127.446     107.426\n",
       "sex         -239.8156     61.222     -3.917      0.000    -360.147    -119.484\n",
       "bmi          519.8459     66.533      7.813      0.000     389.076     650.616\n",
       "bp           324.3846     65.422      4.958      0.000     195.799     452.970\n",
       "s1          -792.1756    416.680     -1.901      0.058   -1611.153      26.802\n",
       "s2           476.7390    339.030      1.406      0.160    -189.620    1143.098\n",
       "s3           101.0433    212.531      0.475      0.635    -316.684     518.770\n",
       "s4           177.0632    161.476      1.097      0.273    -140.315     494.441\n",
       "s5           751.2737    171.900      4.370      0.000     413.407    1089.140\n",
       "s6            67.6267     65.984      1.025      0.306     -62.064     197.318\n",
       "==============================================================================\n",
       "Omnibus:                        1.506   Durbin-Watson:                   2.029\n",
       "Prob(Omnibus):                  0.471   Jarque-Bera (JB):                1.404\n",
       "Skew:                           0.017   Prob(JB):                        0.496\n",
       "Kurtosis:                       2.726   Cond. No.                         227.\n",
       "==============================================================================\n",
       "\n",
       "Notes:\n",
       "[1] Standard Errors assume that the covariance matrix of the errors is correctly specified.\n",
       "\"\"\""
      ]
     },
     "execution_count": 33,
     "metadata": {},
     "output_type": "execute_result"
    }
   ],
   "source": [
    "m_result.summary()"
   ]
  },
  {
   "cell_type": "markdown",
   "id": "afe60760",
   "metadata": {},
   "source": [
    "### 4) 다중공선성 확인"
   ]
  },
  {
   "cell_type": "code",
   "execution_count": 34,
   "id": "eee4885b",
   "metadata": {},
   "outputs": [
    {
     "name": "stdout",
     "output_type": "stream",
     "text": [
      "['Intercept', 'age', 'sex', 'bmi', 'bp', 's1', 's2', 's3', 's4', 's5', 's6']\n",
      "1.2173065138070078\n"
     ]
    },
    {
     "data": {
      "text/html": [
       "<div>\n",
       "<style scoped>\n",
       "    .dataframe tbody tr th:only-of-type {\n",
       "        vertical-align: middle;\n",
       "    }\n",
       "\n",
       "    .dataframe tbody tr th {\n",
       "        vertical-align: top;\n",
       "    }\n",
       "\n",
       "    .dataframe thead th {\n",
       "        text-align: right;\n",
       "    }\n",
       "</style>\n",
       "<table border=\"1\" class=\"dataframe\">\n",
       "  <thead>\n",
       "    <tr style=\"text-align: right;\">\n",
       "      <th></th>\n",
       "      <th>컬럼</th>\n",
       "      <th>VIF</th>\n",
       "    </tr>\n",
       "  </thead>\n",
       "  <tbody>\n",
       "    <tr>\n",
       "      <th>0</th>\n",
       "      <td>age</td>\n",
       "      <td>1.217307</td>\n",
       "    </tr>\n",
       "    <tr>\n",
       "      <th>1</th>\n",
       "      <td>sex</td>\n",
       "      <td>1.278071</td>\n",
       "    </tr>\n",
       "    <tr>\n",
       "      <th>2</th>\n",
       "      <td>bmi</td>\n",
       "      <td>1.509437</td>\n",
       "    </tr>\n",
       "    <tr>\n",
       "      <th>3</th>\n",
       "      <td>bp</td>\n",
       "      <td>1.459428</td>\n",
       "    </tr>\n",
       "    <tr>\n",
       "      <th>4</th>\n",
       "      <td>s1</td>\n",
       "      <td>59.202510</td>\n",
       "    </tr>\n",
       "    <tr>\n",
       "      <th>5</th>\n",
       "      <td>s2</td>\n",
       "      <td>39.193370</td>\n",
       "    </tr>\n",
       "    <tr>\n",
       "      <th>6</th>\n",
       "      <td>s3</td>\n",
       "      <td>15.402156</td>\n",
       "    </tr>\n",
       "    <tr>\n",
       "      <th>7</th>\n",
       "      <td>s4</td>\n",
       "      <td>8.890986</td>\n",
       "    </tr>\n",
       "    <tr>\n",
       "      <th>8</th>\n",
       "      <td>s5</td>\n",
       "      <td>10.075967</td>\n",
       "    </tr>\n",
       "    <tr>\n",
       "      <th>9</th>\n",
       "      <td>s6</td>\n",
       "      <td>1.484623</td>\n",
       "    </tr>\n",
       "  </tbody>\n",
       "</table>\n",
       "</div>"
      ],
      "text/plain": [
       "    컬럼        VIF\n",
       "0  age   1.217307\n",
       "1  sex   1.278071\n",
       "2  bmi   1.509437\n",
       "3   bp   1.459428\n",
       "4   s1  59.202510\n",
       "5   s2  39.193370\n",
       "6   s3  15.402156\n",
       "7   s4   8.890986\n",
       "8   s5  10.075967\n",
       "9   s6   1.484623"
      ]
     },
     "execution_count": 34,
     "metadata": {},
     "output_type": "execute_result"
    }
   ],
   "source": [
    "# VIF(분산팽창요인) 계산 - 10이 넘어가는 값 => 다중공선성 판단\n",
    "from statsmodels.stats.outliers_influence import variance_inflation_factor\n",
    "\n",
    "# 회귀분석 모델 변수\n",
    "print(s_d_model.exog_names)\n",
    "\n",
    "# bmi의 VIF\n",
    "print(variance_inflation_factor(s_d_model.exog, 1))\n",
    "\n",
    "# 독립변수 VIF\n",
    "pd.DataFrame({'컬럼' : column, 'VIF' : variance_inflation_factor(s_d_model.exog, i)}\n",
    "            for i, column in enumerate(s_d_model.exog_names)\n",
    "            if column != 'Intercept'\n",
    "            ) # 절편 제외"
   ]
  },
  {
   "cell_type": "markdown",
   "id": "d2dc94da",
   "metadata": {},
   "source": [
    "#### 계수가 통계적으로 유의미하지 않다면 대처\n",
    " - 계수가 통계적으로 유의미하다면 VIF가 크더라도 특별히 대처할 필요 없음\n",
    "    \n",
    "#### 변수들을 더하거나 빼서 새로운 변수를 만든다\n",
    " - (개념적으로나 이론적으로) 두 예측변수를 더하거나 빼더라도 문제가 없는 경우\n",
    " - 예) 남편의 수입과 아내의 수입이 서로 상관이 높다면, 두 개를 더해 가족 수입이라는 하나의 변수로 투입한다.\n",
    " - 더하거나 빼기 어려운 경우는 변수를 모델에서 제거한다 -- 단, 변수를 제거하는 것은 자료의 다양성을 해치고, 분석하려던 가설이나 이론에 영향을 미칠 수 있기 때문에 가급적 자제"
   ]
  },
  {
   "cell_type": "markdown",
   "id": "6d400439",
   "metadata": {},
   "source": [
    "### 5) 잔차 분석"
   ]
  },
  {
   "cell_type": "code",
   "execution_count": 35,
   "id": "3cb3d1d5",
   "metadata": {},
   "outputs": [
    {
     "data": {
      "text/plain": [
       "[<matplotlib.lines.Line2D at 0x1beb6847100>]"
      ]
     },
     "execution_count": 35,
     "metadata": {},
     "output_type": "execute_result"
    },
    {
     "data": {
      "image/png": "[encoded data removed]",
      "text/plain": [
       "<Figure size 432x288 with 1 Axes>"
      ]
     },
     "metadata": {},
     "output_type": "display_data"
    }
   ],
   "source": [
    "# 선형성\n",
    "s_d_res_fit = m_result.predict(df)\n",
    "s_d_residuals = df['target'] - s_d_res_fit\n",
    "\n",
    "# 선형성 시각화(red : 잔차)\n",
    "sns.regplot(s_d_res_fit, s_d_residuals, lowess=True, line_kws={'color' : 'red'})\n",
    "plt.plot([s_d_res_fit.min(), s_d_res_fit.max()], [0,0], '--', color='green')"
   ]
  },
  {
   "cell_type": "code",
   "execution_count": 37,
   "id": "07fde0a4",
   "metadata": {},
   "outputs": [
    {
     "data": {
      "text/plain": [
       "[<matplotlib.lines.Line2D at 0x1beb3904c10>]"
      ]
     },
     "execution_count": 37,
     "metadata": {},
     "output_type": "execute_result"
    },
    {
     "data": {
      "image/png": "[encoded data removed]",
      "text/plain": [
       "<Figure size 432x288 with 1 Axes>"
      ]
     },
     "metadata": {},
     "output_type": "display_data"
    }
   ],
   "source": [
    "# 정규성 확인 (QQplot, 점 값이 선율 따라 배치되는 것이 이상적)\n",
    "s_d_sr = stats.zscore(s_d_residuals)\n",
    "(s_d_x, s_d_y), _ = stats.probplot(s_d_sr)\n",
    "\n",
    "# 정규성 시각화\n",
    "sns.scatterplot(s_d_x, s_d_y)\n",
    "plt.plot([-3, 3], [-3, 3], \"--\", color='grey')"
   ]
  },
  {
   "cell_type": "code",
   "execution_count": 38,
   "id": "12adb944",
   "metadata": {},
   "outputs": [
    {
     "data": {
      "text/plain": [
       "<AxesSubplot:>"
      ]
     },
     "execution_count": 38,
     "metadata": {},
     "output_type": "execute_result"
    },
    {
     "data": {
      "image/png": "[encoded data removed]",
      "text/plain": [
       "<Figure size 432x288 with 1 Axes>"
      ]
     },
     "metadata": {},
     "output_type": "display_data"
    }
   ],
   "source": [
    "# 잔차의 등분산성(수평선이 이상정)\n",
    "sns.regplot(s_d_res_fit, np.sqrt(np.abs(s_d_sr)), lowess=True, line_kws={'color' : 'red'})\n"
   ]
  },
  {
   "cell_type": "code",
   "execution_count": 40,
   "id": "072c1b50",
   "metadata": {},
   "outputs": [
    {
     "data": {
      "text/plain": [
       "382    0.024475\n",
       "123    0.021348\n",
       "169    0.019559\n",
       "304    0.018944\n",
       "92     0.018133\n",
       "dtype: float64"
      ]
     },
     "execution_count": 40,
     "metadata": {},
     "output_type": "execute_result"
    }
   ],
   "source": [
    "# 극단값 확인\n",
    "from statsmodels.stats.outliers_influence import OLSInfluence\n",
    "cd, _ = OLSInfluence(m_result).cooks_distance # Coook's Distance\n",
    "cd.sort_values(ascending=False).head()"
   ]
  },
  {
   "cell_type": "code",
   "execution_count": null,
   "id": "f67bc1d8",
   "metadata": {},
   "outputs": [],
   "source": []
  }
 ],
 "metadata": {
  "kernelspec": {
   "display_name": "Python 3 (ipykernel)",
   "language": "python",
   "name": "python3"
  },
  "language_info": {
   "codemirror_mode": {
    "name": "ipython",
    "version": 3
   },
   "file_extension": ".py",
   "mimetype": "text/x-python",
   "name": "python",
   "nbconvert_exporter": "python",
   "pygments_lexer": "ipython3",
   "version": "3.9.12"
  }
 },
 "nbformat": 4,
 "nbformat_minor": 5
}
