{
 "cells": [
  {
   "cell_type": "code",
   "execution_count": 8,
   "id": "a31d43d9",
   "metadata": {},
   "outputs": [],
   "source": [
    "import os\n",
    "import warnings\n",
    "\n",
    "warnings.simplefilter(action='ignore', category=FutureWarning)\n",
    "\n",
    "import pandas as pd\n",
    "import numpy as np\n",
    "from scipy import stats\n",
    "import math\n",
    "import matplotlib.pyplot as plt\n",
    "import seaborn as sns\n",
    "%matplotlib inline\n",
    "\n",
    "import os\n",
    "if os.name == 'nt' :\n",
    "    font_family = \"Malgun Gothic\"\n",
    "else:\n",
    "    font_family = \"AppleGothic\"\n",
    "    \n",
    "sns.set(font=font_family, rc ={\"axes.unicode_minus\" : False})"
   ]
  },
  {
   "cell_type": "markdown",
   "id": "10d7f362",
   "metadata": {},
   "source": [
    "### 데이터생성"
   ]
  },
  {
   "cell_type": "code",
   "execution_count": 3,
   "id": "22d795db",
   "metadata": {},
   "outputs": [],
   "source": [
    "np.random.seed(100)\n",
    "\n",
    "math_score = pd.DataFrame(np.random.randint(25, 101, size=500), columns=['점수'])\n",
    "\n",
    "scores = np.array(math_score['점수'])"
   ]
  },
  {
   "cell_type": "code",
   "execution_count": 4,
   "id": "332adfbe",
   "metadata": {},
   "outputs": [],
   "source": [
    "# 20개(n)의 표본 100번 추출\n",
    "n = 20\n",
    "nSample = 100\n",
    "\n",
    "sample_mean = np.array([np.random.choice(scores, n).mean() for _ in range(nSample)])"
   ]
  },
  {
   "cell_type": "markdown",
   "id": "21487365",
   "metadata": {},
   "source": [
    "# 구간 추정 실습\n",
    "## 2. 신뢰구간 추정\n",
    "### 1) 모평균의 신뢰구간 추정\n",
    " - 샘플 수 < 30, t통계량 이용"
   ]
  },
  {
   "cell_type": "code",
   "execution_count": 5,
   "id": "85c58c43",
   "metadata": {},
   "outputs": [],
   "source": [
    "from scipy.stats import t\n",
    "t_95 = t.ppf(1 - (1 - 0.95) / 2, df = 20-1)"
   ]
  },
  {
   "cell_type": "code",
   "execution_count": 6,
   "id": "d8e42761",
   "metadata": {},
   "outputs": [
    {
     "data": {
      "text/plain": [
       "2.093024054408263"
      ]
     },
     "execution_count": 6,
     "metadata": {},
     "output_type": "execute_result"
    }
   ],
   "source": [
    "t_95"
   ]
  },
  {
   "cell_type": "code",
   "execution_count": 11,
   "id": "696a22be",
   "metadata": {},
   "outputs": [
    {
     "name": "stdout",
     "output_type": "stream",
     "text": [
      "59.199271219270706\n",
      "63.951728780729304\n",
      "신뢰구간 : 4.752457561458598\n"
     ]
    }
   ],
   "source": [
    "# 20개(n)의 표본 100개를 추출\n",
    "# 95% 신뢰구간 추정 : t통계량 2.093\n",
    "\n",
    "sMean = sample_mean.mean()\n",
    "sStd = sample_mean.std()\n",
    "\n",
    "Low_c = sMean - t_95 * (sStd / math.sqrt(n))\n",
    "Upper_c = sMean + t_95 * (sStd / math.sqrt(n))\n",
    "print(Low_c)\n",
    "print(Upper_c)\n",
    "\n",
    "# 95% 신뢰로 모평균은 59점 ~ 64점 사이에 존재(추정)\n",
    "print('신뢰구간 :', Upper_c-Low_c)"
   ]
  },
  {
   "cell_type": "markdown",
   "id": "dc6123a9",
   "metadata": {},
   "source": [
    "### 2) 모평균의 신뢰구간 추정\n",
    "$$샘플수 \\geq30, 통계량 이용 $$  "
   ]
  },
  {
   "cell_type": "code",
   "execution_count": 13,
   "id": "f4084a1e",
   "metadata": {},
   "outputs": [
    {
     "name": "stdout",
     "output_type": "stream",
     "text": [
      "모평균 61.58\n",
      "표본평균 68.0\n",
      "모편차 21.491849617936563\n",
      "표본편차 19.73575435599055\n"
     ]
    }
   ],
   "source": [
    "# 30개(n)의 표본 1개를 추출\n",
    "# 95% 신뢰구간 추정 : z통계량 1.96\n",
    "\n",
    "z_n = 30\n",
    "sample1 = np.random.choice(scores, n)\n",
    "z_sMean = sample1.mean()\n",
    "z_sStd = sample1.std()\n",
    "\n",
    "print('모평균', scores.mean())\n",
    "print('표본평균', z_sMean)\n",
    "print('모편차', scores.std())\n",
    "print('표본편차', z_sStd)"
   ]
  },
  {
   "cell_type": "code",
   "execution_count": 24,
   "id": "0c1ea202",
   "metadata": {},
   "outputs": [],
   "source": [
    "# 임계값\n",
    "z_95 = stats.norm.ppf(1 - (1 - 0.95) / 2) # 양측검정\n",
    "\n",
    "# z_95_h = stats.norm.ppf(0.95) # 단축검정\n",
    "# print(z_95_h)"
   ]
  },
  {
   "cell_type": "code",
   "execution_count": 25,
   "id": "501d66c6",
   "metadata": {},
   "outputs": [
    {
     "name": "stdout",
     "output_type": "stream",
     "text": [
      "60.31\n",
      "75.69\n",
      "신뢰구간 : 15.379999999999995\n"
     ]
    }
   ],
   "source": [
    "L_value_1 = round(z_sMean - z_95 * (scores.std() / math.sqrt(z_n)), 2)\n",
    "U_value_1 = round(z_sMean + z_95 * (scores.std() / math.sqrt(z_n)), 2)\n",
    "print(L_value_1)\n",
    "print(U_value_1)\n",
    "\n",
    "print('신뢰구간 :', U_value_1 - L_value_1)"
   ]
  },
  {
   "cell_type": "markdown",
   "id": "ba74b1c2",
   "metadata": {},
   "source": [
    "## 예제\n",
    " - 어느 고등학교 남학생 49명의 제자리에서 멀리뛰기 기록은 평균 205cm, 표준편차가 5cm이었다.\n",
    "    이 학교 남학생들의 제자리 멀리뛰기 기록에 대한 모평균 m의 신뢰도 95% 신뢰구간을 구하라"
   ]
  },
  {
   "cell_type": "code",
   "execution_count": 27,
   "id": "044ea890",
   "metadata": {},
   "outputs": [
    {
     "name": "stdout",
     "output_type": "stream",
     "text": [
      "신뢰구간 : 203.6 ~ 206.4\n",
      "신뢰구간 길이 : 2.8000000000000114\n",
      "203.6 < 205 < 206.4\n"
     ]
    }
   ],
   "source": [
    "# 모평균, 모표준편차, 표본 수\n",
    "mStd = 5\n",
    "mMean = 205\n",
    "n = 49\n",
    "\n",
    "# z통계량 : 1.96\n",
    "z_95_1 = stats.norm.ppf(1 - (1 - 0.95) / 2) # 신뢰구간\n",
    "\n",
    "# 신뢰구간 계산\n",
    "L_value = round(mMean - z_95_1 * (mStd / math.sqrt(n)), 2)\n",
    "U_value = round(mMean + z_95_1 * (mStd / math.sqrt(n)), 2)\n",
    "\n",
    "print('신뢰구간 :', L_value, '~', U_value)\n",
    "print('신뢰구간 길이 :', U_value - L_value)\n",
    "\n",
    "print(\"{} < {} < {}\".format(L_value, mMean, U_value))"
   ]
  },
  {
   "cell_type": "code",
   "execution_count": 28,
   "id": "2adcfbe1",
   "metadata": {},
   "outputs": [
    {
     "data": {
      "image/png": "[encoded data removed]",
      "text/plain": [
       "<Figure size 432x288 with 1 Axes>"
      ]
     },
     "metadata": {},
     "output_type": "display_data"
    }
   ],
   "source": [
    "# 시각화\n",
    "standart_norm = stats.norm(205, 20)\n",
    "\n",
    "# standard_sr = stats.norm.rcv()\n",
    "x = np.linspace(130, 280, 100)\n",
    "\n",
    "plt.vlines(L_value, 0, standart_norm.pdf(L_value), colors='b')\n",
    "plt.vlines(U_value, 0, standart_norm.pdf(U_value), colors='b')\n",
    "plt.plot(x, standart_norm.pdf(x), 'b--', lw=2, alpha=0.6, label='norm pdf')\n",
    "\n",
    "plt.title('신뢰구간 시각화')\n",
    "plt.legend()\n",
    "plt.show()"
   ]
  },
  {
   "cell_type": "code",
   "execution_count": null,
   "id": "b6bc1d23",
   "metadata": {},
   "outputs": [],
   "source": []
  }
 ],
 "metadata": {
  "kernelspec": {
   "display_name": "Python 3 (ipykernel)",
   "language": "python",
   "name": "python3"
  },
  "language_info": {
   "codemirror_mode": {
    "name": "ipython",
    "version": 3
   },
   "file_extension": ".py",
   "mimetype": "text/x-python",
   "name": "python",
   "nbconvert_exporter": "python",
   "pygments_lexer": "ipython3",
   "version": "3.9.12"
  }
 },
 "nbformat": 4,
 "nbformat_minor": 5
}
