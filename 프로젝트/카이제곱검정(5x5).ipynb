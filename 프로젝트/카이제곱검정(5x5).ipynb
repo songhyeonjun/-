{
 "cells": [
  {
   "cell_type": "markdown",
   "id": "2d2d4ee9",
   "metadata": {},
   "source": [
    "## 카이제곱 검정"
   ]
  },
  {
   "cell_type": "code",
   "execution_count": 2,
   "id": "ea483268",
   "metadata": {},
   "outputs": [],
   "source": [
    "import os\n",
    "import warnings\n",
    "\n",
    "warnings.simplefilter(action='ignore', category=FutureWarning)\n",
    "\n",
    "import pandas as pd\n",
    "import numpy as np\n",
    "from scipy import stats\n",
    "import math\n",
    "import matplotlib.pyplot as plt\n",
    "import seaborn as sns\n",
    "%matplotlib inline\n",
    "\n",
    "import os\n",
    "if os.name == 'nt' :\n",
    "    font_family = \"Malgun Gothic\"\n",
    "else:\n",
    "    font_family = \"AppleGothic\"\n",
    "    \n",
    "sns.set(font=font_family, rc ={\"axes.unicode_minus\" : False})"
   ]
  },
  {
   "cell_type": "code",
   "execution_count": 3,
   "id": "d9f5ec12",
   "metadata": {},
   "outputs": [
    {
     "data": {
      "text/html": [
       "<div>\n",
       "<style scoped>\n",
       "    .dataframe tbody tr th:only-of-type {\n",
       "        vertical-align: middle;\n",
       "    }\n",
       "\n",
       "    .dataframe tbody tr th {\n",
       "        vertical-align: top;\n",
       "    }\n",
       "\n",
       "    .dataframe thead th {\n",
       "        text-align: right;\n",
       "    }\n",
       "</style>\n",
       "<table border=\"1\" class=\"dataframe\">\n",
       "  <thead>\n",
       "    <tr style=\"text-align: right;\">\n",
       "      <th></th>\n",
       "      <th>id</th>\n",
       "      <th>bus</th>\n",
       "      <th>metro</th>\n",
       "      <th>park</th>\n",
       "      <th>high</th>\n",
       "      <th>uni</th>\n",
       "      <th>pop</th>\n",
       "      <th>age</th>\n",
       "      <th>mart</th>\n",
       "      <th>kick</th>\n",
       "      <th>Class</th>\n",
       "    </tr>\n",
       "  </thead>\n",
       "  <tbody>\n",
       "    <tr>\n",
       "      <th>0</th>\n",
       "      <td>28208</td>\n",
       "      <td>0.0</td>\n",
       "      <td>0.0</td>\n",
       "      <td>0.0</td>\n",
       "      <td>0.0</td>\n",
       "      <td>0.0</td>\n",
       "      <td>0.0</td>\n",
       "      <td>0.0</td>\n",
       "      <td>0.0</td>\n",
       "      <td>0.0</td>\n",
       "      <td>0</td>\n",
       "    </tr>\n",
       "    <tr>\n",
       "      <th>1</th>\n",
       "      <td>28207</td>\n",
       "      <td>0.0</td>\n",
       "      <td>0.0</td>\n",
       "      <td>0.0</td>\n",
       "      <td>0.0</td>\n",
       "      <td>0.0</td>\n",
       "      <td>0.3</td>\n",
       "      <td>0.1</td>\n",
       "      <td>0.0</td>\n",
       "      <td>0.1</td>\n",
       "      <td>0</td>\n",
       "    </tr>\n",
       "    <tr>\n",
       "      <th>2</th>\n",
       "      <td>28055</td>\n",
       "      <td>0.0</td>\n",
       "      <td>0.0</td>\n",
       "      <td>0.0</td>\n",
       "      <td>0.0</td>\n",
       "      <td>0.0</td>\n",
       "      <td>0.3</td>\n",
       "      <td>0.1</td>\n",
       "      <td>0.0</td>\n",
       "      <td>0.1</td>\n",
       "      <td>0</td>\n",
       "    </tr>\n",
       "    <tr>\n",
       "      <th>3</th>\n",
       "      <td>28054</td>\n",
       "      <td>0.2</td>\n",
       "      <td>0.0</td>\n",
       "      <td>0.0</td>\n",
       "      <td>0.0</td>\n",
       "      <td>0.0</td>\n",
       "      <td>0.3</td>\n",
       "      <td>0.1</td>\n",
       "      <td>0.0</td>\n",
       "      <td>0.3</td>\n",
       "      <td>0</td>\n",
       "    </tr>\n",
       "    <tr>\n",
       "      <th>4</th>\n",
       "      <td>28053</td>\n",
       "      <td>0.4</td>\n",
       "      <td>0.0</td>\n",
       "      <td>0.0</td>\n",
       "      <td>0.0</td>\n",
       "      <td>0.0</td>\n",
       "      <td>0.3</td>\n",
       "      <td>0.1</td>\n",
       "      <td>0.0</td>\n",
       "      <td>0.4</td>\n",
       "      <td>1</td>\n",
       "    </tr>\n",
       "  </tbody>\n",
       "</table>\n",
       "</div>"
      ],
      "text/plain": [
       "      id  bus  metro  park  high  uni  pop  age  mart  kick  Class\n",
       "0  28208  0.0    0.0   0.0   0.0  0.0  0.0  0.0   0.0   0.0      0\n",
       "1  28207  0.0    0.0   0.0   0.0  0.0  0.3  0.1   0.0   0.1      0\n",
       "2  28055  0.0    0.0   0.0   0.0  0.0  0.3  0.1   0.0   0.1      0\n",
       "3  28054  0.2    0.0   0.0   0.0  0.0  0.3  0.1   0.0   0.3      0\n",
       "4  28053  0.4    0.0   0.0   0.0  0.0  0.3  0.1   0.0   0.4      1"
      ]
     },
     "execution_count": 3,
     "metadata": {},
     "output_type": "execute_result"
    }
   ],
   "source": [
    "df = pd.read_csv('C:/Users/user/Desktop/프로젝트/엑셀/최적입지_변수_총합(용산적용전).csv', encoding='euckr')\n",
    "df.head()"
   ]
  },
  {
   "cell_type": "code",
   "execution_count": null,
   "id": "a224f449",
   "metadata": {},
   "outputs": [],
   "source": []
  },
  {
   "cell_type": "markdown",
   "id": "dc232d82",
   "metadata": {},
   "source": [
    "버스(5x5)"
   ]
  },
  {
   "cell_type": "code",
   "execution_count": 10,
   "id": "f05c68cc",
   "metadata": {},
   "outputs": [
    {
     "name": "stdout",
     "output_type": "stream",
     "text": [
      "kick   0.0  0.1  0.2   0.3   0.4    All\n",
      "bus                                    \n",
      "0.0   2415  130   79    34    22   2680\n",
      "0.1    344  147   86    45    48    670\n",
      "0.2    381  115  239   177   132   1044\n",
      "0.3    430  105  182   439   611   1767\n",
      "0.4   1124  260  404   816  6912   9516\n",
      "All   4694  757  990  1511  7725  15677\n"
     ]
    }
   ],
   "source": [
    "print(pd.crosstab(df['bus'], df['kick'], margins=True))\n",
    "\n",
    "# 계산하기 위한 교차표\n",
    "data_crosstab = pd.crosstab(df['bus'], df['kick'], margins=False)"
   ]
  },
  {
   "cell_type": "code",
   "execution_count": 11,
   "id": "111f35bc",
   "metadata": {},
   "outputs": [
    {
     "data": {
      "text/html": [
       "<div>\n",
       "<style scoped>\n",
       "    .dataframe tbody tr th:only-of-type {\n",
       "        vertical-align: middle;\n",
       "    }\n",
       "\n",
       "    .dataframe tbody tr th {\n",
       "        vertical-align: top;\n",
       "    }\n",
       "\n",
       "    .dataframe thead th {\n",
       "        text-align: right;\n",
       "    }\n",
       "</style>\n",
       "<table border=\"1\" class=\"dataframe\">\n",
       "  <thead>\n",
       "    <tr style=\"text-align: right;\">\n",
       "      <th>kick</th>\n",
       "      <th>0.0</th>\n",
       "      <th>0.1</th>\n",
       "      <th>0.2</th>\n",
       "      <th>0.3</th>\n",
       "      <th>0.4</th>\n",
       "    </tr>\n",
       "    <tr>\n",
       "      <th>bus</th>\n",
       "      <th></th>\n",
       "      <th></th>\n",
       "      <th></th>\n",
       "      <th></th>\n",
       "      <th></th>\n",
       "    </tr>\n",
       "  </thead>\n",
       "  <tbody>\n",
       "    <tr>\n",
       "      <th>0.0</th>\n",
       "      <td>2415</td>\n",
       "      <td>130</td>\n",
       "      <td>79</td>\n",
       "      <td>34</td>\n",
       "      <td>22</td>\n",
       "    </tr>\n",
       "    <tr>\n",
       "      <th>0.1</th>\n",
       "      <td>344</td>\n",
       "      <td>147</td>\n",
       "      <td>86</td>\n",
       "      <td>45</td>\n",
       "      <td>48</td>\n",
       "    </tr>\n",
       "    <tr>\n",
       "      <th>0.2</th>\n",
       "      <td>381</td>\n",
       "      <td>115</td>\n",
       "      <td>239</td>\n",
       "      <td>177</td>\n",
       "      <td>132</td>\n",
       "    </tr>\n",
       "    <tr>\n",
       "      <th>0.3</th>\n",
       "      <td>430</td>\n",
       "      <td>105</td>\n",
       "      <td>182</td>\n",
       "      <td>439</td>\n",
       "      <td>611</td>\n",
       "    </tr>\n",
       "    <tr>\n",
       "      <th>0.4</th>\n",
       "      <td>1124</td>\n",
       "      <td>260</td>\n",
       "      <td>404</td>\n",
       "      <td>816</td>\n",
       "      <td>6912</td>\n",
       "    </tr>\n",
       "  </tbody>\n",
       "</table>\n",
       "</div>"
      ],
      "text/plain": [
       "kick   0.0  0.1  0.2  0.3   0.4\n",
       "bus                            \n",
       "0.0   2415  130   79   34    22\n",
       "0.1    344  147   86   45    48\n",
       "0.2    381  115  239  177   132\n",
       "0.3    430  105  182  439   611\n",
       "0.4   1124  260  404  816  6912"
      ]
     },
     "execution_count": 11,
     "metadata": {},
     "output_type": "execute_result"
    }
   ],
   "source": [
    "data_crosstab"
   ]
  },
  {
   "cell_type": "code",
   "execution_count": 12,
   "id": "8978bc7c",
   "metadata": {},
   "outputs": [
    {
     "name": "stdout",
     "output_type": "stream",
     "text": [
      "1. 카이제곱 통계량 : 9285.3293859437\n",
      "2. p-value : 0.0\n",
      "3. df : 16\n",
      "4. 기대값 행렬 :\n",
      "              0.00        0.25        0.75        1.50         2.50\n",
      "0.00   802.444345  129.409964  169.241564  258.307074  1320.597053\n",
      "0.25   200.611086   32.352491   42.310391   64.576769   330.149263\n",
      "0.75   312.593991   50.411941   65.928430  100.624099   514.441539\n",
      "1.50   529.074313   85.323659  111.585763  170.309179   870.707087\n",
      "2.50  2849.276265  459.501946  600.933852  917.182879  4689.105058\n",
      "대립가설 채택, 버스정류장과 견인지역에는 관계가 있다.\n"
     ]
    }
   ],
   "source": [
    "# 교차표분석 : 카이제곱 통계량 산출\n",
    "from scipy.stats import chi2_contingency\n",
    "\n",
    "# correction = Ture를 적용하면 yates' correction이 적용되어 \n",
    "# 검정 통계량이 보수적으로 더 낮게 나옴\n",
    "result = chi2_contingency(observed=data_crosstab, correction=False)\n",
    "print(\"1. 카이제곱 통계량 :\", result[0])\n",
    "print(\"2. p-value :\", result[1])\n",
    "print(\"3. df :\", result[2]) # (행의개수 -1) * (열의개수 -1)\n",
    "print(\"4. 기대값 행렬 :\\n\", \n",
    "      pd.DataFrame(result[3]).rename(index={0 : \"0.00\", 1: \"0.25\", 2: \"0.75\", 3: \"1.50\",4: \"2.50\"}, \n",
    "                                     columns={0 : \"0.00\", 1: \"0.25\", 2: \"0.75\", 3: \"1.50\",4: \"2.50\"}))\n",
    "\n",
    "if 0.05 >= result[1] : # p-value\n",
    "    print(\"대립가설 채택, 버스정류장과 견인지역에는 관계가 있다.\")\n",
    "else :\n",
    "    print(\"귀무가설 채택, 버스평균정류장과 견인지역에는 관계가 없다.\")"
   ]
  },
  {
   "cell_type": "code",
   "execution_count": null,
   "id": "f2702496",
   "metadata": {},
   "outputs": [],
   "source": []
  },
  {
   "cell_type": "markdown",
   "id": "fd9b770c",
   "metadata": {},
   "source": [
    "지하철(5x5)"
   ]
  },
  {
   "cell_type": "code",
   "execution_count": 7,
   "id": "aad20694",
   "metadata": {},
   "outputs": [
    {
     "name": "stdout",
     "output_type": "stream",
     "text": [
      "kick    0.0  0.1  0.2   0.3   0.4    All\n",
      "metro                                   \n",
      "0.0    4393  642  710   941  3130   9816\n",
      "0.1     103   58  116   179  1165   1621\n",
      "0.2      79   28   99   213  1223   1642\n",
      "0.3      58   19   42   121  1079   1319\n",
      "0.4      61   10   23    57  1128   1279\n",
      "All    4694  757  990  1511  7725  15677\n"
     ]
    }
   ],
   "source": [
    "print(pd.crosstab(df['metro'], df['kick'], margins=True))\n",
    "\n",
    "# 계산하기 위한 교차표\n",
    "data_crosstab = pd.crosstab(df['metro'], df['kick'], margins=False)"
   ]
  },
  {
   "cell_type": "code",
   "execution_count": 8,
   "id": "7f50f55f",
   "metadata": {},
   "outputs": [
    {
     "data": {
      "text/html": [
       "<div>\n",
       "<style scoped>\n",
       "    .dataframe tbody tr th:only-of-type {\n",
       "        vertical-align: middle;\n",
       "    }\n",
       "\n",
       "    .dataframe tbody tr th {\n",
       "        vertical-align: top;\n",
       "    }\n",
       "\n",
       "    .dataframe thead th {\n",
       "        text-align: right;\n",
       "    }\n",
       "</style>\n",
       "<table border=\"1\" class=\"dataframe\">\n",
       "  <thead>\n",
       "    <tr style=\"text-align: right;\">\n",
       "      <th>kick</th>\n",
       "      <th>0.0</th>\n",
       "      <th>0.1</th>\n",
       "      <th>0.2</th>\n",
       "      <th>0.3</th>\n",
       "      <th>0.4</th>\n",
       "    </tr>\n",
       "    <tr>\n",
       "      <th>metro</th>\n",
       "      <th></th>\n",
       "      <th></th>\n",
       "      <th></th>\n",
       "      <th></th>\n",
       "      <th></th>\n",
       "    </tr>\n",
       "  </thead>\n",
       "  <tbody>\n",
       "    <tr>\n",
       "      <th>0.0</th>\n",
       "      <td>4393</td>\n",
       "      <td>642</td>\n",
       "      <td>710</td>\n",
       "      <td>941</td>\n",
       "      <td>3130</td>\n",
       "    </tr>\n",
       "    <tr>\n",
       "      <th>0.1</th>\n",
       "      <td>103</td>\n",
       "      <td>58</td>\n",
       "      <td>116</td>\n",
       "      <td>179</td>\n",
       "      <td>1165</td>\n",
       "    </tr>\n",
       "    <tr>\n",
       "      <th>0.2</th>\n",
       "      <td>79</td>\n",
       "      <td>28</td>\n",
       "      <td>99</td>\n",
       "      <td>213</td>\n",
       "      <td>1223</td>\n",
       "    </tr>\n",
       "    <tr>\n",
       "      <th>0.3</th>\n",
       "      <td>58</td>\n",
       "      <td>19</td>\n",
       "      <td>42</td>\n",
       "      <td>121</td>\n",
       "      <td>1079</td>\n",
       "    </tr>\n",
       "    <tr>\n",
       "      <th>0.4</th>\n",
       "      <td>61</td>\n",
       "      <td>10</td>\n",
       "      <td>23</td>\n",
       "      <td>57</td>\n",
       "      <td>1128</td>\n",
       "    </tr>\n",
       "  </tbody>\n",
       "</table>\n",
       "</div>"
      ],
      "text/plain": [
       "kick    0.0  0.1  0.2  0.3   0.4\n",
       "metro                           \n",
       "0.0    4393  642  710  941  3130\n",
       "0.1     103   58  116  179  1165\n",
       "0.2      79   28   99  213  1223\n",
       "0.3      58   19   42  121  1079\n",
       "0.4      61   10   23   57  1128"
      ]
     },
     "execution_count": 8,
     "metadata": {},
     "output_type": "execute_result"
    }
   ],
   "source": [
    "data_crosstab"
   ]
  },
  {
   "cell_type": "code",
   "execution_count": 13,
   "id": "773b7fc9",
   "metadata": {},
   "outputs": [
    {
     "name": "stdout",
     "output_type": "stream",
     "text": [
      "1. 카이제곱 통계량 : 9285.3293859437\n",
      "2. p-value : 0.0\n",
      "3. df : 16\n",
      "4. 기대값 행렬 :\n",
      "              0.00        0.25        0.75        1.50         2.50\n",
      "0.00   802.444345  129.409964  169.241564  258.307074  1320.597053\n",
      "0.25   200.611086   32.352491   42.310391   64.576769   330.149263\n",
      "0.75   312.593991   50.411941   65.928430  100.624099   514.441539\n",
      "1.50   529.074313   85.323659  111.585763  170.309179   870.707087\n",
      "2.50  2849.276265  459.501946  600.933852  917.182879  4689.105058\n",
      "대립가설 채택, 지하철역과 견인지역에는 관계가 있다.\n"
     ]
    }
   ],
   "source": [
    "# 교차표분석 : 카이제곱 통계량 산출\n",
    "from scipy.stats import chi2_contingency\n",
    "\n",
    "# correction = Ture를 적용하면 yates' correction이 적용되어 \n",
    "# 검정 통계량이 보수적으로 더 낮게 나옴\n",
    "result = chi2_contingency(observed=data_crosstab, correction=False)\n",
    "print(\"1. 카이제곱 통계량 :\", result[0])\n",
    "print(\"2. p-value :\", result[1])\n",
    "print(\"3. df :\", result[2]) # (행의개수 -1) * (열의개수 -1)\n",
    "print(\"4. 기대값 행렬 :\\n\", \n",
    "      pd.DataFrame(result[3]).rename(index={0 : \"0.00\", 1: \"0.25\", 2: \"0.75\", 3: \"1.50\",4: \"2.50\"}, \n",
    "                                     columns={0 : \"0.00\", 1: \"0.25\", 2: \"0.75\", 3: \"1.50\",4: \"2.50\"}))\n",
    "\n",
    "if 0.05 >= result[1] : # p-value\n",
    "    print(\"대립가설 채택, 지하철역과 견인지역에는 관계가 있다.\")\n",
    "else :\n",
    "    print(\"귀무가설 채택, 지하철역과 견인지역에는 관계가 없다.\")"
   ]
  },
  {
   "cell_type": "code",
   "execution_count": null,
   "id": "3690f136",
   "metadata": {},
   "outputs": [],
   "source": []
  },
  {
   "cell_type": "markdown",
   "id": "24270c8d",
   "metadata": {},
   "source": [
    "공원(5x5)"
   ]
  },
  {
   "cell_type": "code",
   "execution_count": 14,
   "id": "ec7240c8",
   "metadata": {},
   "outputs": [
    {
     "name": "stdout",
     "output_type": "stream",
     "text": [
      "kick   0.0  0.1  0.2   0.3   0.4    All\n",
      "park                                   \n",
      "0.0   4259  595  791  1226  6317  13188\n",
      "0.1    139   50   63    81   480    813\n",
      "0.2    114   40   62    73   392    681\n",
      "0.3     93   40   43    57   280    513\n",
      "0.4     89   32   31    74   256    482\n",
      "All   4694  757  990  1511  7725  15677\n"
     ]
    }
   ],
   "source": [
    "print(pd.crosstab(df['park'], df['kick'], margins=True))\n",
    "\n",
    "# 계산하기 위한 교차표\n",
    "data_crosstab = pd.crosstab(df['park'], df['kick'], margins=False)"
   ]
  },
  {
   "cell_type": "code",
   "execution_count": 15,
   "id": "07c878b1",
   "metadata": {},
   "outputs": [
    {
     "data": {
      "text/html": [
       "<div>\n",
       "<style scoped>\n",
       "    .dataframe tbody tr th:only-of-type {\n",
       "        vertical-align: middle;\n",
       "    }\n",
       "\n",
       "    .dataframe tbody tr th {\n",
       "        vertical-align: top;\n",
       "    }\n",
       "\n",
       "    .dataframe thead th {\n",
       "        text-align: right;\n",
       "    }\n",
       "</style>\n",
       "<table border=\"1\" class=\"dataframe\">\n",
       "  <thead>\n",
       "    <tr style=\"text-align: right;\">\n",
       "      <th>kick</th>\n",
       "      <th>0.0</th>\n",
       "      <th>0.1</th>\n",
       "      <th>0.2</th>\n",
       "      <th>0.3</th>\n",
       "      <th>0.4</th>\n",
       "    </tr>\n",
       "    <tr>\n",
       "      <th>park</th>\n",
       "      <th></th>\n",
       "      <th></th>\n",
       "      <th></th>\n",
       "      <th></th>\n",
       "      <th></th>\n",
       "    </tr>\n",
       "  </thead>\n",
       "  <tbody>\n",
       "    <tr>\n",
       "      <th>0.0</th>\n",
       "      <td>4259</td>\n",
       "      <td>595</td>\n",
       "      <td>791</td>\n",
       "      <td>1226</td>\n",
       "      <td>6317</td>\n",
       "    </tr>\n",
       "    <tr>\n",
       "      <th>0.1</th>\n",
       "      <td>139</td>\n",
       "      <td>50</td>\n",
       "      <td>63</td>\n",
       "      <td>81</td>\n",
       "      <td>480</td>\n",
       "    </tr>\n",
       "    <tr>\n",
       "      <th>0.2</th>\n",
       "      <td>114</td>\n",
       "      <td>40</td>\n",
       "      <td>62</td>\n",
       "      <td>73</td>\n",
       "      <td>392</td>\n",
       "    </tr>\n",
       "    <tr>\n",
       "      <th>0.3</th>\n",
       "      <td>93</td>\n",
       "      <td>40</td>\n",
       "      <td>43</td>\n",
       "      <td>57</td>\n",
       "      <td>280</td>\n",
       "    </tr>\n",
       "    <tr>\n",
       "      <th>0.4</th>\n",
       "      <td>89</td>\n",
       "      <td>32</td>\n",
       "      <td>31</td>\n",
       "      <td>74</td>\n",
       "      <td>256</td>\n",
       "    </tr>\n",
       "  </tbody>\n",
       "</table>\n",
       "</div>"
      ],
      "text/plain": [
       "kick   0.0  0.1  0.2   0.3   0.4\n",
       "park                            \n",
       "0.0   4259  595  791  1226  6317\n",
       "0.1    139   50   63    81   480\n",
       "0.2    114   40   62    73   392\n",
       "0.3     93   40   43    57   280\n",
       "0.4     89   32   31    74   256"
      ]
     },
     "execution_count": 15,
     "metadata": {},
     "output_type": "execute_result"
    }
   ],
   "source": [
    "data_crosstab"
   ]
  },
  {
   "cell_type": "code",
   "execution_count": 16,
   "id": "73d79951",
   "metadata": {},
   "outputs": [
    {
     "name": "stdout",
     "output_type": "stream",
     "text": [
      "1. 카이제곱 통계량 : 245.06807245052804\n",
      "2. p-value : 5.306815946905888e-43\n",
      "3. df : 16\n",
      "4. 기대값 행렬 :\n",
      "              0.00        0.25        0.75         1.50         2.50\n",
      "0.00  3948.744785  636.812911  832.820055  1271.102124  6498.520125\n",
      "0.25   243.428079   39.257575   51.340818    78.359571   400.613957\n",
      "0.75   203.904701   32.883651   43.005039    65.636984   335.569624\n",
      "1.50   153.602220   24.771385   32.395867    49.444600   252.785928\n",
      "2.50   144.320214   23.274479   30.438222    46.456720   237.510366\n",
      "대립가설 채택, 공원과 견인지역에는 관계가 있다.\n"
     ]
    }
   ],
   "source": [
    "# 교차표분석 : 카이제곱 통계량 산출\n",
    "from scipy.stats import chi2_contingency\n",
    "\n",
    "# correction = Ture를 적용하면 yates' correction이 적용되어 \n",
    "# 검정 통계량이 보수적으로 더 낮게 나옴\n",
    "result = chi2_contingency(observed=data_crosstab, correction=False)\n",
    "print(\"1. 카이제곱 통계량 :\", result[0])\n",
    "print(\"2. p-value :\", result[1])\n",
    "print(\"3. df :\", result[2]) # (행의개수 -1) * (열의개수 -1)\n",
    "print(\"4. 기대값 행렬 :\\n\", \n",
    "      pd.DataFrame(result[3]).rename(index={0 : \"0.00\", 1: \"0.25\", 2: \"0.75\", 3: \"1.50\",4: \"2.50\"}, \n",
    "                                     columns={0 : \"0.00\", 1: \"0.25\", 2: \"0.75\", 3: \"1.50\",4: \"2.50\"}))\n",
    "\n",
    "if 0.05 >= result[1] : # p-value\n",
    "    print(\"대립가설 채택, 공원과 견인지역에는 관계가 있다.\")\n",
    "else :\n",
    "    print(\"귀무가설 채택, 공원과 견인지역에는 관계가 없다.\")"
   ]
  },
  {
   "cell_type": "code",
   "execution_count": null,
   "id": "2be42710",
   "metadata": {},
   "outputs": [],
   "source": []
  },
  {
   "cell_type": "markdown",
   "id": "220f364c",
   "metadata": {},
   "source": [
    "대학교(5x5)"
   ]
  },
  {
   "cell_type": "code",
   "execution_count": 17,
   "id": "44297da6",
   "metadata": {},
   "outputs": [
    {
     "name": "stdout",
     "output_type": "stream",
     "text": [
      "kick   0.0  0.1  0.2   0.3   0.4    All\n",
      "uni                                    \n",
      "0.0   4564  721  930  1352  6891  14458\n",
      "0.1     43   16   20    60   273    412\n",
      "0.2     31   13   18    45   197    304\n",
      "0.3     31    5   15    31   195    277\n",
      "0.4     25    2    7    23   169    226\n",
      "All   4694  757  990  1511  7725  15677\n"
     ]
    }
   ],
   "source": [
    "print(pd.crosstab(df['uni'], df['kick'], margins=True))\n",
    "\n",
    "# 계산하기 위한 교차표\n",
    "data_crosstab = pd.crosstab(df['uni'], df['kick'], margins=False)"
   ]
  },
  {
   "cell_type": "code",
   "execution_count": 18,
   "id": "d6e88b42",
   "metadata": {},
   "outputs": [
    {
     "data": {
      "text/html": [
       "<div>\n",
       "<style scoped>\n",
       "    .dataframe tbody tr th:only-of-type {\n",
       "        vertical-align: middle;\n",
       "    }\n",
       "\n",
       "    .dataframe tbody tr th {\n",
       "        vertical-align: top;\n",
       "    }\n",
       "\n",
       "    .dataframe thead th {\n",
       "        text-align: right;\n",
       "    }\n",
       "</style>\n",
       "<table border=\"1\" class=\"dataframe\">\n",
       "  <thead>\n",
       "    <tr style=\"text-align: right;\">\n",
       "      <th>kick</th>\n",
       "      <th>0.0</th>\n",
       "      <th>0.1</th>\n",
       "      <th>0.2</th>\n",
       "      <th>0.3</th>\n",
       "      <th>0.4</th>\n",
       "    </tr>\n",
       "    <tr>\n",
       "      <th>uni</th>\n",
       "      <th></th>\n",
       "      <th></th>\n",
       "      <th></th>\n",
       "      <th></th>\n",
       "      <th></th>\n",
       "    </tr>\n",
       "  </thead>\n",
       "  <tbody>\n",
       "    <tr>\n",
       "      <th>0.0</th>\n",
       "      <td>4564</td>\n",
       "      <td>721</td>\n",
       "      <td>930</td>\n",
       "      <td>1352</td>\n",
       "      <td>6891</td>\n",
       "    </tr>\n",
       "    <tr>\n",
       "      <th>0.1</th>\n",
       "      <td>43</td>\n",
       "      <td>16</td>\n",
       "      <td>20</td>\n",
       "      <td>60</td>\n",
       "      <td>273</td>\n",
       "    </tr>\n",
       "    <tr>\n",
       "      <th>0.2</th>\n",
       "      <td>31</td>\n",
       "      <td>13</td>\n",
       "      <td>18</td>\n",
       "      <td>45</td>\n",
       "      <td>197</td>\n",
       "    </tr>\n",
       "    <tr>\n",
       "      <th>0.3</th>\n",
       "      <td>31</td>\n",
       "      <td>5</td>\n",
       "      <td>15</td>\n",
       "      <td>31</td>\n",
       "      <td>195</td>\n",
       "    </tr>\n",
       "    <tr>\n",
       "      <th>0.4</th>\n",
       "      <td>25</td>\n",
       "      <td>2</td>\n",
       "      <td>7</td>\n",
       "      <td>23</td>\n",
       "      <td>169</td>\n",
       "    </tr>\n",
       "  </tbody>\n",
       "</table>\n",
       "</div>"
      ],
      "text/plain": [
       "kick   0.0  0.1  0.2   0.3   0.4\n",
       "uni                             \n",
       "0.0   4564  721  930  1352  6891\n",
       "0.1     43   16   20    60   273\n",
       "0.2     31   13   18    45   197\n",
       "0.3     31    5   15    31   195\n",
       "0.4     25    2    7    23   169"
      ]
     },
     "execution_count": 18,
     "metadata": {},
     "output_type": "execute_result"
    }
   ],
   "source": [
    "data_crosstab"
   ]
  },
  {
   "cell_type": "code",
   "execution_count": 19,
   "id": "d1427c23",
   "metadata": {},
   "outputs": [
    {
     "name": "stdout",
     "output_type": "stream",
     "text": [
      "1. 카이제곱 통계량 : 306.5097247333343\n",
      "2. p-value : 1.1425944017042004e-55\n",
      "3. df : 16\n",
      "4. 기대값 행렬 :\n",
      "              0.00        0.25        0.75         1.50         2.50\n",
      "0.00  4329.007591  698.137781  913.020348  1393.508835  7124.325445\n",
      "0.25   123.360847   19.894368   26.017733    39.709893   203.017159\n",
      "0.75    91.023538   14.679339   19.197551    29.300504   149.799069\n",
      "1.50    82.939210   13.375582   17.492505    26.698157   136.494546\n",
      "2.50    67.668814   10.912930   14.271863    21.782611   111.363781\n",
      "대립가설 채택, 대학교와 견인지역에는 관계가 있다.\n"
     ]
    }
   ],
   "source": [
    "# 교차표분석 : 카이제곱 통계량 산출\n",
    "from scipy.stats import chi2_contingency\n",
    "\n",
    "# correction = Ture를 적용하면 yates' correction이 적용되어 \n",
    "# 검정 통계량이 보수적으로 더 낮게 나옴\n",
    "result = chi2_contingency(observed=data_crosstab, correction=False)\n",
    "print(\"1. 카이제곱 통계량 :\", result[0])\n",
    "print(\"2. p-value :\", result[1])\n",
    "print(\"3. df :\", result[2]) # (행의개수 -1) * (열의개수 -1)\n",
    "print(\"4. 기대값 행렬 :\\n\", \n",
    "      pd.DataFrame(result[3]).rename(index={0 : \"0.00\", 1: \"0.25\", 2: \"0.75\", 3: \"1.50\",4: \"2.50\"}, \n",
    "                                     columns={0 : \"0.00\", 1: \"0.25\", 2: \"0.75\", 3: \"1.50\",4: \"2.50\"}))\n",
    "\n",
    "if 0.05 >= result[1] : # p-value\n",
    "    print(\"대립가설 채택, 대학교와 견인지역에는 관계가 있다.\")\n",
    "else :\n",
    "    print(\"귀무가설 채택, 대학고와 견인지역에는 관계가 없다.\")"
   ]
  },
  {
   "cell_type": "code",
   "execution_count": null,
   "id": "7cf14fe1",
   "metadata": {},
   "outputs": [],
   "source": []
  },
  {
   "cell_type": "markdown",
   "id": "33382c5f",
   "metadata": {},
   "source": [
    "고등학교(5x5)"
   ]
  },
  {
   "cell_type": "code",
   "execution_count": 20,
   "id": "55f030b3",
   "metadata": {},
   "outputs": [
    {
     "name": "stdout",
     "output_type": "stream",
     "text": [
      "kick   0.0  0.1  0.2   0.3   0.4    All\n",
      "high                                   \n",
      "0.0   4189  558  681   923  4644  10995\n",
      "0.1    171   56   80   156   842   1305\n",
      "0.2    143   63   98   171   811   1286\n",
      "0.3     94   44   66   127   724   1055\n",
      "0.4     97   36   65   134   704   1036\n",
      "All   4694  757  990  1511  7725  15677\n"
     ]
    }
   ],
   "source": [
    "print(pd.crosstab(df['high'], df['kick'], margins=True))\n",
    "\n",
    "# 계산하기 위한 교차표\n",
    "data_crosstab = pd.crosstab(df['high'], df['kick'], margins=False)"
   ]
  },
  {
   "cell_type": "code",
   "execution_count": 21,
   "id": "1498714f",
   "metadata": {},
   "outputs": [
    {
     "data": {
      "text/html": [
       "<div>\n",
       "<style scoped>\n",
       "    .dataframe tbody tr th:only-of-type {\n",
       "        vertical-align: middle;\n",
       "    }\n",
       "\n",
       "    .dataframe tbody tr th {\n",
       "        vertical-align: top;\n",
       "    }\n",
       "\n",
       "    .dataframe thead th {\n",
       "        text-align: right;\n",
       "    }\n",
       "</style>\n",
       "<table border=\"1\" class=\"dataframe\">\n",
       "  <thead>\n",
       "    <tr style=\"text-align: right;\">\n",
       "      <th>kick</th>\n",
       "      <th>0.0</th>\n",
       "      <th>0.1</th>\n",
       "      <th>0.2</th>\n",
       "      <th>0.3</th>\n",
       "      <th>0.4</th>\n",
       "    </tr>\n",
       "    <tr>\n",
       "      <th>high</th>\n",
       "      <th></th>\n",
       "      <th></th>\n",
       "      <th></th>\n",
       "      <th></th>\n",
       "      <th></th>\n",
       "    </tr>\n",
       "  </thead>\n",
       "  <tbody>\n",
       "    <tr>\n",
       "      <th>0.0</th>\n",
       "      <td>4189</td>\n",
       "      <td>558</td>\n",
       "      <td>681</td>\n",
       "      <td>923</td>\n",
       "      <td>4644</td>\n",
       "    </tr>\n",
       "    <tr>\n",
       "      <th>0.1</th>\n",
       "      <td>171</td>\n",
       "      <td>56</td>\n",
       "      <td>80</td>\n",
       "      <td>156</td>\n",
       "      <td>842</td>\n",
       "    </tr>\n",
       "    <tr>\n",
       "      <th>0.2</th>\n",
       "      <td>143</td>\n",
       "      <td>63</td>\n",
       "      <td>98</td>\n",
       "      <td>171</td>\n",
       "      <td>811</td>\n",
       "    </tr>\n",
       "    <tr>\n",
       "      <th>0.3</th>\n",
       "      <td>94</td>\n",
       "      <td>44</td>\n",
       "      <td>66</td>\n",
       "      <td>127</td>\n",
       "      <td>724</td>\n",
       "    </tr>\n",
       "    <tr>\n",
       "      <th>0.4</th>\n",
       "      <td>97</td>\n",
       "      <td>36</td>\n",
       "      <td>65</td>\n",
       "      <td>134</td>\n",
       "      <td>704</td>\n",
       "    </tr>\n",
       "  </tbody>\n",
       "</table>\n",
       "</div>"
      ],
      "text/plain": [
       "kick   0.0  0.1  0.2  0.3   0.4\n",
       "high                           \n",
       "0.0   4189  558  681  923  4644\n",
       "0.1    171   56   80  156   842\n",
       "0.2    143   63   98  171   811\n",
       "0.3     94   44   66  127   724\n",
       "0.4     97   36   65  134   704"
      ]
     },
     "execution_count": 21,
     "metadata": {},
     "output_type": "execute_result"
    }
   ],
   "source": [
    "data_crosstab"
   ]
  },
  {
   "cell_type": "code",
   "execution_count": 22,
   "id": "c31f41bd",
   "metadata": {},
   "outputs": [
    {
     "name": "stdout",
     "output_type": "stream",
     "text": [
      "1. 카이제곱 통계량 : 1269.2847290842637\n",
      "2. p-value : 1.987948336496574e-260\n",
      "3. df : 16\n",
      "4. 기대값 행렬 :\n",
      "              0.00        0.25        0.75         1.50         2.50\n",
      "0.00  3292.117752  530.918862  694.332462  1059.733686  5417.897238\n",
      "0.25   390.742489   63.014926   82.410538   125.780124   643.051923\n",
      "0.75   385.053518   62.097468   81.210691   123.948842   633.689481\n",
      "1.50   315.887606   50.943101   66.623078   101.684315   519.861900\n",
      "2.50   310.198635   50.025643   65.423231    99.853033   510.499458\n",
      "대립가설 채택, 고등학교와 견인지역에는 관계가 있다.\n"
     ]
    }
   ],
   "source": [
    "# 교차표분석 : 카이제곱 통계량 산출\n",
    "from scipy.stats import chi2_contingency\n",
    "\n",
    "# correction = Ture를 적용하면 yates' correction이 적용되어 \n",
    "# 검정 통계량이 보수적으로 더 낮게 나옴\n",
    "result = chi2_contingency(observed=data_crosstab, correction=False)\n",
    "print(\"1. 카이제곱 통계량 :\", result[0])\n",
    "print(\"2. p-value :\", result[1])\n",
    "print(\"3. df :\", result[2]) # (행의개수 -1) * (열의개수 -1)\n",
    "print(\"4. 기대값 행렬 :\\n\", \n",
    "      pd.DataFrame(result[3]).rename(index={0 : \"0.00\", 1: \"0.25\", 2: \"0.75\", 3: \"1.50\",4: \"2.50\"}, \n",
    "                                     columns={0 : \"0.00\", 1: \"0.25\", 2: \"0.75\", 3: \"1.50\",4: \"2.50\"}))\n",
    "\n",
    "if 0.05 >= result[1] : # p-value\n",
    "    print(\"대립가설 채택, 고등학교와 견인지역에는 관계가 있다.\")\n",
    "else :\n",
    "    print(\"귀무가설 채택, 고등학교와 견인지역에는 관계가 없다.\")"
   ]
  },
  {
   "cell_type": "code",
   "execution_count": null,
   "id": "efbaf5e2",
   "metadata": {},
   "outputs": [],
   "source": []
  },
  {
   "cell_type": "markdown",
   "id": "8c143c07",
   "metadata": {},
   "source": [
    "인구수(5x5)"
   ]
  },
  {
   "cell_type": "code",
   "execution_count": 23,
   "id": "66b26dd8",
   "metadata": {},
   "outputs": [
    {
     "name": "stdout",
     "output_type": "stream",
     "text": [
      "kick   0.0  0.1  0.2   0.3   0.4    All\n",
      "pop                                    \n",
      "0.0    726   98  134   211   884   2053\n",
      "0.1    636  103  136   258  1151   2284\n",
      "0.2    734  169  208   249  1895   3255\n",
      "0.3    988  163  211   333  1486   3181\n",
      "0.4   1610  224  301   460  2309   4904\n",
      "All   4694  757  990  1511  7725  15677\n"
     ]
    }
   ],
   "source": [
    "print(pd.crosstab(df['pop'], df['kick'], margins=True))\n",
    "\n",
    "# 계산하기 위한 교차표\n",
    "data_crosstab = pd.crosstab(df['pop'], df['kick'], margins=False)"
   ]
  },
  {
   "cell_type": "code",
   "execution_count": 24,
   "id": "5091dd94",
   "metadata": {},
   "outputs": [
    {
     "data": {
      "text/html": [
       "<div>\n",
       "<style scoped>\n",
       "    .dataframe tbody tr th:only-of-type {\n",
       "        vertical-align: middle;\n",
       "    }\n",
       "\n",
       "    .dataframe tbody tr th {\n",
       "        vertical-align: top;\n",
       "    }\n",
       "\n",
       "    .dataframe thead th {\n",
       "        text-align: right;\n",
       "    }\n",
       "</style>\n",
       "<table border=\"1\" class=\"dataframe\">\n",
       "  <thead>\n",
       "    <tr style=\"text-align: right;\">\n",
       "      <th>kick</th>\n",
       "      <th>0.0</th>\n",
       "      <th>0.1</th>\n",
       "      <th>0.2</th>\n",
       "      <th>0.3</th>\n",
       "      <th>0.4</th>\n",
       "    </tr>\n",
       "    <tr>\n",
       "      <th>pop</th>\n",
       "      <th></th>\n",
       "      <th></th>\n",
       "      <th></th>\n",
       "      <th></th>\n",
       "      <th></th>\n",
       "    </tr>\n",
       "  </thead>\n",
       "  <tbody>\n",
       "    <tr>\n",
       "      <th>0.0</th>\n",
       "      <td>726</td>\n",
       "      <td>98</td>\n",
       "      <td>134</td>\n",
       "      <td>211</td>\n",
       "      <td>884</td>\n",
       "    </tr>\n",
       "    <tr>\n",
       "      <th>0.1</th>\n",
       "      <td>636</td>\n",
       "      <td>103</td>\n",
       "      <td>136</td>\n",
       "      <td>258</td>\n",
       "      <td>1151</td>\n",
       "    </tr>\n",
       "    <tr>\n",
       "      <th>0.2</th>\n",
       "      <td>734</td>\n",
       "      <td>169</td>\n",
       "      <td>208</td>\n",
       "      <td>249</td>\n",
       "      <td>1895</td>\n",
       "    </tr>\n",
       "    <tr>\n",
       "      <th>0.3</th>\n",
       "      <td>988</td>\n",
       "      <td>163</td>\n",
       "      <td>211</td>\n",
       "      <td>333</td>\n",
       "      <td>1486</td>\n",
       "    </tr>\n",
       "    <tr>\n",
       "      <th>0.4</th>\n",
       "      <td>1610</td>\n",
       "      <td>224</td>\n",
       "      <td>301</td>\n",
       "      <td>460</td>\n",
       "      <td>2309</td>\n",
       "    </tr>\n",
       "  </tbody>\n",
       "</table>\n",
       "</div>"
      ],
      "text/plain": [
       "kick   0.0  0.1  0.2  0.3   0.4\n",
       "pop                            \n",
       "0.0    726   98  134  211   884\n",
       "0.1    636  103  136  258  1151\n",
       "0.2    734  169  208  249  1895\n",
       "0.3    988  163  211  333  1486\n",
       "0.4   1610  224  301  460  2309"
      ]
     },
     "execution_count": 24,
     "metadata": {},
     "output_type": "execute_result"
    }
   ],
   "source": [
    "data_crosstab"
   ]
  },
  {
   "cell_type": "code",
   "execution_count": 25,
   "id": "9f3ce9dc",
   "metadata": {},
   "outputs": [
    {
     "name": "stdout",
     "output_type": "stream",
     "text": [
      "1. 카이제곱 통계량 : 203.81196932906934\n",
      "2. p-value : 1.3438059398705465e-34\n",
      "3. df : 16\n",
      "4. 기대값 행렬 :\n",
      "              0.00        0.25        0.75        1.50         2.50\n",
      "0.00   614.708299   99.133827  129.646616  197.874785  1011.636474\n",
      "0.25   683.874211  110.288193  144.234228  220.139312  1125.464056\n",
      "0.75   974.610576  157.175161  205.552721  313.727435  1603.934107\n",
      "1.50   952.453531  153.601901  200.879633  306.595076  1567.469860\n",
      "2.50  1468.353384  236.800919  309.686802  472.663392  2416.495503\n",
      "대립가설 채택, 인구수와 견인지역에는 관계가 있다.\n"
     ]
    }
   ],
   "source": [
    "# 교차표분석 : 카이제곱 통계량 산출\n",
    "from scipy.stats import chi2_contingency\n",
    "\n",
    "# correction = Ture를 적용하면 yates' correction이 적용되어 \n",
    "# 검정 통계량이 보수적으로 더 낮게 나옴\n",
    "result = chi2_contingency(observed=data_crosstab, correction=False)\n",
    "print(\"1. 카이제곱 통계량 :\", result[0])\n",
    "print(\"2. p-value :\", result[1])\n",
    "print(\"3. df :\", result[2]) # (행의개수 -1) * (열의개수 -1)\n",
    "print(\"4. 기대값 행렬 :\\n\", \n",
    "      pd.DataFrame(result[3]).rename(index={0 : \"0.00\", 1: \"0.25\", 2: \"0.75\", 3: \"1.50\",4: \"2.50\"}, \n",
    "                                     columns={0 : \"0.00\", 1: \"0.25\", 2: \"0.75\", 3: \"1.50\",4: \"2.50\"}))\n",
    "\n",
    "if 0.05 >= result[1] : # p-value\n",
    "    print(\"대립가설 채택, 인구수와 견인지역에는 관계가 있다.\")\n",
    "else :\n",
    "    print(\"귀무가설 채택, 인구수와 견인지역에는 관계가 없다.\")"
   ]
  },
  {
   "cell_type": "code",
   "execution_count": null,
   "id": "494631df",
   "metadata": {},
   "outputs": [],
   "source": []
  },
  {
   "cell_type": "markdown",
   "id": "50e18d6e",
   "metadata": {},
   "source": [
    "나이(5x5)"
   ]
  },
  {
   "cell_type": "code",
   "execution_count": 27,
   "id": "dd67660d",
   "metadata": {},
   "outputs": [
    {
     "name": "stdout",
     "output_type": "stream",
     "text": [
      "kick   0.0  0.1  0.2   0.3   0.4    All\n",
      "age                                    \n",
      "0.0   1511  176  212   360  1381   3640\n",
      "0.1    452  137  213   270  1453   2525\n",
      "0.2    931   93  138   228  1313   2703\n",
      "0.3   1214  214  267   382  1862   3939\n",
      "0.4    586  137  160   271  1716   2870\n",
      "All   4694  757  990  1511  7725  15677\n"
     ]
    }
   ],
   "source": [
    "print(pd.crosstab(df['age'], df['kick'], margins=True))\n",
    "\n",
    "# 계산하기 위한 교차표\n",
    "data_crosstab = pd.crosstab(df['age'], df['kick'], margins=False)"
   ]
  },
  {
   "cell_type": "code",
   "execution_count": 28,
   "id": "7efc5bf3",
   "metadata": {},
   "outputs": [
    {
     "data": {
      "text/html": [
       "<div>\n",
       "<style scoped>\n",
       "    .dataframe tbody tr th:only-of-type {\n",
       "        vertical-align: middle;\n",
       "    }\n",
       "\n",
       "    .dataframe tbody tr th {\n",
       "        vertical-align: top;\n",
       "    }\n",
       "\n",
       "    .dataframe thead th {\n",
       "        text-align: right;\n",
       "    }\n",
       "</style>\n",
       "<table border=\"1\" class=\"dataframe\">\n",
       "  <thead>\n",
       "    <tr style=\"text-align: right;\">\n",
       "      <th>kick</th>\n",
       "      <th>0.0</th>\n",
       "      <th>0.1</th>\n",
       "      <th>0.2</th>\n",
       "      <th>0.3</th>\n",
       "      <th>0.4</th>\n",
       "    </tr>\n",
       "    <tr>\n",
       "      <th>age</th>\n",
       "      <th></th>\n",
       "      <th></th>\n",
       "      <th></th>\n",
       "      <th></th>\n",
       "      <th></th>\n",
       "    </tr>\n",
       "  </thead>\n",
       "  <tbody>\n",
       "    <tr>\n",
       "      <th>0.0</th>\n",
       "      <td>1511</td>\n",
       "      <td>176</td>\n",
       "      <td>212</td>\n",
       "      <td>360</td>\n",
       "      <td>1381</td>\n",
       "    </tr>\n",
       "    <tr>\n",
       "      <th>0.1</th>\n",
       "      <td>452</td>\n",
       "      <td>137</td>\n",
       "      <td>213</td>\n",
       "      <td>270</td>\n",
       "      <td>1453</td>\n",
       "    </tr>\n",
       "    <tr>\n",
       "      <th>0.2</th>\n",
       "      <td>931</td>\n",
       "      <td>93</td>\n",
       "      <td>138</td>\n",
       "      <td>228</td>\n",
       "      <td>1313</td>\n",
       "    </tr>\n",
       "    <tr>\n",
       "      <th>0.3</th>\n",
       "      <td>1214</td>\n",
       "      <td>214</td>\n",
       "      <td>267</td>\n",
       "      <td>382</td>\n",
       "      <td>1862</td>\n",
       "    </tr>\n",
       "    <tr>\n",
       "      <th>0.4</th>\n",
       "      <td>586</td>\n",
       "      <td>137</td>\n",
       "      <td>160</td>\n",
       "      <td>271</td>\n",
       "      <td>1716</td>\n",
       "    </tr>\n",
       "  </tbody>\n",
       "</table>\n",
       "</div>"
      ],
      "text/plain": [
       "kick   0.0  0.1  0.2  0.3   0.4\n",
       "age                            \n",
       "0.0   1511  176  212  360  1381\n",
       "0.1    452  137  213  270  1453\n",
       "0.2    931   93  138  228  1313\n",
       "0.3   1214  214  267  382  1862\n",
       "0.4    586  137  160  271  1716"
      ]
     },
     "execution_count": 28,
     "metadata": {},
     "output_type": "execute_result"
    }
   ],
   "source": [
    "data_crosstab"
   ]
  },
  {
   "cell_type": "code",
   "execution_count": 29,
   "id": "de047889",
   "metadata": {},
   "outputs": [
    {
     "name": "stdout",
     "output_type": "stream",
     "text": [
      "1. 카이제곱 통계량 : 641.5174163181107\n",
      "2. p-value : 3.520737649643846e-126\n",
      "3. df : 16\n",
      "4. 기대값 행렬 :\n",
      "              0.00        0.25        0.75        1.50         2.50\n",
      "0.00  1089.887096  175.765772  229.865408  350.834981  1793.646744\n",
      "0.25   756.034318  121.925432  159.453339  243.367672  1244.219238\n",
      "0.75   809.330994  130.520572  170.694010  260.523888  1331.930535\n",
      "1.50  1179.413536  190.203674  248.747209  379.653569  1940.982012\n",
      "2.50   859.334056  138.584551  181.240033  276.619889  1414.221471\n",
      "대립가설 채택, 나이와 견인지역에는 관계가 있다.\n"
     ]
    }
   ],
   "source": [
    "# 교차표분석 : 카이제곱 통계량 산출\n",
    "from scipy.stats import chi2_contingency\n",
    "\n",
    "# correction = Ture를 적용하면 yates' correction이 적용되어 \n",
    "# 검정 통계량이 보수적으로 더 낮게 나옴\n",
    "result = chi2_contingency(observed=data_crosstab, correction=False)\n",
    "print(\"1. 카이제곱 통계량 :\", result[0])\n",
    "print(\"2. p-value :\", result[1])\n",
    "print(\"3. df :\", result[2]) # (행의개수 -1) * (열의개수 -1)\n",
    "print(\"4. 기대값 행렬 :\\n\", \n",
    "      pd.DataFrame(result[3]).rename(index={0 : \"0.00\", 1: \"0.25\", 2: \"0.75\", 3: \"1.50\",4: \"2.50\"}, \n",
    "                                     columns={0 : \"0.00\", 1: \"0.25\", 2: \"0.75\", 3: \"1.50\",4: \"2.50\"}))\n",
    "\n",
    "if 0.05 >= result[1] : # p-value\n",
    "    print(\"대립가설 채택, 나이와 견인지역에는 관계가 있다.\")\n",
    "else :\n",
    "    print(\"귀무가설 채택, 나이와 견인지역에는 관계가 없다.\")"
   ]
  },
  {
   "cell_type": "code",
   "execution_count": null,
   "id": "97b52389",
   "metadata": {},
   "outputs": [],
   "source": []
  },
  {
   "cell_type": "markdown",
   "id": "ad531666",
   "metadata": {},
   "source": [
    "대규모점포(5x5)"
   ]
  },
  {
   "cell_type": "code",
   "execution_count": 31,
   "id": "3d6ae586",
   "metadata": {},
   "outputs": [
    {
     "name": "stdout",
     "output_type": "stream",
     "text": [
      "kick   0.0  0.1  0.2   0.3   0.4    All\n",
      "mart                                   \n",
      "0.0   4544  708  898  1289  5599  13038\n",
      "0.1     51   14   27    69   608    769\n",
      "0.2     38   14   25    69   543    689\n",
      "0.3     31   12   19    43   472    577\n",
      "0.4     30    9   21    41   503    604\n",
      "All   4694  757  990  1511  7725  15677\n"
     ]
    }
   ],
   "source": [
    "print(pd.crosstab(df['mart'], df['kick'], margins=True))\n",
    "\n",
    "# 계산하기 위한 교차표\n",
    "data_crosstab = pd.crosstab(df['mart'], df['kick'], margins=False)"
   ]
  },
  {
   "cell_type": "code",
   "execution_count": 32,
   "id": "842a8f56",
   "metadata": {},
   "outputs": [
    {
     "data": {
      "text/html": [
       "<div>\n",
       "<style scoped>\n",
       "    .dataframe tbody tr th:only-of-type {\n",
       "        vertical-align: middle;\n",
       "    }\n",
       "\n",
       "    .dataframe tbody tr th {\n",
       "        vertical-align: top;\n",
       "    }\n",
       "\n",
       "    .dataframe thead th {\n",
       "        text-align: right;\n",
       "    }\n",
       "</style>\n",
       "<table border=\"1\" class=\"dataframe\">\n",
       "  <thead>\n",
       "    <tr style=\"text-align: right;\">\n",
       "      <th>kick</th>\n",
       "      <th>0.0</th>\n",
       "      <th>0.1</th>\n",
       "      <th>0.2</th>\n",
       "      <th>0.3</th>\n",
       "      <th>0.4</th>\n",
       "    </tr>\n",
       "    <tr>\n",
       "      <th>mart</th>\n",
       "      <th></th>\n",
       "      <th></th>\n",
       "      <th></th>\n",
       "      <th></th>\n",
       "      <th></th>\n",
       "    </tr>\n",
       "  </thead>\n",
       "  <tbody>\n",
       "    <tr>\n",
       "      <th>0.0</th>\n",
       "      <td>4544</td>\n",
       "      <td>708</td>\n",
       "      <td>898</td>\n",
       "      <td>1289</td>\n",
       "      <td>5599</td>\n",
       "    </tr>\n",
       "    <tr>\n",
       "      <th>0.1</th>\n",
       "      <td>51</td>\n",
       "      <td>14</td>\n",
       "      <td>27</td>\n",
       "      <td>69</td>\n",
       "      <td>608</td>\n",
       "    </tr>\n",
       "    <tr>\n",
       "      <th>0.2</th>\n",
       "      <td>38</td>\n",
       "      <td>14</td>\n",
       "      <td>25</td>\n",
       "      <td>69</td>\n",
       "      <td>543</td>\n",
       "    </tr>\n",
       "    <tr>\n",
       "      <th>0.3</th>\n",
       "      <td>31</td>\n",
       "      <td>12</td>\n",
       "      <td>19</td>\n",
       "      <td>43</td>\n",
       "      <td>472</td>\n",
       "    </tr>\n",
       "    <tr>\n",
       "      <th>0.4</th>\n",
       "      <td>30</td>\n",
       "      <td>9</td>\n",
       "      <td>21</td>\n",
       "      <td>41</td>\n",
       "      <td>503</td>\n",
       "    </tr>\n",
       "  </tbody>\n",
       "</table>\n",
       "</div>"
      ],
      "text/plain": [
       "kick   0.0  0.1  0.2   0.3   0.4\n",
       "mart                            \n",
       "0.0   4544  708  898  1289  5599\n",
       "0.1     51   14   27    69   608\n",
       "0.2     38   14   25    69   543\n",
       "0.3     31   12   19    43   472\n",
       "0.4     30    9   21    41   503"
      ]
     },
     "execution_count": 32,
     "metadata": {},
     "output_type": "execute_result"
    }
   ],
   "source": [
    "data_crosstab"
   ]
  },
  {
   "cell_type": "code",
   "execution_count": 33,
   "id": "a7f83f5f",
   "metadata": {},
   "outputs": [
    {
     "name": "stdout",
     "output_type": "stream",
     "text": [
      "1. 카이제곱 통계량 : 1363.930982627288\n",
      "2. p-value : 9.215750493429739e-281\n",
      "3. df : 16\n",
      "4. 기대값 행렬 :\n",
      "              0.00        0.25        0.75         1.50         2.50\n",
      "0.00  3903.831856  629.569816  823.347579  1256.644639  6424.606111\n",
      "0.25   230.253620   37.132934   48.562225    74.118709   378.932513\n",
      "0.75   206.300057   33.269950   43.510238    66.408050   339.511705\n",
      "1.50   172.765070   27.861772   36.437456    55.613128   284.322574\n",
      "2.50   180.849397   29.165529   38.142502    58.215475   297.627097\n",
      "대립가설 채택, 대규모점포와 견인지역에는 관계가 있다.\n"
     ]
    }
   ],
   "source": [
    "# 교차표분석 : 카이제곱 통계량 산출\n",
    "from scipy.stats import chi2_contingency\n",
    "\n",
    "# correction = Ture를 적용하면 yates' correction이 적용되어 \n",
    "# 검정 통계량이 보수적으로 더 낮게 나옴\n",
    "result = chi2_contingency(observed=data_crosstab, correction=False)\n",
    "print(\"1. 카이제곱 통계량 :\", result[0])\n",
    "print(\"2. p-value :\", result[1])\n",
    "print(\"3. df :\", result[2]) # (행의개수 -1) * (열의개수 -1)\n",
    "print(\"4. 기대값 행렬 :\\n\", \n",
    "      pd.DataFrame(result[3]).rename(index={0 : \"0.00\", 1: \"0.25\", 2: \"0.75\", 3: \"1.50\",4: \"2.50\"}, \n",
    "                                     columns={0 : \"0.00\", 1: \"0.25\", 2: \"0.75\", 3: \"1.50\",4: \"2.50\"}))\n",
    "\n",
    "if 0.05 >= result[1] : # p-value\n",
    "    print(\"대립가설 채택, 대규모점포와 견인지역에는 관계가 있다.\")\n",
    "else :\n",
    "    print(\"귀무가설 채택, 대규모점포와 견인지역에는 관계가 없다.\")"
   ]
  },
  {
   "cell_type": "code",
   "execution_count": null,
   "id": "e3544780",
   "metadata": {},
   "outputs": [],
   "source": []
  }
 ],
 "metadata": {
  "kernelspec": {
   "display_name": "Python 3 (ipykernel)",
   "language": "python",
   "name": "python3"
  },
  "language_info": {
   "codemirror_mode": {
    "name": "ipython",
    "version": 3
   },
   "file_extension": ".py",
   "mimetype": "text/x-python",
   "name": "python",
   "nbconvert_exporter": "python",
   "pygments_lexer": "ipython3",
   "version": "3.9.12"
  }
 },
 "nbformat": 4,
 "nbformat_minor": 5
}
