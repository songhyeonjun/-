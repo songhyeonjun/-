{
 "cells": [
  {
   "cell_type": "code",
   "execution_count": 1,
   "id": "cb24e1c3",
   "metadata": {},
   "outputs": [],
   "source": [
    "import numpy as np # linear algebra\n",
    "import pandas as pd # data processing, CSV file I/O (e.g. pd.read_csv)\n",
    "import os\n",
    "\n",
    "#SMOTE\n",
    "import matplotlib.pyplot as plt\n",
    "from imblearn.over_sampling import SMOTE\n",
    "from sklearn.pipeline import make_pipeline\n",
    "from imblearn.pipeline import make_pipeline as make_pipeline_imb \n",
    "from imblearn.pipeline import make_pipeline as imbalanced_make_pipeline\n",
    "from collections import Counter\n",
    "#Evaluation\n",
    "from sklearn import metrics\n",
    "from tqdm import tqdm\n",
    "\n",
    "import warnings\n",
    "warnings.filterwarnings(\"ignore\")\n",
    "\n",
    "from sklearn.model_selection import RandomizedSearchCV\n",
    "from sklearn.experimental import enable_halving_search_cv\n",
    "from sklearn.model_selection import HalvingGridSearchCV\n",
    "\n",
    "for dirname, _, filenames in os.walk('/kaggle/input'):\n",
    "    for filename in filenames:\n",
    "        print(os.path.join(dirname, filename))"
   ]
  },
  {
   "cell_type": "code",
   "execution_count": 2,
   "id": "9ad3965e",
   "metadata": {},
   "outputs": [],
   "source": [
    "df = pd.read_csv('C:/Users/user/Desktop/프로젝트 data/최적입지_변수_총합(용산적용전)3.csv',\n",
    "                 encoding='euckr')\n"
   ]
  },
  {
   "cell_type": "code",
   "execution_count": 3,
   "id": "56a4de10",
   "metadata": {},
   "outputs": [
    {
     "data": {
      "text/html": [
       "<div>\n",
       "<style scoped>\n",
       "    .dataframe tbody tr th:only-of-type {\n",
       "        vertical-align: middle;\n",
       "    }\n",
       "\n",
       "    .dataframe tbody tr th {\n",
       "        vertical-align: top;\n",
       "    }\n",
       "\n",
       "    .dataframe thead th {\n",
       "        text-align: right;\n",
       "    }\n",
       "</style>\n",
       "<table border=\"1\" class=\"dataframe\">\n",
       "  <thead>\n",
       "    <tr style=\"text-align: right;\">\n",
       "      <th></th>\n",
       "      <th>id</th>\n",
       "      <th>bus</th>\n",
       "      <th>metro</th>\n",
       "      <th>taxi</th>\n",
       "      <th>uni</th>\n",
       "      <th>high</th>\n",
       "      <th>park</th>\n",
       "      <th>cf</th>\n",
       "      <th>bike</th>\n",
       "      <th>pop</th>\n",
       "      <th>class</th>\n",
       "    </tr>\n",
       "  </thead>\n",
       "  <tbody>\n",
       "    <tr>\n",
       "      <th>0</th>\n",
       "      <td>27900</td>\n",
       "      <td>0.75</td>\n",
       "      <td>0.00</td>\n",
       "      <td>0.0</td>\n",
       "      <td>0.0</td>\n",
       "      <td>0.00</td>\n",
       "      <td>0.0</td>\n",
       "      <td>0.0</td>\n",
       "      <td>0.0</td>\n",
       "      <td>1.5</td>\n",
       "      <td>1</td>\n",
       "    </tr>\n",
       "    <tr>\n",
       "      <th>1</th>\n",
       "      <td>27896</td>\n",
       "      <td>0.75</td>\n",
       "      <td>0.25</td>\n",
       "      <td>0.0</td>\n",
       "      <td>0.0</td>\n",
       "      <td>0.00</td>\n",
       "      <td>0.0</td>\n",
       "      <td>0.0</td>\n",
       "      <td>0.0</td>\n",
       "      <td>1.5</td>\n",
       "      <td>1</td>\n",
       "    </tr>\n",
       "    <tr>\n",
       "      <th>2</th>\n",
       "      <td>27894</td>\n",
       "      <td>2.50</td>\n",
       "      <td>0.00</td>\n",
       "      <td>0.0</td>\n",
       "      <td>0.0</td>\n",
       "      <td>0.75</td>\n",
       "      <td>0.0</td>\n",
       "      <td>0.0</td>\n",
       "      <td>0.0</td>\n",
       "      <td>1.5</td>\n",
       "      <td>1</td>\n",
       "    </tr>\n",
       "    <tr>\n",
       "      <th>3</th>\n",
       "      <td>27739</td>\n",
       "      <td>0.75</td>\n",
       "      <td>0.00</td>\n",
       "      <td>0.0</td>\n",
       "      <td>0.0</td>\n",
       "      <td>0.25</td>\n",
       "      <td>0.0</td>\n",
       "      <td>0.0</td>\n",
       "      <td>0.0</td>\n",
       "      <td>1.5</td>\n",
       "      <td>1</td>\n",
       "    </tr>\n",
       "    <tr>\n",
       "      <th>4</th>\n",
       "      <td>27597</td>\n",
       "      <td>0.75</td>\n",
       "      <td>0.00</td>\n",
       "      <td>0.0</td>\n",
       "      <td>0.0</td>\n",
       "      <td>0.25</td>\n",
       "      <td>0.0</td>\n",
       "      <td>0.0</td>\n",
       "      <td>2.5</td>\n",
       "      <td>1.5</td>\n",
       "      <td>1</td>\n",
       "    </tr>\n",
       "  </tbody>\n",
       "</table>\n",
       "</div>"
      ],
      "text/plain": [
       "      id   bus  metro  taxi  uni  high  park   cf  bike  pop  class\n",
       "0  27900  0.75   0.00   0.0  0.0  0.00   0.0  0.0   0.0  1.5      1\n",
       "1  27896  0.75   0.25   0.0  0.0  0.00   0.0  0.0   0.0  1.5      1\n",
       "2  27894  2.50   0.00   0.0  0.0  0.75   0.0  0.0   0.0  1.5      1\n",
       "3  27739  0.75   0.00   0.0  0.0  0.25   0.0  0.0   0.0  1.5      1\n",
       "4  27597  0.75   0.00   0.0  0.0  0.25   0.0  0.0   2.5  1.5      1"
      ]
     },
     "execution_count": 3,
     "metadata": {},
     "output_type": "execute_result"
    }
   ],
   "source": [
    "df.head()"
   ]
  },
  {
   "cell_type": "code",
   "execution_count": 4,
   "id": "344be533",
   "metadata": {},
   "outputs": [],
   "source": [
    "# 타겟값 확인"
   ]
  },
  {
   "cell_type": "code",
   "execution_count": 5,
   "id": "a34740f8",
   "metadata": {},
   "outputs": [
    {
     "data": {
      "text/html": [
       "<div>\n",
       "<style scoped>\n",
       "    .dataframe tbody tr th:only-of-type {\n",
       "        vertical-align: middle;\n",
       "    }\n",
       "\n",
       "    .dataframe tbody tr th {\n",
       "        vertical-align: top;\n",
       "    }\n",
       "\n",
       "    .dataframe thead th {\n",
       "        text-align: right;\n",
       "    }\n",
       "</style>\n",
       "<table border=\"1\" class=\"dataframe\">\n",
       "  <thead>\n",
       "    <tr style=\"text-align: right;\">\n",
       "      <th></th>\n",
       "      <th>class</th>\n",
       "      <th>Value Count</th>\n",
       "      <th>Percentage</th>\n",
       "    </tr>\n",
       "  </thead>\n",
       "  <tbody>\n",
       "    <tr>\n",
       "      <th>0</th>\n",
       "      <td>0</td>\n",
       "      <td>12275</td>\n",
       "      <td>0.782994</td>\n",
       "    </tr>\n",
       "    <tr>\n",
       "      <th>1</th>\n",
       "      <td>1</td>\n",
       "      <td>3402</td>\n",
       "      <td>0.217006</td>\n",
       "    </tr>\n",
       "  </tbody>\n",
       "</table>\n",
       "</div>"
      ],
      "text/plain": [
       "   class  Value Count  Percentage\n",
       "0      0        12275    0.782994\n",
       "1      1         3402    0.217006"
      ]
     },
     "metadata": {},
     "output_type": "display_data"
    },
    {
     "data": {
      "text/plain": [
       "<AxesSubplot:xlabel='class'>"
      ]
     },
     "execution_count": 5,
     "metadata": {},
     "output_type": "execute_result"
    },
    {
     "data": {
      "image/png": "[encoded data removed]",
      "text/plain": [
       "<Figure size 360x360 with 1 Axes>"
      ]
     },
     "metadata": {
      "needs_background": "light"
     },
     "output_type": "display_data"
    }
   ],
   "source": [
    "def val_count_df(df, column_name, sort=True):\n",
    "    value_count = df[column_name].value_counts(sort=sort).reset_index().rename(columns={column_name:\"Value Count\",\"index\":column_name}).set_index(column_name)\n",
    "    value_count[\"Percentage\"] = df[column_name].value_counts(sort=sort,normalize=True)\n",
    "    value_count = value_count.reset_index()\n",
    "    value_count = value_count.style.format({'Percentage': \"{:.2%}\"})\n",
    "    return value_count.data\n",
    "\n",
    "target_count = val_count_df(df, \"class\")\n",
    "display(target_count)\n",
    "target_count.set_index(\"class\").plot.bar(y=\"Percentage\", figsize=(5,5), legend='Percentage')"
   ]
  },
  {
   "cell_type": "code",
   "execution_count": 6,
   "id": "775ccf26",
   "metadata": {},
   "outputs": [
    {
     "name": "stdout",
     "output_type": "stream",
     "text": [
      "The dataset contains 15677 rows with id       0\n",
      "bus      0\n",
      "metro    0\n",
      "taxi     0\n",
      "uni      0\n",
      "high     0\n",
      "park     0\n",
      "cf       0\n",
      "bike     0\n",
      "pop      0\n",
      "class    0\n",
      "dtype: int64 N/A values\n",
      "Number of rows: 15677 Number of Cols: 11\n",
      "Numeric Features from dataset are : Index(['id', 'bus', 'metro', 'taxi', 'uni', 'high', 'park', 'cf', 'bike',\n",
      "       'pop', 'class'],\n",
      "      dtype='object')\n",
      "Categorial Features from dataset are : Index([], dtype='object')\n"
     ]
    }
   ],
   "source": [
    "def exploreDataset(df):\n",
    "    df_copy = df.copy()\n",
    "    print(\"The dataset contains {} rows with {} N/A values\".format(df_copy.shape[0], df_copy.isna().sum()))\n",
    "    print(\"Number of rows:\", df_copy.shape[0], \"Number of Cols:\", df_copy.shape[1])\n",
    "    numericFeatures = df_copy.select_dtypes(include = np.number).columns\n",
    "    print(\"Numeric Features from dataset are :\",numericFeatures)\n",
    "    categoricalFeatures = df_copy.select_dtypes(include = object).columns\n",
    "    print(\"Categorial Features from dataset are :\",categoricalFeatures)\n",
    "    \n",
    "exploreDataset(df)"
   ]
  },
  {
   "cell_type": "code",
   "execution_count": 7,
   "id": "6bb494ff",
   "metadata": {},
   "outputs": [
    {
     "data": {
      "image/png": "[encoded data removed]",
      "text/plain": [
       "<Figure size 1152x1728 with 9 Axes>"
      ]
     },
     "metadata": {
      "needs_background": "light"
     },
     "output_type": "display_data"
    }
   ],
   "source": [
    "import seaborn as sns\n",
    "param = ['bus', 'metro', 'taxi', 'uni', \n",
    "        'high', 'park', 'cf', 'bike', 'pop']\n",
    "plt.figure(figsize=(16,24))\n",
    "numRange= [i for i in range(1,10)]\n",
    "for i in numRange:\n",
    "    plt.subplot(6,5,i,aspect='auto')\n",
    "    sns.histplot(data=df,x=param[i-1], kde=True)\n",
    "plt.suptitle('Kde Plots of Numerical features')\n",
    "plt.show()"
   ]
  },
  {
   "cell_type": "code",
   "execution_count": 8,
   "id": "fced69e1",
   "metadata": {},
   "outputs": [],
   "source": [
    "def drawCorrelationMatrix(df):\n",
    "    \n",
    "    cmap = sns.diverging_palette(250, 15, s=75, l=40,\n",
    "                                 n=9, center=\"light\", as_cmap=True)\n",
    "    matrix = df.corr()\n",
    "    mask = np.triu(np.ones_like(matrix, dtype=bool))\n",
    "    plt.figure(figsize=(16,12))\n",
    "    plt.title(\"Correlation heatmap between all parameters\")\n",
    "    fig = sns.heatmap(matrix, mask=mask, center=0, annot=True,\n",
    "                 fmt='.1f', square=True, cmap=cmap)\n",
    "    \n",
    "def getRedundantPairs(df):\n",
    "    '''Get diagonal and lower triangular pairs of correlation matrix'''\n",
    "    pairs_to_drop = set()\n",
    "    cols = df.columns\n",
    "    for i in range(0, df.shape[1]):\n",
    "        for j in range(0, i+1):\n",
    "            pairs_to_drop.add((cols[i], cols[j]))\n",
    "    return pairs_to_drop\n",
    "\n",
    "def getTopAbsCorrelations(df, n=5,method = 'pearson'):\n",
    "#   ''' Get top 5 most correlated features in the given dataset. Method can be 'pearson', 'spearman', 'kendall' ''''\n",
    "    au_corr = df.corr(method = method).abs().unstack()\n",
    "    labels_to_drop = getRedundantPairs(df)\n",
    "    au_corr = au_corr.drop(labels=labels_to_drop).sort_values(ascending=False)\n",
    "    print(\"Top {} Correlated features in given dataset\".format(n))\n",
    "    return au_corr[0:n]"
   ]
  },
  {
   "cell_type": "code",
   "execution_count": 9,
   "id": "e0ad1966",
   "metadata": {},
   "outputs": [
    {
     "name": "stdout",
     "output_type": "stream",
     "text": [
      "Top 5 Correlated features in given dataset\n"
     ]
    },
    {
     "data": {
      "text/plain": [
       "metro  bike     0.397905\n",
       "bike   class    0.368424\n",
       "bus    class    0.340731\n",
       "metro  taxi     0.309548\n",
       "bus    bike     0.301743\n",
       "dtype: float64"
      ]
     },
     "execution_count": 9,
     "metadata": {},
     "output_type": "execute_result"
    },
    {
     "data": {
      "image/png": "[encoded data removed]",
      "text/plain": [
       "<Figure size 1152x864 with 2 Axes>"
      ]
     },
     "metadata": {
      "needs_background": "light"
     },
     "output_type": "display_data"
    }
   ],
   "source": [
    "drawCorrelationMatrix(df)\n",
    "getTopAbsCorrelations(df)"
   ]
  },
  {
   "cell_type": "code",
   "execution_count": 10,
   "id": "404ffe46",
   "metadata": {},
   "outputs": [],
   "source": [
    "# import model and matrics\n",
    "from sklearn.linear_model import LogisticRegression\n",
    "from sklearn.model_selection import train_test_split, GridSearchCV, cross_val_score, RepeatedStratifiedKFold, StratifiedKFold\n",
    "from sklearn.metrics import accuracy_score, confusion_matrix,roc_curve, roc_auc_score, precision_score, recall_score, precision_recall_curve\n",
    "from sklearn.metrics import f1_score\n",
    "# split dataset into x,y\n",
    "x = df.drop('class',axis=1)\n",
    "y = df['class']\n",
    "# train-test split\n",
    "X_train, X_test, y_train, y_test = train_test_split(x, y, test_size=0.3, random_state=13)"
   ]
  },
  {
   "cell_type": "code",
   "execution_count": 11,
   "id": "e381cbc7",
   "metadata": {},
   "outputs": [],
   "source": [
    "def cfMatrix(df):\n",
    "    ax = sns.heatmap(df, annot=True, cmap='Blues')\n",
    "    ax.set_title('Seaborn Confusion Matrix with labels\\n\\n');\n",
    "    ax.set_xlabel('\\nPredicted Values')\n",
    "    ax.set_ylabel('Actual Values ');\n",
    "\n",
    "    ## Ticket labels - List must be in alphabetical order\n",
    "    ax.xaxis.set_ticklabels(['False','True'])\n",
    "    ax.yaxis.set_ticklabels(['False','True'])\n",
    "\n",
    "    ## Display the visualization of the Confusion Matrix.\n",
    "    plt.show()"
   ]
  },
  {
   "cell_type": "code",
   "execution_count": 12,
   "id": "308556ec",
   "metadata": {},
   "outputs": [
    {
     "name": "stdout",
     "output_type": "stream",
     "text": [
      "Confusion Matrix: \n",
      "[[3387  318]\n",
      " [ 654  345]]\n",
      "Accuracy Score: 0.7933673469387755\n",
      "Area Under Curve: 0.6297576929155876\n",
      "Recall score: 0.34534534534534533\n"
     ]
    },
    {
     "data": {
      "image/png": "[encoded data removed]",
      "text/plain": [
       "<Figure size 432x288 with 2 Axes>"
      ]
     },
     "metadata": {
      "needs_background": "light"
     },
     "output_type": "display_data"
    }
   ],
   "source": [
    "# define model\n",
    "lg1 = LogisticRegression(random_state=13, class_weight=None,solver='lbfgs', max_iter=1000)\n",
    "# fit it\n",
    "lg1.fit(X_train,y_train)\n",
    "# test\n",
    "y_pred = lg1.predict(X_test)\n",
    "# performance\n",
    "print(f'Confusion Matrix: \\n{confusion_matrix(y_test, y_pred)}')\n",
    "print(f'Accuracy Score: {accuracy_score(y_test,y_pred)}')\n",
    "\n",
    "ax = sns.heatmap(confusion_matrix(y_test, y_pred), annot=True, cmap='Blues')\n",
    "\n",
    "print(f'Area Under Curve: {roc_auc_score(y_test, y_pred)}')\n",
    "print(f'Recall score: {recall_score(y_test,y_pred)}')"
   ]
  },
  {
   "cell_type": "markdown",
   "id": "6d2ff607",
   "metadata": {},
   "source": [
    "# 가중 로지스틱 회귀 분석 -\n",
    "### 데이터 세트에서 레이블 분포는 1:99이므로 가중치를 레이블 분포의 역순으로 지정할 수 있다. 다수석은 1의 가중치를 사용하고 소수석은 99의 가중치를 사용한다."
   ]
  },
  {
   "cell_type": "code",
   "execution_count": 13,
   "id": "835bdc25",
   "metadata": {},
   "outputs": [
    {
     "name": "stdout",
     "output_type": "stream",
     "text": [
      "Confusion Matrix: \n",
      "\n",
      "[[2043 1662]\n",
      " [  83  916]]\n"
     ]
    },
    {
     "data": {
      "image/png": "[encoded data removed]",
      "text/plain": [
       "<Figure size 432x288 with 2 Axes>"
      ]
     },
     "metadata": {
      "needs_background": "light"
     },
     "output_type": "display_data"
    },
    {
     "name": "stdout",
     "output_type": "stream",
     "text": [
      "Accuracy Score: 0.6290391156462585\n",
      "Area Under Curve: 0.7341669604827501\n",
      "Recall score: 0.9169169169169169\n"
     ]
    }
   ],
   "source": [
    "# define class weights\n",
    "w = {0:12, 1:88}\n",
    "# define model\n",
    "lg2 = LogisticRegression(random_state=13, class_weight=w,max_iter=1000)\n",
    "# fit it\n",
    "lg2.fit(X_train,y_train)\n",
    "# test\n",
    "y_pred = lg2.predict(X_test)\n",
    "# performance\n",
    "df2 = confusion_matrix(y_test, y_pred)\n",
    "print(f'Confusion Matrix: \\n')\n",
    "print(df2)\n",
    "cfMatrix(df2)\n",
    "print(f'Accuracy Score: {accuracy_score(y_test,y_pred)}')\n",
    "\n",
    "print(f'Area Under Curve: {roc_auc_score(y_test, y_pred)}')\n",
    "print(f'Recall score: {recall_score(y_test,y_pred)}')"
   ]
  },
  {
   "cell_type": "markdown",
   "id": "c89529b5",
   "metadata": {},
   "source": [
    "## Grid Search/halfingGrid Search를 통해 최적화된 가중치"
   ]
  },
  {
   "cell_type": "code",
   "execution_count": 14,
   "id": "0ef36b05",
   "metadata": {},
   "outputs": [
    {
     "name": "stdout",
     "output_type": "stream",
     "text": [
      "Best score: 0.7965011766398764 with param: {'class_weight': {0: 1.0, 1: 10}}\n"
     ]
    }
   ],
   "source": [
    "w = [{0:100,1:1000},{0:10,1:1000}, {0:0,1:1.1000}, \n",
    "     {0:1.0,1:500}, {0:1.0,1:400}, {0:1.0,1:300}, {0:1.0,1:200}, \n",
    "     {0:1.0,1:150}, {0:1.0,1:100}, {0:1.0,1:99}, {0:1.0,1:10}]\n",
    "hyperparam_grid = {\"class_weight\": w }\n",
    "\n",
    "# define model\n",
    "lg3 = LogisticRegression(random_state=13,max_iter = 2000)\n",
    "# define evaluation procedure\n",
    "halving_cv = HalvingGridSearchCV(\n",
    "    lg3, hyperparam_grid, scoring=\"roc_auc\", n_jobs=-1, \n",
    "    min_resources=\"exhaust\", factor=3\n",
    ")\n",
    "# grid = RandomizedSearchCV(lg3,hyperparam_grid,scoring=\"roc_auc\", cv=100, n_jobs=-1, refit=True)\n",
    "halving_cv.fit(x,y)\n",
    "print(f'Best score: {halving_cv.best_score_} with param: {halving_cv.best_params_}')"
   ]
  },
  {
   "cell_type": "code",
   "execution_count": 15,
   "id": "529a23f7",
   "metadata": {},
   "outputs": [
    {
     "name": "stdout",
     "output_type": "stream",
     "text": [
      "Confusion Matrix: \n",
      "\n",
      "[[1382 2323]\n",
      " [  25  974]]\n"
     ]
    },
    {
     "data": {
      "image/png": "[encoded data removed]",
      "text/plain": [
       "<Figure size 432x288 with 2 Axes>"
      ]
     },
     "metadata": {
      "needs_background": "light"
     },
     "output_type": "display_data"
    },
    {
     "name": "stdout",
     "output_type": "stream",
     "text": [
      "Accuracy Score: 0.5008503401360545\n",
      "Area Under Curve: 0.6739922108343162\n",
      "Recall score: 0.974974974974975\n"
     ]
    }
   ],
   "source": [
    "# Best score: 0.7967468029919662 with param: {'class_weight': {0: 1.0, 1: 10}}\n",
    "lg3 = LogisticRegression(random_state=13, class_weight={0: 1.0, 1: 10},max_iter = 1000)\n",
    "# fit it\n",
    "lg3.fit(X_train,y_train)\n",
    "# test\n",
    "y_pred = lg3.predict(X_test)\n",
    "# performance\n",
    "df3 = confusion_matrix(y_test, y_pred)\n",
    "print(f'Confusion Matrix: \\n')\n",
    "print(df3)\n",
    "cfMatrix(df3)\n",
    "print(f'Accuracy Score: {accuracy_score(y_test,y_pred)}')\n",
    "print(f'Area Under Curve: {roc_auc_score(y_test, y_pred)}')\n",
    "print(f'Recall score: {recall_score(y_test,y_pred)}')"
   ]
  },
  {
   "cell_type": "markdown",
   "id": "6f489fda",
   "metadata": {},
   "source": [
    "###### "
   ]
  },
  {
   "cell_type": "code",
   "execution_count": 16,
   "id": "1ffdb6d3",
   "metadata": {},
   "outputs": [
    {
     "name": "stdout",
     "output_type": "stream",
     "text": [
      "Accuracy Score: 0.501062925170068\n",
      "Confusion Matrix: \n",
      "[[1383 2322]\n",
      " [  25  974]]\n",
      "Area Under Curve: 0.6741271636008478\n",
      "Recall score: 0.974974974974975\n"
     ]
    }
   ],
   "source": [
    "lg4 = LogisticRegression(random_state=13,C=13.0,fit_intercept=True, \n",
    "                         penalty='l2',class_weight={0: 1.0, 1: 10} )\n",
    "# fit it\n",
    "lg4.fit(X_train,y_train)\n",
    "# test\n",
    "y_pred = lg4.predict(X_test)\n",
    "# performance\n",
    "print(f'Accuracy Score: {accuracy_score(y_test,y_pred)}')\n",
    "print(f'Confusion Matrix: \\n{confusion_matrix(y_test, y_pred)}')\n",
    "print(f'Area Under Curve: {roc_auc_score(y_test, y_pred)}') # 0.5\n",
    "print(f'Recall score: {recall_score(y_test,y_pred)}')"
   ]
  },
  {
   "cell_type": "markdown",
   "id": "b22011af",
   "metadata": {},
   "source": [
    "## Resampling"
   ]
  },
  {
   "cell_type": "code",
   "execution_count": 17,
   "id": "4dbdcfcb",
   "metadata": {},
   "outputs": [],
   "source": [
    "cols = X_train.columns\n",
    "\n",
    "from sklearn.preprocessing import StandardScaler\n",
    "scaler = StandardScaler()\n",
    "\n",
    "X_train = scaler.fit_transform(X_train)\n",
    "X_test = scaler.transform(X_test)\n",
    "\n",
    "X_train = pd.DataFrame(X_train,columns=cols)\n",
    "X_test = pd.DataFrame(X_test,columns=cols)"
   ]
  },
  {
   "cell_type": "code",
   "execution_count": 18,
   "id": "5e7f938a",
   "metadata": {},
   "outputs": [],
   "source": [
    "train_data=pd.concat([X_train,y_train],axis=1)\n",
    "\n",
    "Response_Zero=train_data[train_data['class']==0]\n",
    "Response_One=train_data[train_data['class']==1]"
   ]
  },
  {
   "cell_type": "code",
   "execution_count": 19,
   "id": "9ed87c93",
   "metadata": {},
   "outputs": [],
   "source": [
    "#For Sampling\n",
    "from sklearn.utils import resample\n",
    "upsampled_One = resample(Response_One,\n",
    "                          replace=True, # sample with replacement\n",
    "                          n_samples=len(Response_Zero), # match number in majority class\n",
    "                          random_state=27) # reproducible results\n",
    "\n",
    "# combine majority and upsampled minority\n",
    "upsampled = pd.concat([Response_Zero, upsampled_One])\n",
    "upsampled.dropna(inplace = True)"
   ]
  },
  {
   "cell_type": "code",
   "execution_count": 20,
   "id": "7dbbc3fa",
   "metadata": {},
   "outputs": [
    {
     "data": {
      "text/html": [
       "<div>\n",
       "<style scoped>\n",
       "    .dataframe tbody tr th:only-of-type {\n",
       "        vertical-align: middle;\n",
       "    }\n",
       "\n",
       "    .dataframe tbody tr th {\n",
       "        vertical-align: top;\n",
       "    }\n",
       "\n",
       "    .dataframe thead th {\n",
       "        text-align: right;\n",
       "    }\n",
       "</style>\n",
       "<table border=\"1\" class=\"dataframe\">\n",
       "  <thead>\n",
       "    <tr style=\"text-align: right;\">\n",
       "      <th></th>\n",
       "      <th>id</th>\n",
       "      <th>bus</th>\n",
       "      <th>metro</th>\n",
       "      <th>taxi</th>\n",
       "      <th>uni</th>\n",
       "      <th>high</th>\n",
       "      <th>park</th>\n",
       "      <th>cf</th>\n",
       "      <th>bike</th>\n",
       "      <th>pop</th>\n",
       "      <th>class</th>\n",
       "    </tr>\n",
       "  </thead>\n",
       "  <tbody>\n",
       "    <tr>\n",
       "      <th>996</th>\n",
       "      <td>-0.707427</td>\n",
       "      <td>2.072227</td>\n",
       "      <td>-0.016071</td>\n",
       "      <td>-0.316622</td>\n",
       "      <td>-0.175508</td>\n",
       "      <td>0.820025</td>\n",
       "      <td>0.119416</td>\n",
       "      <td>-0.507727</td>\n",
       "      <td>-0.596567</td>\n",
       "      <td>0.295511</td>\n",
       "      <td>0.0</td>\n",
       "    </tr>\n",
       "    <tr>\n",
       "      <th>997</th>\n",
       "      <td>0.242146</td>\n",
       "      <td>-0.837525</td>\n",
       "      <td>-0.430032</td>\n",
       "      <td>-0.316622</td>\n",
       "      <td>-0.175508</td>\n",
       "      <td>-0.479157</td>\n",
       "      <td>-0.448327</td>\n",
       "      <td>-0.507727</td>\n",
       "      <td>-0.596567</td>\n",
       "      <td>-1.029965</td>\n",
       "      <td>0.0</td>\n",
       "    </tr>\n",
       "    <tr>\n",
       "      <th>998</th>\n",
       "      <td>-1.068178</td>\n",
       "      <td>2.072227</td>\n",
       "      <td>-0.430032</td>\n",
       "      <td>-0.316622</td>\n",
       "      <td>-0.175508</td>\n",
       "      <td>0.820025</td>\n",
       "      <td>-0.448327</td>\n",
       "      <td>-0.507727</td>\n",
       "      <td>1.201739</td>\n",
       "      <td>-0.499775</td>\n",
       "      <td>0.0</td>\n",
       "    </tr>\n",
       "    <tr>\n",
       "      <th>999</th>\n",
       "      <td>-0.325209</td>\n",
       "      <td>-0.837525</td>\n",
       "      <td>-0.430032</td>\n",
       "      <td>-0.316622</td>\n",
       "      <td>-0.175508</td>\n",
       "      <td>-0.479157</td>\n",
       "      <td>-0.448327</td>\n",
       "      <td>-0.507727</td>\n",
       "      <td>-0.596567</td>\n",
       "      <td>1.355893</td>\n",
       "      <td>0.0</td>\n",
       "    </tr>\n",
       "    <tr>\n",
       "      <th>1003</th>\n",
       "      <td>-1.265420</td>\n",
       "      <td>-0.837525</td>\n",
       "      <td>-0.430032</td>\n",
       "      <td>-0.316622</td>\n",
       "      <td>-0.175508</td>\n",
       "      <td>-0.479157</td>\n",
       "      <td>1.254902</td>\n",
       "      <td>-0.507727</td>\n",
       "      <td>0.302586</td>\n",
       "      <td>0.295511</td>\n",
       "      <td>0.0</td>\n",
       "    </tr>\n",
       "    <tr>\n",
       "      <th>...</th>\n",
       "      <td>...</td>\n",
       "      <td>...</td>\n",
       "      <td>...</td>\n",
       "      <td>...</td>\n",
       "      <td>...</td>\n",
       "      <td>...</td>\n",
       "      <td>...</td>\n",
       "      <td>...</td>\n",
       "      <td>...</td>\n",
       "      <td>...</td>\n",
       "      <td>...</td>\n",
       "    </tr>\n",
       "    <tr>\n",
       "      <th>3021</th>\n",
       "      <td>1.800394</td>\n",
       "      <td>2.072227</td>\n",
       "      <td>0.811851</td>\n",
       "      <td>-0.316622</td>\n",
       "      <td>-0.175508</td>\n",
       "      <td>-0.046096</td>\n",
       "      <td>1.254902</td>\n",
       "      <td>2.933253</td>\n",
       "      <td>1.201739</td>\n",
       "      <td>0.295511</td>\n",
       "      <td>1.0</td>\n",
       "    </tr>\n",
       "    <tr>\n",
       "      <th>986</th>\n",
       "      <td>0.823866</td>\n",
       "      <td>0.908326</td>\n",
       "      <td>-0.430032</td>\n",
       "      <td>-0.316622</td>\n",
       "      <td>-0.175508</td>\n",
       "      <td>-0.479157</td>\n",
       "      <td>-0.448327</td>\n",
       "      <td>2.933253</td>\n",
       "      <td>-0.596567</td>\n",
       "      <td>1.355893</td>\n",
       "      <td>1.0</td>\n",
       "    </tr>\n",
       "    <tr>\n",
       "      <th>8185</th>\n",
       "      <td>0.924908</td>\n",
       "      <td>-0.837525</td>\n",
       "      <td>-0.430032</td>\n",
       "      <td>-0.316622</td>\n",
       "      <td>-0.175508</td>\n",
       "      <td>-0.479157</td>\n",
       "      <td>-0.448327</td>\n",
       "      <td>-0.507727</td>\n",
       "      <td>-0.596567</td>\n",
       "      <td>-0.499775</td>\n",
       "      <td>1.0</td>\n",
       "    </tr>\n",
       "    <tr>\n",
       "      <th>3954</th>\n",
       "      <td>-1.063497</td>\n",
       "      <td>2.072227</td>\n",
       "      <td>-0.430032</td>\n",
       "      <td>-0.316622</td>\n",
       "      <td>-0.175508</td>\n",
       "      <td>-0.479157</td>\n",
       "      <td>-0.448327</td>\n",
       "      <td>-0.507727</td>\n",
       "      <td>1.201739</td>\n",
       "      <td>0.295511</td>\n",
       "      <td>1.0</td>\n",
       "    </tr>\n",
       "    <tr>\n",
       "      <th>4486</th>\n",
       "      <td>1.112466</td>\n",
       "      <td>-0.837525</td>\n",
       "      <td>-0.430032</td>\n",
       "      <td>-0.316622</td>\n",
       "      <td>-0.175508</td>\n",
       "      <td>-0.046096</td>\n",
       "      <td>-0.448327</td>\n",
       "      <td>-0.507727</td>\n",
       "      <td>-0.596567</td>\n",
       "      <td>-1.029965</td>\n",
       "      <td>1.0</td>\n",
       "    </tr>\n",
       "  </tbody>\n",
       "</table>\n",
       "<p>12352 rows × 11 columns</p>\n",
       "</div>"
      ],
      "text/plain": [
       "            id       bus     metro      taxi       uni      high      park  \\\n",
       "996  -0.707427  2.072227 -0.016071 -0.316622 -0.175508  0.820025  0.119416   \n",
       "997   0.242146 -0.837525 -0.430032 -0.316622 -0.175508 -0.479157 -0.448327   \n",
       "998  -1.068178  2.072227 -0.430032 -0.316622 -0.175508  0.820025 -0.448327   \n",
       "999  -0.325209 -0.837525 -0.430032 -0.316622 -0.175508 -0.479157 -0.448327   \n",
       "1003 -1.265420 -0.837525 -0.430032 -0.316622 -0.175508 -0.479157  1.254902   \n",
       "...        ...       ...       ...       ...       ...       ...       ...   \n",
       "3021  1.800394  2.072227  0.811851 -0.316622 -0.175508 -0.046096  1.254902   \n",
       "986   0.823866  0.908326 -0.430032 -0.316622 -0.175508 -0.479157 -0.448327   \n",
       "8185  0.924908 -0.837525 -0.430032 -0.316622 -0.175508 -0.479157 -0.448327   \n",
       "3954 -1.063497  2.072227 -0.430032 -0.316622 -0.175508 -0.479157 -0.448327   \n",
       "4486  1.112466 -0.837525 -0.430032 -0.316622 -0.175508 -0.046096 -0.448327   \n",
       "\n",
       "            cf      bike       pop  class  \n",
       "996  -0.507727 -0.596567  0.295511    0.0  \n",
       "997  -0.507727 -0.596567 -1.029965    0.0  \n",
       "998  -0.507727  1.201739 -0.499775    0.0  \n",
       "999  -0.507727 -0.596567  1.355893    0.0  \n",
       "1003 -0.507727  0.302586  0.295511    0.0  \n",
       "...        ...       ...       ...    ...  \n",
       "3021  2.933253  1.201739  0.295511    1.0  \n",
       "986   2.933253 -0.596567  1.355893    1.0  \n",
       "8185 -0.507727 -0.596567 -0.499775    1.0  \n",
       "3954 -0.507727  1.201739  0.295511    1.0  \n",
       "4486 -0.507727 -0.596567 -1.029965    1.0  \n",
       "\n",
       "[12352 rows x 11 columns]"
      ]
     },
     "execution_count": 20,
     "metadata": {},
     "output_type": "execute_result"
    }
   ],
   "source": [
    "upsampled"
   ]
  },
  {
   "cell_type": "code",
   "execution_count": 21,
   "id": "8ffa1505",
   "metadata": {},
   "outputs": [
    {
     "data": {
      "text/html": [
       "<div>\n",
       "<style scoped>\n",
       "    .dataframe tbody tr th:only-of-type {\n",
       "        vertical-align: middle;\n",
       "    }\n",
       "\n",
       "    .dataframe tbody tr th {\n",
       "        vertical-align: top;\n",
       "    }\n",
       "\n",
       "    .dataframe thead th {\n",
       "        text-align: right;\n",
       "    }\n",
       "</style>\n",
       "<table border=\"1\" class=\"dataframe\">\n",
       "  <thead>\n",
       "    <tr style=\"text-align: right;\">\n",
       "      <th></th>\n",
       "      <th>class</th>\n",
       "      <th>Value Count</th>\n",
       "      <th>Percentage</th>\n",
       "    </tr>\n",
       "  </thead>\n",
       "  <tbody>\n",
       "    <tr>\n",
       "      <th>0</th>\n",
       "      <td>1.0</td>\n",
       "      <td>6535</td>\n",
       "      <td>0.529064</td>\n",
       "    </tr>\n",
       "    <tr>\n",
       "      <th>1</th>\n",
       "      <td>0.0</td>\n",
       "      <td>5817</td>\n",
       "      <td>0.470936</td>\n",
       "    </tr>\n",
       "  </tbody>\n",
       "</table>\n",
       "</div>"
      ],
      "text/plain": [
       "   class  Value Count  Percentage\n",
       "0    1.0         6535    0.529064\n",
       "1    0.0         5817    0.470936"
      ]
     },
     "metadata": {},
     "output_type": "display_data"
    },
    {
     "data": {
      "text/plain": [
       "<AxesSubplot:xlabel='class'>"
      ]
     },
     "execution_count": 21,
     "metadata": {},
     "output_type": "execute_result"
    },
    {
     "data": {
      "image/png": "[encoded data removed]",
      "text/plain": [
       "<Figure size 360x360 with 1 Axes>"
      ]
     },
     "metadata": {
      "needs_background": "light"
     },
     "output_type": "display_data"
    }
   ],
   "source": [
    "target_count = val_count_df(upsampled, \"class\")\n",
    "display(target_count)\n",
    "target_count.set_index(\"class\").plot.bar(y=\"Percentage\", figsize=(5,5), legend='Percentage')"
   ]
  },
  {
   "cell_type": "code",
   "execution_count": 22,
   "id": "496de7f2",
   "metadata": {},
   "outputs": [
    {
     "name": "stdout",
     "output_type": "stream",
     "text": [
      "Accuracy Score: 0.521046950890448\n",
      "Confusion Matrix: \n",
      "[[ 138 1644]\n",
      " [ 131 1793]]\n",
      "Area Under Curve: 0.5046768796768797\n",
      "Recall score: 0.931912681912682\n"
     ]
    }
   ],
   "source": [
    "x = upsampled.drop('class',axis=1)\n",
    "y = upsampled['class']\n",
    "# train-test split\n",
    "X_train, X_test, y_train, y_test = train_test_split(x, y, test_size=0.3, random_state=13)\n",
    "\n",
    "lg4 = LogisticRegression(random_state=13, max_iter = 1000)\n",
    "# fit it\n",
    "\n",
    "lg4.fit(X_train,y_train)\n",
    "# test\n",
    "y_pred = lg4.predict(X_test)\n",
    "# performance\n",
    "print(f'Accuracy Score: {accuracy_score(y_test,y_pred)}')\n",
    "print(f'Confusion Matrix: \\n{confusion_matrix(y_test, y_pred)}')\n",
    "print(f'Area Under Curve: {roc_auc_score(y_test, y_pred)}') # 0.5\n",
    "print(f'Recall score: {recall_score(y_test,y_pred)}')"
   ]
  },
  {
   "cell_type": "markdown",
   "id": "37ddc9f7",
   "metadata": {},
   "source": [
    "## SMOTE "
   ]
  },
  {
   "cell_type": "code",
   "execution_count": 23,
   "id": "727325a5",
   "metadata": {},
   "outputs": [],
   "source": [
    "lg5 = LogisticRegression(random_state=13,class_weight={0:89, 1: 21})\n",
    "smote_pipeline = make_pipeline_imb(SMOTE(random_state=4), lg5)"
   ]
  },
  {
   "cell_type": "code",
   "execution_count": 24,
   "id": "b8b2b515",
   "metadata": {},
   "outputs": [],
   "source": [
    "x = df.drop('class',axis=1)\n",
    "y = df['class']\n",
    "# train-test split\n",
    "X_train, X_test, y_train, y_test = train_test_split(x, y, test_size=0.3, random_state=13)\n",
    "smote_model = smote_pipeline.fit(X_train, y_train)"
   ]
  },
  {
   "cell_type": "code",
   "execution_count": 25,
   "id": "e551410d",
   "metadata": {},
   "outputs": [],
   "source": [
    "smote_prediction = smote_model.predict(X_test)"
   ]
  },
  {
   "cell_type": "code",
   "execution_count": 26,
   "id": "9415a224",
   "metadata": {},
   "outputs": [
    {
     "name": "stdout",
     "output_type": "stream",
     "text": [
      "normal data distribution: Counter({0: 12275, 1: 3402})\n",
      "SMOTE data distribution: Counter({1: 12275, 0: 12275})\n"
     ]
    }
   ],
   "source": [
    "print(\"normal data distribution: {}\".format(Counter(y)))\n",
    "X_smote, y_smote = SMOTE().fit_resample(x, y)\n",
    "\n",
    "print(\"SMOTE data distribution: {}\".format(Counter(y_smote)))"
   ]
  },
  {
   "cell_type": "code",
   "execution_count": 27,
   "id": "922b9473",
   "metadata": {},
   "outputs": [
    {
     "name": "stdout",
     "output_type": "stream",
     "text": [
      "Accuracy Score: 0.7971938775510204\n",
      "Confusion Matrix: \n",
      "[[3442  263]\n",
      " [ 691  308]]\n",
      "Area Under Curve: 0.6186615765563134\n",
      "Recall score: 0.3083083083083083\n"
     ]
    }
   ],
   "source": [
    "print(f'Accuracy Score: {accuracy_score(y_test,smote_prediction)}')\n",
    "print(f'Confusion Matrix: \\n{confusion_matrix(y_test, smote_prediction)}')\n",
    "print(f'Area Under Curve: {roc_auc_score(y_test, smote_prediction)}') # 0.5\n",
    "print(f'Recall score: {recall_score(y_test,smote_prediction)}')"
   ]
  },
  {
   "cell_type": "markdown",
   "id": "93f0085c",
   "metadata": {},
   "source": [
    "## 오버샘플링 후 모델 적용"
   ]
  },
  {
   "cell_type": "code",
   "execution_count": 34,
   "id": "4c82bd7a",
   "metadata": {},
   "outputs": [],
   "source": [
    "from sklearn.tree import DecisionTreeClassifier\n",
    "from sklearn.ensemble import RandomForestClassifier\n",
    "from sklearn.linear_model import LogisticRegression\n",
    "from sklearn.svm import SVC\n",
    "from sklearn.metrics import accuracy_score\n",
    "\n",
    "from sklearn.model_selection import KFold"
   ]
  },
  {
   "cell_type": "code",
   "execution_count": 32,
   "id": "d59dd359",
   "metadata": {},
   "outputs": [],
   "source": [
    "# train_test data split\n",
    "data = ['bus', 'metro', 'taxi', 'uni', \n",
    "        'high', 'park', 'cf', 'bike', 'pop']\n",
    "\n",
    "X_train, X_test, y_train, y_test = train_test_split(\n",
    "    X_smote[data], # 문제\n",
    "    y_smote, # 정답\n",
    "    test_size = 0.3, # test-size비율\n",
    "    random_state = 200 # 시드값 설정\n",
    ")"
   ]
  },
  {
   "cell_type": "code",
   "execution_count": 35,
   "id": "6b777356",
   "metadata": {},
   "outputs": [],
   "source": [
    "df_clf = DecisionTreeClassifier(random_state=11)\n",
    "rf_clf = RandomForestClassifier(random_state=11)\n",
    "svc_clf = SVC()\n",
    "clf_list = [df_clf, rf_clf, svc_clf]"
   ]
  },
  {
   "cell_type": "code",
   "execution_count": 40,
   "id": "ac82de52",
   "metadata": {},
   "outputs": [],
   "source": [
    "def exec_kfold(df, clf, k):\n",
    "    acc_list = []\n",
    "    kfold = KFold(n_splits=k)\n",
    "    for i, (train_index, test_index) in enumerate(kfold.split(df[data])):\n",
    "        X_train2,X_test2 = X_smote[data].values[train_index], df[data].values[test_index]\n",
    "        y_train2,y_test2 = y_smote.values[train_index],y_smote.values[test_index]\n",
    "        \n",
    "        clf.fit(X_train2, y_train2)\n",
    "        pred2 = clf.predict(X_test2)\n",
    "        acc = accuracy_score(y_test2, pred2)\n",
    "        acc_list.append(acc)\n",
    "        print(i , ': 교차검증 정확도>> {0:.2f}'.format(acc))\n",
    "    print('평균 정확도>> {0:.2f}'.format(np.mean(acc_list)))\n",
    "    return np.mean(acc_list)"
   ]
  },
  {
   "cell_type": "code",
   "execution_count": 41,
   "id": "4823e59b",
   "metadata": {},
   "outputs": [
    {
     "name": "stdout",
     "output_type": "stream",
     "text": [
      "decision tree ----검증시작----\n",
      "0 : 교차검증 정확도>> 0.62\n",
      "1 : 교차검증 정확도>> 0.79\n",
      "2 : 교차검증 정확도>> 0.74\n",
      "3 : 교차검증 정확도>> 0.82\n",
      "4 : 교차검증 정확도>> 0.78\n",
      "5 : 교차검증 정확도>> 0.73\n",
      "6 : 교차검증 정확도>> 0.95\n",
      "7 : 교차검증 정확도>> 0.97\n",
      "8 : 교차검증 정확도>> 0.98\n",
      "9 : 교차검증 정확도>> 0.98\n",
      "평균 정확도>> 0.84\n",
      "random forest ----검증시작----\n",
      "0 : 교차검증 정확도>> 0.65\n",
      "1 : 교차검증 정확도>> 0.80\n",
      "2 : 교차검증 정확도>> 0.76\n",
      "3 : 교차검증 정확도>> 0.82\n",
      "4 : 교차검증 정확도>> 0.81\n",
      "5 : 교차검증 정확도>> 0.75\n",
      "6 : 교차검증 정확도>> 0.96\n",
      "7 : 교차검증 정확도>> 0.99\n",
      "8 : 교차검증 정확도>> 0.99\n",
      "9 : 교차검증 정확도>> 0.99\n",
      "평균 정확도>> 0.85\n",
      "svm ----검증시작----\n",
      "0 : 교차검증 정확도>> 0.75\n",
      "1 : 교차검증 정확도>> 0.73\n",
      "2 : 교차검증 정확도>> 0.62\n",
      "3 : 교차검증 정확도>> 0.74\n",
      "4 : 교차검증 정확도>> 0.76\n",
      "5 : 교차검증 정확도>> 0.60\n",
      "6 : 교차검증 정확도>> 0.86\n",
      "7 : 교차검증 정확도>> 0.83\n",
      "8 : 교차검증 정확도>> 0.82\n",
      "9 : 교차검증 정확도>> 0.84\n",
      "평균 정확도>> 0.75\n"
     ]
    }
   ],
   "source": [
    "acc_total = []\n",
    "model_list = ['decision tree', 'random forest', 'svm']\n",
    "for i, clf in enumerate(clf_list):\n",
    "    print(model_list[i], '----검증시작----')\n",
    "    acc_result = exec_kfold(X_smote, clf, 10)\n",
    "    acc_total.append(acc_result)"
   ]
  },
  {
   "cell_type": "code",
   "execution_count": 42,
   "id": "be54ce69",
   "metadata": {},
   "outputs": [
    {
     "name": "stdout",
     "output_type": "stream",
     "text": [
      "decision tree  교차검증 평균:  0.8361303462321793\n",
      "random forest  교차검증 평균:  0.8526272912423625\n",
      "svm  교차검증 평균:  0.7548676171079429\n"
     ]
    }
   ],
   "source": [
    "for i in range(3):\n",
    "    print(model_list[i], \" 교차검증 평균: \", acc_total[i])"
   ]
  },
  {
   "cell_type": "code",
   "execution_count": 43,
   "id": "3695b585",
   "metadata": {},
   "outputs": [
    {
     "name": "stdout",
     "output_type": "stream",
     "text": [
      "최고 교차 검증 평균>>  0.8526272912423625\n",
      "최고 교차 검증 인덱스>>  1\n",
      "최고 교차 검증 모델링>>  random forest\n"
     ]
    }
   ],
   "source": [
    "# 최대 평균값 ==\n",
    "max_value = np.max(acc_total)\n",
    "# 최대 평균값 인덱스 ==\n",
    "max_index = np.argmax(acc_total)\n",
    "# 최대 평균값 모델명 ==\n",
    "max_model = model_list[max_index]\n",
    "\n",
    "print('최고 교차 검증 평균>> ', max_value)\n",
    "print('최고 교차 검증 인덱스>> ', max_index)\n",
    "print('최고 교차 검증 모델링>> ', max_model)"
   ]
  },
  {
   "cell_type": "code",
   "execution_count": 44,
   "id": "1b18424b",
   "metadata": {},
   "outputs": [],
   "source": [
    "def add_value_label(x_list,y_list):\n",
    "    for i in range(1, len(x_list)+1):\n",
    "        plt.text(i-1,y_list[i-1],y_list[i-1], \n",
    "                 fontsize=15,\n",
    "                 color=\"blue\",\n",
    "                 ha=\"center\")"
   ]
  },
  {
   "cell_type": "code",
   "execution_count": 45,
   "id": "790c6961",
   "metadata": {},
   "outputs": [
    {
     "data": {
      "image/png": "[encoded data removed]",
      "text/plain": [
       "<Figure size 432x288 with 1 Axes>"
      ]
     },
     "metadata": {
      "needs_background": "light"
     },
     "output_type": "display_data"
    }
   ],
   "source": [
    "plt.bar(np.arange(len(acc_total)), \n",
    "        acc_total,color = ['yellow', 'cyan', 'pink'], alpha = 0.5,\n",
    "        edgecolor = 'black', linewidth = 2.5)\n",
    "plt.xticks(np.arange(len(acc_total)), model_list, fontsize=12)\n",
    "plt.xlabel('model', fontsize=12)\n",
    "plt.ylabel('avg score', fontsize=12)\n",
    "add_value_label(model_list, np.round(acc_total, 3))\n",
    "plt.show()"
   ]
  },
  {
   "cell_type": "code",
   "execution_count": null,
   "id": "3bb7ebc9",
   "metadata": {},
   "outputs": [],
   "source": []
  }
 ],
 "metadata": {
  "kernelspec": {
   "display_name": "Python 3 (ipykernel)",
   "language": "python",
   "name": "python3"
  },
  "language_info": {
   "codemirror_mode": {
    "name": "ipython",
    "version": 3
   },
   "file_extension": ".py",
   "mimetype": "text/x-python",
   "name": "python",
   "nbconvert_exporter": "python",
   "pygments_lexer": "ipython3",
   "version": "3.9.12"
  }
 },
 "nbformat": 4,
 "nbformat_minor": 5
}
