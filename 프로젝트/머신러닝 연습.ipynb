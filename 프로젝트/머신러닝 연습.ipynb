{
 "cells": [
  {
   "cell_type": "code",
   "execution_count": 1,
   "id": "8de00802",
   "metadata": {},
   "outputs": [],
   "source": [
    "import warnings\n",
    "warnings.filterwarnings(action='ignore')\n",
    "import numpy as np\n",
    "import pandas as pd\n",
    "import matplotlib.pyplot as plt\n",
    "import seaborn as sns\n",
    "from sklearn.preprocessing import LabelEncoder\n",
    "%matplotlib inline\n",
    "from sklearn.model_selection import train_test_split\n",
    "from sklearn.tree import DecisionTreeClassifier\n",
    "from sklearn.ensemble import RandomForestClassifier\n",
    "from sklearn.linear_model import LogisticRegression\n",
    "from sklearn.svm import SVC\n",
    "from sklearn.metrics import accuracy_score, precision_score, recall_score, confusion_matrix, f1_score \n",
    "\n",
    "from sklearn.model_selection import KFold"
   ]
  },
  {
   "cell_type": "code",
   "execution_count": 2,
   "id": "31b985ce",
   "metadata": {},
   "outputs": [
    {
     "data": {
      "text/html": [
       "<div>\n",
       "<style scoped>\n",
       "    .dataframe tbody tr th:only-of-type {\n",
       "        vertical-align: middle;\n",
       "    }\n",
       "\n",
       "    .dataframe tbody tr th {\n",
       "        vertical-align: top;\n",
       "    }\n",
       "\n",
       "    .dataframe thead th {\n",
       "        text-align: right;\n",
       "    }\n",
       "</style>\n",
       "<table border=\"1\" class=\"dataframe\">\n",
       "  <thead>\n",
       "    <tr style=\"text-align: right;\">\n",
       "      <th></th>\n",
       "      <th>id</th>\n",
       "      <th>버정평균점수</th>\n",
       "      <th>지하철평균점수</th>\n",
       "      <th>택정평균점수</th>\n",
       "      <th>공원평균점수</th>\n",
       "      <th>대학평균점수</th>\n",
       "      <th>고등학교평균점수</th>\n",
       "      <th>문화평균점수</th>\n",
       "      <th>따릉이평균점수</th>\n",
       "      <th>인구수점수</th>\n",
       "      <th>class</th>\n",
       "    </tr>\n",
       "  </thead>\n",
       "  <tbody>\n",
       "    <tr>\n",
       "      <th>0</th>\n",
       "      <td>28208</td>\n",
       "      <td>0.0</td>\n",
       "      <td>0.0</td>\n",
       "      <td>0.0</td>\n",
       "      <td>0.0</td>\n",
       "      <td>0.0</td>\n",
       "      <td>0.0</td>\n",
       "      <td>0.0</td>\n",
       "      <td>0.0</td>\n",
       "      <td>0.0</td>\n",
       "      <td>0</td>\n",
       "    </tr>\n",
       "    <tr>\n",
       "      <th>1</th>\n",
       "      <td>28207</td>\n",
       "      <td>0.0</td>\n",
       "      <td>0.0</td>\n",
       "      <td>0.0</td>\n",
       "      <td>0.0</td>\n",
       "      <td>0.0</td>\n",
       "      <td>0.0</td>\n",
       "      <td>0.0</td>\n",
       "      <td>0.0</td>\n",
       "      <td>1.5</td>\n",
       "      <td>0</td>\n",
       "    </tr>\n",
       "  </tbody>\n",
       "</table>\n",
       "</div>"
      ],
      "text/plain": [
       "      id  버정평균점수  지하철평균점수  택정평균점수  공원평균점수  대학평균점수  고등학교평균점수  문화평균점수  따릉이평균점수  \\\n",
       "0  28208     0.0      0.0     0.0     0.0     0.0       0.0     0.0      0.0   \n",
       "1  28207     0.0      0.0     0.0     0.0     0.0       0.0     0.0      0.0   \n",
       "\n",
       "   인구수점수  class  \n",
       "0    0.0      0  \n",
       "1    1.5      0  "
      ]
     },
     "execution_count": 2,
     "metadata": {},
     "output_type": "execute_result"
    }
   ],
   "source": [
    "titanic_df = pd.read_csv('C:/Users/user/Desktop/프로젝트 data/최적입지_변수_총합(용산적용전).csv', encoding='euckr')\n",
    "titanic_df.head(2)"
   ]
  },
  {
   "cell_type": "code",
   "execution_count": 3,
   "id": "65b58bc7",
   "metadata": {},
   "outputs": [
    {
     "name": "stdout",
     "output_type": "stream",
     "text": [
      "<class 'pandas.core.frame.DataFrame'>\n",
      "RangeIndex: 15677 entries, 0 to 15676\n",
      "Data columns (total 11 columns):\n",
      " #   Column    Non-Null Count  Dtype  \n",
      "---  ------    --------------  -----  \n",
      " 0   id        15677 non-null  int64  \n",
      " 1   버정평균점수    15677 non-null  float64\n",
      " 2   지하철평균점수   15677 non-null  float64\n",
      " 3   택정평균점수    15677 non-null  float64\n",
      " 4   공원평균점수    15677 non-null  float64\n",
      " 5   대학평균점수    15677 non-null  float64\n",
      " 6   고등학교평균점수  15677 non-null  float64\n",
      " 7   문화평균점수    15677 non-null  float64\n",
      " 8   따릉이평균점수   15677 non-null  float64\n",
      " 9   인구수점수     15677 non-null  float64\n",
      " 10  class     15677 non-null  int64  \n",
      "dtypes: float64(9), int64(2)\n",
      "memory usage: 1.3 MB\n"
     ]
    }
   ],
   "source": [
    "titanic_df.info()"
   ]
  },
  {
   "cell_type": "code",
   "execution_count": null,
   "id": "d8499ad5",
   "metadata": {},
   "outputs": [],
   "source": []
  },
  {
   "cell_type": "code",
   "execution_count": 4,
   "id": "c631d23c",
   "metadata": {},
   "outputs": [],
   "source": [
    "# train_test data split\n",
    "data = ['버정평균점수', '지하철평균점수', '택정평균점수', '공원평균점수', \n",
    "        '대학평균점수', '고등학교평균점수', '문화평균점수', '따릉이평균점수', '인구수점수']\n",
    "X_train, X_test, y_train, y_test = train_test_split(\n",
    "    titanic_df[data], # 문제\n",
    "    titanic_df['class'], # 정답\n",
    "    test_size = 0.2, # test-size비율\n",
    "    random_state = 200 # 시드값 설정\n",
    ")"
   ]
  },
  {
   "cell_type": "code",
   "execution_count": 5,
   "id": "1c9578a7",
   "metadata": {},
   "outputs": [],
   "source": [
    "df_clf = DecisionTreeClassifier(random_state=11)\n",
    "rf_clf = RandomForestClassifier(random_state=11)\n",
    "svc_clf = SVC()\n",
    "clf_list = [df_clf, rf_clf, svc_clf]"
   ]
  },
  {
   "cell_type": "code",
   "execution_count": 6,
   "id": "d90e94ee",
   "metadata": {},
   "outputs": [],
   "source": [
    "def exec_kfold(df, clf, k):\n",
    "    acc_list = []\n",
    "    kfold = KFold(n_splits=k)\n",
    "    for i, (train_index, test_index) in enumerate(kfold.split(df[data])):\n",
    "        X_train2,X_test2 = df[data].values[train_index], df[data].values[test_index]\n",
    "        y_train2,y_test2 = df['class'].values[train_index],df['class'].values[test_index]\n",
    "        \n",
    "        clf.fit(X_train2, y_train2)\n",
    "        pred2 = clf.predict(X_test2)\n",
    "        acc = accuracy_score(y_test2, pred2)\n",
    "        acc_list.append(acc)\n",
    "        print(i , ': 교차검증 정확도>> {0:.2f}'.format(acc))\n",
    "    print('평균 정확도>> {0:.2f}'.format(np.mean(acc_list)))\n",
    "    return np.mean(acc_list)"
   ]
  },
  {
   "cell_type": "code",
   "execution_count": 7,
   "id": "71a49dcd",
   "metadata": {},
   "outputs": [
    {
     "name": "stdout",
     "output_type": "stream",
     "text": [
      "decision tree ----검증시작----\n",
      "0 : 교차검증 정확도>> 0.87\n",
      "1 : 교차검증 정확도>> 0.92\n",
      "2 : 교차검증 정확도>> 0.88\n",
      "3 : 교차검증 정확도>> 0.88\n",
      "4 : 교차검증 정확도>> 0.91\n",
      "5 : 교차검증 정확도>> 0.92\n",
      "6 : 교차검증 정확도>> 0.89\n",
      "7 : 교차검증 정확도>> 0.87\n",
      "8 : 교차검증 정확도>> 0.89\n",
      "9 : 교차검증 정확도>> 0.93\n",
      "평균 정확도>> 0.90\n",
      "random forest ----검증시작----\n",
      "0 : 교차검증 정확도>> 0.90\n",
      "1 : 교차검증 정확도>> 0.93\n",
      "2 : 교차검증 정확도>> 0.91\n",
      "3 : 교차검증 정확도>> 0.92\n",
      "4 : 교차검증 정확도>> 0.95\n",
      "5 : 교차검증 정확도>> 0.95\n",
      "6 : 교차검증 정확도>> 0.92\n",
      "7 : 교차검증 정확도>> 0.90\n",
      "8 : 교차검증 정확도>> 0.92\n",
      "9 : 교차검증 정확도>> 0.96\n",
      "평균 정확도>> 0.93\n",
      "svm ----검증시작----\n",
      "0 : 교차검증 정확도>> 0.91\n",
      "1 : 교차검증 정확도>> 0.95\n",
      "2 : 교차검증 정확도>> 0.93\n",
      "3 : 교차검증 정확도>> 0.93\n",
      "4 : 교차검증 정확도>> 0.96\n",
      "5 : 교차검증 정확도>> 0.96\n",
      "6 : 교차검증 정확도>> 0.93\n",
      "7 : 교차검증 정확도>> 0.90\n",
      "8 : 교차검증 정확도>> 0.93\n",
      "9 : 교차검증 정확도>> 0.96\n",
      "평균 정확도>> 0.94\n"
     ]
    }
   ],
   "source": [
    "acc_total = []\n",
    "model_list = ['decision tree', 'random forest', 'svm']\n",
    "for i, clf in enumerate(clf_list):\n",
    "    print(model_list[i], '----검증시작----')\n",
    "    acc_result = exec_kfold(titanic_df, clf, 10)\n",
    "    acc_total.append(acc_result)"
   ]
  },
  {
   "cell_type": "code",
   "execution_count": 8,
   "id": "7427d4b4",
   "metadata": {},
   "outputs": [
    {
     "name": "stdout",
     "output_type": "stream",
     "text": [
      "decision tree  교차검증 평균:  0.8966001995884506\n",
      "random forest  교차검증 평균:  0.9267714288970217\n",
      "svm  교차검증 평균:  0.9364667309169998\n"
     ]
    }
   ],
   "source": [
    "for i in range(3):\n",
    "    print(model_list[i], \" 교차검증 평균: \", acc_total[i])"
   ]
  },
  {
   "cell_type": "code",
   "execution_count": 9,
   "id": "abfcff97",
   "metadata": {},
   "outputs": [
    {
     "name": "stdout",
     "output_type": "stream",
     "text": [
      "최고 교차 검증 평균>>  0.9364667309169998\n",
      "최고 교차 검증 인덱스>>  2\n",
      "최고 교차 검증 모델링>>  svm\n"
     ]
    }
   ],
   "source": [
    "# 최대 평균값 ==\n",
    "max_value = np.max(acc_total)\n",
    "# 최대 평균값 인덱스 ==\n",
    "max_index = np.argmax(acc_total)\n",
    "# 최대 평균값 모델명 ==\n",
    "max_model = model_list[max_index]\n",
    "\n",
    "print('최고 교차 검증 평균>> ', max_value)\n",
    "print('최고 교차 검증 인덱스>> ', max_index)\n",
    "print('최고 교차 검증 모델링>> ', max_model)"
   ]
  },
  {
   "cell_type": "code",
   "execution_count": 69,
   "id": "062cd1ff",
   "metadata": {},
   "outputs": [
    {
     "data": {
      "image/png": "[encoded data removed]",
      "text/plain": [
       "<Figure size 432x288 with 1 Axes>"
      ]
     },
     "metadata": {
      "needs_background": "light"
     },
     "output_type": "display_data"
    }
   ],
   "source": [
    "plt.bar(np.arange(len(acc_total)), \n",
    "        acc_total,color = ['yellow', 'cyan', 'pink'], alpha = 0.5,\n",
    "        edgecolor = 'black', linewidth = 2.5)\n",
    "plt.xticks(np.arange(len(acc_total)), model_list, fontsize=12)\n",
    "plt.xlabel('model', fontsize=12)\n",
    "plt.ylabel('avg score', fontsize=12)\n",
    "add_value_label(model_list, np.round(acc_total, 3))\n",
    "plt.show()"
   ]
  },
  {
   "cell_type": "code",
   "execution_count": 48,
   "id": "912dbbbb",
   "metadata": {},
   "outputs": [
    {
     "data": {
      "text/plain": [
       "[0.8966001995884506, 0.9267714288970217, 0.9364667309169998]"
      ]
     },
     "execution_count": 48,
     "metadata": {},
     "output_type": "execute_result"
    }
   ],
   "source": [
    "acc_total"
   ]
  },
  {
   "cell_type": "code",
   "execution_count": 65,
   "id": "745c14e2",
   "metadata": {},
   "outputs": [],
   "source": [
    "def add_value_label(x_list,y_list):\n",
    "    for i in range(1, len(x_list)+1):\n",
    "        plt.text(i-1,y_list[i-1],y_list[i-1], \n",
    "                 fontsize=15,\n",
    "                 color=\"blue\",\n",
    "                 ha=\"center\")"
   ]
  },
  {
   "cell_type": "code",
   "execution_count": null,
   "id": "8e3eba31",
   "metadata": {},
   "outputs": [],
   "source": []
  },
  {
   "cell_type": "code",
   "execution_count": null,
   "id": "5a150fd9",
   "metadata": {},
   "outputs": [],
   "source": []
  },
  {
   "cell_type": "code",
   "execution_count": 83,
   "id": "0b66b0ef",
   "metadata": {},
   "outputs": [],
   "source": [
    "from sklearn.metrics import f1_score"
   ]
  },
  {
   "cell_type": "markdown",
   "id": "244cb52f",
   "metadata": {},
   "source": [
    "# 3000개 추가"
   ]
  },
  {
   "cell_type": "code",
   "execution_count": 72,
   "id": "5a0ca99c",
   "metadata": {},
   "outputs": [
    {
     "data": {
      "text/html": [
       "<div>\n",
       "<style scoped>\n",
       "    .dataframe tbody tr th:only-of-type {\n",
       "        vertical-align: middle;\n",
       "    }\n",
       "\n",
       "    .dataframe tbody tr th {\n",
       "        vertical-align: top;\n",
       "    }\n",
       "\n",
       "    .dataframe thead th {\n",
       "        text-align: right;\n",
       "    }\n",
       "</style>\n",
       "<table border=\"1\" class=\"dataframe\">\n",
       "  <thead>\n",
       "    <tr style=\"text-align: right;\">\n",
       "      <th></th>\n",
       "      <th>id</th>\n",
       "      <th>bus</th>\n",
       "      <th>metro</th>\n",
       "      <th>taxi</th>\n",
       "      <th>uni</th>\n",
       "      <th>high</th>\n",
       "      <th>park</th>\n",
       "      <th>cf</th>\n",
       "      <th>bike</th>\n",
       "      <th>pop</th>\n",
       "      <th>class</th>\n",
       "    </tr>\n",
       "  </thead>\n",
       "  <tbody>\n",
       "    <tr>\n",
       "      <th>0</th>\n",
       "      <td>27900</td>\n",
       "      <td>0.75</td>\n",
       "      <td>0.00</td>\n",
       "      <td>0.0</td>\n",
       "      <td>0.0</td>\n",
       "      <td>0.0</td>\n",
       "      <td>0.0</td>\n",
       "      <td>0.0</td>\n",
       "      <td>0.0</td>\n",
       "      <td>1.5</td>\n",
       "      <td>1</td>\n",
       "    </tr>\n",
       "    <tr>\n",
       "      <th>1</th>\n",
       "      <td>27896</td>\n",
       "      <td>0.75</td>\n",
       "      <td>0.25</td>\n",
       "      <td>0.0</td>\n",
       "      <td>0.0</td>\n",
       "      <td>0.0</td>\n",
       "      <td>0.0</td>\n",
       "      <td>0.0</td>\n",
       "      <td>0.0</td>\n",
       "      <td>1.5</td>\n",
       "      <td>1</td>\n",
       "    </tr>\n",
       "  </tbody>\n",
       "</table>\n",
       "</div>"
      ],
      "text/plain": [
       "      id   bus  metro  taxi  uni  high  park   cf  bike  pop  class\n",
       "0  27900  0.75   0.00   0.0  0.0   0.0   0.0  0.0   0.0  1.5      1\n",
       "1  27896  0.75   0.25   0.0  0.0   0.0   0.0  0.0   0.0  1.5      1"
      ]
     },
     "execution_count": 72,
     "metadata": {},
     "output_type": "execute_result"
    }
   ],
   "source": [
    "titanic_df = pd.read_csv('C:/Users/user/Desktop/프로젝트 data/최적입지_변수_총합(용산적용전)3.csv', encoding='euckr')\n",
    "titanic_df.head(2)"
   ]
  },
  {
   "cell_type": "code",
   "execution_count": 73,
   "id": "e07b58e4",
   "metadata": {},
   "outputs": [
    {
     "name": "stdout",
     "output_type": "stream",
     "text": [
      "<class 'pandas.core.frame.DataFrame'>\n",
      "RangeIndex: 15677 entries, 0 to 15676\n",
      "Data columns (total 11 columns):\n",
      " #   Column  Non-Null Count  Dtype  \n",
      "---  ------  --------------  -----  \n",
      " 0   id      15677 non-null  int64  \n",
      " 1   bus     15677 non-null  float64\n",
      " 2   metro   15677 non-null  float64\n",
      " 3   taxi    15677 non-null  float64\n",
      " 4   uni     15677 non-null  float64\n",
      " 5   high    15677 non-null  float64\n",
      " 6   park    15677 non-null  float64\n",
      " 7   cf      15677 non-null  float64\n",
      " 8   bike    15677 non-null  float64\n",
      " 9   pop     15677 non-null  float64\n",
      " 10  class   15677 non-null  int64  \n",
      "dtypes: float64(9), int64(2)\n",
      "memory usage: 1.3 MB\n"
     ]
    }
   ],
   "source": [
    "titanic_df.info()"
   ]
  },
  {
   "cell_type": "code",
   "execution_count": 75,
   "id": "03979f8a",
   "metadata": {},
   "outputs": [],
   "source": [
    "# train_test data split\n",
    "data = ['bus', 'metro', 'taxi', 'uni', \n",
    "        'high', 'park', 'cf', 'bike', 'pop']\n",
    "X_train, X_test, y_train, y_test = train_test_split(\n",
    "    titanic_df[data], # 문제\n",
    "    titanic_df['class'], # 정답\n",
    "    test_size = 0.2, # test-size비율\n",
    "    random_state = 200 # 시드값 설정\n",
    ")"
   ]
  },
  {
   "cell_type": "code",
   "execution_count": 76,
   "id": "5e1dd867",
   "metadata": {},
   "outputs": [],
   "source": [
    "df_clf = DecisionTreeClassifier(random_state=11)\n",
    "rf_clf = RandomForestClassifier(random_state=11)\n",
    "svc_clf = SVC()\n",
    "clf_list = [df_clf, rf_clf, svc_clf]"
   ]
  },
  {
   "cell_type": "code",
   "execution_count": 86,
   "id": "05f752a6",
   "metadata": {},
   "outputs": [],
   "source": [
    "def exec_kfold(df, clf, k):\n",
    "    acc_list = []\n",
    "    kfold = KFold(n_splits=k)\n",
    "    for i, (train_index, test_index) in enumerate(kfold.split(df[data])):\n",
    "        X_train2,X_test2 = df[data].values[train_index], df[data].values[test_index]\n",
    "        y_train2,y_test2 = df['class'].values[train_index],df['class'].values[test_index]\n",
    "        \n",
    "        clf.fit(X_train2, y_train2)\n",
    "        pred2 = clf.predict(X_test2)\n",
    "        acc = accuracy_score(y_test2, pred2)\n",
    "        acc_list.append(acc)\n",
    "        print(i , ': 교차검증 정확도>> {0:.2f}'.format(acc))\n",
    "    print('평균 정확도>> {0:.2f}'.format(np.mean(acc_list)))\n",
    "    return np.mean(acc_list)"
   ]
  },
  {
   "cell_type": "code",
   "execution_count": 87,
   "id": "e050790b",
   "metadata": {},
   "outputs": [
    {
     "name": "stdout",
     "output_type": "stream",
     "text": [
      "decision tree ----검증시작----\n",
      "0 : 교차검증 정확도>> 0.53\n",
      "1 : 교차검증 정확도>> 0.80\n",
      "2 : 교차검증 정확도>> 0.77\n",
      "3 : 교차검증 정확도>> 0.74\n",
      "4 : 교차검증 정확도>> 0.75\n",
      "5 : 교차검증 정확도>> 0.85\n",
      "6 : 교차검증 정확도>> 0.81\n",
      "7 : 교차검증 정확도>> 0.75\n",
      "8 : 교차검증 정확도>> 0.72\n",
      "9 : 교차검증 정확도>> 0.85\n",
      "평균 정확도>> 0.76\n",
      "random forest ----검증시작----\n",
      "0 : 교차검증 정확도>> 0.50\n",
      "1 : 교차검증 정확도>> 0.83\n",
      "2 : 교차검증 정확도>> 0.79\n",
      "3 : 교차검증 정확도>> 0.78\n",
      "4 : 교차검증 정확도>> 0.78\n",
      "5 : 교차검증 정확도>> 0.87\n",
      "6 : 교차검증 정확도>> 0.82\n",
      "7 : 교차검증 정확도>> 0.78\n",
      "8 : 교차검증 정확도>> 0.75\n",
      "9 : 교차검증 정확도>> 0.86\n",
      "평균 정확도>> 0.78\n",
      "svm ----검증시작----\n",
      "0 : 교차검증 정확도>> 0.39\n",
      "1 : 교차검증 정확도>> 0.84\n",
      "2 : 교차검증 정확도>> 0.83\n",
      "3 : 교차검증 정확도>> 0.78\n",
      "4 : 교차검증 정확도>> 0.82\n",
      "5 : 교차검증 정확도>> 0.90\n",
      "6 : 교차검증 정확도>> 0.84\n",
      "7 : 교차검증 정확도>> 0.80\n",
      "8 : 교차검증 정확도>> 0.79\n",
      "9 : 교차검증 정확도>> 0.90\n",
      "평균 정확도>> 0.79\n"
     ]
    }
   ],
   "source": [
    "acc_total = []\n",
    "model_list = ['decision tree', 'random forest', 'svm']\n",
    "for i, clf in enumerate(clf_list):\n",
    "    print(model_list[i], '----검증시작----')\n",
    "    acc_result = exec_kfold(titanic_df, clf, 10)\n",
    "    acc_total.append(acc_result)"
   ]
  },
  {
   "cell_type": "code",
   "execution_count": 79,
   "id": "4026e7b9",
   "metadata": {},
   "outputs": [
    {
     "name": "stdout",
     "output_type": "stream",
     "text": [
      "decision tree  교차검증 평균:  0.7572911240118255\n",
      "random forest  교차검증 평균:  0.7765555201021058\n",
      "svm  교차검증 평균:  0.7893809095112199\n"
     ]
    }
   ],
   "source": [
    "for i in range(3):\n",
    "    print(model_list[i], \" 교차검증 평균: \", acc_total[i])"
   ]
  },
  {
   "cell_type": "code",
   "execution_count": 80,
   "id": "43f7e262",
   "metadata": {},
   "outputs": [
    {
     "name": "stdout",
     "output_type": "stream",
     "text": [
      "최고 교차 검증 평균>>  0.7893809095112199\n",
      "최고 교차 검증 인덱스>>  2\n",
      "최고 교차 검증 모델링>>  svm\n"
     ]
    }
   ],
   "source": [
    "# 최대 평균값 ==\n",
    "max_value = np.max(acc_total)\n",
    "# 최대 평균값 인덱스 ==\n",
    "max_index = np.argmax(acc_total)\n",
    "# 최대 평균값 모델명 ==\n",
    "max_model = model_list[max_index]\n",
    "\n",
    "print('최고 교차 검증 평균>> ', max_value)\n",
    "print('최고 교차 검증 인덱스>> ', max_index)\n",
    "print('최고 교차 검증 모델링>> ', max_model)"
   ]
  },
  {
   "cell_type": "code",
   "execution_count": 81,
   "id": "6b975722",
   "metadata": {},
   "outputs": [],
   "source": [
    "def add_value_label(x_list,y_list):\n",
    "    for i in range(1, len(x_list)+1):\n",
    "        plt.text(i-1,y_list[i-1],y_list[i-1], \n",
    "                 fontsize=15,\n",
    "                 color=\"blue\",\n",
    "                 ha=\"center\")"
   ]
  },
  {
   "cell_type": "code",
   "execution_count": 82,
   "id": "de1fc0f6",
   "metadata": {},
   "outputs": [
    {
     "data": {
      "image/png": "[encoded data removed]",
      "text/plain": [
       "<Figure size 432x288 with 1 Axes>"
      ]
     },
     "metadata": {
      "needs_background": "light"
     },
     "output_type": "display_data"
    }
   ],
   "source": [
    "plt.bar(np.arange(len(acc_total)), \n",
    "        acc_total,color = ['yellow', 'cyan', 'pink'], alpha = 0.5,\n",
    "        edgecolor = 'black', linewidth = 2.5)\n",
    "plt.xticks(np.arange(len(acc_total)), model_list, fontsize=12)\n",
    "plt.xlabel('model', fontsize=12)\n",
    "plt.ylabel('avg score', fontsize=12)\n",
    "add_value_label(model_list, np.round(acc_total, 3))\n",
    "plt.show()"
   ]
  },
  {
   "cell_type": "code",
   "execution_count": null,
   "id": "5ffb8eae",
   "metadata": {},
   "outputs": [],
   "source": []
  },
  {
   "cell_type": "markdown",
   "id": "18870082",
   "metadata": {},
   "source": [
    "## 최종"
   ]
  },
  {
   "cell_type": "code",
   "execution_count": 2,
   "id": "37776669",
   "metadata": {},
   "outputs": [
    {
     "data": {
      "text/html": [
       "<div>\n",
       "<style scoped>\n",
       "    .dataframe tbody tr th:only-of-type {\n",
       "        vertical-align: middle;\n",
       "    }\n",
       "\n",
       "    .dataframe tbody tr th {\n",
       "        vertical-align: top;\n",
       "    }\n",
       "\n",
       "    .dataframe thead th {\n",
       "        text-align: right;\n",
       "    }\n",
       "</style>\n",
       "<table border=\"1\" class=\"dataframe\">\n",
       "  <thead>\n",
       "    <tr style=\"text-align: right;\">\n",
       "      <th></th>\n",
       "      <th>id</th>\n",
       "      <th>bus</th>\n",
       "      <th>metro</th>\n",
       "      <th>park</th>\n",
       "      <th>high</th>\n",
       "      <th>uni</th>\n",
       "      <th>age</th>\n",
       "      <th>pop</th>\n",
       "      <th>mart</th>\n",
       "      <th>Class</th>\n",
       "    </tr>\n",
       "  </thead>\n",
       "  <tbody>\n",
       "    <tr>\n",
       "      <th>0</th>\n",
       "      <td>28208</td>\n",
       "      <td>0.0</td>\n",
       "      <td>0.0</td>\n",
       "      <td>0.0</td>\n",
       "      <td>0.0</td>\n",
       "      <td>0.0</td>\n",
       "      <td>0.000000</td>\n",
       "      <td>0.000000</td>\n",
       "      <td>0.0</td>\n",
       "      <td>0</td>\n",
       "    </tr>\n",
       "    <tr>\n",
       "      <th>1</th>\n",
       "      <td>28207</td>\n",
       "      <td>0.0</td>\n",
       "      <td>0.0</td>\n",
       "      <td>0.0</td>\n",
       "      <td>0.0</td>\n",
       "      <td>0.0</td>\n",
       "      <td>0.008674</td>\n",
       "      <td>-0.002736</td>\n",
       "      <td>0.0</td>\n",
       "      <td>0</td>\n",
       "    </tr>\n",
       "  </tbody>\n",
       "</table>\n",
       "</div>"
      ],
      "text/plain": [
       "      id  bus  metro  park  high  uni       age       pop  mart  Class\n",
       "0  28208  0.0    0.0   0.0   0.0  0.0  0.000000  0.000000   0.0      0\n",
       "1  28207  0.0    0.0   0.0   0.0  0.0  0.008674 -0.002736   0.0      0"
      ]
     },
     "execution_count": 2,
     "metadata": {},
     "output_type": "execute_result"
    }
   ],
   "source": [
    "optimum_df = pd.read_csv('C:/Users/user/Desktop/프로젝트 data/최적입지_변수_총합_가중치(상관)_최종.csv', encoding='euckr')\n",
    "optimum_df.head(2)"
   ]
  },
  {
   "cell_type": "code",
   "execution_count": 3,
   "id": "07b89cec",
   "metadata": {},
   "outputs": [],
   "source": [
    "# train_test data split\n",
    "data = ['bus', 'metro', 'park', 'high', \n",
    "        'uni', 'age', 'pop', 'mart']\n",
    "X_train, X_test, y_train, y_test = train_test_split(\n",
    "    optimum_df[data], # 문제\n",
    "    optimum_df['Class'], # 정답\n",
    "    test_size = 0.2, # test-size비율\n",
    "    random_state = 42 # 시드값 설정\n",
    ")"
   ]
  },
  {
   "cell_type": "code",
   "execution_count": 4,
   "id": "ae59d48d",
   "metadata": {},
   "outputs": [],
   "source": [
    "df_clf = DecisionTreeClassifier(random_state=11)\n",
    "rf_clf = RandomForestClassifier(random_state=11)\n",
    "svc_clf = SVC()\n",
    "clf_list = [df_clf, rf_clf, svc_clf]"
   ]
  },
  {
   "cell_type": "markdown",
   "id": "0d395ed7",
   "metadata": {},
   "source": [
    "## 정밀도 재현율 f1스코어 추가"
   ]
  },
  {
   "cell_type": "code",
   "execution_count": 5,
   "id": "4492ff92",
   "metadata": {},
   "outputs": [],
   "source": [
    "def exec_kfold(df, clf, k):\n",
    "    acc_list = []\n",
    "    kfold = KFold(n_splits=k)\n",
    "    for i, (train_index, test_index) in enumerate(kfold.split(df[data])):\n",
    "        X_train2,X_test2 = df[data].values[train_index], df[data].values[test_index]\n",
    "        y_train2,y_test2 = df['Class'].values[train_index],df['Class'].values[test_index]\n",
    "        \n",
    "        clf.fit(X_train2, y_train2)\n",
    "        pred2 = clf.predict(X_test2)\n",
    "        acc = accuracy_score(y_test2, pred2)\n",
    "        acc_list.append(acc)\n",
    "        precision = precision_score(y_test2, pred2)\n",
    "        recall = recall_score(y_test2, pred2)\n",
    "        f1 = f1_score(y_test2, pred2)\n",
    "        print(i , ': 교차검증 정확도>> {0:.2f}, 교차검증 정밀도>> {0:.2f}, 교차검증 재현율>> {0:.2f}, f1score>> {0:.2f}'.format(acc, precision, recall, f1))\n",
    "    print('평균 정확도>> {0:.2f}'.format(np.mean(acc_list)))\n",
    "    return np.mean(acc_list)"
   ]
  },
  {
   "cell_type": "code",
   "execution_count": 7,
   "id": "dda649fc",
   "metadata": {},
   "outputs": [
    {
     "name": "stdout",
     "output_type": "stream",
     "text": [
      "decision tree ----검증시작----\n",
      "0 : 교차검증 정확도>> 0.66, 교차검증 정밀도>> 0.66, 교차검증 재현율>> 0.66, f1score>> 0.66\n",
      "1 : 교차검증 정확도>> 0.77, 교차검증 정밀도>> 0.77, 교차검증 재현율>> 0.77, f1score>> 0.77\n",
      "2 : 교차검증 정확도>> 0.69, 교차검증 정밀도>> 0.69, 교차검증 재현율>> 0.69, f1score>> 0.69\n",
      "3 : 교차검증 정확도>> 0.62, 교차검증 정밀도>> 0.62, 교차검증 재현율>> 0.62, f1score>> 0.62\n",
      "4 : 교차검증 정확도>> 0.71, 교차검증 정밀도>> 0.71, 교차검증 재현율>> 0.71, f1score>> 0.71\n",
      "5 : 교차검증 정확도>> 0.77, 교차검증 정밀도>> 0.77, 교차검증 재현율>> 0.77, f1score>> 0.77\n",
      "6 : 교차검증 정확도>> 0.76, 교차검증 정밀도>> 0.76, 교차검증 재현율>> 0.76, f1score>> 0.76\n",
      "7 : 교차검증 정확도>> 0.70, 교차검증 정밀도>> 0.70, 교차검증 재현율>> 0.70, f1score>> 0.70\n",
      "8 : 교차검증 정확도>> 0.67, 교차검증 정밀도>> 0.67, 교차검증 재현율>> 0.67, f1score>> 0.67\n",
      "9 : 교차검증 정확도>> 0.74, 교차검증 정밀도>> 0.74, 교차검증 재현율>> 0.74, f1score>> 0.74\n",
      "평균 정확도>> 0.71\n",
      "random forest ----검증시작----\n",
      "0 : 교차검증 정확도>> 0.67, 교차검증 정밀도>> 0.67, 교차검증 재현율>> 0.67, f1score>> 0.67\n",
      "1 : 교차검증 정확도>> 0.78, 교차검증 정밀도>> 0.78, 교차검증 재현율>> 0.78, f1score>> 0.78\n",
      "2 : 교차검증 정확도>> 0.70, 교차검증 정밀도>> 0.70, 교차검증 재현율>> 0.70, f1score>> 0.70\n",
      "3 : 교차검증 정확도>> 0.61, 교차검증 정밀도>> 0.61, 교차검증 재현율>> 0.61, f1score>> 0.61\n",
      "4 : 교차검증 정확도>> 0.70, 교차검증 정밀도>> 0.70, 교차검증 재현율>> 0.70, f1score>> 0.70\n",
      "5 : 교차검증 정확도>> 0.79, 교차검증 정밀도>> 0.79, 교차검증 재현율>> 0.79, f1score>> 0.79\n",
      "6 : 교차검증 정확도>> 0.78, 교차검증 정밀도>> 0.78, 교차검증 재현율>> 0.78, f1score>> 0.78\n",
      "7 : 교차검증 정확도>> 0.72, 교차검증 정밀도>> 0.72, 교차검증 재현율>> 0.72, f1score>> 0.72\n",
      "8 : 교차검증 정확도>> 0.68, 교차검증 정밀도>> 0.68, 교차검증 재현율>> 0.68, f1score>> 0.68\n",
      "9 : 교차검증 정확도>> 0.75, 교차검증 정밀도>> 0.75, 교차검증 재현율>> 0.75, f1score>> 0.75\n",
      "평균 정확도>> 0.72\n",
      "svm ----검증시작----\n",
      "0 : 교차검증 정확도>> 0.70, 교차검증 정밀도>> 0.70, 교차검증 재현율>> 0.70, f1score>> 0.70\n",
      "1 : 교차검증 정확도>> 0.81, 교차검증 정밀도>> 0.81, 교차검증 재현율>> 0.81, f1score>> 0.81\n",
      "2 : 교차검증 정확도>> 0.71, 교차검증 정밀도>> 0.71, 교차검증 재현율>> 0.71, f1score>> 0.71\n",
      "3 : 교차검증 정확도>> 0.64, 교차검증 정밀도>> 0.64, 교차검증 재현율>> 0.64, f1score>> 0.64\n",
      "4 : 교차검증 정확도>> 0.70, 교차검증 정밀도>> 0.70, 교차검증 재현율>> 0.70, f1score>> 0.70\n",
      "5 : 교차검증 정확도>> 0.84, 교차검증 정밀도>> 0.84, 교차검증 재현율>> 0.84, f1score>> 0.84\n",
      "6 : 교차검증 정확도>> 0.81, 교차검증 정밀도>> 0.81, 교차검증 재현율>> 0.81, f1score>> 0.81\n",
      "7 : 교차검증 정확도>> 0.73, 교차검증 정밀도>> 0.73, 교차검증 재현율>> 0.73, f1score>> 0.73\n",
      "8 : 교차검증 정확도>> 0.71, 교차검증 정밀도>> 0.71, 교차검증 재현율>> 0.71, f1score>> 0.71\n",
      "9 : 교차검증 정확도>> 0.83, 교차검증 정밀도>> 0.83, 교차검증 재현율>> 0.83, f1score>> 0.83\n",
      "평균 정확도>> 0.75\n"
     ]
    }
   ],
   "source": [
    "acc_total = []\n",
    "model_list = ['decision tree', 'random forest', 'svm']\n",
    "for i, clf in enumerate(clf_list):\n",
    "    print(model_list[i], '----검증시작----')\n",
    "    acc_result = exec_kfold(optimum_df, clf, 10)\n",
    "    acc_total.append(acc_result)"
   ]
  },
  {
   "cell_type": "code",
   "execution_count": 8,
   "id": "2b651bca",
   "metadata": {},
   "outputs": [
    {
     "name": "stdout",
     "output_type": "stream",
     "text": [
      "decision tree  교차검증 평균:  0.7092547748199471\n",
      "random forest  교차검증 평균:  0.7197805829415366\n",
      "svm  교차검증 평균:  0.7470836643527864\n"
     ]
    }
   ],
   "source": [
    "for i in range(3):\n",
    "    print(model_list[i], \" 교차검증 평균: \", acc_total[i])"
   ]
  },
  {
   "cell_type": "code",
   "execution_count": 9,
   "id": "584177fb",
   "metadata": {},
   "outputs": [
    {
     "name": "stdout",
     "output_type": "stream",
     "text": [
      "최고 교차 검증 평균>>  0.7470836643527864\n",
      "최고 교차 검증 인덱스>>  2\n",
      "최고 교차 검증 모델링>>  svm\n"
     ]
    }
   ],
   "source": [
    "# 최대 평균값 ==\n",
    "max_value = np.max(acc_total)\n",
    "# 최대 평균값 인덱스 ==\n",
    "max_index = np.argmax(acc_total)\n",
    "# 최대 평균값 모델명 ==\n",
    "max_model = model_list[max_index]\n",
    "\n",
    "print('최고 교차 검증 평균>> ', max_value)\n",
    "print('최고 교차 검증 인덱스>> ', max_index)\n",
    "print('최고 교차 검증 모델링>> ', max_model)"
   ]
  },
  {
   "cell_type": "code",
   "execution_count": 10,
   "id": "ab6df8a6",
   "metadata": {},
   "outputs": [],
   "source": [
    "def add_value_label(x_list,y_list):\n",
    "    for i in range(1, len(x_list)+1):\n",
    "        plt.text(i-1,y_list[i-1],y_list[i-1], \n",
    "                 fontsize=15,\n",
    "                 color=\"blue\",\n",
    "                 ha=\"center\")"
   ]
  },
  {
   "cell_type": "code",
   "execution_count": 11,
   "id": "f3600376",
   "metadata": {},
   "outputs": [
    {
     "data": {
      "image/png": "[encoded data removed]",
      "text/plain": [
       "<Figure size 432x288 with 1 Axes>"
      ]
     },
     "metadata": {
      "needs_background": "light"
     },
     "output_type": "display_data"
    }
   ],
   "source": [
    "plt.bar(np.arange(len(acc_total)), \n",
    "        acc_total,color = ['yellow', 'cyan', 'pink'], alpha = 0.5,\n",
    "        edgecolor = 'black', linewidth = 2.5)\n",
    "plt.xticks(np.arange(len(acc_total)), model_list, fontsize=12)\n",
    "plt.xlabel('model', fontsize=12)\n",
    "plt.ylabel('avg score', fontsize=12)\n",
    "add_value_label(model_list, np.round(acc_total, 3))\n",
    "plt.show()"
   ]
  },
  {
   "cell_type": "code",
   "execution_count": null,
   "id": "db64ccd4",
   "metadata": {},
   "outputs": [],
   "source": []
  }
 ],
 "metadata": {
  "kernelspec": {
   "display_name": "Python 3 (ipykernel)",
   "language": "python",
   "name": "python3"
  },
  "language_info": {
   "codemirror_mode": {
    "name": "ipython",
    "version": 3
   },
   "file_extension": ".py",
   "mimetype": "text/x-python",
   "name": "python",
   "nbconvert_exporter": "python",
   "pygments_lexer": "ipython3",
   "version": "3.9.12"
  }
 },
 "nbformat": 4,
 "nbformat_minor": 5
}
