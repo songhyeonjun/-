{
 "cells": [
  {
   "cell_type": "code",
   "execution_count": 1,
   "id": "b28b6a8a",
   "metadata": {},
   "outputs": [],
   "source": [
    "import os\n",
    "import warnings\n",
    "\n",
    "warnings.simplefilter(action='ignore', category=FutureWarning)\n",
    "\n",
    "import random\n",
    "import pandas as pd\n",
    "import numpy as np\n",
    "from scipy import stats\n",
    "import math\n",
    "import matplotlib.pyplot as plt\n",
    "import seaborn as sns\n",
    "%matplotlib inline\n",
    "\n",
    "import os\n",
    "if os.name == 'nt' :\n",
    "    font_family = \"Malgun Gothic\"\n",
    "else:\n",
    "    font_family = \"AppleGothic\"\n",
    "    \n",
    "sns.set(font=font_family, rc ={\"axes.unicode_minus\" : False})"
   ]
  },
  {
   "cell_type": "code",
   "execution_count": 2,
   "id": "892ed5ba",
   "metadata": {},
   "outputs": [],
   "source": [
    "# 그래프 만드는 함수\n",
    "def bar_Graph(width, values, count) : \n",
    "    arr = np.arange(count)\n",
    "    color = []\n",
    "    for i in range(count) : # 바 그래프 랜덤 색상 만들기\n",
    "        if (color is None)  :\n",
    "            color = [\"#\" + ''.join([random.choice('0123456789ABCDEF') for j in range(6)])]\n",
    "        color.append(\"#\" + ''.join([random.choice('0123456789ABCDEF') for n in range(6)]))\n",
    "    \n",
    "    plt.bar(arr, \n",
    "            values, \n",
    "            color=color, # 색상 \n",
    "            alpha = 0.5, # 투명도\n",
    "            edgecolor = 'black', # 모서리 색상\n",
    "            linewidth = 2.5 # 테두리 두께\n",
    "           )\n",
    "    \n",
    "    plt.xticks(arr, width, fontsize=12)\n",
    "    \n",
    "    plt.title('제목', fontsize=12) # 타이틀\n",
    "    plt.xlabel('모델', fontsize=12) # x 축 라벨링\n",
    "    plt.ylabel('점수', fontsize=12) # y 축 라벨링\n",
    "        \n",
    "\n",
    "\n",
    "    add_value_label(width, np.round(values, 3))\n",
    "    \n",
    "    plt.show()"
   ]
  },
  {
   "cell_type": "code",
   "execution_count": 3,
   "id": "0f5c7666",
   "metadata": {},
   "outputs": [],
   "source": [
    "# 그래프 가운데 값 표시\n",
    "def add_value_label(x_list,y_list):\n",
    "    for i in range(1, len(x_list)+1):\n",
    "        plt.text(i-1,y_list[i-1],y_list[i-1], \n",
    "                 fontsize=15,\n",
    "                 color=\"blue\", # 글자 색상\n",
    "                 ha=\"center\")"
   ]
  },
  {
   "cell_type": "code",
   "execution_count": 4,
   "id": "d727e917",
   "metadata": {},
   "outputs": [
    {
     "data": {
      "image/png": "[encoded data removed]",
      "text/plain": [
       "<Figure size 432x288 with 1 Axes>"
      ]
     },
     "metadata": {},
     "output_type": "display_data"
    }
   ],
   "source": [
    "bar_Graph(['가', '나', '다', '라', '마', '바'], [100, 200, 300, 400, 100, 100], 6) # 가로이름, 값, 갯수"
   ]
  },
  {
   "cell_type": "code",
   "execution_count": null,
   "id": "537f5aaf",
   "metadata": {},
   "outputs": [],
   "source": []
  }
 ],
 "metadata": {
  "kernelspec": {
   "display_name": "Python 3 (ipykernel)",
   "language": "python",
   "name": "python3"
  },
  "language_info": {
   "codemirror_mode": {
    "name": "ipython",
    "version": 3
   },
   "file_extension": ".py",
   "mimetype": "text/x-python",
   "name": "python",
   "nbconvert_exporter": "python",
   "pygments_lexer": "ipython3",
   "version": "3.9.12"
  }
 },
 "nbformat": 4,
 "nbformat_minor": 5
}
