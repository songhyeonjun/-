{
 "cells": [
  {
   "cell_type": "code",
   "execution_count": 1,
   "id": "8de00802",
   "metadata": {},
   "outputs": [],
   "source": [
    "import warnings\n",
    "warnings.filterwarnings(action='ignore')\n",
    "import numpy as np\n",
    "import pandas as pd\n",
    "import matplotlib.pyplot as plt\n",
    "import seaborn as sns\n",
    "from sklearn.preprocessing import LabelEncoder\n",
    "%matplotlib inline\n",
    "from sklearn.model_selection import train_test_split\n",
    "from sklearn.tree import DecisionTreeClassifier\n",
    "from sklearn.ensemble import RandomForestClassifier\n",
    "from sklearn.linear_model import LogisticRegression\n",
    "from sklearn.svm import SVC\n",
    "from sklearn.metrics import accuracy_score\n",
    "\n",
    "from sklearn.model_selection import KFold"
   ]
  },
  {
   "cell_type": "code",
   "execution_count": 2,
   "id": "31b985ce",
   "metadata": {},
   "outputs": [
    {
     "data": {
      "text/html": [
       "<div>\n",
       "<style scoped>\n",
       "    .dataframe tbody tr th:only-of-type {\n",
       "        vertical-align: middle;\n",
       "    }\n",
       "\n",
       "    .dataframe tbody tr th {\n",
       "        vertical-align: top;\n",
       "    }\n",
       "\n",
       "    .dataframe thead th {\n",
       "        text-align: right;\n",
       "    }\n",
       "</style>\n",
       "<table border=\"1\" class=\"dataframe\">\n",
       "  <thead>\n",
       "    <tr style=\"text-align: right;\">\n",
       "      <th></th>\n",
       "      <th>id</th>\n",
       "      <th>버정평균점수</th>\n",
       "      <th>지하철평균점수</th>\n",
       "      <th>택정평균점수</th>\n",
       "      <th>공원평균점수</th>\n",
       "      <th>대학평균점수</th>\n",
       "      <th>고등학교평균점수</th>\n",
       "      <th>문화평균점수</th>\n",
       "      <th>따릉이평균점수</th>\n",
       "      <th>인구수점수</th>\n",
       "      <th>class</th>\n",
       "    </tr>\n",
       "  </thead>\n",
       "  <tbody>\n",
       "    <tr>\n",
       "      <th>0</th>\n",
       "      <td>28208</td>\n",
       "      <td>0.0</td>\n",
       "      <td>0.0</td>\n",
       "      <td>0.0</td>\n",
       "      <td>0.0</td>\n",
       "      <td>0.0</td>\n",
       "      <td>0.0</td>\n",
       "      <td>0.0</td>\n",
       "      <td>0.0</td>\n",
       "      <td>0.0</td>\n",
       "      <td>0</td>\n",
       "    </tr>\n",
       "    <tr>\n",
       "      <th>1</th>\n",
       "      <td>28207</td>\n",
       "      <td>0.0</td>\n",
       "      <td>0.0</td>\n",
       "      <td>0.0</td>\n",
       "      <td>0.0</td>\n",
       "      <td>0.0</td>\n",
       "      <td>0.0</td>\n",
       "      <td>0.0</td>\n",
       "      <td>0.0</td>\n",
       "      <td>1.5</td>\n",
       "      <td>0</td>\n",
       "    </tr>\n",
       "  </tbody>\n",
       "</table>\n",
       "</div>"
      ],
      "text/plain": [
       "      id  버정평균점수  지하철평균점수  택정평균점수  공원평균점수  대학평균점수  고등학교평균점수  문화평균점수  따릉이평균점수  \\\n",
       "0  28208     0.0      0.0     0.0     0.0     0.0       0.0     0.0      0.0   \n",
       "1  28207     0.0      0.0     0.0     0.0     0.0       0.0     0.0      0.0   \n",
       "\n",
       "   인구수점수  class  \n",
       "0    0.0      0  \n",
       "1    1.5      0  "
      ]
     },
     "execution_count": 2,
     "metadata": {},
     "output_type": "execute_result"
    }
   ],
   "source": [
    "titanic_df = pd.read_csv('C:/Users/user/Desktop/프로젝트 data/최적입지_변수_총합(용산적용전).csv', encoding='euckr')\n",
    "titanic_df.head(2)"
   ]
  },
  {
   "cell_type": "code",
   "execution_count": 3,
   "id": "65b58bc7",
   "metadata": {},
   "outputs": [
    {
     "name": "stdout",
     "output_type": "stream",
     "text": [
      "<class 'pandas.core.frame.DataFrame'>\n",
      "RangeIndex: 15677 entries, 0 to 15676\n",
      "Data columns (total 11 columns):\n",
      " #   Column    Non-Null Count  Dtype  \n",
      "---  ------    --------------  -----  \n",
      " 0   id        15677 non-null  int64  \n",
      " 1   버정평균점수    15677 non-null  float64\n",
      " 2   지하철평균점수   15677 non-null  float64\n",
      " 3   택정평균점수    15677 non-null  float64\n",
      " 4   공원평균점수    15677 non-null  float64\n",
      " 5   대학평균점수    15677 non-null  float64\n",
      " 6   고등학교평균점수  15677 non-null  float64\n",
      " 7   문화평균점수    15677 non-null  float64\n",
      " 8   따릉이평균점수   15677 non-null  float64\n",
      " 9   인구수점수     15677 non-null  float64\n",
      " 10  class     15677 non-null  int64  \n",
      "dtypes: float64(9), int64(2)\n",
      "memory usage: 1.3 MB\n"
     ]
    }
   ],
   "source": [
    "titanic_df.info()"
   ]
  },
  {
   "cell_type": "code",
   "execution_count": null,
   "id": "d8499ad5",
   "metadata": {},
   "outputs": [],
   "source": []
  },
  {
   "cell_type": "code",
   "execution_count": 4,
   "id": "c631d23c",
   "metadata": {},
   "outputs": [],
   "source": [
    "# train_test data split\n",
    "data = ['버정평균점수', '지하철평균점수', '택정평균점수', '공원평균점수', \n",
    "        '대학평균점수', '고등학교평균점수', '문화평균점수', '따릉이평균점수', '인구수점수']\n",
    "X_train, X_test, y_train, y_test = train_test_split(\n",
    "    titanic_df[data], # 문제\n",
    "    titanic_df['class'], # 정답\n",
    "    test_size = 0.2, # test-size비율\n",
    "    random_state = 200 # 시드값 설정\n",
    ")"
   ]
  },
  {
   "cell_type": "code",
   "execution_count": 5,
   "id": "1c9578a7",
   "metadata": {},
   "outputs": [],
   "source": [
    "df_clf = DecisionTreeClassifier(random_state=11)\n",
    "rf_clf = RandomForestClassifier(random_state=11)\n",
    "svc_clf = SVC()\n",
    "clf_list = [df_clf, rf_clf, svc_clf]"
   ]
  },
  {
   "cell_type": "code",
   "execution_count": 6,
   "id": "d90e94ee",
   "metadata": {},
   "outputs": [],
   "source": [
    "def exec_kfold(df, clf, k):\n",
    "    acc_list = []\n",
    "    kfold = KFold(n_splits=k)\n",
    "    for i, (train_index, test_index) in enumerate(kfold.split(df[data])):\n",
    "        X_train2,X_test2 = df[data].values[train_index], df[data].values[test_index]\n",
    "        y_train2,y_test2 = df['class'].values[train_index],df['class'].values[test_index]\n",
    "        \n",
    "        clf.fit(X_train2, y_train2)\n",
    "        pred2 = clf.predict(X_test2)\n",
    "        acc = accuracy_score(y_test2, pred2)\n",
    "        acc_list.append(acc)\n",
    "        print(i , ': 교차검증 정확도>> {0:.2f}'.format(acc))\n",
    "    print('평균 정확도>> {0:.2f}'.format(np.mean(acc_list)))\n",
    "    return np.mean(acc_list)"
   ]
  },
  {
   "cell_type": "code",
   "execution_count": 7,
   "id": "71a49dcd",
   "metadata": {},
   "outputs": [
    {
     "name": "stdout",
     "output_type": "stream",
     "text": [
      "decision tree ----검증시작----\n",
      "0 : 교차검증 정확도>> 0.87\n",
      "1 : 교차검증 정확도>> 0.92\n",
      "2 : 교차검증 정확도>> 0.88\n",
      "3 : 교차검증 정확도>> 0.88\n",
      "4 : 교차검증 정확도>> 0.91\n",
      "5 : 교차검증 정확도>> 0.92\n",
      "6 : 교차검증 정확도>> 0.89\n",
      "7 : 교차검증 정확도>> 0.87\n",
      "8 : 교차검증 정확도>> 0.89\n",
      "9 : 교차검증 정확도>> 0.93\n",
      "평균 정확도>> 0.90\n",
      "random forest ----검증시작----\n",
      "0 : 교차검증 정확도>> 0.90\n",
      "1 : 교차검증 정확도>> 0.93\n",
      "2 : 교차검증 정확도>> 0.91\n",
      "3 : 교차검증 정확도>> 0.92\n",
      "4 : 교차검증 정확도>> 0.95\n",
      "5 : 교차검증 정확도>> 0.95\n",
      "6 : 교차검증 정확도>> 0.92\n",
      "7 : 교차검증 정확도>> 0.90\n",
      "8 : 교차검증 정확도>> 0.92\n",
      "9 : 교차검증 정확도>> 0.96\n",
      "평균 정확도>> 0.93\n",
      "svm ----검증시작----\n",
      "0 : 교차검증 정확도>> 0.91\n",
      "1 : 교차검증 정확도>> 0.95\n",
      "2 : 교차검증 정확도>> 0.93\n",
      "3 : 교차검증 정확도>> 0.93\n",
      "4 : 교차검증 정확도>> 0.96\n",
      "5 : 교차검증 정확도>> 0.96\n",
      "6 : 교차검증 정확도>> 0.93\n",
      "7 : 교차검증 정확도>> 0.90\n",
      "8 : 교차검증 정확도>> 0.93\n",
      "9 : 교차검증 정확도>> 0.96\n",
      "평균 정확도>> 0.94\n"
     ]
    }
   ],
   "source": [
    "acc_total = []\n",
    "model_list = ['decision tree', 'random forest', 'svm']\n",
    "for i, clf in enumerate(clf_list):\n",
    "    print(model_list[i], '----검증시작----')\n",
    "    acc_result = exec_kfold(titanic_df, clf, 10)\n",
    "    acc_total.append(acc_result)"
   ]
  },
  {
   "cell_type": "code",
   "execution_count": 8,
   "id": "7427d4b4",
   "metadata": {},
   "outputs": [
    {
     "name": "stdout",
     "output_type": "stream",
     "text": [
      "decision tree  교차검증 평균:  0.8966001995884506\n",
      "random forest  교차검증 평균:  0.9267714288970217\n",
      "svm  교차검증 평균:  0.9364667309169998\n"
     ]
    }
   ],
   "source": [
    "for i in range(3):\n",
    "    print(model_list[i], \" 교차검증 평균: \", acc_total[i])"
   ]
  },
  {
   "cell_type": "code",
   "execution_count": 9,
   "id": "abfcff97",
   "metadata": {},
   "outputs": [
    {
     "name": "stdout",
     "output_type": "stream",
     "text": [
      "최고 교차 검증 평균>>  0.9364667309169998\n",
      "최고 교차 검증 인덱스>>  2\n",
      "최고 교차 검증 모델링>>  svm\n"
     ]
    }
   ],
   "source": [
    "# 최대 평균값 ==\n",
    "max_value = np.max(acc_total)\n",
    "# 최대 평균값 인덱스 ==\n",
    "max_index = np.argmax(acc_total)\n",
    "# 최대 평균값 모델명 ==\n",
    "max_model = model_list[max_index]\n",
    "\n",
    "print('최고 교차 검증 평균>> ', max_value)\n",
    "print('최고 교차 검증 인덱스>> ', max_index)\n",
    "print('최고 교차 검증 모델링>> ', max_model)"
   ]
  },
  {
   "cell_type": "code",
   "execution_count": 69,
   "id": "062cd1ff",
   "metadata": {},
   "outputs": [
    {
     "data": {
      "image/png": "[encoded data removed]",
      "text/plain": [
       "<Figure size 432x288 with 1 Axes>"
      ]
     },
     "metadata": {
      "needs_background": "light"
     },
     "output_type": "display_data"
    }
   ],
   "source": [
    "plt.bar(np.arange(len(acc_total)), \n",
    "        acc_total,color = ['yellow', 'cyan', 'pink'], alpha = 0.5,\n",
    "        edgecolor = 'black', linewidth = 2.5)\n",
    "plt.xticks(np.arange(len(acc_total)), model_list, fontsize=12)\n",
    "plt.xlabel('model', fontsize=12)\n",
    "plt.ylabel('avg score', fontsize=12)\n",
    "add_value_label(model_list, np.round(acc_total, 3))\n",
    "plt.show()"
   ]
  },
  {
   "cell_type": "code",
   "execution_count": 48,
   "id": "912dbbbb",
   "metadata": {},
   "outputs": [
    {
     "data": {
      "text/plain": [
       "[0.8966001995884506, 0.9267714288970217, 0.9364667309169998]"
      ]
     },
     "execution_count": 48,
     "metadata": {},
     "output_type": "execute_result"
    }
   ],
   "source": [
    "acc_total"
   ]
  },
  {
   "cell_type": "code",
   "execution_count": 65,
   "id": "745c14e2",
   "metadata": {},
   "outputs": [],
   "source": [
    "def add_value_label(x_list,y_list):\n",
    "    for i in range(1, len(x_list)+1):\n",
    "        plt.text(i-1,y_list[i-1],y_list[i-1], \n",
    "                 fontsize=15,\n",
    "                 color=\"blue\",\n",
    "                 ha=\"center\")"
   ]
  },
  {
   "cell_type": "code",
   "execution_count": null,
   "id": "8e3eba31",
   "metadata": {},
   "outputs": [],
   "source": []
  }
 ],
 "metadata": {
  "kernelspec": {
   "display_name": "Python 3 (ipykernel)",
   "language": "python",
   "name": "python3"
  },
  "language_info": {
   "codemirror_mode": {
    "name": "ipython",
    "version": 3
   },
   "file_extension": ".py",
   "mimetype": "text/x-python",
   "name": "python",
   "nbconvert_exporter": "python",
   "pygments_lexer": "ipython3",
   "version": "3.9.12"
  }
 },
 "nbformat": 4,
 "nbformat_minor": 5
}
