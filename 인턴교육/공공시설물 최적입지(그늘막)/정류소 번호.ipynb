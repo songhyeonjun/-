{
 "cells": [
  {
   "cell_type": "markdown",
   "id": "df611cc4",
   "metadata": {},
   "source": [
    "# OPEN API 활용한 정류소 번호 "
   ]
  },
  {
   "cell_type": "code",
   "execution_count": 28,
   "id": "843d3351",
   "metadata": {},
   "outputs": [
    {
     "name": "stdout",
     "output_type": "stream",
     "text": [
      "<?xml version=\"1.0\" encoding=\"UTF-8\" standalone=\"yes\"?><response><header><resultCode>00</resultCode><resultMsg>NORMAL SERVICE.</resultMsg></header><body><items><item><endnodenm>청벽산공원</endnodenm><routeid>DJB30300001</routeid><routeno>1</routeno><routetp>마을버스</routetp><startnodenm>충대농대종점</startnodenm></item><item><endnodenm>시청</endnodenm><routeid>DJB30300096</routeid><routeno>918</routeno><routetp>간선버스</routetp><startnodenm>탑립동</startnodenm></item><item><endnodenm>대덕대학</endnodenm><routeid>DJB30300050</routeid><routeno>121</routeno><routetp>간선버스</routetp><startnodenm>탑립동</startnodenm></item></items><numOfRows>10</numOfRows><pageNo>1</pageNo><totalCount>3</totalCount></body></response>\n"
     ]
    }
   ],
   "source": [
    "from urllib.parse import urlencode, quote_plus\n",
    "import requests\n",
    "\n",
    "requests.utils.unquote('')\n",
    "\n",
    "url = 'http://apis.data.go.kr/1613000/BusSttnInfoInqireService/getSttnThrghRouteList'\n",
    "\n",
    "Params = {'serviceKey' : requests.utils.unquote(''), # 인증키가 이미 UTF-8로 제공되고 있기 때문에 디코딩 작업 필요\n",
    "         'pageNo' : '1', \n",
    "         'numOfRows' : '10', \n",
    "         '_type' : 'xml', \n",
    "         'cityCode' : '25', \n",
    "         'nodeid' : 'DJB8002536' }\n",
    "\n",
    "headers = {\n",
    "    'User-Agent': \"PostmanRuntime/7.17.1\",\n",
    "    'Accept': \"*/*\",\n",
    "    'Cache-Control': \"no-cache\",\n",
    "    'Postman-Token': \"95c151d9-9676-4069-a9b5-9bbd72bf5319,cd4efab7-c0c4-4714-a2a3-2a6e03677233\",\n",
    "    'Host': \"openapi.molit.go.kr:8081\",\n",
    "    'Accept-Encoding': \"gzip, deflate\",\n",
    "    'Cookie': \"ROUTEID=.HTTP1\",\n",
    "    'Connection': \"keep-alive\",\n",
    "    'cache-control': \"no-cache\"\n",
    "    } \n",
    "\n",
    "\n",
    "response = requests.get(url, headers=headers, params=Params)\n",
    "print(response.text)"
   ]
  },
  {
   "cell_type": "code",
   "execution_count": null,
   "id": "d97a88de",
   "metadata": {},
   "outputs": [],
   "source": []
  }
 ],
 "metadata": {
  "kernelspec": {
   "display_name": "Python 3 (ipykernel)",
   "language": "python",
   "name": "python3"
  },
  "language_info": {
   "codemirror_mode": {
    "name": "ipython",
    "version": 3
   },
   "file_extension": ".py",
   "mimetype": "text/x-python",
   "name": "python",
   "nbconvert_exporter": "python",
   "pygments_lexer": "ipython3",
   "version": "3.9.12"
  }
 },
 "nbformat": 4,
 "nbformat_minor": 5
}
