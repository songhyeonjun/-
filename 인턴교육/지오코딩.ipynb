{
 "cells": [
  {
   "cell_type": "code",
   "execution_count": 1,
   "id": "dd08148a",
   "metadata": {},
   "outputs": [],
   "source": [
    "import pandas as pd\n",
    "import numpy as np"
   ]
  },
  {
   "cell_type": "code",
   "execution_count": 3,
   "id": "d364bde6",
   "metadata": {},
   "outputs": [
    {
     "name": "stdout",
     "output_type": "stream",
     "text": [
      "{'lat': '33.4621910539136', 'lng': '126.328972924341'}\n"
     ]
    }
   ],
   "source": [
    "# 카카오API를 사용하여 주소->좌표 변환 일일 100,000만건 가능\n",
    "import requests, json\n",
    "\n",
    "def get_location(address):\n",
    "\n",
    "    url = 'https://dapi.kakao.com/v2/local/search/address.json?query=' + address\n",
    "      # 'KaKaoAK '는 그대로 두시고 개인키만 지우고 입력해 주세요.\n",
    "      # ex) KakaoAK 6af8d4826f0e56c54bc794fa8a294\n",
    "    headers = {\"Authorization\": \"KakaoAK b8b4f7372b3b310b3cca48bfe7fb2d8d\"}\n",
    "    api_json = json.loads(str(requests.get(url,headers=headers).text))\n",
    "    address = api_json['documents'][0]['address']\n",
    "    crd = {\"lat\": str(address['y']), \"lng\": str(address['x'])}\n",
    "    address_name = address['address_name']\n",
    "\n",
    "    return crd\n",
    "\n",
    "crd = get_location(\"제주 애월읍\")\n",
    "print(crd)"
   ]
  },
  {
   "cell_type": "code",
   "execution_count": 7,
   "id": "bf254c16",
   "metadata": {},
   "outputs": [
    {
     "data": {
      "text/html": [
       "<div>\n",
       "<style scoped>\n",
       "    .dataframe tbody tr th:only-of-type {\n",
       "        vertical-align: middle;\n",
       "    }\n",
       "\n",
       "    .dataframe tbody tr th {\n",
       "        vertical-align: top;\n",
       "    }\n",
       "\n",
       "    .dataframe thead th {\n",
       "        text-align: right;\n",
       "    }\n",
       "</style>\n",
       "<table border=\"1\" class=\"dataframe\">\n",
       "  <thead>\n",
       "    <tr style=\"text-align: right;\">\n",
       "      <th></th>\n",
       "      <th>번호</th>\n",
       "      <th>신고일</th>\n",
       "      <th>구정보</th>\n",
       "      <th>주소</th>\n",
       "      <th>유형</th>\n",
       "      <th>조치일</th>\n",
       "    </tr>\n",
       "  </thead>\n",
       "  <tbody>\n",
       "    <tr>\n",
       "      <th>0</th>\n",
       "      <td>1</td>\n",
       "      <td>2021-08-17</td>\n",
       "      <td>동대문구</td>\n",
       "      <td>서울특별시 동대문구 답십리동 496-12</td>\n",
       "      <td>횡단보도, 산책로 등</td>\n",
       "      <td>2021-08-17</td>\n",
       "    </tr>\n",
       "    <tr>\n",
       "      <th>1</th>\n",
       "      <td>2</td>\n",
       "      <td>2021-08-26</td>\n",
       "      <td>동대문구</td>\n",
       "      <td>서울특별시 동대문구 장안동 472-2</td>\n",
       "      <td>지하철역 진출입로 및 주변</td>\n",
       "      <td>2021-08-26</td>\n",
       "    </tr>\n",
       "    <tr>\n",
       "      <th>2</th>\n",
       "      <td>3</td>\n",
       "      <td>2021-08-26</td>\n",
       "      <td>동대문구</td>\n",
       "      <td>서울특별시 동대문구 장안동 472-2</td>\n",
       "      <td>지하철역 진출입로 및 주변</td>\n",
       "      <td>2021-08-26</td>\n",
       "    </tr>\n",
       "  </tbody>\n",
       "</table>\n",
       "</div>"
      ],
      "text/plain": [
       "   번호         신고일   구정보                      주소              유형         조치일\n",
       "0   1  2021-08-17  동대문구  서울특별시 동대문구 답십리동 496-12     횡단보도, 산책로 등  2021-08-17\n",
       "1   2  2021-08-26  동대문구    서울특별시 동대문구 장안동 472-2  지하철역 진출입로 및 주변  2021-08-26\n",
       "2   3  2021-08-26  동대문구    서울특별시 동대문구 장안동 472-2  지하철역 진출입로 및 주변  2021-08-26"
      ]
     },
     "execution_count": 7,
     "metadata": {},
     "output_type": "execute_result"
    }
   ],
   "source": [
    "df = pd.read_csv(\"C:/Users/user/Desktop/동대문구_전동킥보드_견인_현황_20220731.csv\", encoding='euckr')\n",
    "df.head(3)"
   ]
  },
  {
   "cell_type": "code",
   "execution_count": 8,
   "id": "a333ea52",
   "metadata": {},
   "outputs": [
    {
     "name": "stdout",
     "output_type": "stream",
     "text": [
      "[0       서울특별시 동대문구 답십리동 496-12\n",
      "1         서울특별시 동대문구 장안동 472-2\n",
      "2         서울특별시 동대문구 장안동 472-2\n",
      "3        서울특별시 동대문구 답십리동 524-1\n",
      "4       서울특별시 동대문구 답십리동 1013-2\n",
      "                 ...          \n",
      "2018      서울특별시 동대문구 휘경동 255-4\n",
      "2019      서울특별시 동대문구 휘경동 255-4\n",
      "2020      서울특별시 동대문구 휘경동 255-4\n",
      "2021      서울특별시 동대문구 이문동 237-3\n",
      "2022        서울특별시 동대문구 용두동 790\n",
      "Name: 주소, Length: 2023, dtype: object]\n"
     ]
    }
   ],
   "source": [
    "addr_list = []\n",
    "addr_list.append(df['주소'])\n",
    "print(addr_list)"
   ]
  },
  {
   "cell_type": "code",
   "execution_count": 43,
   "id": "6a1e89f1",
   "metadata": {},
   "outputs": [
    {
     "name": "stdout",
     "output_type": "stream",
     "text": [
      "값을 다 넣었습니다.\n"
     ]
    }
   ],
   "source": [
    "crd = []\n",
    "for i in addr_list :\n",
    "    for n in range(10) : # crd 리스트 안에 좌표값 넣기\n",
    "        try :\n",
    "            crd.append(get_location(i[n]))\n",
    "        except :\n",
    "            crd.append({'lat' : '0', 'lng' : '0'})\n",
    "    print('값을 다 넣었습니다.')"
   ]
  },
  {
   "cell_type": "code",
   "execution_count": 44,
   "id": "e220b5a2",
   "metadata": {},
   "outputs": [
    {
     "data": {
      "text/plain": [
       "10"
      ]
     },
     "execution_count": 44,
     "metadata": {},
     "output_type": "execute_result"
    }
   ],
   "source": [
    "len(crd)"
   ]
  },
  {
   "cell_type": "code",
   "execution_count": 45,
   "id": "dfe831b1",
   "metadata": {},
   "outputs": [
    {
     "ename": "ValueError",
     "evalue": "Length of values (10) does not match length of index (2023)",
     "output_type": "error",
     "traceback": [
      "\u001b[1;31m---------------------------------------------------------------------------\u001b[0m",
      "\u001b[1;31mValueError\u001b[0m                                Traceback (most recent call last)",
      "Input \u001b[1;32mIn [45]\u001b[0m, in \u001b[0;36m<cell line: 8>\u001b[1;34m()\u001b[0m\n\u001b[0;32m      5\u001b[0m     lng_list\u001b[38;5;241m.\u001b[39mappend(crd[i][\u001b[38;5;124m'\u001b[39m\u001b[38;5;124mlng\u001b[39m\u001b[38;5;124m'\u001b[39m])\n\u001b[0;32m      6\u001b[0m     lat_list\u001b[38;5;241m.\u001b[39mappend(crd[i][\u001b[38;5;124m'\u001b[39m\u001b[38;5;124mlat\u001b[39m\u001b[38;5;124m'\u001b[39m])\n\u001b[1;32m----> 8\u001b[0m df[\u001b[38;5;124m'\u001b[39m\u001b[38;5;124mlng\u001b[39m\u001b[38;5;124m'\u001b[39m] \u001b[38;5;241m=\u001b[39m lng_list\n\u001b[0;32m      9\u001b[0m df[\u001b[38;5;124m'\u001b[39m\u001b[38;5;124mlat\u001b[39m\u001b[38;5;124m'\u001b[39m] \u001b[38;5;241m=\u001b[39m lat_list\n\u001b[0;32m     11\u001b[0m df\n",
      "File \u001b[1;32m~\\anaconda3\\lib\\site-packages\\pandas\\core\\frame.py:3655\u001b[0m, in \u001b[0;36mDataFrame.__setitem__\u001b[1;34m(self, key, value)\u001b[0m\n\u001b[0;32m   3652\u001b[0m     \u001b[38;5;28mself\u001b[39m\u001b[38;5;241m.\u001b[39m_setitem_array([key], value)\n\u001b[0;32m   3653\u001b[0m \u001b[38;5;28;01melse\u001b[39;00m:\n\u001b[0;32m   3654\u001b[0m     \u001b[38;5;66;03m# set column\u001b[39;00m\n\u001b[1;32m-> 3655\u001b[0m     \u001b[38;5;28;43mself\u001b[39;49m\u001b[38;5;241;43m.\u001b[39;49m\u001b[43m_set_item\u001b[49m\u001b[43m(\u001b[49m\u001b[43mkey\u001b[49m\u001b[43m,\u001b[49m\u001b[43m \u001b[49m\u001b[43mvalue\u001b[49m\u001b[43m)\u001b[49m\n",
      "File \u001b[1;32m~\\anaconda3\\lib\\site-packages\\pandas\\core\\frame.py:3832\u001b[0m, in \u001b[0;36mDataFrame._set_item\u001b[1;34m(self, key, value)\u001b[0m\n\u001b[0;32m   3822\u001b[0m \u001b[38;5;28;01mdef\u001b[39;00m \u001b[38;5;21m_set_item\u001b[39m(\u001b[38;5;28mself\u001b[39m, key, value) \u001b[38;5;241m-\u001b[39m\u001b[38;5;241m>\u001b[39m \u001b[38;5;28;01mNone\u001b[39;00m:\n\u001b[0;32m   3823\u001b[0m     \u001b[38;5;124;03m\"\"\"\u001b[39;00m\n\u001b[0;32m   3824\u001b[0m \u001b[38;5;124;03m    Add series to DataFrame in specified column.\u001b[39;00m\n\u001b[0;32m   3825\u001b[0m \n\u001b[1;32m   (...)\u001b[0m\n\u001b[0;32m   3830\u001b[0m \u001b[38;5;124;03m    ensure homogeneity.\u001b[39;00m\n\u001b[0;32m   3831\u001b[0m \u001b[38;5;124;03m    \"\"\"\u001b[39;00m\n\u001b[1;32m-> 3832\u001b[0m     value \u001b[38;5;241m=\u001b[39m \u001b[38;5;28;43mself\u001b[39;49m\u001b[38;5;241;43m.\u001b[39;49m\u001b[43m_sanitize_column\u001b[49m\u001b[43m(\u001b[49m\u001b[43mvalue\u001b[49m\u001b[43m)\u001b[49m\n\u001b[0;32m   3834\u001b[0m     \u001b[38;5;28;01mif\u001b[39;00m (\n\u001b[0;32m   3835\u001b[0m         key \u001b[38;5;129;01min\u001b[39;00m \u001b[38;5;28mself\u001b[39m\u001b[38;5;241m.\u001b[39mcolumns\n\u001b[0;32m   3836\u001b[0m         \u001b[38;5;129;01mand\u001b[39;00m value\u001b[38;5;241m.\u001b[39mndim \u001b[38;5;241m==\u001b[39m \u001b[38;5;241m1\u001b[39m\n\u001b[0;32m   3837\u001b[0m         \u001b[38;5;129;01mand\u001b[39;00m \u001b[38;5;129;01mnot\u001b[39;00m is_extension_array_dtype(value)\n\u001b[0;32m   3838\u001b[0m     ):\n\u001b[0;32m   3839\u001b[0m         \u001b[38;5;66;03m# broadcast across multiple columns if necessary\u001b[39;00m\n\u001b[0;32m   3840\u001b[0m         \u001b[38;5;28;01mif\u001b[39;00m \u001b[38;5;129;01mnot\u001b[39;00m \u001b[38;5;28mself\u001b[39m\u001b[38;5;241m.\u001b[39mcolumns\u001b[38;5;241m.\u001b[39mis_unique \u001b[38;5;129;01mor\u001b[39;00m \u001b[38;5;28misinstance\u001b[39m(\u001b[38;5;28mself\u001b[39m\u001b[38;5;241m.\u001b[39mcolumns, MultiIndex):\n",
      "File \u001b[1;32m~\\anaconda3\\lib\\site-packages\\pandas\\core\\frame.py:4535\u001b[0m, in \u001b[0;36mDataFrame._sanitize_column\u001b[1;34m(self, value)\u001b[0m\n\u001b[0;32m   4532\u001b[0m     \u001b[38;5;28;01mreturn\u001b[39;00m _reindex_for_setitem(value, \u001b[38;5;28mself\u001b[39m\u001b[38;5;241m.\u001b[39mindex)\n\u001b[0;32m   4534\u001b[0m \u001b[38;5;28;01mif\u001b[39;00m is_list_like(value):\n\u001b[1;32m-> 4535\u001b[0m     \u001b[43mcom\u001b[49m\u001b[38;5;241;43m.\u001b[39;49m\u001b[43mrequire_length_match\u001b[49m\u001b[43m(\u001b[49m\u001b[43mvalue\u001b[49m\u001b[43m,\u001b[49m\u001b[43m \u001b[49m\u001b[38;5;28;43mself\u001b[39;49m\u001b[38;5;241;43m.\u001b[39;49m\u001b[43mindex\u001b[49m\u001b[43m)\u001b[49m\n\u001b[0;32m   4536\u001b[0m \u001b[38;5;28;01mreturn\u001b[39;00m sanitize_array(value, \u001b[38;5;28mself\u001b[39m\u001b[38;5;241m.\u001b[39mindex, copy\u001b[38;5;241m=\u001b[39m\u001b[38;5;28;01mTrue\u001b[39;00m, allow_2d\u001b[38;5;241m=\u001b[39m\u001b[38;5;28;01mTrue\u001b[39;00m)\n",
      "File \u001b[1;32m~\\anaconda3\\lib\\site-packages\\pandas\\core\\common.py:557\u001b[0m, in \u001b[0;36mrequire_length_match\u001b[1;34m(data, index)\u001b[0m\n\u001b[0;32m    553\u001b[0m \u001b[38;5;124;03m\"\"\"\u001b[39;00m\n\u001b[0;32m    554\u001b[0m \u001b[38;5;124;03mCheck the length of data matches the length of the index.\u001b[39;00m\n\u001b[0;32m    555\u001b[0m \u001b[38;5;124;03m\"\"\"\u001b[39;00m\n\u001b[0;32m    556\u001b[0m \u001b[38;5;28;01mif\u001b[39;00m \u001b[38;5;28mlen\u001b[39m(data) \u001b[38;5;241m!=\u001b[39m \u001b[38;5;28mlen\u001b[39m(index):\n\u001b[1;32m--> 557\u001b[0m     \u001b[38;5;28;01mraise\u001b[39;00m \u001b[38;5;167;01mValueError\u001b[39;00m(\n\u001b[0;32m    558\u001b[0m         \u001b[38;5;124m\"\u001b[39m\u001b[38;5;124mLength of values \u001b[39m\u001b[38;5;124m\"\u001b[39m\n\u001b[0;32m    559\u001b[0m         \u001b[38;5;124mf\u001b[39m\u001b[38;5;124m\"\u001b[39m\u001b[38;5;124m(\u001b[39m\u001b[38;5;132;01m{\u001b[39;00m\u001b[38;5;28mlen\u001b[39m(data)\u001b[38;5;132;01m}\u001b[39;00m\u001b[38;5;124m) \u001b[39m\u001b[38;5;124m\"\u001b[39m\n\u001b[0;32m    560\u001b[0m         \u001b[38;5;124m\"\u001b[39m\u001b[38;5;124mdoes not match length of index \u001b[39m\u001b[38;5;124m\"\u001b[39m\n\u001b[0;32m    561\u001b[0m         \u001b[38;5;124mf\u001b[39m\u001b[38;5;124m\"\u001b[39m\u001b[38;5;124m(\u001b[39m\u001b[38;5;132;01m{\u001b[39;00m\u001b[38;5;28mlen\u001b[39m(index)\u001b[38;5;132;01m}\u001b[39;00m\u001b[38;5;124m)\u001b[39m\u001b[38;5;124m\"\u001b[39m\n\u001b[0;32m    562\u001b[0m     )\n",
      "\u001b[1;31mValueError\u001b[0m: Length of values (10) does not match length of index (2023)"
     ]
    }
   ],
   "source": [
    "# 리스트에 lng, lat 값을 넣고 df에 추가\n",
    "lng_list = []\n",
    "lat_list = []\n",
    "for i in range(len(crd)) :\n",
    "    lng_list.append(crd[i]['lng'])\n",
    "    lat_list.append(crd[i]['lat'])\n",
    "    \n",
    "df['lng'] = lng_list\n",
    "df['lat'] = lat_list\n",
    "\n",
    "df"
   ]
  },
  {
   "cell_type": "code",
   "execution_count": 7,
   "id": "b663ec1b",
   "metadata": {},
   "outputs": [],
   "source": [
    "df.to_csv(\"C:/Users/user/Desktop/동대문구_전동킥보드_좌표추가.csv\", encoding='euckr')"
   ]
  },
  {
   "cell_type": "code",
   "execution_count": null,
   "id": "6e890a5e",
   "metadata": {},
   "outputs": [],
   "source": []
  },
  {
   "cell_type": "markdown",
   "id": "c701d8ed",
   "metadata": {},
   "source": [
    "## CCTV 좌표 추가"
   ]
  },
  {
   "cell_type": "code",
   "execution_count": 49,
   "id": "09d3c68a",
   "metadata": {},
   "outputs": [
    {
     "data": {
      "text/html": [
       "<div>\n",
       "<style scoped>\n",
       "    .dataframe tbody tr th:only-of-type {\n",
       "        vertical-align: middle;\n",
       "    }\n",
       "\n",
       "    .dataframe tbody tr th {\n",
       "        vertical-align: top;\n",
       "    }\n",
       "\n",
       "    .dataframe thead th {\n",
       "        text-align: right;\n",
       "    }\n",
       "</style>\n",
       "<table border=\"1\" class=\"dataframe\">\n",
       "  <thead>\n",
       "    <tr style=\"text-align: right;\">\n",
       "      <th></th>\n",
       "      <th>최초차량번호</th>\n",
       "      <th>단속일시</th>\n",
       "      <th>과태료</th>\n",
       "      <th>단속지역</th>\n",
       "      <th>단속장소</th>\n",
       "      <th>단속조명</th>\n",
       "      <th>사진</th>\n",
       "      <th>처리상태</th>\n",
       "      <th>적용법조</th>\n",
       "      <th>위반내용</th>\n",
       "      <th>차종</th>\n",
       "      <th>차명</th>\n",
       "      <th>차량구분</th>\n",
       "      <th>견인지시</th>\n",
       "      <th>발행번호</th>\n",
       "      <th>단속구분</th>\n",
       "    </tr>\n",
       "  </thead>\n",
       "  <tbody>\n",
       "    <tr>\n",
       "      <th>0</th>\n",
       "      <td>31두3946</td>\n",
       "      <td>2020-01-01 10:02</td>\n",
       "      <td>64000</td>\n",
       "      <td>답십리동</td>\n",
       "      <td>답십리초후문(사가정로2길 123)</td>\n",
       "      <td>961</td>\n",
       "      <td>4</td>\n",
       "      <td>자납</td>\n",
       "      <td>33</td>\n",
       "      <td>주차금지(황색점선)구역</td>\n",
       "      <td>승용</td>\n",
       "      <td>그랜저(GRANDEUR)</td>\n",
       "      <td>일반</td>\n",
       "      <td>미견인</td>\n",
       "      <td>NaN</td>\n",
       "      <td>CCTV</td>\n",
       "    </tr>\n",
       "    <tr>\n",
       "      <th>1</th>\n",
       "      <td>82가9273</td>\n",
       "      <td>2020-01-01 10:02</td>\n",
       "      <td>32000</td>\n",
       "      <td>신설동</td>\n",
       "      <td>신설동 67-1(한빛로 11)</td>\n",
       "      <td>812</td>\n",
       "      <td>4</td>\n",
       "      <td>자납</td>\n",
       "      <td>32</td>\n",
       "      <td>주정차금지(황색실선)구역</td>\n",
       "      <td>화물4톤이하</td>\n",
       "      <td>포터Ⅱ(PORTERⅡ)</td>\n",
       "      <td>일반</td>\n",
       "      <td>미견인</td>\n",
       "      <td>NaN</td>\n",
       "      <td>CCTV</td>\n",
       "    </tr>\n",
       "    <tr>\n",
       "      <th>2</th>\n",
       "      <td>43나2475</td>\n",
       "      <td>2020-01-01 10:09</td>\n",
       "      <td>40000</td>\n",
       "      <td>신설동</td>\n",
       "      <td>신설동 67-1(한빛로 11)</td>\n",
       "      <td>812</td>\n",
       "      <td>4</td>\n",
       "      <td>압류</td>\n",
       "      <td>32</td>\n",
       "      <td>주정차금지(황색실선)구역</td>\n",
       "      <td>승용</td>\n",
       "      <td>K9</td>\n",
       "      <td>일반</td>\n",
       "      <td>미견인</td>\n",
       "      <td>NaN</td>\n",
       "      <td>CCTV</td>\n",
       "    </tr>\n",
       "  </tbody>\n",
       "</table>\n",
       "</div>"
      ],
      "text/plain": [
       "    최초차량번호              단속일시    과태료  단속지역                단속장소 단속조명  사진 처리상태  \\\n",
       "0  31두3946  2020-01-01 10:02  64000  답십리동  답십리초후문(사가정로2길 123)  961   4   자납   \n",
       "1  82가9273  2020-01-01 10:02  32000   신설동    신설동 67-1(한빛로 11)  812   4   자납   \n",
       "2  43나2475  2020-01-01 10:09  40000   신설동    신설동 67-1(한빛로 11)  812   4   압류   \n",
       "\n",
       "   적용법조           위반내용      차종             차명 차량구분 견인지시 발행번호  단속구분  \n",
       "0    33   주차금지(황색점선)구역      승용  그랜저(GRANDEUR)   일반  미견인  NaN  CCTV  \n",
       "1    32  주정차금지(황색실선)구역  화물4톤이하   포터Ⅱ(PORTERⅡ)   일반  미견인  NaN  CCTV  \n",
       "2    32  주정차금지(황색실선)구역      승용             K9   일반  미견인  NaN  CCTV  "
      ]
     },
     "execution_count": 49,
     "metadata": {},
     "output_type": "execute_result"
    }
   ],
   "source": [
    "df = pd.read_excel(\"C:/Users/user/Desktop/자동차세 동대문구/01.Data/단속장소별 단속현황_cctv만 추출(2020+2021).xlsx\")\n",
    "df.head(3)"
   ]
  },
  {
   "cell_type": "code",
   "execution_count": 52,
   "id": "cef69f27",
   "metadata": {},
   "outputs": [],
   "source": [
    "def geocoding_test(df) :\n",
    "    addr_list = []\n",
    "    addr_list.append(df['단속장소']) ####### 주소 컬럼명 입력\n",
    "    print(addr_list)\n",
    "\n",
    "    crd = []\n",
    "    for i in addr_list :\n",
    "        for n in range(i.count()) : # crd 리스트 안에 좌표값 넣기\n",
    "            if n % 1000 == 0 :\n",
    "                print(n + 1, \"번째 값을 넣고 있습니다.\")\n",
    "            try :\n",
    "                crd.append(get_location(i[n]))\n",
    "            except :\n",
    "                crd.append({'lat' : '0', 'lng' : '0'})\n",
    "        print('값을 다 넣었습니다.')\n",
    "    \n",
    "    # 리스트에 lng, lat 값을 넣고 df에 추가\n",
    "    lng_list = []\n",
    "    lat_list = []\n",
    "    for i in range(len(crd)) :\n",
    "        lng_list.append(crd[i]['lng'])\n",
    "        lat_list.append(crd[i]['lat'])\n",
    "    \n",
    "    df['lng'] = lng_list\n",
    "    df['lat'] = lat_list\n",
    "\n",
    "    # 저장 위치 및 이름 설정\n",
    "    df.to_csv(\"C:/Users/user/Desktop/cctv_좌표추가.csv\", encoding='euckr')"
   ]
  },
  {
   "cell_type": "code",
   "execution_count": 53,
   "id": "05d2fbd5",
   "metadata": {},
   "outputs": [
    {
     "name": "stdout",
     "output_type": "stream",
     "text": [
      "[0            답십리초후문(사가정로2길 123)\n",
      "1              신설동 67-1(한빛로 11)\n",
      "2              신설동 67-1(한빛로 11)\n",
      "3             전농1동 644-88 우리외과앞\n",
      "4        장안2동 335-10(장한로26길 27)\n",
      "                  ...          \n",
      "87040       서울특별시 동대문구 청계천로 493\n",
      "87041      서울특별시 동대문구 청계천로13길 6\n",
      "87042      서울특별시 동대문구 청계천로13길 6\n",
      "87043       서울특별시 동대문구 청계천로 497\n",
      "87044       서울특별시 동대문구 청계천로 491\n",
      "Name: 단속장소, Length: 87045, dtype: object]\n",
      "1 번째 값을 넣고 있습니다.\n",
      "1001 번째 값을 넣고 있습니다.\n",
      "2001 번째 값을 넣고 있습니다.\n",
      "3001 번째 값을 넣고 있습니다.\n",
      "4001 번째 값을 넣고 있습니다.\n",
      "5001 번째 값을 넣고 있습니다.\n",
      "6001 번째 값을 넣고 있습니다.\n",
      "7001 번째 값을 넣고 있습니다.\n",
      "8001 번째 값을 넣고 있습니다.\n",
      "9001 번째 값을 넣고 있습니다.\n",
      "10001 번째 값을 넣고 있습니다.\n",
      "11001 번째 값을 넣고 있습니다.\n",
      "12001 번째 값을 넣고 있습니다.\n",
      "13001 번째 값을 넣고 있습니다.\n",
      "14001 번째 값을 넣고 있습니다.\n",
      "15001 번째 값을 넣고 있습니다.\n",
      "16001 번째 값을 넣고 있습니다.\n",
      "17001 번째 값을 넣고 있습니다.\n",
      "18001 번째 값을 넣고 있습니다.\n",
      "19001 번째 값을 넣고 있습니다.\n",
      "20001 번째 값을 넣고 있습니다.\n",
      "21001 번째 값을 넣고 있습니다.\n",
      "22001 번째 값을 넣고 있습니다.\n",
      "23001 번째 값을 넣고 있습니다.\n",
      "24001 번째 값을 넣고 있습니다.\n",
      "25001 번째 값을 넣고 있습니다.\n",
      "26001 번째 값을 넣고 있습니다.\n",
      "27001 번째 값을 넣고 있습니다.\n",
      "28001 번째 값을 넣고 있습니다.\n",
      "29001 번째 값을 넣고 있습니다.\n",
      "30001 번째 값을 넣고 있습니다.\n",
      "31001 번째 값을 넣고 있습니다.\n",
      "32001 번째 값을 넣고 있습니다.\n",
      "33001 번째 값을 넣고 있습니다.\n",
      "34001 번째 값을 넣고 있습니다.\n",
      "35001 번째 값을 넣고 있습니다.\n",
      "36001 번째 값을 넣고 있습니다.\n",
      "37001 번째 값을 넣고 있습니다.\n",
      "38001 번째 값을 넣고 있습니다.\n",
      "39001 번째 값을 넣고 있습니다.\n",
      "40001 번째 값을 넣고 있습니다.\n",
      "41001 번째 값을 넣고 있습니다.\n",
      "42001 번째 값을 넣고 있습니다.\n",
      "43001 번째 값을 넣고 있습니다.\n",
      "44001 번째 값을 넣고 있습니다.\n",
      "45001 번째 값을 넣고 있습니다.\n",
      "46001 번째 값을 넣고 있습니다.\n",
      "47001 번째 값을 넣고 있습니다.\n",
      "48001 번째 값을 넣고 있습니다.\n",
      "49001 번째 값을 넣고 있습니다.\n",
      "50001 번째 값을 넣고 있습니다.\n",
      "51001 번째 값을 넣고 있습니다.\n",
      "52001 번째 값을 넣고 있습니다.\n",
      "53001 번째 값을 넣고 있습니다.\n",
      "54001 번째 값을 넣고 있습니다.\n",
      "55001 번째 값을 넣고 있습니다.\n",
      "56001 번째 값을 넣고 있습니다.\n",
      "57001 번째 값을 넣고 있습니다.\n",
      "58001 번째 값을 넣고 있습니다.\n",
      "59001 번째 값을 넣고 있습니다.\n",
      "60001 번째 값을 넣고 있습니다.\n",
      "61001 번째 값을 넣고 있습니다.\n",
      "62001 번째 값을 넣고 있습니다.\n",
      "63001 번째 값을 넣고 있습니다.\n",
      "64001 번째 값을 넣고 있습니다.\n",
      "65001 번째 값을 넣고 있습니다.\n",
      "66001 번째 값을 넣고 있습니다.\n",
      "67001 번째 값을 넣고 있습니다.\n",
      "68001 번째 값을 넣고 있습니다.\n",
      "69001 번째 값을 넣고 있습니다.\n",
      "70001 번째 값을 넣고 있습니다.\n",
      "71001 번째 값을 넣고 있습니다.\n",
      "72001 번째 값을 넣고 있습니다.\n",
      "73001 번째 값을 넣고 있습니다.\n",
      "74001 번째 값을 넣고 있습니다.\n",
      "75001 번째 값을 넣고 있습니다.\n",
      "76001 번째 값을 넣고 있습니다.\n",
      "77001 번째 값을 넣고 있습니다.\n",
      "78001 번째 값을 넣고 있습니다.\n",
      "79001 번째 값을 넣고 있습니다.\n",
      "80001 번째 값을 넣고 있습니다.\n",
      "81001 번째 값을 넣고 있습니다.\n",
      "82001 번째 값을 넣고 있습니다.\n",
      "83001 번째 값을 넣고 있습니다.\n",
      "84001 번째 값을 넣고 있습니다.\n",
      "85001 번째 값을 넣고 있습니다.\n",
      "86001 번째 값을 넣고 있습니다.\n",
      "87001 번째 값을 넣고 있습니다.\n",
      "값을 다 넣었습니다.\n"
     ]
    }
   ],
   "source": [
    "geocoding_test(df)"
   ]
  },
  {
   "cell_type": "code",
   "execution_count": null,
   "id": "7d7e94f9",
   "metadata": {},
   "outputs": [],
   "source": []
  }
 ],
 "metadata": {
  "kernelspec": {
   "display_name": "Python 3 (ipykernel)",
   "language": "python",
   "name": "python3"
  },
  "language_info": {
   "codemirror_mode": {
    "name": "ipython",
    "version": 3
   },
   "file_extension": ".py",
   "mimetype": "text/x-python",
   "name": "python",
   "nbconvert_exporter": "python",
   "pygments_lexer": "ipython3",
   "version": "3.9.12"
  }
 },
 "nbformat": 4,
 "nbformat_minor": 5
}
