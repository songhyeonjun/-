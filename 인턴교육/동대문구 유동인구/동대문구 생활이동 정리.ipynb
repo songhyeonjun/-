{
 "cells": [
  {
   "cell_type": "code",
   "execution_count": null,
   "id": "ec52663a",
   "metadata": {},
   "outputs": [],
   "source": [
    "import pandas as pd\n",
    "import os\n",
    "\n",
    "import warnings\n",
    "\n",
    "warnings.simplefilter(action='ignore', category=FutureWarning)\n",
    "\n",
    "import random\n",
    "import pandas as pd\n",
    "import numpy as np\n",
    "from scipy import stats\n",
    "import math\n",
    "import matplotlib.pyplot as plt\n",
    "import seaborn as sns\n",
    "%matplotlib inline\n",
    "\n",
    "if os.name == 'nt' :\n",
    "    font_family = \"Malgun Gothic\"\n",
    "else:\n",
    "    font_family = \"AppleGothic\"\n",
    "    \n",
    "sns.set(font=font_family, rc ={\"axes.unicode_minus\" : False})"
   ]
  },
  {
   "cell_type": "markdown",
   "id": "93f0d217",
   "metadata": {},
   "source": [
    "## 데이터 확인"
   ]
  },
  {
   "cell_type": "code",
   "execution_count": null,
   "id": "02f26ff4",
   "metadata": {},
   "outputs": [],
   "source": [
    "df = pd.read_csv('C:/Users/user/Desktop/생활인구 분석/생활이동/data/21년 10월/생활이동_행정동_2021.10_00시.csv', encoding='cp949')\n",
    "df.head()"
   ]
  },
  {
   "cell_type": "markdown",
   "id": "fd384bbe",
   "metadata": {},
   "source": [
    "## 데이터 타입 확인"
   ]
  },
  {
   "cell_type": "code",
   "execution_count": null,
   "id": "e6d96f81",
   "metadata": {},
   "outputs": [],
   "source": [
    "df.dtypes"
   ]
  },
  {
   "cell_type": "markdown",
   "id": "be3944de",
   "metadata": {},
   "source": [
    "## 행정동 코드"
   ]
  },
  {
   "cell_type": "code",
   "execution_count": null,
   "id": "eecb0f54",
   "metadata": {},
   "outputs": [],
   "source": [
    "code = [\n",
    "    1106071, #회기동\n",
    "    1106072, # 휘경1동\n",
    "    1106073, # 휘경2동\n",
    "    1106080, # 청량리동\n",
    "    1106081, # 용신동\n",
    "    1106082, # 제기동\n",
    "    1106083, # 전농1동\n",
    "    1106084, # 전농2동\n",
    "    1106086, # 답십리2동\n",
    "    1106087, # 장안1동\n",
    "    1106088, # 장안2동\n",
    "    1106089, # 이문1동\n",
    "    1106090, # 이문2동\n",
    "    1106091  # 답십리1동\n",
    "]"
   ]
  },
  {
   "cell_type": "code",
   "execution_count": null,
   "id": "962448d7",
   "metadata": {},
   "outputs": [],
   "source": []
  },
  {
   "cell_type": "markdown",
   "id": "2f6da3a7",
   "metadata": {},
   "source": [
    "## 월별로 동대문구만 추출 후 통합\n",
    "### 데이터가 많아서 한번에 통합이 어려워 나눠서 통합 진행"
   ]
  },
  {
   "cell_type": "code",
   "execution_count": null,
   "id": "ba6ab9ac",
   "metadata": {},
   "outputs": [],
   "source": [
    "def integrated(forder_name) :\n",
    "    forders= os.listdir('C:/Users/user/Desktop/생활인구 분석/생활이동/data/'+forder_name)\n",
    "    os.chdir('C:/Users/user/Desktop/생활인구 분석/생활이동/data/'+forder_name) \n",
    "    # 새로운 데이터 프레임 생성\n",
    "    df_all = pd.DataFrame()\n",
    "\n",
    "    code = [\n",
    "        1106071, #회기동\n",
    "        1106072, # 휘경1동\n",
    "        1106073, # 휘경2동\n",
    "        1106080, # 청량리동\n",
    "        1106081, # 용신동\n",
    "        1106082, # 제기동\n",
    "        1106083, # 전농1동\n",
    "        1106084, # 전농2동\n",
    "        1106086, # 답십리2동\n",
    "        1106087, # 장안1동\n",
    "        1106088, # 장안2동\n",
    "        1106089, # 이문1동\n",
    "        1106090, # 이문2동\n",
    "        1106091  # 답십리1동\n",
    "    ]\n",
    "\n",
    "    for files in forders:\n",
    "        df= pd.read_csv(files, encoding='cp949')\n",
    "        df = df[df['출발 행정동 코드'].isin(code) | df['도착 행정동 코드'].isin(code)]\n",
    "        df_all= pd.concat([df_all, df])\n",
    "    df_all.to_csv('C:/Users/user/Desktop/생활인구 분석/생활이동/data/'+forder_name+'/'+forder_name+' 통합.csv', encoding='cp949')"
   ]
  },
  {
   "cell_type": "code",
   "execution_count": null,
   "id": "f4ba3884",
   "metadata": {},
   "outputs": [],
   "source": [
    "for i in range(1, 10) :\n",
    "    integrated('22년 '+ str(i) +'월')"
   ]
  },
  {
   "cell_type": "code",
   "execution_count": null,
   "id": "c92e8cfd",
   "metadata": {},
   "outputs": [],
   "source": [
    "df_all.shape"
   ]
  },
  {
   "cell_type": "code",
   "execution_count": null,
   "id": "5aab3c86",
   "metadata": {},
   "outputs": [],
   "source": []
  },
  {
   "cell_type": "markdown",
   "id": "1609a54b",
   "metadata": {},
   "source": [
    "## 하나로 통합\n",
    "### 파일리스트 저장"
   ]
  },
  {
   "cell_type": "code",
   "execution_count": null,
   "id": "a243b716",
   "metadata": {},
   "outputs": [],
   "source": [
    "forders= os.listdir('C:/Users/user/Desktop/생활인구 분석/생활이동/data/월별 통합본')"
   ]
  },
  {
   "cell_type": "markdown",
   "id": "14bc3e8f",
   "metadata": {},
   "source": [
    "### 현재 작업위치(working directory) 이동"
   ]
  },
  {
   "cell_type": "code",
   "execution_count": null,
   "id": "a315c0e2",
   "metadata": {},
   "outputs": [],
   "source": [
    "cd C:/Users/user/Desktop/생활인구 분석/생활이동/data/월별 통합본"
   ]
  },
  {
   "cell_type": "markdown",
   "id": "4658be93",
   "metadata": {},
   "source": [
    "### 데이터 통합"
   ]
  },
  {
   "cell_type": "code",
   "execution_count": null,
   "id": "d81f83d4",
   "metadata": {},
   "outputs": [],
   "source": [
    "# 새로운 데이터 프레임 생성\n",
    "df_all = pd.DataFrame()\n",
    "\n",
    "for files in forders:\n",
    "    df= pd.read_csv(files, encoding='cp949')\n",
    "    df_all= pd.concat([df_all, df])"
   ]
  },
  {
   "cell_type": "code",
   "execution_count": null,
   "id": "b689d203",
   "metadata": {},
   "outputs": [],
   "source": [
    "df_all = df_all.drop('Unnamed: 0', axis=1)"
   ]
  },
  {
   "cell_type": "code",
   "execution_count": null,
   "id": "80bef3a4",
   "metadata": {},
   "outputs": [],
   "source": [
    "df_all.to_csv('C:/Users/user/Desktop/생활인구 분석/생활이동/data/통합최종본.csv', encoding='cp949')"
   ]
  },
  {
   "cell_type": "code",
   "execution_count": null,
   "id": "ed9545f8",
   "metadata": {},
   "outputs": [],
   "source": []
  },
  {
   "cell_type": "markdown",
   "id": "857923a9",
   "metadata": {},
   "source": [
    "## 통합본 불러오기"
   ]
  },
  {
   "cell_type": "code",
   "execution_count": null,
   "id": "d8e7f295",
   "metadata": {},
   "outputs": [],
   "source": [
    "df_all = pd.read_csv('C:/Users/user/Desktop/생활인구 분석/생활이동/data/통합최종본.csv', encoding='cp949')"
   ]
  },
  {
   "cell_type": "code",
   "execution_count": null,
   "id": "7bf2a734",
   "metadata": {},
   "outputs": [],
   "source": [
    "df_all.head()\n",
    "df_all = df_all.drop('Unnamed: 0', axis=1)"
   ]
  },
  {
   "cell_type": "code",
   "execution_count": null,
   "id": "9e1032a1",
   "metadata": {},
   "outputs": [],
   "source": []
  },
  {
   "cell_type": "markdown",
   "id": "557b72ea",
   "metadata": {},
   "source": [
    "## null 확인"
   ]
  },
  {
   "cell_type": "code",
   "execution_count": null,
   "id": "2d1550b7",
   "metadata": {},
   "outputs": [],
   "source": [
    "df_all.isnull().sum()"
   ]
  },
  {
   "cell_type": "code",
   "execution_count": null,
   "id": "1f4025a1",
   "metadata": {},
   "outputs": [],
   "source": []
  },
  {
   "cell_type": "markdown",
   "id": "15b27c30",
   "metadata": {},
   "source": [
    "## 동대문구 출발, 동대문구 도착 데이터프레임 나누기"
   ]
  },
  {
   "cell_type": "code",
   "execution_count": null,
   "id": "eab815d2",
   "metadata": {},
   "outputs": [],
   "source": [
    "df_all_arrival = df_all[df_all['도착 행정동 코드'].isin(code)] # 동대문구 도착"
   ]
  },
  {
   "cell_type": "code",
   "execution_count": null,
   "id": "d5f5a059",
   "metadata": {},
   "outputs": [],
   "source": [
    "df_all_depart = df_all[df_all['출발 행정동 코드'].isin(code)] # 동대문구 출발"
   ]
  },
  {
   "cell_type": "code",
   "execution_count": null,
   "id": "d5d7d6d6",
   "metadata": {},
   "outputs": [],
   "source": []
  },
  {
   "cell_type": "markdown",
   "id": "fb48cdd7",
   "metadata": {},
   "source": [
    "## 동대문구 출발 데이터프레임 분석"
   ]
  },
  {
   "cell_type": "code",
   "execution_count": null,
   "id": "88b41643",
   "metadata": {},
   "outputs": [],
   "source": [
    "df_all_depart.groupby('대상연월').size()"
   ]
  },
  {
   "cell_type": "code",
   "execution_count": null,
   "id": "1df84566",
   "metadata": {},
   "outputs": [],
   "source": [
    "label = ['10월', '11월', '12월', '1월', '2월', '3월', '4월', '5월', '6월', '7월', '8월', '9월']\n",
    "\n",
    "index = np.arange(len(label))\n",
    "\n",
    "plt.figure(figsize=(15, 10))\n",
    "\n",
    "plt.bar(index, df_all_depart.groupby('대상연월').size(), color='#e35f62')\n",
    "\n",
    "plt.title('동대문구유출(월별이동량)', fontsize=20)\n",
    "\n",
    "plt.xlabel('월', fontsize=15)\n",
    "\n",
    "plt.ylabel('이동(백만)', fontsize=15)\n",
    "\n",
    "plt.xticks(index, label, fontsize=13, rotation=0)\n",
    "\n",
    "plt.show()"
   ]
  },
  {
   "cell_type": "code",
   "execution_count": null,
   "id": "b960de9c",
   "metadata": {},
   "outputs": [],
   "source": []
  },
  {
   "cell_type": "markdown",
   "id": "34fde159",
   "metadata": {},
   "source": [
    "## 동대문구 도착 데이터프레임 분석"
   ]
  },
  {
   "cell_type": "code",
   "execution_count": null,
   "id": "95949765",
   "metadata": {},
   "outputs": [],
   "source": [
    "df_all_arrival.groupby('대상연월').size()"
   ]
  },
  {
   "cell_type": "code",
   "execution_count": null,
   "id": "464bd2d3",
   "metadata": {},
   "outputs": [],
   "source": [
    "label = ['10월', '11월', '12월', '1월', '2월', '3월', '4월', '5월', '6월', '7월', '8월', '9월']\n",
    "\n",
    "index = np.arange(len(label))\n",
    "\n",
    "plt.figure(figsize=(15, 10))\n",
    "\n",
    "plt.bar(index, df_all_arrival.groupby('대상연월').size(), color='#e35f62')\n",
    "\n",
    "plt.title('동대문구유입(월별이동량)', fontsize=20)\n",
    "\n",
    "plt.xlabel('월', fontsize=15)\n",
    "\n",
    "plt.ylabel('이동(백만)', fontsize=15)\n",
    "\n",
    "plt.xticks(index, label, fontsize=13, rotation=0)\n",
    "\n",
    "plt.show()"
   ]
  },
  {
   "cell_type": "code",
   "execution_count": null,
   "id": "d6981e0d",
   "metadata": {},
   "outputs": [],
   "source": []
  },
  {
   "cell_type": "markdown",
   "id": "5b06ec02",
   "metadata": {},
   "source": [
    "## 동대문 -> 다른 지역 상위 10개"
   ]
  },
  {
   "cell_type": "code",
   "execution_count": null,
   "id": "01b05d37",
   "metadata": {},
   "outputs": [],
   "source": [
    "df_all_depart[df_all_depart['도착 행정동 코드'] == 1106083].count()"
   ]
  },
  {
   "cell_type": "code",
   "execution_count": null,
   "id": "331955a0",
   "metadata": {},
   "outputs": [],
   "source": [
    "df_all_depart_arrival = df_all_depart.groupby('도착 행정동 코드').size()\n",
    "df_all_depart_arrival = df_all_depart_arrival.sort_values()\n",
    "df_all_depart_arrival[-10:]"
   ]
  },
  {
   "cell_type": "code",
   "execution_count": null,
   "id": "2c7beba4",
   "metadata": {},
   "outputs": [],
   "source": []
  },
  {
   "cell_type": "markdown",
   "id": "87bbeb36",
   "metadata": {},
   "source": [
    "## 동대문구 -> 동대문구 외 지역 (유출)"
   ]
  },
  {
   "cell_type": "code",
   "execution_count": null,
   "id": "f2f9fb0a",
   "metadata": {},
   "outputs": [],
   "source": [
    "df_all_depart_out = df_all_depart[~df_all_depart['도착 행정동 코드'].isin(code)]"
   ]
  },
  {
   "cell_type": "code",
   "execution_count": null,
   "id": "97d88091",
   "metadata": {},
   "outputs": [],
   "source": [
    "df_all_depart_arrival = df_all_depart_out.groupby('도착 행정동 코드').size()\n",
    "df_all_depart_arrival = df_all_depart_arrival.sort_values()\n",
    "df_all_depart_arrival[-10:]"
   ]
  },
  {
   "cell_type": "code",
   "execution_count": null,
   "id": "3de451c5",
   "metadata": {},
   "outputs": [],
   "source": []
  },
  {
   "cell_type": "code",
   "execution_count": null,
   "id": "f6ebbd5b",
   "metadata": {},
   "outputs": [],
   "source": [
    "label = ['서울특별시 중랑구 중화2동', '강원도', '서울특별시 성북구 종암동', '서울특별시 성동구 마장동', '서울특별시 성북구 석관동', \n",
    "         '서울특별시 중랑구 상봉2동', '서울특별시 성동구 왕십리도선동', '서울특별시 성북구 안암동', \n",
    "         '서울특별시 종로구 종로1·2·3·4가동', '서울특별시 성동구 용답동']\n",
    "\n",
    "index = np.arange(len(label))\n",
    "\n",
    "plt.figure(figsize=(15, 10))\n",
    "\n",
    "plt.barh(index, df_all_depart_arrival[-10:], color='#e35f62')\n",
    "\n",
    "plt.title('동대문구 유출 상위 10개 지역', fontsize=18)\n",
    "\n",
    "plt.ylabel('행정동', fontsize=15)\n",
    "\n",
    "plt.xlabel('생활이동(명)', fontsize=15)\n",
    "\n",
    "plt.yticks(index, label, fontsize=13, rotation=0)\n",
    "\n",
    "plt.show()"
   ]
  },
  {
   "cell_type": "code",
   "execution_count": null,
   "id": "4efe1e3d",
   "metadata": {},
   "outputs": [],
   "source": []
  },
  {
   "cell_type": "markdown",
   "id": "81ec6d41",
   "metadata": {},
   "source": [
    "## 동대문구 외 지역 -> 동대문구 (유입)"
   ]
  },
  {
   "cell_type": "code",
   "execution_count": null,
   "id": "ca29ee60",
   "metadata": {},
   "outputs": [],
   "source": [
    "df_all_arrival_in = df_all_arrival[~df_all_arrival['출발 행정동 코드'].isin(code)]\n",
    "df_all_arrival_in"
   ]
  },
  {
   "cell_type": "code",
   "execution_count": null,
   "id": "f2a76f54",
   "metadata": {},
   "outputs": [],
   "source": [
    "df_all_depart_arrival = df_all_arrival_in.groupby('출발 행정동 코드').size()\n",
    "df_all_depart_arrival = df_all_depart_arrival.sort_values()\n",
    "df_all_depart_arrival[-10:]"
   ]
  },
  {
   "cell_type": "code",
   "execution_count": null,
   "id": "eb2c92a7",
   "metadata": {},
   "outputs": [],
   "source": [
    "label = ['강원도', '서울특별시 성동구 사근동', '서울특별시 성북구 종암동','서울특별시 성북구 석관동', '서울특별시 성동구 마장동',\n",
    "        '서울특별시 중랑구 상봉2동', '서울특별시 성동구 왕십리도선동', '서울특별시 성북구 안암동', '서울특별시 성동구 용답동',\n",
    "        '서울특별시 종로구 종로1·2·3·4가동']\n",
    "\n",
    "index = np.arange(len(label))\n",
    "\n",
    "plt.figure(figsize=(15, 10))\n",
    "\n",
    "plt.barh(index, df_all_depart_arrival[-10:], color='#e35f62')\n",
    "\n",
    "plt.title('동대문구 유입 상위 10개 지역', fontsize=18)\n",
    "\n",
    "plt.ylabel('행정동', fontsize=15)\n",
    "\n",
    "plt.xlabel('생활이동(명)', fontsize=15)\n",
    "\n",
    "plt.yticks(index, label, fontsize=13, rotation=0)\n",
    "\n",
    "plt.show()"
   ]
  },
  {
   "cell_type": "code",
   "execution_count": null,
   "id": "df20e187",
   "metadata": {},
   "outputs": [],
   "source": []
  },
  {
   "cell_type": "markdown",
   "id": "8cfa5f5a",
   "metadata": {},
   "source": [
    "## 시간대별 동대문구 유입 인구"
   ]
  },
  {
   "cell_type": "code",
   "execution_count": null,
   "id": "b5aa9839",
   "metadata": {},
   "outputs": [],
   "source": [
    "df_all_arrival_time = df_all_arrival_in.groupby('도착시간').size()\n",
    "df_all_arrival_time"
   ]
  },
  {
   "cell_type": "code",
   "execution_count": null,
   "id": "a28f2e77",
   "metadata": {},
   "outputs": [],
   "source": [
    "label = []\n",
    "for i in range(len(df_all_arrival_time)) :\n",
    "    label.append(i)\n",
    "\n",
    "index = np.arange(len(label))\n",
    "\n",
    "plt.figure(figsize=(15, 10))\n",
    "\n",
    "plt.bar(index, df_all_arrival_time, color='#e35f62')\n",
    "\n",
    "plt.title('시간대별 동대문구 유입', fontsize=18)\n",
    "\n",
    "plt.xlabel('시간', fontsize=15)\n",
    "\n",
    "plt.ylabel('유입인원', fontsize=15)\n",
    "\n",
    "plt.xticks(index, label, fontsize=13, rotation=0)\n",
    "\n",
    "plt.show()"
   ]
  },
  {
   "cell_type": "code",
   "execution_count": null,
   "id": "960b70eb",
   "metadata": {},
   "outputs": [],
   "source": []
  },
  {
   "cell_type": "markdown",
   "id": "f0a305d7",
   "metadata": {},
   "source": [
    "## 시간대별 동대문구 유출 인구"
   ]
  },
  {
   "cell_type": "code",
   "execution_count": null,
   "id": "6189568d",
   "metadata": {},
   "outputs": [],
   "source": [
    "df_all_depart_time = df_all_depart_out.groupby('도착시간').size()\n",
    "df_all_depart_time"
   ]
  },
  {
   "cell_type": "code",
   "execution_count": null,
   "id": "e6e6fa37",
   "metadata": {},
   "outputs": [],
   "source": [
    "label = []\n",
    "for i in range(len(df_all_depart_time)) :\n",
    "    label.append(i)\n",
    "\n",
    "index = np.arange(len(label))\n",
    "\n",
    "plt.figure(figsize=(15, 10))\n",
    "\n",
    "plt.bar(index, df_all_depart_time, color='#e35f62')\n",
    "\n",
    "plt.title('시간대별 동대문구 유출', fontsize=18)\n",
    "\n",
    "plt.xlabel('시간', fontsize=15)\n",
    "\n",
    "plt.ylabel('유출인원', fontsize=15)\n",
    "\n",
    "plt.xticks(index, label, fontsize=13, rotation=0)\n",
    "\n",
    "plt.show()"
   ]
  },
  {
   "cell_type": "code",
   "execution_count": null,
   "id": "5c32b44e",
   "metadata": {},
   "outputs": [],
   "source": []
  },
  {
   "cell_type": "markdown",
   "id": "98e624db",
   "metadata": {},
   "source": [
    "## 요일별 동대문구 유입인구"
   ]
  },
  {
   "cell_type": "code",
   "execution_count": null,
   "id": "183971d0",
   "metadata": {},
   "outputs": [],
   "source": [
    "df_all_arrival_day = df_all_arrival_in.groupby('요일').size()\n",
    "df_all_arrival_day"
   ]
  },
  {
   "cell_type": "code",
   "execution_count": null,
   "id": "834d1d7f",
   "metadata": {},
   "outputs": [],
   "source": [
    "label = ['월요일', '화요일', '수요일', '목요일', '금요일','토요일', '일요일']\n",
    "\n",
    "val = [3920001, 4322439, 4076543, 4115047, 4326185, 4069961, 3476292]\n",
    "\n",
    "index = np.arange(len(label))\n",
    "\n",
    "plt.figure(figsize=(15, 10))\n",
    "\n",
    "plt.bar(index, val, color='#e35f62')\n",
    "\n",
    "plt.title('요일별 동대문구유입', fontsize=18)\n",
    "\n",
    "plt.xlabel('요일', fontsize=15)\n",
    "\n",
    "plt.ylabel('유입인원', fontsize=15)\n",
    "\n",
    "plt.xticks(index, label, fontsize=13, rotation=0)\n",
    "\n",
    "plt.show()"
   ]
  },
  {
   "cell_type": "code",
   "execution_count": null,
   "id": "e248771d",
   "metadata": {},
   "outputs": [],
   "source": []
  },
  {
   "cell_type": "markdown",
   "id": "5ee2338f",
   "metadata": {},
   "source": [
    "## 요일별 동대문구 유출인구"
   ]
  },
  {
   "cell_type": "code",
   "execution_count": null,
   "id": "61ebf0eb",
   "metadata": {},
   "outputs": [],
   "source": [
    "df_all_depart_day = df_all_depart_out.groupby('요일').size()\n",
    "df_all_depart_day"
   ]
  },
  {
   "cell_type": "code",
   "execution_count": null,
   "id": "3bf21c32",
   "metadata": {},
   "outputs": [],
   "source": [
    "label = ['월요일', '화요일', '수요일', '목요일', '금요일','토요일', '일요일']\n",
    "\n",
    "val = [3866183, 4287130, 4050331, 4097985, 4346529, 4131392, 3399506]\n",
    "\n",
    "index = np.arange(len(label))\n",
    "\n",
    "plt.figure(figsize=(15, 10))\n",
    "\n",
    "plt.bar(index, val, color='#e35f62')\n",
    "\n",
    "plt.title('요일별 동대문구 유출', fontsize=18)\n",
    "\n",
    "plt.xlabel('요일', fontsize=15)\n",
    "\n",
    "plt.ylabel('유입인원', fontsize=15)\n",
    "\n",
    "plt.xticks(index, label, fontsize=13, rotation=0)\n",
    "\n",
    "plt.show()"
   ]
  },
  {
   "cell_type": "code",
   "execution_count": null,
   "id": "741c21ea",
   "metadata": {},
   "outputs": [],
   "source": []
  },
  {
   "cell_type": "markdown",
   "id": "f8d3a899",
   "metadata": {},
   "source": [
    "## 동대문구 -> 동대문구 (지역내 이동)"
   ]
  },
  {
   "cell_type": "code",
   "execution_count": null,
   "id": "d9ff4fe6",
   "metadata": {},
   "outputs": [],
   "source": [
    "df_all_arrival2 = df_all_arrival[df_all_arrival['출발 행정동 코드'].isin(code)]\n",
    "df_all_arrival2 = df_all_arrival2.groupby('도착 행정동 코드').size()\n",
    "df_all_arrival2 = df_all_arrival2.sort_values()\n",
    "df_all_arrival2"
   ]
  },
  {
   "cell_type": "code",
   "execution_count": null,
   "id": "04815c76",
   "metadata": {},
   "outputs": [],
   "source": [
    "label = ['이문2동', '휘경2동', '청량리동', '전농2동', '답십리2동', '회기동', '이문1동', '휘경1동', '장안1동', '답십리1동', '용신동',\n",
    "        '제기동', '장안2동', '전농1동']\n",
    "\n",
    "index = np.arange(len(label))\n",
    "\n",
    "plt.figure(figsize=(15, 10))\n",
    "\n",
    "plt.barh(index, df_all_arrival2, color='#e35f62')\n",
    "\n",
    "plt.title('동대문구내 유입', fontsize=18)\n",
    "\n",
    "\n",
    "plt.ylabel('행정동', fontsize=15)\n",
    "\n",
    "plt.xlabel('인원', fontsize=15)\n",
    "\n",
    "plt.yticks(index, label, fontsize=13, rotation=0)\n",
    "\n",
    "plt.show()"
   ]
  },
  {
   "cell_type": "code",
   "execution_count": null,
   "id": "a43ba856",
   "metadata": {},
   "outputs": [],
   "source": []
  }
 ],
 "metadata": {
  "kernelspec": {
   "display_name": "Python 3 (ipykernel)",
   "language": "python",
   "name": "python3"
  },
  "language_info": {
   "codemirror_mode": {
    "name": "ipython",
    "version": 3
   },
   "file_extension": ".py",
   "mimetype": "text/x-python",
   "name": "python",
   "nbconvert_exporter": "python",
   "pygments_lexer": "ipython3",
   "version": "3.9.12"
  }
 },
 "nbformat": 4,
 "nbformat_minor": 5
}
