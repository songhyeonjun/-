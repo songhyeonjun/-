{
 "cells": [
  {
   "cell_type": "code",
   "execution_count": null,
   "id": "a1bedf12",
   "metadata": {},
   "outputs": [],
   "source": [
    "import pandas as pd\n",
    "import os\n",
    "\n",
    "import warnings\n",
    "\n",
    "warnings.simplefilter(action='ignore', category=FutureWarning)\n",
    "\n",
    "import random\n",
    "import pandas as pd\n",
    "import numpy as np\n",
    "from scipy import stats\n",
    "import math\n",
    "import matplotlib.pyplot as plt\n",
    "import seaborn as sns\n",
    "%matplotlib inline\n",
    "\n",
    "import os\n",
    "if os.name == 'nt' :\n",
    "    font_family = \"Malgun Gothic\"\n",
    "else:\n",
    "    font_family = \"AppleGothic\"\n",
    "    \n",
    "sns.set(font=font_family, rc ={\"axes.unicode_minus\" : False})"
   ]
  },
  {
   "cell_type": "markdown",
   "id": "640331ce",
   "metadata": {},
   "source": [
    "## 파일 한번에 불러오기"
   ]
  },
  {
   "cell_type": "code",
   "execution_count": null,
   "id": "1bc3b4de",
   "metadata": {},
   "outputs": [],
   "source": [
    "os.listdir('C:/Users/user/Desktop/생활인구 분석/data') # 폴더안에 데이터 확인"
   ]
  },
  {
   "cell_type": "markdown",
   "id": "3b64f4e0",
   "metadata": {},
   "source": [
    "### 1. 파일리스트 저장"
   ]
  },
  {
   "cell_type": "code",
   "execution_count": null,
   "id": "37426c9a",
   "metadata": {},
   "outputs": [],
   "source": [
    "forders= os.listdir('C:/Users/user/Desktop/생활인구 분석/data')"
   ]
  },
  {
   "cell_type": "markdown",
   "id": "26b83715",
   "metadata": {},
   "source": [
    "### 2. 현재 작업위치(working directory) 이동"
   ]
  },
  {
   "cell_type": "code",
   "execution_count": null,
   "id": "9ec29961",
   "metadata": {},
   "outputs": [],
   "source": [
    "cd C:/Users/user/Desktop/생활인구 분석/data"
   ]
  },
  {
   "cell_type": "markdown",
   "id": "8900c616",
   "metadata": {},
   "source": [
    "### 3. 데이터 프레임 생성하고 모든 파일 합치기"
   ]
  },
  {
   "cell_type": "code",
   "execution_count": null,
   "id": "3f079262",
   "metadata": {},
   "outputs": [],
   "source": [
    "# 새로운 데이터 프레임 생성\n",
    "df_all = pd.DataFrame()\n",
    "\n",
    "for files in forders:\n",
    "    df= pd.read_csv(files)\n",
    "    df_all= pd.concat([df_all, df])"
   ]
  },
  {
   "cell_type": "markdown",
   "id": "fbe64db0",
   "metadata": {},
   "source": [
    "## 인덱스 생성이 안되고 하나씩 밀려 마지막 컬럼 데이터가 na값을 떠서 전처리 진행"
   ]
  },
  {
   "cell_type": "code",
   "execution_count": null,
   "id": "c9096b1e",
   "metadata": {},
   "outputs": [],
   "source": [
    "df_all = df_all.reset_index()\n",
    "columns=['index', '기준일ID', '시간대구분', '행정동코드','총생활인구수','남자0세부터9세생활인구수','남자10세부터14세생활인구수',\n",
    "         '남자15세부터19세생활인구수','남자20세부터24세생활인구수','남자25세부터29세생활인구수','남자30세부터34세생활인구수',\n",
    "         '남자35세부터39세생활인구수','남자40세부터44세생활인구수','남자45세부터49세생활인구수','남자50세부터54세생활인구수',\n",
    "         '남자55세부터59세생활인구수','남자60세부터64세생활인구수','남자65세부터69세생활인구수','남자70세이상생활인구수',\n",
    "         '여자0세부터9세생활인구수', '여자10세부터14세생활인구수','여자15세부터19세생활인구수','여자20세부터24세생활인구수',\n",
    "         '여자25세부터29세생활인구수','여자30세부터34세생활인구수','여자35세부터39세생활인구수','여자40세부터44세생활인구수',\n",
    "         '여자45세부터49세생활인구수','여자50세부터54세생활인구수','여자55세부터59세생활인구수','여자60세부터64세생활인구수',\n",
    "         '여자65세부터69세생활인구수','여자70세이상생활인구수'\n",
    "        ]\n",
    "df_all.columns = ['기준일ID', '시간대구분', '행정동코드','총생활인구수','남자0세부터9세생활인구수','남자10세부터14세생활인구수',\n",
    "         '남자15세부터19세생활인구수','남자20세부터24세생활인구수','남자25세부터29세생활인구수','남자30세부터34세생활인구수',\n",
    "         '남자35세부터39세생활인구수','남자40세부터44세생활인구수','남자45세부터49세생활인구수','남자50세부터54세생활인구수',\n",
    "         '남자55세부터59세생활인구수','남자60세부터64세생활인구수','남자65세부터69세생활인구수','남자70세이상생활인구수',\n",
    "         '여자0세부터9세생활인구수', '여자10세부터14세생활인구수','여자15세부터19세생활인구수','여자20세부터24세생활인구수',\n",
    "         '여자25세부터29세생활인구수','여자30세부터34세생활인구수','여자35세부터39세생활인구수','여자40세부터44세생활인구수',\n",
    "         '여자45세부터49세생활인구수','여자50세부터54세생활인구수','여자55세부터59세생활인구수','여자60세부터64세생활인구수',\n",
    "         '여자65세부터69세생활인구수','여자70세이상생활인구수','삭제할거']\n",
    "df_all = df_all.drop(['삭제할거'], axis=1)"
   ]
  },
  {
   "cell_type": "markdown",
   "id": "daf2f39d",
   "metadata": {},
   "source": [
    "## 동대문구의 행정동만 추출"
   ]
  },
  {
   "cell_type": "code",
   "execution_count": null,
   "id": "a03940ea",
   "metadata": {},
   "outputs": [],
   "source": [
    "code = [\n",
    "    11230710, #회기동\n",
    "    11230720, # 휘경1동\n",
    "    11230730, # 휘경2동\n",
    "    11230705, # 청량리동\n",
    "    11230536, # 용신동\n",
    "    11230545, # 제기동\n",
    "    11230560, # 전농1동\n",
    "    11230570, # 전농2동\n",
    "    11230610, # 답십리2동\n",
    "    11230650, # 장안1동\n",
    "    11230660, # 장안2동\n",
    "    11230740, # 이문1동\n",
    "    11230750, # 이문2동\n",
    "    11230600  # 답십리1동\n",
    "]\n",
    "df_all = df_all[df_all['행정동코드'].isin(code)]"
   ]
  },
  {
   "cell_type": "markdown",
   "id": "980e8e45",
   "metadata": {},
   "source": [
    "## 기준일ID 컬럼을 date형식으로 변환"
   ]
  },
  {
   "cell_type": "code",
   "execution_count": null,
   "id": "760af73d",
   "metadata": {},
   "outputs": [],
   "source": [
    "# 년, 월 컬럼 생성\n",
    "def create_dates(df_temp):\n",
    "    df_temp.insert(0, '날짜', pd.to_datetime(df_temp['기준일ID'], format='%Y%m%d'))\n",
    "    df_temp.insert(1, '년', df_temp['날짜'].dt.year)\n",
    "    df_temp.insert(2, '월', df_temp['날짜'].dt.month)\n",
    "\n",
    "    # 주말 여부 컬럼 생성\n",
    "    df_temp.insert(3, \"주말여부\", df_temp['날짜'].dt.dayofweek > 4)\n",
    "    df_temp['주말여부'] = df_temp['주말여부'].apply(lambda x: '주말' if x==True else '평일')\n",
    "\n",
    "    # 기준일ID컬럼 drop\n",
    "    df_temp.drop(columns=['기준일ID'], inplace=True)\n",
    "    return df_temp\n",
    "\n",
    "create_dates(df_all)"
   ]
  },
  {
   "cell_type": "markdown",
   "id": "b80d184f",
   "metadata": {},
   "source": [
    "## 총 생활인구수 int 형변환"
   ]
  },
  {
   "cell_type": "code",
   "execution_count": null,
   "id": "7081e52e",
   "metadata": {},
   "outputs": [],
   "source": [
    "df_all = df_all.astype({'총생활인구수' : 'int'})"
   ]
  },
  {
   "cell_type": "markdown",
   "id": "93ec3ba9",
   "metadata": {},
   "source": [
    "## 동대문구 월 평균 생활인구"
   ]
  },
  {
   "cell_type": "markdown",
   "id": "03905273",
   "metadata": {},
   "source": [
    "### 그래프 만드는 함수"
   ]
  },
  {
   "cell_type": "code",
   "execution_count": null,
   "id": "2b75b517",
   "metadata": {},
   "outputs": [],
   "source": [
    "def bar_Graph(width, values, count, g_x, g_y, g_title) : \n",
    "    arr = np.arange(count)\n",
    "    color = []\n",
    "    for i in range(count) : # 바 그래프 랜덤 색상 만들기\n",
    "        if (color is None)  :\n",
    "            color = [\"#\" + ''.join([random.choice('0123456789ABCDEF') for j in range(6)])]\n",
    "        color.append(\"#\" + ''.join([random.choice('0123456789ABCDEF') for n in range(6)]))\n",
    "    \n",
    "    \n",
    "    plt.figure(figsize=(10, 8))\n",
    "\n",
    "    plt.bar(arr, \n",
    "            values, \n",
    "            color=color, # 색상 \n",
    "            alpha = 0.5, # 투명도\n",
    "            edgecolor = 'black', # 모서리 색상\n",
    "            linewidth = 2.5 # 테두리 두께\n",
    "           )\n",
    "    \n",
    "    plt.xticks(arr, width, fontsize=12)\n",
    "    \n",
    "    plt.title(g_title, fontsize=12) # 타이틀\n",
    "    plt.xlabel(g_x, fontsize=12) # x 축 라벨링\n",
    "    plt.ylabel(g_y, fontsize=12) # y 축 라벨링\n",
    "    \n",
    "    add_value_label(width, np.round(values, 3))\n",
    "    \n",
    "    plt.show()"
   ]
  },
  {
   "cell_type": "markdown",
   "id": "cc74be0a",
   "metadata": {},
   "source": [
    "### 그래프의 가운데 값 표시하는 함수"
   ]
  },
  {
   "cell_type": "code",
   "execution_count": null,
   "id": "062dabb5",
   "metadata": {},
   "outputs": [],
   "source": [
    "# 그래프 가운데 값 표시\n",
    "def add_value_label(x_list,y_list):\n",
    "    for i in range(1, len(x_list)+1):\n",
    "        plt.text(i-1,y_list[i-1],y_list[i-1], \n",
    "                 fontsize=15,\n",
    "                 color=\"blue\", # 글자 색상\n",
    "                 ha=\"center\")"
   ]
  },
  {
   "cell_type": "code",
   "execution_count": null,
   "id": "845d136f",
   "metadata": {},
   "outputs": [],
   "source": [
    "bar_Graph(['11월','12월','1월', '2월','3월','4월','5월','6월','7월','8월','9월','10월'], \n",
    "          \n",
    "          [df_all.loc[df_all['월'] == 11, '총생활인구수'].sum() // df_all.loc[df_all['월'] == 11, '총생활인구수'].count(),\n",
    "           df_all.loc[df_all['월'] == 12, '총생활인구수'].sum() // df_all.loc[df_all['월'] == 12, '총생활인구수'].count(),\n",
    "           df_all.loc[df_all['월'] == 1, '총생활인구수'].sum() // df_all.loc[df_all['월'] == 1, '총생활인구수'].count(),\n",
    "           df_all.loc[df_all['월'] == 2, '총생활인구수'].sum() // df_all.loc[df_all['월'] == 2, '총생활인구수'].count(),\n",
    "           df_all.loc[df_all['월'] == 3, '총생활인구수'].sum() // df_all.loc[df_all['월'] == 3, '총생활인구수'].count(),\n",
    "           df_all.loc[df_all['월'] == 4, '총생활인구수'].sum() // df_all.loc[df_all['월'] == 4, '총생활인구수'].count(),\n",
    "           df_all.loc[df_all['월'] == 5, '총생활인구수'].sum() // df_all.loc[df_all['월'] == 5, '총생활인구수'].count(),\n",
    "           df_all.loc[df_all['월'] == 6, '총생활인구수'].sum() // df_all.loc[df_all['월'] == 6, '총생활인구수'].count(),\n",
    "           df_all.loc[df_all['월'] == 7, '총생활인구수'].sum() // df_all.loc[df_all['월'] == 7, '총생활인구수'].count(),\n",
    "           df_all.loc[df_all['월'] == 8, '총생활인구수'].sum() // df_all.loc[df_all['월'] == 8, '총생활인구수'].count(),\n",
    "           df_all.loc[df_all['월'] == 9, '총생활인구수'].sum() // df_all.loc[df_all['월'] == 9, '총생활인구수'].count(),\n",
    "           df_all.loc[df_all['월'] == 10, '총생활인구수'].sum() // df_all.loc[df_all['월'] == 10, '총생활인구수'].count()\n",
    "          ], 12, '월', '생활인구(명)', '월별 평균 생활인구') # 가로이름, 값, 갯수, x라벨, y라벨, 제목"
   ]
  },
  {
   "cell_type": "markdown",
   "id": "8ce16cfb",
   "metadata": {},
   "source": [
    "## 평일 주말 구분 평균 생활인구"
   ]
  },
  {
   "cell_type": "code",
   "execution_count": null,
   "id": "5f0acaa5",
   "metadata": {},
   "outputs": [],
   "source": [
    "bar_Graph(['평일', '주말'], \n",
    "          \n",
    "          [df_all.loc[df_all['주말여부'] == '평일', '총생활인구수'].sum() // df_all.loc[df_all['주말여부'] == '평일', '총생활인구수'].count(),\n",
    "           df_all.loc[df_all['주말여부'] == '주말', '총생활인구수'].sum() // df_all.loc[df_all['주말여부'] == '주말', '총생활인구수'].count()\n",
    "          ], 2, ' ', '생활인구(명)', '평균 생활인구') # 가로이름, 값, 갯수, x라벨, y라벨, 제목"
   ]
  },
  {
   "cell_type": "markdown",
   "id": "d780b01e",
   "metadata": {},
   "source": [
    "## 성별 평균 생활인구"
   ]
  },
  {
   "cell_type": "code",
   "execution_count": null,
   "id": "c9c930fd",
   "metadata": {},
   "outputs": [],
   "source": [
    "df_all['남성합'] = df_all[['남자0세부터9세생활인구수','남자10세부터14세생활인구수',\n",
    "         '남자15세부터19세생활인구수','남자20세부터24세생활인구수','남자25세부터29세생활인구수','남자30세부터34세생활인구수',\n",
    "         '남자35세부터39세생활인구수','남자40세부터44세생활인구수','남자45세부터49세생활인구수','남자50세부터54세생활인구수',\n",
    "         '남자55세부터59세생활인구수','남자60세부터64세생활인구수','남자65세부터69세생활인구수','남자70세이상생활인구수']].sum(axis=1)\n",
    "\n",
    "df_all['여성합'] = df_all[['여자0세부터9세생활인구수', '여자10세부터14세생활인구수','여자15세부터19세생활인구수','여자20세부터24세생활인구수',\n",
    "         '여자25세부터29세생활인구수','여자30세부터34세생활인구수','여자35세부터39세생활인구수','여자40세부터44세생활인구수',\n",
    "         '여자45세부터49세생활인구수','여자50세부터54세생활인구수','여자55세부터59세생활인구수','여자60세부터64세생활인구수',\n",
    "         '여자65세부터69세생활인구수','여자70세이상생활인구수']].sum(axis=1"
   ]
  },
  {
   "cell_type": "code",
   "execution_count": null,
   "id": "9f77618b",
   "metadata": {},
   "outputs": [],
   "source": [
    "bar_Graph(['남', '여'], \n",
    "          \n",
    "          [df_all['남성합'].sum() // df_all['남성합'].count(),\n",
    "           df_all['여성합'].sum() // df_all['여성합'].count()\n",
    "          ], 2, '성별', '생활인구(명)', '성별 평균 생활인구') # 가로이름, 값, 갯수, x라벨, y라벨, 제목"
   ]
  },
  {
   "cell_type": "markdown",
   "id": "61816b67",
   "metadata": {},
   "source": [
    "## 코드번호 -> 행정동명으로 변경"
   ]
  },
  {
   "cell_type": "code",
   "execution_count": null,
   "id": "436ae48e",
   "metadata": {},
   "outputs": [],
   "source": [
    "df_all = df_all.replace([11230710, #회기동\n",
    "        11230720, # 휘경1동\n",
    "        11230730, # 휘경2동\n",
    "        11230705, # 청량리동\n",
    "        11230536, # 용신동\n",
    "        11230545, # 제기동\n",
    "        11230560, # 전농1동\n",
    "        11230570, # 전농2동\n",
    "        11230610, # 답십리2동\n",
    "        11230650, # 장안1동\n",
    "        11230660, # 장안2동\n",
    "        11230740, # 이문1동\n",
    "        11230750, # 이문2동\n",
    "        11230600], # 답십리1동\n",
    "               ['회기동', '휘경1동', '휘경2동', '청량리동', '용신동', '제기동', '전농1동', '전농2동', '답십리2동', '장안1동', '장안2동', '이문1동', '이문2동', '답십리1동']\n",
    ")"
   ]
  },
  {
   "cell_type": "markdown",
   "id": "1352a689",
   "metadata": {},
   "source": [
    "## 행정동별 평균 생활인구"
   ]
  },
  {
   "cell_type": "code",
   "execution_count": null,
   "id": "cb5413bc",
   "metadata": {},
   "outputs": [],
   "source": [
    "pop_mean = df_all.groupby('행정동코드').총생활인구수.sum() // df_all.groupby('행정동코드').총생활인구수.count()\n",
    "pop_mean = pop_mean.sort_values()\n",
    "\n",
    "label = ['이문2동', '전농2동', '휘경1동', '청량리동', '회기동', '휘경2동', '답십리2동', '답십리1동', '이문1동', '장안2동', '전농1동', \n",
    "         '제기동', '장안1동', '용신동']\n",
    "\n",
    "index = np.arange(len(label))\n",
    "\n",
    "plt.figure(figsize=(15, 10))\n",
    "\n",
    "plt.barh(index, pop_mean)\n",
    "\n",
    "plt.title('행정동별 평균 생활인구', fontsize=18)\n",
    "\n",
    "plt.ylabel('행정동', fontsize=15)\n",
    "\n",
    "plt.xlabel('생활인구(명)', fontsize=15)\n",
    "\n",
    "plt.yticks(index, label, fontsize=13, rotation=0)\n",
    "\n",
    "plt.show()"
   ]
  },
  {
   "cell_type": "markdown",
   "id": "f1ad1b6b",
   "metadata": {},
   "source": [
    "## 시간대별 동대문구 평균 생활인구"
   ]
  },
  {
   "cell_type": "code",
   "execution_count": null,
   "id": "4ac690d6",
   "metadata": {},
   "outputs": [],
   "source": [
    "def ddm_time_pop_mean() :\n",
    "    pop_time_mean = df_all.groupby('시간대구분').총생활인구수.sum() // df_all.groupby('시간대구분').총생활인구수.count()\n",
    "    label = []\n",
    "    for i in range(len(pop_time_mean)) :\n",
    "        label.append(str(i)+'시')\n",
    "\n",
    "    index = np.arange(len(label))\n",
    "\n",
    "    plt.figure(figsize=(15, 10))\n",
    "\n",
    "    plt.bar(index, pop_time_mean)\n",
    "\n",
    "    plt.title('시간대별 평균 생활인구', fontsize=20)\n",
    "\n",
    "    plt.xlabel('시간(시)', fontsize=18)\n",
    "\n",
    "    plt.ylabel('생활인구(명)', fontsize=18)\n",
    "\n",
    "    plt.xticks(index, label, fontsize=15)\n",
    "\n",
    "    plt.show()\n",
    "\n",
    "ddm_time_pop_mean()"
   ]
  },
  {
   "cell_type": "markdown",
   "id": "88a4af0a",
   "metadata": {},
   "source": [
    "## 지역별 시간대 평균 생활인구"
   ]
  },
  {
   "cell_type": "code",
   "execution_count": null,
   "id": "3629eff0",
   "metadata": {},
   "outputs": [],
   "source": [
    "def time_pop_mean_gp(region) :\n",
    "    pop_time_mean2 = df_all.groupby(['행정동코드', '시간대구분']).총생활인구수.sum() // df_all.groupby(['행정동코드', '시간대구분']).총생활인구수.count()\n",
    "    \n",
    "    label = []\n",
    "    for i in range(len(pop_time_mean2[region])) :\n",
    "        label.append(str(i)+'시')\n",
    "\n",
    "    index = np.arange(len(label))\n",
    "    \n",
    "    plt.figure(figsize=(15, 10))\n",
    "\n",
    "    plt.bar(index, pop_time_mean2[region])\n",
    "\n",
    "    plt.title('시간대별 평균 생활인구' + '(' + region + ')', fontsize=20)\n",
    "\n",
    "    plt.xlabel('시간(시)', fontsize=18)\n",
    "\n",
    "    plt.ylabel('생활인구(명)', fontsize=18)\n",
    "\n",
    "    plt.xticks(index, label, fontsize=15)\n",
    "\n",
    "    plt.show()\n",
    "\n",
    "time_pop_mean_gp('행정동 이름 입력')"
   ]
  },
  {
   "cell_type": "markdown",
   "id": "fd161a63",
   "metadata": {},
   "source": [
    "## 지역별 월별 생활인구"
   ]
  },
  {
   "cell_type": "code",
   "execution_count": null,
   "id": "17135299",
   "metadata": {},
   "outputs": [],
   "source": [
    "def month_pop_mean_gp(region) :\n",
    "    pop_month_mean = df_all.groupby(['행정동코드', '월']).총생활인구수.sum() // df_all.groupby(['행정동코드', '월']).총생활인구수.count()\n",
    "    \n",
    "    label = []\n",
    "    for i in range(len(pop_month_mean[region])) :\n",
    "        label.append(str(i+1)+'월')\n",
    "\n",
    "    index = np.arange(len(label))\n",
    "    \n",
    "    plt.figure(figsize=(15, 10))\n",
    "\n",
    "    plt.bar(index, pop_month_mean[region])\n",
    "\n",
    "    plt.title('월별 평균 생활인구' + '(' + region + ')', fontsize=20)\n",
    "\n",
    "    plt.xlabel('월', fontsize=15)\n",
    "\n",
    "    plt.ylabel('생활인구', fontsize=15)\n",
    "    \n",
    "    plt.xticks(index, label, fontsize=13, rotation=0)\n",
    "\n",
    "    plt.show()\n",
    "    \n",
    "month_pop_mean_gp('행정동 이름 입력')"
   ]
  },
  {
   "cell_type": "markdown",
   "id": "2ab490ff",
   "metadata": {},
   "source": [
    "## 연령별 평균 생활인구\n",
    "### 5살 주기를 10살 주기로 변경 코드"
   ]
  },
  {
   "cell_type": "code",
   "execution_count": null,
   "id": "a791416e",
   "metadata": {},
   "outputs": [],
   "source": [
    "def combine_ages(df_temp):\n",
    "    cols = [\n",
    "    '남자0세부터9세생활인구수', '여자0세부터9세생활인구수', \n",
    "    '남자10세부터14세생활인구수', '남자15세부터19세생활인구수', '여자10세부터14세생활인구수', '여자15세부터19세생활인구수', \n",
    "    '남자20세부터24세생활인구수', '남자25세부터29세생활인구수', '여자20세부터24세생활인구수', '여자25세부터29세생활인구수',\n",
    "    '남자30세부터34세생활인구수', '남자35세부터39세생활인구수', '여자30세부터34세생활인구수', '여자35세부터39세생활인구수', \n",
    "    '남자40세부터44세생활인구수', '남자45세부터49세생활인구수', '여자40세부터44세생활인구수', '여자45세부터49세생활인구수', \n",
    "    '남자50세부터54세생활인구수', '남자55세부터59세생활인구수', '여자50세부터54세생활인구수', '여자55세부터59세생활인구수', \n",
    "    '남자60세부터64세생활인구수', '남자65세부터69세생활인구수', '여자60세부터64세생활인구수', '여자65세부터69세생활인구수', \n",
    "    '남자70세이상생활인구수', '여자70세이상생활인구수'\n",
    "    ]\n",
    "    df_temp['10세 이하'] = df_temp.남자0세부터9세생활인구수 + df_temp.여자0세부터9세생활인구수\n",
    "    df_temp['10대'] = df_temp.남자10세부터14세생활인구수 + df_temp.남자15세부터19세생활인구수 + df_temp.여자10세부터14세생활인구수 + df_temp.여자15세부터19세생활인구수\n",
    "    df_temp['20대'] = df_temp.남자20세부터24세생활인구수 + df_temp.남자25세부터29세생활인구수 + df_temp.여자20세부터24세생활인구수 + df_temp.여자25세부터29세생활인구수\n",
    "    df_temp['30대'] = df_temp.남자30세부터34세생활인구수 + df_temp.남자35세부터39세생활인구수 + df_temp.여자30세부터34세생활인구수 + df_temp.여자35세부터39세생활인구수\n",
    "    df_temp['40대'] = df_temp.남자40세부터44세생활인구수 + df_temp.남자45세부터49세생활인구수 + df_temp.여자40세부터44세생활인구수 + df_temp.여자45세부터49세생활인구수\n",
    "    df_temp['50대'] = df_temp.남자50세부터54세생활인구수 + df_temp.남자55세부터59세생활인구수 + df_temp.여자50세부터54세생활인구수 + df_temp.여자55세부터59세생활인구수\n",
    "    df_temp['60대'] = df_temp.남자60세부터64세생활인구수 + df_temp.남자65세부터69세생활인구수 + df_temp.여자60세부터64세생활인구수 + df_temp.여자65세부터69세생활인구수\n",
    "    df_temp['70세 이상'] = df_temp.남자70세이상생활인구수 + df_temp.여자70세이상생활인구수\n",
    "    df_temp.drop(columns=cols, inplace=True)\n",
    "    df_temp = df_temp.groupby(['날짜', '월', '주말여부', '행정동코드']).sum()\n",
    "    df_temp = df_temp.groupby(['월', '주말여부', '행정동코드']).mean()\n",
    "\n",
    "\n",
    "    return df_temp"
   ]
  },
  {
   "cell_type": "markdown",
   "id": "0fafd416",
   "metadata": {},
   "source": [
    "## 작년 수능 생활인구 2021년 11월 18일 목요일"
   ]
  },
  {
   "cell_type": "code",
   "execution_count": null,
   "id": "bf23090c",
   "metadata": {},
   "outputs": [],
   "source": [
    "pop_mean = df_all[df_all['날짜'] == '2021-11-18'].groupby('행정동코드').총생활인구수.sum()\n",
    "pop_mean = pop_mean.sort_values()\n",
    "\n",
    "label = ['이문2동', '휘경1동', '전농2동', '청량리동', '회기동', '휘경2동', '답십리2동', '답십리1동', '이문1동', '장안2동', '전농1동',\n",
    "        '제기동', '장안1동', '용신동']\n",
    "    \n",
    "index = np.arange(len(label))\n",
    "index\n",
    "\n",
    "plt.figure(figsize=(15, 10))\n",
    "\n",
    "plt.barh(index, pop_mean)\n",
    "\n",
    "plt.title('작년 수능날 동대문구 생활인구', fontsize=18)\n",
    "\n",
    "plt.ylabel('행정동', fontsize=15)\n",
    "\n",
    "plt.xlabel('생활인구(명)', fontsize=15)\n",
    "\n",
    "plt.yticks(index, label, fontsize=13, rotation=0)\n",
    "\n",
    "plt.show()"
   ]
  },
  {
   "cell_type": "markdown",
   "id": "8160ae90",
   "metadata": {},
   "source": [
    "## 작년 수능날 시간대별 생활인구"
   ]
  },
  {
   "cell_type": "code",
   "execution_count": null,
   "id": "be986463",
   "metadata": {},
   "outputs": [],
   "source": [
    "def sssss(region) :\n",
    "    pop_time_mean2 = df_all[df_all['날짜'] == '2021-11-18'].groupby(['행정동코드', '시간대구분']).총생활인구수.sum()\n",
    "    label = []\n",
    "    for i in range(len(pop_time_mean2[region])) :\n",
    "        label.append(str(i)+'시')\n",
    "\n",
    "    index = np.arange(len(label))\n",
    "    \n",
    "    plt.figure(figsize=(15, 10))\n",
    "\n",
    "    plt.bar(index, pop_time_mean2[region])\n",
    "\n",
    "    plt.title('작년 수능날 시간대별 평균 생활인구' + '(' + region + ')', fontsize=20)\n",
    "\n",
    "    plt.xlabel('시간(시)', fontsize=18)\n",
    "\n",
    "    plt.ylabel('생활인구(명)', fontsize=18)\n",
    "\n",
    "    plt.xticks(index, label, fontsize=15)\n",
    "\n",
    "    plt.show()\n",
    "\n",
    "sssss('행정동 이름 입력')"
   ]
  },
  {
   "cell_type": "code",
   "execution_count": null,
   "id": "58a4ef0b",
   "metadata": {},
   "outputs": [],
   "source": []
  }
 ],
 "metadata": {
  "kernelspec": {
   "display_name": "Python 3 (ipykernel)",
   "language": "python",
   "name": "python3"
  },
  "language_info": {
   "codemirror_mode": {
    "name": "ipython",
    "version": 3
   },
   "file_extension": ".py",
   "mimetype": "text/x-python",
   "name": "python",
   "nbconvert_exporter": "python",
   "pygments_lexer": "ipython3",
   "version": "3.9.12"
  }
 },
 "nbformat": 4,
 "nbformat_minor": 5
}
