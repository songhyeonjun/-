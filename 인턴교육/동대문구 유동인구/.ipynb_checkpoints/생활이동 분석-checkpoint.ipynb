{
 "cells": [
  {
   "cell_type": "code",
   "execution_count": 1,
   "id": "e4a22a12",
   "metadata": {},
   "outputs": [],
   "source": [
    "import pandas as pd\n",
    "import os\n",
    "\n",
    "import warnings\n",
    "\n",
    "warnings.simplefilter(action='ignore', category=FutureWarning)\n",
    "\n",
    "import random\n",
    "import pandas as pd\n",
    "import numpy as np\n",
    "from scipy import stats\n",
    "import math\n",
    "import matplotlib.pyplot as plt\n",
    "import seaborn as sns\n",
    "%matplotlib inline\n",
    "\n",
    "if os.name == 'nt' :\n",
    "    font_family = \"Malgun Gothic\"\n",
    "else:\n",
    "    font_family = \"AppleGothic\"\n",
    "    \n",
    "sns.set(font=font_family, rc ={\"axes.unicode_minus\" : False})"
   ]
  },
  {
   "cell_type": "code",
   "execution_count": 2,
   "id": "69dc7440",
   "metadata": {},
   "outputs": [],
   "source": [
    "df = pd.read_csv('C:/Users/user/Desktop/생활인구 분석/생활이동/data/21년 10월/생활이동_행정동_2021.10_00시.csv', encoding='cp949')"
   ]
  },
  {
   "cell_type": "code",
   "execution_count": 3,
   "id": "b1fa5298",
   "metadata": {},
   "outputs": [
    {
     "data": {
      "text/html": [
       "<div>\n",
       "<style scoped>\n",
       "    .dataframe tbody tr th:only-of-type {\n",
       "        vertical-align: middle;\n",
       "    }\n",
       "\n",
       "    .dataframe tbody tr th {\n",
       "        vertical-align: top;\n",
       "    }\n",
       "\n",
       "    .dataframe thead th {\n",
       "        text-align: right;\n",
       "    }\n",
       "</style>\n",
       "<table border=\"1\" class=\"dataframe\">\n",
       "  <thead>\n",
       "    <tr style=\"text-align: right;\">\n",
       "      <th></th>\n",
       "      <th>대상연월</th>\n",
       "      <th>요일</th>\n",
       "      <th>도착시간</th>\n",
       "      <th>출발 행정동 코드</th>\n",
       "      <th>도착 행정동 코드</th>\n",
       "      <th>성별</th>\n",
       "      <th>나이</th>\n",
       "      <th>이동유형</th>\n",
       "      <th>평균 이동 시간(분)</th>\n",
       "      <th>이동인구(합)</th>\n",
       "    </tr>\n",
       "  </thead>\n",
       "  <tbody>\n",
       "    <tr>\n",
       "      <th>0</th>\n",
       "      <td>202110</td>\n",
       "      <td>일</td>\n",
       "      <td>0</td>\n",
       "      <td>1109065</td>\n",
       "      <td>1109060</td>\n",
       "      <td>F</td>\n",
       "      <td>20</td>\n",
       "      <td>EH</td>\n",
       "      <td>30</td>\n",
       "      <td>4.36</td>\n",
       "    </tr>\n",
       "    <tr>\n",
       "      <th>1</th>\n",
       "      <td>202110</td>\n",
       "      <td>일</td>\n",
       "      <td>0</td>\n",
       "      <td>1112068</td>\n",
       "      <td>1112058</td>\n",
       "      <td>F</td>\n",
       "      <td>35</td>\n",
       "      <td>HW</td>\n",
       "      <td>10</td>\n",
       "      <td>3.02</td>\n",
       "    </tr>\n",
       "    <tr>\n",
       "      <th>2</th>\n",
       "      <td>202110</td>\n",
       "      <td>일</td>\n",
       "      <td>0</td>\n",
       "      <td>1125074</td>\n",
       "      <td>1125074</td>\n",
       "      <td>M</td>\n",
       "      <td>50</td>\n",
       "      <td>HH</td>\n",
       "      <td>20</td>\n",
       "      <td>3.27</td>\n",
       "    </tr>\n",
       "    <tr>\n",
       "      <th>3</th>\n",
       "      <td>202110</td>\n",
       "      <td>일</td>\n",
       "      <td>0</td>\n",
       "      <td>3113013</td>\n",
       "      <td>1106087</td>\n",
       "      <td>M</td>\n",
       "      <td>45</td>\n",
       "      <td>EH</td>\n",
       "      <td>20</td>\n",
       "      <td>3.2</td>\n",
       "    </tr>\n",
       "    <tr>\n",
       "      <th>4</th>\n",
       "      <td>202110</td>\n",
       "      <td>일</td>\n",
       "      <td>0</td>\n",
       "      <td>1125063</td>\n",
       "      <td>1111060</td>\n",
       "      <td>M</td>\n",
       "      <td>25</td>\n",
       "      <td>EH</td>\n",
       "      <td>30</td>\n",
       "      <td>*</td>\n",
       "    </tr>\n",
       "  </tbody>\n",
       "</table>\n",
       "</div>"
      ],
      "text/plain": [
       "     대상연월 요일  도착시간  출발 행정동 코드  도착 행정동 코드 성별  나이 이동유형  평균 이동 시간(분) 이동인구(합)\n",
       "0  202110  일     0    1109065    1109060  F  20   EH           30    4.36\n",
       "1  202110  일     0    1112068    1112058  F  35   HW           10    3.02\n",
       "2  202110  일     0    1125074    1125074  M  50   HH           20    3.27\n",
       "3  202110  일     0    3113013    1106087  M  45   EH           20     3.2\n",
       "4  202110  일     0    1125063    1111060  M  25   EH           30       *"
      ]
     },
     "execution_count": 3,
     "metadata": {},
     "output_type": "execute_result"
    }
   ],
   "source": [
    "df.head()"
   ]
  },
  {
   "cell_type": "code",
   "execution_count": 4,
   "id": "5b57cbd8",
   "metadata": {},
   "outputs": [
    {
     "data": {
      "text/plain": [
       "대상연월            int64\n",
       "요일             object\n",
       "도착시간            int64\n",
       "출발 행정동 코드       int64\n",
       "도착 행정동 코드       int64\n",
       "성별             object\n",
       "나이              int64\n",
       "이동유형           object\n",
       "평균 이동 시간(분)     int64\n",
       "이동인구(합)        object\n",
       "dtype: object"
      ]
     },
     "execution_count": 4,
     "metadata": {},
     "output_type": "execute_result"
    }
   ],
   "source": [
    "df.dtypes"
   ]
  },
  {
   "cell_type": "code",
   "execution_count": 5,
   "id": "c776f210",
   "metadata": {},
   "outputs": [],
   "source": [
    "# 1106071\t회기동\n",
    "# 1106072\t휘경1동\n",
    "# 1106073\t휘경2동\n",
    "# 1106080\t청량리동\n",
    "# 1106081\t용신동\n",
    "# 1106082\t제기동\n",
    "# 1106083\t전농1동\n",
    "# 1106084\t전농2동\n",
    "# 1106086\t답십리2동\n",
    "# 1106087\t장안1동\n",
    "# 1106088\t장안2동\n",
    "# 1106089\t이문1동\n",
    "# 1106090\t이문2동\n",
    "# 1106091\t답십리1동"
   ]
  },
  {
   "cell_type": "code",
   "execution_count": 6,
   "id": "bcdf6645",
   "metadata": {},
   "outputs": [],
   "source": [
    "code = [\n",
    "    1106071, #회기동\n",
    "    1106072, # 휘경1동\n",
    "    1106073, # 휘경2동\n",
    "    1106080, # 청량리동\n",
    "    1106081, # 용신동\n",
    "    1106082, # 제기동\n",
    "    1106083, # 전농1동\n",
    "    1106084, # 전농2동\n",
    "    1106086, # 답십리2동\n",
    "    1106087, # 장안1동\n",
    "    1106088, # 장안2동\n",
    "    1106089, # 이문1동\n",
    "    1106090, # 이문2동\n",
    "    1106091  # 답십리1동\n",
    "]\n",
    "df = df[df['출발 행정동 코드'].isin(code) | df['도착 행정동 코드'].isin(code)]"
   ]
  },
  {
   "cell_type": "code",
   "execution_count": 14,
   "id": "7bb58021",
   "metadata": {},
   "outputs": [
    {
     "data": {
      "text/plain": [
       "(86738, 10)"
      ]
     },
     "execution_count": 14,
     "metadata": {},
     "output_type": "execute_result"
    }
   ],
   "source": [
    "df.shape"
   ]
  },
  {
   "cell_type": "code",
   "execution_count": 50,
   "id": "2cba3a97",
   "metadata": {},
   "outputs": [],
   "source": []
  },
  {
   "cell_type": "markdown",
   "id": "7d1ed7a6",
   "metadata": {},
   "source": [
    "## 월별로 동대문구만 추출 후 통합"
   ]
  },
  {
   "cell_type": "markdown",
   "id": "b37257cf",
   "metadata": {},
   "source": [
    "### 데이터가 많아서 한번에 통합이 어려워 나눠서 통합 진행"
   ]
  },
  {
   "cell_type": "code",
   "execution_count": 57,
   "id": "bbc1968d",
   "metadata": {},
   "outputs": [],
   "source": [
    "def integrated(forder_name) :\n",
    "    forders= os.listdir('C:/Users/user/Desktop/생활인구 분석/생활이동/data/'+forder_name)\n",
    "    os.chdir('C:/Users/user/Desktop/생활인구 분석/생활이동/data/'+forder_name) \n",
    "    # 새로운 데이터 프레임 생성\n",
    "    df_all = pd.DataFrame()\n",
    "\n",
    "    code = [\n",
    "        1106071, #회기동\n",
    "        1106072, # 휘경1동\n",
    "        1106073, # 휘경2동\n",
    "        1106080, # 청량리동\n",
    "        1106081, # 용신동\n",
    "        1106082, # 제기동\n",
    "        1106083, # 전농1동\n",
    "        1106084, # 전농2동\n",
    "        1106086, # 답십리2동\n",
    "        1106087, # 장안1동\n",
    "        1106088, # 장안2동\n",
    "        1106089, # 이문1동\n",
    "        1106090, # 이문2동\n",
    "        1106091  # 답십리1동\n",
    "    ]\n",
    "\n",
    "    for files in forders:\n",
    "        df= pd.read_csv(files, encoding='cp949')\n",
    "        df = df[df['출발 행정동 코드'].isin(code) | df['도착 행정동 코드'].isin(code)]\n",
    "        df_all= pd.concat([df_all, df])\n",
    "    df_all.to_csv('C:/Users/user/Desktop/생활인구 분석/생활이동/data/'+forder_name+'/'+forder_name+' 통합.csv', encoding='cp949')"
   ]
  },
  {
   "cell_type": "code",
   "execution_count": 61,
   "id": "85b00bd8",
   "metadata": {},
   "outputs": [],
   "source": [
    "for i in range(1, 10) :\n",
    "    integrated('22년 '+ str(i) +'월')"
   ]
  },
  {
   "cell_type": "code",
   "execution_count": 59,
   "id": "ef65807f",
   "metadata": {},
   "outputs": [
    {
     "data": {
      "text/plain": [
       "(5649594, 10)"
      ]
     },
     "execution_count": 59,
     "metadata": {},
     "output_type": "execute_result"
    }
   ],
   "source": [
    "df_all.shape"
   ]
  },
  {
   "cell_type": "code",
   "execution_count": null,
   "id": "d69cdef0",
   "metadata": {},
   "outputs": [],
   "source": []
  },
  {
   "cell_type": "markdown",
   "id": "47bf7e97",
   "metadata": {},
   "source": [
    "## 하나로 통합"
   ]
  },
  {
   "cell_type": "code",
   "execution_count": 63,
   "id": "274aafab",
   "metadata": {},
   "outputs": [],
   "source": [
    "forders= os.listdir('C:/Users/user/Desktop/생활인구 분석/생활이동/data/월별 통합본')"
   ]
  },
  {
   "cell_type": "code",
   "execution_count": 64,
   "id": "06b08d9c",
   "metadata": {},
   "outputs": [
    {
     "name": "stdout",
     "output_type": "stream",
     "text": [
      "C:\\Users\\user\\Desktop\\생활인구 분석\\생활이동\\data\\월별 통합본\n"
     ]
    }
   ],
   "source": [
    "cd C:/Users/user/Desktop/생활인구 분석/생활이동/data/월별 통합본"
   ]
  },
  {
   "cell_type": "code",
   "execution_count": 65,
   "id": "46873cfd",
   "metadata": {},
   "outputs": [],
   "source": [
    "# 새로운 데이터 프레임 생성\n",
    "df_all = pd.DataFrame()\n",
    "\n",
    "for files in forders:\n",
    "    df= pd.read_csv(files, encoding='cp949')\n",
    "    df_all= pd.concat([df_all, df])"
   ]
  },
  {
   "cell_type": "code",
   "execution_count": 68,
   "id": "1d35fd19",
   "metadata": {},
   "outputs": [],
   "source": [
    "df_all = df_all.drop('Unnamed: 0', axis=1)"
   ]
  },
  {
   "cell_type": "code",
   "execution_count": 71,
   "id": "940f3cc0",
   "metadata": {},
   "outputs": [],
   "source": [
    "df_all.to_csv('C:/Users/user/Desktop/생활인구 분석/생활이동/data/통합최종본.csv', encoding='cp949')"
   ]
  },
  {
   "cell_type": "code",
   "execution_count": null,
   "id": "0f596c68",
   "metadata": {},
   "outputs": [],
   "source": []
  },
  {
   "cell_type": "code",
   "execution_count": null,
   "id": "714fca7a",
   "metadata": {},
   "outputs": [],
   "source": []
  },
  {
   "cell_type": "code",
   "execution_count": 2,
   "id": "0d7a6569",
   "metadata": {},
   "outputs": [
    {
     "name": "stderr",
     "output_type": "stream",
     "text": [
      "C:\\Users\\user\\AppData\\Local\\Temp\\ipykernel_10804\\1364518079.py:1: DtypeWarning: Columns (10) have mixed types. Specify dtype option on import or set low_memory=False.\n",
      "  df_all = pd.read_csv('C:/Users/user/Desktop/생활인구 분석/생활이동/data/통합최종본.csv', encoding='cp949')\n"
     ]
    }
   ],
   "source": [
    "df_all = pd.read_csv('C:/Users/user/Desktop/생활인구 분석/생활이동/data/통합최종본.csv', encoding='cp949')"
   ]
  },
  {
   "cell_type": "code",
   "execution_count": 4,
   "id": "d6fb73ca",
   "metadata": {},
   "outputs": [],
   "source": [
    "df_all.head()\n",
    "df_all = df_all.drop('Unnamed: 0', axis=1)"
   ]
  },
  {
   "cell_type": "code",
   "execution_count": 5,
   "id": "a8516369",
   "metadata": {},
   "outputs": [],
   "source": [
    "code = [\n",
    "        1106071, #회기동\n",
    "        1106072, # 휘경1동\n",
    "        1106073, # 휘경2동\n",
    "        1106080, # 청량리동\n",
    "        1106081, # 용신동\n",
    "        1106082, # 제기동\n",
    "        1106083, # 전농1동\n",
    "        1106084, # 전농2동\n",
    "        1106086, # 답십리2동\n",
    "        1106087, # 장안1동\n",
    "        1106088, # 장안2동\n",
    "        1106089, # 이문1동\n",
    "        1106090, # 이문2동\n",
    "        1106091  # 답십리1동\n",
    "    ]"
   ]
  },
  {
   "cell_type": "code",
   "execution_count": 85,
   "id": "9e309b27",
   "metadata": {},
   "outputs": [
    {
     "data": {
      "text/plain": [
       "대상연월           0\n",
       "요일             0\n",
       "도착시간           0\n",
       "출발 행정동 코드      0\n",
       "도착 행정동 코드      0\n",
       "성별             0\n",
       "나이             0\n",
       "이동유형           0\n",
       "평균 이동 시간(분)    0\n",
       "이동인구(합)        0\n",
       "dtype: int64"
      ]
     },
     "execution_count": 85,
     "metadata": {},
     "output_type": "execute_result"
    }
   ],
   "source": [
    "df_all.isnull().sum()"
   ]
  },
  {
   "cell_type": "markdown",
   "id": "9eb25ded",
   "metadata": {},
   "source": [
    "## 동대문구 출발, 동대문구 도착 데이터프레임 나누기"
   ]
  },
  {
   "cell_type": "code",
   "execution_count": 6,
   "id": "18393cba",
   "metadata": {},
   "outputs": [],
   "source": [
    "df_all_arrival = df_all[df_all['도착 행정동 코드'].isin(code)] # 동대문구 도착"
   ]
  },
  {
   "cell_type": "code",
   "execution_count": 7,
   "id": "394ce8e7",
   "metadata": {},
   "outputs": [],
   "source": [
    "df_all_depart = df_all[df_all['출발 행정동 코드'].isin(code)] # 동대문구 출발"
   ]
  },
  {
   "cell_type": "markdown",
   "id": "290b9f65",
   "metadata": {},
   "source": [
    "## 동대문구 출발 데이터프레임 분석"
   ]
  },
  {
   "cell_type": "code",
   "execution_count": 102,
   "id": "d3b176c2",
   "metadata": {},
   "outputs": [
    {
     "data": {
      "text/plain": [
       "대상연월\n",
       "202110    3327787\n",
       "202111    3346205\n",
       "202112    3679771\n",
       "202201    3118761\n",
       "202202    2812794\n",
       "202203    3081210\n",
       "202204    3413872\n",
       "202205    3725875\n",
       "202206    3542036\n",
       "202207    3567397\n",
       "202208    3478108\n",
       "202209    3639819\n",
       "dtype: int64"
      ]
     },
     "execution_count": 102,
     "metadata": {},
     "output_type": "execute_result"
    }
   ],
   "source": [
    "df_all_depart.groupby('대상연월').size()"
   ]
  },
  {
   "cell_type": "code",
   "execution_count": 111,
   "id": "fba5241f",
   "metadata": {},
   "outputs": [
    {
     "data": {
      "image/png": "[encoded data removed]",
      "text/plain": [
       "<Figure size 1080x720 with 1 Axes>"
      ]
     },
     "metadata": {},
     "output_type": "display_data"
    }
   ],
   "source": [
    "label = ['10월', '11월', '12월', '1월', '2월', '3월', '4월', '5월', '6월', '7월', '8월', '9월']\n",
    "\n",
    "index = np.arange(len(label))\n",
    "\n",
    "plt.figure(figsize=(15, 10))\n",
    "\n",
    "plt.bar(index, df_all_depart.groupby('대상연월').size())\n",
    "\n",
    "plt.title('동대문구유출(월별이동량)', fontsize=20)\n",
    "\n",
    "plt.xlabel('월', fontsize=15)\n",
    "\n",
    "plt.ylabel('이동(백만)', fontsize=15)\n",
    "\n",
    "plt.xticks(index, label, fontsize=13, rotation=0)\n",
    "\n",
    "plt.show()"
   ]
  },
  {
   "cell_type": "markdown",
   "id": "860be9dc",
   "metadata": {},
   "source": [
    "## 동대문구 도착 데이터프레임 분석"
   ]
  },
  {
   "cell_type": "code",
   "execution_count": 110,
   "id": "8b8a5048",
   "metadata": {},
   "outputs": [
    {
     "data": {
      "text/plain": [
       "대상연월\n",
       "202110    3333866\n",
       "202111    3357246\n",
       "202112    3688704\n",
       "202201    3124766\n",
       "202202    2830862\n",
       "202203    3088522\n",
       "202204    3423698\n",
       "202205    3736899\n",
       "202206    3554711\n",
       "202207    3578732\n",
       "202208    3495334\n",
       "202209    3647707\n",
       "dtype: int64"
      ]
     },
     "execution_count": 110,
     "metadata": {},
     "output_type": "execute_result"
    }
   ],
   "source": [
    "df_all_arrival.groupby('대상연월').size()"
   ]
  },
  {
   "cell_type": "code",
   "execution_count": 112,
   "id": "af13554e",
   "metadata": {},
   "outputs": [
    {
     "data": {
      "image/png": "[encoded data removed]",
      "text/plain": [
       "<Figure size 1080x720 with 1 Axes>"
      ]
     },
     "metadata": {},
     "output_type": "display_data"
    }
   ],
   "source": [
    "label = ['10월', '11월', '12월', '1월', '2월', '3월', '4월', '5월', '6월', '7월', '8월', '9월']\n",
    "\n",
    "index = np.arange(len(label))\n",
    "\n",
    "plt.figure(figsize=(15, 10))\n",
    "\n",
    "plt.bar(index, df_all_arrival.groupby('대상연월').size())\n",
    "\n",
    "plt.title('동대문구유입(월별이동량)', fontsize=20)\n",
    "\n",
    "plt.xlabel('월', fontsize=15)\n",
    "\n",
    "plt.ylabel('이동(백만)', fontsize=15)\n",
    "\n",
    "plt.xticks(index, label, fontsize=13, rotation=0)\n",
    "\n",
    "plt.show()"
   ]
  },
  {
   "cell_type": "code",
   "execution_count": null,
   "id": "28f071c0",
   "metadata": {},
   "outputs": [],
   "source": []
  },
  {
   "cell_type": "markdown",
   "id": "c219df72",
   "metadata": {},
   "source": [
    "## 동대문 -> 다른 지역 상위 10개"
   ]
  },
  {
   "cell_type": "code",
   "execution_count": 125,
   "id": "45c901e0",
   "metadata": {},
   "outputs": [
    {
     "data": {
      "text/plain": [
       "대상연월           1420606\n",
       "요일             1420606\n",
       "도착시간           1420606\n",
       "출발 행정동 코드      1420606\n",
       "도착 행정동 코드      1420606\n",
       "성별             1420606\n",
       "나이             1420606\n",
       "이동유형           1420606\n",
       "평균 이동 시간(분)    1420606\n",
       "이동인구(합)        1420606\n",
       "dtype: int64"
      ]
     },
     "execution_count": 125,
     "metadata": {},
     "output_type": "execute_result"
    }
   ],
   "source": [
    "df_all_depart[df_all_depart['도착 행정동 코드'] == 1106083].count()"
   ]
  },
  {
   "cell_type": "code",
   "execution_count": 131,
   "id": "ccf4d549",
   "metadata": {
    "scrolled": true
   },
   "outputs": [
    {
     "data": {
      "text/plain": [
       "도착 행정동 코드\n",
       "1106086     802151\n",
       "1106071     808683\n",
       "1106089     867087\n",
       "1106072     869557\n",
       "1106087     931854\n",
       "1106091     976603\n",
       "1106081    1016107\n",
       "1106082    1018449\n",
       "1106088    1085896\n",
       "1106083    1420606\n",
       "dtype: int64"
      ]
     },
     "execution_count": 131,
     "metadata": {},
     "output_type": "execute_result"
    }
   ],
   "source": [
    "df_all_depart_arrival = df_all_depart.groupby('도착 행정동 코드').size()\n",
    "df_all_depart_arrival = df_all_depart_arrival.sort_values()\n",
    "df_all_depart_arrival[-10:]"
   ]
  },
  {
   "cell_type": "markdown",
   "id": "16c559b4",
   "metadata": {},
   "source": [
    "### 동대문구 -> 동대문구 외 지역"
   ]
  },
  {
   "cell_type": "code",
   "execution_count": 8,
   "id": "c5175ffc",
   "metadata": {},
   "outputs": [],
   "source": [
    "df_all_depart_out = df_all_depart[~df_all_depart['도착 행정동 코드'].isin(code)]"
   ]
  },
  {
   "cell_type": "code",
   "execution_count": 9,
   "id": "94f386d0",
   "metadata": {},
   "outputs": [
    {
     "data": {
      "text/plain": [
       "도착 행정동 코드\n",
       "1107062    254449\n",
       "32000      262294\n",
       "1108084    299320\n",
       "1104054    335834\n",
       "1108085    340796\n",
       "1107060    362179\n",
       "1104071    363439\n",
       "1108060    385732\n",
       "1101061    400741\n",
       "1104070    429667\n",
       "dtype: int64"
      ]
     },
     "execution_count": 9,
     "metadata": {},
     "output_type": "execute_result"
    }
   ],
   "source": [
    "df_all_depart_arrival = df_all_depart_out.groupby('도착 행정동 코드').size()\n",
    "df_all_depart_arrival = df_all_depart_arrival.sort_values()\n",
    "df_all_depart_arrival[-10:]"
   ]
  },
  {
   "cell_type": "code",
   "execution_count": null,
   "id": "c7559d92",
   "metadata": {},
   "outputs": [],
   "source": []
  },
  {
   "cell_type": "code",
   "execution_count": 11,
   "id": "c45a9eb4",
   "metadata": {},
   "outputs": [
    {
     "data": {
      "image/png": "[encoded data removed]",
      "text/plain": [
       "<Figure size 1080x720 with 1 Axes>"
      ]
     },
     "metadata": {},
     "output_type": "display_data"
    }
   ],
   "source": [
    "label = ['서울특별시 중랑구 중화2동', '강원도', '서울특별시 성북구 종암동', '서울특별시 성동구 마장동', '서울특별시 성북구 석관동', \n",
    "         '서울특별시 중랑구 상봉2동', '서울특별시 성동구 왕십리도선동', '서울특별시 성북구 안암동', \n",
    "         '서울특별시 종로구 종로1·2·3·4가동', '서울특별시 성동구 용답동']\n",
    "\n",
    "index = np.arange(len(label))\n",
    "\n",
    "plt.figure(figsize=(15, 10))\n",
    "\n",
    "plt.barh(index, df_all_depart_arrival[-10:])\n",
    "\n",
    "plt.title('동대문구유출 상위 10개 지역', fontsize=18)\n",
    "\n",
    "plt.ylabel('행정동', fontsize=15)\n",
    "\n",
    "plt.xlabel('생활인구(명)', fontsize=15)\n",
    "\n",
    "plt.yticks(index, label, fontsize=13, rotation=0)\n",
    "\n",
    "plt.show()"
   ]
  },
  {
   "cell_type": "code",
   "execution_count": null,
   "id": "cd50458b",
   "metadata": {},
   "outputs": [],
   "source": []
  },
  {
   "cell_type": "markdown",
   "id": "dfdb0a70",
   "metadata": {},
   "source": [
    "### 동대문구 외 지역 -> 동대문구"
   ]
  },
  {
   "cell_type": "code",
   "execution_count": 17,
   "id": "d4f78d78",
   "metadata": {},
   "outputs": [
    {
     "data": {
      "text/html": [
       "<div>\n",
       "<style scoped>\n",
       "    .dataframe tbody tr th:only-of-type {\n",
       "        vertical-align: middle;\n",
       "    }\n",
       "\n",
       "    .dataframe tbody tr th {\n",
       "        vertical-align: top;\n",
       "    }\n",
       "\n",
       "    .dataframe thead th {\n",
       "        text-align: right;\n",
       "    }\n",
       "</style>\n",
       "<table border=\"1\" class=\"dataframe\">\n",
       "  <thead>\n",
       "    <tr style=\"text-align: right;\">\n",
       "      <th></th>\n",
       "      <th>대상연월</th>\n",
       "      <th>요일</th>\n",
       "      <th>도착시간</th>\n",
       "      <th>출발 행정동 코드</th>\n",
       "      <th>도착 행정동 코드</th>\n",
       "      <th>성별</th>\n",
       "      <th>나이</th>\n",
       "      <th>이동유형</th>\n",
       "      <th>평균 이동 시간(분)</th>\n",
       "      <th>이동인구(합)</th>\n",
       "    </tr>\n",
       "  </thead>\n",
       "  <tbody>\n",
       "  </tbody>\n",
       "</table>\n",
       "</div>"
      ],
      "text/plain": [
       "Empty DataFrame\n",
       "Columns: [대상연월, 요일, 도착시간, 출발 행정동 코드, 도착 행정동 코드, 성별, 나이, 이동유형, 평균 이동 시간(분), 이동인구(합)]\n",
       "Index: []"
      ]
     },
     "execution_count": 17,
     "metadata": {},
     "output_type": "execute_result"
    }
   ],
   "source": [
    "df_all_arrival_in = df_all_depart[~df_all_depart['출발 행정동 코드'].isin(code)]\n",
    "df_all_arrival_in"
   ]
  },
  {
   "cell_type": "code",
   "execution_count": 16,
   "id": "3f792ad1",
   "metadata": {},
   "outputs": [
    {
     "data": {
      "text/plain": [
       "Series([], dtype: int64)"
      ]
     },
     "execution_count": 16,
     "metadata": {},
     "output_type": "execute_result"
    }
   ],
   "source": [
    "df_all_depart_arrival = df_all_arrival_in.groupby('출발 행정동 코드').size()\n",
    "df_all_depart_arrival = df_all_depart_arrival.sort_values()\n",
    "df_all_depart_arrival[-10:]"
   ]
  },
  {
   "cell_type": "code",
   "execution_count": null,
   "id": "91137dd8",
   "metadata": {},
   "outputs": [],
   "source": []
  }
 ],
 "metadata": {
  "kernelspec": {
   "display_name": "Python 3 (ipykernel)",
   "language": "python",
   "name": "python3"
  },
  "language_info": {
   "codemirror_mode": {
    "name": "ipython",
    "version": 3
   },
   "file_extension": ".py",
   "mimetype": "text/x-python",
   "name": "python",
   "nbconvert_exporter": "python",
   "pygments_lexer": "ipython3",
   "version": "3.9.12"
  }
 },
 "nbformat": 4,
 "nbformat_minor": 5
}
