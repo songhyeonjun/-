{
 "cells": [
  {
   "cell_type": "markdown",
   "id": "89e0b7bf",
   "metadata": {},
   "source": [
    "# 1. Gaussian Naive Bayes (가우시안 나이브 베이즈)\n",
    " - 모든 피처가 연속형의 값 => 가우시안 나이브 베이즈 모델 사용"
   ]
  },
  {
   "cell_type": "markdown",
   "id": "2c2d8611",
   "metadata": {},
   "source": [
    "#### from sklearn.naive_bayes import GaussianNB"
   ]
  },
  {
   "cell_type": "code",
   "execution_count": 1,
   "id": "8df711ad",
   "metadata": {},
   "outputs": [],
   "source": [
    "import numpy as np \n",
    "import pandas as pd\n",
    "import scipy as sp\n",
    "from sklearn.datasets import load_iris\n",
    "from sklearn.model_selection import train_test_split"
   ]
  },
  {
   "cell_type": "code",
   "execution_count": 2,
   "id": "b6516443",
   "metadata": {},
   "outputs": [],
   "source": [
    "# 가우시안 나이브 베이즈\n",
    "from sklearn.naive_bayes import GaussianNB\n",
    "\n",
    "# iris 데이터셋 로드\n",
    "iris = load_iris()\n",
    "df_X = pd.DataFrame(iris.data, columns=iris.feature_names)\n",
    "df_Y = pd.DataFrame(iris.target, columns=[\"target\"])\n",
    "\n",
    "# 테스셋 분리\n",
    "X_train, test_X, y_train, test_y = train_test_split(df_X, df_Y, train_size=0.8, \n",
    "test_size=0.2, random_state=123)"
   ]
  },
  {
   "cell_type": "code",
   "execution_count": 3,
   "id": "d5e71133",
   "metadata": {},
   "outputs": [
    {
     "data": {
      "text/html": [
       "<div>\n",
       "<style scoped>\n",
       "    .dataframe tbody tr th:only-of-type {\n",
       "        vertical-align: middle;\n",
       "    }\n",
       "\n",
       "    .dataframe tbody tr th {\n",
       "        vertical-align: top;\n",
       "    }\n",
       "\n",
       "    .dataframe thead th {\n",
       "        text-align: right;\n",
       "    }\n",
       "</style>\n",
       "<table border=\"1\" class=\"dataframe\">\n",
       "  <thead>\n",
       "    <tr style=\"text-align: right;\">\n",
       "      <th></th>\n",
       "      <th>sepal length (cm)</th>\n",
       "      <th>sepal width (cm)</th>\n",
       "      <th>petal length (cm)</th>\n",
       "      <th>petal width (cm)</th>\n",
       "    </tr>\n",
       "  </thead>\n",
       "  <tbody>\n",
       "    <tr>\n",
       "      <th>17</th>\n",
       "      <td>5.1</td>\n",
       "      <td>3.5</td>\n",
       "      <td>1.4</td>\n",
       "      <td>0.3</td>\n",
       "    </tr>\n",
       "    <tr>\n",
       "      <th>98</th>\n",
       "      <td>5.1</td>\n",
       "      <td>2.5</td>\n",
       "      <td>3.0</td>\n",
       "      <td>1.1</td>\n",
       "    </tr>\n",
       "    <tr>\n",
       "      <th>66</th>\n",
       "      <td>5.6</td>\n",
       "      <td>3.0</td>\n",
       "      <td>4.5</td>\n",
       "      <td>1.5</td>\n",
       "    </tr>\n",
       "    <tr>\n",
       "      <th>126</th>\n",
       "      <td>6.2</td>\n",
       "      <td>2.8</td>\n",
       "      <td>4.8</td>\n",
       "      <td>1.8</td>\n",
       "    </tr>\n",
       "    <tr>\n",
       "      <th>109</th>\n",
       "      <td>7.2</td>\n",
       "      <td>3.6</td>\n",
       "      <td>6.1</td>\n",
       "      <td>2.5</td>\n",
       "    </tr>\n",
       "  </tbody>\n",
       "</table>\n",
       "</div>"
      ],
      "text/plain": [
       "     sepal length (cm)  sepal width (cm)  petal length (cm)  petal width (cm)\n",
       "17                 5.1               3.5                1.4               0.3\n",
       "98                 5.1               2.5                3.0               1.1\n",
       "66                 5.6               3.0                4.5               1.5\n",
       "126                6.2               2.8                4.8               1.8\n",
       "109                7.2               3.6                6.1               2.5"
      ]
     },
     "execution_count": 3,
     "metadata": {},
     "output_type": "execute_result"
    }
   ],
   "source": [
    "# Training Data 확인\n",
    "X_train.tail()"
   ]
  },
  {
   "cell_type": "code",
   "execution_count": 4,
   "id": "92ba3d15",
   "metadata": {},
   "outputs": [
    {
     "name": "stdout",
     "output_type": "stream",
     "text": [
      "[1 2 2 1 0 2 1 0 0 1 2 0 1 2 2 2 0 0 1 0 0 1 0 2 0 0 0 2 2 0]\n",
      "테스트 데이터 수 : 30, 틀린 개수 : 1\n"
     ]
    },
    {
     "name": "stderr",
     "output_type": "stream",
     "text": [
      "C:\\Users\\user\\anaconda3\\lib\\site-packages\\sklearn\\utils\\validation.py:1111: DataConversionWarning: A column-vector y was passed when a 1d array was expected. Please change the shape of y to (n_samples, ), for example using ravel().\n",
      "  y = column_or_1d(y, warn=True)\n"
     ]
    }
   ],
   "source": [
    "# 나이브 베이즈는 가우시안 나이브 베이즈\n",
    "gnb = GaussianNB()\n",
    "# 학습\n",
    "# train 데이터로 학습을 진행, X_test 데이터로 결과를 예측하여 y_pred 입력\n",
    "fitted = gnb.fit(X_train, y_train)\n",
    "y_pred = fitted.predict(test_X)\n",
    "y_pred\n",
    "print(y_pred)\n",
    "# 실제값과 y의 예측값을 비교하여 틀린 개수 확인\n",
    "print(\"테스트 데이터 수 : %d, 틀린 개수 : %d\"\n",
    "% (test_X.shape[0], (np.array(test_y.target.tolist()) != y_pred).sum()))"
   ]
  },
  {
   "cell_type": "code",
   "execution_count": 7,
   "id": "8078b564",
   "metadata": {},
   "outputs": [
    {
     "name": "stdout",
     "output_type": "stream",
     "text": [
      "[0 1 2]\n",
      "[37. 44. 39.]\n",
      "    sepal length (cm)  sepal width (cm)  petal length (cm)  petal width (cm)\n",
      "72                6.3               2.5                4.9               1.5 n\n",
      "[[7.24143720e-126 9.23061979e-001 7.69380215e-002]] n\n",
      "[1] n\n"
     ]
    }
   ],
   "source": [
    "## 예측한 클래스와 해당 예측 데이터의 클래스별 확률\n",
    "# 클래스\n",
    "print(fitted.classes_)\n",
    "\n",
    "# 분류된 클래스 수\n",
    "print(fitted.class_count_)\n",
    "\n",
    "# 테스트 데이터\n",
    "print(test_X[:1],\"n\")\n",
    "\n",
    "# 테스트 데이터 1개에 대한 클래스가 나온 확률\n",
    "print(fitted.predict_proba(test_X)[:1],\"n\")\n",
    "# round(fitted.predict_proba(test_X)[:1][0][1],3)\n",
    "\n",
    "# 테스트 데이터 1개의 클래스\n",
    "print(fitted.predict\n",
    "(test_X)[:1],\"n\")"
   ]
  },
  {
   "cell_type": "code",
   "execution_count": 8,
   "id": "e34fc085",
   "metadata": {},
   "outputs": [
    {
     "name": "stdout",
     "output_type": "stream",
     "text": [
      "[[1.81805757e-197 1.22131524e-005 9.99987787e-001]\n",
      " [1.00000000e+000 8.57846082e-017 1.77097412e-025]]\n"
     ]
    },
    {
     "data": {
      "text/plain": [
       "array([2, 0])"
      ]
     },
     "execution_count": 8,
     "metadata": {},
     "output_type": "execute_result"
    }
   ],
   "source": [
    "## 특정 값의 클래스별 확률 확인\n",
    "print(fitted.predict_proba(test_X)[[1,20]])\n",
    "\n",
    "# 1번째 데이터는 2범주일 확률이 99% \n",
    "# 20번째 데이터는 0범주일 확률이 100% \n",
    "\n",
    "# 특정 변수의 범주별 클래스 확인\n",
    "fitted.predict(test_X)[[1,20]]"
   ]
  },
  {
   "cell_type": "code",
   "execution_count": 9,
   "id": "da756d5e",
   "metadata": {},
   "outputs": [
    {
     "data": {
      "text/plain": [
       "array([[13,  0,  0],\n",
       "       [ 0,  6,  0],\n",
       "       [ 0,  1, 10]], dtype=int64)"
      ]
     },
     "execution_count": 9,
     "metadata": {},
     "output_type": "execute_result"
    }
   ],
   "source": [
    "# Confusion matrix 확인\n",
    "from sklearn.metrics import confusion_matrix\n",
    "\n",
    "confusion_matrix(test_y, y_pred)\n",
    "\n",
    "# \"0범주\"와 \"1범주\"의 경우 모두 옳게 분류, \n",
    "# \"2범주\"의 경우 1개의 오답으로 분류\n",
    "# 나이브 베이즈는 투자대비 효용이 높은 간단한 머신러닝 모델"
   ]
  },
  {
   "cell_type": "markdown",
   "id": "c2cb704c",
   "metadata": {},
   "source": [
    "## 특정 값에 대해 나이브 베이즈 직접 계산\n",
    " - 추정한 모델의 클래스별 모수(평균과 분산) 확인\n",
    " - var_ / sigma_ : 클래스별 각 컬럼의 분산\n",
    " - theta_ : 클래스별 각 컬럼의 평균"
   ]
  },
  {
   "cell_type": "code",
   "execution_count": 10,
   "id": "a9342f0c",
   "metadata": {},
   "outputs": [
    {
     "data": {
      "text/html": [
       "<div>\n",
       "<style scoped>\n",
       "    .dataframe tbody tr th:only-of-type {\n",
       "        vertical-align: middle;\n",
       "    }\n",
       "\n",
       "    .dataframe tbody tr th {\n",
       "        vertical-align: top;\n",
       "    }\n",
       "\n",
       "    .dataframe thead th {\n",
       "        text-align: right;\n",
       "    }\n",
       "</style>\n",
       "<table border=\"1\" class=\"dataframe\">\n",
       "  <thead>\n",
       "    <tr style=\"text-align: right;\">\n",
       "      <th></th>\n",
       "      <th>sepal length (cm)</th>\n",
       "      <th>sepal width (cm)</th>\n",
       "      <th>petal length (cm)</th>\n",
       "      <th>petal width (cm)</th>\n",
       "    </tr>\n",
       "  </thead>\n",
       "  <tbody>\n",
       "    <tr>\n",
       "      <th>72</th>\n",
       "      <td>6.3</td>\n",
       "      <td>2.5</td>\n",
       "      <td>4.9</td>\n",
       "      <td>1.5</td>\n",
       "    </tr>\n",
       "  </tbody>\n",
       "</table>\n",
       "</div>"
      ],
      "text/plain": [
       "    sepal length (cm)  sepal width (cm)  petal length (cm)  petal width (cm)\n",
       "72                6.3               2.5                4.9               1.5"
      ]
     },
     "execution_count": 10,
     "metadata": {},
     "output_type": "execute_result"
    }
   ],
   "source": [
    "# 데이터 확인\n",
    "test_X.head(1)"
   ]
  },
  {
   "cell_type": "code",
   "execution_count": 11,
   "id": "108118fd",
   "metadata": {},
   "outputs": [
    {
     "data": {
      "text/plain": [
       "array([6.3, 2.5, 4.9, 1.5])"
      ]
     },
     "execution_count": 11,
     "metadata": {},
     "output_type": "execute_result"
    }
   ],
   "source": [
    "# 예측할 데이터(테스트 데이터 0행 )\n",
    "predict_data = np.array(test_X.iloc[0])\n",
    "predict_data"
   ]
  },
  {
   "cell_type": "code",
   "execution_count": 12,
   "id": "e9d65459",
   "metadata": {},
   "outputs": [
    {
     "data": {
      "text/plain": [
       "array([[5.01621622, 3.43243243, 1.46756757, 0.25945946],\n",
       "       [5.95      , 2.78409091, 4.24090909, 1.32272727],\n",
       "       [6.58717949, 2.95897436, 5.57948718, 2.02820513]])"
      ]
     },
     "execution_count": 12,
     "metadata": {},
     "output_type": "execute_result"
    }
   ],
   "source": [
    "# 클래스별 각 피쳐의 평균\n",
    "fitted.theta_"
   ]
  },
  {
   "cell_type": "code",
   "execution_count": 13,
   "id": "e45bb914",
   "metadata": {},
   "outputs": [
    {
     "name": "stderr",
     "output_type": "stream",
     "text": [
      "C:\\Users\\user\\anaconda3\\lib\\site-packages\\sklearn\\utils\\deprecation.py:103: FutureWarning: Attribute `sigma_` was deprecated in 1.0 and will be removed in1.2. Use `var_` instead.\n",
      "  warnings.warn(msg, category=FutureWarning)\n"
     ]
    },
    {
     "data": {
      "text/plain": [
       "array([[0.10568298, 0.14975895, 0.02705625, 0.01214025],\n",
       "       [0.27068182, 0.10042872, 0.22741736, 0.04221075],\n",
       "       [0.39752795, 0.11011177, 0.29188692, 0.0774096 ]])"
      ]
     },
     "execution_count": 13,
     "metadata": {},
     "output_type": "execute_result"
    }
   ],
   "source": [
    "# 클래스별 각 피쳐의 분산\n",
    "fitted.sigma_"
   ]
  },
  {
   "cell_type": "code",
   "execution_count": 14,
   "id": "08679aa6",
   "metadata": {},
   "outputs": [
    {
     "data": {
      "text/plain": [
       "array([0.30833333, 0.36666667, 0.325     ])"
      ]
     },
     "execution_count": 14,
     "metadata": {},
     "output_type": "execute_result"
    }
   ],
   "source": [
    "# 클래스별 사전 확률(prior probability)\n",
    "fitted.class_prior_"
   ]
  },
  {
   "cell_type": "code",
   "execution_count": 15,
   "id": "291af4fd",
   "metadata": {},
   "outputs": [
    {
     "data": {
      "text/plain": [
       "[2.0700298536453225e-126, 0.2218869448618605, 7.497361843154609e-09]"
      ]
     },
     "execution_count": 15,
     "metadata": {},
     "output_type": "execute_result"
    }
   ],
   "source": [
    "## class별 가능도(likelihood) 산출\n",
    "\n",
    "likelihood = [\n",
    "# 0 클래스\n",
    "(sp.stats.norm(fitted.theta_[0][0], np.sqrt(fitted.sigma_[0][0])).pdf(predict_data[0]) * \\\n",
    "sp.stats.norm(fitted.theta_[0][1], np.sqrt(fitted.sigma_[0][1])).pdf(predict_data[1]) * \\\n",
    "sp.stats.norm(fitted.theta_[0][2], np.sqrt(fitted.sigma_[0][2])).pdf(predict_data[2]) * \\\n",
    "sp.stats.norm(fitted.theta_[0][3], np.sqrt(fitted.sigma_[0][3])).pdf(predict_data[3])),\\\n",
    "\n",
    "# 1 클래스\n",
    "(sp.stats.norm(fitted.theta_[1][0], np.sqrt(fitted.sigma_[1][0])).pdf(predict_data[0]) * \\\n",
    "sp.stats.norm(fitted.theta_[1][1], np.sqrt(fitted.sigma_[1][1])).pdf(predict_data[1]) * \\\n",
    "sp.stats.norm(fitted.theta_[1][2], np.sqrt(fitted.sigma_[1][2])).pdf(predict_data[2]) * \\\n",
    "sp.stats.norm(fitted.theta_[1][3], np.sqrt(fitted.sigma_[1][3])).pdf(predict_data[3])),\\\n",
    "\n",
    "# 2 클래스\n",
    "(sp.stats.norm(fitted.theta_[2][0], np.sqrt(fitted.sigma_[0][0])).pdf(predict_data[0]) * \\\n",
    "sp.stats.norm(fitted.theta_[2][1], np.sqrt(fitted.sigma_[0][1])).pdf(predict_data[1]) * \\\n",
    "sp.stats.norm(fitted.theta_[2][2], np.sqrt(fitted.sigma_[0][2])).pdf(predict_data[2]) * \\\n",
    "sp.stats.norm(fitted.theta_[2][3], np.sqrt(fitted.sigma_[0][3])).pdf(predict_data[3])) \n",
    "]\n",
    "\n",
    "likelihood\n"
   ]
  },
  {
   "cell_type": "code",
   "execution_count": 16,
   "id": "d489ff27",
   "metadata": {},
   "outputs": [
    {
     "name": "stdout",
     "output_type": "stream",
     "text": [
      "[6.38259205e-127 8.13585464e-002 2.43664260e-009]\n"
     ]
    },
    {
     "data": {
      "text/plain": [
       "array([7.84501707e-126, 9.99999970e-001, 2.99494353e-008])"
      ]
     },
     "execution_count": 16,
     "metadata": {},
     "output_type": "execute_result"
    }
   ],
   "source": [
    "## 사후 확률\n",
    "posterior = likelihood * fitted.class_prior_\n",
    "print(posterior)\n",
    "## 정규화\n",
    "posterior / np.sum(posterior, axis=0)"
   ]
  },
  {
   "cell_type": "code",
   "execution_count": 17,
   "id": "22c7b395",
   "metadata": {},
   "outputs": [
    {
     "name": "stdout",
     "output_type": "stream",
     "text": [
      "[[7.24143720e-126 9.23061979e-001 7.69380215e-002]]\n"
     ]
    }
   ],
   "source": [
    "## scipy gnb를 사용한 추정값\n",
    "print(fitted.predict_proba(test_X)[[0]])\n",
    "# 완벽히 일치하진 않지만 그에 근사하는 값을 추정값으로 계산"
   ]
  },
  {
   "cell_type": "markdown",
   "id": "84f82a6b",
   "metadata": {},
   "source": [
    "## Prior(사전 확률) 설정\n",
    " - class가 발생되는 사전 확률을 미리 알고 있었던 경우라고 가정"
   ]
  },
  {
   "cell_type": "code",
   "execution_count": 18,
   "id": "9448fdda",
   "metadata": {},
   "outputs": [
    {
     "data": {
      "text/plain": [
       "array([[50,  0,  0],\n",
       "       [ 0, 33, 17],\n",
       "       [ 0,  0, 50]], dtype=int64)"
      ]
     },
     "execution_count": 18,
     "metadata": {},
     "output_type": "execute_result"
    }
   ],
   "source": [
    "## \"2범주\"에 prior를 높게 줘서, 가중치를 주는 경우\n",
    "\n",
    "gnb2 = GaussianNB(priors = [1/100, 1/100, 98/100])\n",
    "fitted2 = gnb2.fit(iris.data, iris.target)\n",
    "y_pred2 = fitted2.predict(iris.data)\n",
    "confusion_matrix(iris.target,y_pred2)"
   ]
  },
  {
   "cell_type": "code",
   "execution_count": 19,
   "id": "949279e4",
   "metadata": {},
   "outputs": [
    {
     "data": {
      "text/plain": [
       "array([[50,  0,  0],\n",
       "       [ 0, 50,  0],\n",
       "       [ 0, 14, 36]], dtype=int64)"
      ]
     },
     "execution_count": 19,
     "metadata": {},
     "output_type": "execute_result"
    }
   ],
   "source": [
    "## \"1범주\"에 prior를 높게 줘서, 가중치를 주는 경우\n",
    "\n",
    "gnb3 = GaussianNB(priors = [1/100, 98/100, 1/100])\n",
    "fitted3 = gnb3.fit(iris.data, iris.target)\n",
    "y_pred3 = fitted3.predict(iris.data)\n",
    "confusion_matrix(iris.target,y_pred3)"
   ]
  },
  {
   "cell_type": "markdown",
   "id": "b72ea0b4",
   "metadata": {},
   "source": [
    "# 2. Multinomial Naive Bayes (다항분포 나이브 베이즈)\n",
    " - 독립변수가 범주형 변수"
   ]
  },
  {
   "cell_type": "code",
   "execution_count": 20,
   "id": "78439b1a",
   "metadata": {},
   "outputs": [],
   "source": [
    "## Multinomial Naive Bayes 라이브러리\n",
    "from sklearn.naive_bayes import MultinomialNB\n",
    "\n",
    "## 난수 생성\n",
    "import numpy as np"
   ]
  },
  {
   "cell_type": "code",
   "execution_count": 21,
   "id": "e071c044",
   "metadata": {},
   "outputs": [],
   "source": [
    "# 0부터 3까지 난수 생성, 변수 10개, 샘플 사이즈 4개\n",
    "\n",
    "mNB_train_X = np.random.randint(4,size=(4,10))\n",
    "mNB_train_y = np.array([1,2,3,4])"
   ]
  },
  {
   "cell_type": "code",
   "execution_count": 22,
   "id": "b864c8b7",
   "metadata": {},
   "outputs": [
    {
     "data": {
      "text/plain": [
       "array([[2, 2, 1, 0, 0, 2, 0, 1, 0, 2],\n",
       "       [3, 1, 1, 3, 2, 0, 0, 0, 3, 1],\n",
       "       [2, 3, 0, 0, 2, 3, 0, 1, 1, 0],\n",
       "       [3, 2, 0, 0, 1, 1, 2, 3, 1, 2]])"
      ]
     },
     "execution_count": 22,
     "metadata": {},
     "output_type": "execute_result"
    }
   ],
   "source": [
    "mNB_train_X"
   ]
  },
  {
   "cell_type": "code",
   "execution_count": 23,
   "id": "581a0164",
   "metadata": {},
   "outputs": [
    {
     "data": {
      "text/plain": [
       "array([1, 2, 3, 4])"
      ]
     },
     "execution_count": 23,
     "metadata": {},
     "output_type": "execute_result"
    }
   ],
   "source": [
    "mNB_train_y"
   ]
  },
  {
   "cell_type": "code",
   "execution_count": 24,
   "id": "39c8baf7",
   "metadata": {},
   "outputs": [
    {
     "name": "stdout",
     "output_type": "stream",
     "text": [
      "[1]\n"
     ]
    },
    {
     "data": {
      "text/plain": [
       "array([[0.86528802, 0.00272639, 0.05857554, 0.07341005]])"
      ]
     },
     "execution_count": 24,
     "metadata": {},
     "output_type": "execute_result"
    }
   ],
   "source": [
    "# 학습\n",
    "mNB = MultinomialNB()\n",
    "\n",
    "fitted_mNB = mNB.fit(mNB_train_X, mNB_train_y)\n",
    "\n",
    "# 첫 번째 값의 예측 결과(클래스) 확인\n",
    "print(fitted_mNB.predict(mNB_train_X[:1]))\n",
    "\n",
    "# 첫 번째 값의 각 클래스별 확률 확인\n",
    "fitted_mNB.predict_proba(mNB_train_X[:1])"
   ]
  },
  {
   "cell_type": "markdown",
   "id": "5e24fe1e",
   "metadata": {},
   "source": [
    "## Prior(사전 확률) 설정\n",
    " - class가 발생되는 사전 확률을 미리 알고 있었던 경우라고 가정"
   ]
  },
  {
   "cell_type": "code",
   "execution_count": 25,
   "id": "29e70d85",
   "metadata": {},
   "outputs": [
    {
     "data": {
      "text/html": [
       "<style>#sk-container-id-1 {color: black;background-color: white;}#sk-container-id-1 pre{padding: 0;}#sk-container-id-1 div.sk-toggleable {background-color: white;}#sk-container-id-1 label.sk-toggleable__label {cursor: pointer;display: block;width: 100%;margin-bottom: 0;padding: 0.3em;box-sizing: border-box;text-align: center;}#sk-container-id-1 label.sk-toggleable__label-arrow:before {content: \"▸\";float: left;margin-right: 0.25em;color: #696969;}#sk-container-id-1 label.sk-toggleable__label-arrow:hover:before {color: black;}#sk-container-id-1 div.sk-estimator:hover label.sk-toggleable__label-arrow:before {color: black;}#sk-container-id-1 div.sk-toggleable__content {max-height: 0;max-width: 0;overflow: hidden;text-align: left;background-color: #f0f8ff;}#sk-container-id-1 div.sk-toggleable__content pre {margin: 0.2em;color: black;border-radius: 0.25em;background-color: #f0f8ff;}#sk-container-id-1 input.sk-toggleable__control:checked~div.sk-toggleable__content {max-height: 200px;max-width: 100%;overflow: auto;}#sk-container-id-1 input.sk-toggleable__control:checked~label.sk-toggleable__label-arrow:before {content: \"▾\";}#sk-container-id-1 div.sk-estimator input.sk-toggleable__control:checked~label.sk-toggleable__label {background-color: #d4ebff;}#sk-container-id-1 div.sk-label input.sk-toggleable__control:checked~label.sk-toggleable__label {background-color: #d4ebff;}#sk-container-id-1 input.sk-hidden--visually {border: 0;clip: rect(1px 1px 1px 1px);clip: rect(1px, 1px, 1px, 1px);height: 1px;margin: -1px;overflow: hidden;padding: 0;position: absolute;width: 1px;}#sk-container-id-1 div.sk-estimator {font-family: monospace;background-color: #f0f8ff;border: 1px dotted black;border-radius: 0.25em;box-sizing: border-box;margin-bottom: 0.5em;}#sk-container-id-1 div.sk-estimator:hover {background-color: #d4ebff;}#sk-container-id-1 div.sk-parallel-item::after {content: \"\";width: 100%;border-bottom: 1px solid gray;flex-grow: 1;}#sk-container-id-1 div.sk-label:hover label.sk-toggleable__label {background-color: #d4ebff;}#sk-container-id-1 div.sk-serial::before {content: \"\";position: absolute;border-left: 1px solid gray;box-sizing: border-box;top: 0;bottom: 0;left: 50%;z-index: 0;}#sk-container-id-1 div.sk-serial {display: flex;flex-direction: column;align-items: center;background-color: white;padding-right: 0.2em;padding-left: 0.2em;position: relative;}#sk-container-id-1 div.sk-item {position: relative;z-index: 1;}#sk-container-id-1 div.sk-parallel {display: flex;align-items: stretch;justify-content: center;background-color: white;position: relative;}#sk-container-id-1 div.sk-item::before, #sk-container-id-1 div.sk-parallel-item::before {content: \"\";position: absolute;border-left: 1px solid gray;box-sizing: border-box;top: 0;bottom: 0;left: 50%;z-index: -1;}#sk-container-id-1 div.sk-parallel-item {display: flex;flex-direction: column;z-index: 1;position: relative;background-color: white;}#sk-container-id-1 div.sk-parallel-item:first-child::after {align-self: flex-end;width: 50%;}#sk-container-id-1 div.sk-parallel-item:last-child::after {align-self: flex-start;width: 50%;}#sk-container-id-1 div.sk-parallel-item:only-child::after {width: 0;}#sk-container-id-1 div.sk-dashed-wrapped {border: 1px dashed gray;margin: 0 0.4em 0.5em 0.4em;box-sizing: border-box;padding-bottom: 0.4em;background-color: white;}#sk-container-id-1 div.sk-label label {font-family: monospace;font-weight: bold;display: inline-block;line-height: 1.2em;}#sk-container-id-1 div.sk-label-container {text-align: center;}#sk-container-id-1 div.sk-container {/* jupyter's `normalize.less` sets `[hidden] { display: none; }` but bootstrap.min.css set `[hidden] { display: none !important; }` so we also need the `!important` here to be able to override the default hidden behavior on the sphinx rendered scikit-learn.org. See: https://github.com/scikit-learn/scikit-learn/issues/21755 */display: inline-block !important;position: relative;}#sk-container-id-1 div.sk-text-repr-fallback {display: none;}</style><div id=\"sk-container-id-1\" class=\"sk-top-container\"><div class=\"sk-text-repr-fallback\"><pre>MultinomialNB(class_prior=[0.1, 0.5, 0.1, 0.1])</pre><b>In a Jupyter environment, please rerun this cell to show the HTML representation or trust the notebook. <br />On GitHub, the HTML representation is unable to render, please try loading this page with nbviewer.org.</b></div><div class=\"sk-container\" hidden><div class=\"sk-item\"><div class=\"sk-estimator sk-toggleable\"><input class=\"sk-toggleable__control sk-hidden--visually\" id=\"sk-estimator-id-1\" type=\"checkbox\" checked><label for=\"sk-estimator-id-1\" class=\"sk-toggleable__label sk-toggleable__label-arrow\">MultinomialNB</label><div class=\"sk-toggleable__content\"><pre>MultinomialNB(class_prior=[0.1, 0.5, 0.1, 0.1])</pre></div></div></div></div></div>"
      ],
      "text/plain": [
       "MultinomialNB(class_prior=[0.1, 0.5, 0.1, 0.1])"
      ]
     },
     "execution_count": 25,
     "metadata": {},
     "output_type": "execute_result"
    }
   ],
   "source": [
    "clmNB_2 = MultinomialNB(class_prior = [0.1,0.5,0.1,0.1])\n",
    "clmNB_2.fit(mNB_train_X,mNB_train_y)"
   ]
  },
  {
   "cell_type": "code",
   "execution_count": 26,
   "id": "84536ccc",
   "metadata": {},
   "outputs": [
    {
     "data": {
      "text/plain": [
       "array([[0.85595337, 0.0134849 , 0.05794363, 0.07261811]])"
      ]
     },
     "execution_count": 26,
     "metadata": {},
     "output_type": "execute_result"
    }
   ],
   "source": [
    "clmNB_2.predict_proba(mNB_train_X[:1])"
   ]
  },
  {
   "cell_type": "code",
   "execution_count": null,
   "id": "8095be1a",
   "metadata": {},
   "outputs": [],
   "source": []
  }
 ],
 "metadata": {
  "kernelspec": {
   "display_name": "Python 3 (ipykernel)",
   "language": "python",
   "name": "python3"
  },
  "language_info": {
   "codemirror_mode": {
    "name": "ipython",
    "version": 3
   },
   "file_extension": ".py",
   "mimetype": "text/x-python",
   "name": "python",
   "nbconvert_exporter": "python",
   "pygments_lexer": "ipython3",
   "version": "3.9.12"
  }
 },
 "nbformat": 4,
 "nbformat_minor": 5
}
