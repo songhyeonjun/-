{
 "cells": [
  {
   "cell_type": "markdown",
   "id": "b2a55b1d",
   "metadata": {},
   "source": [
    "# 로지스틱회귀(Logistic Regression) 실습\n",
    "## 분류(Classification) - 확률적 판별 모델\n",
    " - 로지스틱회귀(Logistic Regression) "
   ]
  },
  {
   "cell_type": "code",
   "execution_count": 1,
   "id": "47cd4cb0",
   "metadata": {},
   "outputs": [],
   "source": [
    "# 패키지 임포트\n",
    "import os\n",
    "import warnings\n",
    "# FutureWarning 제거\n",
    "warnings.simplefilter(action='ignore', category=FutureWarning) \n",
    "\n",
    "import pandas as pd # pandas package\n",
    "import numpy as np # numpy package \n",
    "from scipy import stats # Scipy Package \n",
    "\n",
    "from sklearn import datasets # sklearn dataset \n",
    "from sklearn.model_selection import train_test_split # 데이터셋 분리\n",
    "\n",
    "# 시각화 패키지\n",
    "import matplotlib.pyplot as plt # matplotlib 시각화 패키지\n",
    "import seaborn as sns\n",
    "%matplotlib inline\n",
    "\n",
    "# os에 따른 Font 깨짐 제거를 위해 Font 지정\n",
    "import os\n",
    "if os.name == 'nt' : # Windows OS \n",
    "    font_family = \"Malgun Gothic\"\n",
    "else: # MAC OS \n",
    "    font_family = \"AppleGothic\"\n",
    "\n",
    "# - 값이 깨지는 문제 해결을 위해 파라미터값 설정\n",
    "sns.set(font=font_family, rc ={\"axes.unicode_minus\" : False})\n"
   ]
  },
  {
   "cell_type": "code",
   "execution_count": 2,
   "id": "8599bdd0",
   "metadata": {},
   "outputs": [
    {
     "data": {
      "image/png": "[encoded data removed]",
      "text/plain": [
       "<Figure size 360x288 with 1 Axes>"
      ]
     },
     "metadata": {},
     "output_type": "display_data"
    }
   ],
   "source": [
    "# 로짓 펑션 시각화\n",
    "p = np.arange(0.001, 1, 0.001)\n",
    "\n",
    "logit_df = pd.DataFrame({'p': p, 'logit': np.log(p / (1 - p)),'odds': p / (1 - p),\n",
    "})\n",
    "\n",
    "fig, ax = plt.subplots(figsize=(5, 4))\n",
    "ax.axhline(0, color='grey', linestyle='--')\n",
    "ax.axvline(0.5, color='grey', linestyle='--')\n",
    "ax.plot(logit_df['p'], logit_df['logit'])\n",
    "ax.set_xlabel('Probability')\n",
    "ax.set_ylabel('logit(p)')\n",
    "plt.tight_layout()\n",
    "plt.show()"
   ]
  },
  {
   "cell_type": "code",
   "execution_count": 3,
   "id": "9721dd03",
   "metadata": {},
   "outputs": [
    {
     "data": {
      "image/png": "[encoded data removed]",
      "text/plain": [
       "<Figure size 360x288 with 1 Axes>"
      ]
     },
     "metadata": {},
     "output_type": "display_data"
    }
   ],
   "source": [
    "# logistic function = sigmoid \n",
    "x = logit_df['logit']\n",
    "phi = 1 / (1 + np.exp(-x)) # x:판별 함수\n",
    "plt.figure(figsize=(5,4))\n",
    "\n",
    "plt.plot(x, phi)\n",
    "plt.xlabel('x')\n",
    "plt.ylabel('Probability')\n",
    "\n",
    "plt.show()"
   ]
  },
  {
   "cell_type": "markdown",
   "id": "b9bb73c4",
   "metadata": {},
   "source": [
    "## 이항 로지스틱 회귀\n",
    "### 위스콘신 유방암(breast cancer) 데이터셋\n",
    " - 유방암 진단 사진으로부터 측정한 종양(tumar)의 특징값을 사용하여 종양이 양성(benign)인지 악성(malignant)인지를 판별\n",
    " - 30개의 속성과 malignant(악성:0), benign(양성1)의 두 가지 타겟 데이터로 구성 : 총 31개\n",
    " - radius(반경)\n",
    " - texture(질감)\n",
    " - perimeter(둘레)\n",
    " - area(면적)\n",
    " - smoothness(매끄러움)\n",
    " - compactness(작은 적도)\n",
    " - concavity(오목함)\n",
    " - concave_points(오목한 점의 수)\n",
    " - symmetry(대칭)\n",
    " - fractal_dimension(프랙탈 차원)\n",
    " - 위 10개 세포의 특성 항목에 대해 각각 평균(mean), 표준오차(error), 큰 값 3개의 평균(worst) 값을 속성으로 구성"
   ]
  },
  {
   "cell_type": "code",
   "execution_count": 5,
   "id": "e117b79c",
   "metadata": {},
   "outputs": [
    {
     "name": "stdout",
     "output_type": "stream",
     "text": [
      "종양 여부 결정 속성 : ['mean radius' 'mean texture' 'mean perimeter' 'mean area'\n",
      " 'mean smoothness' 'mean compactness' 'mean concavity'\n",
      " 'mean concave points' 'mean symmetry' 'mean fractal dimension'\n",
      " 'radius error' 'texture error' 'perimeter error' 'area error'\n",
      " 'smoothness error' 'compactness error' 'concavity error'\n",
      " 'concave points error' 'symmetry error' 'fractal dimension error'\n",
      " 'worst radius' 'worst texture' 'worst perimeter' 'worst area'\n",
      " 'worst smoothness' 'worst compactness' 'worst concavity'\n",
      " 'worst concave points' 'worst symmetry' 'worst fractal dimension']\n",
      "종양 구분 : ['malignant' 'benign']\n"
     ]
    }
   ],
   "source": [
    "# 데이터셋 로드\n",
    "from sklearn.datasets import load_breast_cancer\n",
    "\n",
    "# 데이터 불러오기\n",
    "data = load_breast_cancer()\n",
    "\n",
    "# 독립변수 (input data)\n",
    "b_input_data = data.data\n",
    "\n",
    "# 종양 : target data \n",
    "# 악성(malignant:0), 양성(benign:1)\n",
    "b_target_data = data.target\n",
    "\n",
    "# 종양 구분\n",
    "tumar = data.target_names\n",
    "\n",
    "# 속성 명칭\n",
    "feature_names = data.feature_names\n",
    "\n",
    "print('종양 여부 결정 속성 : {}'.format(feature_names))\n",
    "print('종양 구분 : {}'.format(tumar))\n",
    "\n",
    "breast_df = pd.DataFrame(b_input_data, columns=feature_names)\n",
    "breast_df['target'] = b_target_data\n",
    "\n",
    "# 속성명 공백에 \"_\"달기\n",
    "breast_df.columns = [col.replace(\" \", \"_\") for col in breast_df.columns]"
   ]
  },
  {
   "cell_type": "code",
   "execution_count": 6,
   "id": "35005943",
   "metadata": {},
   "outputs": [
    {
     "name": "stdout",
     "output_type": "stream",
     "text": [
      "(569, 31)\n"
     ]
    },
    {
     "data": {
      "text/plain": [
       "1    357\n",
       "0    212\n",
       "Name: target, dtype: int64"
      ]
     },
     "execution_count": 6,
     "metadata": {},
     "output_type": "execute_result"
    }
   ],
   "source": [
    "# 데이터 확인\n",
    "# 데이터 차원\n",
    "print(breast_df.shape)\n",
    "# label 데이터 비율 확인\n",
    "breast_df['target'].value_counts()"
   ]
  },
  {
   "cell_type": "code",
   "execution_count": 7,
   "id": "e159315b",
   "metadata": {},
   "outputs": [],
   "source": [
    "# 학습 데이터셋 생성\n",
    "# 평균 관련된 3개의 속성으로 종양 여부 판단\n",
    "X = breast_df[['mean_radius', 'mean_texture', 'mean_perimeter' ]] # 독립변수\n",
    "\n",
    "Y = breast_df['target']\n",
    "\n",
    "# 80%의 데이터를 학습 데이터로, 20%를 테스트 데이터\n",
    "X_train, X_test, y_train, y_test = train_test_split(X, Y, test_size = 0.2, random_state = 42) \n",
    "\n",
    "## 표준화 데이터 스케일링\n",
    "from sklearn.preprocessing import StandardScaler\n",
    "\n",
    "scaler = StandardScaler()\n",
    "train_scaled = scaler.fit_transform(X_train)\n",
    "test_scaled = scaler.fit_transform(X_test)"
   ]
  },
  {
   "cell_type": "markdown",
   "id": "191ac18e",
   "metadata": {},
   "source": [
    "## from sklearn.linear_model import LogisticRegression\n",
    "### 파라미터\n",
    " - penalty : 규제에 사용된 기준을 지정 (l1, l2, elasticnet, none) – default : l2\n",
    " - dual : 이중 또는 초기 공식\n",
    " - fit_intercept : 모델에 상수항 (절편)이 있는가 없는가를 결정하는 인수 (default : True)\n",
    " - intercept_scaling : 정규화 효과 정도\n",
    " - class_weight : 클래스의 가중치\n",
    " - random_state : 난수 seed 설정\n",
    " - solver : 최적화 문제에 사용하는 알고리즘\n",
    " - max_iter : 계산에 사용할 작업 수\n",
    " - multi_class : 다중 분류 시에 (ovr, multinomial, auto)로 설정\n",
    " - verbose : 동작 과정에 대한 출력 메시지\n",
    " - warm_start : 이전 모델을 초기화로 적합하게 사용할 것인지 여부\n",
    " - n_jobs : 병렬 처리할 때 사용되는 CPU 코어 수\n",
    " - l1_ratio : L1 규제의 비율(Elastic-Net 믹싱 파라미터 경우에만 사용\n",
    "\n",
    "### 속성\n",
    " - classes_ : 클래스\n",
    " - coef_ : 회귀계수\n",
    " - intercept_ : 절편"
   ]
  },
  {
   "cell_type": "code",
   "execution_count": 9,
   "id": "58f06601",
   "metadata": {},
   "outputs": [
    {
     "name": "stdout",
     "output_type": "stream",
     "text": [
      "test 데이터셋 정확도 0.9122807017543859\n"
     ]
    }
   ],
   "source": [
    "from sklearn.linear_model import LogisticRegression\n",
    "\n",
    "## 반복횟수(max_iter)를 100으로 지정한 로지스틱 회귀모델\n",
    "lr = LogisticRegression(max_iter=100)\n",
    "\n",
    "lr.fit(train_scaled, y_train)\n",
    "\n",
    "## 테스트 데이터 정확도 확인\n",
    "# 결과 확인\n",
    "print(\"test 데이터셋 정확도\", lr.score(test_scaled, y_test))"
   ]
  },
  {
   "cell_type": "code",
   "execution_count": 10,
   "id": "3c001764",
   "metadata": {},
   "outputs": [
    {
     "name": "stdout",
     "output_type": "stream",
     "text": [
      "coefficient = n [[-0.52514614 -0.90583641 -2.86050966]]\n",
      "\n",
      "intercept =  [0.71500109]\n"
     ]
    }
   ],
   "source": [
    "# 회귀계수 확인\n",
    "print(\"coefficient = n\", lr.coef_)\n",
    "print()\n",
    "print(\"intercept = \", lr.intercept_)"
   ]
  },
  {
   "cell_type": "code",
   "execution_count": 11,
   "id": "b11317ca",
   "metadata": {},
   "outputs": [
    {
     "name": "stdout",
     "output_type": "stream",
     "text": [
      "Class : [0 1]\n",
      "테스트 데이터 :\n",
      " [[-0.4877952  -0.25088379 -0.46378664]\n",
      " [ 1.37325734  0.36318719  1.29254295]\n",
      " [ 0.37225845 -0.05148067  0.38772954]\n",
      " [-0.50793023 -0.4593507  -0.44808668]\n",
      " [-0.75530352 -1.19351674 -0.72985962]]\n",
      "테스트 데이터의 각 클래스 확률 :\n",
      " [[0.07411784 0.92588216]\n",
      " [0.98257857 0.01742143]\n",
      " [0.63250073 0.36749927]\n",
      " [0.06418841 0.93581159]\n",
      " [0.01364629 0.98635371]]\n",
      "예측 결과 : [1 0 0 1 1]\n"
     ]
    }
   ],
   "source": [
    "# 테스트 데이터 각 클래스별 확률 확인\n",
    "# 어떤 클래스 있는 확인\n",
    "print(\"Class :\", lr.classes_)\n",
    "\n",
    "# 테스트 데이터\n",
    "print(\"테스트 데이터 :\\n\", test_scaled[:5])\n",
    "\n",
    "# 테스트 데이터의 각 클래스 확률 확인\n",
    "print(\"테스트 데이터의 각 클래스 확률 :\\n\",lr.predict_proba(test_scaled[:5]))\n",
    "\n",
    "## 테스트 데이터 예측 결과\n",
    "Y_pred = lr.predict(test_scaled[:5])\n",
    "print(\"예측 결과 :\", Y_pred)"
   ]
  },
  {
   "cell_type": "code",
   "execution_count": 12,
   "id": "e8d3518b",
   "metadata": {},
   "outputs": [
    {
     "name": "stdout",
     "output_type": "stream",
     "text": [
      "테스트 데이터 : \n",
      " [[-0.4877952  -0.25088379 -0.46378664]\n",
      " [ 1.37325734  0.36318719  1.29254295]\n",
      " [ 0.37225845 -0.05148067  0.38772954]\n",
      " [-0.50793023 -0.4593507  -0.44808668]\n",
      " [-0.75530352 -1.19351674 -0.72985962]]\n",
      "\n",
      "decision_function =  [ 2.53 -4.03 -0.54  2.68  4.28]\n",
      "\n",
      "클래스1 확률:  [0.92588216 0.01742143 0.36749927 0.93581159 0.98635371]\n",
      "클래스0 확률:  [0.07411784 0.98257857 0.63250073 0.06418841 0.01364629]\n"
     ]
    }
   ],
   "source": [
    "## 판별 함수(decision_function)로 z값 산출\n",
    "# 테스트 데이터 확인\n",
    "print(\"테스트 데이터 : \\n\", test_scaled[:5])\n",
    "\n",
    "# 이진분류의 decision_function은 1 클래스(양성)에 대응하는 값을 반환\n",
    "decision = lr.decision_function(test_scaled[:5])\n",
    "print()\n",
    "print(\"decision_function = \", np.round(decision[:5], decimals=2))\n",
    "print()\n",
    "\n",
    "# 로지스틱 함수 양성(1) 클래스의 확률)\n",
    "phi = 1 / (1 + np.exp(-decision))\n",
    "\n",
    "# 로지스틱 함수 악성(0) 클래스의 확률)\n",
    "n_phi = 1 - (phi)\n",
    "\n",
    "print(\"클래스1 확률: \", phi)\n",
    "print(\"클래스0 확률: \", n_phi)\n"
   ]
  },
  {
   "cell_type": "code",
   "execution_count": 13,
   "id": "7cf56ce8",
   "metadata": {},
   "outputs": [
    {
     "name": "stdout",
     "output_type": "stream",
     "text": [
      "판별 함수 계산 :  2.525090684050562\n",
      "판별 함수 계산 :  2.5250906919502643\n"
     ]
    }
   ],
   "source": [
    "# 판별 함수 직접 계산\n",
    "\n",
    "# 테스트 셋 : [-0.4877952 -0.25088379 -0.46378664]\n",
    "z = (lr.coef_[0][0]*test_scaled[0][0] + lr.coef_[0][1]*test_scaled[0][1] + \n",
    "    lr.coef_[0][2]*test_scaled[0][2] + lr.intercept_[0])\n",
    "print(\"판별 함수 계산 : \", z)\n",
    "\n",
    "z = -0.52514614*-0.4877952 + -0.90583641*-0.25088379 + -2.86050966 * -0.46378664 + 0.71500109\n",
    "print(\"판별 함수 계산 : \", z)"
   ]
  },
  {
   "cell_type": "code",
   "execution_count": 14,
   "id": "e37ebb0f",
   "metadata": {},
   "outputs": [
    {
     "name": "stdout",
     "output_type": "stream",
     "text": [
      "              precision    recall  f1-score   support\n",
      "\n",
      "           0       0.92      0.84      0.88        43\n",
      "           1       0.91      0.96      0.93        71\n",
      "\n",
      "    accuracy                           0.91       114\n",
      "   macro avg       0.91      0.90      0.90       114\n",
      "weighted avg       0.91      0.91      0.91       114\n",
      "\n",
      "\n",
      "confusion matrix = \n",
      " [[36  7]\n",
      " [ 3 68]]\n",
      "accuracy =  0.9122807017543859\n",
      "precision =  0.9066666666666666\n",
      "recall =  0.9577464788732394\n",
      "f1 score =  0.9315068493150686\n"
     ]
    }
   ],
   "source": [
    "# 모델 평가\n",
    "from sklearn.metrics import classification_report, confusion_matrix\n",
    "from sklearn.metrics import accuracy_score, precision_score, recall_score, f1_score\n",
    "\n",
    "# 예측값\n",
    "Y_pred = lr.predict(test_scaled)\n",
    "\n",
    "# 성능 리포트 출력\n",
    "print(classification_report(y_test, lr.predict(test_scaled)))\n",
    "\n",
    "# 주요 성능 지표\n",
    "print() \n",
    "print('confusion matrix = \\n', confusion_matrix(y_true=y_test, y_pred=Y_pred))\n",
    "print('accuracy = ', accuracy_score(y_true=y_test, y_pred=Y_pred))\n",
    "print('precision = ', precision_score(y_true=y_test, y_pred=Y_pred))\n",
    "print('recall = ', recall_score(y_true=y_test, y_pred=Y_pred))\n",
    "print('f1 score = ', f1_score(y_true=y_test, y_pred=Y_pred))"
   ]
  },
  {
   "cell_type": "code",
   "execution_count": 15,
   "id": "208e5f96",
   "metadata": {},
   "outputs": [
    {
     "data": {
      "image/png": "[encoded data removed]",
      "text/plain": [
       "<Figure size 432x288 with 2 Axes>"
      ]
     },
     "metadata": {},
     "output_type": "display_data"
    }
   ],
   "source": [
    "# 시각화\n",
    "# Confusion Matrix\n",
    "from sklearn.metrics import plot_confusion_matrix\n",
    "labels = ['malignant(악성)', 'benign(양성)']\n",
    "disp = plot_confusion_matrix(lr, test_scaled, \n",
    "                             y_test,display_labels=labels, \n",
    "                             cmap=plt.cm.Blues, \n",
    "                             normalize=None)\n",
    "\n",
    "disp.ax_.set_title('Confusion Matrix');"
   ]
  },
  {
   "cell_type": "code",
   "execution_count": 16,
   "id": "b5b50fa1",
   "metadata": {},
   "outputs": [
    {
     "data": {
      "image/png": "[encoded data removed]",
      "text/plain": [
       "<Figure size 432x288 with 1 Axes>"
      ]
     },
     "metadata": {},
     "output_type": "display_data"
    },
    {
     "name": "stdout",
     "output_type": "stream",
     "text": [
      "auc =  0.9780543727481166\n"
     ]
    }
   ],
   "source": [
    "## ROC Curve \n",
    "from sklearn.metrics import roc_curve, auc, roc_auc_score\n",
    "\n",
    "# 검증 데이터가 클래스 1에 해당 하는 데이터\n",
    "Y_score = lr.predict_proba(test_scaled)[:, 1] \n",
    "\n",
    "fpr, tpr, thresholds = roc_curve(y_true=y_test, y_score=Y_score)\n",
    "\n",
    "plt.plot(fpr, tpr, label='roc curve (area = %0.3f)' % auc(fpr, tpr))\n",
    "plt.plot([0, 1], [0, 1], linestyle='--', label='random')\n",
    "plt.plot([0, 0, 1], [0, 1, 1], linestyle='--', label='ideal')\n",
    "plt.legend()\n",
    "plt.xlabel('false positive rate')\n",
    "plt.ylabel('true positive rate')\n",
    "plt.show()\n",
    "\n",
    "# AUC Score \n",
    "print('auc = ', roc_auc_score(y_true=y_test, y_score=Y_score))\n"
   ]
  },
  {
   "cell_type": "markdown",
   "id": "91c92e28",
   "metadata": {},
   "source": [
    "## statsmodel 이용한 Logistic Regression \n",
    "### Logit() : Logit Model\n",
    "### 데이터의 class가 0,1 인 경우만 사용 가능"
   ]
  },
  {
   "cell_type": "code",
   "execution_count": 17,
   "id": "f74a1a3f",
   "metadata": {},
   "outputs": [
    {
     "name": "stdout",
     "output_type": "stream",
     "text": [
      "Optimization terminated successfully.\n",
      "         Current function value: 0.204880\n",
      "         Iterations 9\n"
     ]
    }
   ],
   "source": [
    "# 로지스틱 모델 적합, y = F(x)\n",
    "import statsmodels.api as sm\n",
    "\n",
    "# 상수항 추가\n",
    "X = sm.add_constant(train_scaled) \n",
    "\n",
    "model_s = sm.Logit(y_train, X)\n",
    "\n",
    "results = model_s.fit()"
   ]
  },
  {
   "cell_type": "code",
   "execution_count": 18,
   "id": "b11e114c",
   "metadata": {},
   "outputs": [
    {
     "data": {
      "text/html": [
       "<table class=\"simpletable\">\n",
       "<caption>Logit Regression Results</caption>\n",
       "<tr>\n",
       "  <th>Dep. Variable:</th>        <td>target</td>      <th>  No. Observations:  </th>  <td>   455</td>  \n",
       "</tr>\n",
       "<tr>\n",
       "  <th>Model:</th>                 <td>Logit</td>      <th>  Df Residuals:      </th>  <td>   451</td>  \n",
       "</tr>\n",
       "<tr>\n",
       "  <th>Method:</th>                 <td>MLE</td>       <th>  Df Model:          </th>  <td>     3</td>  \n",
       "</tr>\n",
       "<tr>\n",
       "  <th>Date:</th>            <td>Wed, 27 Jul 2022</td> <th>  Pseudo R-squ.:     </th>  <td>0.6894</td>  \n",
       "</tr>\n",
       "<tr>\n",
       "  <th>Time:</th>                <td>13:12:56</td>     <th>  Log-Likelihood:    </th> <td> -93.220</td> \n",
       "</tr>\n",
       "<tr>\n",
       "  <th>converged:</th>             <td>True</td>       <th>  LL-Null:           </th> <td> -300.17</td> \n",
       "</tr>\n",
       "<tr>\n",
       "  <th>Covariance Type:</th>     <td>nonrobust</td>    <th>  LLR p-value:       </th> <td>2.162e-89</td>\n",
       "</tr>\n",
       "</table>\n",
       "<table class=\"simpletable\">\n",
       "<tr>\n",
       "    <td></td>       <th>coef</th>     <th>std err</th>      <th>z</th>      <th>P>|z|</th>  <th>[0.025</th>    <th>0.975]</th>  \n",
       "</tr>\n",
       "<tr>\n",
       "  <th>const</th> <td>    0.6412</td> <td>    0.194</td> <td>    3.308</td> <td> 0.001</td> <td>    0.261</td> <td>    1.021</td>\n",
       "</tr>\n",
       "<tr>\n",
       "  <th>x1</th>    <td>   20.1777</td> <td>    3.706</td> <td>    5.445</td> <td> 0.000</td> <td>   12.914</td> <td>   27.441</td>\n",
       "</tr>\n",
       "<tr>\n",
       "  <th>x2</th>    <td>   -1.0736</td> <td>    0.208</td> <td>   -5.162</td> <td> 0.000</td> <td>   -1.481</td> <td>   -0.666</td>\n",
       "</tr>\n",
       "<tr>\n",
       "  <th>x3</th>    <td>  -24.4741</td> <td>    3.954</td> <td>   -6.190</td> <td> 0.000</td> <td>  -32.223</td> <td>  -16.725</td>\n",
       "</tr>\n",
       "</table>"
      ],
      "text/plain": [
       "<class 'statsmodels.iolib.summary.Summary'>\n",
       "\"\"\"\n",
       "                           Logit Regression Results                           \n",
       "==============================================================================\n",
       "Dep. Variable:                 target   No. Observations:                  455\n",
       "Model:                          Logit   Df Residuals:                      451\n",
       "Method:                           MLE   Df Model:                            3\n",
       "Date:                Wed, 27 Jul 2022   Pseudo R-squ.:                  0.6894\n",
       "Time:                        13:12:56   Log-Likelihood:                -93.220\n",
       "converged:                       True   LL-Null:                       -300.17\n",
       "Covariance Type:            nonrobust   LLR p-value:                 2.162e-89\n",
       "==============================================================================\n",
       "                 coef    std err          z      P>|z|      [0.025      0.975]\n",
       "------------------------------------------------------------------------------\n",
       "const          0.6412      0.194      3.308      0.001       0.261       1.021\n",
       "x1            20.1777      3.706      5.445      0.000      12.914      27.441\n",
       "x2            -1.0736      0.208     -5.162      0.000      -1.481      -0.666\n",
       "x3           -24.4741      3.954     -6.190      0.000     -32.223     -16.725\n",
       "==============================================================================\n",
       "\"\"\""
      ]
     },
     "execution_count": 18,
     "metadata": {},
     "output_type": "execute_result"
    }
   ],
   "source": [
    "## 결과 리포트\n",
    "results.summary()"
   ]
  },
  {
   "cell_type": "code",
   "execution_count": 19,
   "id": "1f9abfd9",
   "metadata": {},
   "outputs": [
    {
     "data": {
      "text/plain": [
       "const     0.641210\n",
       "x1       20.177741\n",
       "x2       -1.073557\n",
       "x3      -24.474142\n",
       "dtype: float64"
      ]
     },
     "execution_count": 19,
     "metadata": {},
     "output_type": "execute_result"
    }
   ],
   "source": [
    "# 로지스틱의 log 형태가 취해진 결과\n",
    "results.params"
   ]
  },
  {
   "cell_type": "code",
   "execution_count": 20,
   "id": "50bfdbc1",
   "metadata": {},
   "outputs": [
    {
     "data": {
      "text/plain": [
       "const    1.898777e+00\n",
       "x1       5.795377e+08\n",
       "x2       3.417905e-01\n",
       "x3       2.349715e-11\n",
       "dtype: float64"
      ]
     },
     "execution_count": 20,
     "metadata": {},
     "output_type": "execute_result"
    }
   ],
   "source": [
    "# 시그모이드\n",
    "np.exp(results.params)"
   ]
  },
  {
   "cell_type": "code",
   "execution_count": 21,
   "id": "3ceb8178",
   "metadata": {},
   "outputs": [
    {
     "data": {
      "text/plain": [
       "array([[-0.4877952 , -0.25088379, -0.46378664],\n",
       "       [ 1.37325734,  0.36318719,  1.29254295],\n",
       "       [ 0.37225845, -0.05148067,  0.38772954],\n",
       "       [-0.50793023, -0.4593507 , -0.44808668],\n",
       "       [-0.75530352, -1.19351674, -0.72985962]])"
      ]
     },
     "execution_count": 21,
     "metadata": {},
     "output_type": "execute_result"
    }
   ],
   "source": [
    "# 5개 테스트셋 예측\n",
    "test_scaled[:5]"
   ]
  },
  {
   "cell_type": "code",
   "execution_count": 22,
   "id": "c9837d78",
   "metadata": {},
   "outputs": [],
   "source": [
    "# 상수항 추가\n",
    "X_test = sm.add_constant(test_scaled)"
   ]
  },
  {
   "cell_type": "code",
   "execution_count": 23,
   "id": "61b71fbc",
   "metadata": {},
   "outputs": [
    {
     "data": {
      "text/plain": [
       "array([0.9182439 , 0.02476274, 0.21728888, 0.8643619 , 0.98949026])"
      ]
     },
     "execution_count": 23,
     "metadata": {},
     "output_type": "execute_result"
    }
   ],
   "source": [
    "# 예측 (클래스 1일 확률)\n",
    "results.predict(X_test[:5])"
   ]
  },
  {
   "cell_type": "markdown",
   "id": "3d1e64d2",
   "metadata": {},
   "source": [
    "## 다항 로지스틱 회귀"
   ]
  },
  {
   "cell_type": "code",
   "execution_count": 24,
   "id": "2d6a3dd6",
   "metadata": {},
   "outputs": [
    {
     "name": "stdout",
     "output_type": "stream",
     "text": [
      "꽃을 결정짓는 특징 : ['sepal length (cm)', 'sepal width (cm)', 'petal length (cm)', 'petal width (cm)']\n",
      "꽃 종류 : ['setosa' 'versicolor' 'virginica']\n"
     ]
    },
    {
     "data": {
      "text/html": [
       "<div>\n",
       "<style scoped>\n",
       "    .dataframe tbody tr th:only-of-type {\n",
       "        vertical-align: middle;\n",
       "    }\n",
       "\n",
       "    .dataframe tbody tr th {\n",
       "        vertical-align: top;\n",
       "    }\n",
       "\n",
       "    .dataframe thead th {\n",
       "        text-align: right;\n",
       "    }\n",
       "</style>\n",
       "<table border=\"1\" class=\"dataframe\">\n",
       "  <thead>\n",
       "    <tr style=\"text-align: right;\">\n",
       "      <th></th>\n",
       "      <th>sepal length (cm)</th>\n",
       "      <th>sepal width (cm)</th>\n",
       "      <th>petal length (cm)</th>\n",
       "      <th>petal width (cm)</th>\n",
       "      <th>species</th>\n",
       "    </tr>\n",
       "  </thead>\n",
       "  <tbody>\n",
       "    <tr>\n",
       "      <th>0</th>\n",
       "      <td>5.1</td>\n",
       "      <td>3.5</td>\n",
       "      <td>1.4</td>\n",
       "      <td>0.2</td>\n",
       "      <td>0</td>\n",
       "    </tr>\n",
       "    <tr>\n",
       "      <th>1</th>\n",
       "      <td>4.9</td>\n",
       "      <td>3.0</td>\n",
       "      <td>1.4</td>\n",
       "      <td>0.2</td>\n",
       "      <td>0</td>\n",
       "    </tr>\n",
       "    <tr>\n",
       "      <th>2</th>\n",
       "      <td>4.7</td>\n",
       "      <td>3.2</td>\n",
       "      <td>1.3</td>\n",
       "      <td>0.2</td>\n",
       "      <td>0</td>\n",
       "    </tr>\n",
       "    <tr>\n",
       "      <th>3</th>\n",
       "      <td>4.6</td>\n",
       "      <td>3.1</td>\n",
       "      <td>1.5</td>\n",
       "      <td>0.2</td>\n",
       "      <td>0</td>\n",
       "    </tr>\n",
       "    <tr>\n",
       "      <th>4</th>\n",
       "      <td>5.0</td>\n",
       "      <td>3.6</td>\n",
       "      <td>1.4</td>\n",
       "      <td>0.2</td>\n",
       "      <td>0</td>\n",
       "    </tr>\n",
       "  </tbody>\n",
       "</table>\n",
       "</div>"
      ],
      "text/plain": [
       "   sepal length (cm)  sepal width (cm)  petal length (cm)  petal width (cm)  \\\n",
       "0                5.1               3.5                1.4               0.2   \n",
       "1                4.9               3.0                1.4               0.2   \n",
       "2                4.7               3.2                1.3               0.2   \n",
       "3                4.6               3.1                1.5               0.2   \n",
       "4                5.0               3.6                1.4               0.2   \n",
       "\n",
       "   species  \n",
       "0        0  \n",
       "1        0  \n",
       "2        0  \n",
       "3        0  \n",
       "4        0  "
      ]
     },
     "execution_count": 24,
     "metadata": {},
     "output_type": "execute_result"
    }
   ],
   "source": [
    "# iris 데이터셋 로드\n",
    "data = datasets.load_iris()\n",
    "\n",
    "# 꽃의 특징 (input data)\n",
    "t_input_data = data['data'] \n",
    "\n",
    "# 꽃 종류를 수치로 나타낸 것 (0 ~ 2) (target data)\n",
    "target_data = data['target'] \n",
    "# 꽃 종류를 이름으로 나타낸것\n",
    "flowers = data['target_names'] \n",
    "\n",
    "# 꽃 특징들의 명칭\n",
    "feature_names = data['feature_names'] \n",
    "\n",
    "# sepal : 꽃받침, # petal : 꽃잎\n",
    "print('꽃을 결정짓는 특징 : {}'.format(feature_names))\n",
    "print('꽃 종류 : {}'.format(flowers))\n",
    "\n",
    "iris_df = pd.DataFrame(t_input_data, columns=feature_names)\n",
    "iris_df['species'] = target_data\n",
    "\n",
    "# 맨 위에 있는 데이터 10개 출력\n",
    "iris_df.head(5)\n"
   ]
  },
  {
   "cell_type": "code",
   "execution_count": 25,
   "id": "bebf578b",
   "metadata": {},
   "outputs": [
    {
     "name": "stdout",
     "output_type": "stream",
     "text": [
      "(135, 2) (135,) (15, 2) (15,)\n"
     ]
    }
   ],
   "source": [
    "## 데이터 전처리\n",
    "## 훈련 데이터와 테스트 데이터 분리\n",
    "# 입력은 'sepal length (cm)', 'sepal width (cm)' 2개 변수만 사용\n",
    "input_data = t_input_data[:,:2] # 독립변수, 주석 처리할 경우 4개 독립변수 사용\n",
    "train_input, test_input, train_target, test_target = train_test_split(\n",
    "input_data, target_data, test_size=0.1, random_state=1)\n",
    "\n",
    "# 표준점수로 데이터 스케일링\n",
    "scaler = StandardScaler()\n",
    "train_scaled = scaler.fit_transform(train_input)\n",
    "test_scaled = scaler.transform(test_input)\n",
    "print(train_scaled.shape, train_target.shape, test_scaled.shape, test_target.shape)"
   ]
  },
  {
   "cell_type": "code",
   "execution_count": 26,
   "id": "9e628ab2",
   "metadata": {},
   "outputs": [
    {
     "name": "stdout",
     "output_type": "stream",
     "text": [
      "[[-0.02086014  2.28989674]\n",
      " [-0.87793962 -1.25253328]\n",
      " [ 0.95865928 -0.07172327]\n",
      " [-0.51061984  2.05373474]\n",
      " [ 2.55037832  1.81757274]]\n",
      "[[9.33038861e-01 2.35032056e-02 4.34579331e-02]\n",
      " [1.26883851e-01 7.56846611e-01 1.16269538e-01]\n",
      " [2.24144158e-03 3.19944462e-01 6.77814097e-01]\n",
      " [9.82762992e-01 8.84177318e-03 8.39523505e-03]\n",
      " [1.08899921e-04 3.25884358e-02 9.67302664e-01]]\n",
      "[0 1 2 0 2]\n",
      "test 데이터셋 정확도 0.8\n"
     ]
    }
   ],
   "source": [
    "# 반복횟수(max_iter)를 1000으로 지정한 로지스틱회귀 모델\n",
    "Dlr = LogisticRegression(max_iter=100)\n",
    "\n",
    "# 로지스틱회귀 학습\n",
    "Dlr.fit(train_scaled, train_target)\n",
    "\n",
    "# 테스트 데이터\n",
    "print(test_scaled[:5])\n",
    "\n",
    "# 테스트 데이터 예측 확률\n",
    "pred = Dlr.predict_proba(test_scaled[:5])\n",
    "print(pred)\n",
    "\n",
    "# 테스트 데이터 예측\n",
    "pred = Dlr.predict(test_scaled[:5])\n",
    "print(pred)\n",
    "\n",
    "# 결과 확인\n",
    "print(\"test 데이터셋 정확도\", Dlr.score(test_scaled, test_target))\n"
   ]
  },
  {
   "cell_type": "code",
   "execution_count": 27,
   "id": "e5dc6266",
   "metadata": {},
   "outputs": [
    {
     "name": "stdout",
     "output_type": "stream",
     "text": [
      "[[-2.53394973  1.40787349]\n",
      " [ 0.68838616 -0.91510719]\n",
      " [ 1.84556358 -0.4927663 ]] \n",
      "\n",
      "[-1.0274223   0.67787193  0.34955036]\n"
     ]
    }
   ],
   "source": [
    "# 로지스틱회귀 모델의 가중치와 절편\n",
    "# 다중 분류 가중치와 절편을 출력하면, 각 클래스마다의 가중치 절편을 출력\n",
    "\n",
    "print(Dlr.coef_,\"\\n\")\n",
    "print(Dlr.intercept_)"
   ]
  },
  {
   "cell_type": "code",
   "execution_count": 28,
   "id": "e5fde859",
   "metadata": {},
   "outputs": [
    {
     "name": "stdout",
     "output_type": "stream",
     "text": [
      "[[ 2.25 -1.43 -0.82]\n",
      " [-0.57  1.22 -0.65]\n",
      " [-3.56  1.4   2.15]\n",
      " [ 3.16 -1.55 -1.6 ]\n",
      " [-4.93  0.77  4.16]]\n",
      "2.249321161204185\n",
      "[ 2.24932115 -0.56617584 -3.55759401  3.15786141 -4.93104029]\n",
      "[9.33038861e-01 1.26883851e-01 2.24144158e-03 9.82762992e-01\n",
      " 1.08899921e-04]\n"
     ]
    }
   ],
   "source": [
    "## 결정 함수(decision_function)로 z1 ~ z3의 값 산출\n",
    "Dlr_decision = Dlr.decision_function(test_scaled[:5])\n",
    "print(np.round(Dlr_decision, decimals=2))\n",
    "\n",
    "## 결정 함수 직접 계산\n",
    "# sesota 클래스 1개 값 계산\n",
    "setosa_z1 = (-2.53394973 * -0.02086014) + (1.40787349 * 2.28989674) -1.0274223\n",
    "print(setosa_z1)\n",
    "\n",
    "# sesota 클래스 5개 값 계산\n",
    "setosa_z1 = (-2.53394973 * test_scaled[:5][:,0]) + (1.40787349 * test_scaled[:5][:,1]) -1.0274223\n",
    "print(setosa_z1)\n",
    "\n",
    "## sesota 클래스 5개의 확률\n",
    "print(Dlr.predict_proba(test_scaled[:5]) [:5][:,0])"
   ]
  },
  {
   "cell_type": "code",
   "execution_count": 29,
   "id": "73b44ad2",
   "metadata": {},
   "outputs": [
    {
     "name": "stdout",
     "output_type": "stream",
     "text": [
      "[[0.933 0.024 0.043]\n",
      " [0.127 0.757 0.116]\n",
      " [0.002 0.32  0.678]\n",
      " [0.983 0.009 0.008]\n",
      " [0.    0.033 0.967]]\n"
     ]
    }
   ],
   "source": [
    "# 소프트맥스 함수를 사용한 각 클래스들의 확률\n",
    "# 클래스 세 가지 이상인 경우 소프트맥스 (Softmax) 함수를 사용하여 확률 도출\n",
    "from scipy.special import softmax\n",
    "\n",
    "proba = softmax(Dlr_decision, axis=1)\n",
    "print(np.round(proba, decimals=3))"
   ]
  },
  {
   "cell_type": "code",
   "execution_count": 32,
   "id": "14ebda0f",
   "metadata": {},
   "outputs": [
    {
     "name": "stdout",
     "output_type": "stream",
     "text": [
      "[0 1 2 0 2 2 2 0 0 2 1 0 2 2 1]\n"
     ]
    }
   ],
   "source": [
    "pred = Dlr.predict(test_scaled)\n",
    "print(pred)"
   ]
  },
  {
   "cell_type": "code",
   "execution_count": 34,
   "id": "3b264789",
   "metadata": {},
   "outputs": [
    {
     "name": "stdout",
     "output_type": "stream",
     "text": [
      "              precision    recall  f1-score   support\n",
      "\n",
      "           0       1.00      1.00      1.00         5\n",
      "           1       1.00      0.50      0.67         6\n",
      "           2       0.57      1.00      0.73         4\n",
      "\n",
      "    accuracy                           0.80        15\n",
      "   macro avg       0.86      0.83      0.80        15\n",
      "weighted avg       0.89      0.80      0.79        15\n",
      "\n",
      "\n",
      "confusion matrix = \n",
      " [[5 0 0]\n",
      " [0 3 3]\n",
      " [0 0 4]]\n",
      "accuracy =  0.8\n"
     ]
    }
   ],
   "source": [
    "# 성능 리포트 출력\n",
    "print(classification_report(test_target, pred))\n",
    "\n",
    "from sklearn.metrics import confusion_matrix, accuracy_score\n",
    "\n",
    "print() \n",
    "print('confusion matrix = \\n', confusion_matrix(y_true=test_target, y_pred=pred))\n",
    "print('accuracy = ', accuracy_score(y_true=test_target, y_pred=pred))"
   ]
  },
  {
   "cell_type": "code",
   "execution_count": null,
   "id": "04a55592",
   "metadata": {},
   "outputs": [],
   "source": []
  }
 ],
 "metadata": {
  "kernelspec": {
   "display_name": "Python 3 (ipykernel)",
   "language": "python",
   "name": "python3"
  },
  "language_info": {
   "codemirror_mode": {
    "name": "ipython",
    "version": 3
   },
   "file_extension": ".py",
   "mimetype": "text/x-python",
   "name": "python",
   "nbconvert_exporter": "python",
   "pygments_lexer": "ipython3",
   "version": "3.9.12"
  }
 },
 "nbformat": 4,
 "nbformat_minor": 5
}
