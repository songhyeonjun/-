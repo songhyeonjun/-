{
 "cells": [
  {
   "cell_type": "markdown",
   "id": "59111d3a",
   "metadata": {},
   "source": [
    "# LDA & QDA"
   ]
  },
  {
   "cell_type": "code",
   "execution_count": 3,
   "id": "4304d222",
   "metadata": {},
   "outputs": [],
   "source": [
    "# 패키지 임포트\n",
    "import os\n",
    "import warnings\n",
    "# FutureWarning 제거\n",
    "warnings.simplefilter(action='ignore', category=FutureWarning) \n",
    "\n",
    "import pandas as pd # pandas package\n",
    "import numpy as np # numpy package \n",
    "import scipy as sp # Scipy Package \n",
    "from scipy import stats # Scipy Package \n",
    "\n",
    "from sklearn import datasets # sklearn dataset \n",
    "from sklearn.model_selection import train_test_split # 데이터셋 분리\n",
    "\n",
    "# 시각화 패키지\n",
    "import matplotlib.pyplot as plt # matplotlib 시각화 패키지\n",
    "import seaborn as sns\n",
    "%matplotlib inline\n",
    "\n",
    "# os에 따른 Font 깨짐 제거를 위해 Font 지정\n",
    "import os\n",
    "if os.name == 'nt' : # Windows OS \n",
    "    font_family = \"Malgun Gothic\"\n",
    "else: # MAC OS \n",
    "    font_family = \"AppleGothic\"\n",
    "\n",
    "    # - 값이 깨지는 문제 해결을 위해 파라미터값 설정\n",
    "sns.set(font=font_family, rc ={\"axes.unicode_minus\" : False})"
   ]
  },
  {
   "cell_type": "markdown",
   "id": "ccb09116",
   "metadata": {},
   "source": [
    "## LDA(Linear Discriminant Analysis)\n",
    " - from sklearn.discriminant_analysis import LinearDiscriminantAnalysis\n",
    " - n_components : 출력차원수(n_components 수는min(n_features, n_classes -1) 보다클수없음\n",
    " - n_components의default : min(n_classes -1, n_features)\n",
    " - priors_: 각클래스k의사전확률\n",
    " - means_: 각클래스k에서x의기대값벡터μk의추정치벡터\n",
    " - covariance_: 각클래스k에서x의공분산행렬Σk의추정치행렬(생성자인수store_covariance 값이True인경우에만제공)"
   ]
  },
  {
   "cell_type": "code",
   "execution_count": 4,
   "id": "40144855",
   "metadata": {},
   "outputs": [],
   "source": [
    "## 데이터셋 로드\n",
    "from sklearn import datasets # sklearn dataset \n",
    "data = datasets.load_iris()\n",
    "# 꽃의 특징 (input data)\n",
    "t_input_data = data['data'] \n",
    "# 꽃 종류를 수치로 나타낸 것 (0 ~ 2) (target data)\n",
    "target_data = data['target'] \n",
    "# 꽃 종류를 이름으로 나타낸 것\n",
    "flowers = data['target_names']"
   ]
  },
  {
   "cell_type": "code",
   "execution_count": 5,
   "id": "7870dac0",
   "metadata": {},
   "outputs": [
    {
     "name": "stdout",
     "output_type": "stream",
     "text": [
      "꽃을 결정짓는 특징 : ['sepal length (cm)', 'sepal width (cm)', 'petal length (cm)', 'petal width (cm)']\n",
      "꽃 종류 : ['setosa' 'versicolor' 'virginica']\n"
     ]
    },
    {
     "data": {
      "text/html": [
       "<div>\n",
       "<style scoped>\n",
       "    .dataframe tbody tr th:only-of-type {\n",
       "        vertical-align: middle;\n",
       "    }\n",
       "\n",
       "    .dataframe tbody tr th {\n",
       "        vertical-align: top;\n",
       "    }\n",
       "\n",
       "    .dataframe thead th {\n",
       "        text-align: right;\n",
       "    }\n",
       "</style>\n",
       "<table border=\"1\" class=\"dataframe\">\n",
       "  <thead>\n",
       "    <tr style=\"text-align: right;\">\n",
       "      <th></th>\n",
       "      <th>sepal length (cm)</th>\n",
       "      <th>sepal width (cm)</th>\n",
       "      <th>petal length (cm)</th>\n",
       "      <th>petal width (cm)</th>\n",
       "      <th>species</th>\n",
       "    </tr>\n",
       "  </thead>\n",
       "  <tbody>\n",
       "    <tr>\n",
       "      <th>0</th>\n",
       "      <td>5.1</td>\n",
       "      <td>3.5</td>\n",
       "      <td>1.4</td>\n",
       "      <td>0.2</td>\n",
       "      <td>0</td>\n",
       "    </tr>\n",
       "    <tr>\n",
       "      <th>1</th>\n",
       "      <td>4.9</td>\n",
       "      <td>3.0</td>\n",
       "      <td>1.4</td>\n",
       "      <td>0.2</td>\n",
       "      <td>0</td>\n",
       "    </tr>\n",
       "    <tr>\n",
       "      <th>2</th>\n",
       "      <td>4.7</td>\n",
       "      <td>3.2</td>\n",
       "      <td>1.3</td>\n",
       "      <td>0.2</td>\n",
       "      <td>0</td>\n",
       "    </tr>\n",
       "    <tr>\n",
       "      <th>3</th>\n",
       "      <td>4.6</td>\n",
       "      <td>3.1</td>\n",
       "      <td>1.5</td>\n",
       "      <td>0.2</td>\n",
       "      <td>0</td>\n",
       "    </tr>\n",
       "    <tr>\n",
       "      <th>4</th>\n",
       "      <td>5.0</td>\n",
       "      <td>3.6</td>\n",
       "      <td>1.4</td>\n",
       "      <td>0.2</td>\n",
       "      <td>0</td>\n",
       "    </tr>\n",
       "  </tbody>\n",
       "</table>\n",
       "</div>"
      ],
      "text/plain": [
       "   sepal length (cm)  sepal width (cm)  petal length (cm)  petal width (cm)  \\\n",
       "0                5.1               3.5                1.4               0.2   \n",
       "1                4.9               3.0                1.4               0.2   \n",
       "2                4.7               3.2                1.3               0.2   \n",
       "3                4.6               3.1                1.5               0.2   \n",
       "4                5.0               3.6                1.4               0.2   \n",
       "\n",
       "   species  \n",
       "0        0  \n",
       "1        0  \n",
       "2        0  \n",
       "3        0  \n",
       "4        0  "
      ]
     },
     "execution_count": 5,
     "metadata": {},
     "output_type": "execute_result"
    }
   ],
   "source": [
    "# 꽃 특징들의 명칭\n",
    "feature_names = data['feature_names'] \n",
    "\n",
    "# sepal : 꽃받침, # petal : 꽃잎\n",
    "print('꽃을 결정짓는 특징 : {}'.format(feature_names))\n",
    "print('꽃 종류 : {}'.format(flowers))\n",
    "\n",
    "iris_df = pd.DataFrame(t_input_data, columns=feature_names)\n",
    "iris_df['species'] = target_data\n",
    "\n",
    "# 맨 위에 있는 데이터 5개 출력\n",
    "iris_df.head(5)"
   ]
  },
  {
   "cell_type": "code",
   "execution_count": 6,
   "id": "5b098307",
   "metadata": {},
   "outputs": [
    {
     "name": "stdout",
     "output_type": "stream",
     "text": [
      "(135, 3)\n",
      "(15, 3)\n",
      "(135,)\n",
      "(15,)\n"
     ]
    }
   ],
   "source": [
    "## 훈련 데이터와 테스트 데이터 분리\n",
    "\n",
    "# 독립변수 결정, 3개 독립변수 사용, 4개인 경우 score 1\n",
    "input_data = t_input_data[:,:3] \n",
    "\n",
    "train_input, test_input, train_target, test_target = train_test_split(\n",
    "    input_data, target_data, test_size=0.1, random_state=1)\n",
    "\n",
    "print(train_input.shape) # 트레인_X\n",
    "print(test_input.shape) # 테스트_x\n",
    "print(train_target.shape) # 트레인_Y\n",
    "print(test_target.shape) # 테스트_y"
   ]
  },
  {
   "cell_type": "code",
   "execution_count": 7,
   "id": "5b4c57d3",
   "metadata": {},
   "outputs": [],
   "source": [
    "# LDA 라이브러리\n",
    "from sklearn.discriminant_analysis import LinearDiscriminantAnalysis\n",
    "\n",
    "# LDA 학습\n",
    "lda = LinearDiscriminantAnalysis(store_covariance=True).fit(train_input, train_target) # 공분산 저장"
   ]
  },
  {
   "cell_type": "code",
   "execution_count": 8,
   "id": "b5341a10",
   "metadata": {},
   "outputs": [
    {
     "name": "stdout",
     "output_type": "stream",
     "text": [
      "(135, 3)\n"
     ]
    },
    {
     "data": {
      "text/plain": [
       "(135, 2)"
      ]
     },
     "execution_count": 8,
     "metadata": {},
     "output_type": "execute_result"
    }
   ],
   "source": [
    "# 수행 후 3개의 차원이 2개로 줄어든 것 확인\n",
    "print(train_input.shape)\n",
    "l_transf = lda.transform(train_input)\n",
    "l_transf.shape"
   ]
  },
  {
   "cell_type": "code",
   "execution_count": 10,
   "id": "b8ce792d",
   "metadata": {},
   "outputs": [
    {
     "data": {
      "image/png": "[encoded data removed]",
      "text/plain": [
       "<Figure size 432x288 with 1 Axes>"
      ]
     },
     "metadata": {},
     "output_type": "display_data"
    }
   ],
   "source": [
    "# 시각화\n",
    "lda_columns=['lda_component_1','lda_component_2']\n",
    "irisDF_lda = pd.DataFrame(l_transf, columns=lda_columns)\n",
    "irisDF_lda['target']=train_target\n",
    "\n",
    "# print(l_transf)\n",
    "# setosa는 세모, versicolor는 네모, virginica는 동그라미로 표현\n",
    "markers=['^', 's', 'o']\n",
    "\n",
    "for i, marker in enumerate(markers):\n",
    "    x_axis_data = irisDF_lda[irisDF_lda['target']==i]['lda_component_1']\n",
    "    y_axis_data = irisDF_lda[irisDF_lda['target']==i]['lda_component_2']\n",
    "    plt.scatter(x_axis_data, y_axis_data, marker=marker,label=data.target_names[i])\n",
    "plt.legend(loc='upper right')\n",
    "plt.xlabel('lda_component_1')\n",
    "plt.ylabel('lda_component_2')\n",
    "plt.show()"
   ]
  },
  {
   "cell_type": "code",
   "execution_count": 11,
   "id": "ec0ffe7d",
   "metadata": {},
   "outputs": [
    {
     "data": {
      "text/plain": [
       "array([0, 1, 1, 0, 2, 1, 1, 0, 0, 2, 1, 0, 2, 1, 1])"
      ]
     },
     "execution_count": 11,
     "metadata": {},
     "output_type": "execute_result"
    }
   ],
   "source": [
    "## test 데이터 예측 결과 확인\n",
    "l_pred = lda.predict(test_input)\n",
    "l_pred"
   ]
  },
  {
   "cell_type": "code",
   "execution_count": 12,
   "id": "1dccda46",
   "metadata": {},
   "outputs": [
    {
     "name": "stdout",
     "output_type": "stream",
     "text": [
      "0.9333333333333333\n",
      "\n",
      "[[5.8 4.  1.2]\n",
      " [5.1 2.5 3. ]\n",
      " [6.6 3.  4.4]\n",
      " [5.4 3.9 1.3]\n",
      " [7.9 3.8 6.4]]\n",
      "[0 1 1 0 2]\n",
      "\n",
      "[0 1 1 0 2]\n",
      "[[1.00000000e+00 1.00916754e-28 5.63950656e-47]\n",
      " [4.33772101e-07 9.99999514e-01 5.25284715e-08]\n",
      " [6.28716857e-15 9.99682837e-01 3.17162767e-04]\n",
      " [1.00000000e+00 9.84799614e-25 1.72284295e-41]\n",
      " [2.06902324e-34 1.01924266e-04 9.99898076e-01]]\n"
     ]
    }
   ],
   "source": [
    "## 테스트 데이터 예측 점수 확인\n",
    "print(lda.score(test_input, test_target))\n",
    "print()\n",
    "\n",
    "## 특정 값 예측 결과 확인\n",
    "print(test_input[:5])\n",
    "print(test_target[:5])\n",
    "print()\n",
    "print(lda.predict(test_input[:5]))\n",
    "print(lda.predict_proba(test_input[:5]))"
   ]
  },
  {
   "cell_type": "code",
   "execution_count": 13,
   "id": "f0098937",
   "metadata": {},
   "outputs": [
    {
     "data": {
      "text/plain": [
       "array([[5, 0, 0],\n",
       "       [0, 6, 0],\n",
       "       [0, 1, 3]], dtype=int64)"
      ]
     },
     "execution_count": 13,
     "metadata": {},
     "output_type": "execute_result"
    }
   ],
   "source": [
    "## 성능 평가, 혼동행렬\n",
    "from sklearn.metrics import confusion_matrix\n",
    "confusion_matrix(test_target, l_pred)"
   ]
  },
  {
   "cell_type": "code",
   "execution_count": 14,
   "id": "994f3a19",
   "metadata": {},
   "outputs": [
    {
     "data": {
      "text/plain": [
       "array([0.33333333, 0.32592593, 0.34074074])"
      ]
     },
     "execution_count": 14,
     "metadata": {},
     "output_type": "execute_result"
    }
   ],
   "source": [
    "# 사전 확률\n",
    "lda.priors_"
   ]
  },
  {
   "cell_type": "code",
   "execution_count": 15,
   "id": "5c3e3df1",
   "metadata": {},
   "outputs": [
    {
     "data": {
      "text/plain": [
       "array([[4.97555556, 3.39111111, 1.45333333],\n",
       "       [5.92727273, 2.74772727, 4.26590909],\n",
       "       [6.53478261, 2.94782609, 5.5326087 ]])"
      ]
     },
     "execution_count": 15,
     "metadata": {},
     "output_type": "execute_result"
    }
   ],
   "source": [
    "# 클래스별 평균\n",
    "lda.means_"
   ]
  },
  {
   "cell_type": "code",
   "execution_count": 16,
   "id": "668be4b8",
   "metadata": {},
   "outputs": [
    {
     "data": {
      "text/plain": [
       "array([[0.25151653, 0.07826984, 0.16368446],\n",
       "       [0.07826984, 0.10756296, 0.04919396],\n",
       "       [0.16368446, 0.04919396, 0.17668112]])"
      ]
     },
     "execution_count": 16,
     "metadata": {},
     "output_type": "execute_result"
    }
   ],
   "source": [
    "# 독립변수 공분산\n",
    "lda.covariance_"
   ]
  },
  {
   "cell_type": "code",
   "execution_count": 17,
   "id": "34d5bc4e",
   "metadata": {},
   "outputs": [
    {
     "name": "stdout",
     "output_type": "stream",
     "text": [
      "              precision    recall  f1-score   support\n",
      "\n",
      "           0       1.00      1.00      1.00         5\n",
      "           1       0.86      1.00      0.92         6\n",
      "           2       1.00      0.75      0.86         4\n",
      "\n",
      "    accuracy                           0.93        15\n",
      "   macro avg       0.95      0.92      0.93        15\n",
      "weighted avg       0.94      0.93      0.93        15\n",
      "\n"
     ]
    }
   ],
   "source": [
    "## 분류 리포트\n",
    "from sklearn.metrics import classification_report\n",
    "\n",
    "print(classification_report(test_target, l_pred))"
   ]
  },
  {
   "cell_type": "code",
   "execution_count": 23,
   "id": "f142cb78",
   "metadata": {
    "scrolled": true
   },
   "outputs": [
    {
     "data": {
      "image/png": "[encoded data removed]",
      "text/plain": [
       "<Figure size 432x288 with 1 Axes>"
      ]
     },
     "metadata": {},
     "output_type": "display_data"
    }
   ],
   "source": [
    "# 각 클래스에 대한 ROC \n",
    "from sklearn.preprocessing import label_binarize\n",
    "\n",
    "lda_train_vec = label_binarize(train_target, classes = [0, 1, 2])\n",
    "\n",
    "from sklearn.metrics import roc_curve\n",
    "\n",
    "for i in range(3):\n",
    "    lda = LinearDiscriminantAnalysis().fit(train_input, lda_train_vec[:, i])\n",
    "    fpr, tpr, thr = roc_curve(lda_train_vec[:, i], lda.predict_proba(train_input)[:, 1])\n",
    "    plt.plot(fpr, tpr)\n",
    "\n",
    "plt.show()"
   ]
  },
  {
   "cell_type": "markdown",
   "id": "b355c1c2",
   "metadata": {},
   "source": [
    "# QDA(Quadratic Discriminant Analysis)\n",
    "#### sklearn.discriminant_analysis import QuadraticDiscriminantAnalysis\n",
    " - priors_: 각클래스k의사전확률\n",
    " - means_: 각클래스k에서x의기대값벡터μk의추정치벡터\n",
    " - covariance_: 각클래스k에서x의공분산행렬Σk의추정치행렬(생성자인수store_covariance 값이True인경우에만제공)\n"
   ]
  },
  {
   "cell_type": "code",
   "execution_count": 24,
   "id": "2e5dea09",
   "metadata": {},
   "outputs": [],
   "source": [
    "# QDA 라이브러리 임포트\n",
    "from sklearn.discriminant_analysis import QuadraticDiscriminantAnalysis\n",
    "\n",
    "# 학습\n",
    "qda = QuadraticDiscriminantAnalysis(store_covariance=True).fit(train_input, train_target) \n",
    "# 공분산 저장\n",
    "\n",
    "# 예측\n",
    "y2_pred = qda.predict(test_input)"
   ]
  },
  {
   "cell_type": "code",
   "execution_count": 25,
   "id": "8e8fbf4f",
   "metadata": {},
   "outputs": [
    {
     "name": "stdout",
     "output_type": "stream",
     "text": [
      "0.9333333333333333\n",
      "[[5.8 4.  1.2]\n",
      " [5.1 2.5 3. ]\n",
      " [6.6 3.  4.4]\n",
      " [5.4 3.9 1.3]\n",
      " [7.9 3.8 6.4]]\n",
      "[0 1 1 0 2]\n",
      "\n",
      "[0 1 1 0 2]\n",
      "[[1.00000000e+000 1.47416908e-033 1.80019547e-046]\n",
      " [1.28636834e-023 9.99995490e-001 4.51028882e-006]\n",
      " [8.80326122e-080 9.99774984e-001 2.25016220e-004]\n",
      " [1.00000000e+000 5.08491425e-030 7.35720444e-040]\n",
      " [4.29933249e-215 1.45529755e-003 9.98544702e-001]]\n"
     ]
    }
   ],
   "source": [
    "# 결과 측정\n",
    "print(qda.score\n",
    "(test_input, test_target))\n",
    "print(test_input[:5])\n",
    "print(test_target[:5])\n",
    "print()\n",
    "print(qda.predict\n",
    "(test_input[:5]))\n",
    "print(qda.predict_proba\n",
    "(test_input[:5]))"
   ]
  },
  {
   "cell_type": "code",
   "execution_count": 26,
   "id": "a72f755b",
   "metadata": {},
   "outputs": [
    {
     "data": {
      "text/plain": [
       "array([[5, 0, 0],\n",
       "       [0, 6, 0],\n",
       "       [0, 1, 3]], dtype=int64)"
      ]
     },
     "execution_count": 26,
     "metadata": {},
     "output_type": "execute_result"
    }
   ],
   "source": [
    "confusion_matrix(test_target, y2_pred)"
   ]
  },
  {
   "cell_type": "code",
   "execution_count": 27,
   "id": "77c2921a",
   "metadata": {},
   "outputs": [
    {
     "data": {
      "text/plain": [
       "array([0.33333333, 0.32592593, 0.34074074])"
      ]
     },
     "execution_count": 27,
     "metadata": {},
     "output_type": "execute_result"
    }
   ],
   "source": [
    "# 사전 확률\n",
    "qda.priors_"
   ]
  },
  {
   "cell_type": "code",
   "execution_count": 28,
   "id": "6957c44d",
   "metadata": {},
   "outputs": [
    {
     "data": {
      "text/plain": [
       "array([[4.97555556, 3.39111111, 1.45333333],\n",
       "       [5.92727273, 2.74772727, 4.26590909],\n",
       "       [6.53478261, 2.94782609, 5.5326087 ]])"
      ]
     },
     "execution_count": 28,
     "metadata": {},
     "output_type": "execute_result"
    }
   ],
   "source": [
    "# 클래스별 평균\n",
    "qda.means_"
   ]
  },
  {
   "cell_type": "code",
   "execution_count": 29,
   "id": "37dbf8f4",
   "metadata": {},
   "outputs": [
    {
     "data": {
      "text/plain": [
       "[array([[0.11370707, 0.08818687, 0.02201515],\n",
       "        [0.08818687, 0.13673737, 0.01230303],\n",
       "        [0.02201515, 0.01230303, 0.02527273]]),\n",
       " array([[0.26621564, 0.07820296, 0.1746723 ],\n",
       "        [0.07820296, 0.09743658, 0.07701374],\n",
       "        [0.1746723 , 0.07701374, 0.20695032]]),\n",
       " array([[0.38898551, 0.07385507, 0.30261836],\n",
       "        [0.07385507, 0.09588406, 0.06196135],\n",
       "        [0.30261836, 0.06196135, 0.30757971]])]"
      ]
     },
     "execution_count": 29,
     "metadata": {},
     "output_type": "execute_result"
    }
   ],
   "source": [
    "# 독립변수 공분산\n",
    "qda.covariance_"
   ]
  },
  {
   "cell_type": "code",
   "execution_count": 30,
   "id": "ba07ae3f",
   "metadata": {},
   "outputs": [
    {
     "name": "stdout",
     "output_type": "stream",
     "text": [
      "              precision    recall  f1-score   support\n",
      "\n",
      "           0       1.00      1.00      1.00         5\n",
      "           1       0.86      1.00      0.92         6\n",
      "           2       1.00      0.75      0.86         4\n",
      "\n",
      "    accuracy                           0.93        15\n",
      "   macro avg       0.95      0.92      0.93        15\n",
      "weighted avg       0.94      0.93      0.93        15\n",
      "\n"
     ]
    }
   ],
   "source": [
    "print(classification_report(test_target, y2_pred))"
   ]
  },
  {
   "cell_type": "code",
   "execution_count": 32,
   "id": "d0c3885c",
   "metadata": {},
   "outputs": [
    {
     "data": {
      "image/png": "[encoded data removed]",
      "text/plain": [
       "<Figure size 432x288 with 1 Axes>"
      ]
     },
     "metadata": {},
     "output_type": "display_data"
    }
   ],
   "source": [
    "# 각 클래스에 대한 ROC \n",
    "from sklearn.preprocessing import label_binarize\n",
    "y2_vec = label_binarize(train_target, classes = [0, 1, 2])\n",
    "\n",
    "from sklearn.metrics import roc_curve\n",
    "\n",
    "for i in range(3):\n",
    "    lda = LinearDiscriminantAnalysis().fit(train_input, y2_vec[:, i])\n",
    "    fpr, tpr, thr = roc_curve(y2_vec[:, i], lda.predict_proba(train_input)[:, 1])\n",
    "    plt.plot(fpr, tpr)\n",
    "\n",
    "plt.show()"
   ]
  },
  {
   "cell_type": "code",
   "execution_count": null,
   "id": "6ca135e5",
   "metadata": {},
   "outputs": [],
   "source": []
  }
 ],
 "metadata": {
  "kernelspec": {
   "display_name": "Python 3 (ipykernel)",
   "language": "python",
   "name": "python3"
  },
  "language_info": {
   "codemirror_mode": {
    "name": "ipython",
    "version": 3
   },
   "file_extension": ".py",
   "mimetype": "text/x-python",
   "name": "python",
   "nbconvert_exporter": "python",
   "pygments_lexer": "ipython3",
   "version": "3.9.12"
  }
 },
 "nbformat": 4,
 "nbformat_minor": 5
}
