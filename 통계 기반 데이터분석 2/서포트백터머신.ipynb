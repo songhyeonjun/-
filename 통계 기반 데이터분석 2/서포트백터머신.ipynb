{
 "cells": [
  {
   "cell_type": "markdown",
   "id": "98a7870d",
   "metadata": {},
   "source": [
    "# 서포트벡터머신(Support Vector Machine, SVM)\n",
    "## 분류(Classification) - 판별 함수\n",
    "### 서포트백터머신(Support Vector Machine, SVM)"
   ]
  },
  {
   "cell_type": "code",
   "execution_count": 1,
   "id": "81cc4d91",
   "metadata": {},
   "outputs": [],
   "source": [
    "# 패키지 임포트\n",
    "import os\n",
    "import warnings\n",
    "\n",
    "# FutureWarning 제거\n",
    "warnings.simplefilter(action='ignore', category=FutureWarning) \n",
    "import pandas as pd # pandas package\n",
    "import numpy as np # numpy package \n",
    "import scipy as sp # Scipy Package \n",
    "from scipy import stats # Scipy Package \n",
    "from sklearn import datasets # sklearn dataset \n",
    "from sklearn.model_selection import train_test_split # 데이터셋 분리\n",
    "\n",
    "# 시각화 패키지\n",
    "import matplotlib.pyplot as plt # matplotlib 시각화 패키지\n",
    "import seaborn as sns\n",
    "%matplotlib inline\n",
    "\n",
    "# os에 따른 Font 깨짐 제거를 위해 Font 지정\n",
    "import os\n",
    "if os.name == 'nt' : # Windows OS \n",
    "    font_family = \"Malgun Gothic\"\n",
    "else: # MAC OS \n",
    "    font_family = \"AppleGothic\"\n",
    "\n",
    "# - 값이 깨지는 문제 해결을 위해 파라미터값 설정\n",
    "sns.set(font=font_family, rc ={\"axes.unicode_minus\" : False}) \n"
   ]
  },
  {
   "cell_type": "code",
   "execution_count": 4,
   "id": "ae25f451",
   "metadata": {},
   "outputs": [
    {
     "name": "stdout",
     "output_type": "stream",
     "text": [
      "꽃을 결정짓는 특징 : ['sepal length (cm)', 'sepal width (cm)', 'petal length (cm)', 'petal width (cm)']\n",
      "꽃 종류 : ['setosa' 'versicolor' 'virginica']\n"
     ]
    },
    {
     "data": {
      "text/html": [
       "<div>\n",
       "<style scoped>\n",
       "    .dataframe tbody tr th:only-of-type {\n",
       "        vertical-align: middle;\n",
       "    }\n",
       "\n",
       "    .dataframe tbody tr th {\n",
       "        vertical-align: top;\n",
       "    }\n",
       "\n",
       "    .dataframe thead th {\n",
       "        text-align: right;\n",
       "    }\n",
       "</style>\n",
       "<table border=\"1\" class=\"dataframe\">\n",
       "  <thead>\n",
       "    <tr style=\"text-align: right;\">\n",
       "      <th></th>\n",
       "      <th>sepal length (cm)</th>\n",
       "      <th>sepal width (cm)</th>\n",
       "      <th>petal length (cm)</th>\n",
       "      <th>petal width (cm)</th>\n",
       "      <th>species</th>\n",
       "    </tr>\n",
       "  </thead>\n",
       "  <tbody>\n",
       "    <tr>\n",
       "      <th>0</th>\n",
       "      <td>5.1</td>\n",
       "      <td>3.5</td>\n",
       "      <td>1.4</td>\n",
       "      <td>0.2</td>\n",
       "      <td>0</td>\n",
       "    </tr>\n",
       "    <tr>\n",
       "      <th>1</th>\n",
       "      <td>4.9</td>\n",
       "      <td>3.0</td>\n",
       "      <td>1.4</td>\n",
       "      <td>0.2</td>\n",
       "      <td>0</td>\n",
       "    </tr>\n",
       "    <tr>\n",
       "      <th>2</th>\n",
       "      <td>4.7</td>\n",
       "      <td>3.2</td>\n",
       "      <td>1.3</td>\n",
       "      <td>0.2</td>\n",
       "      <td>0</td>\n",
       "    </tr>\n",
       "    <tr>\n",
       "      <th>3</th>\n",
       "      <td>4.6</td>\n",
       "      <td>3.1</td>\n",
       "      <td>1.5</td>\n",
       "      <td>0.2</td>\n",
       "      <td>0</td>\n",
       "    </tr>\n",
       "    <tr>\n",
       "      <th>4</th>\n",
       "      <td>5.0</td>\n",
       "      <td>3.6</td>\n",
       "      <td>1.4</td>\n",
       "      <td>0.2</td>\n",
       "      <td>0</td>\n",
       "    </tr>\n",
       "  </tbody>\n",
       "</table>\n",
       "</div>"
      ],
      "text/plain": [
       "   sepal length (cm)  sepal width (cm)  petal length (cm)  petal width (cm)  \\\n",
       "0                5.1               3.5                1.4               0.2   \n",
       "1                4.9               3.0                1.4               0.2   \n",
       "2                4.7               3.2                1.3               0.2   \n",
       "3                4.6               3.1                1.5               0.2   \n",
       "4                5.0               3.6                1.4               0.2   \n",
       "\n",
       "   species  \n",
       "0        0  \n",
       "1        0  \n",
       "2        0  \n",
       "3        0  \n",
       "4        0  "
      ]
     },
     "execution_count": 4,
     "metadata": {},
     "output_type": "execute_result"
    }
   ],
   "source": [
    "## 데이터셋 로드\n",
    "from sklearn import datasets # sklearn dataset \n",
    "data = datasets.load_iris()\n",
    "\n",
    "# 꽃의 특징 (input data)\n",
    "t_input_data = data['data'] \n",
    "\n",
    "# 꽃 종류를 수치로 나탄내 것 (0 ~ 2) (target data)\n",
    "target_data = data['target'] \n",
    "\n",
    "# 꽃 종류를 이름으로 나타낸 것\n",
    "flowers = data['target_names'] \n",
    "\n",
    "# 꽃 특징들의 명칭\n",
    "feature_names = data['feature_names'] \n",
    "\n",
    "iris_df = pd.DataFrame(t_input_data, columns=feature_names)\n",
    "iris_df['species'] = target_data\n",
    "\n",
    "# #sepal : 꽃받침, # petal : 꽃잎\n",
    "print('꽃을 결정짓는 특징 : {}'.format(feature_names))\n",
    "print('꽃 종류 : {}'.format(flowers))\n",
    "\n",
    "## 맨 위에 있는 데이터 5개 출력\n",
    "iris_df.head(5)"
   ]
  },
  {
   "cell_type": "code",
   "execution_count": 5,
   "id": "6d8e8041",
   "metadata": {},
   "outputs": [
    {
     "name": "stdout",
     "output_type": "stream",
     "text": [
      "(127, 2) (127,) (23, 2) (23,)\n"
     ]
    }
   ],
   "source": [
    "# 훈련 데이터와 테스트 데이터 분리\n",
    "# 입력은 'sepal width (cm), petal length (cm) 2개 변수만 사용\n",
    "input_data = t_input_data[:,[1,2]] \n",
    "\n",
    "train_input, test_input, train_target, test_target = train_test_split(\n",
    "input_data, target_data, test_size=0.15, random_state=20)\n",
    "\n",
    "## 스케일링 & 표준화 : 거리기반 알고리즘은 기본으로 표준화 수행\n",
    "from sklearn.preprocessing import StandardScaler\n",
    "\n",
    "scaler = StandardScaler()\n",
    "\n",
    "X_train_std = scaler.fit_transform(train_input)\n",
    "X_test_std = scaler.fit_transform(test_input)\n",
    "\n",
    "print(X_train_std.shape, train_target.shape, X_test_std.shape, test_target.shape)"
   ]
  },
  {
   "cell_type": "markdown",
   "id": "a36782c7",
   "metadata": {},
   "source": [
    "## sklearn SVM\n",
    "### from sklearn.svm import SVC\n",
    "#### 커널 선택\n",
    " - 1) kernel = \"linear\": 선형 SVM. C = 에러 허용 정도\n",
    " C값을 줄이면 ( 소프트마진 ) 마진은 커지고 Error도 커진다.\n",
    " C값을 늘리면 ( 하드마진 ) 마진은 작아지고 Error도 작아진다\n",
    " - 2) kernel = \"poly\": 다항 커널(gamma, coef0, degree)\n",
    " - 3) kernel = \"rbf\" 또는 kernel = None: RBF 커널(gamma: 작을수록 오버피팅) <= default\n",
    " gamma : 값을 높이면 학습 데이터에 많이 의존해서 결정 경계를 비선형을 이름\n",
    " - 4) kernel = \"sigmoid\": 시그모이드 커널(gamma - coef0)\n",
    "\n",
    "#### 속성\n",
    " - n_support_: 각 클래스의 서포트의 개수\n",
    " - support_: 각 클래스의 서포트의 인덱스\n",
    " - support_vectors_: 각 클래스의 서포트의 x 값. 𝑥+와 𝑥−\n",
    " - coef_: 𝑤 벡터\n",
    " - intercept_: −𝑤0\n",
    " - dual_coef_: 각 원소가 𝑎𝑖⋅𝑦𝑖로 이루어진 벡터\n"
   ]
  },
  {
   "cell_type": "markdown",
   "id": "48c53188",
   "metadata": {},
   "source": [
    "## 선형 SVM"
   ]
  },
  {
   "cell_type": "code",
   "execution_count": 6,
   "id": "7578fa6d",
   "metadata": {},
   "outputs": [],
   "source": [
    "## SVM 패키지 임포트\n",
    "from sklearn.svm import SVC # 범주형 변수\n",
    "# from sklearn.svm import SVR # 연속형 변수"
   ]
  },
  {
   "cell_type": "code",
   "execution_count": 10,
   "id": "6e9bf9cc",
   "metadata": {},
   "outputs": [],
   "source": [
    "## 시각화 함수 정의\n",
    "def plot_iris(X, Y, model,title,xmin=-2.5,xmax=2.5, ymin=-2.5,ymax=2.5):\n",
    "    XX,YY=np.meshgrid(\n",
    "        np.arange(xmin,xmax,(xmax-xmin)/1000),\n",
    "        np.arange(ymin,ymax,(ymax-ymin)/1000))\n",
    "\n",
    "    ZZ = np.reshape(model.predict(np.array([XX.ravel(),YY.ravel()]).T),XX.shape)\n",
    "\n",
    "    plt.contourf(XX,YY,ZZ,cmap=plt.cm.Paired_r,alpha=0.5)\n",
    "\n",
    "    plt.scatter(X[Y == 0, 0], X[Y == 0, 1], c='r', marker='^', label='0', s=50)\n",
    "    plt.scatter(X[Y == 1, 0], X[Y == 1, 1], c='g', marker='o', label='1', s=50)\n",
    "    plt.scatter(X[Y == 2, 0], X[Y == 2, 1], c='b', marker='s', label='2', s=50)\n",
    "\n",
    "    plt.xlim(xmin, xmax)\n",
    "    plt.ylim(ymin, ymax)\n",
    "    plt.xlabel(\"sepal length\")\n",
    "    plt.ylabel(\"sepal width\")\n",
    "    plt.title(title)"
   ]
  },
  {
   "cell_type": "code",
   "execution_count": 12,
   "id": "ddad5981",
   "metadata": {},
   "outputs": [
    {
     "name": "stdout",
     "output_type": "stream",
     "text": [
      "0.937007874015748\n",
      "0.8260869565217391\n",
      "(array([10, 12, 18, 21], dtype=int64),)\n"
     ]
    }
   ],
   "source": [
    "## 모델링\n",
    "# 선형 SVM, C = 1\n",
    "model1_c1 = SVC(kernel='linear', C = 1).fit(X_train_std,train_target) \n",
    "\n",
    "# 모델 성능 확인\n",
    "print(model1_c1.score(X_train_std,train_target))\n",
    "print(model1_c1.score(X_test_std,test_target))\n",
    "\n",
    "# 오류 데이터 확인\n",
    "m1_pred_y = model1_c1.predict(X_test_std)\n",
    "print(np.where(test_target!=m1_pred_y))"
   ]
  },
  {
   "cell_type": "code",
   "execution_count": 13,
   "id": "ffac410e",
   "metadata": {},
   "outputs": [
    {
     "data": {
      "image/png": "[encoded data removed]",
      "text/plain": [
       "<Figure size 504x432 with 1 Axes>"
      ]
     },
     "metadata": {},
     "output_type": "display_data"
    }
   ],
   "source": [
    "## 학습 데이터 시각화, Linear SVC, C=1\n",
    "plt.figure(figsize=(7,6))\n",
    "plot_iris(X_train_std, train_target, model1_c1, \"Linear SVC, C=1\")"
   ]
  },
  {
   "cell_type": "code",
   "execution_count": 16,
   "id": "047b2a18",
   "metadata": {},
   "outputs": [
    {
     "name": "stdout",
     "output_type": "stream",
     "text": [
      "0.9448818897637795\n",
      "0.8695652173913043\n",
      "(array([12, 18, 21], dtype=int64),)\n"
     ]
    },
    {
     "data": {
      "image/png": "[encoded data removed]",
      "text/plain": [
       "<Figure size 504x432 with 1 Axes>"
      ]
     },
     "metadata": {},
     "output_type": "display_data"
    }
   ],
   "source": [
    "# 모델링, Linear SVC, C = 0.3\n",
    "model1_c03 = SVC(kernel='linear', C = 0.3).fit(X_train_std,train_target) \n",
    "\n",
    "# 모델 성능 확인\n",
    "print(model1_c03.score(X_train_std,train_target))\n",
    "print(model1_c03.score(X_test_std,test_target))\n",
    "\n",
    "# 오류 데이터 확인\n",
    "m1_pred_y_c03 = model1_c03.predict(X_test_std)\n",
    "print(np.where(test_target!=m1_pred_y_c03))\n",
    "\n",
    "# 학습 데이터 시각화\n",
    "plt.figure(figsize=(7, 6))\n",
    "plot_iris(X_train_std, train_target, model1_c03, \"Linear SVC, C=0.3\")"
   ]
  },
  {
   "cell_type": "code",
   "execution_count": 17,
   "id": "84fd1eeb",
   "metadata": {},
   "outputs": [
    {
     "name": "stdout",
     "output_type": "stream",
     "text": [
      "[[6 0 0]\n",
      " [0 8 0]\n",
      " [0 3 6]]\n",
      "              precision    recall  f1-score   support\n",
      "\n",
      "           0       1.00      1.00      1.00         6\n",
      "           1       0.73      1.00      0.84         8\n",
      "           2       1.00      0.67      0.80         9\n",
      "\n",
      "    accuracy                           0.87        23\n",
      "   macro avg       0.91      0.89      0.88        23\n",
      "weighted avg       0.91      0.87      0.87        23\n",
      "\n"
     ]
    }
   ],
   "source": [
    "## 혼동행렬\n",
    "## 성능 평가\n",
    "from sklearn.metrics import classification_report, confusion_matrix\n",
    "print(confusion_matrix(test_target, m1_pred_y_c03))\n",
    "print(classification_report(test_target, m1_pred_y_c03))"
   ]
  },
  {
   "cell_type": "code",
   "execution_count": 18,
   "id": "ccc3185e",
   "metadata": {},
   "outputs": [],
   "source": [
    "## 모델링\n",
    "# 선형 SVM\n",
    "model1=SVC(kernel='linear').fit(X_train_std,train_target) \n",
    "# 다항 커널 SVM\n",
    "model2=SVC(kernel='poly', random_state=0,gamma=10,C=1).fit(X_train_std,train_target)\n",
    "# 가우시안 커널 SVM\n",
    "model3=SVC(kernel='rbf',random_state=0,gamma=1,C=1).fit(X_train_std,train_target)"
   ]
  },
  {
   "cell_type": "code",
   "execution_count": 20,
   "id": "ff9c370d",
   "metadata": {},
   "outputs": [
    {
     "name": "stdout",
     "output_type": "stream",
     "text": [
      "0.937007874015748\n",
      "0.952755905511811\n",
      "0.952755905511811\n",
      "0.8260869565217391\n",
      "0.8260869565217391\n",
      "0.8260869565217391\n"
     ]
    }
   ],
   "source": [
    "## train data score \n",
    "print(model1.score(X_train_std,train_target))\n",
    "print(model2.score(X_train_std,train_target))\n",
    "print(model3.score(X_train_std,train_target))\n",
    "\n",
    "## test data score \n",
    "print(model1.score(X_test_std,test_target))\n",
    "print(model2.score(X_test_std,test_target))\n",
    "print(model3.score(X_test_std,test_target))"
   ]
  },
  {
   "cell_type": "code",
   "execution_count": 21,
   "id": "4adab69f",
   "metadata": {},
   "outputs": [
    {
     "data": {
      "text/plain": [
       "<function matplotlib.pyplot.show(close=None, block=None)>"
      ]
     },
     "execution_count": 21,
     "metadata": {},
     "output_type": "execute_result"
    },
    {
     "data": {
      "image/png": "[encoded data removed]",
      "text/plain": [
       "<Figure size 576x864 with 3 Axes>"
      ]
     },
     "metadata": {},
     "output_type": "display_data"
    }
   ],
   "source": [
    "## 시각화\n",
    "plt.figure(figsize=(8, 12))\n",
    "plt.subplot(311)\n",
    "plot_iris(X_train_std, train_target, model1, \"Linear SVC\")\n",
    "plt.subplot(312)\n",
    "plot_iris(X_train_std, train_target, model2, \"Poly kernel SVC\")\n",
    "plt.subplot(313)\n",
    "plot_iris(X_train_std, train_target, model3, \"RBF kernel SVM\")\n",
    "plt.tight_layout()\n",
    "plt.show"
   ]
  },
  {
   "cell_type": "code",
   "execution_count": null,
   "id": "2633952e",
   "metadata": {},
   "outputs": [],
   "source": []
  }
 ],
 "metadata": {
  "kernelspec": {
   "display_name": "Python 3 (ipykernel)",
   "language": "python",
   "name": "python3"
  },
  "language_info": {
   "codemirror_mode": {
    "name": "ipython",
    "version": 3
   },
   "file_extension": ".py",
   "mimetype": "text/x-python",
   "name": "python",
   "nbconvert_exporter": "python",
   "pygments_lexer": "ipython3",
   "version": "3.9.12"
  }
 },
 "nbformat": 4,
 "nbformat_minor": 5
}
