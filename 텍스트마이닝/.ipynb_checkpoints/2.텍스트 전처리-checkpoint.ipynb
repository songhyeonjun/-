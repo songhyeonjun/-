{
 "cells": [
  {
   "cell_type": "markdown",
   "id": "a4c8db66",
   "metadata": {},
   "source": [
    "# 텍스트 전처리를 위한 NLTK 설치"
   ]
  },
  {
   "cell_type": "code",
   "execution_count": 1,
   "id": "4e48537c",
   "metadata": {},
   "outputs": [
    {
     "name": "stderr",
     "output_type": "stream",
     "text": [
      "[nltk_data] Downloading package punkt to\n",
      "[nltk_data]     C:\\Users\\user\\AppData\\Roaming\\nltk_data...\n",
      "[nltk_data]   Package punkt is already up-to-date!\n",
      "[nltk_data] Downloading package webtext to\n",
      "[nltk_data]     C:\\Users\\user\\AppData\\Roaming\\nltk_data...\n",
      "[nltk_data]   Package webtext is already up-to-date!\n",
      "[nltk_data] Downloading package wordnet to\n",
      "[nltk_data]     C:\\Users\\user\\AppData\\Roaming\\nltk_data...\n",
      "[nltk_data]   Package wordnet is already up-to-date!\n",
      "[nltk_data] Downloading package stopwords to\n",
      "[nltk_data]     C:\\Users\\user\\AppData\\Roaming\\nltk_data...\n",
      "[nltk_data]   Package stopwords is already up-to-date!\n",
      "[nltk_data] Downloading package averaged_perceptron_tagger to\n",
      "[nltk_data]     C:\\Users\\user\\AppData\\Roaming\\nltk_data...\n",
      "[nltk_data]   Package averaged_perceptron_tagger is already up-to-\n",
      "[nltk_data]       date!\n",
      "[nltk_data] Downloading package omw-1.4 to\n",
      "[nltk_data]     C:\\Users\\user\\AppData\\Roaming\\nltk_data...\n",
      "[nltk_data]   Package omw-1.4 is already up-to-date!\n"
     ]
    },
    {
     "data": {
      "text/plain": [
       "True"
      ]
     },
     "execution_count": 1,
     "metadata": {},
     "output_type": "execute_result"
    }
   ],
   "source": [
    "import nltk\n",
    "nltk.download('punkt')\n",
    "nltk.download('webtext')\n",
    "nltk.download('wordnet')\n",
    "nltk.download('stopwords')\n",
    "nltk.download('averaged_perceptron_tagger')\n",
    "nltk.download('omw-1.4')"
   ]
  },
  {
   "cell_type": "markdown",
   "id": "8ff0c1da",
   "metadata": {},
   "source": [
    "# 문장 토큰화\n",
    " - 주어진 텍스트를 문장으로 나누고 싶을 때 사용. 실제 사용 빈도는 낮은 편\n",
    " - 분석 단위를 문장으로 해야 할 필요가 있을 때 먼저 문장으로 나누고, 각 문장에 대해 이후 분석을 수행\n",
    " - NLTK의 sent_tokenize() 사용"
   ]
  },
  {
   "cell_type": "code",
   "execution_count": 2,
   "id": "2037eeeb",
   "metadata": {},
   "outputs": [
    {
     "name": "stdout",
     "output_type": "stream",
     "text": [
      "['Hello everyone.', \"It's good to see you.\", \"Let's start our text mining class!\"]\n"
     ]
    }
   ],
   "source": [
    "from nltk.tokenize import sent_tokenize \n",
    "\n",
    "para = \"Hello everyone. It's good to see you. Let's start our text mining class!\" \n",
    "print(sent_tokenize(para)) "
   ]
  },
  {
   "cell_type": "markdown",
   "id": "9e46a3cc",
   "metadata": {},
   "source": [
    "# 단어 토큰화\n",
    " - 일반적으로 토큰화는 단어 토큰화를 의미하며, 텍스트를 단어 단위로 분리하는 작업\n",
    " - 문장 토큰화 없이 문서 전체에 바로 단어 토큰화 사용이 가능\n",
    " - NLTK의 word_tokenize() 사용"
   ]
  },
  {
   "cell_type": "code",
   "execution_count": 3,
   "id": "4cfcd2ff",
   "metadata": {},
   "outputs": [
    {
     "name": "stdout",
     "output_type": "stream",
     "text": [
      "['Hello', 'everyone', '.', 'It', \"'s\", 'good', 'to', 'see', 'you', '.', 'Let', \"'s\", 'start', 'our', 'text', 'mining', 'class', '!']\n"
     ]
    }
   ],
   "source": [
    "from nltk.tokenize import word_tokenize\n",
    "\n",
    "para = \"Hello everyone. It's good to see you. Let's start our text mining class!\" \n",
    "print(word_tokenize(para)) "
   ]
  },
  {
   "cell_type": "markdown",
   "id": "26b6e18e",
   "metadata": {},
   "source": [
    "# 정규표현식\n",
    " - regex 혹은 regexp라고 줄여서 표현되며, 문자열에 대해 원하는 검색 패턴을 지정하는 방법\n",
    "    "
   ]
  },
  {
   "cell_type": "code",
   "execution_count": 4,
   "id": "6802a0af",
   "metadata": {},
   "outputs": [
    {
     "name": "stdout",
     "output_type": "stream",
     "text": [
      "['a', 'b']\n",
      "['3', '7', '5', '9']\n"
     ]
    }
   ],
   "source": [
    "import re\n",
    "# 둘째 인수인 문자열에서 a, b, c 중 하나라도 일치하는 문자를 가져옴\n",
    "print(re.findall(\"[abc]\", \"How are you, boy?\"))\n",
    "# 숫자를 검색\n",
    "print(re.findall(\"[0123456789]\", \"3a7b5c9d\"))"
   ]
  },
  {
   "cell_type": "markdown",
   "id": "39931b9f",
   "metadata": {},
   "source": [
    "# 정규표현식을 이용한 간편한 토큰화\n",
    " - 문자, 숫자, 언더바(_), 아포스트로피(＇)로 이루어지고 공백이 포함되지 않으며 3자 이상인\n",
    "단어로 텍스트를 토큰화 → 일반적으로 사용되는 규칙\n",
    " - 이 외에 본인에게 필요한 조건을 추가할 수 있음"
   ]
  },
  {
   "cell_type": "code",
   "execution_count": 5,
   "id": "a7887650",
   "metadata": {},
   "outputs": [
    {
     "name": "stdout",
     "output_type": "stream",
     "text": [
      "['sorry', \"can't\", 'there']\n"
     ]
    }
   ],
   "source": [
    "from nltk.tokenize import RegexpTokenizer \n",
    "\n",
    "text1 = \"Sorry, I can't go there.\" \n",
    "# 문자, 숫자, 언더바(_), 아포스트로피(＇)로 이루어진 3자 이상의 단어로 토크나이즈\n",
    "tokenizer = RegexpTokenizer(\"[\\w']{3,}\") \n",
    "print(tokenizer.tokenize(text1.lower())) # 소문자로 바꾸고 정규식 적용"
   ]
  },
  {
   "cell_type": "markdown",
   "id": "82a324f9",
   "metadata": {},
   "source": [
    "# 노이즈 제거\n",
    " - 정규표현식을 통해 특수문자와 같은 대부분의 불필요한 문자들은 제거됨\n",
    " - 그 외 별도로 원하는 패턴의 노이즈도 제거 가능\n",
    "\n",
    "# 불용어 제거\n",
    " - 노이즈는 아니지만 분석에 필요 없는 단어들을 불용어라 함\n",
    "\n",
    "# NLTK의 불용어 사전\n",
    " - 기본적인 불용어 제거 가능\n",
    "\n",
    "# 자신만의 불용어 사전 정의 후 제거\n",
    " - 자신만의 사전을 만들고 해당 단어를 제거 가능\n"
   ]
  },
  {
   "cell_type": "code",
   "execution_count": 6,
   "id": "9d176f97",
   "metadata": {},
   "outputs": [
    {
     "name": "stdout",
     "output_type": "stream",
     "text": [
      "['sorry', ',', 'could', \"n't\", 'go', 'movie', 'yesterday', '.']\n",
      "['sorry', ',', 'go', 'movie', 'yesterday', '.']\n"
     ]
    }
   ],
   "source": [
    "from nltk.corpus import stopwords # 일반적으로 분석대상이 아닌 단어들 \n",
    "english_stops = set(stopwords.words('english')) # 반복이 되지 않도록 set으로 변환\n",
    "text1 = \"Sorry, I couldn't go to movie yesterday.\"\n",
    "tokens = word_tokenize(text1.lower())\n",
    "# stopwords를 제외한 단어들만으로 list를 생성\n",
    "tokens = [word for word in tokens if word not in english_stops]\n",
    "print(tokens)\n",
    "# 자신만의 불용어 사전 생성\n",
    "my_stops = ['could', 'n\\'t']\n",
    "tokens = [word for word in tokens if word not in my_stops]\n",
    "print(tokens)"
   ]
  },
  {
   "cell_type": "markdown",
   "id": "b94359e3",
   "metadata": {},
   "source": [
    "# 동일한 의미의 단어가 다른 형태를 갖는 것을 보완\n",
    " - 다른 형태의 단어들을 통일시켜 표준단어로 변환\n",
    "\n",
    "# 어간 추출 (Stemming)\n",
    " - 어형이 변형된 단어로부터 접사 등을 제거하고 그 단어의 어간을 분리해 내는 작업\n",
    "\n",
    "# 관련 개념의 이해\n",
    " - 어형변화: 어떤 단어가 동일한 어간을 가지고 동일한 품사를 유지하면서, \n",
    "그 어미를 여러 가지로 변화시켜 그에 따라 문법적 기능도 변화하는 현상\n",
    " - 어간: 어형변화에서 변화하지 않는 부분\n",
    " - 어미: 어형변화에서 바뀌는 부분\n",
    " - 예) [간다, 갔다]의 어간: 가, [작다, 작고, 작으니]의 어간: 작\n"
   ]
  },
  {
   "cell_type": "markdown",
   "id": "8487c61f",
   "metadata": {},
   "source": [
    "# 포터 스테머\n",
    " - 마틴 포터가 작성한 스테밍 알고리즘으로 영어 분야에서 사실상의 표준임\n",
    " - 어간 추출은 사전을 사용하지 않고 규칙에 따라 어간을 추출함\n",
    " - 추출한 어간은 사전에 없는 단어가 될 수 있으나, 컴퓨터 입장에서는 중요하지 않음"
   ]
  },
  {
   "cell_type": "code",
   "execution_count": 7,
   "id": "8640d24b",
   "metadata": {},
   "outputs": [
    {
     "name": "stdout",
     "output_type": "stream",
     "text": [
      "cook cookeri cookbook\n"
     ]
    }
   ],
   "source": [
    "from nltk.stem import PorterStemmer \n",
    "\n",
    "stemmer = PorterStemmer() \n",
    "print(stemmer.stem('cooking'), stemmer.stem('cookery'),stemmer.stem('cookbooks')) "
   ]
  },
  {
   "cell_type": "markdown",
   "id": "d9b00b11",
   "metadata": {},
   "source": [
    "# 원문\n",
    " - \"This was not the map we found in Billy Bones's chest, but an accurate copy, \n",
    "complete in all things“\n",
    "\n",
    "# 토큰화 결과\n",
    " - '<span style=\"color: red\">This</span>', '<span style=\"color: red\">was</span>', 'not', 'the', 'map', 'we', 'found', 'in', '<span style=\"color: red\">Billy</span>', 'Bones', \"'s\", 'chest', ',', 'but', \n",
    "'an', '<span style=\"color: red\">accurate</span>', '<span style=\"color: red\">copy</span>', ',', '<span style=\"color: red\">complete</span>', 'in', 'all', 'things’\n",
    "\n",
    "# Porter stemmer 결과\n",
    " - '<span style=\"color: red\">thi</span>', '<span style=\"color: red\">wa</span>', 'not', 'the', 'map', 'we', 'found', 'in', '<span style=\"color: red\">billi</span>', 'bone', \"'s\", 'chest', ',', 'but', 'an', \n",
    "'<span style=\"color: red\">accur</span>', '<span style=\"color: red\">copi</span>', ',', '<span style=\"color: red\">complet</span>', 'in', 'all', 'thing’\n",
    "\n",
    "# 문제점\n",
    " - this → thi, was → wa, accurate → accur 등 이상한 단어로 변환\n",
    " - 이는 사전이 아닌 알고리즘(규칙)에 의해 변환하기 때문\n"
   ]
  },
  {
   "cell_type": "markdown",
   "id": "07d2afee",
   "metadata": {},
   "source": [
    "# 표제어 추출\n",
    " - 주어진 단어를 사전에 정의된 기본형으로 변환\n",
    " - 어간 추출과 달리 사전이 필요하며, 의미적 관점의 기본형을 찾는 작업\n",
    " - WordNetLemmatizer가 잘 알려져 있음"
   ]
  },
  {
   "cell_type": "code",
   "execution_count": 8,
   "id": "de9905a8",
   "metadata": {},
   "outputs": [
    {
     "name": "stdout",
     "output_type": "stream",
     "text": [
      "cooking\n",
      "cook\n",
      "cookery cookbook\n"
     ]
    }
   ],
   "source": [
    "from nltk.stem import WordNetLemmatizer\n",
    "lemmatizer = WordNetLemmatizer() \n",
    "print(lemmatizer.lemmatize('cooking'))\n",
    "print(lemmatizer.lemmatize('cooking', pos='v')) # 품사를 지정 \n",
    "print(lemmatizer.lemmatize('cookery'),lemmatizer.lemmatize('cookbooks')) "
   ]
  },
  {
   "cell_type": "markdown",
   "id": "208e76f8",
   "metadata": {},
   "source": [
    "# 원문\n",
    " - \"This was not the map we found in Billy Bones's chest, but an accurate copy, \n",
    "complete in all things“\n",
    "# tokenize 결과\n",
    " - 'This', '<span style=\"color: red\">was</span>', 'not', 'the', 'map', 'we', 'found', 'in', 'Billy', '<span style=\"color: red\">Bones</span>', \"'s\", 'chest', ',', 'but', \n",
    "'an', 'accurate', 'copy', ',', 'complete', 'in', 'all', '<span style=\"color: red\">things</span>'\n",
    "# 결과\n",
    " - 'This', '<span style=\"color: red\">wa</span>', 'not', 'the', 'map', 'we', 'found', 'in', 'Billy', '<span style=\"color: red\">Bones</span>', \"'s\", 'chest', ',', 'but', \n",
    "'an', 'accurate', 'copy', ',', 'complete', 'in', 'all', '<span style=\"color: red\">thing</span>'\n",
    " - was는 품사를 모르기 때문에 형태적으로 접근, pos=’v’를 지정하면 be를 반환\n",
    " - things는 사전에 근거하여 thing으로 변환\n",
    " - 나머지 단어는 사전의 원형을 유지\n"
   ]
  },
  {
   "cell_type": "code",
   "execution_count": 9,
   "id": "5d1ef64b",
   "metadata": {},
   "outputs": [
    {
     "name": "stdout",
     "output_type": "stream",
     "text": [
      "wa\n",
      "be\n"
     ]
    }
   ],
   "source": [
    "print(lemmatizer.lemmatize('was'))\n",
    "print(lemmatizer.lemmatize('was', pos='v')) "
   ]
  },
  {
   "cell_type": "markdown",
   "id": "0970984c",
   "metadata": {},
   "source": [
    "# 품사 태깅 (POS-TAGGING)\n",
    "\n",
    "## 품사의 이해\n",
    " - 품사는 “명사, 대명사, 수사, 조사, 동사, 형용사, 관형사, 부사, 감탄사와 같이 공통된\n",
    "성질을 지닌 낱말끼리 모아 놓은 낱말의 갈래”를 말한다. \n",
    "      - 네이버 지식백과 초등국어 개념 사전\n",
    "\n",
    "## 형태소\n",
    " - ‘의미를 가진 가장 작은 말의 단위’를 의미하며 더 나누게 되면 본래의 뜻을 잃어버림\n",
    " - 예) 가방은 형태소이나, ‘가’와 ‘방’으로 나누면 더이상 형태소가 아님\n",
    " - 한글은 형태소를 분리하는 작업이 쉽지 않음\n",
    "\n",
    "## 품사 태깅\n",
    " - 형태소에 대해 품사를 파악해 부착(Tagging)하는 작업\n",
    "\n"
   ]
  },
  {
   "cell_type": "markdown",
   "id": "4dc0989a",
   "metadata": {},
   "source": [
    "## nltk.pos_tag() \n",
    " - 토큰화된 결과에 대해 품사를 태깅해 (단어, 품사)로 구성된 튜플의 리스트로\n",
    "품사 태깅 결과를 반환\n"
   ]
  },
  {
   "cell_type": "code",
   "execution_count": 10,
   "id": "29837775",
   "metadata": {},
   "outputs": [
    {
     "name": "stdout",
     "output_type": "stream",
     "text": [
      "[('Hello', 'NNP'), ('everyone', 'NN'), ('.', '.'), ('It', 'PRP'), (\"'s\", 'VBZ'), ('good', 'JJ'), ('to', 'TO'), ('see', 'VB'), ('you', 'PRP'), ('.', '.'), ('Let', 'VB'), (\"'s\", 'POS'), ('start', 'VB'), ('our', 'PRP$'), ('text', 'NN'), ('mining', 'NN'), ('class', 'NN'), ('!', '.')]\n"
     ]
    }
   ],
   "source": [
    "import nltk \n",
    "from nltk.tokenize import word_tokenize\n",
    "tokens = word_tokenize(\"Hello everyone. It's good to see you. Let's start our text mining class!\") \n",
    "print(nltk.pos_tag(tokens)) # 토큰 리스트를 입력으로 받을 수 있음"
   ]
  },
  {
   "cell_type": "markdown",
   "id": "409f40db",
   "metadata": {},
   "source": [
    "## 원하는 품사의 단어들만 추출\n",
    " - 아래와 같이 특정 품사에 해당하는 단어만 추출해서 사용이 가능\n"
   ]
  },
  {
   "cell_type": "code",
   "execution_count": 11,
   "id": "ec19b531",
   "metadata": {},
   "outputs": [
    {
     "name": "stdout",
     "output_type": "stream",
     "text": [
      "['everyone', 'good', 'see', 'Let', 'start', 'text', 'mining', 'class']\n"
     ]
    }
   ],
   "source": [
    "my_tag_set = ['NN', 'VB', 'JJ']\n",
    "my_words = [word for word, tag in nltk.pos_tag(tokens) if tag in my_tag_set]\n",
    "print(my_words)"
   ]
  },
  {
   "cell_type": "markdown",
   "id": "1bfdccbb",
   "metadata": {},
   "source": [
    "# 단어에 품사 정보를 추가해 구분\n",
    " - 아래와 같이 join()을 이용해 단어와 품사를 결합함으로써, 단어에 대한 품사정보를\n",
    "추가할 수 있음"
   ]
  },
  {
   "cell_type": "code",
   "execution_count": 12,
   "id": "f5842b06",
   "metadata": {},
   "outputs": [
    {
     "name": "stdout",
     "output_type": "stream",
     "text": [
      "['Hello/NNP', 'everyone/NN', './.', 'It/PRP', \"'s/VBZ\", 'good/JJ', 'to/TO', 'see/VB', 'you/PRP', './.', 'Let/VB', \"'s/POS\", 'start/VB', 'our/PRP$', 'text/NN', 'mining/NN', 'class/NN', '!/.']\n"
     ]
    }
   ],
   "source": [
    "words_with_tag = ['/'.join(item) for item in nltk.pos_tag(tokens)]\n",
    "print(words_with_tag)"
   ]
  },
  {
   "cell_type": "markdown",
   "id": "0bc49d65",
   "metadata": {},
   "source": [
    "# KoNLPy 사용 예\n",
    "## koNLPy에서 Okt(트위터) 형태소 분석기를 import"
   ]
  },
  {
   "cell_type": "code",
   "execution_count": 16,
   "id": "6c9270bc",
   "metadata": {
    "scrolled": true
   },
   "outputs": [
    {
     "name": "stdout",
     "output_type": "stream",
     "text": [
      "Requirement already satisfied: konlpy in c:\\users\\user\\anaconda3\\lib\\site-packages (0.6.0)\n",
      "Requirement already satisfied: lxml>=4.1.0 in c:\\users\\user\\anaconda3\\lib\\site-packages (from konlpy) (4.8.0)\n",
      "Requirement already satisfied: JPype1>=0.7.0 in c:\\users\\user\\anaconda3\\lib\\site-packages (from konlpy) (1.4.0)\n",
      "Requirement already satisfied: numpy>=1.6 in c:\\users\\user\\anaconda3\\lib\\site-packages (from konlpy) (1.21.5)\n"
     ]
    }
   ],
   "source": [
    "!pip install konlpy"
   ]
  },
  {
   "cell_type": "code",
   "execution_count": 14,
   "id": "d3bf4889",
   "metadata": {},
   "outputs": [
    {
     "name": "stdout",
     "output_type": "stream",
     "text": [
      "Requirement already satisfied: jpype1 in c:\\users\\user\\anaconda3\\lib\\site-packages (1.4.0)\n"
     ]
    }
   ],
   "source": [
    "!pip install jpype1"
   ]
  },
  {
   "cell_type": "code",
   "execution_count": 17,
   "id": "933b3150",
   "metadata": {},
   "outputs": [
    {
     "ename": "JVMNotFoundException",
     "evalue": "No JVM shared library file (jvm.dll) found. Try setting up the JAVA_HOME environment variable properly.",
     "output_type": "error",
     "traceback": [
      "\u001b[1;31m---------------------------------------------------------------------------\u001b[0m",
      "\u001b[1;31mJVMNotFoundException\u001b[0m                      Traceback (most recent call last)",
      "Input \u001b[1;32mIn [17]\u001b[0m, in \u001b[0;36m<cell line: 2>\u001b[1;34m()\u001b[0m\n\u001b[0;32m      1\u001b[0m \u001b[38;5;28;01mfrom\u001b[39;00m \u001b[38;5;21;01mkonlpy\u001b[39;00m\u001b[38;5;21;01m.\u001b[39;00m\u001b[38;5;21;01mtag\u001b[39;00m \u001b[38;5;28;01mimport\u001b[39;00m Okt\n\u001b[1;32m----> 2\u001b[0m t \u001b[38;5;241m=\u001b[39m \u001b[43mOkt\u001b[49m\u001b[43m(\u001b[49m\u001b[43m)\u001b[49m\n\u001b[0;32m      4\u001b[0m sentence \u001b[38;5;241m=\u001b[39m \u001b[38;5;124m\"\u001b[39m\u001b[38;5;124m절망의 반대가 희망은 아니다.\u001b[39m\u001b[38;5;124m\"\u001b[39m\n\u001b[0;32m      5\u001b[0m \u001b[38;5;28mprint\u001b[39m(t\u001b[38;5;241m.\u001b[39mmorphs(sentence))\n",
      "File \u001b[1;32m~\\anaconda3\\lib\\site-packages\\konlpy\\tag\\_okt.py:51\u001b[0m, in \u001b[0;36mOkt.__init__\u001b[1;34m(self, jvmpath, max_heap_size)\u001b[0m\n\u001b[0;32m     49\u001b[0m \u001b[38;5;28;01mdef\u001b[39;00m \u001b[38;5;21m__init__\u001b[39m(\u001b[38;5;28mself\u001b[39m, jvmpath\u001b[38;5;241m=\u001b[39m\u001b[38;5;28;01mNone\u001b[39;00m, max_heap_size\u001b[38;5;241m=\u001b[39m\u001b[38;5;241m1024\u001b[39m):\n\u001b[0;32m     50\u001b[0m     \u001b[38;5;28;01mif\u001b[39;00m \u001b[38;5;129;01mnot\u001b[39;00m jpype\u001b[38;5;241m.\u001b[39misJVMStarted():\n\u001b[1;32m---> 51\u001b[0m         \u001b[43mjvm\u001b[49m\u001b[38;5;241;43m.\u001b[39;49m\u001b[43minit_jvm\u001b[49m\u001b[43m(\u001b[49m\u001b[43mjvmpath\u001b[49m\u001b[43m,\u001b[49m\u001b[43m \u001b[49m\u001b[43mmax_heap_size\u001b[49m\u001b[43m)\u001b[49m\n\u001b[0;32m     53\u001b[0m     oktJavaPackage \u001b[38;5;241m=\u001b[39m jpype\u001b[38;5;241m.\u001b[39mJPackage(\u001b[38;5;124m'\u001b[39m\u001b[38;5;124mkr.lucypark.okt\u001b[39m\u001b[38;5;124m'\u001b[39m)\n\u001b[0;32m     54\u001b[0m     OktInterfaceJavaClass \u001b[38;5;241m=\u001b[39m oktJavaPackage\u001b[38;5;241m.\u001b[39mOktInterface\n",
      "File \u001b[1;32m~\\anaconda3\\lib\\site-packages\\konlpy\\jvm.py:55\u001b[0m, in \u001b[0;36minit_jvm\u001b[1;34m(jvmpath, max_heap_size)\u001b[0m\n\u001b[0;32m     52\u001b[0m args \u001b[38;5;241m=\u001b[39m [javadir, os\u001b[38;5;241m.\u001b[39msep]\n\u001b[0;32m     53\u001b[0m classpath \u001b[38;5;241m=\u001b[39m [f\u001b[38;5;241m.\u001b[39mformat(\u001b[38;5;241m*\u001b[39margs) \u001b[38;5;28;01mfor\u001b[39;00m f \u001b[38;5;129;01min\u001b[39;00m folder_suffix]\n\u001b[1;32m---> 55\u001b[0m jvmpath \u001b[38;5;241m=\u001b[39m jvmpath \u001b[38;5;129;01mor\u001b[39;00m \u001b[43mjpype\u001b[49m\u001b[38;5;241;43m.\u001b[39;49m\u001b[43mgetDefaultJVMPath\u001b[49m\u001b[43m(\u001b[49m\u001b[43m)\u001b[49m\n\u001b[0;32m     57\u001b[0m \u001b[38;5;66;03m# NOTE: Temporary patch for Issue #76. Erase when possible.\u001b[39;00m\n\u001b[0;32m     58\u001b[0m \u001b[38;5;28;01mif\u001b[39;00m sys\u001b[38;5;241m.\u001b[39mplatform \u001b[38;5;241m==\u001b[39m \u001b[38;5;124m'\u001b[39m\u001b[38;5;124mdarwin\u001b[39m\u001b[38;5;124m'\u001b[39m\\\n\u001b[0;32m     59\u001b[0m         \u001b[38;5;129;01mand\u001b[39;00m jvmpath\u001b[38;5;241m.\u001b[39mfind(\u001b[38;5;124m'\u001b[39m\u001b[38;5;124m1.8.0\u001b[39m\u001b[38;5;124m'\u001b[39m) \u001b[38;5;241m>\u001b[39m \u001b[38;5;241m0\u001b[39m\\\n\u001b[0;32m     60\u001b[0m         \u001b[38;5;129;01mand\u001b[39;00m jvmpath\u001b[38;5;241m.\u001b[39mendswith(\u001b[38;5;124m'\u001b[39m\u001b[38;5;124mlibjvm.dylib\u001b[39m\u001b[38;5;124m'\u001b[39m):\n",
      "File \u001b[1;32m~\\anaconda3\\lib\\site-packages\\jpype\\_jvmfinder.py:74\u001b[0m, in \u001b[0;36mgetDefaultJVMPath\u001b[1;34m()\u001b[0m\n\u001b[0;32m     72\u001b[0m \u001b[38;5;28;01melse\u001b[39;00m:\n\u001b[0;32m     73\u001b[0m     finder \u001b[38;5;241m=\u001b[39m LinuxJVMFinder()\n\u001b[1;32m---> 74\u001b[0m \u001b[38;5;28;01mreturn\u001b[39;00m \u001b[43mfinder\u001b[49m\u001b[38;5;241;43m.\u001b[39;49m\u001b[43mget_jvm_path\u001b[49m\u001b[43m(\u001b[49m\u001b[43m)\u001b[49m\n",
      "File \u001b[1;32m~\\anaconda3\\lib\\site-packages\\jpype\\_jvmfinder.py:212\u001b[0m, in \u001b[0;36mJVMFinder.get_jvm_path\u001b[1;34m(self)\u001b[0m\n\u001b[0;32m    210\u001b[0m \u001b[38;5;28;01mif\u001b[39;00m jvm_notsupport_ext \u001b[38;5;129;01mis\u001b[39;00m \u001b[38;5;129;01mnot\u001b[39;00m \u001b[38;5;28;01mNone\u001b[39;00m:\n\u001b[0;32m    211\u001b[0m     \u001b[38;5;28;01mraise\u001b[39;00m jvm_notsupport_ext\n\u001b[1;32m--> 212\u001b[0m \u001b[38;5;28;01mraise\u001b[39;00m JVMNotFoundException(\u001b[38;5;124m\"\u001b[39m\u001b[38;5;124mNo JVM shared library file (\u001b[39m\u001b[38;5;132;01m{0}\u001b[39;00m\u001b[38;5;124m) \u001b[39m\u001b[38;5;124m\"\u001b[39m\n\u001b[0;32m    213\u001b[0m                            \u001b[38;5;124m\"\u001b[39m\u001b[38;5;124mfound. Try setting up the JAVA_HOME \u001b[39m\u001b[38;5;124m\"\u001b[39m\n\u001b[0;32m    214\u001b[0m                            \u001b[38;5;124m\"\u001b[39m\u001b[38;5;124menvironment variable properly.\u001b[39m\u001b[38;5;124m\"\u001b[39m\n\u001b[0;32m    215\u001b[0m                            \u001b[38;5;241m.\u001b[39mformat(\u001b[38;5;28mself\u001b[39m\u001b[38;5;241m.\u001b[39m_libfile))\n",
      "\u001b[1;31mJVMNotFoundException\u001b[0m: No JVM shared library file (jvm.dll) found. Try setting up the JAVA_HOME environment variable properly."
     ]
    }
   ],
   "source": [
    "from konlpy.tag import Okt\n",
    "t = Okt()\n",
    "\n",
    "sentence = \"절망의 반대가 희망은 아니다.\"\n",
    "print(t.morphs(sentence))\n",
    "print(t.nouns(sentence))\n",
    "print(t.pos(sentence))"
   ]
  },
  {
   "cell_type": "code",
   "execution_count": 19,
   "id": "e380f7ed",
   "metadata": {},
   "outputs": [
    {
     "name": "stdout",
     "output_type": "stream",
     "text": [
      "--sys.version—\n",
      "3.9.12 (main, Apr  4 2022, 05:22:27) [MSC v.1916 64 bit (AMD64)]\n"
     ]
    }
   ],
   "source": [
    "import sys\n",
    "\n",
    "print(\"--sys.version—\")\n",
    "print(sys.version)"
   ]
  },
  {
   "cell_type": "code",
   "execution_count": null,
   "id": "9ba0d858",
   "metadata": {},
   "outputs": [],
   "source": []
  }
 ],
 "metadata": {
  "kernelspec": {
   "display_name": "Python 3 (ipykernel)",
   "language": "python",
   "name": "python3"
  },
  "language_info": {
   "codemirror_mode": {
    "name": "ipython",
    "version": 3
   },
   "file_extension": ".py",
   "mimetype": "text/x-python",
   "name": "python",
   "nbconvert_exporter": "python",
   "pygments_lexer": "ipython3",
   "version": "3.9.12"
  }
 },
 "nbformat": 4,
 "nbformat_minor": 5
}
