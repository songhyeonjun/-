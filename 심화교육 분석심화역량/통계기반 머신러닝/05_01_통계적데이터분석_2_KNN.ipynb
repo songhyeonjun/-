{
 "cells": [
  {
   "cell_type": "markdown",
   "id": "375fe75e",
   "metadata": {},
   "source": [
    "# 유사도와 비유사도 "
   ]
  },
  {
   "cell_type": "markdown",
   "id": "72a8428a",
   "metadata": {},
   "source": [
    "## 두 점 사이의 거리 (Distance Formula) \n",
    "\n",
    "### from sklearn.neighbors import DistanceMetric\n",
    "#### metric \n",
    "- \"euclidean”: 유클리드 거리 \n",
    "- \"manhattan\", : 맨하탄 거리 \n",
    "- \"minkowski”: 민코우스키 \n",
    "- \"hamming\" : 해밍 거리 \n",
    "- ..."
   ]
  },
  {
   "cell_type": "markdown",
   "id": "4c642741",
   "metadata": {},
   "source": [
    "#### 유클리드 거리 "
   ]
  },
  {
   "cell_type": "code",
   "execution_count": 1,
   "id": "898dc02b",
   "metadata": {},
   "outputs": [
    {
     "name": "stdout",
     "output_type": "stream",
     "text": [
      "7.810249675906654\n",
      "[[0.         7.81024968]\n",
      " [7.81024968 0.        ]]\n"
     ]
    }
   ],
   "source": [
    "## 직접 계산 \n",
    "import warnings\n",
    "# FutureWarning 제거\n",
    "warnings.simplefilter(action='ignore', category=FutureWarning) \n",
    "\n",
    "# 함수 정의 \n",
    "def euclidean_distance(pt1, pt2):\n",
    "    distance = 0\n",
    "    for i in range(len(pt1)):\n",
    "        distance += (pt1[i] - pt2[i]) ** 2\n",
    "    return distance ** 0.5\n",
    "\n",
    "X = [[5, 4, 3],[1, 7, 9]]\n",
    "\n",
    "print(euclidean_distance(X[0],X[1] ))\n",
    "\n",
    "## sklearn DistanceMetric(metric : euclidean )\n",
    "from sklearn.neighbors import DistanceMetric\n",
    "dist_eu = DistanceMetric.get_metric('euclidean')\n",
    "\n",
    "# Compute the pairwise distances between X and Y\n",
    "print(dist_eu.pairwise(X))"
   ]
  },
  {
   "cell_type": "markdown",
   "id": "1d7f1f4c",
   "metadata": {},
   "source": [
    "#### 맨하탄 거리(Manhattan Distance)"
   ]
  },
  {
   "cell_type": "code",
   "execution_count": 2,
   "id": "93f35711",
   "metadata": {},
   "outputs": [
    {
     "name": "stdout",
     "output_type": "stream",
     "text": [
      "13\n",
      "[[ 0. 13.]\n",
      " [13.  0.]]\n"
     ]
    }
   ],
   "source": [
    "## 직접 계산 \n",
    "\n",
    "## 함수 정의 \n",
    "def manhattan_distance(pt1, pt2):\n",
    "    distance = 0\n",
    "    for i in range(len(pt1)):\n",
    "        distance += abs(pt1[i] - pt2[i])\n",
    "    return distance\n",
    "X = [[5, 4, 3],[1, 7, 9]]\n",
    "\n",
    "print(manhattan_distance(X[0],X[1] ))\n",
    "\n",
    "## sklearn DistanceMetric(metric : manhattan )\n",
    "from sklearn.neighbors import DistanceMetric\n",
    "dist_man = DistanceMetric.get_metric('manhattan')\n",
    "\n",
    "# Compute the pairwise distances between X and Y\n",
    "print(dist_man.pairwise(X))"
   ]
  },
  {
   "cell_type": "markdown",
   "id": "185c2b42",
   "metadata": {},
   "source": [
    "#### 해밍 거리(Hamming Distance)\n",
    "- 정확히 같은지’ 여부만 고려, 다른 값 count "
   ]
  },
  {
   "cell_type": "code",
   "execution_count": 3,
   "id": "2c6fd8c7",
   "metadata": {},
   "outputs": [
    {
     "name": "stdout",
     "output_type": "stream",
     "text": [
      "1.0\n",
      "0.6666666666666666\n",
      "[[0.         0.66666667]\n",
      " [0.66666667 0.        ]]\n"
     ]
    }
   ],
   "source": [
    "## 직접 계산  \n",
    "def hamming_distance(pt1, pt2):\n",
    "    distance = 0\n",
    "    for i in range(len(pt1)):\n",
    "        if pt1[i] != pt2[i]:\n",
    "            distance += 1\n",
    "            hamm_v = distance / len(pt1)\n",
    "    return hamm_v\n",
    "\n",
    "X = [[5, 4, 3],[1, 7, 9]]\n",
    "print(hamming_distance(X[0], X[1]))\n",
    "\n",
    "X = [[1, 4, 3],[1, 7, 9]]\n",
    "print(hamming_distance(X[0], X[1]))\n",
    "\n",
    "## sklearn DistanceMetric(metric : hamming )\n",
    "from sklearn.neighbors import DistanceMetric\n",
    "\n",
    "dist_ham = DistanceMetric.get_metric('hamming')\n",
    "\n",
    "# Compute the pairwise distances between X and Y\n",
    "print(dist_ham.pairwise(X))"
   ]
  },
  {
   "cell_type": "markdown",
   "id": "6c3e01c4",
   "metadata": {},
   "source": [
    "#### 민코우스키 거리 \n",
    "- p값 1 :맨허튼 거리, p값 2 :유클리드 거리 "
   ]
  },
  {
   "cell_type": "code",
   "execution_count": 4,
   "id": "eaa31ff5",
   "metadata": {},
   "outputs": [
    {
     "name": "stdout",
     "output_type": "stream",
     "text": [
      "[[0.         7.81024968]\n",
      " [7.81024968 0.        ]]\n"
     ]
    }
   ],
   "source": [
    "## sklearn DistanceMetric(metric : minkowski, p=scalar )\n",
    "from sklearn.neighbors import DistanceMetric\n",
    "X = [[5, 4, 3],[1, 7, 9]]\n",
    "dist_ham = DistanceMetric.get_metric('minkowski', p=2)\n",
    "\n",
    "# Compute the pairwise distances between X and Y\n",
    "print(dist_ham.pairwise(X))"
   ]
  },
  {
   "cell_type": "markdown",
   "id": "646c3956",
   "metadata": {},
   "source": [
    "# K-NN(K-Nearest Neighbor)\n",
    "\n",
    "### from sklearn.neighbors import KNeighborsClassifier\n",
    "####  입력 인수\n",
    "- n_neighbors: neighbor의 개수\n",
    "- metric: distance metric의 종류. 'euclidean', 'manhattan', 'chebyshev', 'minkowsk' 등 "
   ]
  },
  {
   "cell_type": "code",
   "execution_count": 5,
   "id": "5a1c5757",
   "metadata": {},
   "outputs": [],
   "source": [
    "## 라이브러리 임포트 \n",
    "import numpy as np\n",
    "import pandas as pd\n",
    "import matplotlib.pyplot as plt\n",
    "from sklearn.model_selection import train_test_split\n",
    "from sklearn.neighbors import KNeighborsClassifier ## K-NN \n",
    "from sklearn.metrics import confusion_matrix, classification_report"
   ]
  },
  {
   "cell_type": "code",
   "execution_count": 6,
   "id": "9a733056",
   "metadata": {},
   "outputs": [
    {
     "name": "stdout",
     "output_type": "stream",
     "text": [
      "종양 여부 결정 속성 : ['mean radius' 'mean texture' 'mean perimeter' 'mean area'\n",
      " 'mean smoothness' 'mean compactness' 'mean concavity'\n",
      " 'mean concave points' 'mean symmetry' 'mean fractal dimension'\n",
      " 'radius error' 'texture error' 'perimeter error' 'area error'\n",
      " 'smoothness error' 'compactness error' 'concavity error'\n",
      " 'concave points error' 'symmetry error' 'fractal dimension error'\n",
      " 'worst radius' 'worst texture' 'worst perimeter' 'worst area'\n",
      " 'worst smoothness' 'worst compactness' 'worst concavity'\n",
      " 'worst concave points' 'worst symmetry' 'worst fractal dimension']\n",
      "종양 구분 : ['malignant' 'benign']\n"
     ]
    },
    {
     "data": {
      "text/plain": [
       "1    357\n",
       "0    212\n",
       "Name: target, dtype: int64"
      ]
     },
     "execution_count": 6,
     "metadata": {},
     "output_type": "execute_result"
    }
   ],
   "source": [
    "## 데이터 셋 \n",
    "from sklearn.datasets import load_breast_cancer\n",
    "\n",
    "# 데이터 불러오기\n",
    "data = load_breast_cancer()\n",
    "\n",
    "# 독립변수 (input data)\n",
    "b_input_data = data['data'] \n",
    "\n",
    "# 종양 : 악성(0), 양성(1) 여부 (target data)\n",
    "b_target_data = data['target'] \n",
    "\n",
    "# 종양 구분 \n",
    "tumar = data['target_names'] \n",
    "\n",
    "# 속성 명칭 \n",
    "feature_names = data['feature_names'] \n",
    "\n",
    "print('종양 여부 결정 속성 : {}'.format(feature_names))\n",
    "print('종양 구분 : {}'.format(tumar))\n",
    "\n",
    "breast_df = pd.DataFrame(b_input_data, columns=feature_names)\n",
    "breast_df['target'] = b_target_data\n",
    "\n",
    "# 속성명 공백에 \"_\"달기 \n",
    "breast_df.columns = [col.replace(\" \", \"_\") for col in breast_df.columns]\n",
    "\n",
    "# label 데이터 비율 확인 \n",
    "breast_df['target'].value_counts()"
   ]
  },
  {
   "cell_type": "code",
   "execution_count": 7,
   "id": "8e7bfea9",
   "metadata": {},
   "outputs": [
    {
     "data": {
      "text/html": [
       "<div>\n",
       "<style scoped>\n",
       "    .dataframe tbody tr th:only-of-type {\n",
       "        vertical-align: middle;\n",
       "    }\n",
       "\n",
       "    .dataframe tbody tr th {\n",
       "        vertical-align: top;\n",
       "    }\n",
       "\n",
       "    .dataframe thead th {\n",
       "        text-align: right;\n",
       "    }\n",
       "</style>\n",
       "<table border=\"1\" class=\"dataframe\">\n",
       "  <thead>\n",
       "    <tr style=\"text-align: right;\">\n",
       "      <th></th>\n",
       "      <th>mean_radius</th>\n",
       "      <th>mean_texture</th>\n",
       "      <th>mean_perimeter</th>\n",
       "      <th>mean_area</th>\n",
       "      <th>mean_smoothness</th>\n",
       "      <th>mean_compactness</th>\n",
       "      <th>mean_concavity</th>\n",
       "      <th>mean_concave_points</th>\n",
       "      <th>mean_symmetry</th>\n",
       "      <th>mean_fractal_dimension</th>\n",
       "      <th>...</th>\n",
       "      <th>worst_texture</th>\n",
       "      <th>worst_perimeter</th>\n",
       "      <th>worst_area</th>\n",
       "      <th>worst_smoothness</th>\n",
       "      <th>worst_compactness</th>\n",
       "      <th>worst_concavity</th>\n",
       "      <th>worst_concave_points</th>\n",
       "      <th>worst_symmetry</th>\n",
       "      <th>worst_fractal_dimension</th>\n",
       "      <th>target</th>\n",
       "    </tr>\n",
       "  </thead>\n",
       "  <tbody>\n",
       "    <tr>\n",
       "      <th>0</th>\n",
       "      <td>17.99</td>\n",
       "      <td>10.38</td>\n",
       "      <td>122.8</td>\n",
       "      <td>1001.0</td>\n",
       "      <td>0.11840</td>\n",
       "      <td>0.27760</td>\n",
       "      <td>0.3001</td>\n",
       "      <td>0.14710</td>\n",
       "      <td>0.2419</td>\n",
       "      <td>0.07871</td>\n",
       "      <td>...</td>\n",
       "      <td>17.33</td>\n",
       "      <td>184.6</td>\n",
       "      <td>2019.0</td>\n",
       "      <td>0.1622</td>\n",
       "      <td>0.6656</td>\n",
       "      <td>0.7119</td>\n",
       "      <td>0.2654</td>\n",
       "      <td>0.4601</td>\n",
       "      <td>0.11890</td>\n",
       "      <td>0</td>\n",
       "    </tr>\n",
       "    <tr>\n",
       "      <th>1</th>\n",
       "      <td>20.57</td>\n",
       "      <td>17.77</td>\n",
       "      <td>132.9</td>\n",
       "      <td>1326.0</td>\n",
       "      <td>0.08474</td>\n",
       "      <td>0.07864</td>\n",
       "      <td>0.0869</td>\n",
       "      <td>0.07017</td>\n",
       "      <td>0.1812</td>\n",
       "      <td>0.05667</td>\n",
       "      <td>...</td>\n",
       "      <td>23.41</td>\n",
       "      <td>158.8</td>\n",
       "      <td>1956.0</td>\n",
       "      <td>0.1238</td>\n",
       "      <td>0.1866</td>\n",
       "      <td>0.2416</td>\n",
       "      <td>0.1860</td>\n",
       "      <td>0.2750</td>\n",
       "      <td>0.08902</td>\n",
       "      <td>0</td>\n",
       "    </tr>\n",
       "  </tbody>\n",
       "</table>\n",
       "<p>2 rows × 31 columns</p>\n",
       "</div>"
      ],
      "text/plain": [
       "   mean_radius  mean_texture  mean_perimeter  mean_area  mean_smoothness  \\\n",
       "0        17.99         10.38           122.8     1001.0          0.11840   \n",
       "1        20.57         17.77           132.9     1326.0          0.08474   \n",
       "\n",
       "   mean_compactness  mean_concavity  mean_concave_points  mean_symmetry  \\\n",
       "0           0.27760          0.3001              0.14710         0.2419   \n",
       "1           0.07864          0.0869              0.07017         0.1812   \n",
       "\n",
       "   mean_fractal_dimension  ...  worst_texture  worst_perimeter  worst_area  \\\n",
       "0                 0.07871  ...          17.33            184.6      2019.0   \n",
       "1                 0.05667  ...          23.41            158.8      1956.0   \n",
       "\n",
       "   worst_smoothness  worst_compactness  worst_concavity  worst_concave_points  \\\n",
       "0            0.1622             0.6656           0.7119                0.2654   \n",
       "1            0.1238             0.1866           0.2416                0.1860   \n",
       "\n",
       "   worst_symmetry  worst_fractal_dimension  target  \n",
       "0          0.4601                  0.11890       0  \n",
       "1          0.2750                  0.08902       0  \n",
       "\n",
       "[2 rows x 31 columns]"
      ]
     },
     "execution_count": 7,
     "metadata": {},
     "output_type": "execute_result"
    }
   ],
   "source": [
    "# 악성(malignant:0), 양성(benign:1)인지 \n",
    "breast_df.head(2)"
   ]
  },
  {
   "cell_type": "code",
   "execution_count": 8,
   "id": "1bf779ea",
   "metadata": {},
   "outputs": [],
   "source": [
    "# X = breast_df[['mean_radius', 'mean_texture', 'mean_perimeter' ]] # 독립변수 \n",
    "\n",
    "# X = breast_df[['mean_radius', 'mean_texture', 'mean_perimeter', 'mean_area',\n",
    "#                'mean_smoothness', 'mean_compactness', 'mean_concavity',\n",
    "#                'mean_concave_points', 'mean_symmetry', 'mean_fractal_dimension' ]] # 독립변수 \n",
    "\n",
    "## 학습 데이터 셋 생성 \n",
    "# 평균관련 된 3개의 속성으로 종양 여부 판단 \n",
    "model_feautre_name = ['mean_radius', 'mean_texture', 'mean_perimeter' ] \n",
    "X = breast_df[model_feautre_name]\n",
    "Y = breast_df['target']\n",
    "\n",
    "# 80%의 데이터를 학습 데이터로, 20%를 테스트 데이터 \n",
    "X_train, X_test, y_train, y_test = train_test_split(X, Y, test_size = 0.2, random_state = 20) "
   ]
  },
  {
   "cell_type": "code",
   "execution_count": 9,
   "id": "ceac34ad",
   "metadata": {},
   "outputs": [
    {
     "data": {
      "text/plain": [
       "pandas.core.series.Series"
      ]
     },
     "execution_count": 9,
     "metadata": {},
     "output_type": "execute_result"
    }
   ],
   "source": [
    "type(y_train)"
   ]
  },
  {
   "cell_type": "code",
   "execution_count": 10,
   "id": "f8c6cc0c",
   "metadata": {},
   "outputs": [
    {
     "name": "stdout",
     "output_type": "stream",
     "text": [
      "평균 = -6.109886711343719e-16, 표준편차= 1.0000000000000002\n",
      "평균 = -3.2833320921661774e-15, 표준편차= 1.0000000000000002\n",
      "평균 = 2.851931145454688e-15, 표준편차= 1.0000000000000004\n",
      "평균 = -1.1472304587793285e-15, 표준편차= 1.0\n",
      "평균 = 4.4798472923471226e-17, 표준편차= 0.9999999999999999\n",
      "평균 = -1.1842378929335002e-15, 표준편차= 0.9999999999999998\n"
     ]
    }
   ],
   "source": [
    "## 스케일링 & 정규화 : 거리기반 알고리즘은 기본으로 표준화, 정규화 수행 필요 \n",
    "from sklearn.preprocessing import StandardScaler\n",
    "\n",
    "## 스케일링 & 정규화\n",
    "scaler = StandardScaler()\n",
    "X_train_std=scaler.fit_transform(X_train)\n",
    "X_test_std=scaler.fit_transform(X_test)\n",
    "\n",
    "# 스케일링(각 속성3개에 대한 표준화 수행 결과 확인)\n",
    "for col in range(3):\n",
    "    print(f'평균 = {X_train_std[:, col].mean()}, 표준편차= {X_train_std[:, col].std()}')\n",
    "    \n",
    "for col in range(3):\n",
    "    print(f'평균 = {X_test_std[:, col].mean()}, 표준편차= {X_test_std[:, col].std()}')"
   ]
  },
  {
   "cell_type": "code",
   "execution_count": 11,
   "id": "ccdacaa0",
   "metadata": {},
   "outputs": [
    {
     "name": "stdout",
     "output_type": "stream",
     "text": [
      "테스트 세트 정확도: 0.91\n",
      "[[42  6]\n",
      " [ 4 62]]\n",
      "              precision    recall  f1-score   support\n",
      "\n",
      "           0       0.91      0.88      0.89        48\n",
      "           1       0.91      0.94      0.93        66\n",
      "\n",
      "    accuracy                           0.91       114\n",
      "   macro avg       0.91      0.91      0.91       114\n",
      "weighted avg       0.91      0.91      0.91       114\n",
      "\n"
     ]
    }
   ],
   "source": [
    "## 학습/예측(Training/Pradiction)\n",
    "# k-NN 분류기를 생성 \n",
    "# \"가장 가까운 3개 중에 A:1,C:2\"이면 타겟데이터는 \"C\"로 분류\n",
    "knn_clf = KNeighborsClassifier(n_neighbors=3)\n",
    "\n",
    "# 분류기 학습\n",
    "knn_clf.fit(X_train_std, y_train)\n",
    "# 예측\n",
    "y_pred = knn_clf.predict(X_test_std)\n",
    "\n",
    "## 모델 평가\n",
    "print(\"테스트 세트 정확도: {:.2f}\".format(knn_clf.score(X_test_std, y_test)))\n",
    "\n",
    "conf_matrix = confusion_matrix(y_test, y_pred)\n",
    "print(conf_matrix)\n",
    "\n",
    "report = classification_report(y_test, y_pred)\n",
    "print(report)"
   ]
  },
  {
   "cell_type": "code",
   "execution_count": 12,
   "id": "ad4f9b1e",
   "metadata": {},
   "outputs": [
    {
     "name": "stdout",
     "output_type": "stream",
     "text": [
      "[0.8859649122807017, 0.8771929824561403, 0.9122807017543859, 0.9122807017543859, 0.956140350877193, 0.9298245614035088, 0.9385964912280702, 0.9385964912280702, 0.9385964912280702, 0.9210526315789473, 0.9385964912280702, 0.9210526315789473, 0.9385964912280702, 0.9298245614035088, 0.9298245614035088, 0.9298245614035088, 0.9298245614035088, 0.9298245614035088, 0.9298245614035088, 0.9298245614035088, 0.9298245614035088, 0.9298245614035088, 0.9385964912280702, 0.9298245614035088, 0.9385964912280702, 0.9210526315789473, 0.9210526315789473, 0.9210526315789473, 0.9385964912280702, 0.9385964912280702]\n"
     ]
    },
    {
     "data": {
      "image/png": "[encoded data removed]",
      "text/plain": [
       "<Figure size 432x288 with 1 Axes>"
      ]
     },
     "metadata": {
      "needs_background": "light"
     },
     "output_type": "display_data"
    }
   ],
   "source": [
    "## 모델 개선 - k값을 변화시킬 때, accuracy가 증가하는 지 확인 \n",
    "accuracy_knn = []\n",
    "\n",
    "for i in range(1, 31):\n",
    "    knn = KNeighborsClassifier(n_neighbors=i)\n",
    "    knn.fit(X_train_std, y_train)\n",
    "    pred_i = knn.predict(X_test_std)\n",
    "    accuracy_knn.append(knn.score(X_test_std, y_test))\n",
    "    \n",
    "print(accuracy_knn)\n",
    "\n",
    "plt.plot(range(1, 31), accuracy_knn, marker='o')\n",
    "plt.title('Accuracy with K-Value')\n",
    "plt.xlabel('k-value')\n",
    "plt.ylabel('Accuracy')\n",
    "plt.show()"
   ]
  },
  {
   "cell_type": "code",
   "execution_count": 13,
   "id": "e4766fde",
   "metadata": {},
   "outputs": [
    {
     "name": "stdout",
     "output_type": "stream",
     "text": [
      "예측결과:\n",
      " [1 0 0 1 0 0 0 1 1 0]\n",
      "정답:\n",
      " [1, 0, 0, 1, 0, 0, 0, 1, 1, 0]\n",
      "테스트 세트 정확도: 0.96\n",
      "[[44  4]\n",
      " [ 1 65]]\n",
      "              precision    recall  f1-score   support\n",
      "\n",
      "           0       0.98      0.92      0.95        48\n",
      "           1       0.94      0.98      0.96        66\n",
      "\n",
      "    accuracy                           0.96       114\n",
      "   macro avg       0.96      0.95      0.95       114\n",
      "weighted avg       0.96      0.96      0.96       114\n",
      "\n"
     ]
    }
   ],
   "source": [
    "## Accuracy 결과로 학습/예측(Training/Pradiction)\n",
    "knn_clf = KNeighborsClassifier(n_neighbors=5)\n",
    "\n",
    "# 분류기 학습\n",
    "knn_clf.fit(X_train_std, y_train)\n",
    "# 예측\n",
    "y_pred = knn_clf.predict(X_test_std)\n",
    "print(\"예측결과:\\n\", y_pred[:10])\n",
    "\n",
    "# test set \n",
    "print(\"정답:\\n\", list(y_test)[:10])\n",
    "\n",
    "# 모델 평가\n",
    "print(\"테스트 세트 정확도: {:.2f}\".format(knn_clf.score(X_test_std, y_test)))\n",
    "# 테스트 세트 정확도: 0.91\n",
    "\n",
    "conf_matrix = confusion_matrix(y_test, y_pred)\n",
    "print(conf_matrix)\n",
    "\n",
    "report = classification_report(y_test, y_pred)\n",
    "print(report)"
   ]
  },
  {
   "cell_type": "code",
   "execution_count": 14,
   "id": "3ecc2442",
   "metadata": {},
   "outputs": [
    {
     "name": "stdout",
     "output_type": "stream",
     "text": [
      "[0.11403508771929824, 0.12280701754385964, 0.08771929824561403, 0.08771929824561403, 0.043859649122807015, 0.07017543859649122, 0.06140350877192982, 0.06140350877192982, 0.06140350877192982, 0.07894736842105263, 0.06140350877192982, 0.07894736842105263, 0.06140350877192982, 0.07017543859649122, 0.07017543859649122, 0.07017543859649122, 0.07017543859649122, 0.07017543859649122, 0.07017543859649122, 0.07017543859649122, 0.07017543859649122, 0.07017543859649122, 0.06140350877192982, 0.07017543859649122, 0.06140350877192982, 0.07894736842105263, 0.07894736842105263, 0.07894736842105263, 0.06140350877192982, 0.06140350877192982]\n"
     ]
    },
    {
     "data": {
      "image/png": "[encoded data removed]",
      "text/plain": [
       "<Figure size 432x288 with 1 Axes>"
      ]
     },
     "metadata": {
      "needs_background": "light"
     },
     "output_type": "display_data"
    }
   ],
   "source": [
    "##  k값을 변화시킬 때, 에러가 줄어드는 지\n",
    "errors = []\n",
    "for i in range(1, 31):\n",
    "    knn = KNeighborsClassifier(n_neighbors=i)\n",
    "    knn.fit(X_train_std, y_train)\n",
    "    pred_i = knn.predict(X_test_std)\n",
    "    errors.append(np.mean(pred_i != y_test))\n",
    "#     print(\"k =\", i, \"정확도: {:.2f}\".format(knn.score(X_test_std, y_test)))\n",
    "print(errors)\n",
    "\n",
    "plt.plot(range(1, 31), errors, marker='o')\n",
    "plt.title('Mean error with K-Value')\n",
    "plt.xlabel('k-value')\n",
    "plt.ylabel('mean error')\n",
    "plt.show()"
   ]
  },
  {
   "cell_type": "markdown",
   "id": "d91d5d94",
   "metadata": {},
   "source": [
    "### 참고 Cross validation "
   ]
  },
  {
   "cell_type": "code",
   "execution_count": 15,
   "id": "0a46450c",
   "metadata": {},
   "outputs": [
    {
     "data": {
      "image/png": "[encoded data removed]",
      "text/plain": [
       "<Figure size 432x288 with 1 Axes>"
      ]
     },
     "metadata": {
      "needs_background": "light"
     },
     "output_type": "display_data"
    }
   ],
   "source": [
    "## 모델 개선 - cross validation \n",
    "# cross-validation library\n",
    "from sklearn.model_selection import cross_val_score\n",
    "\n",
    "k_range = range(1,31)              # k를 1~50까지 고려하여 최적의 k를 찾을 것이다.\n",
    "k_score_cv = []                        # 각 k들의 성능을 비교하기 위한 리스트생성이다.\n",
    "\n",
    "for i in k_range :\n",
    "    knn = KNeighborsClassifier(n_neighbors=i)\n",
    "     # 10-fold cross-validation\n",
    "    scores = cross_val_score(knn,X_train_std,y_train,cv=10,scoring = \"accuracy\")   \n",
    "     # 10-fold 각각 정확도의 평균으로 성능계산 \n",
    "    k_score_cv.append(scores.mean())   \n",
    "    \n",
    "plt.plot(k_range, k_score_cv)\n",
    "plt.xlabel('Value of K for KNN')\n",
    "plt.ylabel('Cross-Validation Accuracy')\n",
    "plt.show()"
   ]
  },
  {
   "cell_type": "code",
   "execution_count": 16,
   "id": "84f2cc67",
   "metadata": {},
   "outputs": [
    {
     "name": "stdout",
     "output_type": "stream",
     "text": [
      "테스트 세트 정확도: 0.94\n",
      "[[44  4]\n",
      " [ 3 63]]\n",
      "              precision    recall  f1-score   support\n",
      "\n",
      "           0       0.94      0.92      0.93        48\n",
      "           1       0.94      0.95      0.95        66\n",
      "\n",
      "    accuracy                           0.94       114\n",
      "   macro avg       0.94      0.94      0.94       114\n",
      "weighted avg       0.94      0.94      0.94       114\n",
      "\n"
     ]
    }
   ],
   "source": [
    "## Cross validation 결과로 학습/예측(Training/Pradiction)\n",
    "knn_clf = KNeighborsClassifier(n_neighbors=23)\n",
    "\n",
    "# 분류기 학습\n",
    "knn_clf.fit(X_train_std, y_train)\n",
    "# 예측\n",
    "y_pred = knn_clf.predict(X_test_std)\n",
    "# print(y_pred)\n",
    "\n",
    "# 모델 평가\n",
    "print(\"테스트 세트 정확도: {:.2f}\".format(knn_clf.score(X_test_std, y_test)))\n",
    "\n",
    "conf_matrix = confusion_matrix(y_test, y_pred)\n",
    "print(conf_matrix)\n",
    "\n",
    "report = classification_report(y_test, y_pred)\n",
    "print(report)"
   ]
  },
  {
   "cell_type": "code",
   "execution_count": null,
   "id": "5263d05b",
   "metadata": {},
   "outputs": [],
   "source": []
  },
  {
   "cell_type": "code",
   "execution_count": null,
   "id": "e47151d9",
   "metadata": {},
   "outputs": [],
   "source": []
  }
 ],
 "metadata": {
  "kernelspec": {
   "display_name": "Python 3",
   "language": "python",
   "name": "python3"
  },
  "language_info": {
   "codemirror_mode": {
    "name": "ipython",
    "version": 3
   },
   "file_extension": ".py",
   "mimetype": "text/x-python",
   "name": "python",
   "nbconvert_exporter": "python",
   "pygments_lexer": "ipython3",
   "version": "3.6.13"
  }
 },
 "nbformat": 4,
 "nbformat_minor": 5
}
