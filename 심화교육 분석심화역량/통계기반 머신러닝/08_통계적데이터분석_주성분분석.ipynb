{
 "cells": [
  {
   "cell_type": "markdown",
   "id": "375fe75e",
   "metadata": {},
   "source": [
    "# 주성분 분석(Principal Component Analysis, PCA)\n",
    "\n",
    "####  사이킷런의  decomposition 서브패키지, PCA 클래스\n",
    "####  입력 인수\n",
    "\n",
    "- n_components : 정수\n",
    "#### 메서드:\n",
    "- fit_transform() : 특징행렬을 낮은 차원의 근사행렬로 변환\n",
    "- inverse_transform() : 변환된 근사행렬을 원래의 차원으로 복귀\n",
    "#### 속성\n",
    "- mean_ : 평균 벡터\n",
    "- components_ : 주성분 벡터\n",
    "- explained_variance_ratio_ : 주성분의 설명력 "
   ]
  },
  {
   "cell_type": "markdown",
   "id": "3b755e10",
   "metadata": {},
   "source": [
    "### 진행 순서 \n",
    "1. 데이터를 로드 및 확인 \n",
    "\n",
    "2. 데이터 스케일링 \n",
    "\n",
    "3. PCA함수를 활용해 PC score를 얻음\n",
    "\n",
    "4. PC score를 이용한 SVM 분류 성능 확인"
   ]
  },
  {
   "cell_type": "code",
   "execution_count": 1,
   "id": "7134f24f",
   "metadata": {},
   "outputs": [],
   "source": [
    "# 패키지 임포트 \n",
    "import os \n",
    "import warnings\n",
    "# FutureWarning 제거\n",
    "warnings.simplefilter(action='ignore', category=FutureWarning) \n",
    "\n",
    "import pandas as pd # pandas package\n",
    "import numpy as np  # numpy package  \n",
    "import scipy as sp  # Scipy Package \n",
    "from scipy import stats  # Scipy Package \n",
    "\n",
    "from sklearn import datasets # sklearn dataset \n",
    "\n",
    "# 시각화 패키지 \n",
    "import matplotlib.pyplot as plt #  matplotlib 시각화 패키지 \n",
    "import seaborn as sns\n",
    "%matplotlib inline\n",
    "\n",
    "# os에 따른 Font 깨짐 제거를 위해 Font 지정 \n",
    "import os \n",
    "if os.name == 'nt' :  # Windows OS \n",
    "    font_family = \"Malgun Gothic\"\n",
    "else: # MAC OS \n",
    "    font_family = \"AppleGothic\"\n",
    "    \n",
    "# - 값이 깨지는 문제 해결을 위해 파라미터 값 설정 \n",
    "sns.set(font=font_family, rc ={\"axes.unicode_minus\" : False})  "
   ]
  },
  {
   "cell_type": "code",
   "execution_count": 2,
   "id": "ddd0ca7c",
   "metadata": {},
   "outputs": [
    {
     "name": "stdout",
     "output_type": "stream",
     "text": [
      "꽃을 결정짓는 특징 : ['sepal length (cm)', 'sepal width (cm)', 'petal length (cm)', 'petal width (cm)']\n",
      "꽃 종류 : ['setosa' 'versicolor' 'virginica']\n"
     ]
    },
    {
     "data": {
      "text/html": [
       "<div>\n",
       "<style scoped>\n",
       "    .dataframe tbody tr th:only-of-type {\n",
       "        vertical-align: middle;\n",
       "    }\n",
       "\n",
       "    .dataframe tbody tr th {\n",
       "        vertical-align: top;\n",
       "    }\n",
       "\n",
       "    .dataframe thead th {\n",
       "        text-align: right;\n",
       "    }\n",
       "</style>\n",
       "<table border=\"1\" class=\"dataframe\">\n",
       "  <thead>\n",
       "    <tr style=\"text-align: right;\">\n",
       "      <th></th>\n",
       "      <th>sepal length (cm)</th>\n",
       "      <th>sepal width (cm)</th>\n",
       "      <th>petal length (cm)</th>\n",
       "      <th>petal width (cm)</th>\n",
       "      <th>species</th>\n",
       "    </tr>\n",
       "  </thead>\n",
       "  <tbody>\n",
       "    <tr>\n",
       "      <th>0</th>\n",
       "      <td>5.1</td>\n",
       "      <td>3.5</td>\n",
       "      <td>1.4</td>\n",
       "      <td>0.2</td>\n",
       "      <td>0</td>\n",
       "    </tr>\n",
       "    <tr>\n",
       "      <th>1</th>\n",
       "      <td>4.9</td>\n",
       "      <td>3.0</td>\n",
       "      <td>1.4</td>\n",
       "      <td>0.2</td>\n",
       "      <td>0</td>\n",
       "    </tr>\n",
       "    <tr>\n",
       "      <th>2</th>\n",
       "      <td>4.7</td>\n",
       "      <td>3.2</td>\n",
       "      <td>1.3</td>\n",
       "      <td>0.2</td>\n",
       "      <td>0</td>\n",
       "    </tr>\n",
       "    <tr>\n",
       "      <th>3</th>\n",
       "      <td>4.6</td>\n",
       "      <td>3.1</td>\n",
       "      <td>1.5</td>\n",
       "      <td>0.2</td>\n",
       "      <td>0</td>\n",
       "    </tr>\n",
       "    <tr>\n",
       "      <th>4</th>\n",
       "      <td>5.0</td>\n",
       "      <td>3.6</td>\n",
       "      <td>1.4</td>\n",
       "      <td>0.2</td>\n",
       "      <td>0</td>\n",
       "    </tr>\n",
       "  </tbody>\n",
       "</table>\n",
       "</div>"
      ],
      "text/plain": [
       "   sepal length (cm)  sepal width (cm)  petal length (cm)  petal width (cm)  \\\n",
       "0                5.1               3.5                1.4               0.2   \n",
       "1                4.9               3.0                1.4               0.2   \n",
       "2                4.7               3.2                1.3               0.2   \n",
       "3                4.6               3.1                1.5               0.2   \n",
       "4                5.0               3.6                1.4               0.2   \n",
       "\n",
       "   species  \n",
       "0        0  \n",
       "1        0  \n",
       "2        0  \n",
       "3        0  \n",
       "4        0  "
      ]
     },
     "execution_count": 2,
     "metadata": {},
     "output_type": "execute_result"
    }
   ],
   "source": [
    "## 데이터셋 로드 \n",
    "data = datasets.load_iris()\n",
    "\n",
    "# 꽃의 특징 (input data)\n",
    "t_input_data = data['data'] \n",
    "\n",
    "#꽃 종류를 수치로 나탄내 것 (0 ~ 2) (target data)\n",
    "target_data = data['target'] \n",
    "\n",
    "# 꽃 종류를 이름으로 나타낸 것\n",
    "flowers = data['target_names'] \n",
    "\n",
    "# 꽃 특징들의 명칭\n",
    "feature_names = data['feature_names'] \n",
    "\n",
    "#sepal : 꽃받침, #petal : 꽃잎\n",
    "print('꽃을 결정짓는 특징 : {}'.format(feature_names))\n",
    "print('꽃 종류 : {}'.format(flowers))\n",
    "\n",
    "iris_df = pd.DataFrame(t_input_data, columns=feature_names)\n",
    "iris_df['species'] = target_data\n",
    "\n",
    "#맨 위에 있는 데이터 5개출력 \n",
    "iris_df.head(5)"
   ]
  },
  {
   "cell_type": "code",
   "execution_count": 3,
   "id": "cab28afd",
   "metadata": {},
   "outputs": [
    {
     "name": "stdout",
     "output_type": "stream",
     "text": [
      "(150, 4)\n",
      "(150,)\n",
      "{0, 1, 2}\n",
      "['setosa' 'versicolor' 'virginica']\n"
     ]
    }
   ],
   "source": [
    "## 데이터 셋 확인 \n",
    "train_input = t_input_data\n",
    "train_target = target_data \n",
    "\n",
    "print(train_input.shape)\n",
    "print(train_target.shape)\n",
    "print(set(train_target))\n",
    "print(flowers)\n",
    "\n",
    "## 스케일링 & 표준화 : PCA전 표준화 필수 \n",
    "from sklearn.preprocessing import StandardScaler\n",
    "\n",
    "scaler = StandardScaler()\n",
    "scaler.fit(train_input)\n",
    "X_train_std=scaler.transform(train_input)"
   ]
  },
  {
   "cell_type": "code",
   "execution_count": null,
   "id": "4097cc35",
   "metadata": {},
   "outputs": [],
   "source": []
  },
  {
   "cell_type": "code",
   "execution_count": 4,
   "id": "ee64a2f8",
   "metadata": {},
   "outputs": [
    {
     "data": {
      "text/plain": [
       "(150, 4)"
      ]
     },
     "execution_count": 4,
     "metadata": {},
     "output_type": "execute_result"
    }
   ],
   "source": [
    "X_train_std.shape"
   ]
  },
  {
   "cell_type": "code",
   "execution_count": 5,
   "id": "d6679c8b",
   "metadata": {
    "scrolled": true
   },
   "outputs": [
    {
     "name": "stdout",
     "output_type": "stream",
     "text": [
      "2\n",
      "eigen_vector(주성분 벡터):\n",
      " [[ 0.52106591 -0.26934744  0.5804131   0.56485654]\n",
      " [ 0.37741762  0.92329566  0.02449161  0.06694199]]\n",
      "\n",
      "eigen value: [2.93808505 0.9201649 ]\n"
     ]
    }
   ],
   "source": [
    "## PCA 라이브러리\n",
    "from sklearn.decomposition import PCA\n",
    "\n",
    "## PC값 산출 \n",
    "pca = PCA(n_components = 2) # feature 변수 개수가 2개\n",
    "pca.fit(X_train_std)\n",
    "\n",
    "# PCA eigen_vecor 수 \n",
    "print(pca.n_components_)\n",
    "\n",
    "## eigen_vector(주성분 벡터)\n",
    "print('eigen_vector(주성분 벡터):\\n', pca.components_)\n",
    "print()\n",
    "# eigen value\n",
    "print('eigen value:', pca.explained_variance_) \n",
    "\n",
    "# X_train_std * eigen vector : 새로운 공간에서 좌표값으로 나타남\n",
    "pc_score = pca.transform(X_train_std) # 변환 결과 \n",
    "pc_inverse = pca.inverse_transform(pc_score) # 역변환 결과 \n",
    "\n",
    "pca_Df = pd.DataFrame(data=pc_score, columns = ['principal component1', 'principal component2'])"
   ]
  },
  {
   "cell_type": "code",
   "execution_count": 6,
   "id": "0d1f48cd",
   "metadata": {},
   "outputs": [
    {
     "data": {
      "text/html": [
       "<div>\n",
       "<style scoped>\n",
       "    .dataframe tbody tr th:only-of-type {\n",
       "        vertical-align: middle;\n",
       "    }\n",
       "\n",
       "    .dataframe tbody tr th {\n",
       "        vertical-align: top;\n",
       "    }\n",
       "\n",
       "    .dataframe thead th {\n",
       "        text-align: right;\n",
       "    }\n",
       "</style>\n",
       "<table border=\"1\" class=\"dataframe\">\n",
       "  <thead>\n",
       "    <tr style=\"text-align: right;\">\n",
       "      <th></th>\n",
       "      <th>sepal length (cm)</th>\n",
       "      <th>sepal width (cm)</th>\n",
       "      <th>petal length (cm)</th>\n",
       "      <th>petal width (cm)</th>\n",
       "    </tr>\n",
       "  </thead>\n",
       "  <tbody>\n",
       "    <tr>\n",
       "      <th>0</th>\n",
       "      <td>5.1</td>\n",
       "      <td>3.5</td>\n",
       "      <td>1.4</td>\n",
       "      <td>0.2</td>\n",
       "    </tr>\n",
       "    <tr>\n",
       "      <th>1</th>\n",
       "      <td>4.9</td>\n",
       "      <td>3.0</td>\n",
       "      <td>1.4</td>\n",
       "      <td>0.2</td>\n",
       "    </tr>\n",
       "    <tr>\n",
       "      <th>2</th>\n",
       "      <td>4.7</td>\n",
       "      <td>3.2</td>\n",
       "      <td>1.3</td>\n",
       "      <td>0.2</td>\n",
       "    </tr>\n",
       "  </tbody>\n",
       "</table>\n",
       "</div>"
      ],
      "text/plain": [
       "   sepal length (cm)  sepal width (cm)  petal length (cm)  petal width (cm)\n",
       "0                5.1               3.5                1.4               0.2\n",
       "1                4.9               3.0                1.4               0.2\n",
       "2                4.7               3.2                1.3               0.2"
      ]
     },
     "execution_count": 6,
     "metadata": {},
     "output_type": "execute_result"
    }
   ],
   "source": [
    "# 원 데이터 \n",
    "iris_df[feature_names].head(3)"
   ]
  },
  {
   "cell_type": "code",
   "execution_count": 7,
   "id": "9b6e8670",
   "metadata": {},
   "outputs": [
    {
     "data": {
      "text/html": [
       "<div>\n",
       "<style scoped>\n",
       "    .dataframe tbody tr th:only-of-type {\n",
       "        vertical-align: middle;\n",
       "    }\n",
       "\n",
       "    .dataframe tbody tr th {\n",
       "        vertical-align: top;\n",
       "    }\n",
       "\n",
       "    .dataframe thead th {\n",
       "        text-align: right;\n",
       "    }\n",
       "</style>\n",
       "<table border=\"1\" class=\"dataframe\">\n",
       "  <thead>\n",
       "    <tr style=\"text-align: right;\">\n",
       "      <th></th>\n",
       "      <th>principal component1</th>\n",
       "      <th>principal component2</th>\n",
       "    </tr>\n",
       "  </thead>\n",
       "  <tbody>\n",
       "    <tr>\n",
       "      <th>0</th>\n",
       "      <td>-2.264703</td>\n",
       "      <td>0.480027</td>\n",
       "    </tr>\n",
       "    <tr>\n",
       "      <th>1</th>\n",
       "      <td>-2.080961</td>\n",
       "      <td>-0.674134</td>\n",
       "    </tr>\n",
       "    <tr>\n",
       "      <th>2</th>\n",
       "      <td>-2.364229</td>\n",
       "      <td>-0.341908</td>\n",
       "    </tr>\n",
       "  </tbody>\n",
       "</table>\n",
       "</div>"
      ],
      "text/plain": [
       "   principal component1  principal component2\n",
       "0             -2.264703              0.480027\n",
       "1             -2.080961             -0.674134\n",
       "2             -2.364229             -0.341908"
      ]
     },
     "execution_count": 7,
     "metadata": {},
     "output_type": "execute_result"
    }
   ],
   "source": [
    "# PCA 결과 \n",
    "pca_Df.head(3)"
   ]
  },
  {
   "cell_type": "code",
   "execution_count": 8,
   "id": "e7570933",
   "metadata": {},
   "outputs": [
    {
     "name": "stdout",
     "output_type": "stream",
     "text": [
      "3.896056416666667\n"
     ]
    },
    {
     "data": {
      "text/plain": [
       "principal component1    2.938085\n",
       "principal component2    0.920165\n",
       "dtype: float64"
      ]
     },
     "execution_count": 8,
     "metadata": {},
     "output_type": "execute_result"
    }
   ],
   "source": [
    "#원 변수의 분산합(스케일 전) : 3.89\n",
    "print(train_input.var())\n",
    "\n",
    "#주성분 점수의 분산 = eigen value = 3.89\n",
    "pca_Df.var() "
   ]
  },
  {
   "cell_type": "code",
   "execution_count": 9,
   "id": "3d73834e",
   "metadata": {},
   "outputs": [
    {
     "data": {
      "text/html": [
       "<div>\n",
       "<style scoped>\n",
       "    .dataframe tbody tr th:only-of-type {\n",
       "        vertical-align: middle;\n",
       "    }\n",
       "\n",
       "    .dataframe tbody tr th {\n",
       "        vertical-align: top;\n",
       "    }\n",
       "\n",
       "    .dataframe thead th {\n",
       "        text-align: right;\n",
       "    }\n",
       "</style>\n",
       "<table border=\"1\" class=\"dataframe\">\n",
       "  <thead>\n",
       "    <tr style=\"text-align: right;\">\n",
       "      <th></th>\n",
       "      <th>principal component1</th>\n",
       "      <th>principal component2</th>\n",
       "    </tr>\n",
       "  </thead>\n",
       "  <tbody>\n",
       "    <tr>\n",
       "      <th>principal component1</th>\n",
       "      <td>1.000000e+00</td>\n",
       "      <td>-1.521935e-16</td>\n",
       "    </tr>\n",
       "    <tr>\n",
       "      <th>principal component2</th>\n",
       "      <td>-1.521935e-16</td>\n",
       "      <td>1.000000e+00</td>\n",
       "    </tr>\n",
       "  </tbody>\n",
       "</table>\n",
       "</div>"
      ],
      "text/plain": [
       "                      principal component1  principal component2\n",
       "principal component1          1.000000e+00         -1.521935e-16\n",
       "principal component2         -1.521935e-16          1.000000e+00"
      ]
     },
     "execution_count": 9,
     "metadata": {},
     "output_type": "execute_result"
    }
   ],
   "source": [
    "# 주성분 간의 상관 관계 = 0 \n",
    "pca_Df.corr()"
   ]
  },
  {
   "cell_type": "markdown",
   "id": "a2f61452",
   "metadata": {},
   "source": [
    "### PC score 직접 계산 "
   ]
  },
  {
   "cell_type": "code",
   "execution_count": 10,
   "id": "2d4032cb",
   "metadata": {},
   "outputs": [
    {
     "name": "stdout",
     "output_type": "stream",
     "text": [
      "eigen vector:\n",
      " [[ 0.52106591 -0.26934744  0.5804131   0.56485654]\n",
      " [ 0.37741762  0.92329566  0.02449161  0.06694199]]\n",
      "eigen vector transpose:\n",
      " [[ 0.52106591  0.37741762]\n",
      " [-0.26934744  0.92329566]\n",
      " [ 0.5804131   0.02449161]\n",
      " [ 0.56485654  0.06694199]]\n",
      "centering before:\n",
      " [[-0.90068117  1.01900435 -1.34022653 -1.3154443 ]\n",
      " [-1.14301691 -0.13197948 -1.34022653 -1.3154443 ]\n",
      " [-1.38535265  0.32841405 -1.39706395 -1.3154443 ]\n",
      " [-1.50652052  0.09821729 -1.2833891  -1.3154443 ]\n",
      " [-1.02184904  1.24920112 -1.34022653 -1.3154443 ]]\n",
      "centering after:\n",
      " [[-0.90068117  1.01900435 -1.34022653 -1.3154443 ]\n",
      " [-1.14301691 -0.13197948 -1.34022653 -1.3154443 ]\n",
      " [-1.38535265  0.32841405 -1.39706395 -1.3154443 ]\n",
      " [-1.50652052  0.09821729 -1.2833891  -1.3154443 ]\n",
      " [-1.02184904  1.24920112 -1.34022653 -1.3154443 ]]\n"
     ]
    }
   ],
   "source": [
    "## PC score 직접 계산 \n",
    "\n",
    "## eigen vector\n",
    "# column vector가 eigen vector가 되도록 transpose()\n",
    "print(\"eigen vector:\\n\",pca.components_)\n",
    "eigens_v = pca.components_.transpose()\n",
    "\n",
    "print(\"eigen vector transpose:\\n\", eigens_v)\n",
    "\n",
    "## centering 작업(스케일링이 되어 있어 결과값 차이 없을 것)\n",
    "print(\"centering before:\\n\", X_train_std[:5])\n",
    "\n",
    "# 2차원 행렬 변환 \n",
    "m_Xtrain_std = np.matrix(X_train_std)\n",
    "# centering (값 - 평균)\n",
    "for i in range(X_train_std.shape[1]): # 4 \n",
    "    m_Xtrain_std[:,i] = m_Xtrain_std[:,i] - np.mean(X_train_std[:,i]) \n",
    "    \n",
    "print(\"centering after:\\n\", m_Xtrain_std[:5])"
   ]
  },
  {
   "cell_type": "code",
   "execution_count": 11,
   "id": "9a86abc1",
   "metadata": {},
   "outputs": [
    {
     "data": {
      "text/plain": [
       "matrix([[-2.26470281,  0.4800266 ],\n",
       "        [-2.08096115, -0.67413356],\n",
       "        [-2.36422905, -0.34190802],\n",
       "        [-2.29938422, -0.59739451],\n",
       "        [-2.38984217,  0.64683538]])"
      ]
     },
     "execution_count": 11,
     "metadata": {},
     "output_type": "execute_result"
    }
   ],
   "source": [
    "# PC score : 데이터 * eigen vector \n",
    "(m_Xtrain_std * eigens_v)[0:5]"
   ]
  },
  {
   "cell_type": "code",
   "execution_count": 12,
   "id": "4f03abb9",
   "metadata": {},
   "outputs": [
    {
     "data": {
      "text/html": [
       "<div>\n",
       "<style scoped>\n",
       "    .dataframe tbody tr th:only-of-type {\n",
       "        vertical-align: middle;\n",
       "    }\n",
       "\n",
       "    .dataframe tbody tr th {\n",
       "        vertical-align: top;\n",
       "    }\n",
       "\n",
       "    .dataframe thead th {\n",
       "        text-align: right;\n",
       "    }\n",
       "</style>\n",
       "<table border=\"1\" class=\"dataframe\">\n",
       "  <thead>\n",
       "    <tr style=\"text-align: right;\">\n",
       "      <th></th>\n",
       "      <th>principal component1</th>\n",
       "      <th>principal component2</th>\n",
       "    </tr>\n",
       "  </thead>\n",
       "  <tbody>\n",
       "    <tr>\n",
       "      <th>0</th>\n",
       "      <td>-2.264703</td>\n",
       "      <td>0.480027</td>\n",
       "    </tr>\n",
       "    <tr>\n",
       "      <th>1</th>\n",
       "      <td>-2.080961</td>\n",
       "      <td>-0.674134</td>\n",
       "    </tr>\n",
       "    <tr>\n",
       "      <th>2</th>\n",
       "      <td>-2.364229</td>\n",
       "      <td>-0.341908</td>\n",
       "    </tr>\n",
       "    <tr>\n",
       "      <th>3</th>\n",
       "      <td>-2.299384</td>\n",
       "      <td>-0.597395</td>\n",
       "    </tr>\n",
       "    <tr>\n",
       "      <th>4</th>\n",
       "      <td>-2.389842</td>\n",
       "      <td>0.646835</td>\n",
       "    </tr>\n",
       "  </tbody>\n",
       "</table>\n",
       "</div>"
      ],
      "text/plain": [
       "   principal component1  principal component2\n",
       "0             -2.264703              0.480027\n",
       "1             -2.080961             -0.674134\n",
       "2             -2.364229             -0.341908\n",
       "3             -2.299384             -0.597395\n",
       "4             -2.389842              0.646835"
      ]
     },
     "execution_count": 12,
     "metadata": {},
     "output_type": "execute_result"
    }
   ],
   "source": [
    "# pca 함수로 계산한 pc score 확인 \n",
    "pca_Df.head()"
   ]
  },
  {
   "cell_type": "code",
   "execution_count": 13,
   "id": "52df4f41",
   "metadata": {},
   "outputs": [
    {
     "name": "stdout",
     "output_type": "stream",
     "text": [
      "[-0.90068117  1.01900435 -1.34022653 -1.3154443 ]\n",
      "\n",
      "[-2.26470281  0.4800266 ]\n",
      "[[-2.26470281  0.4800266 ]]\n"
     ]
    },
    {
     "data": {
      "text/plain": [
       "array([-0.99888895,  1.05319838, -1.30270654, -1.24709825])"
      ]
     },
     "execution_count": 13,
     "metadata": {},
     "output_type": "execute_result"
    }
   ],
   "source": [
    "# 원 데이터 \n",
    "print(X_train_std[0])\n",
    "print()\n",
    "\n",
    "# pca 함수로 계산한 PC Score\n",
    "print(pc_score[0])\n",
    "\n",
    "# 계산한 PC Score\n",
    "print((m_Xtrain_std * eigens_v)[0])\n",
    "\n",
    "#  PC Score -> 원 데이터  \n",
    "pca.inverse_transform(pc_score[0])"
   ]
  },
  {
   "cell_type": "code",
   "execution_count": 14,
   "id": "779e495d",
   "metadata": {},
   "outputs": [
    {
     "name": "stdout",
     "output_type": "stream",
     "text": [
      "[0.72962445 0.22850762]\n",
      "0.9581320720000164\n"
     ]
    }
   ],
   "source": [
    "# 분산량의 설명량\n",
    "print(pca.explained_variance_ratio_)\n",
    "\n",
    "# 두 개의 주성분이 전체 분산의 약 96%를 설명\n",
    "print(sum(pca.explained_variance_ratio_))"
   ]
  },
  {
   "cell_type": "code",
   "execution_count": 15,
   "id": "1289a94d",
   "metadata": {},
   "outputs": [
    {
     "data": {
      "image/png": "[encoded data removed]",
      "text/plain": [
       "<Figure size 504x360 with 1 Axes>"
      ]
     },
     "metadata": {},
     "output_type": "display_data"
    }
   ],
   "source": [
    "##  시각화 \n",
    "pca_Df['target'] = train_target \n",
    "\n",
    "fig = plt.figure(figsize = (7, 5))\n",
    "ax = fig.add_subplot(1, 1, 1)\n",
    "ax.set_xlabel('Principal Component 1', fontsize = 10)\n",
    "ax.set_ylabel('Principal Component 2', fontsize = 10)\n",
    "ax.set_title('2 component PCA', fontsize=15)\n",
    "\n",
    "targets = [0,1,2]\n",
    "colors = ['r', 'g', 'b']\n",
    "for target, color in zip(targets,colors):\n",
    "    indicesToKeep = pca_Df['target'] == target\n",
    "    ax.scatter(pca_Df.loc[indicesToKeep, 'principal component1']\n",
    "               , pca_Df.loc[indicesToKeep, 'principal component2']\n",
    "               , c = color\n",
    "               , s = 50)\n",
    "ax.legend(targets)\n",
    "ax.grid()"
   ]
  },
  {
   "cell_type": "markdown",
   "id": "a0871590",
   "metadata": {},
   "source": [
    "### 3개의 주성분 확인 "
   ]
  },
  {
   "cell_type": "code",
   "execution_count": 16,
   "id": "4b231272",
   "metadata": {},
   "outputs": [
    {
     "name": "stdout",
     "output_type": "stream",
     "text": [
      "[0.72962445 0.22850762 0.03668922]\n",
      "0.9948212908928451\n"
     ]
    }
   ],
   "source": [
    "## 3개의 주성분 확인, 분산량 높은 것 확인 위함 \n",
    "pca3 = PCA(n_components=3)\n",
    "\n",
    "pc3_score = pca3.fit_transform(X_train_std)\n",
    "\n",
    "pc3_DF = pd.DataFrame(data=pc3_score, columns = ['PC1', 'PC2', 'PC3'])\n",
    "print(pca3.explained_variance_ratio_) # 3번째 주성분은 설명량 0.03(낮음) \n",
    "print(sum(pca3.explained_variance_ratio_))"
   ]
  },
  {
   "cell_type": "markdown",
   "id": "7f4ca20e",
   "metadata": {},
   "source": [
    "### PC score를 이용한 SVM 분류 성능 확인"
   ]
  },
  {
   "cell_type": "code",
   "execution_count": 17,
   "id": "6d9f4956",
   "metadata": {},
   "outputs": [],
   "source": [
    "## SVM 패키지 임포트 \n",
    "from sklearn.svm import SVC \n",
    "\n",
    "# 선형 SVM, C = 1\n",
    "model_svm = SVC(kernel='linear', C = 1.5, random_state = 20)"
   ]
  },
  {
   "cell_type": "code",
   "execution_count": 18,
   "id": "3f1f28f0",
   "metadata": {},
   "outputs": [
    {
     "name": "stdout",
     "output_type": "stream",
     "text": [
      "0.9666666666666667\n",
      "(array([68, 70, 72, 77, 83], dtype=int64),)\n"
     ]
    }
   ],
   "source": [
    "## 오리지널 데이터 모델링\n",
    "model_svm.fit(X_train_std,train_target) \n",
    "\n",
    "# 모델 성능 확인 \n",
    "print(model_svm.score(X_train_std,train_target))\n",
    "\n",
    "# 오류 데이터 확인 \n",
    "model_svm_pred = model_svm.predict(X_train_std)\n",
    "print(np.where(train_target!=model_svm_pred))"
   ]
  },
  {
   "cell_type": "code",
   "execution_count": 19,
   "id": "997cff31",
   "metadata": {},
   "outputs": [
    {
     "name": "stdout",
     "output_type": "stream",
     "text": [
      "0.9133333333333333\n",
      "(array([ 52,  54,  68,  72,  76,  77,  83,  87, 106, 121, 127, 138, 149],\n",
      "      dtype=int64),)\n"
     ]
    }
   ],
   "source": [
    "## PCA2 데이터 모델링 \n",
    "\n",
    "X_train_PCA = pca_Df[[\"principal component1\",\"principal component2\"]]\n",
    "\n",
    "model_svm.fit(X_train_PCA,train_target) \n",
    "\n",
    "# 모델 성능 확인 \n",
    "print(model_svm.score(X_train_PCA,train_target))\n",
    "\n",
    "# 오류 데이터 확인 \n",
    "model_svm_pca_pred = model_svm.predict(X_train_PCA)\n",
    "print(np.where(train_target!=model_svm_pca_pred))"
   ]
  },
  {
   "cell_type": "code",
   "execution_count": 20,
   "id": "6a6100c3",
   "metadata": {},
   "outputs": [
    {
     "name": "stdout",
     "output_type": "stream",
     "text": [
      "0.96\n",
      "(array([ 68,  70,  72,  77,  83, 133], dtype=int64),)\n"
     ]
    }
   ],
   "source": [
    "## PCA3 데이터 모델링 \n",
    "X_train_PCA3 = pc3_DF[[\"PC1\",\"PC2\",\"PC3\"]]\n",
    "\n",
    "model_svm.fit(X_train_PCA3,train_target) \n",
    "\n",
    "# 모델 성능 확인 \n",
    "print(model_svm.score(X_train_PCA3,train_target))\n",
    "\n",
    "# 오류 데이터 확인 \n",
    "model_svm_pca3_pred = model_svm.predict(X_train_PCA3)\n",
    "print(np.where(train_target!=model_svm_pca3_pred))"
   ]
  },
  {
   "cell_type": "code",
   "execution_count": null,
   "id": "87f03ba6",
   "metadata": {},
   "outputs": [],
   "source": []
  }
 ],
 "metadata": {
  "kernelspec": {
   "display_name": "Python 3",
   "language": "python",
   "name": "python3"
  },
  "language_info": {
   "codemirror_mode": {
    "name": "ipython",
    "version": 3
   },
   "file_extension": ".py",
   "mimetype": "text/x-python",
   "name": "python",
   "nbconvert_exporter": "python",
   "pygments_lexer": "ipython3",
   "version": "3.6.13"
  }
 },
 "nbformat": 4,
 "nbformat_minor": 5
}
