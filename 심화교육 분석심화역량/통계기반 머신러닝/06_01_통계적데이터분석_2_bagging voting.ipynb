{
 "cells": [
  {
   "cell_type": "markdown",
   "id": "375fe75e",
   "metadata": {},
   "source": [
    "# 앙상블 알고리즘 "
   ]
  },
  {
   "cell_type": "markdown",
   "id": "a11a0636",
   "metadata": {},
   "source": [
    "# 배깅(Bagging, Bootstrap Aggregating)"
   ]
  },
  {
   "cell_type": "markdown",
   "id": "b57d29cc",
   "metadata": {},
   "source": [
    "## Bagging 구현 - BaggingRegressor\n",
    "\n",
    "### from sklearn.ensemble import BaggingRegressor\n",
    "- base_estimator : 앙상블 학습을 위한 베이스 예측기 (Decision Tree, SVM, LogisticRegression 등)\n",
    "- n_estimators : 앙상블에 사용할 분류기의 수\n",
    "- bootstrap : True는 배깅, False는 페이스팅(비복원)\n",
    "- n_jobs : fit, predict에 사용할 CPU 코어 수 지정 (None(=1)이 기본값, -1로 설정하면 모든 프로세서를 다 사용)\n",
    "- oob_score : True로 설정하면 자동으로 oob평가 수행"
   ]
  },
  {
   "cell_type": "markdown",
   "id": "c600b708",
   "metadata": {},
   "source": [
    "###  라이브러리 임포트 "
   ]
  },
  {
   "cell_type": "code",
   "execution_count": 1,
   "id": "9da559cd",
   "metadata": {},
   "outputs": [],
   "source": [
    "# 패키지 임포트 \n",
    "import os \n",
    "import warnings\n",
    "# FutureWarning 제거\n",
    "warnings.simplefilter(action='ignore', category=FutureWarning) \n",
    "\n",
    "import pandas as pd # pandas package\n",
    "import numpy as np  # numpy package  \n",
    "from scipy import stats  # Scipy Package \n",
    "\n",
    "from sklearn.model_selection import train_test_split #데이터셋 분리 \n",
    "from sklearn.preprocessing import StandardScaler\n",
    "\n",
    "# 시각화 패키지 \n",
    "import matplotlib.pyplot as plt #  matplotlib 시각화 패키지 \n",
    "import seaborn as sns\n",
    "%matplotlib inline\n",
    "\n",
    "# os에 따른 Font 깨짐 제거를 위해 Font 지정 \n",
    "import os \n",
    "if os.name == 'nt' :  # Windows OS \n",
    "    font_family = \"Malgun Gothic\"\n",
    "else: # MAC OS \n",
    "    font_family = \"AppleGothic\"\n",
    "    \n",
    "# - 값이 깨지는 문제 해결을 위해 파라미터 값 설정 \n",
    "sns.set(font=font_family, rc ={\"axes.unicode_minus\" : False})  "
   ]
  },
  {
   "cell_type": "code",
   "execution_count": 3,
   "id": "26cd257e",
   "metadata": {},
   "outputs": [
    {
     "name": "stdout",
     "output_type": "stream",
     "text": [
      "(506, 14)\n"
     ]
    }
   ],
   "source": [
    "## Boston Housing Price (보스턴 주택 가격 데이터)\n",
    "from sklearn.datasets import load_boston\n",
    "\n",
    "data_b = load_boston()\n",
    "\n",
    "df_b = pd.DataFrame(data_b.data, columns=data_b.feature_names)\n",
    "df_b['MEDV'] = data_b.target\n",
    "print(df_b.shape)\n",
    "# df_b.head()\n",
    "\n",
    "# 전체 속성 적용 \n",
    "X_train_b, X_test_b, y_train_b, y_test_b = train_test_split(data_b.data, \n",
    "                                                            data_b.target,\n",
    "                                                            test_size=0.2, \n",
    "                                                            random_state=20)"
   ]
  },
  {
   "cell_type": "code",
   "execution_count": 4,
   "id": "632451f8",
   "metadata": {},
   "outputs": [
    {
     "data": {
      "text/html": [
       "<table class=\"simpletable\">\n",
       "<caption>OLS Regression Results</caption>\n",
       "<tr>\n",
       "  <th>Dep. Variable:</th>            <td>y</td>        <th>  R-squared:         </th> <td>   0.736</td> \n",
       "</tr>\n",
       "<tr>\n",
       "  <th>Model:</th>                   <td>OLS</td>       <th>  Adj. R-squared:    </th> <td>   0.727</td> \n",
       "</tr>\n",
       "<tr>\n",
       "  <th>Method:</th>             <td>Least Squares</td>  <th>  F-statistic:       </th> <td>   83.64</td> \n",
       "</tr>\n",
       "<tr>\n",
       "  <th>Date:</th>             <td>Wed, 20 Jul 2022</td> <th>  Prob (F-statistic):</th> <td>4.51e-104</td>\n",
       "</tr>\n",
       "<tr>\n",
       "  <th>Time:</th>                 <td>22:02:24</td>     <th>  Log-Likelihood:    </th> <td> -1211.4</td> \n",
       "</tr>\n",
       "<tr>\n",
       "  <th>No. Observations:</th>      <td>   404</td>      <th>  AIC:               </th> <td>   2451.</td> \n",
       "</tr>\n",
       "<tr>\n",
       "  <th>Df Residuals:</th>          <td>   390</td>      <th>  BIC:               </th> <td>   2507.</td> \n",
       "</tr>\n",
       "<tr>\n",
       "  <th>Df Model:</th>              <td>    13</td>      <th>                     </th>     <td> </td>    \n",
       "</tr>\n",
       "<tr>\n",
       "  <th>Covariance Type:</th>      <td>nonrobust</td>    <th>                     </th>     <td> </td>    \n",
       "</tr>\n",
       "</table>\n",
       "<table class=\"simpletable\">\n",
       "<tr>\n",
       "    <td></td>       <th>coef</th>     <th>std err</th>      <th>t</th>      <th>P>|t|</th>  <th>[0.025</th>    <th>0.975]</th>  \n",
       "</tr>\n",
       "<tr>\n",
       "  <th>const</th> <td>   36.2252</td> <td>    5.841</td> <td>    6.201</td> <td> 0.000</td> <td>   24.741</td> <td>   47.710</td>\n",
       "</tr>\n",
       "<tr>\n",
       "  <th>x1</th>    <td>   -0.0699</td> <td>    0.043</td> <td>   -1.638</td> <td> 0.102</td> <td>   -0.154</td> <td>    0.014</td>\n",
       "</tr>\n",
       "<tr>\n",
       "  <th>x2</th>    <td>    0.0408</td> <td>    0.016</td> <td>    2.560</td> <td> 0.011</td> <td>    0.009</td> <td>    0.072</td>\n",
       "</tr>\n",
       "<tr>\n",
       "  <th>x3</th>    <td>    0.0469</td> <td>    0.072</td> <td>    0.656</td> <td> 0.512</td> <td>   -0.094</td> <td>    0.188</td>\n",
       "</tr>\n",
       "<tr>\n",
       "  <th>x4</th>    <td>    2.9488</td> <td>    0.980</td> <td>    3.007</td> <td> 0.003</td> <td>    1.021</td> <td>    4.876</td>\n",
       "</tr>\n",
       "<tr>\n",
       "  <th>x5</th>    <td>  -21.2030</td> <td>    4.608</td> <td>   -4.601</td> <td> 0.000</td> <td>  -30.263</td> <td>  -12.143</td>\n",
       "</tr>\n",
       "<tr>\n",
       "  <th>x6</th>    <td>    3.7515</td> <td>    0.478</td> <td>    7.841</td> <td> 0.000</td> <td>    2.811</td> <td>    4.692</td>\n",
       "</tr>\n",
       "<tr>\n",
       "  <th>x7</th>    <td>    0.0186</td> <td>    0.015</td> <td>    1.203</td> <td> 0.230</td> <td>   -0.012</td> <td>    0.049</td>\n",
       "</tr>\n",
       "<tr>\n",
       "  <th>x8</th>    <td>   -1.3352</td> <td>    0.231</td> <td>   -5.784</td> <td> 0.000</td> <td>   -1.789</td> <td>   -0.881</td>\n",
       "</tr>\n",
       "<tr>\n",
       "  <th>x9</th>    <td>    0.2718</td> <td>    0.075</td> <td>    3.611</td> <td> 0.000</td> <td>    0.124</td> <td>    0.420</td>\n",
       "</tr>\n",
       "<tr>\n",
       "  <th>x10</th>   <td>   -0.0112</td> <td>    0.004</td> <td>   -2.647</td> <td> 0.008</td> <td>   -0.020</td> <td>   -0.003</td>\n",
       "</tr>\n",
       "<tr>\n",
       "  <th>x11</th>   <td>   -0.9020</td> <td>    0.155</td> <td>   -5.827</td> <td> 0.000</td> <td>   -1.206</td> <td>   -0.598</td>\n",
       "</tr>\n",
       "<tr>\n",
       "  <th>x12</th>   <td>    0.0091</td> <td>    0.003</td> <td>    2.906</td> <td> 0.004</td> <td>    0.003</td> <td>    0.015</td>\n",
       "</tr>\n",
       "<tr>\n",
       "  <th>x13</th>   <td>   -0.5663</td> <td>    0.058</td> <td>   -9.778</td> <td> 0.000</td> <td>   -0.680</td> <td>   -0.452</td>\n",
       "</tr>\n",
       "</table>\n",
       "<table class=\"simpletable\">\n",
       "<tr>\n",
       "  <th>Omnibus:</th>       <td>146.491</td> <th>  Durbin-Watson:     </th> <td>   1.944</td> \n",
       "</tr>\n",
       "<tr>\n",
       "  <th>Prob(Omnibus):</th> <td> 0.000</td>  <th>  Jarque-Bera (JB):  </th> <td> 594.882</td> \n",
       "</tr>\n",
       "<tr>\n",
       "  <th>Skew:</th>          <td> 1.567</td>  <th>  Prob(JB):          </th> <td>6.65e-130</td>\n",
       "</tr>\n",
       "<tr>\n",
       "  <th>Kurtosis:</th>      <td> 8.052</td>  <th>  Cond. No.          </th> <td>1.52e+04</td> \n",
       "</tr>\n",
       "</table><br/><br/>Notes:<br/>[1] Standard Errors assume that the covariance matrix of the errors is correctly specified.<br/>[2] The condition number is large, 1.52e+04. This might indicate that there are<br/>strong multicollinearity or other numerical problems."
      ],
      "text/plain": [
       "<class 'statsmodels.iolib.summary.Summary'>\n",
       "\"\"\"\n",
       "                            OLS Regression Results                            \n",
       "==============================================================================\n",
       "Dep. Variable:                      y   R-squared:                       0.736\n",
       "Model:                            OLS   Adj. R-squared:                  0.727\n",
       "Method:                 Least Squares   F-statistic:                     83.64\n",
       "Date:                Wed, 20 Jul 2022   Prob (F-statistic):          4.51e-104\n",
       "Time:                        22:02:24   Log-Likelihood:                -1211.4\n",
       "No. Observations:                 404   AIC:                             2451.\n",
       "Df Residuals:                     390   BIC:                             2507.\n",
       "Df Model:                          13                                         \n",
       "Covariance Type:            nonrobust                                         \n",
       "==============================================================================\n",
       "                 coef    std err          t      P>|t|      [0.025      0.975]\n",
       "------------------------------------------------------------------------------\n",
       "const         36.2252      5.841      6.201      0.000      24.741      47.710\n",
       "x1            -0.0699      0.043     -1.638      0.102      -0.154       0.014\n",
       "x2             0.0408      0.016      2.560      0.011       0.009       0.072\n",
       "x3             0.0469      0.072      0.656      0.512      -0.094       0.188\n",
       "x4             2.9488      0.980      3.007      0.003       1.021       4.876\n",
       "x5           -21.2030      4.608     -4.601      0.000     -30.263     -12.143\n",
       "x6             3.7515      0.478      7.841      0.000       2.811       4.692\n",
       "x7             0.0186      0.015      1.203      0.230      -0.012       0.049\n",
       "x8            -1.3352      0.231     -5.784      0.000      -1.789      -0.881\n",
       "x9             0.2718      0.075      3.611      0.000       0.124       0.420\n",
       "x10           -0.0112      0.004     -2.647      0.008      -0.020      -0.003\n",
       "x11           -0.9020      0.155     -5.827      0.000      -1.206      -0.598\n",
       "x12            0.0091      0.003      2.906      0.004       0.003       0.015\n",
       "x13           -0.5663      0.058     -9.778      0.000      -0.680      -0.452\n",
       "==============================================================================\n",
       "Omnibus:                      146.491   Durbin-Watson:                   1.944\n",
       "Prob(Omnibus):                  0.000   Jarque-Bera (JB):              594.882\n",
       "Skew:                           1.567   Prob(JB):                    6.65e-130\n",
       "Kurtosis:                       8.052   Cond. No.                     1.52e+04\n",
       "==============================================================================\n",
       "\n",
       "Notes:\n",
       "[1] Standard Errors assume that the covariance matrix of the errors is correctly specified.\n",
       "[2] The condition number is large, 1.52e+04. This might indicate that there are\n",
       "strong multicollinearity or other numerical problems.\n",
       "\"\"\""
      ]
     },
     "execution_count": 4,
     "metadata": {},
     "output_type": "execute_result"
    }
   ],
   "source": [
    "## 선형회귀 OLS 적합 과정\n",
    "# stats model, OLS(## 선형회귀 OLS 적합 과정)\n",
    "import statsmodels.api as sm\n",
    "from math import sqrt\n",
    "\n",
    "# b0 상수항 추가 \n",
    "sm_train_x = sm.add_constant(X_train_b, has_constant = \"add\")\n",
    "\n",
    "# OLS 모델\n",
    "sm_model = sm.OLS(y_train_b,sm_train_x)                      \n",
    "result_b = sm_model.fit()                      \n",
    "result_b.summary()"
   ]
  },
  {
   "cell_type": "code",
   "execution_count": 5,
   "id": "e1af6f53",
   "metadata": {},
   "outputs": [
    {
     "data": {
      "text/plain": [
       "4.06144702980744"
      ]
     },
     "execution_count": 5,
     "metadata": {},
     "output_type": "execute_result"
    }
   ],
   "source": [
    "## 성능 확인 \n",
    "from sklearn.metrics import mean_squared_error\n",
    "# 예측을 위한 test 상수항 추가\n",
    "sm_test_x = sm.add_constant(X_test_b, has_constant=\"add\")\n",
    "sm_model_predict = result_b.predict(sm_test_x)      # 예측\n",
    "\n",
    "sqrt(mean_squared_error(sm_model_predict, y_test_b))# RMSE 계산"
   ]
  },
  {
   "cell_type": "code",
   "execution_count": 6,
   "id": "97fae7a4",
   "metadata": {},
   "outputs": [],
   "source": [
    "## 각 변수 p-value < 0.05 미만 제거 등 정제 \n",
    "\n",
    "## 변수 선택 \n",
    "feature_columns = list(df_b.columns.difference(['INDUS', 'AGE','ZN', 'MEDV']))\n",
    "\n",
    "# 변수 확정 \n",
    "X = df_b[feature_columns] # 설명변수 "
   ]
  },
  {
   "cell_type": "code",
   "execution_count": 7,
   "id": "18dc5b16",
   "metadata": {},
   "outputs": [
    {
     "data": {
      "text/html": [
       "<div>\n",
       "<style scoped>\n",
       "    .dataframe tbody tr th:only-of-type {\n",
       "        vertical-align: middle;\n",
       "    }\n",
       "\n",
       "    .dataframe tbody tr th {\n",
       "        vertical-align: top;\n",
       "    }\n",
       "\n",
       "    .dataframe thead th {\n",
       "        text-align: right;\n",
       "    }\n",
       "</style>\n",
       "<table border=\"1\" class=\"dataframe\">\n",
       "  <thead>\n",
       "    <tr style=\"text-align: right;\">\n",
       "      <th></th>\n",
       "      <th>B</th>\n",
       "      <th>CHAS</th>\n",
       "      <th>CRIM</th>\n",
       "      <th>DIS</th>\n",
       "      <th>LSTAT</th>\n",
       "      <th>NOX</th>\n",
       "      <th>PTRATIO</th>\n",
       "      <th>RAD</th>\n",
       "      <th>RM</th>\n",
       "      <th>TAX</th>\n",
       "    </tr>\n",
       "  </thead>\n",
       "  <tbody>\n",
       "    <tr>\n",
       "      <th>0</th>\n",
       "      <td>396.90</td>\n",
       "      <td>0.0</td>\n",
       "      <td>0.00632</td>\n",
       "      <td>4.0900</td>\n",
       "      <td>4.98</td>\n",
       "      <td>0.538</td>\n",
       "      <td>15.3</td>\n",
       "      <td>1.0</td>\n",
       "      <td>6.575</td>\n",
       "      <td>296.0</td>\n",
       "    </tr>\n",
       "    <tr>\n",
       "      <th>1</th>\n",
       "      <td>396.90</td>\n",
       "      <td>0.0</td>\n",
       "      <td>0.02731</td>\n",
       "      <td>4.9671</td>\n",
       "      <td>9.14</td>\n",
       "      <td>0.469</td>\n",
       "      <td>17.8</td>\n",
       "      <td>2.0</td>\n",
       "      <td>6.421</td>\n",
       "      <td>242.0</td>\n",
       "    </tr>\n",
       "    <tr>\n",
       "      <th>2</th>\n",
       "      <td>392.83</td>\n",
       "      <td>0.0</td>\n",
       "      <td>0.02729</td>\n",
       "      <td>4.9671</td>\n",
       "      <td>4.03</td>\n",
       "      <td>0.469</td>\n",
       "      <td>17.8</td>\n",
       "      <td>2.0</td>\n",
       "      <td>7.185</td>\n",
       "      <td>242.0</td>\n",
       "    </tr>\n",
       "    <tr>\n",
       "      <th>3</th>\n",
       "      <td>394.63</td>\n",
       "      <td>0.0</td>\n",
       "      <td>0.03237</td>\n",
       "      <td>6.0622</td>\n",
       "      <td>2.94</td>\n",
       "      <td>0.458</td>\n",
       "      <td>18.7</td>\n",
       "      <td>3.0</td>\n",
       "      <td>6.998</td>\n",
       "      <td>222.0</td>\n",
       "    </tr>\n",
       "    <tr>\n",
       "      <th>4</th>\n",
       "      <td>396.90</td>\n",
       "      <td>0.0</td>\n",
       "      <td>0.06905</td>\n",
       "      <td>6.0622</td>\n",
       "      <td>5.33</td>\n",
       "      <td>0.458</td>\n",
       "      <td>18.7</td>\n",
       "      <td>3.0</td>\n",
       "      <td>7.147</td>\n",
       "      <td>222.0</td>\n",
       "    </tr>\n",
       "  </tbody>\n",
       "</table>\n",
       "</div>"
      ],
      "text/plain": [
       "        B  CHAS     CRIM     DIS  LSTAT    NOX  PTRATIO  RAD     RM    TAX\n",
       "0  396.90   0.0  0.00632  4.0900   4.98  0.538     15.3  1.0  6.575  296.0\n",
       "1  396.90   0.0  0.02731  4.9671   9.14  0.469     17.8  2.0  6.421  242.0\n",
       "2  392.83   0.0  0.02729  4.9671   4.03  0.469     17.8  2.0  7.185  242.0\n",
       "3  394.63   0.0  0.03237  6.0622   2.94  0.458     18.7  3.0  6.998  222.0\n",
       "4  396.90   0.0  0.06905  6.0622   5.33  0.458     18.7  3.0  7.147  222.0"
      ]
     },
     "execution_count": 7,
     "metadata": {},
     "output_type": "execute_result"
    }
   ],
   "source": [
    "X.head()"
   ]
  },
  {
   "cell_type": "code",
   "execution_count": 8,
   "id": "310dc56c",
   "metadata": {},
   "outputs": [
    {
     "name": "stdout",
     "output_type": "stream",
     "text": [
      "(404, 10) (102, 10) (404,) (102,)\n"
     ]
    }
   ],
   "source": [
    "## 데이터 생성 \n",
    "X_train_b, X_test_b, y_train_b, y_test_b = train_test_split(X, \n",
    "                                                            data_b.target, \n",
    "                                                            test_size=0.2, \n",
    "                                                            random_state=20)\n",
    "\n",
    "print(X_train_b.shape, X_test_b.shape, y_train_b.shape, y_test_b.shape)"
   ]
  },
  {
   "cell_type": "code",
   "execution_count": 9,
   "id": "ea0d22e1",
   "metadata": {},
   "outputs": [
    {
     "data": {
      "text/html": [
       "<table class=\"simpletable\">\n",
       "<caption>OLS Regression Results</caption>\n",
       "<tr>\n",
       "  <th>Dep. Variable:</th>            <td>y</td>        <th>  R-squared:         </th> <td>   0.731</td> \n",
       "</tr>\n",
       "<tr>\n",
       "  <th>Model:</th>                   <td>OLS</td>       <th>  Adj. R-squared:    </th> <td>   0.724</td> \n",
       "</tr>\n",
       "<tr>\n",
       "  <th>Method:</th>             <td>Least Squares</td>  <th>  F-statistic:       </th> <td>   106.8</td> \n",
       "</tr>\n",
       "<tr>\n",
       "  <th>Date:</th>             <td>Wed, 20 Jul 2022</td> <th>  Prob (F-statistic):</th> <td>1.70e-105</td>\n",
       "</tr>\n",
       "<tr>\n",
       "  <th>Time:</th>                 <td>22:02:32</td>     <th>  Log-Likelihood:    </th> <td> -1215.2</td> \n",
       "</tr>\n",
       "<tr>\n",
       "  <th>No. Observations:</th>      <td>   404</td>      <th>  AIC:               </th> <td>   2452.</td> \n",
       "</tr>\n",
       "<tr>\n",
       "  <th>Df Residuals:</th>          <td>   393</td>      <th>  BIC:               </th> <td>   2496.</td> \n",
       "</tr>\n",
       "<tr>\n",
       "  <th>Df Model:</th>              <td>    10</td>      <th>                     </th>     <td> </td>    \n",
       "</tr>\n",
       "<tr>\n",
       "  <th>Covariance Type:</th>      <td>nonrobust</td>    <th>                     </th>     <td> </td>    \n",
       "</tr>\n",
       "</table>\n",
       "<table class=\"simpletable\">\n",
       "<tr>\n",
       "     <td></td>        <th>coef</th>     <th>std err</th>      <th>t</th>      <th>P>|t|</th>  <th>[0.025</th>    <th>0.975]</th>  \n",
       "</tr>\n",
       "<tr>\n",
       "  <th>const</th>   <td>   35.8025</td> <td>    5.832</td> <td>    6.139</td> <td> 0.000</td> <td>   24.336</td> <td>   47.269</td>\n",
       "</tr>\n",
       "<tr>\n",
       "  <th>B</th>       <td>    0.0094</td> <td>    0.003</td> <td>    3.014</td> <td> 0.003</td> <td>    0.003</td> <td>    0.016</td>\n",
       "</tr>\n",
       "<tr>\n",
       "  <th>CHAS</th>    <td>    3.0830</td> <td>    0.978</td> <td>    3.153</td> <td> 0.002</td> <td>    1.161</td> <td>    5.005</td>\n",
       "</tr>\n",
       "<tr>\n",
       "  <th>CRIM</th>    <td>   -0.0605</td> <td>    0.043</td> <td>   -1.418</td> <td> 0.157</td> <td>   -0.144</td> <td>    0.023</td>\n",
       "</tr>\n",
       "<tr>\n",
       "  <th>DIS</th>     <td>   -1.1871</td> <td>    0.186</td> <td>   -6.378</td> <td> 0.000</td> <td>   -1.553</td> <td>   -0.821</td>\n",
       "</tr>\n",
       "<tr>\n",
       "  <th>LSTAT</th>   <td>   -0.5416</td> <td>    0.055</td> <td>   -9.792</td> <td> 0.000</td> <td>   -0.650</td> <td>   -0.433</td>\n",
       "</tr>\n",
       "<tr>\n",
       "  <th>NOX</th>     <td>  -19.6940</td> <td>    4.232</td> <td>   -4.653</td> <td> 0.000</td> <td>  -28.015</td> <td>  -11.373</td>\n",
       "</tr>\n",
       "<tr>\n",
       "  <th>PTRATIO</th> <td>   -0.9841</td> <td>    0.146</td> <td>   -6.750</td> <td> 0.000</td> <td>   -1.271</td> <td>   -0.697</td>\n",
       "</tr>\n",
       "<tr>\n",
       "  <th>RAD</th>     <td>    0.2382</td> <td>    0.072</td> <td>    3.312</td> <td> 0.001</td> <td>    0.097</td> <td>    0.380</td>\n",
       "</tr>\n",
       "<tr>\n",
       "  <th>RM</th>      <td>    3.9752</td> <td>    0.465</td> <td>    8.545</td> <td> 0.000</td> <td>    3.061</td> <td>    4.890</td>\n",
       "</tr>\n",
       "<tr>\n",
       "  <th>TAX</th>     <td>   -0.0082</td> <td>    0.004</td> <td>   -2.186</td> <td> 0.029</td> <td>   -0.016</td> <td>   -0.001</td>\n",
       "</tr>\n",
       "</table>\n",
       "<table class=\"simpletable\">\n",
       "<tr>\n",
       "  <th>Omnibus:</th>       <td>154.085</td> <th>  Durbin-Watson:     </th> <td>   1.953</td> \n",
       "</tr>\n",
       "<tr>\n",
       "  <th>Prob(Omnibus):</th> <td> 0.000</td>  <th>  Jarque-Bera (JB):  </th> <td> 668.484</td> \n",
       "</tr>\n",
       "<tr>\n",
       "  <th>Skew:</th>          <td> 1.632</td>  <th>  Prob(JB):          </th> <td>6.93e-146</td>\n",
       "</tr>\n",
       "<tr>\n",
       "  <th>Kurtosis:</th>      <td> 8.391</td>  <th>  Cond. No.          </th> <td>1.46e+04</td> \n",
       "</tr>\n",
       "</table><br/><br/>Notes:<br/>[1] Standard Errors assume that the covariance matrix of the errors is correctly specified.<br/>[2] The condition number is large, 1.46e+04. This might indicate that there are<br/>strong multicollinearity or other numerical problems."
      ],
      "text/plain": [
       "<class 'statsmodels.iolib.summary.Summary'>\n",
       "\"\"\"\n",
       "                            OLS Regression Results                            \n",
       "==============================================================================\n",
       "Dep. Variable:                      y   R-squared:                       0.731\n",
       "Model:                            OLS   Adj. R-squared:                  0.724\n",
       "Method:                 Least Squares   F-statistic:                     106.8\n",
       "Date:                Wed, 20 Jul 2022   Prob (F-statistic):          1.70e-105\n",
       "Time:                        22:02:32   Log-Likelihood:                -1215.2\n",
       "No. Observations:                 404   AIC:                             2452.\n",
       "Df Residuals:                     393   BIC:                             2496.\n",
       "Df Model:                          10                                         \n",
       "Covariance Type:            nonrobust                                         \n",
       "==============================================================================\n",
       "                 coef    std err          t      P>|t|      [0.025      0.975]\n",
       "------------------------------------------------------------------------------\n",
       "const         35.8025      5.832      6.139      0.000      24.336      47.269\n",
       "B              0.0094      0.003      3.014      0.003       0.003       0.016\n",
       "CHAS           3.0830      0.978      3.153      0.002       1.161       5.005\n",
       "CRIM          -0.0605      0.043     -1.418      0.157      -0.144       0.023\n",
       "DIS           -1.1871      0.186     -6.378      0.000      -1.553      -0.821\n",
       "LSTAT         -0.5416      0.055     -9.792      0.000      -0.650      -0.433\n",
       "NOX          -19.6940      4.232     -4.653      0.000     -28.015     -11.373\n",
       "PTRATIO       -0.9841      0.146     -6.750      0.000      -1.271      -0.697\n",
       "RAD            0.2382      0.072      3.312      0.001       0.097       0.380\n",
       "RM             3.9752      0.465      8.545      0.000       3.061       4.890\n",
       "TAX           -0.0082      0.004     -2.186      0.029      -0.016      -0.001\n",
       "==============================================================================\n",
       "Omnibus:                      154.085   Durbin-Watson:                   1.953\n",
       "Prob(Omnibus):                  0.000   Jarque-Bera (JB):              668.484\n",
       "Skew:                           1.632   Prob(JB):                    6.93e-146\n",
       "Kurtosis:                       8.391   Cond. No.                     1.46e+04\n",
       "==============================================================================\n",
       "\n",
       "Notes:\n",
       "[1] Standard Errors assume that the covariance matrix of the errors is correctly specified.\n",
       "[2] The condition number is large, 1.46e+04. This might indicate that there are\n",
       "strong multicollinearity or other numerical problems.\n",
       "\"\"\""
      ]
     },
     "execution_count": 9,
     "metadata": {},
     "output_type": "execute_result"
    }
   ],
   "source": [
    "## 선형회귀 OLS 적합 과정\n",
    "# b0 상수항 추가 \n",
    "sm_train_x = sm.add_constant(X_train_b, has_constant = \"add\")\n",
    "\n",
    "sm_model = sm.OLS(y_train_b,sm_train_x) # OLS 모델                     \n",
    "result_a = sm_model.fit()                         \n",
    "result_a.summary()"
   ]
  },
  {
   "cell_type": "code",
   "execution_count": 10,
   "id": "f07dd6ce",
   "metadata": {},
   "outputs": [
    {
     "data": {
      "text/plain": [
       "4.097827424874227"
      ]
     },
     "execution_count": 10,
     "metadata": {},
     "output_type": "execute_result"
    }
   ],
   "source": [
    "# 예측을 위한 test 상수항 추가\n",
    "sm_test_x = sm.add_constant(X_test_b, has_constant=\"add\") \n",
    "\n",
    "sm_model_predict = result_a.predict(sm_test_x)      # 예측\n",
    "\n",
    "## RMSE 결과: 0에 가까울 수록 좋은 성능 \n",
    "sqrt(mean_squared_error(sm_model_predict, y_test_b))  "
   ]
  },
  {
   "cell_type": "code",
   "execution_count": 11,
   "id": "3d4fdc29",
   "metadata": {},
   "outputs": [
    {
     "data": {
      "text/html": [
       "<div>\n",
       "<style scoped>\n",
       "    .dataframe tbody tr th:only-of-type {\n",
       "        vertical-align: middle;\n",
       "    }\n",
       "\n",
       "    .dataframe tbody tr th {\n",
       "        vertical-align: top;\n",
       "    }\n",
       "\n",
       "    .dataframe thead th {\n",
       "        text-align: right;\n",
       "    }\n",
       "</style>\n",
       "<table border=\"1\" class=\"dataframe\">\n",
       "  <thead>\n",
       "    <tr style=\"text-align: right;\">\n",
       "      <th></th>\n",
       "      <th>B</th>\n",
       "      <th>CHAS</th>\n",
       "      <th>CRIM</th>\n",
       "      <th>DIS</th>\n",
       "      <th>LSTAT</th>\n",
       "      <th>NOX</th>\n",
       "      <th>PTRATIO</th>\n",
       "      <th>RAD</th>\n",
       "      <th>RM</th>\n",
       "      <th>TAX</th>\n",
       "    </tr>\n",
       "  </thead>\n",
       "  <tbody>\n",
       "    <tr>\n",
       "      <th>7</th>\n",
       "      <td>396.9</td>\n",
       "      <td>0.0</td>\n",
       "      <td>0.14455</td>\n",
       "      <td>5.9505</td>\n",
       "      <td>19.15</td>\n",
       "      <td>0.524</td>\n",
       "      <td>15.2</td>\n",
       "      <td>5.0</td>\n",
       "      <td>6.172</td>\n",
       "      <td>311.0</td>\n",
       "    </tr>\n",
       "    <tr>\n",
       "      <th>268</th>\n",
       "      <td>390.3</td>\n",
       "      <td>0.0</td>\n",
       "      <td>0.54050</td>\n",
       "      <td>2.8720</td>\n",
       "      <td>3.16</td>\n",
       "      <td>0.575</td>\n",
       "      <td>13.0</td>\n",
       "      <td>5.0</td>\n",
       "      <td>7.470</td>\n",
       "      <td>264.0</td>\n",
       "    </tr>\n",
       "    <tr>\n",
       "      <th>80</th>\n",
       "      <td>396.9</td>\n",
       "      <td>0.0</td>\n",
       "      <td>0.04113</td>\n",
       "      <td>5.4007</td>\n",
       "      <td>5.29</td>\n",
       "      <td>0.426</td>\n",
       "      <td>19.0</td>\n",
       "      <td>4.0</td>\n",
       "      <td>6.727</td>\n",
       "      <td>281.0</td>\n",
       "    </tr>\n",
       "  </tbody>\n",
       "</table>\n",
       "</div>"
      ],
      "text/plain": [
       "         B  CHAS     CRIM     DIS  LSTAT    NOX  PTRATIO  RAD     RM    TAX\n",
       "7    396.9   0.0  0.14455  5.9505  19.15  0.524     15.2  5.0  6.172  311.0\n",
       "268  390.3   0.0  0.54050  2.8720   3.16  0.575     13.0  5.0  7.470  264.0\n",
       "80   396.9   0.0  0.04113  5.4007   5.29  0.426     19.0  4.0  6.727  281.0"
      ]
     },
     "execution_count": 11,
     "metadata": {},
     "output_type": "execute_result"
    }
   ],
   "source": [
    "# 데이터 확인 \n",
    "X_train_b.head(3)"
   ]
  },
  {
   "cell_type": "code",
   "execution_count": 12,
   "id": "2318f6ca",
   "metadata": {},
   "outputs": [
    {
     "name": "stdout",
     "output_type": "stream",
     "text": [
      "RMSE: 4.09782742487422\n"
     ]
    }
   ],
   "source": [
    "## 선형 회귀 모델 생성 및 결과 확인 \n",
    "from sklearn.linear_model import LinearRegression\n",
    "\n",
    "# 선형 회귀 모형\n",
    "linear_model1 = LinearRegression() \n",
    "linear_model1 = linear_model1.fit(X_train_b, y_train_b) \n",
    "\n",
    "predict1 = linear_model1.predict(X_test_b) \n",
    "\n",
    "# RMSE 결과\n",
    "print(\"RMSE: {}\".format(sqrt(mean_squared_error(predict1, y_test_b)))) "
   ]
  },
  {
   "cell_type": "code",
   "execution_count": 13,
   "id": "e5965a09",
   "metadata": {},
   "outputs": [
    {
     "name": "stdout",
     "output_type": "stream",
     "text": [
      "RMSE: 4.109821752028007\n"
     ]
    }
   ],
   "source": [
    "## Bagging regressor 진행\n",
    "from sklearn.ensemble import BaggingRegressor\n",
    "\n",
    "# 선형 학습모델을 parameter로 입력 \n",
    "bagging_model = BaggingRegressor(base_estimator = linear_model1, # 선형회귀모형\n",
    "                                 n_estimators = 100, # 100개의 분류기(샘플링 수)\n",
    "                                 verbose = 0 ) # 1 :학습 과정 표시 \n",
    "\n",
    "bagging_model = bagging_model.fit(X_train_b, y_train_b) # 학습 진행\n",
    "\n",
    "predict2 = bagging_model.predict(X_test_b) # 학습된 Bagging 선형 회귀 모형으로 평가 데이터 예측\n",
    "\n",
    "print(\"RMSE: {}\".format(sqrt(mean_squared_error(predict2, y_test_b)))) # RMSE 결과\n"
   ]
  },
  {
   "cell_type": "code",
   "execution_count": null,
   "id": "00760722",
   "metadata": {},
   "outputs": [],
   "source": []
  },
  {
   "cell_type": "markdown",
   "id": "43f2645b",
   "metadata": {},
   "source": [
    "## Bagging 구현 - BaggingClassifier \n",
    "### from sklearn.ensemble import BaggingClassifier\n",
    "- base_estimator : 앙상블 학습을 위한 베이스 예측기 (Decision Tree, SVM, LogisticRegression 등)\n",
    "- n_estimators : 앙상블에 사용할 분류기의 수\n",
    "- bootstrap : True는 배깅, False는 페이스팅(비복원)\n",
    "- n_jobs : fit, predict에 사용할 CPU 코어 수 지정 (None(=1)이 기본값, -1로 설정하면 모든 프로세서를 다 사용)\n",
    "- oob_score : True로 설정하면 자동으로 oob(out of bag error)평가 수행"
   ]
  },
  {
   "cell_type": "code",
   "execution_count": 14,
   "id": "20d722c0",
   "metadata": {},
   "outputs": [
    {
     "name": "stdout",
     "output_type": "stream",
     "text": [
      "[0 1]\n",
      "          0         1\n",
      "0  1.139922 -0.172155\n",
      "1  2.134988  0.233241\n",
      "2  1.745228  0.186196\n"
     ]
    },
    {
     "data": {
      "image/png": "[encoded data removed]",
      "text/plain": [
       "<Figure size 504x360 with 1 Axes>"
      ]
     },
     "metadata": {},
     "output_type": "display_data"
    }
   ],
   "source": [
    "## 데이터 셋 생성 \n",
    "# moon dataset\n",
    "from sklearn.datasets import make_moons\n",
    "\n",
    "# make_moon 함수 이용 데이터 셋 생성 \n",
    "X, y = make_moons(n_samples=400, noise=0.20, random_state=20)\n",
    "\n",
    "df_m = pd.DataFrame(X)\n",
    "print(y[:2])\n",
    "print(df_m.head(3))\n",
    "\n",
    "# X 데이터의 산점도 시각화\n",
    "plt.figure(figsize=(7,5))\n",
    "plt.title(\"Before\", fontsize=15)\n",
    "sns.scatterplot(x=df_m[0], y=df_m[1], palette=\"Set2\")\n",
    "plt.grid()\n",
    "plt.show()"
   ]
  },
  {
   "cell_type": "code",
   "execution_count": 15,
   "id": "873df0b6",
   "metadata": {},
   "outputs": [
    {
     "name": "stdout",
     "output_type": "stream",
     "text": [
      "DecisionTreeClassifier 0.93\n",
      "BaggingClassifier 0.95\n",
      "oob score 0.96\n"
     ]
    }
   ],
   "source": [
    "from sklearn.ensemble import BaggingClassifier\n",
    "from sklearn.tree import DecisionTreeClassifier\n",
    "from sklearn.metrics import accuracy_score\n",
    "\n",
    "## 데이터셋 분리 \n",
    "X_train, X_test, y_train, y_test = train_test_split(X, y, random_state=20)\n",
    "\n",
    "# 결정트리 분류기 1개 학습\n",
    "tree_clf = DecisionTreeClassifier(random_state=20)\n",
    "tree_clf.fit(X_train, y_train)\n",
    "y_pred_tree = tree_clf.predict(X_test)\n",
    "print(tree_clf.__class__.__name__,accuracy_score(y_test, y_pred_tree))\n",
    "\n",
    "\n",
    "# 배깅 학습 \n",
    "bagging_clf = BaggingClassifier(DecisionTreeClassifier(),\n",
    "                               n_estimators=100,\n",
    "                               bootstrap=True,\n",
    "                               oob_score = True)\n",
    "\n",
    "bagging_clf.fit(X_train, y_train)\n",
    "y_pred = bagging_clf.predict(X_test)\n",
    "print(bagging_clf.__class__.__name__,accuracy_score(y_test, y_pred))\n",
    "\n",
    "# oob score \n",
    "print(\"oob score\", bagging_clf.oob_score_) "
   ]
  },
  {
   "cell_type": "code",
   "execution_count": 16,
   "id": "f66e096e",
   "metadata": {},
   "outputs": [
    {
     "data": {
      "image/png": "[encoded data removed]",
      "text/plain": [
       "<Figure size 792x288 with 2 Axes>"
      ]
     },
     "metadata": {},
     "output_type": "display_data"
    }
   ],
   "source": [
    "## 시각화 \n",
    "from matplotlib.colors import ListedColormap\n",
    "\n",
    "# 시각화 함수 \n",
    "def plot_decision_boundary(clf, X, y, axes=[-1.5, 2.5, -1, 1.5], alpha=0.5, contour=True):\n",
    "    x1s = np.linspace(axes[0], axes[1], 100)\n",
    "    x2s = np.linspace(axes[2], axes[3], 100)\n",
    "    x1, x2 = np.meshgrid(x1s, x2s)\n",
    "    X_new = np.c_[x1.ravel(), x2.ravel()]\n",
    "    y_pred = clf.predict(X_new).reshape(x1.shape)\n",
    "    custom_cmap = ListedColormap(['#fafab0','#9898ff','#a0faa0'])\n",
    "    plt.contourf(x1, x2, y_pred, alpha=0.3, cmap=custom_cmap)\n",
    "    if contour:\n",
    "        custom_cmap2 = ListedColormap(['#7d7d58','#4c4c7f','#507d50'])\n",
    "        plt.contour(x1, x2, y_pred, cmap=custom_cmap2, alpha=0.8)\n",
    "    plt.plot(X[:, 0][y==0], X[:, 1][y==0], \"yo\", alpha=alpha)\n",
    "    plt.plot(X[:, 0][y==1], X[:, 1][y==1], \"bs\", alpha=alpha)\n",
    "    plt.axis(axes)\n",
    "    plt.xlabel(r\"$x_1$\", fontsize=18)\n",
    "    plt.ylabel(r\"$x_2$\", fontsize=18, rotation=0)\n",
    "   \n",
    "# 시각화 \n",
    "## 전체 데이터 \n",
    "# plt.figure(figsize=(11,4))\n",
    "# plt.subplot(121)\n",
    "# plot_decision_boundary(tree_clf, X, y)\n",
    "# plt.title(\"Decision Tree\", fontsize=14)\n",
    "# plt.subplot(122)\n",
    "# plot_decision_boundary(bagging_clf, X, y)\n",
    "# plt.title(\"Decision Trees with Bagging\", fontsize=14)\n",
    "# plt.show()\n",
    "\n",
    "## 테스트 데이터 \n",
    "plt.figure(figsize=(11,4))\n",
    "plt.subplot(121)\n",
    "plot_decision_boundary(tree_clf, X_test, y_test)\n",
    "plt.title(\"Decision Tree\", fontsize=14)\n",
    "plt.subplot(122)\n",
    "plot_decision_boundary(bagging_clf, X_test, y_test)\n",
    "plt.title(\"Decision Trees with Bagging\", fontsize=14)\n",
    "plt.show()"
   ]
  },
  {
   "cell_type": "markdown",
   "id": "837053a9",
   "metadata": {},
   "source": [
    "# voting \n",
    "### from sklearn.ensemble import VotingClassifier\n",
    "- voting : 'hard'(하드보팅), 'soft'(소프트 보팅) \n",
    "\n",
    "## Hard voting "
   ]
  },
  {
   "cell_type": "code",
   "execution_count": 17,
   "id": "88056070",
   "metadata": {},
   "outputs": [],
   "source": [
    "## moon data 생성 \n",
    "X, y = make_moons(n_samples=400, noise=0.20, random_state=20)\n",
    "X_train, X_test, y_train, y_test = train_test_split(X, y, random_state=20)"
   ]
  },
  {
   "cell_type": "code",
   "execution_count": 18,
   "id": "a308706d",
   "metadata": {},
   "outputs": [
    {
     "data": {
      "text/plain": [
       "array([[ 1.13992177, -0.17215471],\n",
       "       [ 2.13498773,  0.23324088],\n",
       "       [ 1.74522753,  0.18619569],\n",
       "       [-1.10676484,  0.16556954],\n",
       "       [ 0.71347049,  0.60365725]])"
      ]
     },
     "execution_count": 18,
     "metadata": {},
     "output_type": "execute_result"
    }
   ],
   "source": [
    "X[:5]"
   ]
  },
  {
   "cell_type": "code",
   "execution_count": 19,
   "id": "478144fb",
   "metadata": {},
   "outputs": [
    {
     "data": {
      "text/plain": [
       "array([0, 1, 1, 0, 0], dtype=int64)"
      ]
     },
     "execution_count": 19,
     "metadata": {},
     "output_type": "execute_result"
    }
   ],
   "source": [
    "y[:5]"
   ]
  },
  {
   "cell_type": "code",
   "execution_count": 20,
   "id": "08c4f42a",
   "metadata": {},
   "outputs": [
    {
     "data": {
      "text/plain": [
       "VotingClassifier(estimators=[('lr', LogisticRegression(random_state=20)),\n",
       "                             ('rf', RandomForestClassifier(random_state=20)),\n",
       "                             ('svc', SVC(random_state=20))])"
      ]
     },
     "execution_count": 20,
     "metadata": {},
     "output_type": "execute_result"
    }
   ],
   "source": [
    "import warnings\n",
    "warnings.filterwarnings(action='ignore', category=DeprecationWarning)\n",
    "\n",
    "from sklearn.ensemble import VotingClassifier # voting \n",
    "from sklearn.ensemble import RandomForestClassifier # 랜덤포레스트\n",
    "from sklearn.linear_model import LogisticRegression #로지스틱 회귀\n",
    "from sklearn.svm import SVC # 서포트벡터머신\n",
    "\n",
    "## 각 분류기 정의 \n",
    "log_clf = LogisticRegression(random_state=20)\n",
    "rnd_clf = RandomForestClassifier(random_state=20)\n",
    "svm_clf = SVC(random_state=20)\n",
    "\n",
    "# 하드 보팅 \n",
    "voting_clf = VotingClassifier(estimators=[('lr', log_clf), ('rf', rnd_clf), ('svc', svm_clf)],\n",
    "                              voting='hard') # 하드 보팅 \n",
    "\n",
    "voting_clf.fit(X_train, y_train)"
   ]
  },
  {
   "cell_type": "code",
   "execution_count": 21,
   "id": "aa637065",
   "metadata": {},
   "outputs": [
    {
     "name": "stdout",
     "output_type": "stream",
     "text": [
      "LogisticRegression 0.82\n",
      "[1 0 0 1 0 0 0 0 0 0 0 0 0 1 0]\n",
      "RandomForestClassifier 0.93\n",
      "[1 0 0 1 0 0 0 0 0 0 0 0 0 0 0]\n",
      "SVC 0.94\n",
      "[1 0 0 1 0 0 0 0 0 0 0 0 0 0 0]\n",
      "VotingClassifier 0.93\n",
      "[1 0 0 1 0 0 0 0 0 0 0 0 0 0 0]\n"
     ]
    }
   ],
   "source": [
    "## 학습 및 성능 평가 \n",
    "from sklearn.metrics import accuracy_score\n",
    "\n",
    "for clf in (log_clf, rnd_clf, svm_clf, voting_clf):\n",
    "    clf.fit(X_train, y_train)\n",
    "    y_pred = clf.predict(X_test)\n",
    "    print(clf.__class__.__name__, accuracy_score(y_test, y_pred))\n",
    "    print(y_pred[:15])    "
   ]
  },
  {
   "cell_type": "markdown",
   "id": "94e8d4c4",
   "metadata": {},
   "source": [
    "## Soft voting "
   ]
  },
  {
   "cell_type": "code",
   "execution_count": 22,
   "id": "e0b219af",
   "metadata": {},
   "outputs": [
    {
     "data": {
      "text/plain": [
       "VotingClassifier(estimators=[('lr', LogisticRegression(random_state=20)),\n",
       "                             ('rf', RandomForestClassifier(random_state=20)),\n",
       "                             ('svc', SVC(probability=True, random_state=20))],\n",
       "                 voting='soft')"
      ]
     },
     "execution_count": 22,
     "metadata": {},
     "output_type": "execute_result"
    }
   ],
   "source": [
    "log_clf = LogisticRegression(random_state=20)\n",
    "rnd_clf = RandomForestClassifier(random_state=20)\n",
    "svm_clf = SVC(probability=True, random_state=20) \n",
    "\n",
    "## soft voting \n",
    "voting_clf = VotingClassifier(estimators=[('lr', log_clf), ('rf', rnd_clf), ('svc', svm_clf)],\n",
    "                              voting='soft') # soft voting \n",
    "\n",
    "voting_clf.fit(X_train, y_train)"
   ]
  },
  {
   "cell_type": "code",
   "execution_count": 23,
   "id": "cc40e75e",
   "metadata": {},
   "outputs": [
    {
     "name": "stdout",
     "output_type": "stream",
     "text": [
      "LogisticRegression 0.82\n",
      "특정 2개 값 예측\n",
      "[1 0]\n",
      "[[0.28846989 0.71153011]\n",
      " [0.74806159 0.25193841]]\n",
      "RandomForestClassifier 0.93\n",
      "특정 2개 값 예측\n",
      "[1 0]\n",
      "[[0.04 0.96]\n",
      " [0.99 0.01]]\n",
      "SVC 0.94\n",
      "특정 2개 값 예측\n",
      "[1 0]\n",
      "[[0.03036439 0.96963561]\n",
      " [0.92927303 0.07072697]]\n",
      "VotingClassifier 0.92\n",
      "특정 2개 값 예측\n",
      "[1 0]\n",
      "[[0.11961143 0.88038857]\n",
      " [0.88911154 0.11088846]]\n"
     ]
    }
   ],
   "source": [
    "## 학습 및 성능 평가 \n",
    "\n",
    "for clf in (log_clf, rnd_clf, svm_clf, voting_clf):\n",
    "    clf.fit(X_train, y_train)\n",
    "    y_pred = clf.predict(X_test)\n",
    "    print(clf.__class__.__name__, accuracy_score(y_test, y_pred))\n",
    "    # 2개에 값에 대한 결과 예측 확률\n",
    "    y_pred_proba = clf.predict_proba(X_test)\n",
    "    print(\"특정 2개 값 예측\")\n",
    "    print(y_pred[:2])\n",
    "    print(y_pred_proba[:2])"
   ]
  },
  {
   "cell_type": "code",
   "execution_count": null,
   "id": "18d92722",
   "metadata": {},
   "outputs": [],
   "source": []
  },
  {
   "cell_type": "markdown",
   "id": "8602e7b3",
   "metadata": {},
   "source": [
    "# Boosting "
   ]
  },
  {
   "cell_type": "markdown",
   "id": "196428d9",
   "metadata": {},
   "source": [
    "## Adaboosting\n",
    "### from sklearn.ensemble import AdaBoostClassifier \n",
    "- base_estimators : 학습에 사용하는 알고리즘, default : None → DecisionTreeClassifier(max_depth = 1) 이 적용\n",
    "- n_estimators : 생성할 약한 학습기의 개수를 지정, default : 50\n",
    "- learning_rate : 학습을 진행할 때마다 적용하는 학습률(0~1 사이의 값), default : 1"
   ]
  },
  {
   "cell_type": "code",
   "execution_count": 24,
   "id": "5c648279",
   "metadata": {},
   "outputs": [
    {
     "name": "stdout",
     "output_type": "stream",
     "text": [
      "[0 1]\n",
      "          0         1\n",
      "0  1.139922 -0.172155\n",
      "1  2.134988  0.233241\n",
      "2  1.745228  0.186196\n"
     ]
    },
    {
     "data": {
      "image/png": "[encoded data removed]",
      "text/plain": [
       "<Figure size 504x360 with 1 Axes>"
      ]
     },
     "metadata": {},
     "output_type": "display_data"
    }
   ],
   "source": [
    "from sklearn.datasets import make_moons\n",
    "\n",
    "## 데이터 셋 생성 \n",
    "X, y = make_moons(n_samples=400, noise=0.30, random_state=20)\n",
    "X_train, X_test, y_train, y_test = train_test_split(X, y, random_state=20)\n",
    "\n",
    "## 데이터 셋 확인 \n",
    "df_a = pd.DataFrame(X)\n",
    "print(y[:2])\n",
    "print(df_m.head(3))\n",
    "\n",
    "# x 데이터의 산점도 시각화\n",
    "plt.figure(figsize=(7,5))\n",
    "plt.title(\"Before\", fontsize=15)\n",
    "sns.scatterplot(x=df_a[0], y=df_a[1], palette=\"Set2\")\n",
    "plt.grid()\n",
    "plt.show()"
   ]
  },
  {
   "cell_type": "code",
   "execution_count": 25,
   "id": "58671299",
   "metadata": {},
   "outputs": [
    {
     "name": "stdout",
     "output_type": "stream",
     "text": [
      "기본적인 AdaBoost 정확도: 0.85\n"
     ]
    }
   ],
   "source": [
    "## 라이브러리\n",
    "from sklearn.ensemble import AdaBoostClassifier\n",
    "from sklearn.tree import DecisionTreeClassifier\n",
    "from sklearn.metrics import accuracy_score\n",
    "\n",
    "## 기본적인 AdaBoost\n",
    "clf_a = AdaBoostClassifier(n_estimators=5, random_state=20)\n",
    "clf_a.fit(X_train, y_train) \n",
    "pred=clf_a.predict(X_test)\n",
    "print(\"기본적인 AdaBoost 정확도:\", accuracy_score(y_test, pred))"
   ]
  },
  {
   "cell_type": "code",
   "execution_count": 26,
   "id": "e7c3345b",
   "metadata": {},
   "outputs": [
    {
     "name": "stdout",
     "output_type": "stream",
     "text": [
      "Decision Tree AdaBoost 정확도: 0.86\n"
     ]
    }
   ],
   "source": [
    "## DecisionTree를 활용한 Adaboost\n",
    "\n",
    "tree_clf = DecisionTreeClassifier(max_depth=5)\n",
    "clf_a_t = AdaBoostClassifier(base_estimator = tree_clf, n_estimators=5, random_state=20)\n",
    "clf_a_t.fit(X_train, y_train) \n",
    "pred=clf_a_t.predict(X_test)\n",
    "print(\"Decision Tree AdaBoost 정확도:\", accuracy_score(y_test, pred))"
   ]
  },
  {
   "cell_type": "code",
   "execution_count": 27,
   "id": "21fb0163",
   "metadata": {},
   "outputs": [
    {
     "name": "stdout",
     "output_type": "stream",
     "text": [
      "0.89\n"
     ]
    }
   ],
   "source": [
    "## DecisionTree를 활용한 Adaboost(n_estimators=100)\n",
    "\n",
    "tree_clf = DecisionTreeClassifier(max_depth=5)\n",
    "clf_a_t_100 = AdaBoostClassifier(base_estimator = tree_clf, n_estimators=100, random_state=20)\n",
    "clf_a_t_100.fit(X_train, y_train) \n",
    "pred=clf_a_t_100.predict(X_test)\n",
    "\n",
    "print(accuracy_score(y_test, pred))"
   ]
  },
  {
   "cell_type": "code",
   "execution_count": 28,
   "id": "deb06fa9",
   "metadata": {},
   "outputs": [
    {
     "data": {
      "image/png": "[encoded data removed]",
      "text/plain": [
       "<Figure size 720x288 with 2 Axes>"
      ]
     },
     "metadata": {},
     "output_type": "display_data"
    },
    {
     "data": {
      "image/png": "[encoded data removed]",
      "text/plain": [
       "<Figure size 1080x288 with 1 Axes>"
      ]
     },
     "metadata": {},
     "output_type": "display_data"
    }
   ],
   "source": [
    "## 시각화 \n",
    "\n",
    "# Adaboosting \n",
    "plt.figure(figsize=(10,4))\n",
    "plt.subplot(121)\n",
    "# plot_decision_boundary 정의 함수 이용\n",
    "plot_decision_boundary(clf_a, X_train, y_train) \n",
    "plt.title(\"Adaboosting\", fontsize=12)\n",
    "\n",
    "# Decision Trees with Adaboosting(n_estimators=5)\n",
    "plt.subplot(122)\n",
    "# plot_decision_boundary 정의 함수 이용\n",
    "plot_decision_boundary(clf_a_t, X_train, y_train) \n",
    "plt.title(\"Decision Trees with Adaboosting(n_estimators=5)\", fontsize=12)\n",
    "plt.show()\n",
    "\n",
    "# Decision Trees with Adaboosting(n_estimators=100)\n",
    "plt.figure(figsize=(15,4))\n",
    "plt.subplot(132)\n",
    "# plot_decision_boundary 정의 함수 이용\n",
    "plot_decision_boundary(clf_a_t_100, X_train, y_train) \n",
    "plt.title(\"Decision Trees with Adaboosting(n_estimators=100)\", fontsize=12)\n",
    "plt.show()"
   ]
  },
  {
   "cell_type": "markdown",
   "id": "f3abb94d",
   "metadata": {},
   "source": [
    "# xgboost\n",
    "### from xgboost import XGBClassifier\n",
    "#### General Parameters (XGBoost 의 어떤 모델)\n",
    "- booster : default = 'gbtree'(gbtree : 트리 기반 모델, gblinear : 선형 모델)\n",
    "- silent : default = 0(0 : 동작 메세지 프린트 함, 1 : 동작 메세지 프린트 안함)\n",
    "- nthread : default = 전체 다 사용\n",
    "\n",
    "#### Booster Parameters (모델의 조건 설정)\n",
    "- n_estimators : 분류기 나무의 개수, default = 100\n",
    "- early_stopping_rounds\n",
    "- learning_rate : 학습 단계별로 가중치, default = 0.1\n",
    "- max_depth : 트리의 깊이, default = 6 \n",
    "- reg_alpha :L1 regularization\n",
    "- reg_lambda : L2 regularization\n",
    "\n",
    "#### Learning Task Parameters (모델의 목표 및 계산 방법 설정)\n",
    "- objective : 목적 함수, default = reg:linear\n",
    " - binary:logistic(확률 반환), multi:softmax(클래스 반환), multi:softprob(확률 반환) \n",
    "- eval_metric : 평가 지표(회귀-rmse,... / 분류-error, ...)\n",
    "- seed :고정값 default = 0"
   ]
  },
  {
   "cell_type": "code",
   "execution_count": 29,
   "id": "bd47b60b",
   "metadata": {},
   "outputs": [
    {
     "data": {
      "image/png": "[encoded data removed]",
      "text/plain": [
       "<Figure size 504x360 with 1 Axes>"
      ]
     },
     "metadata": {},
     "output_type": "display_data"
    },
    {
     "name": "stdout",
     "output_type": "stream",
     "text": [
      "(640, 2) (640,) (160, 2) (160,) (200, 2) (200,)\n"
     ]
    }
   ],
   "source": [
    "## 데이터 셋 생성 \n",
    "X, y = make_moons(n_samples=1000, noise=0.30, random_state=20)\n",
    "\n",
    "# x 데이터의 산점도 시각화\n",
    "plt.figure(figsize=(7,5))\n",
    "plt.title(\"Before\", fontsize=15)\n",
    "sns.scatterplot(x=df_a[0], y=df_a[1], palette=\"Set2\")\n",
    "plt.grid()\n",
    "plt.show()\n",
    "\n",
    "# Train, Test Set 생성 \n",
    "X_train, X_test, y_train, y_test = train_test_split(X, y, test_size=0.2, random_state=20)\n",
    "\n",
    "# Train, Validaton set 생성 \n",
    "X_train, X_val, y_train, y_val = train_test_split(X_train,\n",
    "                                                  y_train, \n",
    "                                                  test_size=0.2, \n",
    "                                                  random_state=20)\n",
    "\n",
    "# 결과 확인 \n",
    "print(X_train.shape,y_train.shape, X_val.shape, y_val.shape, X_test.shape, y_test.shape)"
   ]
  },
  {
   "cell_type": "code",
   "execution_count": 30,
   "id": "5fd57f99",
   "metadata": {},
   "outputs": [
    {
     "name": "stdout",
     "output_type": "stream",
     "text": [
      "0.885\n",
      "[0.4482242  0.55177575]\n"
     ]
    }
   ],
   "source": [
    "## Xgboosting \n",
    "from xgboost import XGBClassifier\n",
    "\n",
    "import warnings\n",
    "warnings.filterwarnings('ignore')\n",
    "\n",
    "## 단순한 XGboost \n",
    "# 객체 생성\n",
    "xgb_clf = XGBClassifier(objective = 'binary:logistic', eval_metric = 'auc') \n",
    "xgb_model = xgb_clf.fit(X_train, y_train)\n",
    "\n",
    "# 예측하기\n",
    "y_pred = xgb_model.predict(X_test)\n",
    "y_pred_probs = xgb_model.predict_proba(X_test)\n",
    "\n",
    "# 결과 확인 \n",
    "print(accuracy_score(y_test, y_pred))\n",
    "\n",
    "# # 특성 중요도 확인 \n",
    "ftr_importances_values = xgb_model.feature_importances_\n",
    "print(ftr_importances_values)"
   ]
  },
  {
   "cell_type": "code",
   "execution_count": 31,
   "id": "b0eaae3b",
   "metadata": {},
   "outputs": [
    {
     "data": {
      "image/png": "[encoded data removed]",
      "text/plain": [
       "<Figure size 432x288 with 1 Axes>"
      ]
     },
     "metadata": {},
     "output_type": "display_data"
    }
   ],
   "source": [
    "## 시각화 \n",
    "plot_decision_boundary(xgb_clf, X_train, y_train) "
   ]
  },
  {
   "cell_type": "code",
   "execution_count": 32,
   "id": "0c1c5934",
   "metadata": {},
   "outputs": [
    {
     "name": "stdout",
     "output_type": "stream",
     "text": [
      "[0]\tvalidation_0-auc:0.94729\n",
      "[1]\tvalidation_0-auc:0.94776\n",
      "[2]\tvalidation_0-auc:0.94902\n",
      "[3]\tvalidation_0-auc:0.94902\n",
      "[4]\tvalidation_0-auc:0.94902\n",
      "[5]\tvalidation_0-auc:0.94745\n",
      "[6]\tvalidation_0-auc:0.94698\n",
      "[7]\tvalidation_0-auc:0.95114\n",
      "[8]\tvalidation_0-auc:0.95067\n",
      "[9]\tvalidation_0-auc:0.95035\n",
      "[10]\tvalidation_0-auc:0.95035\n",
      "[11]\tvalidation_0-auc:0.94941\n",
      "[12]\tvalidation_0-auc:0.95012\n",
      "[13]\tvalidation_0-auc:0.94973\n",
      "[14]\tvalidation_0-auc:0.94973\n",
      "[15]\tvalidation_0-auc:0.94878\n",
      "[16]\tvalidation_0-auc:0.94925\n",
      "[17]\tvalidation_0-auc:0.94973\n",
      "[18]\tvalidation_0-auc:0.94925\n",
      "[19]\tvalidation_0-auc:0.95020\n",
      "[20]\tvalidation_0-auc:0.94957\n",
      "[21]\tvalidation_0-auc:0.95059\n",
      "[22]\tvalidation_0-auc:0.95059\n",
      "[23]\tvalidation_0-auc:0.95059\n",
      "[24]\tvalidation_0-auc:0.95027\n",
      "[25]\tvalidation_0-auc:0.95035\n",
      "[26]\tvalidation_0-auc:0.95129\n",
      "[27]\tvalidation_0-auc:0.95098\n",
      "[28]\tvalidation_0-auc:0.95098\n",
      "[29]\tvalidation_0-auc:0.95098\n",
      "[30]\tvalidation_0-auc:0.95004\n",
      "[31]\tvalidation_0-auc:0.95286\n",
      "[32]\tvalidation_0-auc:0.95482\n",
      "[33]\tvalidation_0-auc:0.95467\n",
      "[34]\tvalidation_0-auc:0.95498\n",
      "[35]\tvalidation_0-auc:0.95435\n",
      "[36]\tvalidation_0-auc:0.95498\n",
      "[37]\tvalidation_0-auc:0.95545\n",
      "[38]\tvalidation_0-auc:0.95514\n",
      "[39]\tvalidation_0-auc:0.95529\n",
      "[40]\tvalidation_0-auc:0.95545\n",
      "[41]\tvalidation_0-auc:0.95514\n",
      "[42]\tvalidation_0-auc:0.95514\n",
      "[43]\tvalidation_0-auc:0.95467\n",
      "[44]\tvalidation_0-auc:0.95435\n",
      "[45]\tvalidation_0-auc:0.95467\n",
      "[46]\tvalidation_0-auc:0.95435\n",
      "[47]\tvalidation_0-auc:0.95420\n",
      "[48]\tvalidation_0-auc:0.95420\n",
      "[49]\tvalidation_0-auc:0.95420\n",
      "[50]\tvalidation_0-auc:0.95482\n",
      "[51]\tvalidation_0-auc:0.95482\n",
      "[52]\tvalidation_0-auc:0.95498\n",
      "[53]\tvalidation_0-auc:0.95467\n",
      "[54]\tvalidation_0-auc:0.95490\n",
      "[55]\tvalidation_0-auc:0.95459\n",
      "[56]\tvalidation_0-auc:0.95451\n",
      "[57]\tvalidation_0-auc:0.95435\n",
      "[58]\tvalidation_0-auc:0.95435\n",
      "[59]\tvalidation_0-auc:0.95482\n",
      "[60]\tvalidation_0-auc:0.95474\n",
      "[61]\tvalidation_0-auc:0.95584\n",
      "[62]\tvalidation_0-auc:0.95522\n",
      "[63]\tvalidation_0-auc:0.95443\n",
      "[64]\tvalidation_0-auc:0.95443\n",
      "[65]\tvalidation_0-auc:0.95271\n",
      "[66]\tvalidation_0-auc:0.95459\n",
      "[67]\tvalidation_0-auc:0.95271\n",
      "[68]\tvalidation_0-auc:0.95537\n",
      "[69]\tvalidation_0-auc:0.95537\n",
      "[70]\tvalidation_0-auc:0.95569\n",
      "[71]\tvalidation_0-auc:0.95537\n",
      "[72]\tvalidation_0-auc:0.95584\n",
      "[73]\tvalidation_0-auc:0.95616\n",
      "[74]\tvalidation_0-auc:0.95616\n",
      "[75]\tvalidation_0-auc:0.95584\n",
      "[76]\tvalidation_0-auc:0.95553\n",
      "[77]\tvalidation_0-auc:0.95718\n",
      "[78]\tvalidation_0-auc:0.95702\n",
      "[79]\tvalidation_0-auc:0.95718\n",
      "[80]\tvalidation_0-auc:0.95671\n",
      "[81]\tvalidation_0-auc:0.95655\n",
      "[82]\tvalidation_0-auc:0.95639\n",
      "[83]\tvalidation_0-auc:0.95694\n",
      "[84]\tvalidation_0-auc:0.95710\n",
      "[85]\tvalidation_0-auc:0.95710\n",
      "[86]\tvalidation_0-auc:0.95710\n",
      "[87]\tvalidation_0-auc:0.95725\n",
      "[88]\tvalidation_0-auc:0.95678\n",
      "[89]\tvalidation_0-auc:0.95678\n",
      "[90]\tvalidation_0-auc:0.95678\n",
      "[91]\tvalidation_0-auc:0.95678\n",
      "[92]\tvalidation_0-auc:0.95631\n",
      "[93]\tvalidation_0-auc:0.95631\n",
      "[94]\tvalidation_0-auc:0.95584\n",
      "[95]\tvalidation_0-auc:0.95600\n",
      "[96]\tvalidation_0-auc:0.95553\n",
      "[97]\tvalidation_0-auc:0.95537\n",
      "[98]\tvalidation_0-auc:0.95537\n",
      "[99]\tvalidation_0-auc:0.95584\n"
     ]
    }
   ],
   "source": [
    "### 파라미터 입력한 XGboost \n",
    "# 분류기 100, 학습 조정률 : 0.03, L1 regularization :0.03\n",
    "xgb_clf_a = XGBClassifier(n_estimators=100, \n",
    "                          learning_rate=0.03, \n",
    "                          max_depth=5,  \n",
    "                          reg_alpha=0.03,\n",
    "                          verbosity = 0,\n",
    "                          objective = 'binary:logistic',\n",
    "                          eval_metric='auc'\n",
    "#                           silent= True, \n",
    "                          )\n",
    "\n",
    "# 50라운드에서 조기 종료 확인 \n",
    "xgb_model_a = xgb_clf_a.fit(X_train, y_train, early_stopping_rounds=50, eval_set=[(X_val, y_val)])"
   ]
  },
  {
   "cell_type": "code",
   "execution_count": 33,
   "id": "0303c7ee",
   "metadata": {},
   "outputs": [
    {
     "data": {
      "text/plain": [
       "array([1, 1, 1, 1, 0], dtype=int64)"
      ]
     },
     "execution_count": 33,
     "metadata": {},
     "output_type": "execute_result"
    }
   ],
   "source": [
    "# ## 결과 예측 \n",
    "xgb_model_a.predict(X_test[:5])"
   ]
  },
  {
   "cell_type": "code",
   "execution_count": 34,
   "id": "a636f4df",
   "metadata": {},
   "outputs": [
    {
     "name": "stdout",
     "output_type": "stream",
     "text": [
      "0.92\n",
      "[0.4033108 0.5966893]\n"
     ]
    }
   ],
   "source": [
    "# 결과 확인 \n",
    "y_pred_b = xgb_model_a.predict(X_test)\n",
    "print(accuracy_score(y_test, y_pred_b))\n",
    "\n",
    "# # 특성 중요도 확인 \n",
    "ftr_importances_values = xgb_model_a.feature_importances_\n",
    "print(ftr_importances_values)"
   ]
  },
  {
   "cell_type": "code",
   "execution_count": 35,
   "id": "7bf08839",
   "metadata": {},
   "outputs": [
    {
     "data": {
      "image/png": "[encoded data removed]",
      "text/plain": [
       "<Figure size 432x288 with 1 Axes>"
      ]
     },
     "metadata": {},
     "output_type": "display_data"
    }
   ],
   "source": [
    "## 시각화 \n",
    "plot_decision_boundary(xgb_model_a, X_train, y_train) "
   ]
  },
  {
   "cell_type": "markdown",
   "id": "70a25e8c",
   "metadata": {},
   "source": [
    "# Random Forest \n",
    "##  Random Forest Regressor\n",
    "### from sklearn.ensemble import RandomForestRegressor\n",
    "- criterion{“squared_error”, “absolute_error”, “poisson”}, default=”squared_error”\n",
    "- n_estimators : 결정트리의 갯수를 지정, Default = 10\n",
    "- min_samples_split\t: 노드를 분할하기 위한 최소한의 샘플 데이터수, Default = 2\n",
    "- min_samples_leaf : 리프노드가 되기 위해 필요한 최소한의 샘플 데이터수\n",
    "- max_features : 최적의 분할을 위해 고려할 최대 feature 개수, Default = 'auto' \n",
    "- max_depth\t: 트리의 최대 깊이, default = None\n",
    "- max_leaf_nodes : 리프노드의 최대 개수\n",
    "- bootstrap : 부트스트랩(중복허용 샘플링) 사용 여부\n",
    "- verbose : 실행 과정 출력 여부(1: 출력)\n",
    "- random_state : 난수 seed 설정"
   ]
  },
  {
   "cell_type": "code",
   "execution_count": 36,
   "id": "9c224fdd",
   "metadata": {},
   "outputs": [
    {
     "name": "stdout",
     "output_type": "stream",
     "text": [
      "(506, 14)\n"
     ]
    },
    {
     "data": {
      "text/html": [
       "<div>\n",
       "<style scoped>\n",
       "    .dataframe tbody tr th:only-of-type {\n",
       "        vertical-align: middle;\n",
       "    }\n",
       "\n",
       "    .dataframe tbody tr th {\n",
       "        vertical-align: top;\n",
       "    }\n",
       "\n",
       "    .dataframe thead th {\n",
       "        text-align: right;\n",
       "    }\n",
       "</style>\n",
       "<table border=\"1\" class=\"dataframe\">\n",
       "  <thead>\n",
       "    <tr style=\"text-align: right;\">\n",
       "      <th></th>\n",
       "      <th>CRIM</th>\n",
       "      <th>ZN</th>\n",
       "      <th>INDUS</th>\n",
       "      <th>CHAS</th>\n",
       "      <th>NOX</th>\n",
       "      <th>RM</th>\n",
       "      <th>AGE</th>\n",
       "      <th>DIS</th>\n",
       "      <th>RAD</th>\n",
       "      <th>TAX</th>\n",
       "      <th>PTRATIO</th>\n",
       "      <th>B</th>\n",
       "      <th>LSTAT</th>\n",
       "      <th>MEDV</th>\n",
       "    </tr>\n",
       "  </thead>\n",
       "  <tbody>\n",
       "    <tr>\n",
       "      <th>0</th>\n",
       "      <td>0.00632</td>\n",
       "      <td>18.0</td>\n",
       "      <td>2.31</td>\n",
       "      <td>0.0</td>\n",
       "      <td>0.538</td>\n",
       "      <td>6.575</td>\n",
       "      <td>65.2</td>\n",
       "      <td>4.0900</td>\n",
       "      <td>1.0</td>\n",
       "      <td>296.0</td>\n",
       "      <td>15.3</td>\n",
       "      <td>396.90</td>\n",
       "      <td>4.98</td>\n",
       "      <td>24.0</td>\n",
       "    </tr>\n",
       "    <tr>\n",
       "      <th>1</th>\n",
       "      <td>0.02731</td>\n",
       "      <td>0.0</td>\n",
       "      <td>7.07</td>\n",
       "      <td>0.0</td>\n",
       "      <td>0.469</td>\n",
       "      <td>6.421</td>\n",
       "      <td>78.9</td>\n",
       "      <td>4.9671</td>\n",
       "      <td>2.0</td>\n",
       "      <td>242.0</td>\n",
       "      <td>17.8</td>\n",
       "      <td>396.90</td>\n",
       "      <td>9.14</td>\n",
       "      <td>21.6</td>\n",
       "    </tr>\n",
       "    <tr>\n",
       "      <th>2</th>\n",
       "      <td>0.02729</td>\n",
       "      <td>0.0</td>\n",
       "      <td>7.07</td>\n",
       "      <td>0.0</td>\n",
       "      <td>0.469</td>\n",
       "      <td>7.185</td>\n",
       "      <td>61.1</td>\n",
       "      <td>4.9671</td>\n",
       "      <td>2.0</td>\n",
       "      <td>242.0</td>\n",
       "      <td>17.8</td>\n",
       "      <td>392.83</td>\n",
       "      <td>4.03</td>\n",
       "      <td>34.7</td>\n",
       "    </tr>\n",
       "    <tr>\n",
       "      <th>3</th>\n",
       "      <td>0.03237</td>\n",
       "      <td>0.0</td>\n",
       "      <td>2.18</td>\n",
       "      <td>0.0</td>\n",
       "      <td>0.458</td>\n",
       "      <td>6.998</td>\n",
       "      <td>45.8</td>\n",
       "      <td>6.0622</td>\n",
       "      <td>3.0</td>\n",
       "      <td>222.0</td>\n",
       "      <td>18.7</td>\n",
       "      <td>394.63</td>\n",
       "      <td>2.94</td>\n",
       "      <td>33.4</td>\n",
       "    </tr>\n",
       "    <tr>\n",
       "      <th>4</th>\n",
       "      <td>0.06905</td>\n",
       "      <td>0.0</td>\n",
       "      <td>2.18</td>\n",
       "      <td>0.0</td>\n",
       "      <td>0.458</td>\n",
       "      <td>7.147</td>\n",
       "      <td>54.2</td>\n",
       "      <td>6.0622</td>\n",
       "      <td>3.0</td>\n",
       "      <td>222.0</td>\n",
       "      <td>18.7</td>\n",
       "      <td>396.90</td>\n",
       "      <td>5.33</td>\n",
       "      <td>36.2</td>\n",
       "    </tr>\n",
       "  </tbody>\n",
       "</table>\n",
       "</div>"
      ],
      "text/plain": [
       "      CRIM    ZN  INDUS  CHAS    NOX     RM   AGE     DIS  RAD    TAX  \\\n",
       "0  0.00632  18.0   2.31   0.0  0.538  6.575  65.2  4.0900  1.0  296.0   \n",
       "1  0.02731   0.0   7.07   0.0  0.469  6.421  78.9  4.9671  2.0  242.0   \n",
       "2  0.02729   0.0   7.07   0.0  0.469  7.185  61.1  4.9671  2.0  242.0   \n",
       "3  0.03237   0.0   2.18   0.0  0.458  6.998  45.8  6.0622  3.0  222.0   \n",
       "4  0.06905   0.0   2.18   0.0  0.458  7.147  54.2  6.0622  3.0  222.0   \n",
       "\n",
       "   PTRATIO       B  LSTAT  MEDV  \n",
       "0     15.3  396.90   4.98  24.0  \n",
       "1     17.8  396.90   9.14  21.6  \n",
       "2     17.8  392.83   4.03  34.7  \n",
       "3     18.7  394.63   2.94  33.4  \n",
       "4     18.7  396.90   5.33  36.2  "
      ]
     },
     "execution_count": 36,
     "metadata": {},
     "output_type": "execute_result"
    }
   ],
   "source": [
    "## Boston Housing Price (보스턴 주택 가격 데이터)\n",
    "from sklearn.datasets import load_boston\n",
    "\n",
    "data_b = load_boston()\n",
    "df_b = pd.DataFrame(data_b.data, columns=data_b.feature_names)\n",
    "\n",
    "df_b['MEDV'] = data_b.target\n",
    "print(df_b.shape)\n",
    "df_b.head()"
   ]
  },
  {
   "cell_type": "code",
   "execution_count": 37,
   "id": "cdbc9e1b",
   "metadata": {},
   "outputs": [],
   "source": [
    "## 각 변수 p-value < 0.05 미만 제거 \n",
    "## 변수 선택 \n",
    "feature_columns = list(df_b.columns.difference(['INDUS', 'AGE','ZN', 'MEDV']))\n",
    "\n",
    "# 변수 확정 \n",
    "X = df_b[feature_columns] # 설명변수 \n",
    "\n",
    "## 스케일링 & 정규화\n",
    "scaler = StandardScaler()\n",
    "scaler.fit(X)\n",
    "X_std = scaler.transform(X)\n",
    "\n",
    "## 데이터 생성 \n",
    "X_train_b, X_test_b, y_train_b, y_test_b = train_test_split(X_std,\n",
    "                                                            data_b.target, \n",
    "                                                            test_size=0.2, \n",
    "                                                            random_state=20)"
   ]
  },
  {
   "cell_type": "code",
   "execution_count": 38,
   "id": "380406d9",
   "metadata": {},
   "outputs": [
    {
     "data": {
      "text/plain": [
       "['B', 'CHAS', 'CRIM', 'DIS', 'LSTAT', 'NOX', 'PTRATIO', 'RAD', 'RM', 'TAX']"
      ]
     },
     "execution_count": 38,
     "metadata": {},
     "output_type": "execute_result"
    }
   ],
   "source": [
    "feature_columns"
   ]
  },
  {
   "cell_type": "code",
   "execution_count": 39,
   "id": "77575696",
   "metadata": {},
   "outputs": [
    {
     "data": {
      "text/plain": [
       "array([ 0.44105193, -0.27259857, -0.40369567,  1.02463789,  0.91070021,\n",
       "       -0.26515405, -1.50523663, -0.52300145, -0.16046556, -0.57751897])"
      ]
     },
     "execution_count": 39,
     "metadata": {},
     "output_type": "execute_result"
    }
   ],
   "source": [
    "X_train_b[0]"
   ]
  },
  {
   "cell_type": "code",
   "execution_count": 40,
   "id": "7073fc1e",
   "metadata": {},
   "outputs": [
    {
     "data": {
      "text/plain": [
       "27.1"
      ]
     },
     "execution_count": 40,
     "metadata": {},
     "output_type": "execute_result"
    }
   ],
   "source": [
    "y_train_b[0]"
   ]
  },
  {
   "cell_type": "code",
   "execution_count": 41,
   "id": "87422586",
   "metadata": {},
   "outputs": [
    {
     "name": "stdout",
     "output_type": "stream",
     "text": [
      "R2 Score: 0.7688954604830929\n",
      "train RMSE: 4.540534729949297\n",
      "test RMSE':4.757221213720513\n"
     ]
    }
   ],
   "source": [
    "## 랜덤포레스트 특정 모델 학습\n",
    "from sklearn.ensemble import RandomForestRegressor\n",
    "from math import sqrt\n",
    "\n",
    "rf_refressor = RandomForestRegressor(random_state=5,\n",
    "                                     max_depth=2,\n",
    "                                     min_samples_split=8,\n",
    "                                     n_estimators=10)\n",
    "\n",
    "rf_refressor.fit(X_train_b, y_train_b)\n",
    "\n",
    "## 성능 평가 \n",
    "# R2 Score\n",
    "print(\"R2 Score:\", rf_refressor.score(X_train_b, y_train_b, sample_weight=None))\n",
    "\n",
    "# train rmse\n",
    "train_predict = rf_refressor.predict(X_train_b)\n",
    "print(\"train RMSE: {}\".format(sqrt(mean_squared_error(train_predict, y_train_b)))) # RMSE 결과\n",
    " \n",
    "# test rmse\n",
    "test_predict = rf_refressor.predict(X_test_b)\n",
    "print(\"test RMSE':{}\".format(sqrt(mean_squared_error(test_predict, y_test_b))) )"
   ]
  },
  {
   "cell_type": "code",
   "execution_count": 42,
   "id": "f9a76bba",
   "metadata": {},
   "outputs": [
    {
     "name": "stdout",
     "output_type": "stream",
     "text": [
      "R2 Score: 0.9637088807833315\n",
      "train RMSE: 1.7992973683682778\n",
      "test RMSE':3.757484060013128\n"
     ]
    }
   ],
   "source": [
    "## 랜덤포레스트 하이퍼 파리미터 조정 \n",
    "rf_refressor_1 = RandomForestRegressor(random_state=5,\n",
    "                                       max_depth=7, \n",
    "                                       min_samples_split=8,\n",
    "                                       n_estimators=100)\n",
    "\n",
    "rf_refressor_1.fit(X_train_b, y_train_b)\n",
    "\n",
    "\n",
    "## 성능 평가 \n",
    "# R2 Score\n",
    "print(\"R2 Score:\", rf_refressor_1.score(X_train_b, y_train_b, sample_weight=None))\n",
    "\n",
    "# train rmse\n",
    "train_predict = rf_refressor_1.predict(X_train_b)\n",
    "print(\"train RMSE: {}\".format(sqrt(mean_squared_error(train_predict, y_train_b)))) \n",
    " \n",
    "# test rmse\n",
    "test_predict = rf_refressor_1.predict(X_test_b)\n",
    "print(\"test RMSE':{}\".format(sqrt(mean_squared_error(test_predict, y_test_b))) )"
   ]
  },
  {
   "cell_type": "code",
   "execution_count": 43,
   "id": "caf682f8",
   "metadata": {},
   "outputs": [
    {
     "data": {
      "image/png": "[encoded data removed]",
      "text/plain": [
       "<Figure size 576x432 with 1 Axes>"
      ]
     },
     "metadata": {},
     "output_type": "display_data"
    }
   ],
   "source": [
    "## 변수 중요도 시각화 \n",
    "\n",
    "ftr_importances_values = rf_refressor_1.feature_importances_\n",
    "\n",
    "ftr_importances = pd.Series(ftr_importances_values, index=feature_columns)\n",
    "\n",
    "ftr_top = ftr_importances.sort_values(ascending=False)\n",
    " \n",
    "plt.figure(figsize=(8, 6))\n",
    "sns.barplot(x=ftr_top, y=ftr_top.index)\n",
    "plt.show()"
   ]
  },
  {
   "cell_type": "markdown",
   "id": "8710b731",
   "metadata": {},
   "source": [
    "##  Random Forest Classifier\n",
    "### from sklearn.ensemble import RandomForestClassifier\n",
    "- criterion : 분할 품질을 측정,“gini”, “entropy”, “log_loss\", (default : gini)”\n",
    "- n_estimators : 결정트리의 갯수를 지정, Default = 10\n",
    "- min_samples_split\t: 노드를 분할하기 위한 최소한의 샘플 데이터수, Default = 2\n",
    "- min_samples_leaf : 리프노드가 되기 위해 필요한 최소한의 샘플 데이터수\n",
    "- max_features : 최적의 분할을 위해 고려할 최대 feature 개수, Default = 'auto' \n",
    "- max_depth\t: 트리의 최대 깊이, default = None\n",
    "- max_leaf_nodes : 리프노드의 최대 개수\n",
    "- bootstrap : 부트스트랩(중복허용 샘플링) 사용 여부\n",
    "- verbose : 실행 과정 출력 여부(1: 출력)\n",
    "- random_state : 난수 seed 설정\n",
    "- oob_score : 일반화 정확도를 줄이기 위해 밖의 샘플 사용 여부"
   ]
  },
  {
   "cell_type": "markdown",
   "id": "9ce936fe",
   "metadata": {},
   "source": [
    "### 위스콘신 유방암(breast cancer) 데이터 셋 \n",
    "- 유방암 진단 사진으로부터 측정한 종양(tumar)의 특징값을 사용하여 종양이 양성(benign)인지 악성(malignant)인지를 판별\n",
    "- 30개의 속성과 malignant(악성:0), benign(양성1)의 두가지 타겟 데이터로 구성 : 총 31개 \n",
    "- radius(반경)\n",
    "- texture(질감)\n",
    "- perimeter(둘레)\n",
    "- area(면적)\n",
    "- smoothness(매끄러움)\n",
    "- compactness(작은 적도)\n",
    "- concavity(오목함)\n",
    "- concave_points(오목한 점의 수)\n",
    "- symmetry(대칭)\n",
    "- fractal_dimension(프랙탈 차원)\n",
    "- 위 10개 세포의 특성 항목에 대해 각각평균(mean), 표준오차(error), 큰 값 3개의 평균(worst) 값을 속성으로 구성 "
   ]
  },
  {
   "cell_type": "code",
   "execution_count": 44,
   "id": "f4f65e0d",
   "metadata": {},
   "outputs": [],
   "source": [
    "from sklearn.datasets import load_breast_cancer\n",
    "\n",
    "# 데이터 불러오기\n",
    "data = load_breast_cancer()\n",
    "\n",
    "# 독립변수 (input data)\n",
    "b_input_data = data.data\n",
    "\n",
    "# 종양: target data \n",
    "# 악성(malignant:0), 양성(benign:1), \n",
    "b_target_data = data.target\n",
    "\n",
    "# 종양 구분 \n",
    "tumar = data.target_names\n",
    "\n",
    "# 속성 명칭 \n",
    "feature_names = data.feature_names\n",
    "\n",
    "# print('종양 여부 결정 속성 : {}'.format(feature_names))\n",
    "# print('종양 구분 : {}'.format(tumar))\n",
    "\n",
    "breast_df = pd.DataFrame(b_input_data, columns=feature_names)\n",
    "breast_df['target'] = b_target_data\n",
    "\n",
    "# 속성명 공백에 \"_\"달기 \n",
    "breast_df.columns = [col.replace(\" \", \"_\") for col in breast_df.columns]"
   ]
  },
  {
   "cell_type": "code",
   "execution_count": 45,
   "id": "3529b517",
   "metadata": {},
   "outputs": [
    {
     "data": {
      "text/html": [
       "<div>\n",
       "<style scoped>\n",
       "    .dataframe tbody tr th:only-of-type {\n",
       "        vertical-align: middle;\n",
       "    }\n",
       "\n",
       "    .dataframe tbody tr th {\n",
       "        vertical-align: top;\n",
       "    }\n",
       "\n",
       "    .dataframe thead th {\n",
       "        text-align: right;\n",
       "    }\n",
       "</style>\n",
       "<table border=\"1\" class=\"dataframe\">\n",
       "  <thead>\n",
       "    <tr style=\"text-align: right;\">\n",
       "      <th></th>\n",
       "      <th>mean_radius</th>\n",
       "      <th>mean_texture</th>\n",
       "      <th>mean_perimeter</th>\n",
       "      <th>mean_area</th>\n",
       "      <th>mean_smoothness</th>\n",
       "      <th>mean_compactness</th>\n",
       "      <th>mean_concavity</th>\n",
       "      <th>mean_concave_points</th>\n",
       "      <th>mean_symmetry</th>\n",
       "      <th>mean_fractal_dimension</th>\n",
       "      <th>...</th>\n",
       "      <th>worst_texture</th>\n",
       "      <th>worst_perimeter</th>\n",
       "      <th>worst_area</th>\n",
       "      <th>worst_smoothness</th>\n",
       "      <th>worst_compactness</th>\n",
       "      <th>worst_concavity</th>\n",
       "      <th>worst_concave_points</th>\n",
       "      <th>worst_symmetry</th>\n",
       "      <th>worst_fractal_dimension</th>\n",
       "      <th>target</th>\n",
       "    </tr>\n",
       "  </thead>\n",
       "  <tbody>\n",
       "    <tr>\n",
       "      <th>0</th>\n",
       "      <td>17.99</td>\n",
       "      <td>10.38</td>\n",
       "      <td>122.80</td>\n",
       "      <td>1001.0</td>\n",
       "      <td>0.11840</td>\n",
       "      <td>0.27760</td>\n",
       "      <td>0.3001</td>\n",
       "      <td>0.14710</td>\n",
       "      <td>0.2419</td>\n",
       "      <td>0.07871</td>\n",
       "      <td>...</td>\n",
       "      <td>17.33</td>\n",
       "      <td>184.60</td>\n",
       "      <td>2019.0</td>\n",
       "      <td>0.1622</td>\n",
       "      <td>0.6656</td>\n",
       "      <td>0.7119</td>\n",
       "      <td>0.2654</td>\n",
       "      <td>0.4601</td>\n",
       "      <td>0.11890</td>\n",
       "      <td>0</td>\n",
       "    </tr>\n",
       "    <tr>\n",
       "      <th>1</th>\n",
       "      <td>20.57</td>\n",
       "      <td>17.77</td>\n",
       "      <td>132.90</td>\n",
       "      <td>1326.0</td>\n",
       "      <td>0.08474</td>\n",
       "      <td>0.07864</td>\n",
       "      <td>0.0869</td>\n",
       "      <td>0.07017</td>\n",
       "      <td>0.1812</td>\n",
       "      <td>0.05667</td>\n",
       "      <td>...</td>\n",
       "      <td>23.41</td>\n",
       "      <td>158.80</td>\n",
       "      <td>1956.0</td>\n",
       "      <td>0.1238</td>\n",
       "      <td>0.1866</td>\n",
       "      <td>0.2416</td>\n",
       "      <td>0.1860</td>\n",
       "      <td>0.2750</td>\n",
       "      <td>0.08902</td>\n",
       "      <td>0</td>\n",
       "    </tr>\n",
       "    <tr>\n",
       "      <th>2</th>\n",
       "      <td>19.69</td>\n",
       "      <td>21.25</td>\n",
       "      <td>130.00</td>\n",
       "      <td>1203.0</td>\n",
       "      <td>0.10960</td>\n",
       "      <td>0.15990</td>\n",
       "      <td>0.1974</td>\n",
       "      <td>0.12790</td>\n",
       "      <td>0.2069</td>\n",
       "      <td>0.05999</td>\n",
       "      <td>...</td>\n",
       "      <td>25.53</td>\n",
       "      <td>152.50</td>\n",
       "      <td>1709.0</td>\n",
       "      <td>0.1444</td>\n",
       "      <td>0.4245</td>\n",
       "      <td>0.4504</td>\n",
       "      <td>0.2430</td>\n",
       "      <td>0.3613</td>\n",
       "      <td>0.08758</td>\n",
       "      <td>0</td>\n",
       "    </tr>\n",
       "    <tr>\n",
       "      <th>3</th>\n",
       "      <td>11.42</td>\n",
       "      <td>20.38</td>\n",
       "      <td>77.58</td>\n",
       "      <td>386.1</td>\n",
       "      <td>0.14250</td>\n",
       "      <td>0.28390</td>\n",
       "      <td>0.2414</td>\n",
       "      <td>0.10520</td>\n",
       "      <td>0.2597</td>\n",
       "      <td>0.09744</td>\n",
       "      <td>...</td>\n",
       "      <td>26.50</td>\n",
       "      <td>98.87</td>\n",
       "      <td>567.7</td>\n",
       "      <td>0.2098</td>\n",
       "      <td>0.8663</td>\n",
       "      <td>0.6869</td>\n",
       "      <td>0.2575</td>\n",
       "      <td>0.6638</td>\n",
       "      <td>0.17300</td>\n",
       "      <td>0</td>\n",
       "    </tr>\n",
       "    <tr>\n",
       "      <th>4</th>\n",
       "      <td>20.29</td>\n",
       "      <td>14.34</td>\n",
       "      <td>135.10</td>\n",
       "      <td>1297.0</td>\n",
       "      <td>0.10030</td>\n",
       "      <td>0.13280</td>\n",
       "      <td>0.1980</td>\n",
       "      <td>0.10430</td>\n",
       "      <td>0.1809</td>\n",
       "      <td>0.05883</td>\n",
       "      <td>...</td>\n",
       "      <td>16.67</td>\n",
       "      <td>152.20</td>\n",
       "      <td>1575.0</td>\n",
       "      <td>0.1374</td>\n",
       "      <td>0.2050</td>\n",
       "      <td>0.4000</td>\n",
       "      <td>0.1625</td>\n",
       "      <td>0.2364</td>\n",
       "      <td>0.07678</td>\n",
       "      <td>0</td>\n",
       "    </tr>\n",
       "  </tbody>\n",
       "</table>\n",
       "<p>5 rows × 31 columns</p>\n",
       "</div>"
      ],
      "text/plain": [
       "   mean_radius  mean_texture  mean_perimeter  mean_area  mean_smoothness  \\\n",
       "0        17.99         10.38          122.80     1001.0          0.11840   \n",
       "1        20.57         17.77          132.90     1326.0          0.08474   \n",
       "2        19.69         21.25          130.00     1203.0          0.10960   \n",
       "3        11.42         20.38           77.58      386.1          0.14250   \n",
       "4        20.29         14.34          135.10     1297.0          0.10030   \n",
       "\n",
       "   mean_compactness  mean_concavity  mean_concave_points  mean_symmetry  \\\n",
       "0           0.27760          0.3001              0.14710         0.2419   \n",
       "1           0.07864          0.0869              0.07017         0.1812   \n",
       "2           0.15990          0.1974              0.12790         0.2069   \n",
       "3           0.28390          0.2414              0.10520         0.2597   \n",
       "4           0.13280          0.1980              0.10430         0.1809   \n",
       "\n",
       "   mean_fractal_dimension  ...  worst_texture  worst_perimeter  worst_area  \\\n",
       "0                 0.07871  ...          17.33           184.60      2019.0   \n",
       "1                 0.05667  ...          23.41           158.80      1956.0   \n",
       "2                 0.05999  ...          25.53           152.50      1709.0   \n",
       "3                 0.09744  ...          26.50            98.87       567.7   \n",
       "4                 0.05883  ...          16.67           152.20      1575.0   \n",
       "\n",
       "   worst_smoothness  worst_compactness  worst_concavity  worst_concave_points  \\\n",
       "0            0.1622             0.6656           0.7119                0.2654   \n",
       "1            0.1238             0.1866           0.2416                0.1860   \n",
       "2            0.1444             0.4245           0.4504                0.2430   \n",
       "3            0.2098             0.8663           0.6869                0.2575   \n",
       "4            0.1374             0.2050           0.4000                0.1625   \n",
       "\n",
       "   worst_symmetry  worst_fractal_dimension  target  \n",
       "0          0.4601                  0.11890       0  \n",
       "1          0.2750                  0.08902       0  \n",
       "2          0.3613                  0.08758       0  \n",
       "3          0.6638                  0.17300       0  \n",
       "4          0.2364                  0.07678       0  \n",
       "\n",
       "[5 rows x 31 columns]"
      ]
     },
     "execution_count": 45,
     "metadata": {},
     "output_type": "execute_result"
    }
   ],
   "source": [
    "breast_df.head()"
   ]
  },
  {
   "cell_type": "code",
   "execution_count": 46,
   "id": "a3bc680c",
   "metadata": {},
   "outputs": [
    {
     "data": {
      "text/plain": [
       "1    357\n",
       "0    212\n",
       "Name: target, dtype: int64"
      ]
     },
     "execution_count": 46,
     "metadata": {},
     "output_type": "execute_result"
    }
   ],
   "source": [
    "# label 데이터 비율 확인 \n",
    "breast_df['target'].value_counts()"
   ]
  },
  {
   "cell_type": "code",
   "execution_count": 47,
   "id": "5d6cfc1a",
   "metadata": {},
   "outputs": [],
   "source": [
    "## 학습 데이터 셋 생성 \n",
    "\n",
    "# 평균관련 된 3개의 속성으로 종양 여부 판단 \n",
    "breast_feature = ['mean_radius', 'mean_texture', 'mean_perimeter' ]\n",
    "\n",
    "X = breast_df[breast_feature] # 독립변수 \n",
    "\n",
    "Y = breast_df['target']\n",
    "\n",
    "## 표준점수로 데이터 스케일링\n",
    "\n",
    "scaler = StandardScaler()\n",
    "train_scaled = scaler.fit_transform(X)\n",
    "\n",
    "# 80%의 데이터를 학습 데이터로, 20%를 테스트 데이터 \n",
    "X_train, X_test, y_train, y_test = train_test_split(train_scaled, Y, test_size = 0.2, random_state = 20) "
   ]
  },
  {
   "cell_type": "code",
   "execution_count": 48,
   "id": "9937fc22",
   "metadata": {},
   "outputs": [
    {
     "name": "stdout",
     "output_type": "stream",
     "text": [
      "accuracy: 0.9298245614035088\n",
      "oob score 0.8967032967032967\n"
     ]
    }
   ],
   "source": [
    "## 기본적인 randomforest모형\n",
    "from sklearn.ensemble import RandomForestClassifier\n",
    "from sklearn.metrics import accuracy_score # 정확도 함수\n",
    "\n",
    "rf_clf = RandomForestClassifier(n_estimators=20, max_depth=5,random_state=20, oob_score = True)\n",
    "rf_clf.fit(X_train,y_train)\n",
    "\n",
    "predict1 = rf_clf.predict(X_test)\n",
    "print(\"accuracy:\", accuracy_score(y_test, predict1))\n",
    "\n",
    "print(\"oob score\", rf_clf.oob_score_) # oob score "
   ]
  },
  {
   "cell_type": "code",
   "execution_count": 49,
   "id": "b821c584",
   "metadata": {},
   "outputs": [
    {
     "name": "stdout",
     "output_type": "stream",
     "text": [
      "accuracy: 0.9210526315789473\n",
      "oob score 0.8945054945054945\n"
     ]
    }
   ],
   "source": [
    "# Random Forest Tree 깊이 증가\n",
    "\n",
    "# 트리 구성 : 200개, 트리 깊이 : 100(max_depth)\n",
    "rf_clf_2 = RandomForestClassifier(n_estimators=200, max_depth=100,random_state=20, oob_score = True)\n",
    "rf_clf_2.fit(X_train,y_train)\n",
    "\n",
    "predict2 = rf_clf_2.predict(X_test)\n",
    "print(\"accuracy:\", accuracy_score(y_test,predict2))\n",
    "\n",
    "print(\"oob score\", rf_clf_2.oob_score_) # oob score (트리 다양성 증가 -> 감소 )"
   ]
  },
  {
   "cell_type": "code",
   "execution_count": 50,
   "id": "27bd2357",
   "metadata": {},
   "outputs": [
    {
     "name": "stdout",
     "output_type": "stream",
     "text": [
      "[[-0.97055937  0.25605918 -0.92550398]\n",
      " [ 0.42111019  0.0210254   0.33079712]\n",
      " [ 1.27883307  1.35443486  1.35231409]\n",
      " [-0.60418105  2.08047981 -0.62605123]]\n",
      "실제 정답 [1 0 0 1]\n"
     ]
    },
    {
     "data": {
      "text/plain": [
       "array([1, 0, 0, 1])"
      ]
     },
     "execution_count": 50,
     "metadata": {},
     "output_type": "execute_result"
    }
   ],
   "source": [
    "## 예측 대상 \n",
    "print(X_test[:4])\n",
    "\n",
    "## 예측 대상의 정답 \n",
    "print(\"실제 정답\", np.array(y_test[:4]))\n",
    "\n",
    "## 예측 결과 \n",
    "predict2[:4]"
   ]
  },
  {
   "cell_type": "code",
   "execution_count": 51,
   "id": "6ab7f37e",
   "metadata": {},
   "outputs": [
    {
     "data": {
      "image/png": "[encoded data removed]",
      "text/plain": [
       "<Figure size 576x432 with 1 Axes>"
      ]
     },
     "metadata": {},
     "output_type": "display_data"
    }
   ],
   "source": [
    "## 변수 중요도 시각화 \n",
    "    \n",
    "ftr_impo_val_clf2 = rf_clf_2.feature_importances_\n",
    "\n",
    "ftr_importa_visual = pd.Series(ftr_impo_val_clf2, index=breast_feature)\n",
    "\n",
    "ftr_top = ftr_importa_visual.sort_values(ascending=False)\n",
    " \n",
    "plt.figure(figsize=(8, 6))\n",
    "sns.barplot(x=ftr_top, y=ftr_top.index)\n",
    "plt.show()\n"
   ]
  },
  {
   "cell_type": "code",
   "execution_count": null,
   "id": "b65b86a6",
   "metadata": {},
   "outputs": [],
   "source": []
  },
  {
   "cell_type": "code",
   "execution_count": null,
   "id": "91c16111",
   "metadata": {},
   "outputs": [],
   "source": []
  }
 ],
 "metadata": {
  "kernelspec": {
   "display_name": "Python 3",
   "language": "python",
   "name": "python3"
  },
  "language_info": {
   "codemirror_mode": {
    "name": "ipython",
    "version": 3
   },
   "file_extension": ".py",
   "mimetype": "text/x-python",
   "name": "python",
   "nbconvert_exporter": "python",
   "pygments_lexer": "ipython3",
   "version": "3.6.13"
  }
 },
 "nbformat": 4,
 "nbformat_minor": 5
}
