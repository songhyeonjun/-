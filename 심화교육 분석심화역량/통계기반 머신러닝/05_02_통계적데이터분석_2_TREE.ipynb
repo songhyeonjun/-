{
 "cells": [
  {
   "cell_type": "markdown",
   "id": "375fe75e",
   "metadata": {},
   "source": [
    "# Tree Model "
   ]
  },
  {
   "cell_type": "markdown",
   "id": "07f98e1e",
   "metadata": {},
   "source": [
    "# 의사결정트리(Decision Tree) "
   ]
  },
  {
   "cell_type": "markdown",
   "id": "84f4e4d1",
   "metadata": {},
   "source": [
    "### Graphviz\n",
    "- dot language를 활용한 그래프를 그리기 위한 오픈소스 툴\n",
    "#### 설치 \n",
    "1. 다운로드 및 설치 \n",
    "- 다운로드 https://graphviz.gitlab.io/download/ \n",
    "- 설치 시 path 설정 체크 \n",
    "- 사용자 환경 변수 혹은 시스템 환경변수 설정 (제어판 - 시스템 - 고급시스템 설정)\n",
    " - 환경변수 - path - 편집 : C:\\Program Files\\Graphviz\\bin\n",
    " - 시스템 변수 - path - 편집 : C:\\Program Files\\Graphviz\\bin\\dot.exe\n",
    "2. pip install graphviz\n",
    "- 오류나는 경우 anaconda prompt에서 설치(가상화 환경 밖에서 실행)\n",
    "\n",
    "3. jupyter에서 확인 \n",
    "- import graphviz as gv \n"
   ]
  },
  {
   "cell_type": "markdown",
   "id": "a3501d56",
   "metadata": {},
   "source": [
    "## Decision Tree Classifier ( 의사결정분류나무 )\n",
    "-  종속변수(Class) : 범주형\n",
    "\n",
    "### from sklearn import tree \n",
    "### from sklearn.tree import DecisionTreeClassifier\n",
    "\n",
    "- crierion (str) : 정보량 계산 시 사용할 수식 (gini / entropy)\n",
    "- max_depth (int) : 생성할 트리의 높이\n",
    "- min_samples_split (int) : 분기를 수행하는 최소한의 데이터 수\n",
    "- max_leaf_nodes (int) : 리프 노드가 가지고 있을 수 있는 최대 데이터 수\n",
    "- random_state (int) : 내부적으로 사용되는 난수 값"
   ]
  },
  {
   "cell_type": "code",
   "execution_count": 1,
   "id": "322c7639",
   "metadata": {},
   "outputs": [],
   "source": [
    "## 라이브러리 임포트 \n",
    "import warnings\n",
    "# FutureWarning 제거\n",
    "warnings.simplefilter(action='ignore', category=FutureWarning) \n",
    "import numpy as np\n",
    "import pandas as pd\n",
    "import matplotlib.pyplot as plt\n",
    "from sklearn.metrics import accuracy_score, confusion_matrix, classification_report\n",
    "from sklearn.model_selection import train_test_split"
   ]
  },
  {
   "cell_type": "code",
   "execution_count": 2,
   "id": "e9e8ea6c",
   "metadata": {},
   "outputs": [],
   "source": [
    "## sklearn 모듈의 tree import\n",
    "from sklearn import tree\n",
    "\n",
    "# tree 시각화 \n",
    "import graphviz as gv\n",
    "from sklearn.tree import export_graphviz  \n",
    "import os \n",
    "\n",
    "# 환경변수 추가 후 환경변수 설정 아래코드(아래 경로는 실제 설치된 경로 확인 )\n",
    "os.environ[\"PATH\"] += os.pathsep + 'C:\\\\Program Files\\\\Graphviz\\\\bin\\\\' "
   ]
  },
  {
   "cell_type": "markdown",
   "id": "aeff6e9b",
   "metadata": {},
   "source": [
    "### 교제 사례 기준 트리 구성 확인  "
   ]
  },
  {
   "cell_type": "code",
   "execution_count": 3,
   "id": "47e59636",
   "metadata": {},
   "outputs": [],
   "source": [
    "### 테스트 데이터 생성    \n",
    "# 성별 : 남(0), 여(1)\n",
    "my_list1 = [\n",
    "            '0', '0', '0', '0', '0', '0', '0', '0', '0', '0', '0', '0', '0', '0', '0', '0', '0', '0', '0', '0',\n",
    "            '0', '0', '0', '0', '0', '0', '0', '0', '0', '0', '0', '0', '0', '0', '0', '0', '0', '0', '0', '0',\n",
    "            '1', '1', '1', '1', '1', '1', '1', '1', '1', '1', '0', '0', '0', '0', '0', '0', '0', '0', '0', '0',\n",
    "            '1', '1', '1', '1', '1', '1', '1', '1', '1', '1', '1', '1', '1', '1', '1', '1', '1', '1', '1', '1', \n",
    "            '1', '1', '1', '1', '1', '1', '1', '1', '1', '1', '1', '1', '1', '1', '1', '1', '1', '1', '1', '1' ]\n",
    "# 나이 \n",
    "my_list2 = [50, 50, 50, 50, 50, 50, 50, 50, 50, 50, 50, 50, 50, 50, 50, 50, 50, 50, 50, 50,\n",
    "            50, 50, 50, 50, 50, 50, 50, 50, 50, 50, 30, 30, 30, 30, 30, 30, 30, 30, 30, 30,\n",
    "            30, 30, 30, 30, 30, 30, 30, 30, 30, 30, 50, 50, 50, 50, 50, 50, 50, 50, 50, 50,\n",
    "            50, 50, 50, 50, 50, 50, 50, 50, 50, 50, 30, 30, 30, 30, 30, 30, 30, 30, 30, 30,\n",
    "            30, 30, 30, 30, 30, 30, 30, 30, 30, 30, 30, 30, 30, 30, 30, 30, 30, 30, 30, 30]\n",
    "# 타겟 데이터, good/bad : good(0),bad(1)    \n",
    "my_list3 = ['0', '0', '0', '0', '0', '0', '0', '0', '0', '0', '0', '0', '0', '0', '0', '0', '0', '0', '0', '0',\n",
    "            '0', '0', '0', '0', '0', '0', '0', '0', '0', '0', '0', '0', '0', '0', '0', '0', '0', '0', '0', '0',\n",
    "            '0', '0', '0', '0', '0', '0', '0', '0', '0', '0', '1', '1', '1', '1', '1', '1', '1', '1', '1', '1', \n",
    "            '1', '1', '1', '1', '1', '1', '1', '1', '1', '1', '1', '1', '1', '1', '1', '1', '1', '1', '1', '1', \n",
    "            '1', '1', '1', '1', '1', '1', '1', '1', '1', '1', '1', '1', '1', '1', '1', '1', '1', '1', '1', '1' ]\n",
    "      \n",
    "df_tree_t = pd.DataFrame({'성별': my_list1, \n",
    "                          '나이': my_list2, \n",
    "                          'good/bad': my_list3})"
   ]
  },
  {
   "cell_type": "code",
   "execution_count": 4,
   "id": "0239f717",
   "metadata": {},
   "outputs": [
    {
     "name": "stdout",
     "output_type": "stream",
     "text": [
      "(100, 3)\n",
      "<class 'pandas.core.frame.DataFrame'>\n",
      "RangeIndex: 100 entries, 0 to 99\n",
      "Data columns (total 3 columns):\n",
      " #   Column    Non-Null Count  Dtype \n",
      "---  ------    --------------  ----- \n",
      " 0   성별        100 non-null    object\n",
      " 1   나이        100 non-null    int64 \n",
      " 2   good/bad  100 non-null    object\n",
      "dtypes: int64(1), object(2)\n",
      "memory usage: 2.5+ KB\n",
      "None\n"
     ]
    },
    {
     "data": {
      "text/html": [
       "<div>\n",
       "<style scoped>\n",
       "    .dataframe tbody tr th:only-of-type {\n",
       "        vertical-align: middle;\n",
       "    }\n",
       "\n",
       "    .dataframe tbody tr th {\n",
       "        vertical-align: top;\n",
       "    }\n",
       "\n",
       "    .dataframe thead th {\n",
       "        text-align: right;\n",
       "    }\n",
       "</style>\n",
       "<table border=\"1\" class=\"dataframe\">\n",
       "  <thead>\n",
       "    <tr style=\"text-align: right;\">\n",
       "      <th></th>\n",
       "      <th>성별</th>\n",
       "      <th>나이</th>\n",
       "      <th>good/bad</th>\n",
       "    </tr>\n",
       "  </thead>\n",
       "  <tbody>\n",
       "    <tr>\n",
       "      <th>0</th>\n",
       "      <td>0</td>\n",
       "      <td>50</td>\n",
       "      <td>0</td>\n",
       "    </tr>\n",
       "    <tr>\n",
       "      <th>1</th>\n",
       "      <td>0</td>\n",
       "      <td>50</td>\n",
       "      <td>0</td>\n",
       "    </tr>\n",
       "    <tr>\n",
       "      <th>2</th>\n",
       "      <td>0</td>\n",
       "      <td>50</td>\n",
       "      <td>0</td>\n",
       "    </tr>\n",
       "  </tbody>\n",
       "</table>\n",
       "</div>"
      ],
      "text/plain": [
       "  성별  나이 good/bad\n",
       "0  0  50        0\n",
       "1  0  50        0\n",
       "2  0  50        0"
      ]
     },
     "execution_count": 4,
     "metadata": {},
     "output_type": "execute_result"
    }
   ],
   "source": [
    "## 데이터 확인 \n",
    "print(df_tree_t.shape)\n",
    "print(df_tree_t.info())\n",
    "df_tree_t.head(3)"
   ]
  },
  {
   "cell_type": "code",
   "execution_count": 5,
   "id": "c15555b6",
   "metadata": {},
   "outputs": [
    {
     "name": "stdout",
     "output_type": "stream",
     "text": [
      "나이\n",
      "30    50\n",
      "50    50\n",
      "Name: good/bad, dtype: int64\n",
      "          성별  나이\n",
      "good/bad        \n",
      "0         50  50\n",
      "1         50  50\n"
     ]
    }
   ],
   "source": [
    "# 데이터 확인 \n",
    "print(df_tree_t['good/bad'].groupby(df_tree_t['나이']).count())\n",
    "print(df_tree_t.groupby(df_tree_t['good/bad']).count())"
   ]
  },
  {
   "cell_type": "markdown",
   "id": "5c08c694",
   "metadata": {},
   "source": [
    "## 지니지수"
   ]
  },
  {
   "cell_type": "markdown",
   "id": "5f29ea75",
   "metadata": {},
   "source": [
    "### 지니지수 - 나이 기준 "
   ]
  },
  {
   "cell_type": "code",
   "execution_count": 6,
   "id": "498e2e29",
   "metadata": {},
   "outputs": [
    {
     "data": {
      "image/svg+xml": [
       "<?xml version=\"1.0\" encoding=\"UTF-8\" standalone=\"no\"?>\n",
       "<!DOCTYPE svg PUBLIC \"-//W3C//DTD SVG 1.1//EN\"\n",
       " \"http://www.w3.org/Graphics/SVG/1.1/DTD/svg11.dtd\">\n",
       "<!-- Generated by graphviz version 5.0.0 (20220707.1540)\n",
       " -->\n",
       "<!-- Title: Tree Pages: 1 -->\n",
       "<svg width=\"252pt\" height=\"195pt\"\n",
       " viewBox=\"0.00 0.00 252.00 195.00\" xmlns=\"http://www.w3.org/2000/svg\" xmlns:xlink=\"http://www.w3.org/1999/xlink\">\n",
       "<g id=\"graph0\" class=\"graph\" transform=\"scale(1 1) rotate(0) translate(4 191)\">\n",
       "<title>Tree</title>\n",
       "<polygon fill=\"white\" stroke=\"transparent\" points=\"-4,4 -4,-191 248,-191 248,4 -4,4\"/>\n",
       "<!-- 0 -->\n",
       "<g id=\"node1\" class=\"node\">\n",
       "<title>0</title>\n",
       "<path fill=\"#ffffff\" stroke=\"black\" d=\"M166,-187C166,-187 77,-187 77,-187 71,-187 65,-181 65,-175 65,-175 65,-116 65,-116 65,-110 71,-104 77,-104 77,-104 166,-104 166,-104 172,-104 178,-110 178,-116 178,-116 178,-175 178,-175 178,-181 172,-187 166,-187\"/>\n",
       "<text text-anchor=\"start\" x=\"82\" y=\"-171.8\" font-family=\"Helvetica,sans-Serif\" font-size=\"14.00\">나이 ≤ 40.0</text>\n",
       "<text text-anchor=\"start\" x=\"92.5\" y=\"-156.8\" font-family=\"Helvetica,sans-Serif\" font-size=\"14.00\">gini = 0.5</text>\n",
       "<text text-anchor=\"start\" x=\"74\" y=\"-141.8\" font-family=\"Helvetica,sans-Serif\" font-size=\"14.00\">samples = 100</text>\n",
       "<text text-anchor=\"start\" x=\"73\" y=\"-126.8\" font-family=\"Helvetica,sans-Serif\" font-size=\"14.00\">value = [50, 50]</text>\n",
       "<text text-anchor=\"start\" x=\"80.5\" y=\"-111.8\" font-family=\"Helvetica,sans-Serif\" font-size=\"14.00\">class = good</text>\n",
       "</g>\n",
       "<!-- 1 -->\n",
       "<g id=\"node2\" class=\"node\">\n",
       "<title>1</title>\n",
       "<path fill=\"#bddef6\" stroke=\"black\" d=\"M101,-68C101,-68 12,-68 12,-68 6,-68 0,-62 0,-56 0,-56 0,-12 0,-12 0,-6 6,0 12,0 12,0 101,0 101,0 107,0 113,-6 113,-12 113,-12 113,-56 113,-56 113,-62 107,-68 101,-68\"/>\n",
       "<text text-anchor=\"start\" x=\"23\" y=\"-52.8\" font-family=\"Helvetica,sans-Serif\" font-size=\"14.00\">gini = 0.48</text>\n",
       "<text text-anchor=\"start\" x=\"13\" y=\"-37.8\" font-family=\"Helvetica,sans-Serif\" font-size=\"14.00\">samples = 50</text>\n",
       "<text text-anchor=\"start\" x=\"8\" y=\"-22.8\" font-family=\"Helvetica,sans-Serif\" font-size=\"14.00\">value = [20, 30]</text>\n",
       "<text text-anchor=\"start\" x=\"20\" y=\"-7.8\" font-family=\"Helvetica,sans-Serif\" font-size=\"14.00\">class = bad</text>\n",
       "</g>\n",
       "<!-- 0&#45;&gt;1 -->\n",
       "<g id=\"edge1\" class=\"edge\">\n",
       "<title>0&#45;&gt;1</title>\n",
       "<path fill=\"none\" stroke=\"black\" d=\"M97.3,-103.73C92.1,-94.97 86.6,-85.7 81.38,-76.91\"/>\n",
       "<polygon fill=\"black\" stroke=\"black\" points=\"84.38,-75.11 76.27,-68.3 78.36,-78.69 84.38,-75.11\"/>\n",
       "<text text-anchor=\"middle\" x=\"70.09\" y=\"-88.82\" font-family=\"Helvetica,sans-Serif\" font-size=\"14.00\">True</text>\n",
       "</g>\n",
       "<!-- 2 -->\n",
       "<g id=\"node3\" class=\"node\">\n",
       "<title>2</title>\n",
       "<path fill=\"#f6d5bd\" stroke=\"black\" d=\"M232,-68C232,-68 143,-68 143,-68 137,-68 131,-62 131,-56 131,-56 131,-12 131,-12 131,-6 137,0 143,0 143,0 232,0 232,0 238,0 244,-6 244,-12 244,-12 244,-56 244,-56 244,-62 238,-68 232,-68\"/>\n",
       "<text text-anchor=\"start\" x=\"154\" y=\"-52.8\" font-family=\"Helvetica,sans-Serif\" font-size=\"14.00\">gini = 0.48</text>\n",
       "<text text-anchor=\"start\" x=\"144\" y=\"-37.8\" font-family=\"Helvetica,sans-Serif\" font-size=\"14.00\">samples = 50</text>\n",
       "<text text-anchor=\"start\" x=\"139\" y=\"-22.8\" font-family=\"Helvetica,sans-Serif\" font-size=\"14.00\">value = [30, 20]</text>\n",
       "<text text-anchor=\"start\" x=\"146.5\" y=\"-7.8\" font-family=\"Helvetica,sans-Serif\" font-size=\"14.00\">class = good</text>\n",
       "</g>\n",
       "<!-- 0&#45;&gt;2 -->\n",
       "<g id=\"edge2\" class=\"edge\">\n",
       "<title>0&#45;&gt;2</title>\n",
       "<path fill=\"none\" stroke=\"black\" d=\"M146.08,-103.73C151.35,-94.97 156.94,-85.7 162.24,-76.91\"/>\n",
       "<polygon fill=\"black\" stroke=\"black\" points=\"165.26,-78.67 167.43,-68.3 159.27,-75.06 165.26,-78.67\"/>\n",
       "<text text-anchor=\"middle\" x=\"173.44\" y=\"-88.87\" font-family=\"Helvetica,sans-Serif\" font-size=\"14.00\">False</text>\n",
       "</g>\n",
       "</g>\n",
       "</svg>\n"
      ],
      "text/plain": [
       "<graphviz.sources.Source at 0x1bc0aa58>"
      ]
     },
     "execution_count": 6,
     "metadata": {},
     "output_type": "execute_result"
    }
   ],
   "source": [
    "# 데이터 컨버전 \n",
    "train_temp_X = np.array(df_tree_t['나이'])\n",
    "train_temp_X = train_temp_X.reshape(-1,1)\n",
    "train_temp_y = np.array(df_tree_t['good/bad'])\n",
    "train_temp_y = train_temp_y.reshape(-1,1)\n",
    "\n",
    "# 지니 지수 의사결정 트리 모델 피팅 \n",
    "gini_clf = tree.DecisionTreeClassifier(criterion=\"gini\", max_depth = 3, random_state = 20 )               \n",
    "gini_clf = gini_clf.fit(train_temp_X, train_temp_y)    \n",
    "\n",
    "# 시각화 \n",
    "dot_data = tree.export_graphviz(gini_clf,   # 의사결정나무 모형 대입\n",
    "                               out_file = None,  # file로 변환할 것인가\n",
    "                               feature_names = ['나이' ],   # feature 이름\n",
    "                               class_names = ['good','bad'],  # target 이름\n",
    "                               filled = True,           # 그림에 색상을 넣을것인가\n",
    "                               rounded = True,          # 반올림을 진행할 것인가\n",
    "                               special_characters = True)   # 특수문자를 사용하나\n",
    "\n",
    "graph = gv.Source(dot_data)              \n",
    "graph"
   ]
  },
  {
   "cell_type": "markdown",
   "id": "ae4cb930",
   "metadata": {},
   "source": [
    "### 지니지수 - 성별 기준 "
   ]
  },
  {
   "cell_type": "code",
   "execution_count": 7,
   "id": "76a8cc55",
   "metadata": {},
   "outputs": [
    {
     "data": {
      "image/svg+xml": [
       "<?xml version=\"1.0\" encoding=\"UTF-8\" standalone=\"no\"?>\n",
       "<!DOCTYPE svg PUBLIC \"-//W3C//DTD SVG 1.1//EN\"\n",
       " \"http://www.w3.org/Graphics/SVG/1.1/DTD/svg11.dtd\">\n",
       "<!-- Generated by graphviz version 5.0.0 (20220707.1540)\n",
       " -->\n",
       "<!-- Title: Tree Pages: 1 -->\n",
       "<svg width=\"252pt\" height=\"195pt\"\n",
       " viewBox=\"0.00 0.00 252.00 195.00\" xmlns=\"http://www.w3.org/2000/svg\" xmlns:xlink=\"http://www.w3.org/1999/xlink\">\n",
       "<g id=\"graph0\" class=\"graph\" transform=\"scale(1 1) rotate(0) translate(4 191)\">\n",
       "<title>Tree</title>\n",
       "<polygon fill=\"white\" stroke=\"transparent\" points=\"-4,4 -4,-191 248,-191 248,4 -4,4\"/>\n",
       "<!-- 0 -->\n",
       "<g id=\"node1\" class=\"node\">\n",
       "<title>0</title>\n",
       "<path fill=\"#ffffff\" stroke=\"black\" d=\"M166,-187C166,-187 77,-187 77,-187 71,-187 65,-181 65,-175 65,-175 65,-116 65,-116 65,-110 71,-104 77,-104 77,-104 166,-104 166,-104 172,-104 178,-110 178,-116 178,-116 178,-175 178,-175 178,-181 172,-187 166,-187\"/>\n",
       "<text text-anchor=\"start\" x=\"86.5\" y=\"-171.8\" font-family=\"Helvetica,sans-Serif\" font-size=\"14.00\">성별 ≤ 0.5</text>\n",
       "<text text-anchor=\"start\" x=\"92.5\" y=\"-156.8\" font-family=\"Helvetica,sans-Serif\" font-size=\"14.00\">gini = 0.5</text>\n",
       "<text text-anchor=\"start\" x=\"74\" y=\"-141.8\" font-family=\"Helvetica,sans-Serif\" font-size=\"14.00\">samples = 100</text>\n",
       "<text text-anchor=\"start\" x=\"73\" y=\"-126.8\" font-family=\"Helvetica,sans-Serif\" font-size=\"14.00\">value = [50, 50]</text>\n",
       "<text text-anchor=\"start\" x=\"80.5\" y=\"-111.8\" font-family=\"Helvetica,sans-Serif\" font-size=\"14.00\">class = good</text>\n",
       "</g>\n",
       "<!-- 1 -->\n",
       "<g id=\"node2\" class=\"node\">\n",
       "<title>1</title>\n",
       "<path fill=\"#eca06a\" stroke=\"black\" d=\"M101,-68C101,-68 12,-68 12,-68 6,-68 0,-62 0,-56 0,-56 0,-12 0,-12 0,-6 6,0 12,0 12,0 101,0 101,0 107,0 113,-6 113,-12 113,-12 113,-56 113,-56 113,-62 107,-68 101,-68\"/>\n",
       "<text text-anchor=\"start\" x=\"23\" y=\"-52.8\" font-family=\"Helvetica,sans-Serif\" font-size=\"14.00\">gini = 0.32</text>\n",
       "<text text-anchor=\"start\" x=\"13\" y=\"-37.8\" font-family=\"Helvetica,sans-Serif\" font-size=\"14.00\">samples = 50</text>\n",
       "<text text-anchor=\"start\" x=\"8\" y=\"-22.8\" font-family=\"Helvetica,sans-Serif\" font-size=\"14.00\">value = [40, 10]</text>\n",
       "<text text-anchor=\"start\" x=\"15.5\" y=\"-7.8\" font-family=\"Helvetica,sans-Serif\" font-size=\"14.00\">class = good</text>\n",
       "</g>\n",
       "<!-- 0&#45;&gt;1 -->\n",
       "<g id=\"edge1\" class=\"edge\">\n",
       "<title>0&#45;&gt;1</title>\n",
       "<path fill=\"none\" stroke=\"black\" d=\"M97.3,-103.73C92.1,-94.97 86.6,-85.7 81.38,-76.91\"/>\n",
       "<polygon fill=\"black\" stroke=\"black\" points=\"84.38,-75.11 76.27,-68.3 78.36,-78.69 84.38,-75.11\"/>\n",
       "<text text-anchor=\"middle\" x=\"70.09\" y=\"-88.82\" font-family=\"Helvetica,sans-Serif\" font-size=\"14.00\">True</text>\n",
       "</g>\n",
       "<!-- 2 -->\n",
       "<g id=\"node3\" class=\"node\">\n",
       "<title>2</title>\n",
       "<path fill=\"#6ab6ec\" stroke=\"black\" d=\"M232,-68C232,-68 143,-68 143,-68 137,-68 131,-62 131,-56 131,-56 131,-12 131,-12 131,-6 137,0 143,0 143,0 232,0 232,0 238,0 244,-6 244,-12 244,-12 244,-56 244,-56 244,-62 238,-68 232,-68\"/>\n",
       "<text text-anchor=\"start\" x=\"154\" y=\"-52.8\" font-family=\"Helvetica,sans-Serif\" font-size=\"14.00\">gini = 0.32</text>\n",
       "<text text-anchor=\"start\" x=\"144\" y=\"-37.8\" font-family=\"Helvetica,sans-Serif\" font-size=\"14.00\">samples = 50</text>\n",
       "<text text-anchor=\"start\" x=\"139\" y=\"-22.8\" font-family=\"Helvetica,sans-Serif\" font-size=\"14.00\">value = [10, 40]</text>\n",
       "<text text-anchor=\"start\" x=\"151\" y=\"-7.8\" font-family=\"Helvetica,sans-Serif\" font-size=\"14.00\">class = bad</text>\n",
       "</g>\n",
       "<!-- 0&#45;&gt;2 -->\n",
       "<g id=\"edge2\" class=\"edge\">\n",
       "<title>0&#45;&gt;2</title>\n",
       "<path fill=\"none\" stroke=\"black\" d=\"M146.08,-103.73C151.35,-94.97 156.94,-85.7 162.24,-76.91\"/>\n",
       "<polygon fill=\"black\" stroke=\"black\" points=\"165.26,-78.67 167.43,-68.3 159.27,-75.06 165.26,-78.67\"/>\n",
       "<text text-anchor=\"middle\" x=\"173.44\" y=\"-88.87\" font-family=\"Helvetica,sans-Serif\" font-size=\"14.00\">False</text>\n",
       "</g>\n",
       "</g>\n",
       "</svg>\n"
      ],
      "text/plain": [
       "<graphviz.sources.Source at 0x84ea320>"
      ]
     },
     "execution_count": 7,
     "metadata": {},
     "output_type": "execute_result"
    }
   ],
   "source": [
    "# 데이터 컨버전 \n",
    "train_temp_X = np.array(df_tree_t['성별'])\n",
    "train_temp_X = train_temp_X.reshape(-1,1)\n",
    "train_temp_y = np.array(df_tree_t['good/bad'])\n",
    "train_temp_y = train_temp_y.reshape(-1,1)\n",
    "\n",
    "# 지니 지수 의사결정 트리 모델 피팅 \n",
    "gini_clf = tree.DecisionTreeClassifier(criterion=\"gini\", max_depth = 3, random_state = 20)               \n",
    "gini_clf = gini_clf.fit(train_temp_X, train_temp_y)    \n",
    "\n",
    "# 시각화 \n",
    "dot_data = tree.export_graphviz(gini_clf,   # 의사결정나무 모형 대입\n",
    "                               out_file = None,  # file로 변환할 것인가\n",
    "                               feature_names = ['성별' ],   # feature 이름\n",
    "                               class_names = ['good','bad'],  # target 이름\n",
    "                               filled = True,           # 그림에 색상을 넣을것인가\n",
    "                               rounded = True,          # 반올림을 진행할 것인가\n",
    "                               special_characters = True)   # 특수문자를 사용하나\n",
    "\n",
    "graph = gv.Source(dot_data)              \n",
    "graph"
   ]
  },
  {
   "cell_type": "markdown",
   "id": "d7cd4e61",
   "metadata": {},
   "source": [
    "### 지니지수 - 분할 기준 확인  "
   ]
  },
  {
   "cell_type": "code",
   "execution_count": 8,
   "id": "2edc5a94",
   "metadata": {},
   "outputs": [
    {
     "data": {
      "image/svg+xml": [
       "<?xml version=\"1.0\" encoding=\"UTF-8\" standalone=\"no\"?>\n",
       "<!DOCTYPE svg PUBLIC \"-//W3C//DTD SVG 1.1//EN\"\n",
       " \"http://www.w3.org/Graphics/SVG/1.1/DTD/svg11.dtd\">\n",
       "<!-- Generated by graphviz version 5.0.0 (20220707.1540)\n",
       " -->\n",
       "<!-- Title: Tree Pages: 1 -->\n",
       "<svg width=\"498pt\" height=\"314pt\"\n",
       " viewBox=\"0.00 0.00 498.00 314.00\" xmlns=\"http://www.w3.org/2000/svg\" xmlns:xlink=\"http://www.w3.org/1999/xlink\">\n",
       "<g id=\"graph0\" class=\"graph\" transform=\"scale(1 1) rotate(0) translate(4 310)\">\n",
       "<title>Tree</title>\n",
       "<polygon fill=\"white\" stroke=\"transparent\" points=\"-4,4 -4,-310 494,-310 494,4 -4,4\"/>\n",
       "<!-- 0 -->\n",
       "<g id=\"node1\" class=\"node\">\n",
       "<title>0</title>\n",
       "<path fill=\"#ffffff\" stroke=\"black\" d=\"M289,-306C289,-306 200,-306 200,-306 194,-306 188,-300 188,-294 188,-294 188,-235 188,-235 188,-229 194,-223 200,-223 200,-223 289,-223 289,-223 295,-223 301,-229 301,-235 301,-235 301,-294 301,-294 301,-300 295,-306 289,-306\"/>\n",
       "<text text-anchor=\"start\" x=\"209.5\" y=\"-290.8\" font-family=\"Helvetica,sans-Serif\" font-size=\"14.00\">성별 ≤ 0.5</text>\n",
       "<text text-anchor=\"start\" x=\"215.5\" y=\"-275.8\" font-family=\"Helvetica,sans-Serif\" font-size=\"14.00\">gini = 0.5</text>\n",
       "<text text-anchor=\"start\" x=\"197\" y=\"-260.8\" font-family=\"Helvetica,sans-Serif\" font-size=\"14.00\">samples = 100</text>\n",
       "<text text-anchor=\"start\" x=\"196\" y=\"-245.8\" font-family=\"Helvetica,sans-Serif\" font-size=\"14.00\">value = [50, 50]</text>\n",
       "<text text-anchor=\"start\" x=\"203.5\" y=\"-230.8\" font-family=\"Helvetica,sans-Serif\" font-size=\"14.00\">class = good</text>\n",
       "</g>\n",
       "<!-- 1 -->\n",
       "<g id=\"node2\" class=\"node\">\n",
       "<title>1</title>\n",
       "<path fill=\"#eca06a\" stroke=\"black\" d=\"M224,-187C224,-187 135,-187 135,-187 129,-187 123,-181 123,-175 123,-175 123,-116 123,-116 123,-110 129,-104 135,-104 135,-104 224,-104 224,-104 230,-104 236,-110 236,-116 236,-116 236,-175 236,-175 236,-181 230,-187 224,-187\"/>\n",
       "<text text-anchor=\"start\" x=\"140\" y=\"-171.8\" font-family=\"Helvetica,sans-Serif\" font-size=\"14.00\">나이 ≤ 40.0</text>\n",
       "<text text-anchor=\"start\" x=\"146\" y=\"-156.8\" font-family=\"Helvetica,sans-Serif\" font-size=\"14.00\">gini = 0.32</text>\n",
       "<text text-anchor=\"start\" x=\"136\" y=\"-141.8\" font-family=\"Helvetica,sans-Serif\" font-size=\"14.00\">samples = 50</text>\n",
       "<text text-anchor=\"start\" x=\"131\" y=\"-126.8\" font-family=\"Helvetica,sans-Serif\" font-size=\"14.00\">value = [40, 10]</text>\n",
       "<text text-anchor=\"start\" x=\"138.5\" y=\"-111.8\" font-family=\"Helvetica,sans-Serif\" font-size=\"14.00\">class = good</text>\n",
       "</g>\n",
       "<!-- 0&#45;&gt;1 -->\n",
       "<g id=\"edge1\" class=\"edge\">\n",
       "<title>0&#45;&gt;1</title>\n",
       "<path fill=\"none\" stroke=\"black\" d=\"M221.95,-222.91C217.11,-214.2 211.94,-204.9 206.94,-195.89\"/>\n",
       "<polygon fill=\"black\" stroke=\"black\" points=\"209.93,-194.06 202.01,-187.02 203.81,-197.46 209.93,-194.06\"/>\n",
       "<text text-anchor=\"middle\" x=\"195.14\" y=\"-207.36\" font-family=\"Helvetica,sans-Serif\" font-size=\"14.00\">True</text>\n",
       "</g>\n",
       "<!-- 4 -->\n",
       "<g id=\"node5\" class=\"node\">\n",
       "<title>4</title>\n",
       "<path fill=\"#6ab6ec\" stroke=\"black\" d=\"M355,-187C355,-187 266,-187 266,-187 260,-187 254,-181 254,-175 254,-175 254,-116 254,-116 254,-110 260,-104 266,-104 266,-104 355,-104 355,-104 361,-104 367,-110 367,-116 367,-116 367,-175 367,-175 367,-181 361,-187 355,-187\"/>\n",
       "<text text-anchor=\"start\" x=\"271\" y=\"-171.8\" font-family=\"Helvetica,sans-Serif\" font-size=\"14.00\">나이 ≤ 40.0</text>\n",
       "<text text-anchor=\"start\" x=\"277\" y=\"-156.8\" font-family=\"Helvetica,sans-Serif\" font-size=\"14.00\">gini = 0.32</text>\n",
       "<text text-anchor=\"start\" x=\"267\" y=\"-141.8\" font-family=\"Helvetica,sans-Serif\" font-size=\"14.00\">samples = 50</text>\n",
       "<text text-anchor=\"start\" x=\"262\" y=\"-126.8\" font-family=\"Helvetica,sans-Serif\" font-size=\"14.00\">value = [10, 40]</text>\n",
       "<text text-anchor=\"start\" x=\"274\" y=\"-111.8\" font-family=\"Helvetica,sans-Serif\" font-size=\"14.00\">class = bad</text>\n",
       "</g>\n",
       "<!-- 0&#45;&gt;4 -->\n",
       "<g id=\"edge4\" class=\"edge\">\n",
       "<title>0&#45;&gt;4</title>\n",
       "<path fill=\"none\" stroke=\"black\" d=\"M267.4,-222.91C272.31,-214.2 277.56,-204.9 282.64,-195.89\"/>\n",
       "<polygon fill=\"black\" stroke=\"black\" points=\"285.78,-197.45 287.64,-187.02 279.68,-194.01 285.78,-197.45\"/>\n",
       "<text text-anchor=\"middle\" x=\"294.35\" y=\"-207.4\" font-family=\"Helvetica,sans-Serif\" font-size=\"14.00\">False</text>\n",
       "</g>\n",
       "<!-- 2 -->\n",
       "<g id=\"node3\" class=\"node\">\n",
       "<title>2</title>\n",
       "<path fill=\"#e58139\" stroke=\"black\" d=\"M93,-68C93,-68 12,-68 12,-68 6,-68 0,-62 0,-56 0,-56 0,-12 0,-12 0,-6 6,0 12,0 12,0 93,0 93,0 99,0 105,-6 105,-12 105,-12 105,-56 105,-56 105,-62 99,-68 93,-68\"/>\n",
       "<text text-anchor=\"start\" x=\"23.5\" y=\"-52.8\" font-family=\"Helvetica,sans-Serif\" font-size=\"14.00\">gini = 0.0</text>\n",
       "<text text-anchor=\"start\" x=\"9\" y=\"-37.8\" font-family=\"Helvetica,sans-Serif\" font-size=\"14.00\">samples = 10</text>\n",
       "<text text-anchor=\"start\" x=\"8\" y=\"-22.8\" font-family=\"Helvetica,sans-Serif\" font-size=\"14.00\">value = [10, 0]</text>\n",
       "<text text-anchor=\"start\" x=\"11.5\" y=\"-7.8\" font-family=\"Helvetica,sans-Serif\" font-size=\"14.00\">class = good</text>\n",
       "</g>\n",
       "<!-- 1&#45;&gt;2 -->\n",
       "<g id=\"edge2\" class=\"edge\">\n",
       "<title>1&#45;&gt;2</title>\n",
       "<path fill=\"none\" stroke=\"black\" d=\"M132.21,-103.73C121.31,-94.33 109.74,-84.35 98.88,-74.99\"/>\n",
       "<polygon fill=\"black\" stroke=\"black\" points=\"100.98,-72.18 91.12,-68.3 96.41,-77.48 100.98,-72.18\"/>\n",
       "</g>\n",
       "<!-- 3 -->\n",
       "<g id=\"node4\" class=\"node\">\n",
       "<title>3</title>\n",
       "<path fill=\"#eeab7b\" stroke=\"black\" d=\"M224,-68C224,-68 135,-68 135,-68 129,-68 123,-62 123,-56 123,-56 123,-12 123,-12 123,-6 129,0 135,0 135,0 224,0 224,0 230,0 236,-6 236,-12 236,-12 236,-56 236,-56 236,-62 230,-68 224,-68\"/>\n",
       "<text text-anchor=\"start\" x=\"142\" y=\"-52.8\" font-family=\"Helvetica,sans-Serif\" font-size=\"14.00\">gini = 0.375</text>\n",
       "<text text-anchor=\"start\" x=\"136\" y=\"-37.8\" font-family=\"Helvetica,sans-Serif\" font-size=\"14.00\">samples = 40</text>\n",
       "<text text-anchor=\"start\" x=\"131\" y=\"-22.8\" font-family=\"Helvetica,sans-Serif\" font-size=\"14.00\">value = [30, 10]</text>\n",
       "<text text-anchor=\"start\" x=\"138.5\" y=\"-7.8\" font-family=\"Helvetica,sans-Serif\" font-size=\"14.00\">class = good</text>\n",
       "</g>\n",
       "<!-- 1&#45;&gt;3 -->\n",
       "<g id=\"edge3\" class=\"edge\">\n",
       "<title>1&#45;&gt;3</title>\n",
       "<path fill=\"none\" stroke=\"black\" d=\"M179.5,-103.73C179.5,-95.52 179.5,-86.86 179.5,-78.56\"/>\n",
       "<polygon fill=\"black\" stroke=\"black\" points=\"183,-78.3 179.5,-68.3 176,-78.3 183,-78.3\"/>\n",
       "</g>\n",
       "<!-- 5 -->\n",
       "<g id=\"node6\" class=\"node\">\n",
       "<title>5</title>\n",
       "<path fill=\"#7bbeee\" stroke=\"black\" d=\"M355,-68C355,-68 266,-68 266,-68 260,-68 254,-62 254,-56 254,-56 254,-12 254,-12 254,-6 260,0 266,0 266,0 355,0 355,0 361,0 367,-6 367,-12 367,-12 367,-56 367,-56 367,-62 361,-68 355,-68\"/>\n",
       "<text text-anchor=\"start\" x=\"273\" y=\"-52.8\" font-family=\"Helvetica,sans-Serif\" font-size=\"14.00\">gini = 0.375</text>\n",
       "<text text-anchor=\"start\" x=\"267\" y=\"-37.8\" font-family=\"Helvetica,sans-Serif\" font-size=\"14.00\">samples = 40</text>\n",
       "<text text-anchor=\"start\" x=\"262\" y=\"-22.8\" font-family=\"Helvetica,sans-Serif\" font-size=\"14.00\">value = [10, 30]</text>\n",
       "<text text-anchor=\"start\" x=\"274\" y=\"-7.8\" font-family=\"Helvetica,sans-Serif\" font-size=\"14.00\">class = bad</text>\n",
       "</g>\n",
       "<!-- 4&#45;&gt;5 -->\n",
       "<g id=\"edge5\" class=\"edge\">\n",
       "<title>4&#45;&gt;5</title>\n",
       "<path fill=\"none\" stroke=\"black\" d=\"M310.5,-103.73C310.5,-95.52 310.5,-86.86 310.5,-78.56\"/>\n",
       "<polygon fill=\"black\" stroke=\"black\" points=\"314,-78.3 310.5,-68.3 307,-78.3 314,-78.3\"/>\n",
       "</g>\n",
       "<!-- 6 -->\n",
       "<g id=\"node7\" class=\"node\">\n",
       "<title>6</title>\n",
       "<path fill=\"#399de5\" stroke=\"black\" d=\"M478,-68C478,-68 397,-68 397,-68 391,-68 385,-62 385,-56 385,-56 385,-12 385,-12 385,-6 391,0 397,0 397,0 478,0 478,0 484,0 490,-6 490,-12 490,-12 490,-56 490,-56 490,-62 484,-68 478,-68\"/>\n",
       "<text text-anchor=\"start\" x=\"408.5\" y=\"-52.8\" font-family=\"Helvetica,sans-Serif\" font-size=\"14.00\">gini = 0.0</text>\n",
       "<text text-anchor=\"start\" x=\"394\" y=\"-37.8\" font-family=\"Helvetica,sans-Serif\" font-size=\"14.00\">samples = 10</text>\n",
       "<text text-anchor=\"start\" x=\"393\" y=\"-22.8\" font-family=\"Helvetica,sans-Serif\" font-size=\"14.00\">value = [0, 10]</text>\n",
       "<text text-anchor=\"start\" x=\"401\" y=\"-7.8\" font-family=\"Helvetica,sans-Serif\" font-size=\"14.00\">class = bad</text>\n",
       "</g>\n",
       "<!-- 4&#45;&gt;6 -->\n",
       "<g id=\"edge6\" class=\"edge\">\n",
       "<title>4&#45;&gt;6</title>\n",
       "<path fill=\"none\" stroke=\"black\" d=\"M357.79,-103.73C368.69,-94.33 380.26,-84.35 391.12,-74.99\"/>\n",
       "<polygon fill=\"black\" stroke=\"black\" points=\"393.59,-77.48 398.88,-68.3 389.02,-72.18 393.59,-77.48\"/>\n",
       "</g>\n",
       "</g>\n",
       "</svg>\n"
      ],
      "text/plain": [
       "<graphviz.sources.Source at 0x1bc0a908>"
      ]
     },
     "execution_count": 8,
     "metadata": {},
     "output_type": "execute_result"
    }
   ],
   "source": [
    "# 데이터 컨버전 \n",
    "train_temp_X = np.array(df_tree_t[['나이','성별']])\n",
    "train_temp_y = np.array(df_tree_t['good/bad'])\n",
    "train_temp_y = train_temp_y.reshape(-1,1)\n",
    "\n",
    "# 지니지수 의사결정 트리 모델 피팅 \n",
    "gini_clf = tree.DecisionTreeClassifier(criterion=\"gini\", max_depth = 3, random_state = 20)               \n",
    "gini_clf = gini_clf.fit(train_temp_X, train_temp_y)             # feature, target\n",
    "\n",
    "# 시각화 \n",
    "dot_data = tree.export_graphviz(gini_clf,   # 의사결정나무 모형 대입\n",
    "                               out_file = None,  # file로 변환할 것인가\n",
    "                               feature_names = ['나이','성별' ],   # feature 이름\n",
    "                               class_names = ['good','bad'],  # target 이름\n",
    "                               filled = True,           # 그림에 색상을 넣을것인가\n",
    "                               rounded = True,          # 반올림을 진행할 것인가\n",
    "                               special_characters = True)   # 특수문자를 사용하나\n",
    "\n",
    "graph = gv.Source(dot_data)              \n",
    "graph"
   ]
  },
  {
   "cell_type": "code",
   "execution_count": 9,
   "id": "9051fb27",
   "metadata": {},
   "outputs": [
    {
     "name": "stdout",
     "output_type": "stream",
     "text": [
      "Accuracy: 0.80\n",
      "[[40 10]\n",
      " [10 40]]\n"
     ]
    },
    {
     "data": {
      "text/html": [
       "<div>\n",
       "<style scoped>\n",
       "    .dataframe tbody tr th:only-of-type {\n",
       "        vertical-align: middle;\n",
       "    }\n",
       "\n",
       "    .dataframe tbody tr th {\n",
       "        vertical-align: top;\n",
       "    }\n",
       "\n",
       "    .dataframe thead tr th {\n",
       "        text-align: left;\n",
       "    }\n",
       "</style>\n",
       "<table border=\"1\" class=\"dataframe\">\n",
       "  <thead>\n",
       "    <tr>\n",
       "      <th></th>\n",
       "      <th>나이</th>\n",
       "      <th>성별</th>\n",
       "    </tr>\n",
       "  </thead>\n",
       "  <tbody>\n",
       "    <tr>\n",
       "      <th>feature_importance</th>\n",
       "      <td>0.1</td>\n",
       "      <td>0.9</td>\n",
       "    </tr>\n",
       "  </tbody>\n",
       "</table>\n",
       "</div>"
      ],
      "text/plain": [
       "                     나이   성별\n",
       "feature_importance  0.1  0.9"
      ]
     },
     "execution_count": 9,
     "metadata": {},
     "output_type": "execute_result"
    }
   ],
   "source": [
    "# Fitting된 모델로 x_valid를 통해 예측을 진행\n",
    "y_pred_gini = gini_clf.predict(train_temp_X)\n",
    "\n",
    "y_pred_e = gini_clf.predict(train_temp_X)\n",
    "print('Accuracy: %.2f' % accuracy_score(train_temp_y, y_pred_e))\n",
    "\n",
    "print(confusion_matrix(train_temp_y, y_pred_e))\n",
    "\n",
    "# 속성 중요도 확인 \n",
    "feature_importance = pd.DataFrame(gini_clf.feature_importances_.reshape((1, -1)),\n",
    "                                  columns= [['나이','성별']], index=['feature_importance'])\n",
    "feature_importance"
   ]
  },
  {
   "cell_type": "markdown",
   "id": "c16cc8ea",
   "metadata": {},
   "source": [
    "## 엔트로피 "
   ]
  },
  {
   "cell_type": "markdown",
   "id": "8e73f42f",
   "metadata": {},
   "source": [
    "### 엔트로피 - 나이기준 "
   ]
  },
  {
   "cell_type": "code",
   "execution_count": 10,
   "id": "5a97da74",
   "metadata": {},
   "outputs": [
    {
     "data": {
      "image/svg+xml": [
       "<?xml version=\"1.0\" encoding=\"UTF-8\" standalone=\"no\"?>\n",
       "<!DOCTYPE svg PUBLIC \"-//W3C//DTD SVG 1.1//EN\"\n",
       " \"http://www.w3.org/Graphics/SVG/1.1/DTD/svg11.dtd\">\n",
       "<!-- Generated by graphviz version 5.0.0 (20220707.1540)\n",
       " -->\n",
       "<!-- Title: Tree Pages: 1 -->\n",
       "<svg width=\"258pt\" height=\"195pt\"\n",
       " viewBox=\"0.00 0.00 258.00 195.00\" xmlns=\"http://www.w3.org/2000/svg\" xmlns:xlink=\"http://www.w3.org/1999/xlink\">\n",
       "<g id=\"graph0\" class=\"graph\" transform=\"scale(1 1) rotate(0) translate(4 191)\">\n",
       "<title>Tree</title>\n",
       "<polygon fill=\"white\" stroke=\"transparent\" points=\"-4,4 -4,-191 254,-191 254,4 -4,4\"/>\n",
       "<!-- 0 -->\n",
       "<g id=\"node1\" class=\"node\">\n",
       "<title>0</title>\n",
       "<path fill=\"#ffffff\" stroke=\"black\" d=\"M169.5,-187C169.5,-187 80.5,-187 80.5,-187 74.5,-187 68.5,-181 68.5,-175 68.5,-175 68.5,-116 68.5,-116 68.5,-110 74.5,-104 80.5,-104 80.5,-104 169.5,-104 169.5,-104 175.5,-104 181.5,-110 181.5,-116 181.5,-116 181.5,-175 181.5,-175 181.5,-181 175.5,-187 169.5,-187\"/>\n",
       "<text text-anchor=\"start\" x=\"85.5\" y=\"-171.8\" font-family=\"Helvetica,sans-Serif\" font-size=\"14.00\">나이 ≤ 40.0</text>\n",
       "<text text-anchor=\"start\" x=\"83\" y=\"-156.8\" font-family=\"Helvetica,sans-Serif\" font-size=\"14.00\">entropy = 1.0</text>\n",
       "<text text-anchor=\"start\" x=\"77.5\" y=\"-141.8\" font-family=\"Helvetica,sans-Serif\" font-size=\"14.00\">samples = 100</text>\n",
       "<text text-anchor=\"start\" x=\"76.5\" y=\"-126.8\" font-family=\"Helvetica,sans-Serif\" font-size=\"14.00\">value = [50, 50]</text>\n",
       "<text text-anchor=\"start\" x=\"84\" y=\"-111.8\" font-family=\"Helvetica,sans-Serif\" font-size=\"14.00\">class = good</text>\n",
       "</g>\n",
       "<!-- 1 -->\n",
       "<g id=\"node2\" class=\"node\">\n",
       "<title>1</title>\n",
       "<path fill=\"#bddef6\" stroke=\"black\" d=\"M104,-68C104,-68 12,-68 12,-68 6,-68 0,-62 0,-56 0,-56 0,-12 0,-12 0,-6 6,0 12,0 12,0 104,0 104,0 110,0 116,-6 116,-12 116,-12 116,-56 116,-56 116,-62 110,-68 104,-68\"/>\n",
       "<text text-anchor=\"start\" x=\"8\" y=\"-52.8\" font-family=\"Helvetica,sans-Serif\" font-size=\"14.00\">entropy = 0.971</text>\n",
       "<text text-anchor=\"start\" x=\"14.5\" y=\"-37.8\" font-family=\"Helvetica,sans-Serif\" font-size=\"14.00\">samples = 50</text>\n",
       "<text text-anchor=\"start\" x=\"9.5\" y=\"-22.8\" font-family=\"Helvetica,sans-Serif\" font-size=\"14.00\">value = [20, 30]</text>\n",
       "<text text-anchor=\"start\" x=\"21.5\" y=\"-7.8\" font-family=\"Helvetica,sans-Serif\" font-size=\"14.00\">class = bad</text>\n",
       "</g>\n",
       "<!-- 0&#45;&gt;1 -->\n",
       "<g id=\"edge1\" class=\"edge\">\n",
       "<title>0&#45;&gt;1</title>\n",
       "<path fill=\"none\" stroke=\"black\" d=\"M100.05,-103.73C94.69,-94.97 89.02,-85.7 83.64,-76.91\"/>\n",
       "<polygon fill=\"black\" stroke=\"black\" points=\"86.58,-75 78.38,-68.3 80.61,-78.66 86.58,-75\"/>\n",
       "<text text-anchor=\"middle\" x=\"72.52\" y=\"-88.9\" font-family=\"Helvetica,sans-Serif\" font-size=\"14.00\">True</text>\n",
       "</g>\n",
       "<!-- 2 -->\n",
       "<g id=\"node3\" class=\"node\">\n",
       "<title>2</title>\n",
       "<path fill=\"#f6d5bd\" stroke=\"black\" d=\"M238,-68C238,-68 146,-68 146,-68 140,-68 134,-62 134,-56 134,-56 134,-12 134,-12 134,-6 140,0 146,0 146,0 238,0 238,0 244,0 250,-6 250,-12 250,-12 250,-56 250,-56 250,-62 244,-68 238,-68\"/>\n",
       "<text text-anchor=\"start\" x=\"142\" y=\"-52.8\" font-family=\"Helvetica,sans-Serif\" font-size=\"14.00\">entropy = 0.971</text>\n",
       "<text text-anchor=\"start\" x=\"148.5\" y=\"-37.8\" font-family=\"Helvetica,sans-Serif\" font-size=\"14.00\">samples = 50</text>\n",
       "<text text-anchor=\"start\" x=\"143.5\" y=\"-22.8\" font-family=\"Helvetica,sans-Serif\" font-size=\"14.00\">value = [30, 20]</text>\n",
       "<text text-anchor=\"start\" x=\"151\" y=\"-7.8\" font-family=\"Helvetica,sans-Serif\" font-size=\"14.00\">class = good</text>\n",
       "</g>\n",
       "<!-- 0&#45;&gt;2 -->\n",
       "<g id=\"edge2\" class=\"edge\">\n",
       "<title>0&#45;&gt;2</title>\n",
       "<path fill=\"none\" stroke=\"black\" d=\"M149.95,-103.73C155.31,-94.97 160.98,-85.7 166.36,-76.91\"/>\n",
       "<polygon fill=\"black\" stroke=\"black\" points=\"169.39,-78.66 171.62,-68.3 163.42,-75 169.39,-78.66\"/>\n",
       "<text text-anchor=\"middle\" x=\"177.48\" y=\"-88.9\" font-family=\"Helvetica,sans-Serif\" font-size=\"14.00\">False</text>\n",
       "</g>\n",
       "</g>\n",
       "</svg>\n"
      ],
      "text/plain": [
       "<graphviz.sources.Source at 0x1bc3a080>"
      ]
     },
     "execution_count": 10,
     "metadata": {},
     "output_type": "execute_result"
    }
   ],
   "source": [
    "# 데이터 컨버전 \n",
    "train_temp_X = np.array(df_tree_t['나이'])\n",
    "train_temp_X = train_temp_X.reshape(-1,1)\n",
    "train_temp_y = np.array(df_tree_t['good/bad'])\n",
    "train_temp_y = train_temp_y.reshape(-1,1)\n",
    "\n",
    "# 모델 피팅 \n",
    "entropy_clf = tree.DecisionTreeClassifier(criterion=\"entropy\", max_depth = 3, random_state = 20)               \n",
    "entropy_clf = entropy_clf.fit(train_temp_X, train_temp_y)    \n",
    "\n",
    "# 시각화 \n",
    "import graphviz as gv\n",
    "dot_data = tree.export_graphviz(entropy_clf,   # 의사결정나무 모형 대입\n",
    "                               out_file = None,  # file로 변환할 것인가\n",
    "                               feature_names = ['나이' ],   # feature 이름\n",
    "                               class_names = ['good','bad'],  # target 이름\n",
    "                               filled = True,           # 그림에 색상을 넣을것인가\n",
    "                               rounded = True,          # 반올림을 진행할 것인가\n",
    "                               special_characters = True)   # 특수문자를 사용하나\n",
    "\n",
    "graph = gv.Source(dot_data)              \n",
    "graph"
   ]
  },
  {
   "cell_type": "markdown",
   "id": "da20b580",
   "metadata": {},
   "source": [
    "### 엔트로피 - 성별 기준 "
   ]
  },
  {
   "cell_type": "code",
   "execution_count": 11,
   "id": "c5323b65",
   "metadata": {},
   "outputs": [
    {
     "data": {
      "image/svg+xml": [
       "<?xml version=\"1.0\" encoding=\"UTF-8\" standalone=\"no\"?>\n",
       "<!DOCTYPE svg PUBLIC \"-//W3C//DTD SVG 1.1//EN\"\n",
       " \"http://www.w3.org/Graphics/SVG/1.1/DTD/svg11.dtd\">\n",
       "<!-- Generated by graphviz version 5.0.0 (20220707.1540)\n",
       " -->\n",
       "<!-- Title: Tree Pages: 1 -->\n",
       "<svg width=\"258pt\" height=\"195pt\"\n",
       " viewBox=\"0.00 0.00 258.00 195.00\" xmlns=\"http://www.w3.org/2000/svg\" xmlns:xlink=\"http://www.w3.org/1999/xlink\">\n",
       "<g id=\"graph0\" class=\"graph\" transform=\"scale(1 1) rotate(0) translate(4 191)\">\n",
       "<title>Tree</title>\n",
       "<polygon fill=\"white\" stroke=\"transparent\" points=\"-4,4 -4,-191 254,-191 254,4 -4,4\"/>\n",
       "<!-- 0 -->\n",
       "<g id=\"node1\" class=\"node\">\n",
       "<title>0</title>\n",
       "<path fill=\"#ffffff\" stroke=\"black\" d=\"M169.5,-187C169.5,-187 80.5,-187 80.5,-187 74.5,-187 68.5,-181 68.5,-175 68.5,-175 68.5,-116 68.5,-116 68.5,-110 74.5,-104 80.5,-104 80.5,-104 169.5,-104 169.5,-104 175.5,-104 181.5,-110 181.5,-116 181.5,-116 181.5,-175 181.5,-175 181.5,-181 175.5,-187 169.5,-187\"/>\n",
       "<text text-anchor=\"start\" x=\"90\" y=\"-171.8\" font-family=\"Helvetica,sans-Serif\" font-size=\"14.00\">성별 ≤ 0.5</text>\n",
       "<text text-anchor=\"start\" x=\"83\" y=\"-156.8\" font-family=\"Helvetica,sans-Serif\" font-size=\"14.00\">entropy = 1.0</text>\n",
       "<text text-anchor=\"start\" x=\"77.5\" y=\"-141.8\" font-family=\"Helvetica,sans-Serif\" font-size=\"14.00\">samples = 100</text>\n",
       "<text text-anchor=\"start\" x=\"76.5\" y=\"-126.8\" font-family=\"Helvetica,sans-Serif\" font-size=\"14.00\">value = [50, 50]</text>\n",
       "<text text-anchor=\"start\" x=\"84\" y=\"-111.8\" font-family=\"Helvetica,sans-Serif\" font-size=\"14.00\">class = good</text>\n",
       "</g>\n",
       "<!-- 1 -->\n",
       "<g id=\"node2\" class=\"node\">\n",
       "<title>1</title>\n",
       "<path fill=\"#eca06a\" stroke=\"black\" d=\"M104,-68C104,-68 12,-68 12,-68 6,-68 0,-62 0,-56 0,-56 0,-12 0,-12 0,-6 6,0 12,0 12,0 104,0 104,0 110,0 116,-6 116,-12 116,-12 116,-56 116,-56 116,-62 110,-68 104,-68\"/>\n",
       "<text text-anchor=\"start\" x=\"8\" y=\"-52.8\" font-family=\"Helvetica,sans-Serif\" font-size=\"14.00\">entropy = 0.722</text>\n",
       "<text text-anchor=\"start\" x=\"14.5\" y=\"-37.8\" font-family=\"Helvetica,sans-Serif\" font-size=\"14.00\">samples = 50</text>\n",
       "<text text-anchor=\"start\" x=\"9.5\" y=\"-22.8\" font-family=\"Helvetica,sans-Serif\" font-size=\"14.00\">value = [40, 10]</text>\n",
       "<text text-anchor=\"start\" x=\"17\" y=\"-7.8\" font-family=\"Helvetica,sans-Serif\" font-size=\"14.00\">class = good</text>\n",
       "</g>\n",
       "<!-- 0&#45;&gt;1 -->\n",
       "<g id=\"edge1\" class=\"edge\">\n",
       "<title>0&#45;&gt;1</title>\n",
       "<path fill=\"none\" stroke=\"black\" d=\"M100.05,-103.73C94.69,-94.97 89.02,-85.7 83.64,-76.91\"/>\n",
       "<polygon fill=\"black\" stroke=\"black\" points=\"86.58,-75 78.38,-68.3 80.61,-78.66 86.58,-75\"/>\n",
       "<text text-anchor=\"middle\" x=\"72.52\" y=\"-88.9\" font-family=\"Helvetica,sans-Serif\" font-size=\"14.00\">True</text>\n",
       "</g>\n",
       "<!-- 2 -->\n",
       "<g id=\"node3\" class=\"node\">\n",
       "<title>2</title>\n",
       "<path fill=\"#6ab6ec\" stroke=\"black\" d=\"M238,-68C238,-68 146,-68 146,-68 140,-68 134,-62 134,-56 134,-56 134,-12 134,-12 134,-6 140,0 146,0 146,0 238,0 238,0 244,0 250,-6 250,-12 250,-12 250,-56 250,-56 250,-62 244,-68 238,-68\"/>\n",
       "<text text-anchor=\"start\" x=\"142\" y=\"-52.8\" font-family=\"Helvetica,sans-Serif\" font-size=\"14.00\">entropy = 0.722</text>\n",
       "<text text-anchor=\"start\" x=\"148.5\" y=\"-37.8\" font-family=\"Helvetica,sans-Serif\" font-size=\"14.00\">samples = 50</text>\n",
       "<text text-anchor=\"start\" x=\"143.5\" y=\"-22.8\" font-family=\"Helvetica,sans-Serif\" font-size=\"14.00\">value = [10, 40]</text>\n",
       "<text text-anchor=\"start\" x=\"155.5\" y=\"-7.8\" font-family=\"Helvetica,sans-Serif\" font-size=\"14.00\">class = bad</text>\n",
       "</g>\n",
       "<!-- 0&#45;&gt;2 -->\n",
       "<g id=\"edge2\" class=\"edge\">\n",
       "<title>0&#45;&gt;2</title>\n",
       "<path fill=\"none\" stroke=\"black\" d=\"M149.95,-103.73C155.31,-94.97 160.98,-85.7 166.36,-76.91\"/>\n",
       "<polygon fill=\"black\" stroke=\"black\" points=\"169.39,-78.66 171.62,-68.3 163.42,-75 169.39,-78.66\"/>\n",
       "<text text-anchor=\"middle\" x=\"177.48\" y=\"-88.9\" font-family=\"Helvetica,sans-Serif\" font-size=\"14.00\">False</text>\n",
       "</g>\n",
       "</g>\n",
       "</svg>\n"
      ],
      "text/plain": [
       "<graphviz.sources.Source at 0x1bc0afd0>"
      ]
     },
     "execution_count": 11,
     "metadata": {},
     "output_type": "execute_result"
    }
   ],
   "source": [
    "# 데이터 컨버전 \n",
    "train_temp_X = np.array(df_tree_t['성별'])\n",
    "train_temp_X = train_temp_X.reshape(-1,1)\n",
    "train_temp_y = np.array(df_tree_t['good/bad'])\n",
    "train_temp_y = train_temp_y.reshape(-1,1)\n",
    "\n",
    "# 모델 학습 \n",
    "entropy_clf = tree.DecisionTreeClassifier(criterion=\"entropy\", max_depth = 3, random_state = 20)               \n",
    "entropy_clf = entropy_clf.fit(train_temp_X, train_temp_y)    \n",
    "\n",
    "# 시각화 \n",
    "import graphviz as gv\n",
    "dot_data = tree.export_graphviz(entropy_clf,   # 의사결정나무 모형 대입\n",
    "                               out_file = None,  # file로 변환할 것인가\n",
    "                               feature_names = ['성별' ],   # feature 이름\n",
    "                               class_names = ['good','bad'],  # target 이름\n",
    "                               filled = True,           # 그림에 색상을 넣을것인가\n",
    "                               rounded = True,          # 반올림을 진행할 것인가\n",
    "                               special_characters = True)   # 특수문자를 사용하나\n",
    "\n",
    "graph = gv.Source(dot_data)              \n",
    "graph"
   ]
  },
  {
   "cell_type": "markdown",
   "id": "0744eb88",
   "metadata": {},
   "source": [
    "### 엔트로피 - 분할 기준 확인 "
   ]
  },
  {
   "cell_type": "code",
   "execution_count": 12,
   "id": "7b638743",
   "metadata": {},
   "outputs": [
    {
     "data": {
      "image/svg+xml": [
       "<?xml version=\"1.0\" encoding=\"UTF-8\" standalone=\"no\"?>\n",
       "<!DOCTYPE svg PUBLIC \"-//W3C//DTD SVG 1.1//EN\"\n",
       " \"http://www.w3.org/Graphics/SVG/1.1/DTD/svg11.dtd\">\n",
       "<!-- Generated by graphviz version 5.0.0 (20220707.1540)\n",
       " -->\n",
       "<!-- Title: Tree Pages: 1 -->\n",
       "<svg width=\"505pt\" height=\"314pt\"\n",
       " viewBox=\"0.00 0.00 505.00 314.00\" xmlns=\"http://www.w3.org/2000/svg\" xmlns:xlink=\"http://www.w3.org/1999/xlink\">\n",
       "<g id=\"graph0\" class=\"graph\" transform=\"scale(1 1) rotate(0) translate(4 310)\">\n",
       "<title>Tree</title>\n",
       "<polygon fill=\"white\" stroke=\"transparent\" points=\"-4,4 -4,-310 501,-310 501,4 -4,4\"/>\n",
       "<!-- 0 -->\n",
       "<g id=\"node1\" class=\"node\">\n",
       "<title>0</title>\n",
       "<path fill=\"#ffffff\" stroke=\"black\" d=\"M293,-306C293,-306 204,-306 204,-306 198,-306 192,-300 192,-294 192,-294 192,-235 192,-235 192,-229 198,-223 204,-223 204,-223 293,-223 293,-223 299,-223 305,-229 305,-235 305,-235 305,-294 305,-294 305,-300 299,-306 293,-306\"/>\n",
       "<text text-anchor=\"start\" x=\"213.5\" y=\"-290.8\" font-family=\"Helvetica,sans-Serif\" font-size=\"14.00\">성별 ≤ 0.5</text>\n",
       "<text text-anchor=\"start\" x=\"206.5\" y=\"-275.8\" font-family=\"Helvetica,sans-Serif\" font-size=\"14.00\">entropy = 1.0</text>\n",
       "<text text-anchor=\"start\" x=\"201\" y=\"-260.8\" font-family=\"Helvetica,sans-Serif\" font-size=\"14.00\">samples = 100</text>\n",
       "<text text-anchor=\"start\" x=\"200\" y=\"-245.8\" font-family=\"Helvetica,sans-Serif\" font-size=\"14.00\">value = [50, 50]</text>\n",
       "<text text-anchor=\"start\" x=\"207.5\" y=\"-230.8\" font-family=\"Helvetica,sans-Serif\" font-size=\"14.00\">class = good</text>\n",
       "</g>\n",
       "<!-- 1 -->\n",
       "<g id=\"node2\" class=\"node\">\n",
       "<title>1</title>\n",
       "<path fill=\"#eca06a\" stroke=\"black\" d=\"M227.5,-187C227.5,-187 135.5,-187 135.5,-187 129.5,-187 123.5,-181 123.5,-175 123.5,-175 123.5,-116 123.5,-116 123.5,-110 129.5,-104 135.5,-104 135.5,-104 227.5,-104 227.5,-104 233.5,-104 239.5,-110 239.5,-116 239.5,-116 239.5,-175 239.5,-175 239.5,-181 233.5,-187 227.5,-187\"/>\n",
       "<text text-anchor=\"start\" x=\"142\" y=\"-171.8\" font-family=\"Helvetica,sans-Serif\" font-size=\"14.00\">나이 ≤ 40.0</text>\n",
       "<text text-anchor=\"start\" x=\"131.5\" y=\"-156.8\" font-family=\"Helvetica,sans-Serif\" font-size=\"14.00\">entropy = 0.722</text>\n",
       "<text text-anchor=\"start\" x=\"138\" y=\"-141.8\" font-family=\"Helvetica,sans-Serif\" font-size=\"14.00\">samples = 50</text>\n",
       "<text text-anchor=\"start\" x=\"133\" y=\"-126.8\" font-family=\"Helvetica,sans-Serif\" font-size=\"14.00\">value = [40, 10]</text>\n",
       "<text text-anchor=\"start\" x=\"140.5\" y=\"-111.8\" font-family=\"Helvetica,sans-Serif\" font-size=\"14.00\">class = good</text>\n",
       "</g>\n",
       "<!-- 0&#45;&gt;1 -->\n",
       "<g id=\"edge1\" class=\"edge\">\n",
       "<title>0&#45;&gt;1</title>\n",
       "<path fill=\"none\" stroke=\"black\" d=\"M225.25,-222.91C220.27,-214.2 214.94,-204.9 209.79,-195.89\"/>\n",
       "<polygon fill=\"black\" stroke=\"black\" points=\"212.71,-193.96 204.7,-187.02 206.64,-197.44 212.71,-193.96\"/>\n",
       "<text text-anchor=\"middle\" x=\"198.15\" y=\"-207.45\" font-family=\"Helvetica,sans-Serif\" font-size=\"14.00\">True</text>\n",
       "</g>\n",
       "<!-- 4 -->\n",
       "<g id=\"node5\" class=\"node\">\n",
       "<title>4</title>\n",
       "<path fill=\"#6ab6ec\" stroke=\"black\" d=\"M361.5,-187C361.5,-187 269.5,-187 269.5,-187 263.5,-187 257.5,-181 257.5,-175 257.5,-175 257.5,-116 257.5,-116 257.5,-110 263.5,-104 269.5,-104 269.5,-104 361.5,-104 361.5,-104 367.5,-104 373.5,-110 373.5,-116 373.5,-116 373.5,-175 373.5,-175 373.5,-181 367.5,-187 361.5,-187\"/>\n",
       "<text text-anchor=\"start\" x=\"276\" y=\"-171.8\" font-family=\"Helvetica,sans-Serif\" font-size=\"14.00\">나이 ≤ 40.0</text>\n",
       "<text text-anchor=\"start\" x=\"265.5\" y=\"-156.8\" font-family=\"Helvetica,sans-Serif\" font-size=\"14.00\">entropy = 0.722</text>\n",
       "<text text-anchor=\"start\" x=\"272\" y=\"-141.8\" font-family=\"Helvetica,sans-Serif\" font-size=\"14.00\">samples = 50</text>\n",
       "<text text-anchor=\"start\" x=\"267\" y=\"-126.8\" font-family=\"Helvetica,sans-Serif\" font-size=\"14.00\">value = [10, 40]</text>\n",
       "<text text-anchor=\"start\" x=\"279\" y=\"-111.8\" font-family=\"Helvetica,sans-Serif\" font-size=\"14.00\">class = bad</text>\n",
       "</g>\n",
       "<!-- 0&#45;&gt;4 -->\n",
       "<g id=\"edge4\" class=\"edge\">\n",
       "<title>0&#45;&gt;4</title>\n",
       "<path fill=\"none\" stroke=\"black\" d=\"M271.75,-222.91C276.73,-214.2 282.06,-204.9 287.21,-195.89\"/>\n",
       "<polygon fill=\"black\" stroke=\"black\" points=\"290.36,-197.44 292.3,-187.02 284.29,-193.96 290.36,-197.44\"/>\n",
       "<text text-anchor=\"middle\" x=\"298.85\" y=\"-207.45\" font-family=\"Helvetica,sans-Serif\" font-size=\"14.00\">False</text>\n",
       "</g>\n",
       "<!-- 2 -->\n",
       "<g id=\"node3\" class=\"node\">\n",
       "<title>2</title>\n",
       "<path fill=\"#e58139\" stroke=\"black\" d=\"M93,-68C93,-68 12,-68 12,-68 6,-68 0,-62 0,-56 0,-56 0,-12 0,-12 0,-6 6,0 12,0 12,0 93,0 93,0 99,0 105,-6 105,-12 105,-12 105,-56 105,-56 105,-62 99,-68 93,-68\"/>\n",
       "<text text-anchor=\"start\" x=\"10.5\" y=\"-52.8\" font-family=\"Helvetica,sans-Serif\" font-size=\"14.00\">entropy = 0.0</text>\n",
       "<text text-anchor=\"start\" x=\"9\" y=\"-37.8\" font-family=\"Helvetica,sans-Serif\" font-size=\"14.00\">samples = 10</text>\n",
       "<text text-anchor=\"start\" x=\"8\" y=\"-22.8\" font-family=\"Helvetica,sans-Serif\" font-size=\"14.00\">value = [10, 0]</text>\n",
       "<text text-anchor=\"start\" x=\"11.5\" y=\"-7.8\" font-family=\"Helvetica,sans-Serif\" font-size=\"14.00\">class = good</text>\n",
       "</g>\n",
       "<!-- 1&#45;&gt;2 -->\n",
       "<g id=\"edge2\" class=\"edge\">\n",
       "<title>1&#45;&gt;2</title>\n",
       "<path fill=\"none\" stroke=\"black\" d=\"M133.47,-103.73C122.4,-94.33 110.64,-84.35 99.61,-74.99\"/>\n",
       "<polygon fill=\"black\" stroke=\"black\" points=\"101.62,-72.1 91.73,-68.3 97.09,-77.44 101.62,-72.1\"/>\n",
       "</g>\n",
       "<!-- 3 -->\n",
       "<g id=\"node4\" class=\"node\">\n",
       "<title>3</title>\n",
       "<path fill=\"#eeab7b\" stroke=\"black\" d=\"M227.5,-68C227.5,-68 135.5,-68 135.5,-68 129.5,-68 123.5,-62 123.5,-56 123.5,-56 123.5,-12 123.5,-12 123.5,-6 129.5,0 135.5,0 135.5,0 227.5,0 227.5,0 233.5,0 239.5,-6 239.5,-12 239.5,-12 239.5,-56 239.5,-56 239.5,-62 233.5,-68 227.5,-68\"/>\n",
       "<text text-anchor=\"start\" x=\"131.5\" y=\"-52.8\" font-family=\"Helvetica,sans-Serif\" font-size=\"14.00\">entropy = 0.811</text>\n",
       "<text text-anchor=\"start\" x=\"138\" y=\"-37.8\" font-family=\"Helvetica,sans-Serif\" font-size=\"14.00\">samples = 40</text>\n",
       "<text text-anchor=\"start\" x=\"133\" y=\"-22.8\" font-family=\"Helvetica,sans-Serif\" font-size=\"14.00\">value = [30, 10]</text>\n",
       "<text text-anchor=\"start\" x=\"140.5\" y=\"-7.8\" font-family=\"Helvetica,sans-Serif\" font-size=\"14.00\">class = good</text>\n",
       "</g>\n",
       "<!-- 1&#45;&gt;3 -->\n",
       "<g id=\"edge3\" class=\"edge\">\n",
       "<title>1&#45;&gt;3</title>\n",
       "<path fill=\"none\" stroke=\"black\" d=\"M181.5,-103.73C181.5,-95.52 181.5,-86.86 181.5,-78.56\"/>\n",
       "<polygon fill=\"black\" stroke=\"black\" points=\"185,-78.3 181.5,-68.3 178,-78.3 185,-78.3\"/>\n",
       "</g>\n",
       "<!-- 5 -->\n",
       "<g id=\"node6\" class=\"node\">\n",
       "<title>5</title>\n",
       "<path fill=\"#7bbeee\" stroke=\"black\" d=\"M361.5,-68C361.5,-68 269.5,-68 269.5,-68 263.5,-68 257.5,-62 257.5,-56 257.5,-56 257.5,-12 257.5,-12 257.5,-6 263.5,0 269.5,0 269.5,0 361.5,0 361.5,0 367.5,0 373.5,-6 373.5,-12 373.5,-12 373.5,-56 373.5,-56 373.5,-62 367.5,-68 361.5,-68\"/>\n",
       "<text text-anchor=\"start\" x=\"265.5\" y=\"-52.8\" font-family=\"Helvetica,sans-Serif\" font-size=\"14.00\">entropy = 0.811</text>\n",
       "<text text-anchor=\"start\" x=\"272\" y=\"-37.8\" font-family=\"Helvetica,sans-Serif\" font-size=\"14.00\">samples = 40</text>\n",
       "<text text-anchor=\"start\" x=\"267\" y=\"-22.8\" font-family=\"Helvetica,sans-Serif\" font-size=\"14.00\">value = [10, 30]</text>\n",
       "<text text-anchor=\"start\" x=\"279\" y=\"-7.8\" font-family=\"Helvetica,sans-Serif\" font-size=\"14.00\">class = bad</text>\n",
       "</g>\n",
       "<!-- 4&#45;&gt;5 -->\n",
       "<g id=\"edge5\" class=\"edge\">\n",
       "<title>4&#45;&gt;5</title>\n",
       "<path fill=\"none\" stroke=\"black\" d=\"M315.5,-103.73C315.5,-95.52 315.5,-86.86 315.5,-78.56\"/>\n",
       "<polygon fill=\"black\" stroke=\"black\" points=\"319,-78.3 315.5,-68.3 312,-78.3 319,-78.3\"/>\n",
       "</g>\n",
       "<!-- 6 -->\n",
       "<g id=\"node7\" class=\"node\">\n",
       "<title>6</title>\n",
       "<path fill=\"#399de5\" stroke=\"black\" d=\"M485,-68C485,-68 404,-68 404,-68 398,-68 392,-62 392,-56 392,-56 392,-12 392,-12 392,-6 398,0 404,0 404,0 485,0 485,0 491,0 497,-6 497,-12 497,-12 497,-56 497,-56 497,-62 491,-68 485,-68\"/>\n",
       "<text text-anchor=\"start\" x=\"402.5\" y=\"-52.8\" font-family=\"Helvetica,sans-Serif\" font-size=\"14.00\">entropy = 0.0</text>\n",
       "<text text-anchor=\"start\" x=\"401\" y=\"-37.8\" font-family=\"Helvetica,sans-Serif\" font-size=\"14.00\">samples = 10</text>\n",
       "<text text-anchor=\"start\" x=\"400\" y=\"-22.8\" font-family=\"Helvetica,sans-Serif\" font-size=\"14.00\">value = [0, 10]</text>\n",
       "<text text-anchor=\"start\" x=\"408\" y=\"-7.8\" font-family=\"Helvetica,sans-Serif\" font-size=\"14.00\">class = bad</text>\n",
       "</g>\n",
       "<!-- 4&#45;&gt;6 -->\n",
       "<g id=\"edge6\" class=\"edge\">\n",
       "<title>4&#45;&gt;6</title>\n",
       "<path fill=\"none\" stroke=\"black\" d=\"M363.53,-103.73C374.6,-94.33 386.36,-84.35 397.39,-74.99\"/>\n",
       "<polygon fill=\"black\" stroke=\"black\" points=\"399.91,-77.44 405.27,-68.3 395.38,-72.1 399.91,-77.44\"/>\n",
       "</g>\n",
       "</g>\n",
       "</svg>\n"
      ],
      "text/plain": [
       "<graphviz.sources.Source at 0x1bc3a198>"
      ]
     },
     "execution_count": 12,
     "metadata": {},
     "output_type": "execute_result"
    }
   ],
   "source": [
    "# 데이터 컨버전 \n",
    "train_temp_X = np.array(df_tree_t[['나이','성별']])\n",
    "# train_temp_X = train_temp_X.reshape(-1,1)\n",
    "train_temp_y = np.array(df_tree_t['good/bad'])\n",
    "train_temp_y = train_temp_y.reshape(-1,1)\n",
    "\n",
    "# 모델 학습 \n",
    "entropy_clf = tree.DecisionTreeClassifier(criterion=\"entropy\", max_depth = 4, random_state = 20)               \n",
    "entropy_clf = entropy_clf.fit(train_temp_X, train_temp_y)             # feature, target\n",
    "\n",
    "# 시각화 \n",
    "import graphviz as gv\n",
    "dot_data = tree.export_graphviz(entropy_clf,   # 의사결정나무 모형 대입\n",
    "                               out_file = None,  # file로 변환할 것인가\n",
    "                               feature_names = ['나이','성별' ],   # feature 이름\n",
    "                               class_names = ['good','bad'],  # target 이름\n",
    "                               filled = True,           # 그림에 색상을 넣을것인가\n",
    "                               rounded = True,          # 반올림을 진행할 것인가\n",
    "                               special_characters = True)   # 특수문자를 사용하나\n",
    "\n",
    "graph = gv.Source(dot_data)              \n",
    "graph"
   ]
  },
  {
   "cell_type": "code",
   "execution_count": 13,
   "id": "2c35c61e",
   "metadata": {},
   "outputs": [
    {
     "name": "stdout",
     "output_type": "stream",
     "text": [
      "Accuracy: 0.80\n"
     ]
    },
    {
     "data": {
      "text/html": [
       "<div>\n",
       "<style scoped>\n",
       "    .dataframe tbody tr th:only-of-type {\n",
       "        vertical-align: middle;\n",
       "    }\n",
       "\n",
       "    .dataframe tbody tr th {\n",
       "        vertical-align: top;\n",
       "    }\n",
       "\n",
       "    .dataframe thead tr th {\n",
       "        text-align: left;\n",
       "    }\n",
       "</style>\n",
       "<table border=\"1\" class=\"dataframe\">\n",
       "  <thead>\n",
       "    <tr>\n",
       "      <th></th>\n",
       "      <th>나이</th>\n",
       "      <th>성별</th>\n",
       "    </tr>\n",
       "  </thead>\n",
       "  <tbody>\n",
       "    <tr>\n",
       "      <th>feature_importance</th>\n",
       "      <td>0.207722</td>\n",
       "      <td>0.792278</td>\n",
       "    </tr>\n",
       "  </tbody>\n",
       "</table>\n",
       "</div>"
      ],
      "text/plain": [
       "                          나이        성별\n",
       "feature_importance  0.207722  0.792278"
      ]
     },
     "execution_count": 13,
     "metadata": {},
     "output_type": "execute_result"
    }
   ],
   "source": [
    "from sklearn.metrics import accuracy_score\n",
    "\n",
    "y_pred_e = entropy_clf.predict(train_temp_X)\n",
    "print('Accuracy: %.2f' % accuracy_score(train_temp_y, y_pred_e))\n",
    "\n",
    "from sklearn.metrics import confusion_matrix\n",
    "confusion_matrix(train_temp_y, y_pred_e)\n",
    "\n",
    "## 트리 분기 과정의 중요도 확인 \n",
    "input_impor = entropy_clf.feature_importances_.reshape((1, -1))\n",
    "                                                       \n",
    "feature_importance = pd.DataFrame(input_impor, columns= [['나이','성별']], index=['feature_importance'])\n",
    "feature_importance"
   ]
  },
  {
   "cell_type": "code",
   "execution_count": 14,
   "id": "cce6ce9c",
   "metadata": {},
   "outputs": [
    {
     "data": {
      "text/plain": [
       "array(['1'], dtype=object)"
      ]
     },
     "execution_count": 14,
     "metadata": {},
     "output_type": "execute_result"
    }
   ],
   "source": [
    "entropy_clf.predict([[20, '1']])"
   ]
  },
  {
   "cell_type": "code",
   "execution_count": null,
   "id": "5949f946",
   "metadata": {},
   "outputs": [],
   "source": []
  },
  {
   "cell_type": "markdown",
   "id": "c895efa1",
   "metadata": {},
   "source": [
    "## load_breast_cancer 데이터 활용한 Tree Model"
   ]
  },
  {
   "cell_type": "code",
   "execution_count": 15,
   "id": "675131b0",
   "metadata": {},
   "outputs": [
    {
     "data": {
      "text/plain": [
       "1    357\n",
       "0    212\n",
       "Name: target, dtype: int64"
      ]
     },
     "execution_count": 15,
     "metadata": {},
     "output_type": "execute_result"
    }
   ],
   "source": [
    "from sklearn.datasets import load_breast_cancer\n",
    "\n",
    "# 데이터 불러오기\n",
    "data = load_breast_cancer()\n",
    "\n",
    "# 독립변수 (input data)\n",
    "b_input_data = data['data'] \n",
    "\n",
    "# 종양 : 양성(0), 악성(1) 여부 (target data)\n",
    "b_target_data = data['target'] \n",
    "\n",
    "# 종양 구분 \n",
    "tumar = data['target_names'] \n",
    "\n",
    "# 속성 명칭 \n",
    "feature_names = data['feature_names'] \n",
    "\n",
    "breast_df = pd.DataFrame(b_input_data, columns=feature_names)\n",
    "breast_df['target'] = b_target_data\n",
    "\n",
    "# 속성명 공백에 \"_\"달기 \n",
    "breast_df.columns = [col.replace(\" \", \"_\") for col in breast_df.columns]\n",
    "\n",
    "# label 데이터 비율 확인 \n",
    "breast_df['target'].value_counts()"
   ]
  },
  {
   "cell_type": "code",
   "execution_count": 16,
   "id": "c6507454",
   "metadata": {},
   "outputs": [],
   "source": [
    "## 학습 데이터 셋 생성 \n",
    "\n",
    "# 평균관련 된 3개의 속성으로 종양 여부 판단 \n",
    "model_feautre_name = ['mean_radius', 'mean_texture', 'mean_perimeter' ] \n",
    "X = breast_df[model_feautre_name]\n",
    "\n",
    "Y = breast_df['target']\n",
    "\n",
    "# 80%의 데이터를 학습 데이터로, 20%를 테스트 데이터 \n",
    "X_train, X_test, y_train, y_test = train_test_split(X, Y, test_size = 0.2, random_state = 30) "
   ]
  },
  {
   "cell_type": "code",
   "execution_count": 17,
   "id": "ebffd34b",
   "metadata": {},
   "outputs": [],
   "source": [
    "## 스케일링 & 정규화 : 거리기반 알고리즘은 기본으로 표준화, 정규화 수행 필요 \n",
    "from sklearn.preprocessing import StandardScaler\n",
    "\n",
    "## 스케일링 & 정규화\n",
    "scaler = StandardScaler()\n",
    "X_train_std=scaler.fit_transform(X_train)\n",
    "X_test_std=scaler.fit_transform(X_test)"
   ]
  },
  {
   "cell_type": "markdown",
   "id": "70bcb5cd",
   "metadata": {},
   "source": [
    "### 지니지수 의사결정나무 분류 "
   ]
  },
  {
   "cell_type": "code",
   "execution_count": 19,
   "id": "858bdcd9",
   "metadata": {},
   "outputs": [],
   "source": [
    "## 지니지수 의사결정나무 분류\n",
    "from sklearn.tree import DecisionTreeClassifier\n",
    "\n",
    "breast_clf_gini = DecisionTreeClassifier(criterion=\"gini\", max_depth = 2, random_state = 30)               \n",
    "breast_clf_gini = breast_clf_gini.fit(X_train_std, y_train) # feature, target"
   ]
  },
  {
   "cell_type": "code",
   "execution_count": 20,
   "id": "dc07a972",
   "metadata": {
    "scrolled": true
   },
   "outputs": [
    {
     "data": {
      "image/svg+xml": [
       "<?xml version=\"1.0\" encoding=\"UTF-8\" standalone=\"no\"?>\n",
       "<!DOCTYPE svg PUBLIC \"-//W3C//DTD SVG 1.1//EN\"\n",
       " \"http://www.w3.org/Graphics/SVG/1.1/DTD/svg11.dtd\">\n",
       "<!-- Generated by graphviz version 5.0.0 (20220707.1540)\n",
       " -->\n",
       "<!-- Title: Tree Pages: 1 -->\n",
       "<svg width=\"572pt\" height=\"314pt\"\n",
       " viewBox=\"0.00 0.00 571.50 314.00\" xmlns=\"http://www.w3.org/2000/svg\" xmlns:xlink=\"http://www.w3.org/1999/xlink\">\n",
       "<g id=\"graph0\" class=\"graph\" transform=\"scale(1 1) rotate(0) translate(4 310)\">\n",
       "<title>Tree</title>\n",
       "<polygon fill=\"white\" stroke=\"transparent\" points=\"-4,4 -4,-310 567.5,-310 567.5,4 -4,4\"/>\n",
       "<!-- 0 -->\n",
       "<g id=\"node1\" class=\"node\">\n",
       "<title>0</title>\n",
       "<path fill=\"#add6f4\" stroke=\"black\" d=\"M351.5,-306C351.5,-306 202.5,-306 202.5,-306 196.5,-306 190.5,-300 190.5,-294 190.5,-294 190.5,-235 190.5,-235 190.5,-229 196.5,-223 202.5,-223 202.5,-223 351.5,-223 351.5,-223 357.5,-223 363.5,-229 363.5,-235 363.5,-235 363.5,-294 363.5,-294 363.5,-300 357.5,-306 351.5,-306\"/>\n",
       "<text text-anchor=\"start\" x=\"198.5\" y=\"-290.8\" font-family=\"Helvetica,sans-Serif\" font-size=\"14.00\">mean_perimeter ≤ 0.291</text>\n",
       "<text text-anchor=\"start\" x=\"239.5\" y=\"-275.8\" font-family=\"Helvetica,sans-Serif\" font-size=\"14.00\">gini = 0.466</text>\n",
       "<text text-anchor=\"start\" x=\"229.5\" y=\"-260.8\" font-family=\"Helvetica,sans-Serif\" font-size=\"14.00\">samples = 455</text>\n",
       "<text text-anchor=\"start\" x=\"220\" y=\"-245.8\" font-family=\"Helvetica,sans-Serif\" font-size=\"14.00\">value = [168, 287]</text>\n",
       "<text text-anchor=\"start\" x=\"231\" y=\"-230.8\" font-family=\"Helvetica,sans-Serif\" font-size=\"14.00\">class = benign</text>\n",
       "</g>\n",
       "<!-- 1 -->\n",
       "<g id=\"node2\" class=\"node\">\n",
       "<title>1</title>\n",
       "<path fill=\"#57ace9\" stroke=\"black\" d=\"M260.5,-187C260.5,-187 107.5,-187 107.5,-187 101.5,-187 95.5,-181 95.5,-175 95.5,-175 95.5,-116 95.5,-116 95.5,-110 101.5,-104 107.5,-104 107.5,-104 260.5,-104 260.5,-104 266.5,-104 272.5,-110 272.5,-116 272.5,-116 272.5,-175 272.5,-175 272.5,-181 266.5,-187 260.5,-187\"/>\n",
       "<text text-anchor=\"start\" x=\"103.5\" y=\"-171.8\" font-family=\"Helvetica,sans-Serif\" font-size=\"14.00\">mean_perimeter ≤ &#45;0.074</text>\n",
       "<text text-anchor=\"start\" x=\"150.5\" y=\"-156.8\" font-family=\"Helvetica,sans-Serif\" font-size=\"14.00\">gini = 0.23</text>\n",
       "<text text-anchor=\"start\" x=\"136.5\" y=\"-141.8\" font-family=\"Helvetica,sans-Serif\" font-size=\"14.00\">samples = 324</text>\n",
       "<text text-anchor=\"start\" x=\"131\" y=\"-126.8\" font-family=\"Helvetica,sans-Serif\" font-size=\"14.00\">value = [43, 281]</text>\n",
       "<text text-anchor=\"start\" x=\"138\" y=\"-111.8\" font-family=\"Helvetica,sans-Serif\" font-size=\"14.00\">class = benign</text>\n",
       "</g>\n",
       "<!-- 0&#45;&gt;1 -->\n",
       "<g id=\"edge1\" class=\"edge\">\n",
       "<title>0&#45;&gt;1</title>\n",
       "<path fill=\"none\" stroke=\"black\" d=\"M244.73,-222.91C237.59,-213.92 229.96,-204.32 222.59,-195.05\"/>\n",
       "<polygon fill=\"black\" stroke=\"black\" points=\"225.17,-192.67 216.21,-187.02 219.69,-197.03 225.17,-192.67\"/>\n",
       "<text text-anchor=\"middle\" x=\"213.37\" y=\"-208.16\" font-family=\"Helvetica,sans-Serif\" font-size=\"14.00\">True</text>\n",
       "</g>\n",
       "<!-- 4 -->\n",
       "<g id=\"node5\" class=\"node\">\n",
       "<title>4</title>\n",
       "<path fill=\"#e68743\" stroke=\"black\" d=\"M437.5,-187C437.5,-187 302.5,-187 302.5,-187 296.5,-187 290.5,-181 290.5,-175 290.5,-175 290.5,-116 290.5,-116 290.5,-110 296.5,-104 302.5,-104 302.5,-104 437.5,-104 437.5,-104 443.5,-104 449.5,-110 449.5,-116 449.5,-116 449.5,-175 449.5,-175 449.5,-181 443.5,-187 437.5,-187\"/>\n",
       "<text text-anchor=\"start\" x=\"298.5\" y=\"-171.8\" font-family=\"Helvetica,sans-Serif\" font-size=\"14.00\">mean_texture ≤ &#45;0.738</text>\n",
       "<text text-anchor=\"start\" x=\"332.5\" y=\"-156.8\" font-family=\"Helvetica,sans-Serif\" font-size=\"14.00\">gini = 0.087</text>\n",
       "<text text-anchor=\"start\" x=\"322.5\" y=\"-141.8\" font-family=\"Helvetica,sans-Serif\" font-size=\"14.00\">samples = 131</text>\n",
       "<text text-anchor=\"start\" x=\"321.5\" y=\"-126.8\" font-family=\"Helvetica,sans-Serif\" font-size=\"14.00\">value = [125, 6]</text>\n",
       "<text text-anchor=\"start\" x=\"315.5\" y=\"-111.8\" font-family=\"Helvetica,sans-Serif\" font-size=\"14.00\">class = malignant</text>\n",
       "</g>\n",
       "<!-- 0&#45;&gt;4 -->\n",
       "<g id=\"edge4\" class=\"edge\">\n",
       "<title>0&#45;&gt;4</title>\n",
       "<path fill=\"none\" stroke=\"black\" d=\"M309.27,-222.91C316.41,-213.92 324.04,-204.32 331.41,-195.05\"/>\n",
       "<polygon fill=\"black\" stroke=\"black\" points=\"334.31,-197.03 337.79,-187.02 328.83,-192.67 334.31,-197.03\"/>\n",
       "<text text-anchor=\"middle\" x=\"340.63\" y=\"-208.16\" font-family=\"Helvetica,sans-Serif\" font-size=\"14.00\">False</text>\n",
       "</g>\n",
       "<!-- 2 -->\n",
       "<g id=\"node3\" class=\"node\">\n",
       "<title>2</title>\n",
       "<path fill=\"#47a4e7\" stroke=\"black\" d=\"M110,-68C110,-68 12,-68 12,-68 6,-68 0,-62 0,-56 0,-56 0,-12 0,-12 0,-6 6,0 12,0 12,0 110,0 110,0 116,0 122,-6 122,-12 122,-12 122,-56 122,-56 122,-62 116,-68 110,-68\"/>\n",
       "<text text-anchor=\"start\" x=\"23.5\" y=\"-52.8\" font-family=\"Helvetica,sans-Serif\" font-size=\"14.00\">gini = 0.121</text>\n",
       "<text text-anchor=\"start\" x=\"13.5\" y=\"-37.8\" font-family=\"Helvetica,sans-Serif\" font-size=\"14.00\">samples = 263</text>\n",
       "<text text-anchor=\"start\" x=\"8\" y=\"-22.8\" font-family=\"Helvetica,sans-Serif\" font-size=\"14.00\">value = [17, 246]</text>\n",
       "<text text-anchor=\"start\" x=\"15\" y=\"-7.8\" font-family=\"Helvetica,sans-Serif\" font-size=\"14.00\">class = benign</text>\n",
       "</g>\n",
       "<!-- 1&#45;&gt;2 -->\n",
       "<g id=\"edge2\" class=\"edge\">\n",
       "<title>1&#45;&gt;2</title>\n",
       "<path fill=\"none\" stroke=\"black\" d=\"M138.2,-103.73C127.65,-94.33 116.43,-84.35 105.92,-74.99\"/>\n",
       "<polygon fill=\"black\" stroke=\"black\" points=\"108.2,-72.33 98.41,-68.3 103.55,-77.56 108.2,-72.33\"/>\n",
       "</g>\n",
       "<!-- 3 -->\n",
       "<g id=\"node4\" class=\"node\">\n",
       "<title>3</title>\n",
       "<path fill=\"#cce6f8\" stroke=\"black\" d=\"M241.5,-68C241.5,-68 152.5,-68 152.5,-68 146.5,-68 140.5,-62 140.5,-56 140.5,-56 140.5,-12 140.5,-12 140.5,-6 146.5,0 152.5,0 152.5,0 241.5,0 241.5,0 247.5,0 253.5,-6 253.5,-12 253.5,-12 253.5,-56 253.5,-56 253.5,-62 247.5,-68 241.5,-68\"/>\n",
       "<text text-anchor=\"start\" x=\"159.5\" y=\"-52.8\" font-family=\"Helvetica,sans-Serif\" font-size=\"14.00\">gini = 0.489</text>\n",
       "<text text-anchor=\"start\" x=\"153.5\" y=\"-37.8\" font-family=\"Helvetica,sans-Serif\" font-size=\"14.00\">samples = 61</text>\n",
       "<text text-anchor=\"start\" x=\"148.5\" y=\"-22.8\" font-family=\"Helvetica,sans-Serif\" font-size=\"14.00\">value = [26, 35]</text>\n",
       "<text text-anchor=\"start\" x=\"151\" y=\"-7.8\" font-family=\"Helvetica,sans-Serif\" font-size=\"14.00\">class = benign</text>\n",
       "</g>\n",
       "<!-- 1&#45;&gt;3 -->\n",
       "<g id=\"edge3\" class=\"edge\">\n",
       "<title>1&#45;&gt;3</title>\n",
       "<path fill=\"none\" stroke=\"black\" d=\"M188.84,-103.73C189.83,-95.43 190.87,-86.67 191.86,-78.28\"/>\n",
       "<polygon fill=\"black\" stroke=\"black\" points=\"195.34,-78.64 193.05,-68.3 188.39,-77.82 195.34,-78.64\"/>\n",
       "</g>\n",
       "<!-- 5 -->\n",
       "<g id=\"node6\" class=\"node\">\n",
       "<title>5</title>\n",
       "<path fill=\"#ffffff\" stroke=\"black\" d=\"M408.5,-68C408.5,-68 307.5,-68 307.5,-68 301.5,-68 295.5,-62 295.5,-56 295.5,-56 295.5,-12 295.5,-12 295.5,-6 301.5,0 307.5,0 307.5,0 408.5,0 408.5,0 414.5,0 420.5,-6 420.5,-12 420.5,-12 420.5,-56 420.5,-56 420.5,-62 414.5,-68 408.5,-68\"/>\n",
       "<text text-anchor=\"start\" x=\"329\" y=\"-52.8\" font-family=\"Helvetica,sans-Serif\" font-size=\"14.00\">gini = 0.5</text>\n",
       "<text text-anchor=\"start\" x=\"314.5\" y=\"-37.8\" font-family=\"Helvetica,sans-Serif\" font-size=\"14.00\">samples = 10</text>\n",
       "<text text-anchor=\"start\" x=\"317.5\" y=\"-22.8\" font-family=\"Helvetica,sans-Serif\" font-size=\"14.00\">value = [5, 5]</text>\n",
       "<text text-anchor=\"start\" x=\"303.5\" y=\"-7.8\" font-family=\"Helvetica,sans-Serif\" font-size=\"14.00\">class = malignant</text>\n",
       "</g>\n",
       "<!-- 4&#45;&gt;5 -->\n",
       "<g id=\"edge5\" class=\"edge\">\n",
       "<title>4&#45;&gt;5</title>\n",
       "<path fill=\"none\" stroke=\"black\" d=\"M365.53,-103.73C364.62,-95.43 363.66,-86.67 362.74,-78.28\"/>\n",
       "<polygon fill=\"black\" stroke=\"black\" points=\"366.22,-77.86 361.65,-68.3 359.26,-78.62 366.22,-77.86\"/>\n",
       "</g>\n",
       "<!-- 6 -->\n",
       "<g id=\"node7\" class=\"node\">\n",
       "<title>6</title>\n",
       "<path fill=\"#e5823b\" stroke=\"black\" d=\"M551.5,-68C551.5,-68 450.5,-68 450.5,-68 444.5,-68 438.5,-62 438.5,-56 438.5,-56 438.5,-12 438.5,-12 438.5,-6 444.5,0 450.5,0 450.5,0 551.5,0 551.5,0 557.5,0 563.5,-6 563.5,-12 563.5,-12 563.5,-56 563.5,-56 563.5,-62 557.5,-68 551.5,-68\"/>\n",
       "<text text-anchor=\"start\" x=\"463.5\" y=\"-52.8\" font-family=\"Helvetica,sans-Serif\" font-size=\"14.00\">gini = 0.016</text>\n",
       "<text text-anchor=\"start\" x=\"453.5\" y=\"-37.8\" font-family=\"Helvetica,sans-Serif\" font-size=\"14.00\">samples = 121</text>\n",
       "<text text-anchor=\"start\" x=\"452.5\" y=\"-22.8\" font-family=\"Helvetica,sans-Serif\" font-size=\"14.00\">value = [120, 1]</text>\n",
       "<text text-anchor=\"start\" x=\"446.5\" y=\"-7.8\" font-family=\"Helvetica,sans-Serif\" font-size=\"14.00\">class = malignant</text>\n",
       "</g>\n",
       "<!-- 4&#45;&gt;6 -->\n",
       "<g id=\"edge6\" class=\"edge\">\n",
       "<title>4&#45;&gt;6</title>\n",
       "<path fill=\"none\" stroke=\"black\" d=\"M418.78,-103.73C430.13,-94.24 442.19,-84.16 453.49,-74.72\"/>\n",
       "<polygon fill=\"black\" stroke=\"black\" points=\"455.73,-77.4 461.16,-68.3 451.24,-72.03 455.73,-77.4\"/>\n",
       "</g>\n",
       "</g>\n",
       "</svg>\n"
      ],
      "text/plain": [
       "<graphviz.sources.Source at 0x1bc0add8>"
      ]
     },
     "execution_count": 20,
     "metadata": {},
     "output_type": "execute_result"
    }
   ],
   "source": [
    "## 지니계수 의사결정나무 분류 시각화\n",
    "# graphviz 설치 불가 한 경우 해당 라인 pass\n",
    "import graphviz as gv\n",
    "dot_data = tree.export_graphviz(breast_clf_gini,   # 의사결정나무 모형 대입\n",
    "                               out_file = None,  # file로 변환할 것인가\n",
    "                               feature_names = model_feautre_name,  # feature 이름\n",
    "                               class_names = tumar,  # target 이름\n",
    "                               filled = True,           # 그림에 색상을 넣을것인가\n",
    "                               rounded = True,          # 반올림을 진행할 것인가\n",
    "                               special_characters = True)   # 특수문자를 사용하나\n",
    "\n",
    "graph = gv.Source(dot_data)\n",
    "graph\n",
    "\n",
    "## 이미지로 저장 \n",
    "# gv.Source(dot_data).render('지니지수 의사결정나무 분류', format=\"png\")"
   ]
  },
  {
   "cell_type": "code",
   "execution_count": 21,
   "id": "a05c533e",
   "metadata": {},
   "outputs": [
    {
     "name": "stdout",
     "output_type": "stream",
     "text": [
      "Accuracy: 0.89\n"
     ]
    },
    {
     "data": {
      "text/plain": [
       "array([[34, 10],\n",
       "       [ 2, 68]], dtype=int64)"
      ]
     },
     "execution_count": 21,
     "metadata": {},
     "output_type": "execute_result"
    }
   ],
   "source": [
    "## 모델 성능 확인 \n",
    "from sklearn.metrics import accuracy_score\n",
    "\n",
    "y_pred_gini = breast_clf_gini.predict(X_test_std)\n",
    "print('Accuracy: %.2f' % accuracy_score(y_test, y_pred_gini))\n",
    "\n",
    "from sklearn.metrics import confusion_matrix\n",
    "confusion_matrix(y_test, y_pred_gini)"
   ]
  },
  {
   "cell_type": "code",
   "execution_count": 22,
   "id": "f8ea05e8",
   "metadata": {},
   "outputs": [
    {
     "data": {
      "text/html": [
       "<div>\n",
       "<style scoped>\n",
       "    .dataframe tbody tr th:only-of-type {\n",
       "        vertical-align: middle;\n",
       "    }\n",
       "\n",
       "    .dataframe tbody tr th {\n",
       "        vertical-align: top;\n",
       "    }\n",
       "\n",
       "    .dataframe thead th {\n",
       "        text-align: right;\n",
       "    }\n",
       "</style>\n",
       "<table border=\"1\" class=\"dataframe\">\n",
       "  <thead>\n",
       "    <tr style=\"text-align: right;\">\n",
       "      <th></th>\n",
       "      <th>mean_radius</th>\n",
       "      <th>mean_texture</th>\n",
       "      <th>mean_perimeter</th>\n",
       "    </tr>\n",
       "  </thead>\n",
       "  <tbody>\n",
       "    <tr>\n",
       "      <th>feature_importance</th>\n",
       "      <td>0.0</td>\n",
       "      <td>0.031168</td>\n",
       "      <td>0.968832</td>\n",
       "    </tr>\n",
       "  </tbody>\n",
       "</table>\n",
       "</div>"
      ],
      "text/plain": [
       "                    mean_radius  mean_texture  mean_perimeter\n",
       "feature_importance          0.0      0.031168        0.968832"
      ]
     },
     "execution_count": 22,
     "metadata": {},
     "output_type": "execute_result"
    }
   ],
   "source": [
    "## 트리 분기 과정의 중요도 \n",
    "input_impor_gini = breast_clf_gini.feature_importances_.reshape((1, -1))\n",
    "                                                       \n",
    "feature_importance = pd.DataFrame(input_impor_gini, columns=model_feautre_name, index=['feature_importance'])\n",
    "feature_importance"
   ]
  },
  {
   "cell_type": "markdown",
   "id": "736b912e",
   "metadata": {},
   "source": [
    "### 엔트로피 의사결정나무 분류 "
   ]
  },
  {
   "cell_type": "code",
   "execution_count": 23,
   "id": "0aad4362",
   "metadata": {},
   "outputs": [],
   "source": [
    "## entropy 의사결정나무 분류 \n",
    "# Information Gain - entropy\n",
    "breast_clf_entropy = DecisionTreeClassifier(criterion = \"entropy\",  max_depth = 2, random_state = 30)  \n",
    "breast_clf_entropy = breast_clf_entropy.fit(X_train_std, y_train) "
   ]
  },
  {
   "cell_type": "code",
   "execution_count": 24,
   "id": "3620a4eb",
   "metadata": {},
   "outputs": [
    {
     "data": {
      "image/svg+xml": [
       "<?xml version=\"1.0\" encoding=\"UTF-8\" standalone=\"no\"?>\n",
       "<!DOCTYPE svg PUBLIC \"-//W3C//DTD SVG 1.1//EN\"\n",
       " \"http://www.w3.org/Graphics/SVG/1.1/DTD/svg11.dtd\">\n",
       "<!-- Generated by graphviz version 5.0.0 (20220707.1540)\n",
       " -->\n",
       "<!-- Title: Tree Pages: 1 -->\n",
       "<svg width=\"574pt\" height=\"314pt\"\n",
       " viewBox=\"0.00 0.00 573.50 314.00\" xmlns=\"http://www.w3.org/2000/svg\" xmlns:xlink=\"http://www.w3.org/1999/xlink\">\n",
       "<g id=\"graph0\" class=\"graph\" transform=\"scale(1 1) rotate(0) translate(4 310)\">\n",
       "<title>Tree</title>\n",
       "<polygon fill=\"white\" stroke=\"transparent\" points=\"-4,4 -4,-310 569.5,-310 569.5,4 -4,4\"/>\n",
       "<!-- 0 -->\n",
       "<g id=\"node1\" class=\"node\">\n",
       "<title>0</title>\n",
       "<path fill=\"#add6f4\" stroke=\"black\" d=\"M353.5,-306C353.5,-306 204.5,-306 204.5,-306 198.5,-306 192.5,-300 192.5,-294 192.5,-294 192.5,-235 192.5,-235 192.5,-229 198.5,-223 204.5,-223 204.5,-223 353.5,-223 353.5,-223 359.5,-223 365.5,-229 365.5,-235 365.5,-235 365.5,-294 365.5,-294 365.5,-300 359.5,-306 353.5,-306\"/>\n",
       "<text text-anchor=\"start\" x=\"200.5\" y=\"-290.8\" font-family=\"Helvetica,sans-Serif\" font-size=\"14.00\">mean_perimeter ≤ 0.291</text>\n",
       "<text text-anchor=\"start\" x=\"233\" y=\"-275.8\" font-family=\"Helvetica,sans-Serif\" font-size=\"14.00\">entropy = 0.95</text>\n",
       "<text text-anchor=\"start\" x=\"231.5\" y=\"-260.8\" font-family=\"Helvetica,sans-Serif\" font-size=\"14.00\">samples = 455</text>\n",
       "<text text-anchor=\"start\" x=\"222\" y=\"-245.8\" font-family=\"Helvetica,sans-Serif\" font-size=\"14.00\">value = [168, 287]</text>\n",
       "<text text-anchor=\"start\" x=\"233\" y=\"-230.8\" font-family=\"Helvetica,sans-Serif\" font-size=\"14.00\">class = benign</text>\n",
       "</g>\n",
       "<!-- 1 -->\n",
       "<g id=\"node2\" class=\"node\">\n",
       "<title>1</title>\n",
       "<path fill=\"#57ace9\" stroke=\"black\" d=\"M262.5,-187C262.5,-187 109.5,-187 109.5,-187 103.5,-187 97.5,-181 97.5,-175 97.5,-175 97.5,-116 97.5,-116 97.5,-110 103.5,-104 109.5,-104 109.5,-104 262.5,-104 262.5,-104 268.5,-104 274.5,-110 274.5,-116 274.5,-116 274.5,-175 274.5,-175 274.5,-181 268.5,-187 262.5,-187\"/>\n",
       "<text text-anchor=\"start\" x=\"105.5\" y=\"-171.8\" font-family=\"Helvetica,sans-Serif\" font-size=\"14.00\">mean_perimeter ≤ &#45;0.074</text>\n",
       "<text text-anchor=\"start\" x=\"136\" y=\"-156.8\" font-family=\"Helvetica,sans-Serif\" font-size=\"14.00\">entropy = 0.565</text>\n",
       "<text text-anchor=\"start\" x=\"138.5\" y=\"-141.8\" font-family=\"Helvetica,sans-Serif\" font-size=\"14.00\">samples = 324</text>\n",
       "<text text-anchor=\"start\" x=\"133\" y=\"-126.8\" font-family=\"Helvetica,sans-Serif\" font-size=\"14.00\">value = [43, 281]</text>\n",
       "<text text-anchor=\"start\" x=\"140\" y=\"-111.8\" font-family=\"Helvetica,sans-Serif\" font-size=\"14.00\">class = benign</text>\n",
       "</g>\n",
       "<!-- 0&#45;&gt;1 -->\n",
       "<g id=\"edge1\" class=\"edge\">\n",
       "<title>0&#45;&gt;1</title>\n",
       "<path fill=\"none\" stroke=\"black\" d=\"M246.73,-222.91C239.59,-213.92 231.96,-204.32 224.59,-195.05\"/>\n",
       "<polygon fill=\"black\" stroke=\"black\" points=\"227.17,-192.67 218.21,-187.02 221.69,-197.03 227.17,-192.67\"/>\n",
       "<text text-anchor=\"middle\" x=\"215.37\" y=\"-208.16\" font-family=\"Helvetica,sans-Serif\" font-size=\"14.00\">True</text>\n",
       "</g>\n",
       "<!-- 4 -->\n",
       "<g id=\"node5\" class=\"node\">\n",
       "<title>4</title>\n",
       "<path fill=\"#e68743\" stroke=\"black\" d=\"M439.5,-187C439.5,-187 304.5,-187 304.5,-187 298.5,-187 292.5,-181 292.5,-175 292.5,-175 292.5,-116 292.5,-116 292.5,-110 298.5,-104 304.5,-104 304.5,-104 439.5,-104 439.5,-104 445.5,-104 451.5,-110 451.5,-116 451.5,-116 451.5,-175 451.5,-175 451.5,-181 445.5,-187 439.5,-187\"/>\n",
       "<text text-anchor=\"start\" x=\"300.5\" y=\"-171.8\" font-family=\"Helvetica,sans-Serif\" font-size=\"14.00\">mean_texture ≤ &#45;0.738</text>\n",
       "<text text-anchor=\"start\" x=\"322\" y=\"-156.8\" font-family=\"Helvetica,sans-Serif\" font-size=\"14.00\">entropy = 0.268</text>\n",
       "<text text-anchor=\"start\" x=\"324.5\" y=\"-141.8\" font-family=\"Helvetica,sans-Serif\" font-size=\"14.00\">samples = 131</text>\n",
       "<text text-anchor=\"start\" x=\"323.5\" y=\"-126.8\" font-family=\"Helvetica,sans-Serif\" font-size=\"14.00\">value = [125, 6]</text>\n",
       "<text text-anchor=\"start\" x=\"317.5\" y=\"-111.8\" font-family=\"Helvetica,sans-Serif\" font-size=\"14.00\">class = malignant</text>\n",
       "</g>\n",
       "<!-- 0&#45;&gt;4 -->\n",
       "<g id=\"edge4\" class=\"edge\">\n",
       "<title>0&#45;&gt;4</title>\n",
       "<path fill=\"none\" stroke=\"black\" d=\"M311.27,-222.91C318.41,-213.92 326.04,-204.32 333.41,-195.05\"/>\n",
       "<polygon fill=\"black\" stroke=\"black\" points=\"336.31,-197.03 339.79,-187.02 330.83,-192.67 336.31,-197.03\"/>\n",
       "<text text-anchor=\"middle\" x=\"342.63\" y=\"-208.16\" font-family=\"Helvetica,sans-Serif\" font-size=\"14.00\">False</text>\n",
       "</g>\n",
       "<!-- 2 -->\n",
       "<g id=\"node3\" class=\"node\">\n",
       "<title>2</title>\n",
       "<path fill=\"#47a4e7\" stroke=\"black\" d=\"M110,-68C110,-68 12,-68 12,-68 6,-68 0,-62 0,-56 0,-56 0,-12 0,-12 0,-6 6,0 12,0 12,0 110,0 110,0 116,0 122,-6 122,-12 122,-12 122,-56 122,-56 122,-62 116,-68 110,-68\"/>\n",
       "<text text-anchor=\"start\" x=\"11\" y=\"-52.8\" font-family=\"Helvetica,sans-Serif\" font-size=\"14.00\">entropy = 0.346</text>\n",
       "<text text-anchor=\"start\" x=\"13.5\" y=\"-37.8\" font-family=\"Helvetica,sans-Serif\" font-size=\"14.00\">samples = 263</text>\n",
       "<text text-anchor=\"start\" x=\"8\" y=\"-22.8\" font-family=\"Helvetica,sans-Serif\" font-size=\"14.00\">value = [17, 246]</text>\n",
       "<text text-anchor=\"start\" x=\"15\" y=\"-7.8\" font-family=\"Helvetica,sans-Serif\" font-size=\"14.00\">class = benign</text>\n",
       "</g>\n",
       "<!-- 1&#45;&gt;2 -->\n",
       "<g id=\"edge2\" class=\"edge\">\n",
       "<title>1&#45;&gt;2</title>\n",
       "<path fill=\"none\" stroke=\"black\" d=\"M139.45,-103.73C128.73,-94.33 117.33,-84.35 106.65,-74.99\"/>\n",
       "<polygon fill=\"black\" stroke=\"black\" points=\"108.84,-72.26 99.01,-68.3 104.23,-77.52 108.84,-72.26\"/>\n",
       "</g>\n",
       "<!-- 3 -->\n",
       "<g id=\"node4\" class=\"node\">\n",
       "<title>3</title>\n",
       "<path fill=\"#cce6f8\" stroke=\"black\" d=\"M244,-68C244,-68 152,-68 152,-68 146,-68 140,-62 140,-56 140,-56 140,-12 140,-12 140,-6 146,0 152,0 152,0 244,0 244,0 250,0 256,-6 256,-12 256,-12 256,-56 256,-56 256,-62 250,-68 244,-68\"/>\n",
       "<text text-anchor=\"start\" x=\"148\" y=\"-52.8\" font-family=\"Helvetica,sans-Serif\" font-size=\"14.00\">entropy = 0.984</text>\n",
       "<text text-anchor=\"start\" x=\"154.5\" y=\"-37.8\" font-family=\"Helvetica,sans-Serif\" font-size=\"14.00\">samples = 61</text>\n",
       "<text text-anchor=\"start\" x=\"149.5\" y=\"-22.8\" font-family=\"Helvetica,sans-Serif\" font-size=\"14.00\">value = [26, 35]</text>\n",
       "<text text-anchor=\"start\" x=\"152\" y=\"-7.8\" font-family=\"Helvetica,sans-Serif\" font-size=\"14.00\">class = benign</text>\n",
       "</g>\n",
       "<!-- 1&#45;&gt;3 -->\n",
       "<g id=\"edge3\" class=\"edge\">\n",
       "<title>1&#45;&gt;3</title>\n",
       "<path fill=\"none\" stroke=\"black\" d=\"M190.47,-103.73C191.38,-95.43 192.34,-86.67 193.26,-78.28\"/>\n",
       "<polygon fill=\"black\" stroke=\"black\" points=\"196.74,-78.62 194.35,-68.3 189.78,-77.86 196.74,-78.62\"/>\n",
       "</g>\n",
       "<!-- 5 -->\n",
       "<g id=\"node6\" class=\"node\">\n",
       "<title>5</title>\n",
       "<path fill=\"#ffffff\" stroke=\"black\" d=\"M410.5,-68C410.5,-68 309.5,-68 309.5,-68 303.5,-68 297.5,-62 297.5,-56 297.5,-56 297.5,-12 297.5,-12 297.5,-6 303.5,0 309.5,0 309.5,0 410.5,0 410.5,0 416.5,0 422.5,-6 422.5,-12 422.5,-12 422.5,-56 422.5,-56 422.5,-62 416.5,-68 410.5,-68\"/>\n",
       "<text text-anchor=\"start\" x=\"318\" y=\"-52.8\" font-family=\"Helvetica,sans-Serif\" font-size=\"14.00\">entropy = 1.0</text>\n",
       "<text text-anchor=\"start\" x=\"316.5\" y=\"-37.8\" font-family=\"Helvetica,sans-Serif\" font-size=\"14.00\">samples = 10</text>\n",
       "<text text-anchor=\"start\" x=\"319.5\" y=\"-22.8\" font-family=\"Helvetica,sans-Serif\" font-size=\"14.00\">value = [5, 5]</text>\n",
       "<text text-anchor=\"start\" x=\"305.5\" y=\"-7.8\" font-family=\"Helvetica,sans-Serif\" font-size=\"14.00\">class = malignant</text>\n",
       "</g>\n",
       "<!-- 4&#45;&gt;5 -->\n",
       "<g id=\"edge5\" class=\"edge\">\n",
       "<title>4&#45;&gt;5</title>\n",
       "<path fill=\"none\" stroke=\"black\" d=\"M367.53,-103.73C366.62,-95.43 365.66,-86.67 364.74,-78.28\"/>\n",
       "<polygon fill=\"black\" stroke=\"black\" points=\"368.22,-77.86 363.65,-68.3 361.26,-78.62 368.22,-77.86\"/>\n",
       "</g>\n",
       "<!-- 6 -->\n",
       "<g id=\"node7\" class=\"node\">\n",
       "<title>6</title>\n",
       "<path fill=\"#e5823b\" stroke=\"black\" d=\"M553.5,-68C553.5,-68 452.5,-68 452.5,-68 446.5,-68 440.5,-62 440.5,-56 440.5,-56 440.5,-12 440.5,-12 440.5,-6 446.5,0 452.5,0 452.5,0 553.5,0 553.5,0 559.5,0 565.5,-6 565.5,-12 565.5,-12 565.5,-56 565.5,-56 565.5,-62 559.5,-68 553.5,-68\"/>\n",
       "<text text-anchor=\"start\" x=\"453\" y=\"-52.8\" font-family=\"Helvetica,sans-Serif\" font-size=\"14.00\">entropy = 0.069</text>\n",
       "<text text-anchor=\"start\" x=\"455.5\" y=\"-37.8\" font-family=\"Helvetica,sans-Serif\" font-size=\"14.00\">samples = 121</text>\n",
       "<text text-anchor=\"start\" x=\"454.5\" y=\"-22.8\" font-family=\"Helvetica,sans-Serif\" font-size=\"14.00\">value = [120, 1]</text>\n",
       "<text text-anchor=\"start\" x=\"448.5\" y=\"-7.8\" font-family=\"Helvetica,sans-Serif\" font-size=\"14.00\">class = malignant</text>\n",
       "</g>\n",
       "<!-- 4&#45;&gt;6 -->\n",
       "<g id=\"edge6\" class=\"edge\">\n",
       "<title>4&#45;&gt;6</title>\n",
       "<path fill=\"none\" stroke=\"black\" d=\"M420.78,-103.73C432.13,-94.24 444.19,-84.16 455.49,-74.72\"/>\n",
       "<polygon fill=\"black\" stroke=\"black\" points=\"457.73,-77.4 463.16,-68.3 453.24,-72.03 457.73,-77.4\"/>\n",
       "</g>\n",
       "</g>\n",
       "</svg>\n"
      ],
      "text/plain": [
       "<graphviz.sources.Source at 0x1bc0a550>"
      ]
     },
     "execution_count": 24,
     "metadata": {},
     "output_type": "execute_result"
    }
   ],
   "source": [
    "# 시각화\n",
    "dot_data2 = tree.export_graphviz(breast_clf_entropy,        # 의사결정나무 모형 대입\n",
    "                               out_file = None,     # file로 변환할 것인가\n",
    "                               feature_names = model_feautre_name, # feature 이름\n",
    "                               class_names = tumar,   # target 이름\n",
    "                               filled = True,        # 그림에 색상을 넣을것인가\n",
    "                               rounded = True,       # 반올림을 진행할 것인가\n",
    "                               special_characters = True)    # 특수문자를 사용하나\n",
    "\n",
    "graph2 = gv.Source(dot_data2)              \n",
    "graph2\n",
    "\n",
    "# ## 이미지로 저장 \n",
    "# gv.Source(dot_data2).render('엔트로피 의사결정나무 분류', format=\"png\")"
   ]
  },
  {
   "cell_type": "code",
   "execution_count": 25,
   "id": "1e76e573",
   "metadata": {},
   "outputs": [
    {
     "name": "stdout",
     "output_type": "stream",
     "text": [
      "Accuracy: 0.89\n"
     ]
    },
    {
     "data": {
      "text/plain": [
       "array([[34, 10],\n",
       "       [ 2, 68]], dtype=int64)"
      ]
     },
     "execution_count": 25,
     "metadata": {},
     "output_type": "execute_result"
    }
   ],
   "source": [
    "from sklearn.metrics import accuracy_score\n",
    "\n",
    "y_pred_cross = breast_clf_entropy.predict(X_test_std)\n",
    "print('Accuracy: %.2f' % accuracy_score(y_test, y_pred_cross))\n",
    "\n",
    "from sklearn.metrics import confusion_matrix\n",
    "confusion_matrix(y_test, y_pred_cross)"
   ]
  },
  {
   "cell_type": "markdown",
   "id": "b433624e",
   "metadata": {},
   "source": [
    "### [참조] 모델 개선 - cross validation "
   ]
  },
  {
   "cell_type": "code",
   "execution_count": 26,
   "id": "d6fc63ee",
   "metadata": {},
   "outputs": [],
   "source": [
    "## 모델 개선 - cross validation \n",
    "# cross-validation library\n",
    "from sklearn.model_selection import cross_val_score\n",
    "\n",
    "k_range = range(1,21) # k를 1~20까지 고려하여 최적의 k를 찾을 것\n",
    "k_score = []          # 각 k들의 성능을 비교하기 위한 리스트생성\n",
    "\n",
    "for i in k_range :\n",
    "    # Information Gain - entropy\n",
    "    breast_clf_entropy = DecisionTreeClassifier(criterion = \"entropy\",  max_depth = i, random_state = 30)  \n",
    "     # 10-fold cross-validation\n",
    "    scores = cross_val_score(breast_clf_entropy,X_train_std,y_train,cv=10,scoring = \"accuracy\")   \n",
    "     # 10-fold 각각 정확도의 평균으로 성능계산 \n",
    "    k_score.append(scores.mean())     "
   ]
  },
  {
   "cell_type": "code",
   "execution_count": 27,
   "id": "e5cb6f7a",
   "metadata": {},
   "outputs": [
    {
     "data": {
      "image/png": "[encoded data removed]",
      "text/plain": [
       "<Figure size 432x288 with 1 Axes>"
      ]
     },
     "metadata": {
      "needs_background": "light"
     },
     "output_type": "display_data"
    }
   ],
   "source": [
    "plt.plot(k_range, k_score)\n",
    "plt.xlabel('Value of Max_depth for Cross entropy')\n",
    "plt.ylabel('Cross-Validation Accuracy')\n",
    "plt.show()"
   ]
  },
  {
   "cell_type": "code",
   "execution_count": 28,
   "id": "4a567605",
   "metadata": {},
   "outputs": [
    {
     "name": "stdout",
     "output_type": "stream",
     "text": [
      "Accuracy: 0.91\n"
     ]
    },
    {
     "data": {
      "text/plain": [
       "array([[39,  5],\n",
       "       [ 5, 65]], dtype=int64)"
      ]
     },
     "execution_count": 28,
     "metadata": {},
     "output_type": "execute_result"
    }
   ],
   "source": [
    "## entropy 의사결정나무 분류 Cross validation 결과 적용 \n",
    "# Information Gain - entropy\n",
    "\n",
    "breast_tree_entropy = DecisionTreeClassifier(criterion = \"entropy\",  max_depth = 6, random_state = 30)  \n",
    "breast_tree_entropy = breast_tree_entropy.fit(X_train_std, y_train)     \n",
    "\n",
    "from sklearn.metrics import accuracy_score\n",
    "\n",
    "y_pred_cross2 = breast_tree_entropy.predict(X_test_std)\n",
    "print('Accuracy: %.2f' % accuracy_score(y_test, y_pred_cross2))\n",
    "\n",
    "from sklearn.metrics import confusion_matrix\n",
    "confusion_matrix(y_test, y_pred_cross2)"
   ]
  },
  {
   "cell_type": "code",
   "execution_count": 29,
   "id": "c2c89207",
   "metadata": {},
   "outputs": [
    {
     "data": {
      "text/html": [
       "<div>\n",
       "<style scoped>\n",
       "    .dataframe tbody tr th:only-of-type {\n",
       "        vertical-align: middle;\n",
       "    }\n",
       "\n",
       "    .dataframe tbody tr th {\n",
       "        vertical-align: top;\n",
       "    }\n",
       "\n",
       "    .dataframe thead th {\n",
       "        text-align: right;\n",
       "    }\n",
       "</style>\n",
       "<table border=\"1\" class=\"dataframe\">\n",
       "  <thead>\n",
       "    <tr style=\"text-align: right;\">\n",
       "      <th></th>\n",
       "      <th>mean_radius</th>\n",
       "      <th>mean_texture</th>\n",
       "      <th>mean_perimeter</th>\n",
       "    </tr>\n",
       "  </thead>\n",
       "  <tbody>\n",
       "    <tr>\n",
       "      <th>feature_importance</th>\n",
       "      <td>0.041175</td>\n",
       "      <td>0.185841</td>\n",
       "      <td>0.772984</td>\n",
       "    </tr>\n",
       "  </tbody>\n",
       "</table>\n",
       "</div>"
      ],
      "text/plain": [
       "                    mean_radius  mean_texture  mean_perimeter\n",
       "feature_importance     0.041175      0.185841        0.772984"
      ]
     },
     "execution_count": 29,
     "metadata": {},
     "output_type": "execute_result"
    }
   ],
   "source": [
    "## 트리 분기 과정의 중요도 \n",
    "input_impor_entropy = breast_tree_entropy.feature_importances_.reshape((1, -1))\n",
    "                                                       \n",
    "feature_importance = pd.DataFrame(input_impor_entropy, columns=model_feautre_name, index=['feature_importance'])\n",
    "feature_importance\n"
   ]
  },
  {
   "cell_type": "markdown",
   "id": "8a01ddd1",
   "metadata": {},
   "source": [
    "## Decision regression Tree (의사결정회귀나무)\n",
    "\n",
    "-  종속변수(Class) : 연속형\n",
    "\n",
    "### from sklearn.tree import DecisionTreeRegressor\n",
    "- criterion : mse, friedman_mse, mae(default=”mse”)\n",
    "- max_depth (int) : 생성할 트리의 높이\n",
    "- min_samples_split (int) : 분기를 수행하는 최소한의 데이터 수\n",
    "- max_leaf_nodes (int) : 리프 노드가 가지고 있을 수 있는 최대 데이터 수\n",
    "- random_state (int) : 내부적으로 사용되는 난수 값"
   ]
  },
  {
   "cell_type": "code",
   "execution_count": 30,
   "id": "0863b7a7",
   "metadata": {},
   "outputs": [
    {
     "name": "stdout",
     "output_type": "stream",
     "text": [
      "(506, 14)\n"
     ]
    },
    {
     "data": {
      "text/html": [
       "<div>\n",
       "<style scoped>\n",
       "    .dataframe tbody tr th:only-of-type {\n",
       "        vertical-align: middle;\n",
       "    }\n",
       "\n",
       "    .dataframe tbody tr th {\n",
       "        vertical-align: top;\n",
       "    }\n",
       "\n",
       "    .dataframe thead th {\n",
       "        text-align: right;\n",
       "    }\n",
       "</style>\n",
       "<table border=\"1\" class=\"dataframe\">\n",
       "  <thead>\n",
       "    <tr style=\"text-align: right;\">\n",
       "      <th></th>\n",
       "      <th>CRIM</th>\n",
       "      <th>ZN</th>\n",
       "      <th>INDUS</th>\n",
       "      <th>CHAS</th>\n",
       "      <th>NOX</th>\n",
       "      <th>RM</th>\n",
       "      <th>AGE</th>\n",
       "      <th>DIS</th>\n",
       "      <th>RAD</th>\n",
       "      <th>TAX</th>\n",
       "      <th>PTRATIO</th>\n",
       "      <th>B</th>\n",
       "      <th>LSTAT</th>\n",
       "      <th>MEDV</th>\n",
       "    </tr>\n",
       "  </thead>\n",
       "  <tbody>\n",
       "    <tr>\n",
       "      <th>0</th>\n",
       "      <td>0.00632</td>\n",
       "      <td>18.0</td>\n",
       "      <td>2.31</td>\n",
       "      <td>0.0</td>\n",
       "      <td>0.538</td>\n",
       "      <td>6.575</td>\n",
       "      <td>65.2</td>\n",
       "      <td>4.0900</td>\n",
       "      <td>1.0</td>\n",
       "      <td>296.0</td>\n",
       "      <td>15.3</td>\n",
       "      <td>396.90</td>\n",
       "      <td>4.98</td>\n",
       "      <td>24.0</td>\n",
       "    </tr>\n",
       "    <tr>\n",
       "      <th>1</th>\n",
       "      <td>0.02731</td>\n",
       "      <td>0.0</td>\n",
       "      <td>7.07</td>\n",
       "      <td>0.0</td>\n",
       "      <td>0.469</td>\n",
       "      <td>6.421</td>\n",
       "      <td>78.9</td>\n",
       "      <td>4.9671</td>\n",
       "      <td>2.0</td>\n",
       "      <td>242.0</td>\n",
       "      <td>17.8</td>\n",
       "      <td>396.90</td>\n",
       "      <td>9.14</td>\n",
       "      <td>21.6</td>\n",
       "    </tr>\n",
       "    <tr>\n",
       "      <th>2</th>\n",
       "      <td>0.02729</td>\n",
       "      <td>0.0</td>\n",
       "      <td>7.07</td>\n",
       "      <td>0.0</td>\n",
       "      <td>0.469</td>\n",
       "      <td>7.185</td>\n",
       "      <td>61.1</td>\n",
       "      <td>4.9671</td>\n",
       "      <td>2.0</td>\n",
       "      <td>242.0</td>\n",
       "      <td>17.8</td>\n",
       "      <td>392.83</td>\n",
       "      <td>4.03</td>\n",
       "      <td>34.7</td>\n",
       "    </tr>\n",
       "  </tbody>\n",
       "</table>\n",
       "</div>"
      ],
      "text/plain": [
       "      CRIM    ZN  INDUS  CHAS    NOX     RM   AGE     DIS  RAD    TAX  \\\n",
       "0  0.00632  18.0   2.31   0.0  0.538  6.575  65.2  4.0900  1.0  296.0   \n",
       "1  0.02731   0.0   7.07   0.0  0.469  6.421  78.9  4.9671  2.0  242.0   \n",
       "2  0.02729   0.0   7.07   0.0  0.469  7.185  61.1  4.9671  2.0  242.0   \n",
       "\n",
       "   PTRATIO       B  LSTAT  MEDV  \n",
       "0     15.3  396.90   4.98  24.0  \n",
       "1     17.8  396.90   9.14  21.6  \n",
       "2     17.8  392.83   4.03  34.7  "
      ]
     },
     "execution_count": 30,
     "metadata": {},
     "output_type": "execute_result"
    }
   ],
   "source": [
    "from sklearn.datasets import load_boston\n",
    "\n",
    "# Boston Housing Price (보스턴 주택 가격 데이터)\n",
    "data_b = load_boston()\n",
    "df_b = pd.DataFrame(data_b.data, columns=data_b.feature_names)\n",
    " \n",
    "\n",
    "# medv target data \n",
    "df_b['MEDV'] = data_b.target\n",
    "print(df_b.shape)\n",
    "df_b.head(3)"
   ]
  },
  {
   "cell_type": "code",
   "execution_count": 31,
   "id": "223d6232",
   "metadata": {},
   "outputs": [],
   "source": [
    "# 데이터 분할 \n",
    "X_train_b, X_test_b, y_train_b, y_test_b = train_test_split(data_b.data,\n",
    "                                                            data_b.target, \n",
    "                                                            test_size=0.2, \n",
    "                                                            random_state=30)"
   ]
  },
  {
   "cell_type": "markdown",
   "id": "ff9aa10f",
   "metadata": {},
   "source": [
    "### 전체 속성 사용"
   ]
  },
  {
   "cell_type": "code",
   "execution_count": 32,
   "id": "29c9a0fc",
   "metadata": {},
   "outputs": [
    {
     "name": "stdout",
     "output_type": "stream",
     "text": [
      "예측 결과: 16.10 (No Feature Selection)\n"
     ]
    }
   ],
   "source": [
    "## 의사결정 회귀 모델 학습 \n",
    "from sklearn.tree import DecisionTreeRegressor\n",
    "\n",
    "D_regressor = DecisionTreeRegressor()\n",
    "D_regressor = D_regressor.fit(X_train_b, y_train_b)\n",
    "\n",
    "client = [[11.95, 0.00, 18.100, 0, 0.6590, 5.6090, 90.00, 1.385, 24, 680.0, 20.20, 332.09, 12.13]]\n",
    "\n",
    "pred_house_price = D_regressor.predict(client)[0]\n",
    "\n",
    "print(\"예측 결과: {0:.2f}\".format(pred_house_price), \"(No Feature Selection)\")"
   ]
  },
  {
   "cell_type": "code",
   "execution_count": 33,
   "id": "67bb1956",
   "metadata": {},
   "outputs": [
    {
     "name": "stdout",
     "output_type": "stream",
     "text": [
      "MSE : 13.567941176470587\n",
      "RMSE: 3.683468633838299\n",
      "R^2 score: 0.7867307381077879\n",
      "R^2 score 계산: 0.7867307381077879\n"
     ]
    }
   ],
   "source": [
    "# 테스트셋 예측 \n",
    "y_pred_d_r = D_regressor.predict(X_test_b)\n",
    "\n",
    "# MSE, r2_score \n",
    "from sklearn.metrics import mean_squared_error, r2_score \n",
    "mse_r = mean_squared_error(y_test_b, y_pred_d_r)\n",
    "print(\"MSE :\", mse_r)\n",
    "\n",
    "# RMSE\n",
    "rmse = np.sqrt(mse_r)\n",
    "print(\"RMSE:\", rmse)\n",
    "\n",
    "# 결졍 계수(score) \n",
    "print(\"R^2 score:\", D_regressor.score(X_test_b, y_test_b))\n",
    "\n",
    "r2_points = r2_score(y_test_b, y_pred_d_r)\n",
    "print(\"R^2 score 계산:\", r2_points)"
   ]
  },
  {
   "cell_type": "code",
   "execution_count": 34,
   "id": "8268e194",
   "metadata": {},
   "outputs": [
    {
     "data": {
      "text/html": [
       "<div>\n",
       "<style scoped>\n",
       "    .dataframe tbody tr th:only-of-type {\n",
       "        vertical-align: middle;\n",
       "    }\n",
       "\n",
       "    .dataframe tbody tr th {\n",
       "        vertical-align: top;\n",
       "    }\n",
       "\n",
       "    .dataframe thead th {\n",
       "        text-align: right;\n",
       "    }\n",
       "</style>\n",
       "<table border=\"1\" class=\"dataframe\">\n",
       "  <thead>\n",
       "    <tr style=\"text-align: right;\">\n",
       "      <th></th>\n",
       "      <th>CRIM</th>\n",
       "      <th>ZN</th>\n",
       "      <th>INDUS</th>\n",
       "      <th>CHAS</th>\n",
       "      <th>NOX</th>\n",
       "      <th>RM</th>\n",
       "      <th>AGE</th>\n",
       "      <th>DIS</th>\n",
       "      <th>RAD</th>\n",
       "      <th>TAX</th>\n",
       "      <th>PTRATIO</th>\n",
       "      <th>B</th>\n",
       "      <th>LSTAT</th>\n",
       "    </tr>\n",
       "  </thead>\n",
       "  <tbody>\n",
       "    <tr>\n",
       "      <th>feature_importance</th>\n",
       "      <td>0.046294</td>\n",
       "      <td>0.001357</td>\n",
       "      <td>0.004232</td>\n",
       "      <td>0.000335</td>\n",
       "      <td>0.030767</td>\n",
       "      <td>0.574524</td>\n",
       "      <td>0.008506</td>\n",
       "      <td>0.086621</td>\n",
       "      <td>0.000239</td>\n",
       "      <td>0.011082</td>\n",
       "      <td>0.018895</td>\n",
       "      <td>0.00768</td>\n",
       "      <td>0.209468</td>\n",
       "    </tr>\n",
       "  </tbody>\n",
       "</table>\n",
       "</div>"
      ],
      "text/plain": [
       "                        CRIM        ZN     INDUS      CHAS       NOX  \\\n",
       "feature_importance  0.046294  0.001357  0.004232  0.000335  0.030767   \n",
       "\n",
       "                          RM       AGE       DIS       RAD       TAX  \\\n",
       "feature_importance  0.574524  0.008506  0.086621  0.000239  0.011082   \n",
       "\n",
       "                     PTRATIO        B     LSTAT  \n",
       "feature_importance  0.018895  0.00768  0.209468  "
      ]
     },
     "execution_count": 34,
     "metadata": {},
     "output_type": "execute_result"
    }
   ],
   "source": [
    "## 트리 분기 과정의 중요도 \n",
    "input_impor_D_all = D_regressor.feature_importances_.reshape((1, -1))\n",
    "                                                       \n",
    "feature_importance = pd.DataFrame(input_impor_D_all, columns=data_b.feature_names, index=['feature_importance'])\n",
    "feature_importance"
   ]
  },
  {
   "cell_type": "markdown",
   "id": "ee7ed0d9",
   "metadata": {},
   "source": [
    "### 3개 속성 사용 & 데이터 표준화"
   ]
  },
  {
   "cell_type": "code",
   "execution_count": 35,
   "id": "b4669a03",
   "metadata": {},
   "outputs": [],
   "source": [
    "## 3개 속성 적용 \n",
    "\n",
    "model_f_name_r = ['RM', 'LSTAT', 'PTRATIO']\n",
    "\n",
    "data_etc = df_b[model_f_name_r]\n",
    "from sklearn.preprocessing import StandardScaler\n",
    "## 스케일링 & 정규화\n",
    "scaler = StandardScaler()\n",
    "data_sclar =scaler.fit_transform(data_etc)\n",
    "\n",
    "X_train_b_e, X_test_b_e, y_train_b_e, y_test_b_e = train_test_split(data_sclar, \n",
    "                                                                    data_b.target, \n",
    "                                                                    test_size=0.2, \n",
    "                                                                    random_state=30)"
   ]
  },
  {
   "cell_type": "code",
   "execution_count": 36,
   "id": "8a74d01a",
   "metadata": {},
   "outputs": [],
   "source": [
    "# data_b.target"
   ]
  },
  {
   "cell_type": "code",
   "execution_count": 37,
   "id": "f6cd242e",
   "metadata": {},
   "outputs": [
    {
     "name": "stdout",
     "output_type": "stream",
     "text": [
      "Predicted value of client's home: 21.90 (No Feature Selection)\n"
     ]
    }
   ],
   "source": [
    "# 모델 학습 \n",
    "D_e_regressor = DecisionTreeRegressor(max_depth=3)\n",
    "D_e_regressor = D_e_regressor.fit(X_train_b_e, y_train_b_e)\n",
    "\n",
    "# 특정 값으로 예측 값 확인 \n",
    "client = [[5.6090, 12.13, 20.20]]\n",
    "\n",
    "pred_house_price = D_e_regressor.predict(client)[0]\n",
    "\n",
    "print(\"Predicted value of client's home: {0:.2f}\".format(pred_house_price), \"(No Feature Selection)\")"
   ]
  },
  {
   "cell_type": "code",
   "execution_count": 38,
   "id": "3a37b966",
   "metadata": {},
   "outputs": [
    {
     "name": "stdout",
     "output_type": "stream",
     "text": [
      "MSE: 13.788127575303598\n",
      "RMSE: 3.7132368057132576\n",
      "R^2: 0.7832697125809928\n",
      "R^2 계산: 0.7832697125809928\n"
     ]
    }
   ],
   "source": [
    "# 테스트셋 예측 \n",
    "y_pred_d_r_b_e = D_e_regressor.predict(X_test_b_e)\n",
    "\n",
    "# MSE, r2_score \n",
    "from sklearn.metrics import mean_squared_error, r2_score \n",
    "mse_r = mean_squared_error(y_test_b_e, y_pred_d_r_b_e)\n",
    "print(\"MSE:\", mse_r)\n",
    "\n",
    "# RMSE\n",
    "rmse = np.sqrt(mse_r)\n",
    "print(\"RMSE:\", rmse)\n",
    "\n",
    "# 결졍 계수(score) \n",
    "print(\"R^2:\", D_e_regressor.score(X_test_b_e, y_test_b_e))\n",
    "\n",
    "r2_points = r2_score(y_test_b_e, y_pred_d_r_b_e)\n",
    "print(\"R^2 계산:\", r2_points)"
   ]
  },
  {
   "cell_type": "code",
   "execution_count": 39,
   "id": "5f9f3955",
   "metadata": {},
   "outputs": [
    {
     "data": {
      "text/html": [
       "<div>\n",
       "<style scoped>\n",
       "    .dataframe tbody tr th:only-of-type {\n",
       "        vertical-align: middle;\n",
       "    }\n",
       "\n",
       "    .dataframe tbody tr th {\n",
       "        vertical-align: top;\n",
       "    }\n",
       "\n",
       "    .dataframe thead th {\n",
       "        text-align: right;\n",
       "    }\n",
       "</style>\n",
       "<table border=\"1\" class=\"dataframe\">\n",
       "  <thead>\n",
       "    <tr style=\"text-align: right;\">\n",
       "      <th></th>\n",
       "      <th>RM</th>\n",
       "      <th>LSTAT</th>\n",
       "      <th>PTRATIO</th>\n",
       "    </tr>\n",
       "  </thead>\n",
       "  <tbody>\n",
       "    <tr>\n",
       "      <th>feature_importance</th>\n",
       "      <td>0.682206</td>\n",
       "      <td>0.317794</td>\n",
       "      <td>0.0</td>\n",
       "    </tr>\n",
       "  </tbody>\n",
       "</table>\n",
       "</div>"
      ],
      "text/plain": [
       "                          RM     LSTAT  PTRATIO\n",
       "feature_importance  0.682206  0.317794      0.0"
      ]
     },
     "execution_count": 39,
     "metadata": {},
     "output_type": "execute_result"
    }
   ],
   "source": [
    "\n",
    "## 트리 분기 과정의 중요도 \n",
    "input_impor_D_all = D_e_regressor.feature_importances_.reshape((1, -1))\n",
    "                                                       \n",
    "feature_importance = pd.DataFrame(input_impor_D_all, \n",
    "                                  columns=model_f_name_r, \n",
    "                                  index=['feature_importance'])\n",
    "feature_importance"
   ]
  },
  {
   "cell_type": "code",
   "execution_count": null,
   "id": "89cda64a",
   "metadata": {},
   "outputs": [],
   "source": []
  },
  {
   "cell_type": "code",
   "execution_count": 40,
   "id": "d6525d1d",
   "metadata": {},
   "outputs": [
    {
     "data": {
      "text/plain": [
       "[<matplotlib.lines.Line2D at 0x1c401438>]"
      ]
     },
     "execution_count": 40,
     "metadata": {},
     "output_type": "execute_result"
    },
    {
     "data": {
      "image/png": "[encoded data removed]",
      "text/plain": [
       "<Figure size 432x288 with 1 Axes>"
      ]
     },
     "metadata": {
      "needs_background": "light"
     },
     "output_type": "display_data"
    },
    {
     "data": {
      "image/png": "[encoded data removed]",
      "text/plain": [
       "<Figure size 432x288 with 1 Axes>"
      ]
     },
     "metadata": {
      "needs_background": "light"
     },
     "output_type": "display_data"
    }
   ],
   "source": [
    "## 전체 속성 사용과 3개 속성 사용 잔차 비교 시각화 \n",
    "\n",
    "## 전체 속성 사용 \n",
    "y_pred_d_r = D_regressor.predict(X_test_b)\n",
    "plt.figure()\n",
    "plt.title(\"Decision Tree Regressor (Model Actual vs Precited) with All Features\")\n",
    "plt.xlabel('TEST SET')\n",
    "plt.ylabel('MEDV')\n",
    "plt.plot(y_pred_d_r, 'o-', color=\"b\", label=\"Predicted MEDV\")\n",
    "plt.plot(y_test_b, 'o-', color=\"g\", label=\"Actual MEDV\")\n",
    "\n",
    "## 3개 속성 사용 \n",
    "y_pred_f_e = D_e_regressor.predict(X_test_b_e)\n",
    "plt.figure()\n",
    "plt.title(\"Decision Tree Regressor (Model Actual vs Precited) with Selected Features\")\n",
    "plt.xlabel('TEST SET')\n",
    "plt.ylabel('MEDV')\n",
    "plt.plot(y_pred_f_e, 'o-', color=\"r\", label=\"Predicted MEDV\")\n",
    "plt.plot(y_test_b_e, 'o-', color=\"g\", label=\"Actual MEDV\")"
   ]
  },
  {
   "cell_type": "code",
   "execution_count": 41,
   "id": "992d15d2",
   "metadata": {},
   "outputs": [],
   "source": [
    "# tumar"
   ]
  },
  {
   "cell_type": "code",
   "execution_count": 43,
   "id": "d5db4079",
   "metadata": {},
   "outputs": [
    {
     "data": {
      "image/svg+xml": [
       "<?xml version=\"1.0\" encoding=\"UTF-8\" standalone=\"no\"?>\n",
       "<!DOCTYPE svg PUBLIC \"-//W3C//DTD SVG 1.1//EN\"\n",
       " \"http://www.w3.org/Graphics/SVG/1.1/DTD/svg11.dtd\">\n",
       "<!-- Generated by graphviz version 5.0.0 (20220707.1540)\n",
       " -->\n",
       "<!-- Title: Tree Pages: 1 -->\n",
       "<svg width=\"994pt\" height=\"373pt\"\n",
       " viewBox=\"0.00 0.00 993.50 373.00\" xmlns=\"http://www.w3.org/2000/svg\" xmlns:xlink=\"http://www.w3.org/1999/xlink\">\n",
       "<g id=\"graph0\" class=\"graph\" transform=\"scale(1 1) rotate(0) translate(4 369)\">\n",
       "<title>Tree</title>\n",
       "<polygon fill=\"white\" stroke=\"transparent\" points=\"-4,4 -4,-369 989.5,-369 989.5,4 -4,4\"/>\n",
       "<!-- 0 -->\n",
       "<g id=\"node1\" class=\"node\">\n",
       "<title>0</title>\n",
       "<path fill=\"#f7d7c1\" stroke=\"black\" d=\"M517.5,-365C517.5,-365 430.5,-365 430.5,-365 424.5,-365 418.5,-359 418.5,-353 418.5,-353 418.5,-309 418.5,-309 418.5,-303 424.5,-297 430.5,-297 430.5,-297 517.5,-297 517.5,-297 523.5,-297 529.5,-303 529.5,-309 529.5,-309 529.5,-353 529.5,-353 529.5,-359 523.5,-365 517.5,-365\"/>\n",
       "<text text-anchor=\"start\" x=\"437\" y=\"-349.8\" font-family=\"Helvetica,sans-Serif\" font-size=\"14.00\">RM ≤ 0.905</text>\n",
       "<text text-anchor=\"start\" x=\"429.5\" y=\"-334.8\" font-family=\"Helvetica,sans-Serif\" font-size=\"14.00\">mse = 89.671</text>\n",
       "<text text-anchor=\"start\" x=\"426.5\" y=\"-319.8\" font-family=\"Helvetica,sans-Serif\" font-size=\"14.00\">samples = 404</text>\n",
       "<text text-anchor=\"start\" x=\"427\" y=\"-304.8\" font-family=\"Helvetica,sans-Serif\" font-size=\"14.00\">value = 22.538</text>\n",
       "</g>\n",
       "<!-- 1 -->\n",
       "<g id=\"node2\" class=\"node\">\n",
       "<title>1</title>\n",
       "<path fill=\"#f9e2d1\" stroke=\"black\" d=\"M452,-261C452,-261 362,-261 362,-261 356,-261 350,-255 350,-249 350,-249 350,-205 350,-205 350,-199 356,-193 362,-193 362,-193 452,-193 452,-193 458,-193 464,-199 464,-205 464,-205 464,-249 464,-249 464,-255 458,-261 452,-261\"/>\n",
       "<text text-anchor=\"start\" x=\"358\" y=\"-245.8\" font-family=\"Helvetica,sans-Serif\" font-size=\"14.00\">LSTAT ≤ 0.245</text>\n",
       "<text text-anchor=\"start\" x=\"362.5\" y=\"-230.8\" font-family=\"Helvetica,sans-Serif\" font-size=\"14.00\">mse = 43.375</text>\n",
       "<text text-anchor=\"start\" x=\"359.5\" y=\"-215.8\" font-family=\"Helvetica,sans-Serif\" font-size=\"14.00\">samples = 341</text>\n",
       "<text text-anchor=\"start\" x=\"360\" y=\"-200.8\" font-family=\"Helvetica,sans-Serif\" font-size=\"14.00\">value = 19.793</text>\n",
       "</g>\n",
       "<!-- 0&#45;&gt;1 -->\n",
       "<g id=\"edge1\" class=\"edge\">\n",
       "<title>0&#45;&gt;1</title>\n",
       "<path fill=\"none\" stroke=\"black\" d=\"M452.25,-296.88C446.57,-288.24 440.38,-278.82 434.45,-269.79\"/>\n",
       "<polygon fill=\"black\" stroke=\"black\" points=\"437.29,-267.74 428.87,-261.3 431.44,-271.58 437.29,-267.74\"/>\n",
       "<text text-anchor=\"middle\" x=\"423.8\" y=\"-282.08\" font-family=\"Helvetica,sans-Serif\" font-size=\"14.00\">True</text>\n",
       "</g>\n",
       "<!-- 8 -->\n",
       "<g id=\"node9\" class=\"node\">\n",
       "<title>8</title>\n",
       "<path fill=\"#eba06a\" stroke=\"black\" d=\"M640,-261C640,-261 554,-261 554,-261 548,-261 542,-255 542,-249 542,-249 542,-205 542,-205 542,-199 548,-193 554,-193 554,-193 640,-193 640,-193 646,-193 652,-199 652,-205 652,-205 652,-249 652,-249 652,-255 646,-261 640,-261\"/>\n",
       "<text text-anchor=\"start\" x=\"560\" y=\"-245.8\" font-family=\"Helvetica,sans-Serif\" font-size=\"14.00\">RM ≤ 1.639</text>\n",
       "<text text-anchor=\"start\" x=\"552.5\" y=\"-230.8\" font-family=\"Helvetica,sans-Serif\" font-size=\"14.00\">mse = 78.779</text>\n",
       "<text text-anchor=\"start\" x=\"553.5\" y=\"-215.8\" font-family=\"Helvetica,sans-Serif\" font-size=\"14.00\">samples = 63</text>\n",
       "<text text-anchor=\"start\" x=\"550\" y=\"-200.8\" font-family=\"Helvetica,sans-Serif\" font-size=\"14.00\">value = 37.394</text>\n",
       "</g>\n",
       "<!-- 0&#45;&gt;8 -->\n",
       "<g id=\"edge8\" class=\"edge\">\n",
       "<title>0&#45;&gt;8</title>\n",
       "<path fill=\"none\" stroke=\"black\" d=\"M513.93,-296.88C525.11,-287.62 537.36,-277.45 548.95,-267.85\"/>\n",
       "<polygon fill=\"black\" stroke=\"black\" points=\"551.38,-270.38 556.84,-261.3 546.91,-264.99 551.38,-270.38\"/>\n",
       "<text text-anchor=\"middle\" x=\"554.52\" y=\"-282.49\" font-family=\"Helvetica,sans-Serif\" font-size=\"14.00\">False</text>\n",
       "</g>\n",
       "<!-- 2 -->\n",
       "<g id=\"node3\" class=\"node\">\n",
       "<title>2</title>\n",
       "<path fill=\"#f6d5bc\" stroke=\"black\" d=\"M231.5,-157C231.5,-157 136.5,-157 136.5,-157 130.5,-157 124.5,-151 124.5,-145 124.5,-145 124.5,-101 124.5,-101 124.5,-95 130.5,-89 136.5,-89 136.5,-89 231.5,-89 231.5,-89 237.5,-89 243.5,-95 243.5,-101 243.5,-101 243.5,-145 243.5,-145 243.5,-151 237.5,-157 231.5,-157\"/>\n",
       "<text text-anchor=\"start\" x=\"132.5\" y=\"-141.8\" font-family=\"Helvetica,sans-Serif\" font-size=\"14.00\">LSTAT ≤ &#45;1.085</text>\n",
       "<text text-anchor=\"start\" x=\"139.5\" y=\"-126.8\" font-family=\"Helvetica,sans-Serif\" font-size=\"14.00\">mse = 28.601</text>\n",
       "<text text-anchor=\"start\" x=\"136.5\" y=\"-111.8\" font-family=\"Helvetica,sans-Serif\" font-size=\"14.00\">samples = 203</text>\n",
       "<text text-anchor=\"start\" x=\"137\" y=\"-96.8\" font-family=\"Helvetica,sans-Serif\" font-size=\"14.00\">value = 23.306</text>\n",
       "</g>\n",
       "<!-- 1&#45;&gt;2 -->\n",
       "<g id=\"edge2\" class=\"edge\">\n",
       "<title>1&#45;&gt;2</title>\n",
       "<path fill=\"none\" stroke=\"black\" d=\"M349.86,-199.86C320.39,-186.38 284.21,-169.84 253.17,-155.64\"/>\n",
       "<polygon fill=\"black\" stroke=\"black\" points=\"254.27,-152.29 243.72,-151.31 251.35,-158.66 254.27,-152.29\"/>\n",
       "</g>\n",
       "<!-- 5 -->\n",
       "<g id=\"node6\" class=\"node\">\n",
       "<title>5</title>\n",
       "<path fill=\"#fdf5ef\" stroke=\"black\" d=\"M452,-157C452,-157 362,-157 362,-157 356,-157 350,-151 350,-145 350,-145 350,-101 350,-101 350,-95 356,-89 362,-89 362,-89 452,-89 452,-89 458,-89 464,-95 464,-101 464,-101 464,-145 464,-145 464,-151 458,-157 452,-157\"/>\n",
       "<text text-anchor=\"start\" x=\"358\" y=\"-141.8\" font-family=\"Helvetica,sans-Serif\" font-size=\"14.00\">LSTAT ≤ 1.016</text>\n",
       "<text text-anchor=\"start\" x=\"362.5\" y=\"-126.8\" font-family=\"Helvetica,sans-Serif\" font-size=\"14.00\">mse = 20.239</text>\n",
       "<text text-anchor=\"start\" x=\"359.5\" y=\"-111.8\" font-family=\"Helvetica,sans-Serif\" font-size=\"14.00\">samples = 138</text>\n",
       "<text text-anchor=\"start\" x=\"360\" y=\"-96.8\" font-family=\"Helvetica,sans-Serif\" font-size=\"14.00\">value = 14.625</text>\n",
       "</g>\n",
       "<!-- 1&#45;&gt;5 -->\n",
       "<g id=\"edge5\" class=\"edge\">\n",
       "<title>1&#45;&gt;5</title>\n",
       "<path fill=\"none\" stroke=\"black\" d=\"M407,-192.88C407,-184.78 407,-175.98 407,-167.47\"/>\n",
       "<polygon fill=\"black\" stroke=\"black\" points=\"410.5,-167.3 407,-157.3 403.5,-167.3 410.5,-167.3\"/>\n",
       "</g>\n",
       "<!-- 3 -->\n",
       "<g id=\"node4\" class=\"node\">\n",
       "<title>3</title>\n",
       "<path fill=\"#f0b48a\" stroke=\"black\" d=\"M98,-53C98,-53 12,-53 12,-53 6,-53 0,-47 0,-41 0,-41 0,-12 0,-12 0,-6 6,0 12,0 12,0 98,0 98,0 104,0 110,-6 110,-12 110,-12 110,-41 110,-41 110,-47 104,-53 98,-53\"/>\n",
       "<text text-anchor=\"start\" x=\"10.5\" y=\"-37.8\" font-family=\"Helvetica,sans-Serif\" font-size=\"14.00\">mse = 53.771</text>\n",
       "<text text-anchor=\"start\" x=\"11.5\" y=\"-22.8\" font-family=\"Helvetica,sans-Serif\" font-size=\"14.00\">samples = 17</text>\n",
       "<text text-anchor=\"start\" x=\"8\" y=\"-7.8\" font-family=\"Helvetica,sans-Serif\" font-size=\"14.00\">value = 31.965</text>\n",
       "</g>\n",
       "<!-- 2&#45;&gt;3 -->\n",
       "<g id=\"edge3\" class=\"edge\">\n",
       "<title>2&#45;&gt;3</title>\n",
       "<path fill=\"none\" stroke=\"black\" d=\"M138.88,-88.95C125.77,-79.34 111.48,-68.87 98.47,-59.34\"/>\n",
       "<polygon fill=\"black\" stroke=\"black\" points=\"100.27,-56.32 90.13,-53.24 96.13,-61.97 100.27,-56.32\"/>\n",
       "</g>\n",
       "<!-- 4 -->\n",
       "<g id=\"node5\" class=\"node\">\n",
       "<title>4</title>\n",
       "<path fill=\"#f7d8c1\" stroke=\"black\" d=\"M227.5,-53C227.5,-53 140.5,-53 140.5,-53 134.5,-53 128.5,-47 128.5,-41 128.5,-41 128.5,-12 128.5,-12 128.5,-6 134.5,0 140.5,0 140.5,0 227.5,0 227.5,0 233.5,0 239.5,-6 239.5,-12 239.5,-12 239.5,-41 239.5,-41 239.5,-47 233.5,-53 227.5,-53\"/>\n",
       "<text text-anchor=\"start\" x=\"139.5\" y=\"-37.8\" font-family=\"Helvetica,sans-Serif\" font-size=\"14.00\">mse = 18.822</text>\n",
       "<text text-anchor=\"start\" x=\"136.5\" y=\"-22.8\" font-family=\"Helvetica,sans-Serif\" font-size=\"14.00\">samples = 186</text>\n",
       "<text text-anchor=\"start\" x=\"137\" y=\"-7.8\" font-family=\"Helvetica,sans-Serif\" font-size=\"14.00\">value = 22.515</text>\n",
       "</g>\n",
       "<!-- 2&#45;&gt;4 -->\n",
       "<g id=\"edge4\" class=\"edge\">\n",
       "<title>2&#45;&gt;4</title>\n",
       "<path fill=\"none\" stroke=\"black\" d=\"M184,-88.95C184,-80.72 184,-71.85 184,-63.48\"/>\n",
       "<polygon fill=\"black\" stroke=\"black\" points=\"187.5,-63.24 184,-53.24 180.5,-63.24 187.5,-63.24\"/>\n",
       "</g>\n",
       "<!-- 6 -->\n",
       "<g id=\"node7\" class=\"node\">\n",
       "<title>6</title>\n",
       "<path fill=\"#fbede3\" stroke=\"black\" d=\"M356,-53C356,-53 270,-53 270,-53 264,-53 258,-47 258,-41 258,-41 258,-12 258,-12 258,-6 264,0 270,0 270,0 356,0 356,0 362,0 368,-6 368,-12 368,-12 368,-41 368,-41 368,-47 362,-53 356,-53\"/>\n",
       "<text text-anchor=\"start\" x=\"268.5\" y=\"-37.8\" font-family=\"Helvetica,sans-Serif\" font-size=\"14.00\">mse = 12.883</text>\n",
       "<text text-anchor=\"start\" x=\"269.5\" y=\"-22.8\" font-family=\"Helvetica,sans-Serif\" font-size=\"14.00\">samples = 78</text>\n",
       "<text text-anchor=\"start\" x=\"266\" y=\"-7.8\" font-family=\"Helvetica,sans-Serif\" font-size=\"14.00\">value = 16.728</text>\n",
       "</g>\n",
       "<!-- 5&#45;&gt;6 -->\n",
       "<g id=\"edge6\" class=\"edge\">\n",
       "<title>5&#45;&gt;6</title>\n",
       "<path fill=\"none\" stroke=\"black\" d=\"M374.12,-88.95C364.93,-79.71 354.95,-69.67 345.76,-60.44\"/>\n",
       "<polygon fill=\"black\" stroke=\"black\" points=\"348.13,-57.86 338.6,-53.24 343.17,-62.79 348.13,-57.86\"/>\n",
       "</g>\n",
       "<!-- 7 -->\n",
       "<g id=\"node8\" class=\"node\">\n",
       "<title>7</title>\n",
       "<path fill=\"#ffffff\" stroke=\"black\" d=\"M479.5,-53C479.5,-53 398.5,-53 398.5,-53 392.5,-53 386.5,-47 386.5,-41 386.5,-41 386.5,-12 386.5,-12 386.5,-6 392.5,0 398.5,0 398.5,0 479.5,0 479.5,0 485.5,0 491.5,-6 491.5,-12 491.5,-12 491.5,-41 491.5,-41 491.5,-47 485.5,-53 479.5,-53\"/>\n",
       "<text text-anchor=\"start\" x=\"394.5\" y=\"-37.8\" font-family=\"Helvetica,sans-Serif\" font-size=\"14.00\">mse = 16.572</text>\n",
       "<text text-anchor=\"start\" x=\"395.5\" y=\"-22.8\" font-family=\"Helvetica,sans-Serif\" font-size=\"14.00\">samples = 60</text>\n",
       "<text text-anchor=\"start\" x=\"396\" y=\"-7.8\" font-family=\"Helvetica,sans-Serif\" font-size=\"14.00\">value = 11.89</text>\n",
       "</g>\n",
       "<!-- 5&#45;&gt;7 -->\n",
       "<g id=\"edge7\" class=\"edge\">\n",
       "<title>5&#45;&gt;7</title>\n",
       "<path fill=\"none\" stroke=\"black\" d=\"M418.19,-88.95C421.04,-80.53 424.12,-71.45 427,-62.92\"/>\n",
       "<polygon fill=\"black\" stroke=\"black\" points=\"430.39,-63.83 430.28,-53.24 423.76,-61.59 430.39,-63.83\"/>\n",
       "</g>\n",
       "<!-- 9 -->\n",
       "<g id=\"node10\" class=\"node\">\n",
       "<title>9</title>\n",
       "<path fill=\"#efb287\" stroke=\"black\" d=\"M644.5,-157C644.5,-157 549.5,-157 549.5,-157 543.5,-157 537.5,-151 537.5,-145 537.5,-145 537.5,-101 537.5,-101 537.5,-95 543.5,-89 549.5,-89 549.5,-89 644.5,-89 644.5,-89 650.5,-89 656.5,-95 656.5,-101 656.5,-101 656.5,-145 656.5,-145 656.5,-151 650.5,-157 644.5,-157\"/>\n",
       "<text text-anchor=\"start\" x=\"545.5\" y=\"-141.8\" font-family=\"Helvetica,sans-Serif\" font-size=\"14.00\">LSTAT ≤ &#45;0.043</text>\n",
       "<text text-anchor=\"start\" x=\"552.5\" y=\"-126.8\" font-family=\"Helvetica,sans-Serif\" font-size=\"14.00\">mse = 42.925</text>\n",
       "<text text-anchor=\"start\" x=\"553.5\" y=\"-111.8\" font-family=\"Helvetica,sans-Serif\" font-size=\"14.00\">samples = 38</text>\n",
       "<text text-anchor=\"start\" x=\"558\" y=\"-96.8\" font-family=\"Helvetica,sans-Serif\" font-size=\"14.00\">value = 32.5</text>\n",
       "</g>\n",
       "<!-- 8&#45;&gt;9 -->\n",
       "<g id=\"edge9\" class=\"edge\">\n",
       "<title>8&#45;&gt;9</title>\n",
       "<path fill=\"none\" stroke=\"black\" d=\"M597,-192.88C597,-184.78 597,-175.98 597,-167.47\"/>\n",
       "<polygon fill=\"black\" stroke=\"black\" points=\"600.5,-167.3 597,-157.3 593.5,-167.3 600.5,-167.3\"/>\n",
       "</g>\n",
       "<!-- 12 -->\n",
       "<g id=\"node13\" class=\"node\">\n",
       "<title>12</title>\n",
       "<path fill=\"#e6853f\" stroke=\"black\" d=\"M860,-157C860,-157 774,-157 774,-157 768,-157 762,-151 762,-145 762,-145 762,-101 762,-101 762,-95 768,-89 774,-89 774,-89 860,-89 860,-89 866,-89 872,-95 872,-101 872,-101 872,-145 872,-145 872,-151 866,-157 860,-157\"/>\n",
       "<text text-anchor=\"start\" x=\"780\" y=\"-141.8\" font-family=\"Helvetica,sans-Serif\" font-size=\"14.00\">RM ≤ 3.516</text>\n",
       "<text text-anchor=\"start\" x=\"772.5\" y=\"-126.8\" font-family=\"Helvetica,sans-Serif\" font-size=\"14.00\">mse = 41.548</text>\n",
       "<text text-anchor=\"start\" x=\"773.5\" y=\"-111.8\" font-family=\"Helvetica,sans-Serif\" font-size=\"14.00\">samples = 25</text>\n",
       "<text text-anchor=\"start\" x=\"770\" y=\"-96.8\" font-family=\"Helvetica,sans-Serif\" font-size=\"14.00\">value = 44.832</text>\n",
       "</g>\n",
       "<!-- 8&#45;&gt;12 -->\n",
       "<g id=\"edge12\" class=\"edge\">\n",
       "<title>8&#45;&gt;12</title>\n",
       "<path fill=\"none\" stroke=\"black\" d=\"M652.23,-200.39C682.7,-186.27 720.69,-168.65 752.52,-153.9\"/>\n",
       "<polygon fill=\"black\" stroke=\"black\" points=\"754.15,-157 761.75,-149.62 751.2,-150.65 754.15,-157\"/>\n",
       "</g>\n",
       "<!-- 10 -->\n",
       "<g id=\"node11\" class=\"node\">\n",
       "<title>10</title>\n",
       "<path fill=\"#eeae80\" stroke=\"black\" d=\"M608,-53C608,-53 522,-53 522,-53 516,-53 510,-47 510,-41 510,-41 510,-12 510,-12 510,-6 516,0 522,0 522,0 608,0 608,0 614,0 620,-6 620,-12 620,-12 620,-41 620,-41 620,-47 614,-53 608,-53\"/>\n",
       "<text text-anchor=\"start\" x=\"520.5\" y=\"-37.8\" font-family=\"Helvetica,sans-Serif\" font-size=\"14.00\">mse = 22.408</text>\n",
       "<text text-anchor=\"start\" x=\"521.5\" y=\"-22.8\" font-family=\"Helvetica,sans-Serif\" font-size=\"14.00\">samples = 35</text>\n",
       "<text text-anchor=\"start\" x=\"518\" y=\"-7.8\" font-family=\"Helvetica,sans-Serif\" font-size=\"14.00\">value = 33.683</text>\n",
       "</g>\n",
       "<!-- 9&#45;&gt;10 -->\n",
       "<g id=\"edge10\" class=\"edge\">\n",
       "<title>9&#45;&gt;10</title>\n",
       "<path fill=\"none\" stroke=\"black\" d=\"M585.81,-88.95C582.96,-80.53 579.88,-71.45 577,-62.92\"/>\n",
       "<polygon fill=\"black\" stroke=\"black\" points=\"580.24,-61.59 573.72,-53.24 573.61,-63.83 580.24,-61.59\"/>\n",
       "</g>\n",
       "<!-- 11 -->\n",
       "<g id=\"node12\" class=\"node\">\n",
       "<title>11</title>\n",
       "<path fill=\"#fae6d7\" stroke=\"black\" d=\"M731.5,-53C731.5,-53 650.5,-53 650.5,-53 644.5,-53 638.5,-47 638.5,-41 638.5,-41 638.5,-12 638.5,-12 638.5,-6 644.5,0 650.5,0 650.5,0 731.5,0 731.5,0 737.5,0 743.5,-6 743.5,-12 743.5,-12 743.5,-41 743.5,-41 743.5,-47 737.5,-53 731.5,-53\"/>\n",
       "<text text-anchor=\"start\" x=\"646.5\" y=\"-37.8\" font-family=\"Helvetica,sans-Serif\" font-size=\"14.00\">mse = 75.527</text>\n",
       "<text text-anchor=\"start\" x=\"651.5\" y=\"-22.8\" font-family=\"Helvetica,sans-Serif\" font-size=\"14.00\">samples = 3</text>\n",
       "<text text-anchor=\"start\" x=\"652\" y=\"-7.8\" font-family=\"Helvetica,sans-Serif\" font-size=\"14.00\">value = 18.7</text>\n",
       "</g>\n",
       "<!-- 9&#45;&gt;11 -->\n",
       "<g id=\"edge11\" class=\"edge\">\n",
       "<title>9&#45;&gt;11</title>\n",
       "<path fill=\"none\" stroke=\"black\" d=\"M629.88,-88.95C639.07,-79.71 649.05,-69.67 658.24,-60.44\"/>\n",
       "<polygon fill=\"black\" stroke=\"black\" points=\"660.83,-62.79 665.4,-53.24 655.87,-57.86 660.83,-62.79\"/>\n",
       "</g>\n",
       "<!-- 13 -->\n",
       "<g id=\"node14\" class=\"node\">\n",
       "<title>13</title>\n",
       "<path fill=\"#e58139\" stroke=\"black\" d=\"M860,-53C860,-53 774,-53 774,-53 768,-53 762,-47 762,-41 762,-41 762,-12 762,-12 762,-6 768,0 774,0 774,0 860,0 860,0 866,0 872,-6 872,-12 872,-12 872,-41 872,-41 872,-47 866,-53 860,-53\"/>\n",
       "<text text-anchor=\"start\" x=\"772.5\" y=\"-37.8\" font-family=\"Helvetica,sans-Serif\" font-size=\"14.00\">mse = 20.454</text>\n",
       "<text text-anchor=\"start\" x=\"773.5\" y=\"-22.8\" font-family=\"Helvetica,sans-Serif\" font-size=\"14.00\">samples = 24</text>\n",
       "<text text-anchor=\"start\" x=\"770\" y=\"-7.8\" font-family=\"Helvetica,sans-Serif\" font-size=\"14.00\">value = 45.787</text>\n",
       "</g>\n",
       "<!-- 12&#45;&gt;13 -->\n",
       "<g id=\"edge13\" class=\"edge\">\n",
       "<title>12&#45;&gt;13</title>\n",
       "<path fill=\"none\" stroke=\"black\" d=\"M817,-88.95C817,-80.72 817,-71.85 817,-63.48\"/>\n",
       "<polygon fill=\"black\" stroke=\"black\" points=\"820.5,-63.24 817,-53.24 813.5,-63.24 820.5,-63.24\"/>\n",
       "</g>\n",
       "<!-- 14 -->\n",
       "<g id=\"node15\" class=\"node\">\n",
       "<title>14</title>\n",
       "<path fill=\"#f7dac5\" stroke=\"black\" d=\"M973.5,-53C973.5,-53 902.5,-53 902.5,-53 896.5,-53 890.5,-47 890.5,-41 890.5,-41 890.5,-12 890.5,-12 890.5,-6 896.5,0 902.5,0 902.5,0 973.5,0 973.5,0 979.5,0 985.5,-6 985.5,-12 985.5,-12 985.5,-41 985.5,-41 985.5,-47 979.5,-53 973.5,-53\"/>\n",
       "<text text-anchor=\"start\" x=\"903.5\" y=\"-37.8\" font-family=\"Helvetica,sans-Serif\" font-size=\"14.00\">mse = &#45;0.0</text>\n",
       "<text text-anchor=\"start\" x=\"898.5\" y=\"-22.8\" font-family=\"Helvetica,sans-Serif\" font-size=\"14.00\">samples = 1</text>\n",
       "<text text-anchor=\"start\" x=\"899\" y=\"-7.8\" font-family=\"Helvetica,sans-Serif\" font-size=\"14.00\">value = 21.9</text>\n",
       "</g>\n",
       "<!-- 12&#45;&gt;14 -->\n",
       "<g id=\"edge14\" class=\"edge\">\n",
       "<title>12&#45;&gt;14</title>\n",
       "<path fill=\"none\" stroke=\"black\" d=\"M859.32,-88.95C871.5,-79.43 884.77,-69.07 896.88,-59.62\"/>\n",
       "<polygon fill=\"black\" stroke=\"black\" points=\"899.32,-62.15 905.05,-53.24 895.01,-56.63 899.32,-62.15\"/>\n",
       "</g>\n",
       "</g>\n",
       "</svg>\n"
      ],
      "text/plain": [
       "<graphviz.sources.Source at 0x1c423668>"
      ]
     },
     "execution_count": 43,
     "metadata": {},
     "output_type": "execute_result"
    }
   ],
   "source": [
    "# 의사결정 나무 회귀, 3개 속성 시각화\n",
    "dot_data3 = tree.export_graphviz(D_e_regressor,        # 의사결정나무 모형 대입\n",
    "                               out_file = None,     # file로 변환할 것인가\n",
    "                               feature_names = model_f_name_r, # feature 이름\n",
    "                               filled = True,        # 그림에 색상을 넣을것인가\n",
    "                               rounded = True,       # 반올림을 진행할 것인가\n",
    "                               special_characters = True)    # 특수문자를 사용하나\n",
    "\n",
    "graph3 = gv.Source(dot_data3)              \n",
    "graph3\n",
    "\n",
    "## 이미지로 저장 \n",
    "# gv.Source(dot_data3).render('의사결정나무 회귀', format=\"png\")"
   ]
  },
  {
   "cell_type": "code",
   "execution_count": null,
   "id": "e47151d9",
   "metadata": {},
   "outputs": [],
   "source": []
  }
 ],
 "metadata": {
  "kernelspec": {
   "display_name": "Python 3",
   "language": "python",
   "name": "python3"
  },
  "language_info": {
   "codemirror_mode": {
    "name": "ipython",
    "version": 3
   },
   "file_extension": ".py",
   "mimetype": "text/x-python",
   "name": "python",
   "nbconvert_exporter": "python",
   "pygments_lexer": "ipython3",
   "version": "3.6.13"
  }
 },
 "nbformat": 4,
 "nbformat_minor": 5
}
